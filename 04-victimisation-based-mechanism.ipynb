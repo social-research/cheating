{
 "cells": [
  {
   "cell_type": "markdown",
   "metadata": {},
   "source": [
    "04-victimisation-based-mechanism.ipynb\n",
    "======================\n",
    "\n",
    "**Things to do**\n",
    "* Test the results.\n",
    "* Generate mapping tables automatically multiple times (20 tables for testing).\n",
    "* Find the number of unique cheaters who harmed other players severely.\n",
    "* Make code modular.\n",
    "* Need to optimise the code for creating mapping tables.\n",
    "\n",
    "**Sample match ID for testing**\n",
    "* 000213be-6b3b-438a-8d20-c1b57b01a174 (no cheater)\n",
    "* 07a471f7-4776-460d-b896-1306b98b6d19 (one cheater)\n",
    "* 15e457b1-0940-47ca-a730-de0dfd1ccd77 (two cheaters)"
   ]
  },
  {
   "cell_type": "markdown",
   "metadata": {},
   "source": [
    "## Load packages and read tables."
   ]
  },
  {
   "cell_type": "code",
   "execution_count": 1,
   "metadata": {},
   "outputs": [],
   "source": [
    "from functools import reduce\n",
    "from pyspark.sql.functions import col, lit, when\n",
    "import pandas as pd\n",
    "import matplotlib.pyplot as plt\n",
    "import numpy as np\n",
    "import pubg_analysis as pubg"
   ]
  },
  {
   "cell_type": "code",
   "execution_count": 14,
   "metadata": {},
   "outputs": [],
   "source": [
    "# Read a table that contains edges.\n",
    "td = spark.read.parquet(\"s3://social-research-cheating/vic_data.parquet\")\n",
    "td.registerTempTable(\"td\")\n",
    "\n",
    "# Read a table that contains player data.\n",
    "players = spark.read.parquet(\"s3://social-research-cheating/nodes.parquet\")\n",
    "players.registerTempTable(\"nodes\")"
   ]
  },
  {
   "cell_type": "code",
   "execution_count": 3,
   "metadata": {},
   "outputs": [
    {
     "name": "stdout",
     "output_type": "stream",
     "text": [
      "+--------------------+----------------+-------------+----------+--------+\n",
      "|                  id|           pname|cheating_flag|start_date|ban_date|\n",
      "+--------------------+----------------+-------------+----------+--------+\n",
      "|account.00021d9d1...|          ZXC_00|            0|        NA|      NA|\n",
      "|account.0011ffa92...|   broccoliiii_-|            0|        NA|      NA|\n",
      "|account.001373966...|twice_mina_jjang|            0|        NA|      NA|\n",
      "|account.0019bb121...|       xodlsdl12|            0|        NA|      NA|\n",
      "|account.002040a01...|        asdfeqwr|            0|        NA|      NA|\n",
      "+--------------------+----------------+-------------+----------+--------+\n",
      "only showing top 5 rows\n",
      "\n"
     ]
    }
   ],
   "source": [
    "# Show the first few rows of each dataset.\n",
    "# td.show(5)\n",
    "players.show(5)"
   ]
  },
  {
   "cell_type": "markdown",
   "metadata": {},
   "source": [
    "## 1. Count the number of motifs on the empirical network."
   ]
  },
  {
   "cell_type": "code",
   "execution_count": 3,
   "metadata": {},
   "outputs": [
    {
     "name": "stdout",
     "output_type": "stream",
     "text": [
      "+--------------------+--------------------+------+--------+--------------------+------+--------+--------------------+----------+------+\n",
      "|                 mid|                 src|src_bd|src_flag|                 dst|dst_bd|dst_flag|                time|    m_date|damage|\n",
      "+--------------------+--------------------+------+--------+--------------------+------+--------+--------------------+----------+------+\n",
      "|0000a186-adea-4aa...|account.b6c037c1f...|    NA|       0|account.972e3ecf7...|    NA|       0|2019-03-18 09:46:...|2019-03-18|     1|\n",
      "|0000a186-adea-4aa...|account.972e3ecf7...|    NA|       0|account.15526331a...|    NA|       0|2019-03-18 09:46:...|2019-03-18|     1|\n",
      "|0000a186-adea-4aa...|account.698b03076...|    NA|       0|account.222505584...|    NA|       0|2019-03-18 09:46:...|2019-03-18|     1|\n",
      "|0000a186-adea-4aa...|account.b6c037c1f...|    NA|       0|account.0e3ba01a3...|    NA|       0|2019-03-18 09:45:...|2019-03-18|     1|\n",
      "|0000a186-adea-4aa...|account.b6c037c1f...|    NA|       0|account.9e7f695a7...|    NA|       0|2019-03-18 09:44:...|2019-03-18|     1|\n",
      "+--------------------+--------------------+------+--------+--------------------+------+--------+--------------------+----------+------+\n",
      "only showing top 5 rows\n",
      "\n"
     ]
    }
   ],
   "source": [
    "# Add the level of harm for each killing.\n",
    "res_tab = pubg.add_level_of_harm(td, 10)\n",
    "\n",
    "# To see the result clearly, open it using Jupyter Notebook.\n",
    "# res_tab.show(5)\n",
    "res_tab.registerTempTable(\"new_td\")"
   ]
  },
  {
   "cell_type": "code",
   "execution_count": 4,
   "metadata": {},
   "outputs": [],
   "source": [
    "# Find the cases where players become cheaters after being killed by cheating.\n",
    "legit_cases = pubg.find_legit_cases(res_tab, players)\n",
    "legit_cases.registerTempTable(\"legit_cases\")"
   ]
  },
  {
   "cell_type": "code",
   "execution_count": 5,
   "metadata": {},
   "outputs": [],
   "source": [
    "# Get a summary table of the empirical network.\n",
    "vic_sum_tab = pubg.get_vic_summary_tab(legit_cases)\n",
    "# vic_sum_tab.show()"
   ]
  },
  {
   "cell_type": "code",
   "execution_count": 6,
   "metadata": {},
   "outputs": [],
   "source": [
    "# Store the summary table in the S3 bucket for the later use.\n",
    "PATH_TO_FILE = \"s3://social-research-cheating/summary-tables/emp-net/vic_tab_10.parquet\"\n",
    "vic_sum_tab.write.parquet(PATH_TO_FILE)"
   ]
  },
  {
   "cell_type": "code",
   "execution_count": 9,
   "metadata": {},
   "outputs": [
    {
     "data": {
      "image/png": "[encoded data removed]",
      "text/plain": [
       "<Figure size 432x288 with 1 Axes>"
      ]
     },
     "metadata": {},
     "output_type": "display_data"
    }
   ],
   "source": [
    "# Plot the distribution of the total number of victimisation experiences.\n",
    "# Show the distribution of the number of contacts with cheaters before the transition happened.\n",
    "# In this case, we allow duplicate pairs of killer and victim \n",
    "# as there are some victims who have been killed by the same killer more than once.\n",
    "vic_info_df = vic_sum_tab.toPandas()\n",
    "\n",
    "bins = np.arange(0, vic_info_df['total_exp'].max() + 1.5) - 0.5\n",
    "fig = vic_info_df.hist(column = 'total_exp', histtype='step', bins = bins, \n",
    "                       weights=np.zeros_like(vic_info_df['total_exp'])+1./len(vic_info_df['total_exp']))\n",
    "plt.xlim(xmin=0.5)\n",
    "plt.xlabel(\"Number of victimisation experiences\")\n",
    "plt.ylabel(\"Proportion\")\n",
    "plt.title(\"\")\n",
    "plt.show()"
   ]
  },
  {
   "cell_type": "code",
   "execution_count": 10,
   "metadata": {},
   "outputs": [
    {
     "data": {
      "image/png": "[encoded data removed]",
      "text/plain": [
       "<Figure size 432x288 with 1 Axes>"
      ]
     },
     "metadata": {},
     "output_type": "display_data"
    }
   ],
   "source": [
    "# Plot the distribution of the number of unique cheaters.\n",
    "# In this case, we consider only unique pairs of killer and victim.\n",
    "bins = np.arange(0, vic_info_df['uniq_killers'].max() + 1.5) - 0.5\n",
    "fig = vic_info_df.hist(column='uniq_killers', histtype='step', bins=bins, \n",
    "                       weights=np.zeros_like(vic_info_df['uniq_killers'])+1./len(vic_info_df['uniq_killers']))\n",
    "plt.xlim(xmin=0.5)\n",
    "plt.xlabel(\"Number of unique cheaters\")\n",
    "plt.ylabel(\"Proportion\")\n",
    "plt.title(\"\")\n",
    "plt.show()"
   ]
  },
  {
   "cell_type": "markdown",
   "metadata": {},
   "source": [
    "## 2. Plot the distribution of transition period."
   ]
  },
  {
   "cell_type": "code",
   "execution_count": 11,
   "metadata": {},
   "outputs": [],
   "source": [
    "# Calculate the time difference between the first victimisation experience and start date for each cheater.\n",
    "temp_tab = spark.sql(\"SELECT * FROM legit_cases WHERE damage = 1 ORDER BY time\")\n",
    "temp_tab.registerTempTable(\"temp_tab\")\n",
    "first_vic_exp = spark.sql(\"\"\"SELECT * FROM (SELECT *, ROW_NUMBER() OVER (PARTITION BY dst ORDER BY time) \n",
    "                             AS rownumber FROM temp_tab) AS first_vic_exp WHERE rownumber IN (1)\"\"\")\n",
    "first_vic_exp.registerTempTable(\"first_vic_exp\")\n",
    "\n",
    "add_start_date = spark.sql(\"\"\"SELECT dst, time, start_date AS dst_sd \n",
    "                              FROM first_vic_exp f JOIN nodes n ON f.dst = n.id\"\"\")\n",
    "add_start_date_df = add_start_date.toPandas()\n",
    "add_start_date_df['time'] = pd.to_datetime(add_start_date_df['time'])\n",
    "add_start_date_df['dst_sd'] = pd.to_datetime(add_start_date_df['dst_sd'])\n",
    "add_start_date_df['period'] = (add_start_date_df['dst_sd'] - add_start_date_df['time']).astype('timedelta64[h]')"
   ]
  },
  {
   "cell_type": "code",
   "execution_count": 18,
   "metadata": {},
   "outputs": [
    {
     "data": {
      "image/png": "[encoded data removed]",
      "text/plain": [
       "<Figure size 432x288 with 1 Axes>"
      ]
     },
     "metadata": {},
     "output_type": "display_data"
    }
   ],
   "source": [
    "# Plot the distribution of transition period.\n",
    "fig = add_start_date_df.hist(column = 'period', histtype='step', bins = 20, \n",
    "                             weights=np.zeros_like(add_start_date_df['period'])+1./len(add_start_date_df['period']))\n",
    "plt.xlim(xmin=0)\n",
    "plt.xlim(xmax=add_start_date_df['period'].max())\n",
    "plt.xlabel(\"Transition period\")\n",
    "plt.ylabel(\"Proportion\")\n",
    "plt.title(\"\")\n",
    "plt.show()"
   ]
  },
  {
   "cell_type": "markdown",
   "metadata": {},
   "source": [
    "## 3. Permute the node labels of the original network to create a randomised network."
   ]
  },
  {
   "cell_type": "code",
   "execution_count": 3,
   "metadata": {},
   "outputs": [],
   "source": [
    "# Read a table that contains team membership data.\n",
    "team_info = spark.read.parquet(\"s3://social-research-cheating/team_data.parquet\")\n",
    "team_info.registerTempTable(\"team_ids\")"
   ]
  },
  {
   "cell_type": "code",
   "execution_count": null,
   "metadata": {},
   "outputs": [],
   "source": [
    "# Generate one mapping table.\n",
    "# It takes 30 mins to generate one mapping table.\n",
    "mapping_tab = pubg.permute_node_labels(td, players, team_info)\n",
    "\n",
    "# Store it into the S3 bucket.\n",
    "mapping_tab.write.parquet(\"s3://social-research-cheating/mapping-tables/map_tab_9.parquet\")"
   ]
  },
  {
   "cell_type": "code",
   "execution_count": 5,
   "metadata": {},
   "outputs": [],
   "source": [
    "# Generate multiple mapping tables.\n",
    "for i in range(7, 9):\n",
    "    mapping_tab = pubg.permute_node_labels(td, players, team_info)\n",
    "    mapping_tab.write.parquet(\"s3://social-research-cheating/mapping-tables/map_tab_\" + str(i) + \".parquet\")"
   ]
  },
  {
   "cell_type": "code",
   "execution_count": 15,
   "metadata": {},
   "outputs": [],
   "source": [
    "# Read the mapping table.\n",
    "map_tab = spark.read.parquet(\"s3://social-research-cheating/mapping-tables/map_tab_2.parquet\")\n",
    "map_tab.registerTempTable(\"map_tab\")"
   ]
  },
  {
   "cell_type": "code",
   "execution_count": 22,
   "metadata": {},
   "outputs": [],
   "source": [
    "# Get the mapping table of the given match ID.\n",
    "# temp_map_tab = spark.sql(\"SELECT * FROM map_tab WHERE match_id = '15e457b1-0940-47ca-a730-de0dfd1ccd77'\")\n",
    "# temp_map_tab_df = temp_map_tab.toPandas()\n",
    "# temp_map_tab_df.to_csv('sample_map_tab_1.csv')"
   ]
  },
  {
   "cell_type": "code",
   "execution_count": 16,
   "metadata": {},
   "outputs": [],
   "source": [
    "# Get randomised gameplay logs.\n",
    "temp_rand_logs = spark.sql(\"\"\"SELECT mid, src, randomised AS new_src, dst, time, m_date \n",
    "                              FROM td t JOIN map_tab m ON t.src = m.original AND t.mid = m.match_id\"\"\")\n",
    "temp_rand_logs.registerTempTable(\"temp_rand_logs\")\n",
    "randomised_logs = spark.sql(\"\"\"SELECT mid, new_src AS src, randomised AS dst, time, m_date \n",
    "                               FROM temp_rand_logs t JOIN map_tab m \n",
    "                               ON t.dst = m.original AND t.mid = m.match_id\"\"\")\n",
    "randomised_logs.registerTempTable(\"randomised_logs\")"
   ]
  },
  {
   "cell_type": "markdown",
   "metadata": {},
   "source": [
    "## 4. Count the motifs on the randomised networks."
   ]
  },
  {
   "cell_type": "code",
   "execution_count": 17,
   "metadata": {},
   "outputs": [],
   "source": [
    "# Add the cheating flags of players.\n",
    "add_flags = spark.sql(\"\"\"SELECT mid, src, ban_date AS src_bd, cheating_flag AS src_flag, \n",
    "                         dst, time, m_date \n",
    "                         FROM randomised_logs r JOIN nodes n ON r.src = n.id\"\"\")\n",
    "add_flags.registerTempTable(\"add_flags\")\n",
    "randomised_logs = spark.sql(\"\"\"SELECT mid, src, src_bd, src_flag, \n",
    "                               dst, ban_date AS dst_bd, cheating_flag AS dst_flag, time, m_date \n",
    "                               FROM add_flags r JOIN nodes n ON r.dst = n.id\"\"\")\n",
    "# randomised_logs.show(5)\n",
    "randomised_logs.registerTempTable(\"td\")"
   ]
  },
  {
   "cell_type": "code",
   "execution_count": 26,
   "metadata": {},
   "outputs": [],
   "source": [
    "# Download an excel file that contains randomised logs of the given sample match ID.\n",
    "temp_rand_logs = spark.sql(\"SELECT * FROM td WHERE mid = '15e457b1-0940-47ca-a730-de0dfd1ccd77'\")\n",
    "temp_rand_logs_df = temp_rand_logs.toPandas()\n",
    "temp_rand_logs_df.to_csv('sample_rand_logs_1.csv')"
   ]
  },
  {
   "cell_type": "code",
   "execution_count": 18,
   "metadata": {},
   "outputs": [],
   "source": [
    "rand_logs = pubg.add_level_of_harm(randomised_logs, 10)\n",
    "rand_logs.registerTempTable(\"new_td\")\n",
    "# rand_logs.show(5)"
   ]
  },
  {
   "cell_type": "code",
   "execution_count": 19,
   "metadata": {},
   "outputs": [],
   "source": [
    "legit_cases = pubg.find_legit_cases(rand_logs, players)\n",
    "legit_cases.registerTempTable(\"legit_cases\")"
   ]
  },
  {
   "cell_type": "code",
   "execution_count": 20,
   "metadata": {},
   "outputs": [],
   "source": [
    "# Get a summary table of the randomised network.\n",
    "vic_sum_tab = pubg.get_vic_summary_tab(legit_cases)\n",
    "# vic_sum_tab.show()"
   ]
  },
  {
   "cell_type": "code",
   "execution_count": 21,
   "metadata": {},
   "outputs": [],
   "source": [
    "# Store the summary table in the S3 bucket for the later use.\n",
    "vic_sum_tab.write.parquet(\"s3://social-research-cheating/summary-tables/rand-net/vic_tab_10_2.parquet\")"
   ]
  }
 ],
 "metadata": {
  "kernelspec": {
   "display_name": "Python 3",
   "language": "python",
   "name": "python3"
  },
  "language_info": {
   "codemirror_mode": {
    "name": "ipython",
    "version": 3
   },
   "file_extension": ".py",
   "mimetype": "text/x-python",
   "name": "python",
   "nbconvert_exporter": "python",
   "pygments_lexer": "ipython3",
   "version": "3.7.3"
  },
  "name": "4_victimisation_based_mechanism",
  "notebookId": 2613361705856739
 },
 "nbformat": 4,
 "nbformat_minor": 1
}
