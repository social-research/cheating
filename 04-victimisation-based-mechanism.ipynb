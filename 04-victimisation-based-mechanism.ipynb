{
 "cells": [
  {
   "cell_type": "markdown",
   "metadata": {},
   "source": [
    "04-victimisation-based-mechanism.ipynb\n",
    "======================\n",
    "\n",
    "**Things to do**\n",
    "* Test the results.\n",
    "* Generate mapping tables automatically multiple times.\n",
    "* Find the number of unique cheaters who harmed other players severely.\n",
    "\n",
    "**Sample match ID for testing**\n",
    "* 000213be-6b3b-438a-8d20-c1b57b01a174 (no cheater)\n",
    "* 001f0702-0bd8-4df5-8605-1258082b609d (one cheater)\n",
    "* 05c04ee8-6c76-4b0d-99ed-ae44275b6612 (two cheaters)\n",
    "* 3835b5e8-5b23-47a0-b60e-a37c3ac7ce74 (three cheaters)"
   ]
  },
  {
   "cell_type": "markdown",
   "metadata": {},
   "source": [
    "## Load packages and read tables."
   ]
  },
  {
   "cell_type": "code",
   "execution_count": 1,
   "metadata": {},
   "outputs": [],
   "source": [
    "from functools import reduce\n",
    "from pyspark.sql.functions import col, lit, when\n",
    "import pandas as pd\n",
    "import matplotlib.pyplot as plt\n",
    "import numpy as np\n",
    "import pubg_analysis as pubg"
   ]
  },
  {
   "cell_type": "code",
   "execution_count": 2,
   "metadata": {},
   "outputs": [],
   "source": [
    "# Read a table that contains edges.\n",
    "td = spark.read.parquet(\"s3://jinny-capstone-data-test/data_for_vic_mech.parquet\")\n",
    "td.registerTempTable(\"td\")\n",
    "\n",
    "# Read a table that contains player data.\n",
    "players = spark.read.parquet(\"s3://jinny-capstone-data-test/nodes.parquet\")\n",
    "players.registerTempTable(\"nodes\")"
   ]
  },
  {
   "cell_type": "code",
   "execution_count": 3,
   "metadata": {},
   "outputs": [
    {
     "name": "stdout",
     "output_type": "stream",
     "text": [
      "+--------------------+--------------------+------+--------+--------------------+------+--------+--------------------+----------+\n",
      "|                 mid|                 src|src_bd|src_flag|                 dst|dst_bd|dst_flag|                time|    m_date|\n",
      "+--------------------+--------------------+------+--------+--------------------+------+--------+--------------------+----------+\n",
      "|000ec388-a3d7-422...|account.c84796ba7...|    NA|       0|account.5028c61d0...|    NA|       0|2019-03-03 16:14:...|2019-03-03|\n",
      "|000ec388-a3d7-422...|account.cba82f51c...|    NA|       0|account.b347ea78f...|    NA|       0|2019-03-03 16:33:...|2019-03-03|\n",
      "|000ec388-a3d7-422...|account.8f011f0fd...|    NA|       0|account.e2f45b350...|    NA|       0|2019-03-03 16:16:...|2019-03-03|\n",
      "|000ec388-a3d7-422...|account.73324618c...|    NA|       0|account.7911e1c3d...|    NA|       0|2019-03-03 16:12:...|2019-03-03|\n",
      "|000ec388-a3d7-422...|account.ba7ff30f8...|    NA|       0|account.4e93215ae...|    NA|       0|2019-03-03 16:19:...|2019-03-03|\n",
      "+--------------------+--------------------+------+--------+--------------------+------+--------+--------------------+----------+\n",
      "only showing top 5 rows\n",
      "\n",
      "+--------------------+---------+-------------+----------+--------+\n",
      "|                  id|    pname|cheating_flag|start_date|ban_date|\n",
      "+--------------------+---------+-------------+----------+--------+\n",
      "|account.1d0281ff2...|ulimnet10|            0|        NA|      NA|\n",
      "|account.1c295c6c0...| yoon9242|            0|        NA|      NA|\n",
      "|account.a2b8791d5...|  meco001|            0|        NA|      NA|\n",
      "|account.e3b1eb159...|   forsir|            0|        NA|      NA|\n",
      "|account.65433d8ee...|jimin0311|            0|        NA|      NA|\n",
      "+--------------------+---------+-------------+----------+--------+\n",
      "only showing top 5 rows\n",
      "\n"
     ]
    }
   ],
   "source": [
    "# Show the first few rows of each dataset.\n",
    "td.show(5)\n",
    "players.show(5)"
   ]
  },
  {
   "cell_type": "markdown",
   "metadata": {},
   "source": [
    "## 1. Count the number of motifs on the empirical network."
   ]
  },
  {
   "cell_type": "code",
   "execution_count": 3,
   "metadata": {},
   "outputs": [
    {
     "name": "stdout",
     "output_type": "stream",
     "text": [
      "+--------------------+--------------------+------+--------+--------------------+------+--------+--------------------+----------+------+\n",
      "|                 mid|                 src|src_bd|src_flag|                 dst|dst_bd|dst_flag|                time|    m_date|damage|\n",
      "+--------------------+--------------------+------+--------+--------------------+------+--------+--------------------+----------+------+\n",
      "|0000d4aa-07fb-4b3...|account.1866a3c61...|    NA|       0|account.cd31e8ad9...|    NA|       0|2019-03-03 15:58:...|2019-03-03|     1|\n",
      "|0000d4aa-07fb-4b3...|account.528ab8eb6...|    NA|       0|account.e5e3583f7...|    NA|       0|2019-03-03 15:58:...|2019-03-03|     1|\n",
      "|0000d4aa-07fb-4b3...|account.bdea579b5...|    NA|       0|account.695c4609e...|    NA|       0|2019-03-03 15:57:...|2019-03-03|     1|\n",
      "|0000d4aa-07fb-4b3...|account.695c4609e...|    NA|       0|account.16c355b96...|    NA|       0|2019-03-03 15:56:...|2019-03-03|     1|\n",
      "|0000d4aa-07fb-4b3...|account.695c4609e...|    NA|       0|account.789d5bcf9...|    NA|       0|2019-03-03 15:56:...|2019-03-03|     1|\n",
      "+--------------------+--------------------+------+--------+--------------------+------+--------+--------------------+----------+------+\n",
      "only showing top 5 rows\n",
      "\n"
     ]
    }
   ],
   "source": [
    "res_tab = pubg.add_level_of_harm(td, 30)\n",
    "res_tab.show(5)\n",
    "res_tab.registerTempTable(\"new_td\")"
   ]
  },
  {
   "cell_type": "code",
   "execution_count": 4,
   "metadata": {},
   "outputs": [
    {
     "name": "stdout",
     "output_type": "stream",
     "text": [
      "+--------------------+--------------------+------+------+--------+--------------------+------+------+--------+--------------------+----------+------+\n",
      "|                 mid|                 src|src_sd|src_bd|src_flag|                 dst|dst_sd|dst_bd|dst_flag|                time|    m_date|damage|\n",
      "+--------------------+--------------------+------+------+--------+--------------------+------+------+--------+--------------------+----------+------+\n",
      "|297788d0-ef37-4ab...|account.50a01d43a...|    NA|    NA|       0|account.001017dce...|    NA|    NA|       0|2019-03-02 07:29:...|2019-03-02|     0|\n",
      "|fcaf8c76-4e7a-4b9...|account.75f15a397...|    NA|    NA|       0|account.001017dce...|    NA|    NA|       0|2019-03-02 06:56:...|2019-03-02|     0|\n",
      "|d7b4a476-007b-4e7...|account.ff01e3c0d...|    NA|    NA|       0|account.0017aeb1b...|    NA|    NA|       0|2019-03-01 08:35:...|2019-03-01|     0|\n",
      "|d8324042-12e1-401...|account.ed7ea3157...|    NA|    NA|       0|account.00399d4c2...|    NA|    NA|       0|2019-03-01 04:52:...|2019-03-01|     0|\n",
      "|fa8e9c15-1939-434...|account.0a4d1bb2e...|    NA|    NA|       0|account.00399d4c2...|    NA|    NA|       0|2019-03-01 05:10:...|2019-03-01|     0|\n",
      "+--------------------+--------------------+------+------+--------+--------------------+------+------+--------+--------------------+----------+------+\n",
      "only showing top 5 rows\n",
      "\n"
     ]
    }
   ],
   "source": [
    "# First, add information of killers.\n",
    "src_info = spark.sql(\"\"\"SELECT mid, src, start_date AS src_sd, src_bd, src_flag, \n",
    "                        dst, dst_bd, dst_flag, time, m_date, damage \n",
    "                        FROM new_td t JOIN nodes n ON t.src = n.id\"\"\")\n",
    "src_info.registerTempTable(\"src_info\")\n",
    "\n",
    "# Add information of victims.\n",
    "full_info = spark.sql(\"\"\"SELECT mid, src, src_sd, src_bd, src_flag, \n",
    "                         dst, start_date AS dst_sd, dst_bd, dst_flag, time, m_date, damage \n",
    "                         FROM src_info s JOIN nodes n ON s.dst = n.id\"\"\")\n",
    "full_info.registerTempTable(\"full_info\")\n",
    "full_info.show(5)"
   ]
  },
  {
   "cell_type": "code",
   "execution_count": 5,
   "metadata": {},
   "outputs": [
    {
     "name": "stdout",
     "output_type": "stream",
     "text": [
      "+--------------------+--------------------+----------+----------+--------+--------------------+----------+----------+--------+--------------------+----------+------+\n",
      "|                 mid|                 src|    src_sd|    src_bd|src_flag|                 dst|    dst_sd|    dst_bd|dst_flag|                time|    m_date|damage|\n",
      "+--------------------+--------------------+----------+----------+--------+--------------------+----------+----------+--------+--------------------+----------+------+\n",
      "|b7f8f82b-a249-43a...|account.568c81024...|2019-03-01|2019-03-02|       1|account.e493e8036...|2019-03-02|2019-03-03|       1|2019-03-01 19:50:...|2019-03-01|     0|\n",
      "|d618a666-95ef-48c...|account.8ec434ba5...|2019-03-01|2019-03-02|       1|account.e493e8036...|2019-03-02|2019-03-03|       1|2019-03-01 20:03:...|2019-03-01|     0|\n",
      "|3bbb6a7e-25d1-409...|account.9ee4ebb79...|2019-03-01|2019-03-03|       1|account.d30a1abaf...|2019-03-02|2019-03-03|       1|2019-03-01 20:50:...|2019-03-01|     0|\n",
      "|407d731f-2e4e-4e7...|account.dddcd0225...|2019-03-01|2019-03-02|       1|account.53db3bd71...|2019-03-02|2019-03-02|       1|2019-03-01 23:58:...|2019-03-01|     0|\n",
      "|a4ff0e98-cf42-4bb...|account.00a68dddf...|2019-03-01|2019-03-02|       1|account.47ff35eca...|2019-03-02|2019-03-03|       1|2019-03-01 14:54:...|2019-03-01|     1|\n",
      "|5eaa8722-8478-41d...|account.1baf22d18...|2019-03-01|2019-03-02|       1|account.52adde8ad...|2019-03-02|2019-03-02|       1|2019-03-01 18:20:...|2019-03-01|     0|\n",
      "|05b5cfc8-831d-455...|account.178b7a53b...|2019-03-01|2019-03-02|       1|account.272b33c63...|2019-03-02|2019-03-02|       1|2019-03-01 15:25:...|2019-03-01|     0|\n",
      "|78d53bbb-bc4e-428...|account.b6c7745db...|2019-03-01|2019-03-02|       1|account.476ee023d...|2019-03-02|2019-03-03|       1|2019-03-01 13:28:...|2019-03-01|     0|\n",
      "|971c5df1-f099-4c3...|account.cb2db1993...|2019-03-01|2019-03-01|       1|account.d2cb5110d...|2019-03-03|2019-03-03|       1|2019-03-01 03:24:...|2019-03-01|     0|\n",
      "|2dcefb28-7df6-459...|account.292503bd5...|2019-03-01|2019-03-03|       1|account.6825517dd...|2019-03-02|2019-03-03|       1|2019-03-01 17:57:...|2019-03-01|     0|\n",
      "|e6211da3-e489-43e...|account.292503bd5...|2019-03-01|2019-03-03|       1|account.6825517dd...|2019-03-02|2019-03-03|       1|2019-03-01 17:07:...|2019-03-01|     0|\n",
      "|e3394f02-0d96-410...|account.4c2ff8d26...|2019-03-01|2019-03-03|       1|account.6825517dd...|2019-03-02|2019-03-03|       1|2019-03-01 19:04:...|2019-03-01|     0|\n",
      "|bbdf1a33-43e0-4b0...|account.6bdbdb4a3...|2019-03-01|2019-03-02|       1|account.70eb95960...|2019-03-02|2019-03-03|       1|2019-03-01 14:45:...|2019-03-01|     1|\n",
      "|f835a716-3076-445...|account.63d67b1ac...|2019-03-01|2019-03-01|       1|account.c3d862798...|2019-03-02|2019-03-03|       1|2019-03-01 06:49:...|2019-03-01|     0|\n",
      "|b5f5e4ab-8ad5-44d...|account.de16e11d0...|2019-03-01|2019-03-02|       1|account.ad074fb0c...|2019-03-02|2019-03-03|       1|2019-03-01 23:45:...|2019-03-01|     1|\n",
      "|e1b0b5f5-fcda-4f4...|account.c0c6a61fe...|2019-03-01|2019-03-01|       1|account.3a5102f8e...|2019-03-02|2019-03-03|       1|2019-03-01 05:13:...|2019-03-01|     1|\n",
      "+--------------------+--------------------+----------+----------+--------+--------------------+----------+----------+--------+--------------------+----------+------+\n",
      "\n"
     ]
    }
   ],
   "source": [
    "legit_cases = spark.sql(\"SELECT * FROM full_info WHERE dst_sd != 'NA' AND src_flag == 1 AND dst_flag == 1 AND m_date >= src_sd AND m_date < dst_sd\")\n",
    "legit_cases.registerTempTable(\"legit_cases\")\n",
    "legit_cases.show(20)    "
   ]
  },
  {
   "cell_type": "code",
   "execution_count": 6,
   "metadata": {},
   "outputs": [
    {
     "name": "stdout",
     "output_type": "stream",
     "text": [
      "+--------------------+----------+----------+------+--------------------+---+-------+\n",
      "|                  id|start_date|    m_date|period|              killer|exp|sev_exp|\n",
      "+--------------------+----------+----------+------+--------------------+---+-------+\n",
      "|account.e493e8036...|2019-03-02|2019-03-01|     1|account.568c81024...|  1|      0|\n",
      "|account.e493e8036...|2019-03-02|2019-03-01|     1|account.8ec434ba5...|  1|      0|\n",
      "|account.d30a1abaf...|2019-03-02|2019-03-01|     1|account.9ee4ebb79...|  1|      0|\n",
      "|account.53db3bd71...|2019-03-02|2019-03-01|     1|account.dddcd0225...|  1|      0|\n",
      "|account.47ff35eca...|2019-03-02|2019-03-01|     1|account.00a68dddf...|  1|      1|\n",
      "|account.52adde8ad...|2019-03-02|2019-03-01|     1|account.1baf22d18...|  1|      0|\n",
      "|account.272b33c63...|2019-03-02|2019-03-01|     1|account.178b7a53b...|  1|      0|\n",
      "|account.476ee023d...|2019-03-02|2019-03-01|     1|account.b6c7745db...|  1|      0|\n",
      "|account.d2cb5110d...|2019-03-03|2019-03-01|     2|account.cb2db1993...|  1|      0|\n",
      "|account.6825517dd...|2019-03-02|2019-03-01|     1|account.4c2ff8d26...|  1|      0|\n",
      "|account.6825517dd...|2019-03-02|2019-03-01|     1|account.292503bd5...|  2|      0|\n",
      "|account.70eb95960...|2019-03-02|2019-03-01|     1|account.6bdbdb4a3...|  1|      1|\n",
      "|account.c3d862798...|2019-03-02|2019-03-01|     1|account.63d67b1ac...|  1|      0|\n",
      "|account.ad074fb0c...|2019-03-02|2019-03-01|     1|account.de16e11d0...|  1|      1|\n",
      "|account.3a5102f8e...|2019-03-02|2019-03-01|     1|account.c0c6a61fe...|  1|      1|\n",
      "+--------------------+----------+----------+------+--------------------+---+-------+\n",
      "\n"
     ]
    }
   ],
   "source": [
    "# Create a summary table.\n",
    "victims_tab = spark.sql(\"\"\"SELECT dst AS id, \n",
    "                           TO_DATE(CAST(UNIX_TIMESTAMP(dst_sd, 'yyyy-MM-dd') AS TIMESTAMP)) AS start_date, \n",
    "                           TO_DATE(CAST(UNIX_TIMESTAMP(m_date, 'yyyy-MM-dd') AS TIMESTAMP)) AS m_date, \n",
    "                           CAST(DATEDIFF(dst_sd, m_date) AS INT) AS period, src AS killer, \n",
    "                           COUNT(*) AS exp, SUM(damage) AS sev_exp FROM legit_cases\n",
    "                           GROUP BY dst, dst_sd, m_date, src\"\"\")\n",
    "victims_tab.registerTempTable(\"victims_tab\")\n",
    "victims_tab.show()\n",
    "\n",
    "# Get the date when the player was first killed by cheating.\n",
    "first_m_dates = spark.sql(\"\"\"SELECT * \n",
    "                             FROM (SELECT id, m_date, period, ROW_NUMBER() OVER (PARTITION BY id ORDER BY m_date) \n",
    "                             AS rownumber FROM victims_tab) WHERE rownumber IN (1)\"\"\")\n",
    "first_m_dates.registerTempTable(\"first_m_dates\")"
   ]
  },
  {
   "cell_type": "code",
   "execution_count": 7,
   "metadata": {},
   "outputs": [
    {
     "name": "stdout",
     "output_type": "stream",
     "text": [
      "+--------------------+----------+---------+-------------+------------+\n",
      "|                  id|start_date|total_exp|total_sev_exp|uniq_killers|\n",
      "+--------------------+----------+---------+-------------+------------+\n",
      "|account.d2cb5110d...|2019-03-03|        1|            0|           1|\n",
      "|account.e493e8036...|2019-03-02|        2|            0|           2|\n",
      "|account.52adde8ad...|2019-03-02|        1|            0|           1|\n",
      "|account.53db3bd71...|2019-03-02|        1|            0|           1|\n",
      "|account.6825517dd...|2019-03-02|        3|            0|           2|\n",
      "+--------------------+----------+---------+-------------+------------+\n",
      "only showing top 5 rows\n",
      "\n"
     ]
    }
   ],
   "source": [
    "# Get the table that contains the total number of victimisation experiences and the number of unique cheaters.\n",
    "vic_info = spark.sql(\"\"\"SELECT id, start_date, SUM(exp) AS total_exp, SUM(sev_exp) AS total_sev_exp, \n",
    "                        COUNT(DISTINCT killer) AS uniq_killers \n",
    "                        FROM victims_tab GROUP BY id, start_date\"\"\")\n",
    "vic_info.registerTempTable(\"vic_info\")\n",
    "vic_info.show(5)"
   ]
  },
  {
   "cell_type": "code",
   "execution_count": 8,
   "metadata": {},
   "outputs": [
    {
     "name": "stdout",
     "output_type": "stream",
     "text": [
      "+--------------------+----------+----------+------+---------+-------------+------------+\n",
      "|                  id|start_date|    m_date|period|total_exp|total_sev_exp|uniq_killers|\n",
      "+--------------------+----------+----------+------+---------+-------------+------------+\n",
      "|account.e493e8036...|2019-03-02|2019-03-01|     1|        2|            0|           2|\n",
      "|account.d30a1abaf...|2019-03-02|2019-03-01|     1|        1|            0|           1|\n",
      "|account.53db3bd71...|2019-03-02|2019-03-01|     1|        1|            0|           1|\n",
      "|account.47ff35eca...|2019-03-02|2019-03-01|     1|        1|            1|           1|\n",
      "|account.52adde8ad...|2019-03-02|2019-03-01|     1|        1|            0|           1|\n",
      "|account.272b33c63...|2019-03-02|2019-03-01|     1|        1|            0|           1|\n",
      "|account.476ee023d...|2019-03-02|2019-03-01|     1|        1|            0|           1|\n",
      "|account.d2cb5110d...|2019-03-03|2019-03-01|     2|        1|            0|           1|\n",
      "|account.6825517dd...|2019-03-02|2019-03-01|     1|        3|            0|           2|\n",
      "|account.70eb95960...|2019-03-02|2019-03-01|     1|        1|            1|           1|\n",
      "|account.c3d862798...|2019-03-02|2019-03-01|     1|        1|            0|           1|\n",
      "|account.ad074fb0c...|2019-03-02|2019-03-01|     1|        1|            1|           1|\n",
      "|account.3a5102f8e...|2019-03-02|2019-03-01|     1|        1|            1|           1|\n",
      "+--------------------+----------+----------+------+---------+-------------+------------+\n",
      "\n"
     ]
    }
   ],
   "source": [
    "add_dates = spark.sql(\"\"\"SELECT v.id, v.start_date, f.m_date, f.period, \n",
    "                         v.total_exp, v.total_sev_exp, v.uniq_killers \n",
    "                         FROM vic_info v LEFT JOIN first_m_dates f ON v.id = f.id\"\"\")\n",
    "add_dates.show()"
   ]
  },
  {
   "cell_type": "code",
   "execution_count": 9,
   "metadata": {},
   "outputs": [],
   "source": [
    "# Store the summary table in the S3 bucket for the later use.\n",
    "add_dates.write.parquet(\"s3://jinny-capstone-data-test/summary-tables/emp-net/vic_tab.parquet\")"
   ]
  },
  {
   "cell_type": "code",
   "execution_count": 10,
   "metadata": {},
   "outputs": [],
   "source": [
    "vic_info_df = add_dates.toPandas()\n",
    "vic_info_df.to_csv('vic_info_df.csv')"
   ]
  },
  {
   "cell_type": "code",
   "execution_count": 21,
   "metadata": {},
   "outputs": [
    {
     "data": {
      "image/png": "[encoded data removed]",
      "text/plain": [
       "<Figure size 432x288 with 1 Axes>"
      ]
     },
     "metadata": {},
     "output_type": "display_data"
    }
   ],
   "source": [
    "# Plot the distribution of the total number of victimisation experiences.\n",
    "# Show the distribution of the number of contacts with cheaters before the transition happened.\n",
    "# In this case, we allow duplicate pairs of killer and victim \n",
    "# as there are some victims who have been killed by the same killer more than once. \n",
    "bins = np.arange(0, vic_info_df['total_exp'].max() + 1.5) - 0.5\n",
    "fig = vic_info_df.hist(column = 'total_exp', histtype='step', bins = bins, \n",
    "                       weights=np.zeros_like(vic_info_df['total_exp'])+1./len(vic_info_df['total_exp']))\n",
    "plt.xlim(xmin=0.5)\n",
    "plt.xlabel(\"Number of victimisation experiences\")\n",
    "plt.ylabel(\"Proportion\")\n",
    "plt.title(\"\")\n",
    "plt.show()"
   ]
  },
  {
   "cell_type": "code",
   "execution_count": 25,
   "metadata": {},
   "outputs": [
    {
     "data": {
      "image/png": "[encoded data removed]",
      "text/plain": [
       "<Figure size 432x288 with 1 Axes>"
      ]
     },
     "metadata": {},
     "output_type": "display_data"
    }
   ],
   "source": [
    "# Plot the distribution of the number of unique cheaters.\n",
    "# In this case, we consider only unique pairs of killer and victim.\n",
    "bins = np.arange(0, vic_info_df['uniq_killers'].max() + 1.5) - 0.5\n",
    "fig = vic_info_df.hist(column='uniq_killers', histtype='step', bins=bins, \n",
    "                       weights=np.zeros_like(vic_info_df['uniq_killers'])+1./len(vic_info_df['uniq_killers']))\n",
    "plt.xlim(xmin=0.5)\n",
    "plt.xlabel(\"Number of unique cheaters\")\n",
    "plt.ylabel(\"Proportion\")\n",
    "plt.title(\"\")\n",
    "plt.show()"
   ]
  },
  {
   "cell_type": "markdown",
   "metadata": {},
   "source": [
    "## 2. Count the number of times the motif appears in the empirical network considering the level of harm caused by cheating."
   ]
  },
  {
   "cell_type": "code",
   "execution_count": 6,
   "metadata": {},
   "outputs": [
    {
     "name": "stdout",
     "output_type": "stream",
     "text": [
      "4\n",
      "+--------------------+--------------------+--------------------+--------------------+------+------+\n",
      "|                 mid|                 src|                 dst|                time|period|damage|\n",
      "+--------------------+--------------------+--------------------+--------------------+------+------+\n",
      "|05b5cfc8-831d-455...|account.178b7a53b...|account.272b33c63...|2019-03-01 15:25:...|   1.0|     0|\n",
      "|3bbb6a7e-25d1-409...|account.9ee4ebb79...|account.d30a1abaf...|2019-03-01 20:50:...|   1.0|     0|\n",
      "|e1b0b5f5-fcda-4f4...|account.c0c6a61fe...|account.3a5102f8e...|2019-03-01 05:13:...|   1.0|     1|\n",
      "|e3394f02-0d96-410...|account.4c2ff8d26...|account.6825517dd...|2019-03-01 19:04:...|   1.0|     0|\n",
      "|407d731f-2e4e-4e7...|account.dddcd0225...|account.53db3bd71...|2019-03-01 23:58:...|   1.0|     0|\n",
      "|b5f5e4ab-8ad5-44d...|account.de16e11d0...|account.ad074fb0c...|2019-03-01 23:45:...|   1.0|     1|\n",
      "|f835a716-3076-445...|account.63d67b1ac...|account.c3d862798...|2019-03-01 06:49:...|   1.0|     0|\n",
      "|971c5df1-f099-4c3...|account.cb2db1993...|account.d2cb5110d...|2019-03-01 03:24:...|   2.0|     0|\n",
      "|78d53bbb-bc4e-428...|account.b6c7745db...|account.476ee023d...|2019-03-01 13:28:...|   1.0|     0|\n",
      "|a4ff0e98-cf42-4bb...|account.00a68dddf...|account.47ff35eca...|2019-03-01 14:54:...|   1.0|     1|\n",
      "|2dcefb28-7df6-459...|account.292503bd5...|account.6825517dd...|2019-03-01 17:57:...|   1.0|     0|\n",
      "|bbdf1a33-43e0-4b0...|account.6bdbdb4a3...|account.70eb95960...|2019-03-01 14:45:...|   1.0|     1|\n",
      "|5eaa8722-8478-41d...|account.1baf22d18...|account.52adde8ad...|2019-03-01 18:20:...|   1.0|     0|\n",
      "|e6211da3-e489-43e...|account.292503bd5...|account.6825517dd...|2019-03-01 17:07:...|   1.0|     0|\n",
      "|b7f8f82b-a249-43a...|account.568c81024...|account.e493e8036...|2019-03-01 19:50:...|   1.0|     0|\n",
      "|d618a666-95ef-48c...|account.8ec434ba5...|account.e493e8036...|2019-03-01 20:03:...|   1.0|     0|\n",
      "+--------------------+--------------------+--------------------+--------------------+------+------+\n",
      "\n"
     ]
    }
   ],
   "source": [
    "# Count the number of motifs on the empirical network considering the level of harm.\n",
    "res_tab_with_harm = pubg.get_cases_with_severe_harm(full_info, legit_cases, 30)\n",
    "res_tab_with_harm.show()\n",
    "res_tab_with_harm.registerTempTable(\"res_tab_with_harm\")"
   ]
  },
  {
   "cell_type": "markdown",
   "metadata": {},
   "source": [
    "## 2. Plot the distribution of transition period."
   ]
  },
  {
   "cell_type": "code",
   "execution_count": 17,
   "metadata": {},
   "outputs": [],
   "source": [
    "# Calculate the time difference between the first victimisation experience and start date for each cheater.\n",
    "temp_tab = spark.sql(\"SELECT * FROM legit_cases WHERE damage = 1 ORDER BY time\")\n",
    "temp_tab.registerTempTable(\"temp_tab\")\n",
    "first_vic_exp = spark.sql(\"\"\"SELECT * FROM (SELECT *, ROW_NUMBER() OVER (PARTITION BY dst ORDER BY time) \n",
    "                             AS rownumber FROM temp_tab) AS first_vic_exp WHERE rownumber IN (1)\"\"\")\n",
    "first_vic_exp.registerTempTable(\"first_vic_exp\")\n",
    "\n",
    "add_start_date = spark.sql(\"\"\"SELECT dst, time, start_date AS dst_sd \n",
    "                              FROM first_vic_exp f JOIN nodes n ON f.dst = n.id\"\"\")\n",
    "add_start_date_df = add_start_date.toPandas()\n",
    "add_start_date_df['time'] = pd.to_datetime(add_start_date_df['time'])\n",
    "add_start_date_df['dst_sd'] = pd.to_datetime(add_start_date_df['dst_sd'])\n",
    "add_start_date_df['period'] = (add_start_date_df['dst_sd'] - add_start_date_df['time']).astype('timedelta64[h]')"
   ]
  },
  {
   "cell_type": "code",
   "execution_count": 18,
   "metadata": {},
   "outputs": [
    {
     "data": {
      "image/png": "[encoded data removed]",
      "text/plain": [
       "<Figure size 432x288 with 1 Axes>"
      ]
     },
     "metadata": {},
     "output_type": "display_data"
    }
   ],
   "source": [
    "# Plot the distribution of transition period.\n",
    "bins = np.arange(0, add_start_date_df['period'].max() + 1.5) - 0.5\n",
    "fig = add_start_date_df.hist(column = 'period', histtype='step', bins = 20, \n",
    "                             weights=np.zeros_like(add_start_date_df['period'])+1./len(add_start_date_df['period']))\n",
    "plt.xlim(xmin=0)\n",
    "plt.xlim(xmax=add_start_date_df['period'].max())\n",
    "plt.xlabel(\"Transition period\")\n",
    "plt.ylabel(\"Proportion\")\n",
    "plt.title(\"\")\n",
    "plt.show()"
   ]
  },
  {
   "cell_type": "markdown",
   "metadata": {},
   "source": [
    "## 3. Permute the node labels of the original network to create a randomised network."
   ]
  },
  {
   "cell_type": "code",
   "execution_count": 20,
   "metadata": {},
   "outputs": [],
   "source": [
    "# Read a table that contains team membership data.\n",
    "team_info = spark.read.parquet(\"s3://jinny-capstone-data-test/team_data.parquet\")\n",
    "team_info.registerTempTable(\"team_ids\")"
   ]
  },
  {
   "cell_type": "code",
   "execution_count": 11,
   "metadata": {},
   "outputs": [],
   "source": [
    "# Generate a mapping table.\n",
    "mapping_tab_1 = pubg.permute_node_labels(td, players, team_info)\n",
    "\n",
    "# Store it into the S3 bucket.\n",
    "mapping_tab_1.write.parquet(\"s3://jinny-capstone-data-test/mapping-tables/map_tab_1.parquet\")"
   ]
  },
  {
   "cell_type": "code",
   "execution_count": 30,
   "metadata": {},
   "outputs": [],
   "source": [
    "# Read the mapping table.\n",
    "map_tab = spark.read.parquet(\"s3://jinny-capstone-data-test/mapping-tables/map_tab_1.parquet\")\n",
    "map_tab.registerTempTable(\"map_tab\")"
   ]
  },
  {
   "cell_type": "code",
   "execution_count": 40,
   "metadata": {},
   "outputs": [],
   "source": [
    "# Get randomised gameplay logs.\n",
    "temp_rand_logs = spark.sql(\"\"\"SELECT mid, src, randomised AS new_src, dst, time, m_date \n",
    "                              FROM td t JOIN map_tab m ON t.src = m.original AND t.mid = m.match_id\"\"\")\n",
    "temp_rand_logs.registerTempTable(\"temp_rand_logs\")\n",
    "randomised_logs = spark.sql(\"\"\"SELECT mid, new_src AS src, randomised AS dst, time, m_date \n",
    "                               FROM temp_rand_logs t JOIN map_tab m \n",
    "                               ON t.dst = m.original AND t.mid = m.match_id\"\"\")\n",
    "randomised_logs.registerTempTable(\"randomised_logs\")"
   ]
  },
  {
   "cell_type": "markdown",
   "metadata": {},
   "source": [
    "## 4. Count the motifs on the randomised networks."
   ]
  },
  {
   "cell_type": "code",
   "execution_count": 52,
   "metadata": {},
   "outputs": [
    {
     "name": "stdout",
     "output_type": "stream",
     "text": [
      "+--------------------+--------------------+------+--------+--------------------+------+--------+--------------------+----------+\n",
      "|                 mid|                 src|src_bd|src_flag|                 dst|dst_bd|dst_flag|                time|    m_date|\n",
      "+--------------------+--------------------+------+--------+--------------------+------+--------+--------------------+----------+\n",
      "|fcaf8c76-4e7a-4b9...|account.a0bc68e5e...|    NA|       0|account.001017dce...|    NA|       0|2019-03-02 06:56:...|2019-03-02|\n",
      "|297788d0-ef37-4ab...|account.c419eaa2e...|    NA|       0|account.001017dce...|    NA|       0|2019-03-02 07:29:...|2019-03-02|\n",
      "|d7b4a476-007b-4e7...|account.ff01e3c0d...|    NA|       0|account.0017aeb1b...|    NA|       0|2019-03-01 08:35:...|2019-03-01|\n",
      "|03844fe8-6df5-4cd...|account.79aece347...|    NA|       0|account.00399d4c2...|    NA|       0|2019-03-01 04:24:...|2019-03-01|\n",
      "|d8324042-12e1-401...|account.e2d270189...|    NA|       0|account.00399d4c2...|    NA|       0|2019-03-01 05:01:...|2019-03-01|\n",
      "+--------------------+--------------------+------+--------+--------------------+------+--------+--------------------+----------+\n",
      "only showing top 5 rows\n",
      "\n"
     ]
    }
   ],
   "source": [
    "# Add the cheating flags of players.\n",
    "add_flags = spark.sql(\"\"\"SELECT mid, src, ban_date AS src_bd, cheating_flag AS src_flag, \n",
    "                         dst, time, m_date \n",
    "                         FROM randomised_logs r JOIN nodes n ON r.src = n.id\"\"\")\n",
    "add_flags.registerTempTable(\"add_flags\")\n",
    "randomised_logs = spark.sql(\"\"\"SELECT mid, src, src_bd, src_flag, \n",
    "                               dst, ban_date AS dst_bd, cheating_flag AS dst_flag, time, m_date \n",
    "                               FROM add_flags r JOIN nodes n ON r.dst = n.id\"\"\")\n",
    "randomised_logs.show(5)\n",
    "randomised_logs.registerTempTable(\"td\")"
   ]
  },
  {
   "cell_type": "code",
   "execution_count": 50,
   "metadata": {},
   "outputs": [],
   "source": [
    "# Download an excel file that contains randomised logs of the given sample match ID.\n",
    "# temp_rand_logs = spark.sql(\"SELECT * FROM td WHERE mid = '000213be-6b3b-438a-8d20-c1b57b01a174'\")\n",
    "# temp_rand_logs_df = temp_rand_logs.toPandas()\n",
    "# temp_rand_logs_df.to_csv('sample_rand_logs_1.csv')"
   ]
  },
  {
   "cell_type": "code",
   "execution_count": 53,
   "metadata": {},
   "outputs": [
    {
     "name": "stdout",
     "output_type": "stream",
     "text": [
      "+--------------------+--------------------+------+--------+--------------------+------+--------+--------------------+----------+------+\n",
      "|                 mid|                 src|src_bd|src_flag|                 dst|dst_bd|dst_flag|                time|    m_date|damage|\n",
      "+--------------------+--------------------+------+--------+--------------------+------+--------+--------------------+----------+------+\n",
      "|0000d4aa-07fb-4b3...|account.05dd3a28f...|    NA|       0|account.cd31e8ad9...|    NA|       0|2019-03-03 15:58:...|2019-03-03|     1|\n",
      "|0000d4aa-07fb-4b3...|account.1866a3c61...|    NA|       0|account.09a6fd9cc...|    NA|       0|2019-03-03 15:58:...|2019-03-03|     1|\n",
      "|0000d4aa-07fb-4b3...|account.528ab8eb6...|    NA|       0|account.95d3d342f...|    NA|       0|2019-03-03 15:57:...|2019-03-03|     1|\n",
      "|0000d4aa-07fb-4b3...|account.95d3d342f...|    NA|       0|account.6541e80e8...|    NA|       0|2019-03-03 15:56:...|2019-03-03|     1|\n",
      "|0000d4aa-07fb-4b3...|account.95d3d342f...|    NA|       0|account.16c355b96...|    NA|       0|2019-03-03 15:56:...|2019-03-03|     1|\n",
      "+--------------------+--------------------+------+--------+--------------------+------+--------+--------------------+----------+------+\n",
      "only showing top 5 rows\n",
      "\n"
     ]
    }
   ],
   "source": [
    "rand_logs = pubg.add_level_of_harm(randomised_logs, 30)\n",
    "rand_logs.registerTempTable(\"new_rand_td\")\n",
    "rand_logs.show(5)"
   ]
  },
  {
   "cell_type": "code",
   "execution_count": 54,
   "metadata": {},
   "outputs": [
    {
     "name": "stdout",
     "output_type": "stream",
     "text": [
      "+--------------------+--------------------+------+------+--------+--------------------+------+------+--------+--------------------+----------+------+\n",
      "|                 mid|                 src|src_sd|src_bd|src_flag|                 dst|dst_sd|dst_bd|dst_flag|                time|    m_date|damage|\n",
      "+--------------------+--------------------+------+------+--------+--------------------+------+------+--------+--------------------+----------+------+\n",
      "|297788d0-ef37-4ab...|account.c419eaa2e...|    NA|    NA|       0|account.001017dce...|    NA|    NA|       0|2019-03-02 07:29:...|2019-03-02|     0|\n",
      "|fcaf8c76-4e7a-4b9...|account.a0bc68e5e...|    NA|    NA|       0|account.001017dce...|    NA|    NA|       0|2019-03-02 06:56:...|2019-03-02|     0|\n",
      "|d7b4a476-007b-4e7...|account.ff01e3c0d...|    NA|    NA|       0|account.0017aeb1b...|    NA|    NA|       0|2019-03-01 08:35:...|2019-03-01|     0|\n",
      "|03844fe8-6df5-4cd...|account.79aece347...|    NA|    NA|       0|account.00399d4c2...|    NA|    NA|       0|2019-03-01 04:24:...|2019-03-01|     0|\n",
      "|d8324042-12e1-401...|account.e2d270189...|    NA|    NA|       0|account.00399d4c2...|    NA|    NA|       0|2019-03-01 05:01:...|2019-03-01|     0|\n",
      "+--------------------+--------------------+------+------+--------+--------------------+------+------+--------+--------------------+----------+------+\n",
      "only showing top 5 rows\n",
      "\n"
     ]
    }
   ],
   "source": [
    "# First, add information of killers.\n",
    "src_info = spark.sql(\"\"\"SELECT mid, src, start_date AS src_sd, src_bd, src_flag, \n",
    "                        dst, dst_bd, dst_flag, time, m_date, damage \n",
    "                        FROM new_rand_td t JOIN nodes n ON t.src = n.id\"\"\")\n",
    "src_info.registerTempTable(\"src_info\")\n",
    "\n",
    "# Add information of victims.\n",
    "full_info = spark.sql(\"\"\"SELECT mid, src, src_sd, src_bd, src_flag, \n",
    "                         dst, start_date AS dst_sd, dst_bd, dst_flag, time, m_date, damage \n",
    "                         FROM src_info s JOIN nodes n ON s.dst = n.id\"\"\")\n",
    "full_info.registerTempTable(\"full_info\")"
   ]
  },
  {
   "cell_type": "code",
   "execution_count": 55,
   "metadata": {},
   "outputs": [
    {
     "name": "stdout",
     "output_type": "stream",
     "text": [
      "+--------------------+--------------------+----------+----------+--------+--------------------+----------+----------+--------+--------------------+----------+------+\n",
      "|                 mid|                 src|    src_sd|    src_bd|src_flag|                 dst|    dst_sd|    dst_bd|dst_flag|                time|    m_date|damage|\n",
      "+--------------------+--------------------+----------+----------+--------+--------------------+----------+----------+--------+--------------------+----------+------+\n",
      "|b7f8f82b-a249-43a...|account.568c81024...|2019-03-01|2019-03-02|       1|account.e493e8036...|2019-03-02|2019-03-03|       1|2019-03-01 19:50:...|2019-03-01|     0|\n",
      "|d618a666-95ef-48c...|account.8ec434ba5...|2019-03-01|2019-03-02|       1|account.e493e8036...|2019-03-02|2019-03-03|       1|2019-03-01 20:03:...|2019-03-01|     0|\n",
      "|407d731f-2e4e-4e7...|account.dddcd0225...|2019-03-01|2019-03-02|       1|account.53db3bd71...|2019-03-02|2019-03-02|       1|2019-03-01 23:58:...|2019-03-01|     0|\n",
      "|a4ff0e98-cf42-4bb...|account.00a68dddf...|2019-03-01|2019-03-02|       1|account.47ff35eca...|2019-03-02|2019-03-03|       1|2019-03-01 14:54:...|2019-03-01|     1|\n",
      "|5eaa8722-8478-41d...|account.1baf22d18...|2019-03-01|2019-03-02|       1|account.52adde8ad...|2019-03-02|2019-03-02|       1|2019-03-01 18:19:...|2019-03-01|     0|\n",
      "|05b5cfc8-831d-455...|account.178b7a53b...|2019-03-01|2019-03-02|       1|account.272b33c63...|2019-03-02|2019-03-02|       1|2019-03-01 15:25:...|2019-03-01|     0|\n",
      "|ecedb50a-e3d3-494...|account.caeaf4f68...|2019-03-01|2019-03-02|       1|account.8c52a3348...|2019-03-02|2019-03-03|       1|2019-03-01 12:59:...|2019-03-01|     1|\n",
      "|971c5df1-f099-4c3...|account.cb2db1993...|2019-03-01|2019-03-01|       1|account.d2cb5110d...|2019-03-03|2019-03-03|       1|2019-03-01 03:24:...|2019-03-01|     0|\n",
      "|2dcefb28-7df6-459...|account.292503bd5...|2019-03-01|2019-03-03|       1|account.6825517dd...|2019-03-02|2019-03-03|       1|2019-03-01 17:57:...|2019-03-01|     0|\n",
      "|e6211da3-e489-43e...|account.292503bd5...|2019-03-01|2019-03-03|       1|account.6825517dd...|2019-03-02|2019-03-03|       1|2019-03-01 17:07:...|2019-03-01|     0|\n",
      "|bbdf1a33-43e0-4b0...|account.6bdbdb4a3...|2019-03-01|2019-03-02|       1|account.70eb95960...|2019-03-02|2019-03-03|       1|2019-03-01 14:45:...|2019-03-01|     1|\n",
      "|f835a716-3076-445...|account.63d67b1ac...|2019-03-01|2019-03-01|       1|account.c3d862798...|2019-03-02|2019-03-03|       1|2019-03-01 06:49:...|2019-03-01|     0|\n",
      "|b5f5e4ab-8ad5-44d...|account.de16e11d0...|2019-03-01|2019-03-02|       1|account.ad074fb0c...|2019-03-02|2019-03-03|       1|2019-03-01 23:45:...|2019-03-01|     1|\n",
      "|fe867b52-4d74-47c...|account.080773887...|2019-03-01|2019-03-03|       1|account.d974dde55...|2019-03-02|2019-03-03|       1|2019-03-01 06:32:...|2019-03-01|     0|\n",
      "+--------------------+--------------------+----------+----------+--------+--------------------+----------+----------+--------+--------------------+----------+------+\n",
      "\n"
     ]
    }
   ],
   "source": [
    "legit_cases = spark.sql(\"SELECT * FROM full_info WHERE dst_sd != 'NA' AND src_flag == 1 AND dst_flag == 1 AND m_date >= src_sd AND m_date < dst_sd\")\n",
    "legit_cases.registerTempTable(\"legit_cases\")\n",
    "legit_cases.show(20) "
   ]
  },
  {
   "cell_type": "code",
   "execution_count": 56,
   "metadata": {},
   "outputs": [
    {
     "name": "stdout",
     "output_type": "stream",
     "text": [
      "+--------------------+----------+----------+------+--------------------+---+-------+\n",
      "|                  id|start_date|    m_date|period|              killer|exp|sev_exp|\n",
      "+--------------------+----------+----------+------+--------------------+---+-------+\n",
      "|account.e493e8036...|2019-03-02|2019-03-01|     1|account.568c81024...|  1|      0|\n",
      "|account.e493e8036...|2019-03-02|2019-03-01|     1|account.8ec434ba5...|  1|      0|\n",
      "|account.53db3bd71...|2019-03-02|2019-03-01|     1|account.dddcd0225...|  1|      0|\n",
      "|account.47ff35eca...|2019-03-02|2019-03-01|     1|account.00a68dddf...|  1|      1|\n",
      "|account.52adde8ad...|2019-03-02|2019-03-01|     1|account.1baf22d18...|  1|      0|\n",
      "|account.272b33c63...|2019-03-02|2019-03-01|     1|account.178b7a53b...|  1|      0|\n",
      "|account.8c52a3348...|2019-03-02|2019-03-01|     1|account.caeaf4f68...|  1|      1|\n",
      "|account.d2cb5110d...|2019-03-03|2019-03-01|     2|account.cb2db1993...|  1|      0|\n",
      "|account.6825517dd...|2019-03-02|2019-03-01|     1|account.292503bd5...|  2|      0|\n",
      "|account.70eb95960...|2019-03-02|2019-03-01|     1|account.6bdbdb4a3...|  1|      1|\n",
      "|account.c3d862798...|2019-03-02|2019-03-01|     1|account.63d67b1ac...|  1|      0|\n",
      "|account.ad074fb0c...|2019-03-02|2019-03-01|     1|account.de16e11d0...|  1|      1|\n",
      "|account.d974dde55...|2019-03-02|2019-03-01|     1|account.080773887...|  1|      0|\n",
      "+--------------------+----------+----------+------+--------------------+---+-------+\n",
      "\n"
     ]
    }
   ],
   "source": [
    "# Create a summary table.\n",
    "victims_tab = spark.sql(\"\"\"SELECT dst AS id, \n",
    "                           TO_DATE(CAST(UNIX_TIMESTAMP(dst_sd, 'yyyy-MM-dd') AS TIMESTAMP)) AS start_date, \n",
    "                           TO_DATE(CAST(UNIX_TIMESTAMP(m_date, 'yyyy-MM-dd') AS TIMESTAMP)) AS m_date, \n",
    "                           CAST(DATEDIFF(dst_sd, m_date) AS INT) AS period, src AS killer, \n",
    "                           COUNT(*) AS exp, SUM(damage) AS sev_exp FROM legit_cases\n",
    "                           GROUP BY dst, dst_sd, m_date, src\"\"\")\n",
    "victims_tab.registerTempTable(\"victims_tab\")\n",
    "victims_tab.show()\n",
    "\n",
    "# Get the date when the player was first killed by cheating.\n",
    "first_m_dates = spark.sql(\"\"\"SELECT * \n",
    "                             FROM (SELECT id, m_date, period, ROW_NUMBER() OVER (PARTITION BY id ORDER BY m_date) \n",
    "                             AS rownumber FROM victims_tab) WHERE rownumber IN (1)\"\"\")\n",
    "first_m_dates.registerTempTable(\"first_m_dates\")"
   ]
  },
  {
   "cell_type": "code",
   "execution_count": 57,
   "metadata": {},
   "outputs": [
    {
     "name": "stdout",
     "output_type": "stream",
     "text": [
      "+--------------------+----------+---------+-------------+------------+\n",
      "|                  id|start_date|total_exp|total_sev_exp|uniq_killers|\n",
      "+--------------------+----------+---------+-------------+------------+\n",
      "|account.d2cb5110d...|2019-03-03|        1|            0|           1|\n",
      "|account.d974dde55...|2019-03-02|        1|            0|           1|\n",
      "|account.e493e8036...|2019-03-02|        2|            0|           2|\n",
      "|account.52adde8ad...|2019-03-02|        1|            0|           1|\n",
      "|account.6825517dd...|2019-03-02|        2|            0|           1|\n",
      "+--------------------+----------+---------+-------------+------------+\n",
      "only showing top 5 rows\n",
      "\n"
     ]
    }
   ],
   "source": [
    "# Get the table that contains the total number of victimisation experiences and the number of unique cheaters.\n",
    "vic_info = spark.sql(\"\"\"SELECT id, start_date, SUM(exp) AS total_exp, SUM(sev_exp) AS total_sev_exp, \n",
    "                        COUNT(DISTINCT killer) AS uniq_killers \n",
    "                        FROM victims_tab GROUP BY id, start_date\"\"\")\n",
    "vic_info.registerTempTable(\"vic_info\")\n",
    "vic_info.show(5)"
   ]
  },
  {
   "cell_type": "code",
   "execution_count": 58,
   "metadata": {},
   "outputs": [
    {
     "name": "stdout",
     "output_type": "stream",
     "text": [
      "+--------------------+----------+----------+------+---------+-------------+------------+\n",
      "|                  id|start_date|    m_date|period|total_exp|total_sev_exp|uniq_killers|\n",
      "+--------------------+----------+----------+------+---------+-------------+------------+\n",
      "|account.e493e8036...|2019-03-02|2019-03-01|     1|        2|            0|           2|\n",
      "|account.53db3bd71...|2019-03-02|2019-03-01|     1|        1|            0|           1|\n",
      "|account.47ff35eca...|2019-03-02|2019-03-01|     1|        1|            1|           1|\n",
      "|account.52adde8ad...|2019-03-02|2019-03-01|     1|        1|            0|           1|\n",
      "|account.272b33c63...|2019-03-02|2019-03-01|     1|        1|            0|           1|\n",
      "|account.8c52a3348...|2019-03-02|2019-03-01|     1|        1|            1|           1|\n",
      "|account.d2cb5110d...|2019-03-03|2019-03-01|     2|        1|            0|           1|\n",
      "|account.6825517dd...|2019-03-02|2019-03-01|     1|        2|            0|           1|\n",
      "|account.70eb95960...|2019-03-02|2019-03-01|     1|        1|            1|           1|\n",
      "|account.c3d862798...|2019-03-02|2019-03-01|     1|        1|            0|           1|\n",
      "|account.ad074fb0c...|2019-03-02|2019-03-01|     1|        1|            1|           1|\n",
      "|account.d974dde55...|2019-03-02|2019-03-01|     1|        1|            0|           1|\n",
      "+--------------------+----------+----------+------+---------+-------------+------------+\n",
      "\n"
     ]
    }
   ],
   "source": [
    "add_dates = spark.sql(\"\"\"SELECT v.id, v.start_date, f.m_date, f.period, \n",
    "                         v.total_exp, v.total_sev_exp, v.uniq_killers \n",
    "                         FROM vic_info v LEFT JOIN first_m_dates f ON v.id = f.id\"\"\")\n",
    "add_dates.show()"
   ]
  },
  {
   "cell_type": "markdown",
   "metadata": {},
   "source": [
    "## 5. Plot the distribution of test statistics."
   ]
  },
  {
   "cell_type": "code",
   "execution_count": null,
   "metadata": {},
   "outputs": [],
   "source": [
    "# Plot the distribution of test statistics without considering the level of harm.\n",
    "num_of_motifs_emp = 224\n",
    "test_stats = [202, 223, 205, 189]\n",
    "\n",
    "pubg.plot_dist_of_test_stats(num_of_motifs_emp, test_stats)"
   ]
  },
  {
   "cell_type": "code",
   "execution_count": null,
   "metadata": {},
   "outputs": [],
   "source": [
    "# Plot the distribution of test statistics considering the level of harm.\n",
    "num_of_motifs_emp = 107\n",
    "test_stats = [86, 84, 75, 87]\n",
    "\n",
    "pubg.plot_dist_of_test_stats(num_of_motifs_emp, test_stats)"
   ]
  }
 ],
 "metadata": {
  "kernelspec": {
   "display_name": "Python 3",
   "language": "python",
   "name": "python3"
  },
  "language_info": {
   "codemirror_mode": {
    "name": "ipython",
    "version": 3
   },
   "file_extension": ".py",
   "mimetype": "text/x-python",
   "name": "python",
   "nbconvert_exporter": "python",
   "pygments_lexer": "ipython3",
   "version": "3.6.5"
  },
  "name": "4_victimisation_based_mechanism",
  "notebookId": 2613361705856739
 },
 "nbformat": 4,
 "nbformat_minor": 1
}
