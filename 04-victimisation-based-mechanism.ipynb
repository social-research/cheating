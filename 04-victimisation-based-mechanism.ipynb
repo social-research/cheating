{
 "cells": [
  {
   "cell_type": "markdown",
   "metadata": {},
   "source": [
    "## 04. Get the number of victimisation experiences."
   ]
  },
  {
   "cell_type": "code",
   "execution_count": 1,
   "metadata": {},
   "outputs": [],
   "source": [
    "import pandas as pd\n",
    "import numpy as np\n",
    "import get_simulation\n",
    "import summarize_results as sr"
   ]
  },
  {
   "cell_type": "code",
   "execution_count": 2,
   "metadata": {},
   "outputs": [],
   "source": [
    "td = spark.read.parquet(\"s3://social-research-cheating/edges/vic_data.parquet\")\n",
    "td.registerTempTable(\"td\")\n",
    "\n",
    "nodes = spark.read.parquet(\"s3://social-research-cheating/nodes.parquet\")\n",
    "nodes.registerTempTable(\"nodes\")"
   ]
  },
  {
   "cell_type": "markdown",
   "metadata": {},
   "source": [
    "## 1) Get the number of motifs in the empirical network."
   ]
  },
  {
   "cell_type": "code",
   "execution_count": null,
   "metadata": {},
   "outputs": [],
   "source": [
    "vic_data_with_damage = sr.add_damage(td, 30)\n",
    "vic_data_with_damage.registerTempTable(\"vic_data_with_damage\")\n",
    "\n",
    "transitions = spark.sql(\"\"\"SELECT * FROM vic_data_with_damage \n",
    "                           WHERE dst_sd != 'NA' AND src_flag == 1 AND m_date >= src_sd AND m_date < dst_sd\"\"\")\n",
    "transitions.registerTempTable(\"transitions\")"
   ]
  },
  {
   "cell_type": "code",
   "execution_count": 8,
   "metadata": {},
   "outputs": [
    {
     "name": "stdout",
     "output_type": "stream",
     "text": [
      "+--------------------+----------+----------+------+---------+-------------------+\n",
      "|                  id|start_date|    m_date|period|total_exp|total_severe_damage|\n",
      "+--------------------+----------+----------+------+---------+-------------------+\n",
      "|account.175b7548e...|2019-03-18|2019-03-08|    10|        2|                  1|\n",
      "|account.5dc434432...|2019-03-20|2019-03-18|     2|        1|                  0|\n",
      "|account.b81481155...|2019-03-28|2019-03-26|     2|        1|                  1|\n",
      "|account.d3a38978b...|2019-03-26|2019-03-05|    21|        8|                  3|\n",
      "|account.4bf9eed0f...|2019-03-15|2019-03-12|     3|        1|                  1|\n",
      "+--------------------+----------+----------+------+---------+-------------------+\n",
      "only showing top 5 rows\n",
      "\n"
     ]
    }
   ],
   "source": [
    "vic_summary_table = sr.get_vic_summary_tab(transitions)\n",
    "vic_summary_table.show(5)\n",
    "\n",
    "FILE_PATH = \"s3://social-research-cheating/summary-tables/emp-net/vic.parquet\"\n",
    "vic_summary_table.write.parquet(FILE_PATH)"
   ]
  },
  {
   "cell_type": "markdown",
   "metadata": {},
   "source": [
    "## 2) Create randomized networks."
   ]
  },
  {
   "cell_type": "code",
   "execution_count": 25,
   "metadata": {},
   "outputs": [],
   "source": [
    "# To include self-loops, use 'obs_data' instead of 'vic_data' when we create a mapping table.\n",
    "td = spark.read.parquet(\"s3://social-research-cheating/edges/obs_data.parquet\")\n",
    "td.registerTempTable(\"td\")\n",
    "\n",
    "team_ids = spark.read.parquet(\"s3://social-research-cheating/edges/tiny_team_data.parquet\")\n",
    "team_ids.registerTempTable(\"team_ids\")"
   ]
  },
  {
   "cell_type": "code",
   "execution_count": 3,
   "metadata": {},
   "outputs": [],
   "source": [
    "for i in range(101, 106):\n",
    "    mapping_table = get_simulation.permute_node_labels(td, nodes, team_ids)\n",
    "    mapping_table.write.parquet(\"s3://social-research-cheating/mapping-tables/map_\" + str(i) + \".parquet\")"
   ]
  },
  {
   "cell_type": "markdown",
   "metadata": {},
   "source": [
    "## 3) Get the number of motifs for each simulation."
   ]
  },
  {
   "cell_type": "code",
   "execution_count": 3,
   "metadata": {},
   "outputs": [],
   "source": [
    "for i in range(1, 6):\n",
    "    mapping_table = spark.read.parquet(\"s3://social-research-cheating/mapping-tables/map_\" \n",
    "                                       + str(i) + \".parquet\")\n",
    "    mapping_table.registerTempTable(\"mapping_table\")\n",
    "    \n",
    "    temp_rand_data = spark.sql(\"\"\"SELECT mid, src, randomised AS new_src, dst, time, m_date \n",
    "                                  FROM td t JOIN mapping_table m \n",
    "                                  ON t.src = m.original AND t.mid = m.match_id\"\"\")\n",
    "    temp_rand_data.registerTempTable(\"temp_rand_data\")\n",
    "    \n",
    "    randomized_data = spark.sql(\"\"\"SELECT mid, new_src AS src, randomised AS dst, time, m_date \n",
    "                                   FROM temp_rand_data t JOIN mapping_table m \n",
    "                                   ON t.dst = m.original AND t.mid = m.match_id\"\"\")\n",
    "    randomized_data.registerTempTable(\"randomized_data\")\n",
    "    \n",
    "    add_flags = spark.sql(\"\"\"SELECT mid, src, start_date AS src_sd, ban_date AS src_bd, \n",
    "                             cheating_flag AS src_flag, dst, time, m_date \n",
    "                             FROM randomized_data r JOIN nodes n ON r.src = n.id\"\"\")\n",
    "    add_flags.registerTempTable(\"add_flags\")\n",
    "    \n",
    "    randomized_data = spark.sql(\"\"\"SELECT mid, src, src_sd, src_bd, src_flag, \n",
    "                                   dst, start_date AS dst_sd, ban_date AS dst_bd, cheating_flag AS dst_flag, \n",
    "                                   time, m_date \n",
    "                                   FROM add_flags r JOIN nodes n ON r.dst = n.id\"\"\")\n",
    "    randomized_data.registerTempTable(\"td\")\n",
    "    \n",
    "    randomized_data_with_damage = sr.add_damage(randomized_data, 30)\n",
    "    randomized_data_with_damage.registerTempTable(\"randomized_data_with_damage\")\n",
    "    \n",
    "    transitions = spark.sql(\"\"\"SELECT * FROM randomized_data_with_damage \n",
    "                               WHERE dst_sd != 'NA' AND src_flag == 1 AND m_date >= src_sd AND m_date < dst_sd\"\"\")\n",
    "    transitions.registerTempTable(\"transitions\")\n",
    "\n",
    "    summary_table = sr.get_vic_summary_tab(transitions)\n",
    "\n",
    "    summary_table.write.parquet(\"s3://social-research-cheating/summary-tables/rand-net/vic/vic_\" \n",
    "                                + str(i) + \".parquet\")"
   ]
  }
 ],
 "metadata": {
  "kernelspec": {
   "display_name": "Python 3",
   "language": "python",
   "name": "python3"
  },
  "language_info": {
   "codemirror_mode": {
    "name": "ipython",
    "version": 3
   },
   "file_extension": ".py",
   "mimetype": "text/x-python",
   "name": "python",
   "nbconvert_exporter": "python",
   "pygments_lexer": "ipython3",
   "version": "3.6.5"
  },
  "name": "4_victimisation_based_mechanism",
  "notebookId": 2613361705856739
 },
 "nbformat": 4,
 "nbformat_minor": 1
}
