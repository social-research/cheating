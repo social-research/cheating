{
 "cells": [
  {
   "cell_type": "markdown",
   "metadata": {},
   "source": [
    "06-combine-two-mechanisms.ipynb\n",
    "======================\n",
    "\n",
    "In this section, we use the two tables from the previous sections to combine the two different mechanisms.\n",
    "\n",
    "**Things to do**\n",
    "* Test the results."
   ]
  },
  {
   "cell_type": "markdown",
   "metadata": {},
   "source": [
    "## Load packages and read tables."
   ]
  },
  {
   "cell_type": "code",
   "execution_count": 1,
   "metadata": {},
   "outputs": [],
   "source": [
    "from pyspark.sql.functions import col, lit, when\n",
    "import pandas as pd\n",
    "import matplotlib.pyplot as plt\n",
    "import numpy as np"
   ]
  },
  {
   "cell_type": "code",
   "execution_count": 3,
   "metadata": {},
   "outputs": [],
   "source": [
    "# Read a summary table of the victimisation-based mechanism.\n",
    "vic_tab = spark.read.parquet(\"s3://jinny-capstone-data-test/summary-tables/emp-net/vic_tab.parquet\")\n",
    "vic_tab.registerTempTable(\"vic_tab\")\n",
    "\n",
    "# Read a summary table of the observation-based mechanism.\n",
    "obs_tab = spark.read.parquet(\"s3://jinny-capstone-data-test/summary-tables/emp-net/obs_tab.parquet\")\n",
    "obs_tab.registerTempTable(\"obs_tab\")"
   ]
  },
  {
   "cell_type": "code",
   "execution_count": 4,
   "metadata": {},
   "outputs": [
    {
     "name": "stdout",
     "output_type": "stream",
     "text": [
      "+--------------------+----------+----------+------+---------+-------------+------------+\n",
      "|                  id|start_date|    m_date|period|total_exp|total_sev_exp|uniq_killers|\n",
      "+--------------------+----------+----------+------+---------+-------------+------------+\n",
      "|account.e493e8036...|2019-03-02|2019-03-01|     1|        2|            0|           2|\n",
      "|account.d30a1abaf...|2019-03-02|2019-03-01|     1|        1|            0|           1|\n",
      "|account.53db3bd71...|2019-03-02|2019-03-01|     1|        1|            0|           1|\n",
      "|account.47ff35eca...|2019-03-02|2019-03-01|     1|        1|            1|           1|\n",
      "|account.52adde8ad...|2019-03-02|2019-03-01|     1|        1|            0|           1|\n",
      "|account.272b33c63...|2019-03-02|2019-03-01|     1|        1|            0|           1|\n",
      "|account.476ee023d...|2019-03-02|2019-03-01|     1|        1|            0|           1|\n",
      "|account.d2cb5110d...|2019-03-03|2019-03-01|     2|        1|            0|           1|\n",
      "|account.6825517dd...|2019-03-02|2019-03-01|     1|        3|            0|           2|\n",
      "|account.70eb95960...|2019-03-02|2019-03-01|     1|        1|            1|           1|\n",
      "|account.c3d862798...|2019-03-02|2019-03-01|     1|        1|            0|           1|\n",
      "|account.ad074fb0c...|2019-03-02|2019-03-01|     1|        1|            1|           1|\n",
      "|account.3a5102f8e...|2019-03-02|2019-03-01|     1|        1|            1|           1|\n",
      "+--------------------+----------+----------+------+---------+-------------+------------+\n",
      "\n",
      "+--------------------+----------+----------+------+---------+-------------+-------------+\n",
      "|                  id|start_date|    m_date|period|total_obs|total_sev_dam|uniq_cheaters|\n",
      "+--------------------+----------+----------+------+---------+-------------+-------------+\n",
      "|account.090ca369b...|2019-03-02|2019-03-01|     1|        3|            0|            1|\n",
      "|account.272b33c63...|2019-03-02|2019-03-01|     1|       11|            0|            3|\n",
      "|account.da692c372...|2019-03-02|2019-03-01|     1|        8|            1|            2|\n",
      "|account.53db3bd71...|2019-03-02|2019-03-01|     1|        1|            0|            1|\n",
      "|account.ab15ceb31...|2019-03-02|2019-03-01|     1|        1|            0|            1|\n",
      "|account.8d69e3520...|2019-03-02|2019-03-01|     1|       59|           21|            7|\n",
      "|account.11dbd81ee...|2019-03-02|2019-03-01|     1|        9|            1|            4|\n",
      "|account.da1a6fa0b...|2019-03-02|2019-03-01|     1|       35|           17|            1|\n",
      "|account.27478c512...|2019-03-02|2019-03-01|     1|       50|           16|            6|\n",
      "|account.e493e8036...|2019-03-02|2019-03-01|     1|       23|            0|            3|\n",
      "|account.71aea180f...|2019-03-02|2019-03-01|     1|        6|            3|            1|\n",
      "|account.293b34d31...|2019-03-02|2019-03-01|     1|        3|            3|            2|\n",
      "|account.fde9def4e...|2019-03-03|2019-03-02|     1|       36|           16|            1|\n",
      "|account.29263c240...|2019-03-02|2019-03-01|     1|        6|            1|            2|\n",
      "|account.86e152b78...|2019-03-02|2019-03-01|     1|        3|            0|            1|\n",
      "|account.29c35033e...|2019-03-02|2019-03-01|     1|        6|            3|            1|\n",
      "|account.a972d04bf...|2019-03-02|2019-03-01|     1|        6|            3|            1|\n",
      "|account.6dccf1b38...|2019-03-02|2019-03-01|     1|       15|            0|            3|\n",
      "|account.8c52a3348...|2019-03-02|2019-03-01|     1|       14|            9|            4|\n",
      "|account.476ee023d...|2019-03-02|2019-03-01|     1|        3|            0|            1|\n",
      "+--------------------+----------+----------+------+---------+-------------+-------------+\n",
      "only showing top 20 rows\n",
      "\n"
     ]
    }
   ],
   "source": [
    "# Show the first few rows of each dataset.\n",
    "vic_tab.show()\n",
    "obs_tab.show()\n",
    "\n",
    "obs_df = obs_tab.toPandas()\n",
    "vic_df = vic_tab.toPandas()"
   ]
  },
  {
   "cell_type": "markdown",
   "metadata": {},
   "source": [
    "## 1. Merge two tables."
   ]
  },
  {
   "cell_type": "code",
   "execution_count": 5,
   "metadata": {},
   "outputs": [
    {
     "name": "stdout",
     "output_type": "stream",
     "text": [
      "+--------------------+----------+\n",
      "|                  id|start_date|\n",
      "+--------------------+----------+\n",
      "|account.090ca369b...|2019-03-02|\n",
      "|account.272b33c63...|2019-03-02|\n",
      "|account.da692c372...|2019-03-02|\n",
      "|account.53db3bd71...|2019-03-02|\n",
      "|account.ab15ceb31...|2019-03-02|\n",
      "|account.8d69e3520...|2019-03-02|\n",
      "|account.11dbd81ee...|2019-03-02|\n",
      "|account.da1a6fa0b...|2019-03-02|\n",
      "|account.27478c512...|2019-03-02|\n",
      "|account.e493e8036...|2019-03-02|\n",
      "+--------------------+----------+\n",
      "only showing top 10 rows\n",
      "\n"
     ]
    }
   ],
   "source": [
    "# Create a table that contains player (cheater) IDs and the start dates of cheating adoption for each cheater\n",
    "dates_obs = obs_df[['id', 'start_date']]\n",
    "dates_vic = vic_df[['id', 'start_date']]\n",
    "dates_df = pd.concat([dates_obs, dates_vic])\n",
    "dates_df = dates_df.drop_duplicates(subset=['id', 'start_date'])\n",
    "dates_df = spark.createDataFrame(dates_df)\n",
    "dates_df.registerTempTable(\"dates_df\")\n",
    "dates_df.show(10)"
   ]
  },
  {
   "cell_type": "code",
   "execution_count": 6,
   "metadata": {},
   "outputs": [
    {
     "name": "stdout",
     "output_type": "stream",
     "text": [
      "+--------------------+----------+---------+---------+\n",
      "|                  id|start_date|total_obs|total_exp|\n",
      "+--------------------+----------+---------+---------+\n",
      "|account.090ca369b...|2019-03-02|        3|        0|\n",
      "|account.272b33c63...|2019-03-02|       11|        1|\n",
      "|account.da692c372...|2019-03-02|        8|        0|\n",
      "|account.53db3bd71...|2019-03-02|        1|        1|\n",
      "|account.ab15ceb31...|2019-03-02|        1|        0|\n",
      "|account.8d69e3520...|2019-03-02|       59|        0|\n",
      "|account.11dbd81ee...|2019-03-02|        9|        0|\n",
      "|account.da1a6fa0b...|2019-03-02|       35|        0|\n",
      "|account.27478c512...|2019-03-02|       50|        0|\n",
      "|account.e493e8036...|2019-03-02|       23|        2|\n",
      "+--------------------+----------+---------+---------+\n",
      "only showing top 10 rows\n",
      "\n"
     ]
    }
   ],
   "source": [
    "add_obs_info = spark.sql(\"\"\"SELECT t.id, t.start_date, \n",
    "                            CASE WHEN total_obs IS NULL THEN 0 ELSE total_obs END AS total_obs \n",
    "                            FROM dates_df t LEFT JOIN obs_tab o ON t.id = o.id\"\"\")\n",
    "add_obs_info.registerTempTable(\"add_obs_info\")\n",
    "\n",
    "merged_df = spark.sql(\"\"\"SELECT t.id, t.start_date, t.total_obs, \n",
    "                         CASE WHEN total_exp IS NULL THEN 0 ELSE total_exp END AS total_exp \n",
    "                         FROM add_obs_info t LEFT JOIN vic_tab o ON t.id = o.id\"\"\")\n",
    "merged_df.show(10)"
   ]
  },
  {
   "cell_type": "markdown",
   "metadata": {},
   "source": [
    "## 2. Get the number of times the motif appears in the network."
   ]
  },
  {
   "cell_type": "code",
   "execution_count": null,
   "metadata": {},
   "outputs": [],
   "source": [
    "# Find the number of cheaters who adopted cheating after being killed by cheating once and observing two cheaters.\n",
    "merged_df.registerTempTable(\"merged_df\")\n",
    "\n",
    "motifs = spark.sql(\"SELECT * FROM merged_df WHERE total_exp = 1 AND total_obs = 2\")\n",
    "motifs.show()\n",
    "print(motifs.count())"
   ]
  },
  {
   "cell_type": "markdown",
   "metadata": {},
   "source": [
    "## 3. Plot the distribution of experiences and observations."
   ]
  },
  {
   "cell_type": "code",
   "execution_count": 7,
   "metadata": {},
   "outputs": [
    {
     "name": "stdout",
     "output_type": "stream",
     "text": [
      "    total_obs  total_exp  freq\n",
      "0           1          0     3\n",
      "1           1          1     1\n",
      "2           2          0     2\n",
      "3           2          1     1\n",
      "4           3          0     8\n",
      "5           3          1     1\n",
      "6           4          0     2\n",
      "7           6          0     4\n",
      "8           7          0     1\n",
      "9           8          0     3\n",
      "10          8          3     1\n",
      "11          9          0     1\n",
      "12         10          1     1\n",
      "13         11          1     2\n",
      "14         12          1     1\n",
      "15         13          0     1\n",
      "16         14          0     1\n",
      "17         15          0     1\n",
      "18         16          0     1\n",
      "19         17          0     1\n"
     ]
    }
   ],
   "source": [
    "merged_tab = merged_df.toPandas()\n",
    "merged_tab = merged_tab.groupby(['total_obs', 'total_exp']).size().reset_index(name=\"freq\")\n",
    "print(merged_tab)"
   ]
  },
  {
   "cell_type": "code",
   "execution_count": 9,
   "metadata": {},
   "outputs": [
    {
     "data": {
      "image/png": "[encoded data removed]",
      "text/plain": [
       "<Figure size 432x288 with 1 Axes>"
      ]
     },
     "metadata": {},
     "output_type": "display_data"
    }
   ],
   "source": [
    "# Create a scatter plot.\n",
    "fig = plt.scatter(merged_tab['total_exp'], merged_tab['total_obs'], s=merged_tab['freq']*10, alpha=0.5)\n",
    "plt.title('')\n",
    "plt.xlabel('Number of total victimisation experiences')\n",
    "plt.ylabel('Number of total observations')\n",
    "plt.tight_layout()\n",
    "plt.show()"
   ]
  }
 ],
 "metadata": {
  "kernelspec": {
   "display_name": "Python 3",
   "language": "python",
   "name": "python3"
  },
  "language_info": {
   "codemirror_mode": {
    "name": "ipython",
    "version": 3
   },
   "file_extension": ".py",
   "mimetype": "text/x-python",
   "name": "python",
   "nbconvert_exporter": "python",
   "pygments_lexer": "ipython3",
   "version": "3.6.5"
  }
 },
 "nbformat": 4,
 "nbformat_minor": 2
}
