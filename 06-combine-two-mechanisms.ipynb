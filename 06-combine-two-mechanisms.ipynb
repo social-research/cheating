{
 "cells": [
  {
   "cell_type": "markdown",
   "metadata": {},
   "source": [
    "### 06. Count the pairs of victimisation experiences and observations."
   ]
  },
  {
   "cell_type": "markdown",
   "metadata": {},
   "source": [
    "---\n",
    "In this section, we use the two tables from the previous sections to combine the two different mechanisms.\n",
    "\n",
    "**Things to do**\n",
    "* Test the results.\n",
    "* Make code modular (create a function for plotting)."
   ]
  },
  {
   "cell_type": "code",
   "execution_count": 1,
   "metadata": {},
   "outputs": [],
   "source": [
    "from pyspark.sql.functions import col, lit, when\n",
    "import pandas as pd\n",
    "import matplotlib.pyplot as plt\n",
    "import numpy as np"
   ]
  },
  {
   "cell_type": "code",
   "execution_count": 2,
   "metadata": {},
   "outputs": [],
   "source": [
    "# Read a summary table of the victimisation-based mechanism.\n",
    "PATH_TO_VIC_DATA = \"s3://social-research-cheating/summary-tables/emp-net/vic/vic_30.parquet\"\n",
    "vic_data = spark.read.parquet(PATH_TO_VIC_DATA)\n",
    "vic_data.registerTempTable(\"vic_data\")\n",
    "\n",
    "# Read a summary table of the observation-based mechanism.\n",
    "PATH_TO_OBS_DATA = \"s3://social-research-cheating/summary-tables/emp-net/obs/obs_30_5.parquet\"\n",
    "obs_data = spark.read.parquet(PATH_TO_OBS_DATA)\n",
    "obs_data.registerTempTable(\"obs_data\")"
   ]
  },
  {
   "cell_type": "code",
   "execution_count": 3,
   "metadata": {},
   "outputs": [],
   "source": [
    "# Collect the transitions that happened within seven days after observing or being killed by cheating.\n",
    "vic_tab = spark.sql(\"SELECT * FROM vic_data WHERE period <= 7\")\n",
    "obs_tab = spark.sql(\"SELECT * FROM obs_data WHERE period <= 7\")\n",
    "\n",
    "vic_tab.registerTempTable(\"vic_tab\")\n",
    "obs_tab.registerTempTable(\"obs_tab\")"
   ]
  },
  {
   "cell_type": "code",
   "execution_count": 4,
   "metadata": {},
   "outputs": [
    {
     "name": "stdout",
     "output_type": "stream",
     "text": [
      "+--------------------+----------+----------+------+---------+-------------+------------+\n",
      "|                  id|start_date|    m_date|period|total_exp|total_sev_exp|uniq_killers|\n",
      "+--------------------+----------+----------+------+---------+-------------+------------+\n",
      "|account.393b6ee09...|2019-03-08|2019-03-01|     7|        2|            1|           2|\n",
      "|account.3f888b606...|2019-03-10|2019-03-05|     5|        7|            4|           7|\n",
      "|account.4b6c650bd...|2019-03-15|2019-03-11|     4|        2|            0|           2|\n",
      "|account.73e50018a...|2019-03-27|2019-03-20|     7|        1|            1|           1|\n",
      "|account.b3e7bbe4a...|2019-03-09|2019-03-04|     5|        1|            0|           1|\n",
      "+--------------------+----------+----------+------+---------+-------------+------------+\n",
      "only showing top 5 rows\n",
      "\n",
      "+--------------------+----------+----------+------+---------+-------------+--------------+------------+\n",
      "|                  id|start_date|    m_date|period|total_obs|total_sev_dam|total_cheaters|sev_cheaters|\n",
      "+--------------------+----------+----------+------+---------+-------------+--------------+------------+\n",
      "|account.89e89a88e...|2019-03-08|2019-03-02|     6|       57|           14|             5|           3|\n",
      "|account.14a9052f2...|2019-03-08|2019-03-01|     7|      127|           11|             8|           3|\n",
      "|account.d09650395...|2019-03-10|2019-03-07|     3|       21|            2|             1|           1|\n",
      "|account.8d20619cf...|2019-03-06|2019-03-05|     1|       21|            4|             1|           1|\n",
      "|account.22f135474...|2019-03-07|2019-03-02|     5|        8|            0|             0|           0|\n",
      "+--------------------+----------+----------+------+---------+-------------+--------------+------------+\n",
      "only showing top 5 rows\n",
      "\n"
     ]
    }
   ],
   "source": [
    "# Show the first few rows of each dataset.\n",
    "vic_tab.show(5)\n",
    "obs_tab.show(5)\n",
    "\n",
    "# Convert spark dataframes into pandas dataframes.\n",
    "obs_df = obs_tab.toPandas()\n",
    "vic_df = vic_tab.toPandas()"
   ]
  },
  {
   "cell_type": "markdown",
   "metadata": {},
   "source": [
    "### 1. Merge two tables."
   ]
  },
  {
   "cell_type": "code",
   "execution_count": 5,
   "metadata": {},
   "outputs": [
    {
     "name": "stdout",
     "output_type": "stream",
     "text": [
      "+--------------------+----------+\n",
      "|                  id|start_date|\n",
      "+--------------------+----------+\n",
      "|account.89e89a88e...|2019-03-08|\n",
      "|account.14a9052f2...|2019-03-08|\n",
      "|account.d09650395...|2019-03-10|\n",
      "|account.8d20619cf...|2019-03-06|\n",
      "|account.22f135474...|2019-03-07|\n",
      "|account.826ffb6b1...|2019-03-10|\n",
      "|account.2ec53847e...|2019-03-11|\n",
      "|account.72d7c8781...|2019-03-06|\n",
      "|account.0e6d54c93...|2019-03-05|\n",
      "|account.ed34dc343...|2019-03-10|\n",
      "+--------------------+----------+\n",
      "only showing top 10 rows\n",
      "\n"
     ]
    }
   ],
   "source": [
    "# Create a table that contains player (cheater) IDs and the start dates of cheating adoption for each cheater\n",
    "dates_obs = obs_df[['id', 'start_date']]\n",
    "dates_vic = vic_df[['id', 'start_date']]\n",
    "dates_df = pd.concat([dates_obs, dates_vic])\n",
    "dates_df = dates_df.drop_duplicates(subset=['id', 'start_date'])\n",
    "dates_df = spark.createDataFrame(dates_df)\n",
    "dates_df.registerTempTable(\"dates_df\")\n",
    "dates_df.show(10)"
   ]
  },
  {
   "cell_type": "code",
   "execution_count": 6,
   "metadata": {},
   "outputs": [
    {
     "name": "stdout",
     "output_type": "stream",
     "text": [
      "+--------------------+----------+---------+-------+---------+-------+\n",
      "|                  id|start_date|total_obs|sev_obs|total_exp|sev_exp|\n",
      "+--------------------+----------+---------+-------+---------+-------+\n",
      "|account.89e89a88e...|2019-03-08|        5|      3|        3|      2|\n",
      "|account.14a9052f2...|2019-03-08|        8|      3|        6|      3|\n",
      "|account.d09650395...|2019-03-10|        1|      1|        1|      0|\n",
      "|account.8d20619cf...|2019-03-06|        1|      1|        0|      0|\n",
      "|account.22f135474...|2019-03-07|        0|      0|        0|      0|\n",
      "|account.826ffb6b1...|2019-03-10|        0|      0|        0|      0|\n",
      "|account.2ec53847e...|2019-03-11|        3|      1|        1|      0|\n",
      "|account.72d7c8781...|2019-03-06|        3|      1|        0|      0|\n",
      "|account.0e6d54c93...|2019-03-05|        1|      0|        1|      1|\n",
      "|account.ed34dc343...|2019-03-10|        0|      0|        0|      0|\n",
      "+--------------------+----------+---------+-------+---------+-------+\n",
      "only showing top 10 rows\n",
      "\n"
     ]
    }
   ],
   "source": [
    "add_obs_info = spark.sql(\"\"\"SELECT t.id, t.start_date, \n",
    "                            CASE WHEN total_cheaters IS NULL THEN 0 ELSE total_cheaters END AS total_obs, \n",
    "                            CASE WHEN sev_cheaters IS NULL THEN 0 ELSE sev_cheaters END AS sev_obs \n",
    "                            FROM dates_df t LEFT JOIN obs_tab o ON t.id = o.id\"\"\")\n",
    "add_obs_info.registerTempTable(\"add_obs_info\")\n",
    "\n",
    "merged_df = spark.sql(\"\"\"SELECT t.id, t.start_date, t.total_obs, sev_obs,\n",
    "                         CASE WHEN total_exp IS NULL THEN 0 ELSE total_exp END AS total_exp,\n",
    "                         CASE WHEN total_sev_exp IS NULL THEN 0 ELSE total_sev_exp END AS sev_exp \n",
    "                         FROM add_obs_info t LEFT JOIN vic_tab o ON t.id = o.id\"\"\")\n",
    "merged_df.show(10)"
   ]
  },
  {
   "cell_type": "markdown",
   "metadata": {},
   "source": [
    "### 2. Plot the distribution of experiences and observations."
   ]
  },
  {
   "cell_type": "code",
   "execution_count": 7,
   "metadata": {},
   "outputs": [
    {
     "name": "stdout",
     "output_type": "stream",
     "text": [
      "   total_obs  total_exp  freq\n",
      "0          0          0   644\n",
      "1          0          1   180\n",
      "2          0          2    29\n",
      "3          0          3    11\n",
      "4          0          4     1\n",
      "    total_obs  total_exp  freq\n",
      "71         19          7     1\n",
      "72         25          2     1\n",
      "73         26          2     1\n",
      "74         27          4     1\n",
      "75         37          2     1\n"
     ]
    }
   ],
   "source": [
    "merged_tab = merged_df.toPandas()\n",
    "pairs_tab = merged_tab.groupby(['total_obs', 'total_exp']).size().reset_index(name=\"freq\")\n",
    "\n",
    "# Print the first 5 and last 5 rows.\n",
    "print(pairs_tab.head())\n",
    "print(pairs_tab.tail())"
   ]
  },
  {
   "cell_type": "code",
   "execution_count": 8,
   "metadata": {},
   "outputs": [],
   "source": [
    "# Store the dataframe as an excel file.\n",
    "pairs_tab.to_csv('emp_data.csv', index=False)"
   ]
  },
  {
   "cell_type": "code",
   "execution_count": 9,
   "metadata": {},
   "outputs": [
    {
     "name": "stdout",
     "output_type": "stream",
     "text": [
      "   total_obs  sev_exp  freq\n",
      "0          0        0   805\n",
      "1          0        1    58\n",
      "2          0        2     4\n",
      "3          0        3     1\n",
      "4          1        0   385\n",
      "    total_obs  sev_exp  freq\n",
      "55         19        4     1\n",
      "56         25        1     1\n",
      "57         26        0     1\n",
      "58         27        2     1\n",
      "59         37        0     1\n"
     ]
    }
   ],
   "source": [
    "merged_tab = merged_df.toPandas()\n",
    "sev_pairs_tab = merged_tab.groupby(['total_obs', 'sev_exp']).size().reset_index(name=\"freq\")\n",
    "\n",
    "# Print the first 5 and last 5 rows.\n",
    "print(sev_pairs_tab.head())\n",
    "print(sev_pairs_tab.tail())\n",
    "\n",
    "# Store the dataframe as an excel file.\n",
    "sev_pairs_tab.to_csv('sev_emp_tab_5_7.csv', index=False)"
   ]
  },
  {
   "cell_type": "markdown",
   "metadata": {},
   "source": [
    "### 3. Create a merged data table for randomised networks."
   ]
  },
  {
   "cell_type": "markdown",
   "metadata": {},
   "source": [
    "First, we put the number of (observations, experiences) into each cell."
   ]
  },
  {
   "cell_type": "code",
   "execution_count": 10,
   "metadata": {},
   "outputs": [],
   "source": [
    "for i in range(1, 6):\n",
    "    # Read a summary table of the victimisation-based mechanism.\n",
    "    vic_data = spark.read.parquet(\"s3://social-research-cheating/summary-tables/rand-net/vic/vic_30_\" \n",
    "                                 + str(i) + \".parquet\")\n",
    "    vic_data.registerTempTable(\"vic_data\")\n",
    "\n",
    "    # Read a summary table of the observation-based mechanism.\n",
    "    obs_data = spark.read.parquet(\"s3://social-research-cheating/summary-tables/rand-net/obs/obs_30_5/obs_30_5_\" \n",
    "                                 + str(i) + \".parquet\")\n",
    "    obs_data.registerTempTable(\"obs_data\")\n",
    "    \n",
    "    # Collect the transitions that happened within seven days after observing or being killed by cheating.\n",
    "    vic_tab = spark.sql(\"SELECT * FROM vic_data WHERE period <= 7\")\n",
    "    obs_tab = spark.sql(\"SELECT * FROM obs_data WHERE period <= 7\")\n",
    "\n",
    "    vic_tab.registerTempTable(\"vic_tab\")\n",
    "    obs_tab.registerTempTable(\"obs_tab\")\n",
    "\n",
    "    obs_df = obs_tab.toPandas()\n",
    "    vic_df = vic_tab.toPandas()\n",
    "    \n",
    "    dates_obs = obs_df[['id', 'start_date']]\n",
    "    dates_vic = vic_df[['id', 'start_date']]\n",
    "    dates_df = pd.concat([dates_obs, dates_vic])\n",
    "    dates_df = dates_df.drop_duplicates(subset=['id', 'start_date'])\n",
    "    dates_df = spark.createDataFrame(dates_df)\n",
    "    dates_df.registerTempTable(\"dates_df\")\n",
    "    \n",
    "    add_obs_info = spark.sql(\"\"\"SELECT t.id, t.start_date, \n",
    "                                CASE WHEN total_cheaters IS NULL THEN 0 ELSE total_cheaters END AS total_obs, \n",
    "                                CASE WHEN sev_cheaters IS NULL THEN 0 ELSE sev_cheaters END AS sev_obs \n",
    "                                FROM dates_df t LEFT JOIN obs_tab o ON t.id = o.id\"\"\")\n",
    "    add_obs_info.registerTempTable(\"add_obs_info\")\n",
    "\n",
    "    merged_df = spark.sql(\"\"\"SELECT t.id, t.start_date, t.total_obs, sev_obs,\n",
    "                             CASE WHEN total_exp IS NULL THEN 0 ELSE total_exp END AS total_exp,\n",
    "                             CASE WHEN total_sev_exp IS NULL THEN 0 ELSE total_sev_exp END AS sev_exp \n",
    "                             FROM add_obs_info t LEFT JOIN vic_tab o ON t.id = o.id\"\"\")\n",
    "    \n",
    "    merged_tab = merged_df.toPandas()\n",
    "    \n",
    "    pairs_tab = merged_tab.groupby(['total_obs', 'total_exp']).size().reset_index(name=\"freq\")\n",
    "    pairs_tab.to_csv('rand_data_' + str(i) + '.csv', index=False)\n",
    "    \n",
    "    # sev_pairs_tab = merged_tab.groupby(['total_obs', 'sev_exp']).size().reset_index(name=\"freq\")\n",
    "    # sev_pairs_tab.to_csv('sev_rand_tab_30_1_2_' + str(i) + '.csv', index=False)"
   ]
  },
  {
   "cell_type": "code",
   "execution_count": 11,
   "metadata": {},
   "outputs": [
    {
     "name": "stdout",
     "output_type": "stream",
     "text": [
      "   total_obs  total_exp      E     R1     R2     R3     R4     R5\n",
      "0          0          0  644.0  653.0  664.0  644.0  651.0  648.0\n",
      "1          0          1  180.0  181.0  188.0  183.0  196.0  170.0\n",
      "2          0          2   29.0   35.0   31.0   31.0   38.0   26.0\n",
      "3          0          3   11.0    7.0    9.0   12.0    9.0   15.0\n",
      "4          0          4    1.0    1.0    2.0    4.0    2.0    3.0\n"
     ]
    }
   ],
   "source": [
    "data = pd.read_csv(\"emp_data.csv\")\n",
    "data = data.rename(columns={'freq': 'E'})\n",
    "\n",
    "rand_dat = pd.read_csv(\"rand_data_1.csv\")\n",
    "merged_df = pd.merge(data, rand_dat, on=['total_obs','total_exp'], how='outer')\n",
    "merged_df = merged_df.fillna(0).sort_values(by=['total_obs','total_exp'])\n",
    "merged_df = merged_df.rename(columns={'freq': 'R1'})\n",
    "\n",
    "for i in range(2, 6):\n",
    "    rand_dat = pd.read_csv(\"rand_data_\" + str(i) + \".csv\")\n",
    "    merged_df = pd.merge(merged_df, rand_dat, on=['total_obs','total_exp'], how='outer')\n",
    "    merged_df = merged_df.fillna(0).sort_values(by=['total_obs','total_exp'])\n",
    "    merged_df = merged_df.rename(columns={'freq': 'R' + str(i)})\n",
    "\n",
    "print(merged_df.head())"
   ]
  },
  {
   "cell_type": "code",
   "execution_count": 12,
   "metadata": {},
   "outputs": [],
   "source": [
    "merged_df.to_csv('res_30_5_7.csv', index=False)"
   ]
  },
  {
   "cell_type": "markdown",
   "metadata": {},
   "source": [
    "Next, we put the number of (observations, experiences) into each cell."
   ]
  },
  {
   "cell_type": "code",
   "execution_count": null,
   "metadata": {},
   "outputs": [],
   "source": [
    "for i in range(1, 6):\n",
    "    # Read a summary table of the victimisation-based mechanism.\n",
    "    vic_data = spark.read.parquet(\"s3://social-research-cheating/summary-tables/rand-net/vic/vic_30_\" \n",
    "                                 + str(i) + \".parquet\")\n",
    "    vic_data.registerTempTable(\"vic_data\")\n",
    "\n",
    "    # Read a summary table of the observation-based mechanism.\n",
    "    obs_data = spark.read.parquet(\"s3://social-research-cheating/summary-tables/rand-net/obs/obs_30_5/obs_30_5_\" \n",
    "                                 + str(i) + \".parquet\")\n",
    "    obs_data.registerTempTable(\"obs_data\")\n",
    "    \n",
    "    # Collect the transitions that happened within seven days after observing or being killed by cheating.\n",
    "    vic_tab = spark.sql(\"SELECT * FROM vic_data WHERE period <= 7\")\n",
    "    obs_tab = spark.sql(\"SELECT * FROM obs_data WHERE period <= 7\")\n",
    "\n",
    "    vic_tab.registerTempTable(\"vic_tab\")\n",
    "    obs_tab.registerTempTable(\"obs_tab\")\n",
    "\n",
    "    obs_df = obs_tab.toPandas()\n",
    "    vic_df = vic_tab.toPandas()\n",
    "    \n",
    "    dates_obs = obs_df[['id', 'start_date']]\n",
    "    dates_vic = vic_df[['id', 'start_date']]\n",
    "    dates_df = pd.concat([dates_obs, dates_vic])\n",
    "    dates_df = dates_df.drop_duplicates(subset=['id', 'start_date'])\n",
    "    dates_df = spark.createDataFrame(dates_df)\n",
    "    dates_df.registerTempTable(\"dates_df\")\n",
    "    \n",
    "    add_obs_info = spark.sql(\"\"\"SELECT t.id, t.start_date, \n",
    "                                CASE WHEN total_cheaters IS NULL THEN 0 ELSE total_cheaters END AS total_obs, \n",
    "                                CASE WHEN sev_cheaters IS NULL THEN 0 ELSE sev_cheaters END AS sev_obs \n",
    "                                FROM dates_df t LEFT JOIN obs_tab o ON t.id = o.id\"\"\")\n",
    "    add_obs_info.registerTempTable(\"add_obs_info\")\n",
    "\n",
    "    merged_df = spark.sql(\"\"\"SELECT t.id, t.start_date, t.total_obs, sev_obs,\n",
    "                             CASE WHEN total_exp IS NULL THEN 0 ELSE total_exp END AS total_exp,\n",
    "                             CASE WHEN total_sev_exp IS NULL THEN 0 ELSE total_sev_exp END AS sev_exp \n",
    "                             FROM add_obs_info t LEFT JOIN vic_tab o ON t.id = o.id\"\"\")\n",
    "    \n",
    "    merged_tab = merged_df.toPandas()\n",
    "    \n",
    "    pairs_tab = merged_tab.groupby(['total_obs', 'total_exp']).size().reset_index(name=\"freq\")\n",
    "    pairs_tab.to_csv('rand_data_' + str(i) + '.csv', index=False)\n",
    "    \n",
    "    # sev_pairs_tab = merged_tab.groupby(['total_obs', 'sev_exp']).size().reset_index(name=\"freq\")\n",
    "    # sev_pairs_tab.to_csv('sev_rand_tab_30_1_2_' + str(i) + '.csv', index=False)"
   ]
  },
  {
   "cell_type": "code",
   "execution_count": null,
   "metadata": {},
   "outputs": [],
   "source": [
    "data = pd.read_csv(\"emp_data.csv\")\n",
    "data = data.rename(columns={'freq': 'E'})\n",
    "\n",
    "rand_dat = pd.read_csv(\"rand_data_1.csv\")\n",
    "merged_df = pd.merge(data, rand_dat, on=['total_obs','total_exp'], how='outer')\n",
    "merged_df = merged_df.fillna(0).sort_values(by=['total_obs','total_exp'])\n",
    "merged_df = merged_df.rename(columns={'freq': 'R1'})\n",
    "\n",
    "for i in range(2, 6):\n",
    "    rand_dat = pd.read_csv(\"rand_data_\" + str(i) + \".csv\")\n",
    "    merged_df = pd.merge(merged_df, rand_dat, on=['total_obs','total_exp'], how='outer')\n",
    "    merged_df = merged_df.fillna(0).sort_values(by=['total_obs','total_exp'])\n",
    "    merged_df = merged_df.rename(columns={'freq': 'R' + str(i)})\n",
    "\n",
    "print(merged_df.head())"
   ]
  },
  {
   "cell_type": "code",
   "execution_count": null,
   "metadata": {},
   "outputs": [],
   "source": [
    "merged_df.to_csv('res_30_5_7.csv', index=False)"
   ]
  },
  {
   "cell_type": "markdown",
   "metadata": {},
   "source": [
    "### 4. Create a heatmap."
   ]
  },
  {
   "cell_type": "code",
   "execution_count": 3,
   "metadata": {},
   "outputs": [],
   "source": [
    "import numpy as np\n",
    "import matplotlib.pylab as plt\n",
    "import pandas as pd\n",
    "import matplotlib\n",
    "from matplotlib.colors import DivergingNorm\n",
    "import scipy.stats"
   ]
  },
  {
   "cell_type": "code",
   "execution_count": 4,
   "metadata": {},
   "outputs": [],
   "source": [
    "params = {\n",
    "    'text.latex.preamble': ['\\\\usepackage{gensymb}'],\n",
    "    'image.origin': 'lower',\n",
    "    'image.interpolation': 'nearest',\n",
    "    'image.cmap': 'bwr_r',\n",
    "    'axes.grid': False,\n",
    "    'savefig.dpi': 150,\n",
    "    'axes.labelsize': 12, # Adjust the font size of x and y labels.\n",
    "    'axes.titlesize': 12,\n",
    "    'axes.facecolor': 'lightgray',\n",
    "    'font.size': 8, \n",
    "    'legend.fontsize': 6,\n",
    "    'xtick.labelsize': 12,\n",
    "    'ytick.labelsize': 12,\n",
    "    'text.usetex': True,\n",
    "    'figure.figsize': [15, 7],\n",
    "    'font.family': 'serif'\n",
    "}\n",
    "matplotlib.rcParams.update(params)\n",
    "\n",
    "\n",
    "def colorbar(mappable):\n",
    "    from mpl_toolkits.axes_grid1 import make_axes_locatable\n",
    "    \n",
    "    last_axes = plt.gca()\n",
    "    ax = mappable.axes\n",
    "    fig = ax.figure\n",
    "    divider = make_axes_locatable(ax)\n",
    "    cax = divider.append_axes(\"right\", size=\"3%\", pad=0.1)\n",
    "    cbar = fig.colorbar(mappable, cax=cax)\n",
    "    plt.sca(last_axes)\n",
    "    return cbar"
   ]
  },
  {
   "cell_type": "code",
   "execution_count": 5,
   "metadata": {},
   "outputs": [],
   "source": [
    "merged_df = pd.read_csv('data/res_30_5_7.csv')\n",
    "merged_df = merged_df.drop(merged_df[merged_df.total_obs > 20].index)\n",
    "merged_df = merged_df.drop(merged_df[merged_df.total_exp > 8].index)\n",
    "\n",
    "test_dat = merged_df.sort_values(['total_exp', 'total_obs']).reset_index(drop=True)\n",
    "\n",
    "test_dat['rand_mean'] = test_dat.iloc[:, 3:].mean(axis=1)\n",
    "test_dat['cdf'] = scipy.stats.poisson.cdf(test_dat['E'], test_dat['rand_mean'])\n",
    "test_dat['pmf'] = scipy.stats.poisson.pmf(test_dat['E'], test_dat['rand_mean'])\n",
    "test_dat['prob'] = 1 - test_dat['cdf'] + test_dat['pmf']\n",
    "\n",
    "test_dat = test_dat.round({\"rand_mean\":2, \"cdf\":3, \"pmf\":3, \"prob\":3})"
   ]
  },
  {
   "cell_type": "code",
   "execution_count": 6,
   "metadata": {},
   "outputs": [
    {
     "name": "stdout",
     "output_type": "stream",
     "text": [
      "   total_obs  total_exp      E     R1     R2     R3     R4     R5  rand_mean  \\\n",
      "0          0          0  644.0  653.0  664.0  644.0  651.0  648.0      652.0   \n",
      "1          1          0  330.0  339.0  323.0  337.0  343.0  340.0      336.4   \n",
      "2          2          0  122.0  122.0  126.0  117.0  112.0  122.0      119.8   \n",
      "3          3          0   50.0   37.0   52.0   52.0   55.0   46.0       48.4   \n",
      "4          4          0   26.0   35.0   33.0   25.0   21.0   30.0       28.8   \n",
      "\n",
      "     cdf    pmf   prob  \n",
      "0  0.387  0.015  0.628  \n",
      "1  0.377  0.021  0.644  \n",
      "2  0.603  0.035  0.432  \n",
      "3  0.627  0.055  0.428  \n",
      "4  0.344  0.068  0.724  \n"
     ]
    }
   ],
   "source": [
    "print(test_dat.head())"
   ]
  },
  {
   "cell_type": "code",
   "execution_count": 7,
   "metadata": {},
   "outputs": [
    {
     "name": "stdout",
     "output_type": "stream",
     "text": [
      "total_obs     0      1      2      3      4      5      6      7      8   \\\n",
      "total_exp                                                                  \n",
      "0          0.628  0.644  0.432  0.428  0.724  0.017  0.229  0.733  0.332   \n",
      "1          0.615  0.332  0.812  0.023  0.929  0.091  0.787  0.129  0.922   \n",
      "2          0.737  0.682  0.258  0.085  0.417  0.875  0.815  0.645  0.269   \n",
      "3          0.467  0.221  0.181  0.934  0.769  0.280  0.762  0.023  0.537   \n",
      "4          0.909  1.000  0.451  0.551  0.577  1.000  0.699  0.122  0.551   \n",
      "5          0.023    NaN    NaN  1.000  0.475    NaN  0.551  0.062  0.330   \n",
      "6            NaN    NaN    NaN    NaN    NaN    NaN    NaN  1.000  0.330   \n",
      "7            NaN    NaN    NaN    NaN  1.000  1.000    NaN    NaN    NaN   \n",
      "8            NaN    NaN    NaN    NaN  1.000    NaN    NaN    NaN    NaN   \n",
      "\n",
      "total_obs     9   ...     11     12     13     14   15    16   17     18   19  \\\n",
      "total_exp         ...                                                           \n",
      "0          0.733  ...  1.000  0.181  0.451  0.408  NaN  0.33  1.0  1.000  NaN   \n",
      "1          0.889  ...  0.692  0.753  1.000  1.000  1.0   NaN  1.0  0.018  NaN   \n",
      "2          0.753  ...  1.000  1.000  0.451  1.000  NaN  1.00  1.0  1.000  NaN   \n",
      "3          0.699  ...  1.000  0.062  1.000    NaN  0.0   NaN  1.0    NaN  0.0   \n",
      "4          1.000  ...  1.000  1.000    NaN    NaN  NaN   NaN  NaN  1.000  NaN   \n",
      "5          1.000  ...  0.330    NaN  1.000    NaN  NaN   NaN  1.0    NaN  NaN   \n",
      "6          1.000  ...  1.000    NaN    NaN    NaN  NaN   NaN  1.0    NaN  NaN   \n",
      "7            NaN  ...  1.000    NaN    NaN    NaN  NaN   NaN  NaN  1.000  0.0   \n",
      "8            NaN  ...    NaN    NaN    NaN    NaN  NaN   NaN  NaN    NaN  NaN   \n",
      "\n",
      "total_obs   20  \n",
      "total_exp       \n",
      "0          1.0  \n",
      "1          1.0  \n",
      "2          1.0  \n",
      "3          NaN  \n",
      "4          1.0  \n",
      "5          NaN  \n",
      "6          NaN  \n",
      "7          NaN  \n",
      "8          NaN  \n",
      "\n",
      "[9 rows x 21 columns]\n"
     ]
    }
   ],
   "source": [
    "piv = pd.pivot_table(test_dat, values=\"prob\",index=[\"total_exp\"], columns=[\"total_obs\"])\n",
    "print(piv)"
   ]
  },
  {
   "cell_type": "code",
   "execution_count": 8,
   "metadata": {},
   "outputs": [
    {
     "data": {
      "image/png": "[encoded data removed]",
      "text/plain": [
       "<Figure size 1080x504 with 2 Axes>"
      ]
     },
     "metadata": {
      "needs_background": "light"
     },
     "output_type": "display_data"
    }
   ],
   "source": [
    "# Plot a heatmap.\n",
    "norm = DivergingNorm(vmin=0, vcenter=0.05, vmax=1)\n",
    "\n",
    "fig, ax = plt.subplots()\n",
    "img1 = ax.imshow(piv, alpha=0.8, norm=norm)\n",
    "ax.set_xticks(np.arange(piv.shape[1]))\n",
    "ax.set_yticks(np.arange(piv.shape[0]))\n",
    "plt.title('1 observation = 1 cheater who killed at least 5 players (per match), cheating adoption within 7 days')\n",
    "plt.xlabel('Total number of observations')\n",
    "plt.ylabel('Total number of experiences')\n",
    "\n",
    "textcolors = [\"k\", \"w\"]\n",
    "\n",
    "for y in range(piv.shape[0]):\n",
    "    for x in range(piv.shape[1]):\n",
    "        if np.isnan(piv[x][y]) == False:\n",
    "            text = ax.text(x, y, piv[x][y], ha=\"center\", va=\"center\",\n",
    "                           color=textcolors[1 if piv[x][y] <= 0.05 or piv[x][y] >= 0.9 else 0])\n",
    "\n",
    "cbar = colorbar(img1)\n",
    "cbar.solids.set_edgecolor(\"face\")\n",
    "plt.show()\n",
    "fig.savefig('figs/p_vals.png')"
   ]
  },
  {
   "cell_type": "code",
   "execution_count": 16,
   "metadata": {},
   "outputs": [
    {
     "name": "stdout",
     "output_type": "stream",
     "text": [
      "   total_obs  total_exp      E     R1     R2     R3     R4     R5\n",
      "0          0          0  644.0  653.0  664.0  644.0  651.0  648.0\n",
      "1          0          1  180.0  181.0  188.0  183.0  196.0  170.0\n",
      "2          0          2   29.0   35.0   31.0   31.0   38.0   26.0\n",
      "3          0          3   11.0    7.0    9.0   12.0    9.0   15.0\n",
      "4          0          4    1.0    1.0    2.0    4.0    2.0    3.0\n"
     ]
    }
   ],
   "source": [
    "merged_df = pd.read_csv('data/res_30_5_7.csv')\n",
    "merged_df = merged_df.drop(merged_df[merged_df.total_obs > 20].index)\n",
    "merged_df = merged_df.drop(merged_df[merged_df.total_exp > 8].index)\n",
    "print(merged_df.head())"
   ]
  },
  {
   "cell_type": "code",
   "execution_count": 24,
   "metadata": {},
   "outputs": [
    {
     "name": "stdout",
     "output_type": "stream",
     "text": [
      "total_obs   0    1    2   3   4   5   6   7   8   9   ...  11  12  13  14  15  \\\n",
      "total_exp                                             ...                       \n",
      "0          644  330  122  50  26  18   8   2   5   2  ...   0   1   1   2   0   \n",
      "1          180  109   57  41  16  17   5   6   2   1  ...   2   1   0   0   0   \n",
      "2           29   23   19  20  11   5   3   2   3   1  ...   0   0   1   0   0   \n",
      "3           11    4    4   2   2   6   3   3   2   1  ...   0   2   0   0   1   \n",
      "4            1    0    1   1   3   0   1   2   1   0  ...   0   0   0   0   0   \n",
      "5            3    0    0   0   2   0   1   2   1   0  ...   1   0   0   0   0   \n",
      "6            0    0    0   0   0   0   0   0   1   0  ...   0   0   0   0   0   \n",
      "7            0    0    0   0   0   0   0   0   0   0  ...   0   0   0   0   0   \n",
      "8            0    0    0   0   0   0   0   0   0   0  ...   0   0   0   0   0   \n",
      "\n",
      "total_obs  16  17  18  19  20  \n",
      "total_exp                      \n",
      "0           1   0   0   0   0  \n",
      "1           0   0   2   0   0  \n",
      "2           0   0   0   0   0  \n",
      "3           0   0   0   1   0  \n",
      "4           0   0   0   0   0  \n",
      "5           0   0   0   0   0  \n",
      "6           0   0   0   0   0  \n",
      "7           0   0   0   1   0  \n",
      "8           0   0   0   0   0  \n",
      "\n",
      "[9 rows x 21 columns]\n"
     ]
    }
   ],
   "source": [
    "freq = pd.pivot_table(test_dat, values=\"E\",index=[\"total_exp\"], columns=[\"total_obs\"], fill_value=0)\n",
    "print(freq)"
   ]
  },
  {
   "cell_type": "code",
   "execution_count": 25,
   "metadata": {},
   "outputs": [
    {
     "name": "stdout",
     "output_type": "stream",
     "text": [
      "[[ 644  974 1096 1146 1172 1190 1198 1200 1205 1207 1208 1208 1209 1210\n",
      "  1212 1212 1213 1213 1213 1213 1213]\n",
      " [ 824 1263 1442 1533 1575 1610 1623 1631 1638 1641 1645 1647 1649 1650\n",
      "  1652 1652 1653 1653 1655 1655 1655]\n",
      " [ 853 1315 1513 1624 1677 1717 1733 1743 1753 1757 1763 1765 1767 1769\n",
      "  1771 1771 1772 1772 1774 1774 1774]\n",
      " [ 864 1330 1532 1645 1700 1746 1765 1778 1790 1795 1802 1804 1808 1810\n",
      "  1812 1813 1814 1814 1816 1817 1817]\n",
      " [ 865 1331 1534 1648 1706 1752 1772 1787 1800 1805 1812 1814 1818 1820\n",
      "  1822 1823 1824 1824 1826 1827 1827]\n",
      " [ 868 1334 1537 1651 1711 1757 1778 1795 1809 1814 1822 1825 1829 1831\n",
      "  1833 1834 1835 1835 1837 1838 1838]\n",
      " [ 868 1334 1537 1651 1711 1757 1778 1795 1810 1815 1823 1826 1830 1832\n",
      "  1834 1835 1836 1836 1838 1839 1839]\n",
      " [ 868 1334 1537 1651 1711 1757 1778 1795 1810 1815 1824 1827 1831 1833\n",
      "  1835 1836 1837 1837 1839 1841 1841]\n",
      " [ 868 1334 1537 1651 1711 1757 1778 1795 1810 1815 1824 1827 1831 1833\n",
      "  1835 1836 1837 1837 1839 1841 1841]]\n"
     ]
    }
   ],
   "source": [
    "arr = np.array(freq)\n",
    "emp_cumsum = np.cumsum(np.cumsum(arr, axis=0),axis=1)\n",
    "print(emp_cumsum)"
   ]
  },
  {
   "cell_type": "code",
   "execution_count": 31,
   "metadata": {},
   "outputs": [
    {
     "name": "stdout",
     "output_type": "stream",
     "text": [
      "total_obs   0    1    2   3   4   5   6   7   8   9   ...  11  12  13  14  15  \\\n",
      "total_exp                                             ...                       \n",
      "0          653  339  122  37  35   7   6   3   6   2  ...   0   0   1   0   0   \n",
      "1          181  111   70  29  19  11   6   3   4   2  ...   3   1   0   1   1   \n",
      "2           35   23   15  12  15  12   2   2   3   0  ...   0   1   2   1   0   \n",
      "3            7    3    0   3   4   6   5   2   2   0  ...   1   1   2   0   0   \n",
      "4            1    1    0   1   2   2   0   1   1   0  ...   0   0   0   0   0   \n",
      "5            2    0    0   0   2   0   0   1   0   0  ...   0   0   0   0   0   \n",
      "6            0    0    0   0   0   0   0   0   0   1  ...   0   0   0   0   0   \n",
      "7            0    0    0   0   0   0   0   0   0   0  ...   0   0   0   0   0   \n",
      "8            0    0    0   0   1   0   0   0   0   0  ...   0   0   0   0   0   \n",
      "\n",
      "total_obs  16  17  18  19  20  \n",
      "total_exp                      \n",
      "0           0   0   0   0   1  \n",
      "1           0   2   0   0   1  \n",
      "2           1   0   0   0   0  \n",
      "3           0   0   0   0   0  \n",
      "4           0   0   0   0   0  \n",
      "5           0   0   0   0   0  \n",
      "6           0   1   0   0   0  \n",
      "7           0   0   0   0   0  \n",
      "8           0   0   0   0   0  \n",
      "\n",
      "[9 rows x 21 columns]\n",
      "[[ 653  992 1114 1151 1186 1193 1199 1202 1208 1210 1213 1213 1213 1214\n",
      "  1214 1214 1214 1214 1214 1214 1215]\n",
      " [ 834 1284 1476 1542 1596 1614 1626 1632 1642 1646 1651 1654 1655 1656\n",
      "  1657 1658 1658 1660 1660 1660 1662]\n",
      " [ 869 1342 1549 1627 1696 1726 1740 1748 1761 1765 1771 1774 1776 1779\n",
      "  1781 1782 1783 1785 1785 1785 1787]\n",
      " [ 876 1352 1559 1640 1713 1749 1768 1778 1793 1797 1804 1808 1811 1816\n",
      "  1818 1819 1820 1822 1822 1822 1824]\n",
      " [ 877 1354 1561 1643 1718 1756 1775 1786 1802 1806 1814 1818 1821 1826\n",
      "  1828 1829 1830 1832 1832 1832 1834]\n",
      " [ 879 1356 1563 1645 1722 1760 1779 1791 1807 1811 1819 1823 1826 1831\n",
      "  1833 1834 1835 1837 1837 1837 1839]\n",
      " [ 879 1356 1563 1645 1722 1760 1779 1791 1807 1812 1820 1824 1827 1832\n",
      "  1834 1835 1836 1839 1839 1839 1841]\n",
      " [ 879 1356 1563 1645 1722 1760 1779 1791 1807 1812 1821 1825 1828 1833\n",
      "  1835 1836 1837 1840 1840 1840 1842]\n",
      " [ 879 1356 1563 1645 1723 1761 1780 1792 1808 1813 1822 1826 1829 1834\n",
      "  1836 1837 1838 1841 1841 1841 1843]]\n",
      "[[3260 4942 5541 5783 5927 5978 6007 6020 6039 6052 6062 6066 6067 6070\n",
      "  6077 6077 6079 6080 6083 6083 6085]\n",
      " [4178 6381 7298 7686 7941 8051 8113 8143 8183 8207 8229 8245 8253 8260\n",
      "  8271 8273 8275 8283 8287 8287 8293]\n",
      " [4339 6667 7664 8123 8428 8576 8660 8701 8750 8781 8812 8830 8841 8851\n",
      "  8863 8865 8868 8877 8883 8883 8890]\n",
      " [4391 6731 7739 8220 8539 8709 8813 8857 8915 8952 8988 9009 9022 9035\n",
      "  9047 9049 9052 9063 9069 9069 9076]\n",
      " [4403 6744 7755 8240 8574 8754 8864 8911 8973 9011 9049 9072 9086 9099\n",
      "  9111 9113 9116 9127 9134 9134 9142]\n",
      " [4406 6747 7758 8244 8586 8766 8880 8929 8993 9032 9072 9097 9111 9126\n",
      "  9138 9140 9143 9155 9162 9162 9170]\n",
      " [4406 6747 7758 8244 8586 8766 8880 8930 8996 9037 9078 9105 9119 9134\n",
      "  9146 9148 9151 9164 9171 9171 9179]\n",
      " [4406 6747 7758 8244 8587 8768 8882 8932 8998 9039 9081 9109 9123 9138\n",
      "  9150 9152 9155 9168 9176 9176 9184]\n",
      " [4406 6747 7758 8244 8588 8769 8883 8933 8999 9040 9082 9110 9124 9139\n",
      "  9151 9153 9156 9169 9177 9177 9185]]\n",
      "[[0.628 0.681 0.647 0.626 0.655 0.568 0.543 0.55  0.536 0.543 0.554 0.563\n",
      "  0.554 0.55  0.543 0.543 0.536 0.538 0.545 0.545 0.549]\n",
      " [0.66  0.648 0.681 0.546 0.633 0.505 0.499 0.48  0.489 0.507 0.511 0.523\n",
      "  0.519 0.523 0.525 0.529 0.523 0.539 0.527 0.527 0.538]\n",
      " [0.697 0.696 0.697 0.509 0.586 0.486 0.494 0.476 0.475 0.496 0.497 0.513\n",
      "  0.515 0.515 0.518 0.522 0.518 0.535 0.528 0.528 0.541]\n",
      " [0.689 0.674 0.659 0.493 0.578 0.463 0.48  0.441 0.437 0.46  0.462 0.482\n",
      "  0.469 0.475 0.479 0.473 0.469 0.49  0.483 0.473 0.486]\n",
      " [0.705 0.69  0.67  0.503 0.587 0.492 0.511 0.458 0.452 0.477 0.483 0.507\n",
      "  0.496 0.501 0.505 0.499 0.496 0.516 0.511 0.501 0.516]\n",
      " [0.676 0.666 0.648 0.482 0.563 0.467 0.484 0.417 0.406 0.432 0.432 0.451\n",
      "  0.44  0.449 0.453 0.447 0.444 0.466 0.46  0.451 0.466]\n",
      " [0.676 0.666 0.648 0.482 0.563 0.467 0.484 0.419 0.403 0.432 0.434 0.456\n",
      "  0.445 0.455 0.458 0.453 0.449 0.473 0.468 0.458 0.473]\n",
      " [0.676 0.666 0.648 0.482 0.565 0.471 0.488 0.423 0.406 0.436 0.431 0.455\n",
      "  0.444 0.453 0.457 0.451 0.447 0.471 0.468 0.449 0.464]\n",
      " [0.676 0.666 0.648 0.482 0.566 0.473 0.49  0.424 0.408 0.438 0.432 0.456\n",
      "  0.445 0.455 0.458 0.453 0.449 0.473 0.47  0.451 0.466]]\n"
     ]
    }
   ],
   "source": [
    "freq = pd.pivot_table(test_dat, values=\"R1\",index=[\"total_exp\"], columns=[\"total_obs\"], fill_value=0)\n",
    "print(freq)\n",
    "\n",
    "arr = np.array(freq)\n",
    "ran_cumsum = np.cumsum(np.cumsum(arr, axis=0),axis=1)\n",
    "print(ran_cumsum)\n",
    "\n",
    "for i in range(2, 6):\n",
    "    freq = pd.pivot_table(test_dat, values=\"R\" + str(i),index=[\"total_exp\"], columns=[\"total_obs\"], fill_value=0)\n",
    "    arr = np.array(freq)\n",
    "    temp_cumsum = np.cumsum(np.cumsum(arr, axis=0),axis=1)\n",
    "    ran_cumsum += temp_cumsum\n",
    "    \n",
    "print(ran_cumsum)\n",
    "\n",
    "rand_mean = ran_cumsum / 5\n",
    "cdf_mat = scipy.stats.poisson.cdf(emp_cumsum, rand_mean)\n",
    "pmf_mat = scipy.stats.poisson.pmf(emp_cumsum, rand_mean)\n",
    "prob_mat = 1 - cdf_mat + pmf_mat\n",
    "\n",
    "prob_mat = prob_mat.round(3)\n",
    "print(prob_mat)"
   ]
  },
  {
   "cell_type": "code",
   "execution_count": 35,
   "metadata": {},
   "outputs": [
    {
     "name": "stdout",
     "output_type": "stream",
     "text": [
      "total_obs     0      1      2      3      4      5      6      7      8   \\\n",
      "total_exp                                                                  \n",
      "0          0.628  0.681  0.647  0.626  0.655  0.568  0.543  0.550  0.536   \n",
      "1          0.660  0.648  0.681  0.546  0.633  0.505  0.499  0.480  0.489   \n",
      "2          0.697  0.696  0.697  0.509  0.586  0.486  0.494  0.476  0.475   \n",
      "3          0.689  0.674  0.659  0.493  0.578  0.463  0.480  0.441  0.437   \n",
      "4          0.705  0.690  0.670  0.503  0.587  0.492  0.511  0.458  0.452   \n",
      "5          0.676  0.666  0.648  0.482  0.563  0.467  0.484  0.417  0.406   \n",
      "6          0.676  0.666  0.648  0.482  0.563  0.467  0.484  0.419  0.403   \n",
      "7          0.676  0.666  0.648  0.482  0.565  0.471  0.488  0.423  0.406   \n",
      "8          0.676  0.666  0.648  0.482  0.566  0.473  0.490  0.424  0.408   \n",
      "\n",
      "total_obs     9   ...     11     12     13     14     15     16     17     18  \\\n",
      "total_exp         ...                                                           \n",
      "0          0.543  ...  0.563  0.554  0.550  0.543  0.543  0.536  0.538  0.545   \n",
      "1          0.507  ...  0.523  0.519  0.523  0.525  0.529  0.523  0.539  0.527   \n",
      "2          0.496  ...  0.513  0.515  0.515  0.518  0.522  0.518  0.535  0.528   \n",
      "3          0.460  ...  0.482  0.469  0.475  0.479  0.473  0.469  0.490  0.483   \n",
      "4          0.477  ...  0.507  0.496  0.501  0.505  0.499  0.496  0.516  0.511   \n",
      "5          0.432  ...  0.451  0.440  0.449  0.453  0.447  0.444  0.466  0.460   \n",
      "6          0.432  ...  0.456  0.445  0.455  0.458  0.453  0.449  0.473  0.468   \n",
      "7          0.436  ...  0.455  0.444  0.453  0.457  0.451  0.447  0.471  0.468   \n",
      "8          0.438  ...  0.456  0.445  0.455  0.458  0.453  0.449  0.473  0.470   \n",
      "\n",
      "total_obs     19     20  \n",
      "total_exp                \n",
      "0          0.545  0.549  \n",
      "1          0.527  0.538  \n",
      "2          0.528  0.541  \n",
      "3          0.473  0.486  \n",
      "4          0.501  0.516  \n",
      "5          0.451  0.466  \n",
      "6          0.458  0.473  \n",
      "7          0.449  0.464  \n",
      "8          0.451  0.466  \n",
      "\n",
      "[9 rows x 21 columns]\n"
     ]
    }
   ],
   "source": [
    "cum_piv = pd.DataFrame(data=prob_mat).rename_axis(index='total_exp', columns='total_obs')\n",
    "print(cum_piv)"
   ]
  },
  {
   "cell_type": "code",
   "execution_count": 43,
   "metadata": {},
   "outputs": [
    {
     "data": {
      "image/png": "[encoded data removed]",
      "text/plain": [
       "<Figure size 1080x504 with 2 Axes>"
      ]
     },
     "metadata": {
      "needs_background": "light"
     },
     "output_type": "display_data"
    }
   ],
   "source": [
    "fig, ax = plt.subplots()\n",
    "norm = DivergingNorm(vmin=0, vcenter=0.5, vmax=1)\n",
    "img1 = ax.imshow(cum_piv, norm=norm)\n",
    "ax.set_xticks(np.arange(cum_piv.shape[1]))\n",
    "ax.set_yticks(np.arange(cum_piv.shape[0]))\n",
    "plt.title('1 observation = 1 cheater who killed at least 5 players (per match), cheating adoption within 7 days')\n",
    "plt.xlabel('Cumulative number of observations')\n",
    "plt.ylabel('Cumulative number of experiences')\n",
    "\n",
    "textcolors = [\"k\", \"w\"]\n",
    "\n",
    "for y in range(cum_piv.shape[0]):\n",
    "    for x in range(cum_piv.shape[1]):\n",
    "        if np.isnan(cum_piv[x][y]) == False:\n",
    "            text = ax.text(x, y, cum_piv[x][y], ha=\"center\", va=\"center\",\n",
    "                           color=textcolors[1 if cum_piv[x][y] <= 0.1 or cum_piv[x][y] >= 0.9 else 0])\n",
    "\n",
    "cbar = colorbar(img1)\n",
    "cbar.solids.set_edgecolor(\"face\")\n",
    "plt.show()\n",
    "fig.savefig('figs/cum_cnt_p_vals.png')"
   ]
  }
 ],
 "metadata": {
  "kernelspec": {
   "display_name": "Python 3",
   "language": "python",
   "name": "python3"
  },
  "language_info": {
   "codemirror_mode": {
    "name": "ipython",
    "version": 3
   },
   "file_extension": ".py",
   "mimetype": "text/x-python",
   "name": "python",
   "nbconvert_exporter": "python",
   "pygments_lexer": "ipython3",
   "version": "3.7.3"
  }
 },
 "nbformat": 4,
 "nbformat_minor": 2
}
