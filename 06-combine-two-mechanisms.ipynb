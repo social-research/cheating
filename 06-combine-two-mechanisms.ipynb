{
 "cells": [
  {
   "cell_type": "markdown",
   "metadata": {},
   "source": [
    "06-combine-two-mechanisms.ipynb\n",
    "======================\n",
    "\n",
    "In this section, we use the two tables from the previous sections to combine the two different mechanisms.\n",
    "\n",
    "**Things to do**\n",
    "* Test the results.\n",
    "* Make code modular (create a function for plotting)."
   ]
  },
  {
   "cell_type": "markdown",
   "metadata": {},
   "source": [
    "## Load packages and read tables."
   ]
  },
  {
   "cell_type": "code",
   "execution_count": null,
   "metadata": {},
   "outputs": [],
   "source": [
    "from pyspark.sql.functions import col, lit, when\n",
    "import pandas as pd\n",
    "import matplotlib.pyplot as plt\n",
    "import numpy as np"
   ]
  },
  {
   "cell_type": "code",
   "execution_count": 51,
   "metadata": {},
   "outputs": [],
   "source": [
    "# Read a summary table of the victimisation-based mechanism.\n",
    "vic_tab = spark.read.parquet(\"s3://jinny-capstone-data-test/summary-tables/emp-net/vic_tab.parquet\")\n",
    "vic_tab.registerTempTable(\"vic_tab\")\n",
    "\n",
    "# Read a summary table of the observation-based mechanism.\n",
    "obs_tab = spark.read.parquet(\"s3://jinny-capstone-data-test/summary-tables/emp-net/obs_tab.parquet\")\n",
    "obs_tab.registerTempTable(\"obs_tab\")"
   ]
  },
  {
   "cell_type": "code",
   "execution_count": 52,
   "metadata": {},
   "outputs": [
    {
     "name": "stdout",
     "output_type": "stream",
     "text": [
      "+--------------------+----------+----------+------+---------+-------------+------------+\n",
      "|                  id|start_date|    m_date|period|total_exp|total_sev_exp|uniq_killers|\n",
      "+--------------------+----------+----------+------+---------+-------------+------------+\n",
      "|account.e493e8036...|2019-03-02|2019-03-01|     1|        2|            0|           2|\n",
      "|account.d30a1abaf...|2019-03-02|2019-03-01|     1|        1|            0|           1|\n",
      "|account.53db3bd71...|2019-03-02|2019-03-01|     1|        1|            0|           1|\n",
      "|account.47ff35eca...|2019-03-02|2019-03-01|     1|        1|            1|           1|\n",
      "|account.52adde8ad...|2019-03-02|2019-03-01|     1|        1|            0|           1|\n",
      "|account.272b33c63...|2019-03-02|2019-03-01|     1|        1|            0|           1|\n",
      "|account.476ee023d...|2019-03-02|2019-03-01|     1|        1|            0|           1|\n",
      "|account.d2cb5110d...|2019-03-03|2019-03-01|     2|        1|            0|           1|\n",
      "|account.6825517dd...|2019-03-02|2019-03-01|     1|        3|            0|           2|\n",
      "|account.70eb95960...|2019-03-02|2019-03-01|     1|        1|            1|           1|\n",
      "|account.c3d862798...|2019-03-02|2019-03-01|     1|        1|            0|           1|\n",
      "|account.ad074fb0c...|2019-03-02|2019-03-01|     1|        1|            1|           1|\n",
      "|account.3a5102f8e...|2019-03-02|2019-03-01|     1|        1|            1|           1|\n",
      "+--------------------+----------+----------+------+---------+-------------+------------+\n",
      "\n",
      "+--------------------+----------+----------+------+---------+-------------+-------------+\n",
      "|                  id|start_date|    m_date|period|total_obs|total_sev_dam|uniq_cheaters|\n",
      "+--------------------+----------+----------+------+---------+-------------+-------------+\n",
      "|account.090ca369b...|2019-03-02|2019-03-01|     1|        3|            0|            1|\n",
      "|account.272b33c63...|2019-03-02|2019-03-01|     1|       11|            0|            3|\n",
      "|account.da692c372...|2019-03-02|2019-03-01|     1|        8|            1|            2|\n",
      "|account.53db3bd71...|2019-03-02|2019-03-01|     1|        1|            0|            1|\n",
      "|account.ab15ceb31...|2019-03-02|2019-03-01|     1|        1|            0|            1|\n",
      "|account.8d69e3520...|2019-03-02|2019-03-01|     1|       59|           21|            7|\n",
      "|account.11dbd81ee...|2019-03-02|2019-03-01|     1|        9|            1|            4|\n",
      "|account.da1a6fa0b...|2019-03-02|2019-03-01|     1|       35|           17|            1|\n",
      "|account.27478c512...|2019-03-02|2019-03-01|     1|       50|           16|            6|\n",
      "|account.e493e8036...|2019-03-02|2019-03-01|     1|       23|            0|            3|\n",
      "|account.71aea180f...|2019-03-02|2019-03-01|     1|        6|            3|            1|\n",
      "|account.293b34d31...|2019-03-02|2019-03-01|     1|        3|            3|            2|\n",
      "|account.fde9def4e...|2019-03-03|2019-03-02|     1|       36|           16|            1|\n",
      "|account.29263c240...|2019-03-02|2019-03-01|     1|        6|            1|            2|\n",
      "|account.86e152b78...|2019-03-02|2019-03-01|     1|        3|            0|            1|\n",
      "|account.29c35033e...|2019-03-02|2019-03-01|     1|        6|            3|            1|\n",
      "|account.a972d04bf...|2019-03-02|2019-03-01|     1|        6|            3|            1|\n",
      "|account.6dccf1b38...|2019-03-02|2019-03-01|     1|       15|            0|            3|\n",
      "|account.8c52a3348...|2019-03-02|2019-03-01|     1|       14|            9|            4|\n",
      "|account.476ee023d...|2019-03-02|2019-03-01|     1|        3|            0|            1|\n",
      "+--------------------+----------+----------+------+---------+-------------+-------------+\n",
      "only showing top 20 rows\n",
      "\n"
     ]
    }
   ],
   "source": [
    "# Show the first few rows of each dataset.\n",
    "vic_tab.show()\n",
    "obs_tab.show()\n",
    "\n",
    "obs_df = obs_tab.toPandas()\n",
    "vic_df = vic_tab.toPandas()"
   ]
  },
  {
   "cell_type": "markdown",
   "metadata": {},
   "source": [
    "## 1. Merge two tables."
   ]
  },
  {
   "cell_type": "code",
   "execution_count": 53,
   "metadata": {},
   "outputs": [
    {
     "name": "stdout",
     "output_type": "stream",
     "text": [
      "+--------------------+----------+\n",
      "|                  id|start_date|\n",
      "+--------------------+----------+\n",
      "|account.090ca369b...|2019-03-02|\n",
      "|account.272b33c63...|2019-03-02|\n",
      "|account.da692c372...|2019-03-02|\n",
      "|account.53db3bd71...|2019-03-02|\n",
      "|account.ab15ceb31...|2019-03-02|\n",
      "|account.8d69e3520...|2019-03-02|\n",
      "|account.11dbd81ee...|2019-03-02|\n",
      "|account.da1a6fa0b...|2019-03-02|\n",
      "|account.27478c512...|2019-03-02|\n",
      "|account.e493e8036...|2019-03-02|\n",
      "+--------------------+----------+\n",
      "only showing top 10 rows\n",
      "\n"
     ]
    }
   ],
   "source": [
    "# Create a table that contains player (cheater) IDs and the start dates of cheating adoption for each cheater\n",
    "dates_obs = obs_df[['id', 'start_date']]\n",
    "dates_vic = vic_df[['id', 'start_date']]\n",
    "dates_df = pd.concat([dates_obs, dates_vic])\n",
    "dates_df = dates_df.drop_duplicates(subset=['id', 'start_date'])\n",
    "dates_df = spark.createDataFrame(dates_df)\n",
    "dates_df.registerTempTable(\"dates_df\")\n",
    "dates_df.show(10)"
   ]
  },
  {
   "cell_type": "code",
   "execution_count": 54,
   "metadata": {},
   "outputs": [
    {
     "name": "stdout",
     "output_type": "stream",
     "text": [
      "+--------------------+----------+---------+-------+---------+-------+\n",
      "|                  id|start_date|total_obs|sev_obs|total_exp|sev_exp|\n",
      "+--------------------+----------+---------+-------+---------+-------+\n",
      "|account.090ca369b...|2019-03-02|        3|      0|        0|      0|\n",
      "|account.272b33c63...|2019-03-02|       11|      0|        1|      0|\n",
      "|account.da692c372...|2019-03-02|        8|      1|        0|      0|\n",
      "|account.53db3bd71...|2019-03-02|        1|      0|        1|      0|\n",
      "|account.ab15ceb31...|2019-03-02|        1|      0|        0|      0|\n",
      "|account.8d69e3520...|2019-03-02|       59|     21|        0|      0|\n",
      "|account.11dbd81ee...|2019-03-02|        9|      1|        0|      0|\n",
      "|account.da1a6fa0b...|2019-03-02|       35|     17|        0|      0|\n",
      "|account.27478c512...|2019-03-02|       50|     16|        0|      0|\n",
      "|account.e493e8036...|2019-03-02|       23|      0|        2|      0|\n",
      "+--------------------+----------+---------+-------+---------+-------+\n",
      "only showing top 10 rows\n",
      "\n"
     ]
    }
   ],
   "source": [
    "add_obs_info = spark.sql(\"\"\"SELECT t.id, t.start_date, \n",
    "                            CASE WHEN total_obs IS NULL THEN 0 ELSE total_obs END AS total_obs, \n",
    "                            CASE WHEN total_sev_dam IS NULL THEN 0 ELSE total_sev_dam END AS sev_obs \n",
    "                            FROM dates_df t LEFT JOIN obs_tab o ON t.id = o.id\"\"\")\n",
    "add_obs_info.registerTempTable(\"add_obs_info\")\n",
    "\n",
    "merged_df = spark.sql(\"\"\"SELECT t.id, t.start_date, t.total_obs, sev_obs,\n",
    "                         CASE WHEN total_exp IS NULL THEN 0 ELSE total_exp END AS total_exp,\n",
    "                         CASE WHEN total_sev_exp IS NULL THEN 0 ELSE total_sev_exp END AS sev_exp \n",
    "                         FROM add_obs_info t LEFT JOIN vic_tab o ON t.id = o.id\"\"\")\n",
    "merged_df.show(10)"
   ]
  },
  {
   "cell_type": "markdown",
   "metadata": {},
   "source": [
    "## 2. Get the number of times the motif appears in the network."
   ]
  },
  {
   "cell_type": "code",
   "execution_count": null,
   "metadata": {},
   "outputs": [],
   "source": [
    "# Find the number of cheaters who adopted cheating after being killed by cheating once and observing two cheaters.\n",
    "merged_df.registerTempTable(\"merged_df\")\n",
    "\n",
    "motifs = spark.sql(\"SELECT * FROM merged_df WHERE total_exp = 1 AND total_obs = 2\")\n",
    "motifs.show()\n",
    "print(motifs.count())"
   ]
  },
  {
   "cell_type": "markdown",
   "metadata": {},
   "source": [
    "## 3. Plot the distribution of experiences and observations."
   ]
  },
  {
   "cell_type": "code",
   "execution_count": 55,
   "metadata": {},
   "outputs": [
    {
     "name": "stdout",
     "output_type": "stream",
     "text": [
      "    total_obs  total_exp  freq\n",
      "0           1          0     3\n",
      "1           1          1     1\n",
      "2           2          0     2\n",
      "3           2          1     1\n",
      "4           3          0     8\n",
      "5           3          1     1\n",
      "6           4          0     2\n",
      "7           6          0     4\n",
      "8           7          0     1\n",
      "9           8          0     3\n",
      "10          8          3     1\n",
      "11          9          0     1\n",
      "12         10          1     1\n",
      "13         11          1     2\n",
      "14         12          1     1\n",
      "15         13          0     1\n",
      "16         14          0     1\n",
      "17         15          0     1\n",
      "18         16          0     1\n",
      "19         17          0     1\n",
      "20         18          0     1\n",
      "21         18          1     2\n",
      "22         20          0     1\n",
      "23         22          0     1\n",
      "24         23          0     1\n",
      "25         23          2     1\n",
      "26         26          0     2\n",
      "27         31          1     1\n",
      "28         34          0     1\n",
      "29         35          0     1\n",
      "30         36          0     1\n",
      "31         50          0     1\n",
      "32         56          0     1\n",
      "33         59          0     1\n",
      "34        118          1     1\n"
     ]
    }
   ],
   "source": [
    "merged_tab = merged_df.toPandas()\n",
    "pairs_tab = merged_tab.groupby(['total_obs', 'total_exp']).size().reset_index(name=\"freq\")\n",
    "print(pairs_tab)"
   ]
  },
  {
   "cell_type": "code",
   "execution_count": 56,
   "metadata": {},
   "outputs": [
    {
     "name": "stdout",
     "output_type": "stream",
     "text": [
      "    sev_obs  sev_exp  freq\n",
      "0         0        0    22\n",
      "1         1        0     3\n",
      "2         2        0     2\n",
      "3         3        0     5\n",
      "4         5        1     1\n",
      "5         6        1     1\n",
      "6         7        0     3\n",
      "7         8        0     1\n",
      "8         9        0     2\n",
      "9         9        1     1\n",
      "10       10        0     1\n",
      "11       11        0     3\n",
      "12       13        1     1\n",
      "13       14        0     1\n",
      "14       15        0     1\n",
      "15       16        0     2\n",
      "16       17        0     1\n",
      "17       21        0     1\n",
      "18       23        0     1\n",
      "19       48        0     1\n"
     ]
    }
   ],
   "source": [
    "sev_pairs_tab = merged_tab.groupby(['sev_obs', 'sev_exp']).size().reset_index(name=\"freq\")\n",
    "print(sev_pairs_tab)"
   ]
  },
  {
   "cell_type": "code",
   "execution_count": 11,
   "metadata": {},
   "outputs": [
    {
     "data": {
      "image/png": "[encoded data removed]",
      "text/plain": [
       "<Figure size 432x288 with 1 Axes>"
      ]
     },
     "metadata": {},
     "output_type": "display_data"
    }
   ],
   "source": [
    "# Create a scatter plot.\n",
    "fig = plt.scatter(pairs_tab['total_exp'], pairs_tab['total_obs'], s=pairs_tab['freq']*10, alpha=0.5)\n",
    "plt.title('')\n",
    "plt.xlabel('Number of total victimisation experiences')\n",
    "plt.ylabel('Number of total observations')\n",
    "plt.tight_layout()\n",
    "plt.show()"
   ]
  },
  {
   "cell_type": "code",
   "execution_count": 12,
   "metadata": {},
   "outputs": [
    {
     "data": {
      "image/png": "[encoded data removed]",
      "text/plain": [
       "<Figure size 432x288 with 1 Axes>"
      ]
     },
     "metadata": {},
     "output_type": "display_data"
    }
   ],
   "source": [
    "# Create a scatter plot.\n",
    "fig = plt.scatter(sev_pairs_tab['sev_exp'], sev_pairs_tab['sev_obs'], \n",
    "                  s=sev_pairs_tab['freq']*10, alpha=0.5)\n",
    "plt.title('')\n",
    "plt.xlabel('# of victimisation experiences (severe damage done by cheating only)')\n",
    "plt.ylabel('# of observations (severe damage done by cheating only)')\n",
    "plt.tight_layout()\n",
    "plt.show()"
   ]
  },
  {
   "cell_type": "markdown",
   "metadata": {},
   "source": [
    "## 4. Create a merged data table for randomised networks."
   ]
  },
  {
   "cell_type": "code",
   "execution_count": 45,
   "metadata": {},
   "outputs": [
    {
     "name": "stdout",
     "output_type": "stream",
     "text": [
      "+--------------------+----------+----------+------+---------+-------------+------------+\n",
      "|                  id|start_date|    m_date|period|total_exp|total_sev_exp|uniq_killers|\n",
      "+--------------------+----------+----------+------+---------+-------------+------------+\n",
      "|account.e493e8036...|2019-03-02|2019-03-01|     1|        2|            0|           2|\n",
      "|account.47ff35eca...|2019-03-02|2019-03-01|     1|        1|            0|           1|\n",
      "|account.52adde8ad...|2019-03-02|2019-03-01|     1|        1|            0|           1|\n",
      "|account.272b33c63...|2019-03-02|2019-03-01|     1|        1|            0|           1|\n",
      "|account.8c52a3348...|2019-03-02|2019-03-01|     1|        1|            1|           1|\n",
      "|account.d2cb5110d...|2019-03-03|2019-03-01|     2|        1|            0|           1|\n",
      "|account.6825517dd...|2019-03-02|2019-03-01|     1|        2|            0|           1|\n",
      "|account.70eb95960...|2019-03-02|2019-03-01|     1|        1|            1|           1|\n",
      "|account.c3d862798...|2019-03-02|2019-03-01|     1|        1|            0|           1|\n",
      "|account.3a5102f8e...|2019-03-02|2019-03-01|     1|        1|            1|           1|\n",
      "+--------------------+----------+----------+------+---------+-------------+------------+\n",
      "\n",
      "+--------------------+----------+----------+------+---------+-------------+-------------+\n",
      "|                  id|start_date|    m_date|period|total_obs|total_sev_dam|uniq_cheaters|\n",
      "+--------------------+----------+----------+------+---------+-------------+-------------+\n",
      "|account.090ca369b...|2019-03-02|2019-03-01|     1|        3|            0|            1|\n",
      "|account.272b33c63...|2019-03-02|2019-03-01|     1|        9|            0|            3|\n",
      "|account.da692c372...|2019-03-02|2019-03-01|     1|        8|            1|            2|\n",
      "|account.8d69e3520...|2019-03-02|2019-03-01|     1|       41|           20|            7|\n",
      "|account.11dbd81ee...|2019-03-02|2019-03-01|     1|        9|            1|            4|\n",
      "|account.da1a6fa0b...|2019-03-02|2019-03-01|     1|       17|            3|            1|\n",
      "|account.27478c512...|2019-03-02|2019-03-01|     1|       31|           10|            5|\n",
      "|account.e493e8036...|2019-03-02|2019-03-01|     1|       23|            0|            3|\n",
      "|account.71aea180f...|2019-03-02|2019-03-01|     1|        3|            3|            1|\n",
      "|account.ab15ceb31...|2019-03-02|2019-03-01|     1|        1|            0|            1|\n",
      "|account.293b34d31...|2019-03-02|2019-03-01|     1|        5|            2|            3|\n",
      "|account.fde9def4e...|2019-03-03|2019-03-02|     1|       20|           12|            1|\n",
      "|account.29263c240...|2019-03-02|2019-03-01|     1|        6|            1|            2|\n",
      "|account.86e152b78...|2019-03-02|2019-03-01|     1|       11|            0|            1|\n",
      "|account.29c35033e...|2019-03-02|2019-03-01|     1|        3|            3|            1|\n",
      "|account.a972d04bf...|2019-03-02|2019-03-01|     1|        6|            3|            1|\n",
      "|account.6dccf1b38...|2019-03-02|2019-03-01|     1|       15|            0|            3|\n",
      "|account.8c52a3348...|2019-03-02|2019-03-01|     1|       19|            9|            3|\n",
      "|account.476ee023d...|2019-03-02|2019-03-01|     1|        4|            0|            1|\n",
      "|account.f554aebcf...|2019-03-03|2019-03-01|     2|       52|           20|            7|\n",
      "+--------------------+----------+----------+------+---------+-------------+-------------+\n",
      "only showing top 20 rows\n",
      "\n"
     ]
    }
   ],
   "source": [
    "# Read a summary table of the victimisation-based mechanism.\n",
    "vic_tab = spark.read.parquet(\"s3://jinny-capstone-data-test/summary-tables/rand-net/vic_tab_3.parquet\")\n",
    "vic_tab.registerTempTable(\"vic_tab\")\n",
    "\n",
    "# Read a summary table of the observation-based mechanism.\n",
    "obs_tab = spark.read.parquet(\"s3://jinny-capstone-data-test/summary-tables/rand-net/obs_tab_3.parquet\")\n",
    "obs_tab.registerTempTable(\"obs_tab\")\n",
    "\n",
    "# Show the first few rows of each dataset.\n",
    "vic_tab.show()\n",
    "obs_tab.show()\n",
    "\n",
    "obs_df = obs_tab.toPandas()\n",
    "vic_df = vic_tab.toPandas()"
   ]
  },
  {
   "cell_type": "code",
   "execution_count": 46,
   "metadata": {},
   "outputs": [
    {
     "name": "stdout",
     "output_type": "stream",
     "text": [
      "+--------------------+----------+\n",
      "|                  id|start_date|\n",
      "+--------------------+----------+\n",
      "|account.090ca369b...|2019-03-02|\n",
      "|account.272b33c63...|2019-03-02|\n",
      "|account.da692c372...|2019-03-02|\n",
      "|account.8d69e3520...|2019-03-02|\n",
      "|account.11dbd81ee...|2019-03-02|\n",
      "|account.da1a6fa0b...|2019-03-02|\n",
      "|account.27478c512...|2019-03-02|\n",
      "|account.e493e8036...|2019-03-02|\n",
      "|account.71aea180f...|2019-03-02|\n",
      "|account.ab15ceb31...|2019-03-02|\n",
      "+--------------------+----------+\n",
      "only showing top 10 rows\n",
      "\n"
     ]
    }
   ],
   "source": [
    "# Create a table that contains player (cheater) IDs and the start dates of cheating adoption for each cheater\n",
    "dates_obs = obs_df[['id', 'start_date']]\n",
    "dates_vic = vic_df[['id', 'start_date']]\n",
    "dates_df = pd.concat([dates_obs, dates_vic])\n",
    "dates_df = dates_df.drop_duplicates(subset=['id', 'start_date'])\n",
    "dates_df = spark.createDataFrame(dates_df)\n",
    "dates_df.registerTempTable(\"dates_df\")\n",
    "dates_df.show(10)"
   ]
  },
  {
   "cell_type": "code",
   "execution_count": 47,
   "metadata": {},
   "outputs": [
    {
     "name": "stdout",
     "output_type": "stream",
     "text": [
      "+--------------------+----------+---------+-------+---------+-------+\n",
      "|                  id|start_date|total_obs|sev_obs|total_exp|sev_exp|\n",
      "+--------------------+----------+---------+-------+---------+-------+\n",
      "|account.090ca369b...|2019-03-02|        3|      0|        0|      0|\n",
      "|account.272b33c63...|2019-03-02|        9|      0|        1|      0|\n",
      "|account.da692c372...|2019-03-02|        8|      1|        0|      0|\n",
      "|account.8d69e3520...|2019-03-02|       41|     20|        0|      0|\n",
      "|account.11dbd81ee...|2019-03-02|        9|      1|        0|      0|\n",
      "|account.da1a6fa0b...|2019-03-02|       17|      3|        0|      0|\n",
      "|account.27478c512...|2019-03-02|       31|     10|        0|      0|\n",
      "|account.e493e8036...|2019-03-02|       23|      0|        2|      0|\n",
      "|account.71aea180f...|2019-03-02|        3|      3|        0|      0|\n",
      "|account.ab15ceb31...|2019-03-02|        1|      0|        0|      0|\n",
      "+--------------------+----------+---------+-------+---------+-------+\n",
      "only showing top 10 rows\n",
      "\n"
     ]
    }
   ],
   "source": [
    "add_obs_info = spark.sql(\"\"\"SELECT t.id, t.start_date, \n",
    "                            CASE WHEN total_obs IS NULL THEN 0 ELSE total_obs END AS total_obs, \n",
    "                            CASE WHEN total_sev_dam IS NULL THEN 0 ELSE total_sev_dam END AS sev_obs \n",
    "                            FROM dates_df t LEFT JOIN obs_tab o ON t.id = o.id\"\"\")\n",
    "add_obs_info.registerTempTable(\"add_obs_info\")\n",
    "\n",
    "merged_df = spark.sql(\"\"\"SELECT t.id, t.start_date, t.total_obs, sev_obs,\n",
    "                         CASE WHEN total_exp IS NULL THEN 0 ELSE total_exp END AS total_exp,\n",
    "                         CASE WHEN total_sev_exp IS NULL THEN 0 ELSE total_sev_exp END AS sev_exp \n",
    "                         FROM add_obs_info t LEFT JOIN vic_tab o ON t.id = o.id\"\"\")\n",
    "merged_df.show(10)"
   ]
  },
  {
   "cell_type": "code",
   "execution_count": 48,
   "metadata": {},
   "outputs": [
    {
     "name": "stdout",
     "output_type": "stream",
     "text": [
      "    total_obs  total_exp  freq\n",
      "0           1          0     2\n",
      "1           1          1     1\n",
      "2           2          0     2\n",
      "3           3          0     7\n",
      "4           4          0     4\n",
      "5           5          0     1\n",
      "6           6          0     2\n",
      "7           7          0     1\n",
      "8           8          0     2\n",
      "9           9          0     2\n",
      "10          9          1     1\n",
      "11         10          1     1\n",
      "12         10          2     1\n",
      "13         11          0     1\n",
      "14         13          0     1\n",
      "15         15          0     1\n",
      "16         16          0     1\n",
      "17         17          0     2\n",
      "18         17          1     1\n",
      "19         18          0     3\n",
      "20         19          0     2\n",
      "21         19          1     1\n",
      "22         20          0     1\n",
      "23         21          0     1\n",
      "24         21          1     1\n",
      "25         23          2     1\n",
      "26         27          1     1\n",
      "27         29          0     1\n",
      "28         31          0     1\n",
      "29         32          0     1\n",
      "30         34          0     1\n",
      "31         41          0     1\n",
      "32         52          0     1\n",
      "33        133          1     1\n"
     ]
    }
   ],
   "source": [
    "merged_tab = merged_df.toPandas()\n",
    "pairs_tab = merged_tab.groupby(['total_obs', 'total_exp']).size().reset_index(name=\"freq\")\n",
    "print(pairs_tab)"
   ]
  },
  {
   "cell_type": "code",
   "execution_count": 49,
   "metadata": {},
   "outputs": [
    {
     "name": "stdout",
     "output_type": "stream",
     "text": [
      "    sev_obs  sev_exp  freq\n",
      "0         0        0    17\n",
      "1         1        0     3\n",
      "2         2        0     2\n",
      "3         3        0     9\n",
      "4         4        0     2\n",
      "5         5        0     1\n",
      "6         5        1     1\n",
      "7         7        0     2\n",
      "8         9        0     2\n",
      "9         9        1     1\n",
      "10       10        0     1\n",
      "11       11        0     1\n",
      "12       12        0     2\n",
      "13       14        1     1\n",
      "14       15        0     1\n",
      "15       17        0     1\n",
      "16       19        0     1\n",
      "17       20        0     2\n",
      "18       23        0     1\n",
      "19       60        0     1\n"
     ]
    }
   ],
   "source": [
    "sev_pairs_tab = merged_tab.groupby(['sev_obs', 'sev_exp']).size().reset_index(name=\"freq\")\n",
    "print(sev_pairs_tab)"
   ]
  },
  {
   "cell_type": "code",
   "execution_count": 25,
   "metadata": {},
   "outputs": [
    {
     "data": {
      "image/png": "[encoded data removed]",
      "text/plain": [
       "<Figure size 432x288 with 1 Axes>"
      ]
     },
     "metadata": {},
     "output_type": "display_data"
    }
   ],
   "source": [
    "# Create a scatter plot.\n",
    "fig = plt.scatter(pairs_tab['total_exp'], pairs_tab['total_obs'], s=pairs_tab['freq']*10, alpha=0.5)\n",
    "plt.title('')\n",
    "plt.xlabel('Number of total victimisation experiences')\n",
    "plt.ylabel('Number of total observations')\n",
    "plt.tight_layout()\n",
    "plt.show()"
   ]
  },
  {
   "cell_type": "code",
   "execution_count": 29,
   "metadata": {},
   "outputs": [
    {
     "data": {
      "image/png": "[encoded data removed]",
      "text/plain": [
       "<Figure size 432x288 with 1 Axes>"
      ]
     },
     "metadata": {},
     "output_type": "display_data"
    }
   ],
   "source": [
    "# Create a scatter plot.\n",
    "fig = plt.scatter(sev_pairs_tab['sev_exp'], sev_pairs_tab['sev_obs'], \n",
    "                  s=sev_pairs_tab['freq']*10, alpha=0.5)\n",
    "plt.title('')\n",
    "plt.xlabel('# of victimisation experiences (severe damage done by cheating only)')\n",
    "plt.ylabel('# of observations (severe damage done by cheating only)')\n",
    "plt.tight_layout()\n",
    "plt.show()"
   ]
  },
  {
   "cell_type": "markdown",
   "metadata": {},
   "source": [
    "## 5. Create a heatmap."
   ]
  },
  {
   "cell_type": "code",
   "execution_count": 1,
   "metadata": {},
   "outputs": [],
   "source": [
    "import numpy as np\n",
    "import seaborn as sns\n",
    "import matplotlib.pylab as plt\n",
    "import pandas as pd"
   ]
  },
  {
   "cell_type": "code",
   "execution_count": 15,
   "metadata": {},
   "outputs": [
    {
     "name": "stdout",
     "output_type": "stream",
     "text": [
      "    total_obs  total_exp  emp_freq  rand_freq_1  rand_freq_2  rand_freq_3\n",
      "0           1          0       3.0          3.0          2.0          2.0\n",
      "1           2          0       2.0          2.0          2.0          2.0\n",
      "2           3          0       8.0          7.0          6.0          7.0\n",
      "3           4          0       2.0          2.0          1.0          4.0\n",
      "4           5          0       0.0          3.0          2.0          1.0\n",
      "5           6          0       4.0          2.0          4.0          2.0\n",
      "6           7          0       1.0          2.0          1.0          1.0\n",
      "7           8          0       3.0          2.0          2.0          2.0\n",
      "8           9          0       1.0          1.0          4.0          2.0\n",
      "9          10          0       0.0          3.0          1.0          0.0\n",
      "10         11          0       0.0          1.0          2.0          1.0\n",
      "11         12          0       0.0          1.0          0.0          0.0\n",
      "12         13          0       1.0          1.0          2.0          1.0\n",
      "13         14          0       1.0          0.0          1.0          0.0\n",
      "14         15          0       1.0          1.0          0.0          1.0\n",
      "15         16          0       1.0          1.0          1.0          1.0\n",
      "16         17          0       1.0          0.0          2.0          2.0\n",
      "17         18          0       1.0          2.0          1.0          3.0\n",
      "18         19          0       0.0          0.0          1.0          2.0\n",
      "19         20          0       1.0          0.0          0.0          1.0\n",
      "20         21          0       0.0          4.0          0.0          1.0\n",
      "21         22          0       1.0          0.0          0.0          0.0\n",
      "22         23          0       1.0          1.0          1.0          0.0\n",
      "23         26          0       2.0          0.0          1.0          0.0\n",
      "24         27          0       0.0          1.0          0.0          0.0\n",
      "25         29          0       0.0          0.0          0.0          1.0\n",
      "26         31          0       0.0          0.0          0.0          1.0\n",
      "27         32          0       0.0          1.0          1.0          1.0\n",
      "28         34          0       1.0          0.0          0.0          1.0\n",
      "29         35          0       1.0          0.0          0.0          0.0\n",
      "..        ...        ...       ...          ...          ...          ...\n",
      "38         59          0       1.0          0.0          0.0          0.0\n",
      "39          0          1       0.0          0.0          1.0          0.0\n",
      "40          1          1       1.0          2.0          2.0          1.0\n",
      "41          2          1       1.0          0.0          0.0          0.0\n",
      "42          3          1       1.0          0.0          0.0          0.0\n",
      "43          9          1       0.0          0.0          0.0          1.0\n",
      "44         10          1       1.0          2.0          1.0          1.0\n",
      "45         11          1       2.0          0.0          1.0          0.0\n",
      "46         12          1       1.0          0.0          1.0          0.0\n",
      "47         13          1       0.0          1.0          0.0          0.0\n",
      "48         14          1       0.0          1.0          0.0          0.0\n",
      "49         15          1       0.0          0.0          1.0          0.0\n",
      "50         16          1       0.0          0.0          1.0          0.0\n",
      "51         17          1       0.0          1.0          2.0          1.0\n",
      "52         18          1       2.0          1.0          0.0          0.0\n",
      "53         19          1       0.0          0.0          1.0          1.0\n",
      "54         21          1       0.0          0.0          0.0          1.0\n",
      "55         23          1       0.0          1.0          0.0          0.0\n",
      "56         27          1       0.0          0.0          0.0          1.0\n",
      "57         31          1       1.0          0.0          0.0          0.0\n",
      "58        118          1       1.0          0.0          0.0          0.0\n",
      "59        128          1       0.0          1.0          0.0          0.0\n",
      "60        133          1       0.0          0.0          0.0          1.0\n",
      "61        141          1       0.0          0.0          1.0          0.0\n",
      "62         10          2       0.0          0.0          0.0          1.0\n",
      "63         12          2       0.0          1.0          0.0          0.0\n",
      "64         15          2       0.0          1.0          0.0          0.0\n",
      "65         23          2       1.0          0.0          0.0          1.0\n",
      "66          8          3       1.0          0.0          1.0          0.0\n",
      "67         13          3       0.0          0.0          1.0          0.0\n",
      "\n",
      "[68 rows x 6 columns]\n"
     ]
    }
   ],
   "source": [
    "# Test a heatmap using the small dataset (with the results from three randomised networks and one empirical network).\n",
    "test_dat = pd.read_csv(\"test_tab.csv\")\n",
    "\n",
    "test_dat = test_dat.sort_values(['total_exp', 'total_obs']).reset_index(drop=True)\n",
    "print(test_dat)"
   ]
  },
  {
   "cell_type": "code",
   "execution_count": 16,
   "metadata": {},
   "outputs": [
    {
     "name": "stdout",
     "output_type": "stream",
     "text": [
      "    total_exp  total_obs  emp_freq  rand_freq_1  rand_freq_2  rand_freq_3\n",
      "0           0          1      15.0         17.0         13.0         16.0\n",
      "1           0          2       9.0         10.0         12.0          7.0\n",
      "2           0          3       3.0          4.0          5.0          3.0\n",
      "3           0          4       4.0          3.0          5.0          9.0\n",
      "4           0          5       2.0          5.0          1.0          1.0\n",
      "5           0          6       2.0          1.0          1.0          1.0\n",
      "6           0          7       2.0          1.0          1.0          3.0\n",
      "7           0          8       1.0          1.0          0.0          0.0\n",
      "8           0          9       0.0          0.0          1.0          1.0\n",
      "9           0         10       1.0          1.0          0.0          0.0\n",
      "10          0         11       2.0          1.0          1.0          1.0\n",
      "11          1          1       3.0          2.0          3.0          1.0\n",
      "12          1          2       1.0          2.0          1.0          2.0\n",
      "13          1          3       3.0          2.0          3.0          0.0\n",
      "14          1          4       2.0          2.0          4.0          2.0\n",
      "15          1          5       0.0          1.0          0.0          1.0\n",
      "16          1          6       0.0          0.0          0.0          1.0\n",
      "17          1          7       1.0          0.0          0.0          0.0\n",
      "18          1          8       0.0          0.0          0.0          0.0\n",
      "19          1          9       0.0          0.0          0.0          0.0\n",
      "20          1         10       0.0          0.0          0.0          0.0\n",
      "21          1         11       1.0          1.0          1.0          1.0\n",
      "22          2          1       0.0          0.0          0.0          0.0\n",
      "23          2          2       0.0          0.0          0.0          1.0\n",
      "24          2          3       0.0          2.0          0.0          0.0\n",
      "25          2          4       0.0          0.0          0.0          0.0\n",
      "26          2          5       1.0          0.0          0.0          1.0\n",
      "27          2          6       0.0          0.0          0.0          0.0\n",
      "28          2          7       0.0          0.0          0.0          0.0\n",
      "29          2          8       0.0          0.0          0.0          0.0\n",
      "30          2          9       0.0          0.0          0.0          0.0\n",
      "31          2         10       0.0          0.0          0.0          0.0\n",
      "32          2         11       0.0          0.0          0.0          0.0\n",
      "33          3          1       0.0          0.0          0.0          0.0\n",
      "34          3          2       1.0          0.0          1.0          0.0\n",
      "35          3          3       0.0          0.0          1.0          0.0\n",
      "36          3          4       0.0          0.0          0.0          0.0\n",
      "37          3          5       0.0          0.0          0.0          0.0\n",
      "38          3          6       0.0          0.0          0.0          0.0\n",
      "39          3          7       0.0          0.0          0.0          0.0\n",
      "40          3          8       0.0          0.0          0.0          0.0\n",
      "41          3          9       0.0          0.0          0.0          0.0\n",
      "42          3         10       0.0          0.0          0.0          0.0\n",
      "43          3         11       0.0          0.0          0.0          0.0\n"
     ]
    }
   ],
   "source": [
    "bins = [-np.inf, 5, 10, 15, 20, 25, 30, 35, 40, 45, 50, np.inf]\n",
    "col_names = ['emp_freq','rand_freq_1', 'rand_freq_2', 'rand_freq_3']\n",
    "\n",
    "res = test_dat.groupby([test_dat.total_exp, pd.cut(test_dat.total_obs, bins, \n",
    "                                                   labels = [1, 2, 3, 4, 5, 6, 7, 8, 9, 10, 11], \n",
    "                                                   include_lowest =True)])[col_names].sum().reset_index()\n",
    "res.total_obs = res.total_obs.astype(int)\n",
    "res = res.sort_values(['total_exp', 'total_obs']).reset_index(drop=True)\n",
    "res = res.fillna(0)\n",
    "print(res)"
   ]
  },
  {
   "cell_type": "code",
   "execution_count": 17,
   "metadata": {},
   "outputs": [
    {
     "name": "stdout",
     "output_type": "stream",
     "text": [
      "    total_exp  total_obs  emp_freq  rand_freq_1  rand_freq_2  rand_freq_3  \\\n",
      "0           0          1      15.0         17.0         13.0         16.0   \n",
      "1           0          2       9.0         10.0         12.0          7.0   \n",
      "2           0          3       3.0          4.0          5.0          3.0   \n",
      "3           0          4       4.0          3.0          5.0          9.0   \n",
      "4           0          5       2.0          5.0          1.0          1.0   \n",
      "5           0          6       2.0          1.0          1.0          1.0   \n",
      "6           0          7       2.0          1.0          1.0          3.0   \n",
      "7           0          8       1.0          1.0          0.0          0.0   \n",
      "8           0          9       0.0          0.0          1.0          1.0   \n",
      "9           0         10       1.0          1.0          0.0          0.0   \n",
      "10          0         11       2.0          1.0          1.0          1.0   \n",
      "11          1          1       3.0          2.0          3.0          1.0   \n",
      "12          1          2       1.0          2.0          1.0          2.0   \n",
      "13          1          3       3.0          2.0          3.0          0.0   \n",
      "14          1          4       2.0          2.0          4.0          2.0   \n",
      "15          1          5       0.0          1.0          0.0          1.0   \n",
      "16          1          6       0.0          0.0          0.0          1.0   \n",
      "17          1          7       1.0          0.0          0.0          0.0   \n",
      "18          1          8       0.0          0.0          0.0          0.0   \n",
      "19          1          9       0.0          0.0          0.0          0.0   \n",
      "20          1         10       0.0          0.0          0.0          0.0   \n",
      "21          1         11       1.0          1.0          1.0          1.0   \n",
      "22          2          1       0.0          0.0          0.0          0.0   \n",
      "23          2          2       0.0          0.0          0.0          1.0   \n",
      "24          2          3       0.0          2.0          0.0          0.0   \n",
      "25          2          4       0.0          0.0          0.0          0.0   \n",
      "26          2          5       1.0          0.0          0.0          1.0   \n",
      "27          2          6       0.0          0.0          0.0          0.0   \n",
      "28          2          7       0.0          0.0          0.0          0.0   \n",
      "29          2          8       0.0          0.0          0.0          0.0   \n",
      "30          2          9       0.0          0.0          0.0          0.0   \n",
      "31          2         10       0.0          0.0          0.0          0.0   \n",
      "32          2         11       0.0          0.0          0.0          0.0   \n",
      "33          3          1       0.0          0.0          0.0          0.0   \n",
      "34          3          2       1.0          0.0          1.0          0.0   \n",
      "35          3          3       0.0          0.0          1.0          0.0   \n",
      "36          3          4       0.0          0.0          0.0          0.0   \n",
      "37          3          5       0.0          0.0          0.0          0.0   \n",
      "38          3          6       0.0          0.0          0.0          0.0   \n",
      "39          3          7       0.0          0.0          0.0          0.0   \n",
      "40          3          8       0.0          0.0          0.0          0.0   \n",
      "41          3          9       0.0          0.0          0.0          0.0   \n",
      "42          3         10       0.0          0.0          0.0          0.0   \n",
      "43          3         11       0.0          0.0          0.0          0.0   \n",
      "\n",
      "    rand_mean  rand_std  \n",
      "0   15.333333  1.699673  \n",
      "1    9.666667  2.054805  \n",
      "2    4.000000  0.816497  \n",
      "3    5.666667  2.494438  \n",
      "4    2.333333  1.885618  \n",
      "5    1.000000  0.000000  \n",
      "6    1.666667  0.942809  \n",
      "7    0.333333  0.471405  \n",
      "8    0.666667  0.471405  \n",
      "9    0.333333  0.471405  \n",
      "10   1.000000  0.000000  \n",
      "11   2.000000  0.816497  \n",
      "12   1.666667  0.471405  \n",
      "13   1.666667  1.247219  \n",
      "14   2.666667  0.942809  \n",
      "15   0.666667  0.471405  \n",
      "16   0.333333  0.471405  \n",
      "17   0.000000  0.000000  \n",
      "18   0.000000  0.000000  \n",
      "19   0.000000  0.000000  \n",
      "20   0.000000  0.000000  \n",
      "21   1.000000  0.000000  \n",
      "22   0.000000  0.000000  \n",
      "23   0.333333  0.471405  \n",
      "24   0.666667  0.942809  \n",
      "25   0.000000  0.000000  \n",
      "26   0.333333  0.471405  \n",
      "27   0.000000  0.000000  \n",
      "28   0.000000  0.000000  \n",
      "29   0.000000  0.000000  \n",
      "30   0.000000  0.000000  \n",
      "31   0.000000  0.000000  \n",
      "32   0.000000  0.000000  \n",
      "33   0.000000  0.000000  \n",
      "34   0.333333  0.471405  \n",
      "35   0.333333  0.471405  \n",
      "36   0.000000  0.000000  \n",
      "37   0.000000  0.000000  \n",
      "38   0.000000  0.000000  \n",
      "39   0.000000  0.000000  \n",
      "40   0.000000  0.000000  \n",
      "41   0.000000  0.000000  \n",
      "42   0.000000  0.000000  \n",
      "43   0.000000  0.000000  \n"
     ]
    }
   ],
   "source": [
    "res['rand_mean'] = res.iloc[:, 3:].mean(axis=1)\n",
    "res['rand_std'] = res.iloc[:, 3:].std(axis=1)\n",
    "print(res)"
   ]
  },
  {
   "cell_type": "code",
   "execution_count": 18,
   "metadata": {},
   "outputs": [
    {
     "name": "stdout",
     "output_type": "stream",
     "text": [
      "    total_exp  total_obs  emp_freq  rand_freq_1  rand_freq_2  rand_freq_3  \\\n",
      "0           0          1      15.0         17.0         13.0         16.0   \n",
      "1           0          2       9.0         10.0         12.0          7.0   \n",
      "2           0          3       3.0          4.0          5.0          3.0   \n",
      "3           0          4       4.0          3.0          5.0          9.0   \n",
      "4           0          5       2.0          5.0          1.0          1.0   \n",
      "5           0          6       2.0          1.0          1.0          1.0   \n",
      "6           0          7       2.0          1.0          1.0          3.0   \n",
      "7           0          8       1.0          1.0          0.0          0.0   \n",
      "8           0          9       0.0          0.0          1.0          1.0   \n",
      "9           0         10       1.0          1.0          0.0          0.0   \n",
      "10          0         11       2.0          1.0          1.0          1.0   \n",
      "11          1          1       3.0          2.0          3.0          1.0   \n",
      "12          1          2       1.0          2.0          1.0          2.0   \n",
      "13          1          3       3.0          2.0          3.0          0.0   \n",
      "14          1          4       2.0          2.0          4.0          2.0   \n",
      "15          1          5       0.0          1.0          0.0          1.0   \n",
      "16          1          6       0.0          0.0          0.0          1.0   \n",
      "17          1          7       1.0          0.0          0.0          0.0   \n",
      "18          1          8       0.0          0.0          0.0          0.0   \n",
      "19          1          9       0.0          0.0          0.0          0.0   \n",
      "20          1         10       0.0          0.0          0.0          0.0   \n",
      "21          1         11       1.0          1.0          1.0          1.0   \n",
      "22          2          1       0.0          0.0          0.0          0.0   \n",
      "23          2          2       0.0          0.0          0.0          1.0   \n",
      "24          2          3       0.0          2.0          0.0          0.0   \n",
      "25          2          4       0.0          0.0          0.0          0.0   \n",
      "26          2          5       1.0          0.0          0.0          1.0   \n",
      "27          2          6       0.0          0.0          0.0          0.0   \n",
      "28          2          7       0.0          0.0          0.0          0.0   \n",
      "29          2          8       0.0          0.0          0.0          0.0   \n",
      "30          2          9       0.0          0.0          0.0          0.0   \n",
      "31          2         10       0.0          0.0          0.0          0.0   \n",
      "32          2         11       0.0          0.0          0.0          0.0   \n",
      "33          3          1       0.0          0.0          0.0          0.0   \n",
      "34          3          2       1.0          0.0          1.0          0.0   \n",
      "35          3          3       0.0          0.0          1.0          0.0   \n",
      "36          3          4       0.0          0.0          0.0          0.0   \n",
      "37          3          5       0.0          0.0          0.0          0.0   \n",
      "38          3          6       0.0          0.0          0.0          0.0   \n",
      "39          3          7       0.0          0.0          0.0          0.0   \n",
      "40          3          8       0.0          0.0          0.0          0.0   \n",
      "41          3          9       0.0          0.0          0.0          0.0   \n",
      "42          3         10       0.0          0.0          0.0          0.0   \n",
      "43          3         11       0.0          0.0          0.0          0.0   \n",
      "\n",
      "    rand_mean  rand_std  observed_stat  \n",
      "0       15.33      1.70          -0.20  \n",
      "1        9.67      2.05          -0.32  \n",
      "2        4.00      0.82          -1.22  \n",
      "3        5.67      2.49          -0.67  \n",
      "4        2.33      1.89          -0.18  \n",
      "5        1.00      0.00            inf  \n",
      "6        1.67      0.94           0.35  \n",
      "7        0.33      0.47           1.41  \n",
      "8        0.67      0.47          -1.41  \n",
      "9        0.33      0.47           1.41  \n",
      "10       1.00      0.00            inf  \n",
      "11       2.00      0.82           1.22  \n",
      "12       1.67      0.47          -1.41  \n",
      "13       1.67      1.25           1.07  \n",
      "14       2.67      0.94          -0.71  \n",
      "15       0.67      0.47          -1.41  \n",
      "16       0.33      0.47          -0.71  \n",
      "17       0.00      0.00            inf  \n",
      "18       0.00      0.00            NaN  \n",
      "19       0.00      0.00            NaN  \n",
      "20       0.00      0.00            NaN  \n",
      "21       1.00      0.00            NaN  \n",
      "22       0.00      0.00            NaN  \n",
      "23       0.33      0.47          -0.71  \n",
      "24       0.67      0.94          -0.71  \n",
      "25       0.00      0.00            NaN  \n",
      "26       0.33      0.47           1.41  \n",
      "27       0.00      0.00            NaN  \n",
      "28       0.00      0.00            NaN  \n",
      "29       0.00      0.00            NaN  \n",
      "30       0.00      0.00            NaN  \n",
      "31       0.00      0.00            NaN  \n",
      "32       0.00      0.00            NaN  \n",
      "33       0.00      0.00            NaN  \n",
      "34       0.33      0.47           1.41  \n",
      "35       0.33      0.47          -0.71  \n",
      "36       0.00      0.00            NaN  \n",
      "37       0.00      0.00            NaN  \n",
      "38       0.00      0.00            NaN  \n",
      "39       0.00      0.00            NaN  \n",
      "40       0.00      0.00            NaN  \n",
      "41       0.00      0.00            NaN  \n",
      "42       0.00      0.00            NaN  \n",
      "43       0.00      0.00            NaN  \n"
     ]
    }
   ],
   "source": [
    "res['observed_stat'] = (res['emp_freq'] - res['rand_mean']) / res['rand_std']\n",
    "res = res.round({\"rand_mean\":2, \"rand_std\":2, \"observed_stat\":2})\n",
    "print(res)"
   ]
  },
  {
   "cell_type": "code",
   "execution_count": 19,
   "metadata": {},
   "outputs": [
    {
     "name": "stdout",
     "output_type": "stream",
     "text": [
      "    total_exp  total_obs  emp_freq  rand_freq_1  rand_freq_2  rand_freq_3  \\\n",
      "0           0          1      15.0         17.0         13.0         16.0   \n",
      "1           0          2       9.0         10.0         12.0          7.0   \n",
      "2           0          3       3.0          4.0          5.0          3.0   \n",
      "3           0          4       4.0          3.0          5.0          9.0   \n",
      "4           0          5       2.0          5.0          1.0          1.0   \n",
      "5           0          6       2.0          1.0          1.0          1.0   \n",
      "6           0          7       2.0          1.0          1.0          3.0   \n",
      "7           0          8       1.0          1.0          0.0          0.0   \n",
      "8           0          9       0.0          0.0          1.0          1.0   \n",
      "9           0         10       1.0          1.0          0.0          0.0   \n",
      "10          0         11       2.0          1.0          1.0          1.0   \n",
      "11          1          1       3.0          2.0          3.0          1.0   \n",
      "12          1          2       1.0          2.0          1.0          2.0   \n",
      "13          1          3       3.0          2.0          3.0          0.0   \n",
      "14          1          4       2.0          2.0          4.0          2.0   \n",
      "15          1          5       0.0          1.0          0.0          1.0   \n",
      "16          1          6       0.0          0.0          0.0          1.0   \n",
      "17          1          7       1.0          0.0          0.0          0.0   \n",
      "18          1          8       0.0          0.0          0.0          0.0   \n",
      "19          1          9       0.0          0.0          0.0          0.0   \n",
      "20          1         10       0.0          0.0          0.0          0.0   \n",
      "21          1         11       1.0          1.0          1.0          1.0   \n",
      "22          2          1       0.0          0.0          0.0          0.0   \n",
      "23          2          2       0.0          0.0          0.0          1.0   \n",
      "24          2          3       0.0          2.0          0.0          0.0   \n",
      "25          2          4       0.0          0.0          0.0          0.0   \n",
      "26          2          5       1.0          0.0          0.0          1.0   \n",
      "27          2          6       0.0          0.0          0.0          0.0   \n",
      "28          2          7       0.0          0.0          0.0          0.0   \n",
      "29          2          8       0.0          0.0          0.0          0.0   \n",
      "30          2          9       0.0          0.0          0.0          0.0   \n",
      "31          2         10       0.0          0.0          0.0          0.0   \n",
      "32          2         11       0.0          0.0          0.0          0.0   \n",
      "33          3          1       0.0          0.0          0.0          0.0   \n",
      "34          3          2       1.0          0.0          1.0          0.0   \n",
      "35          3          3       0.0          0.0          1.0          0.0   \n",
      "36          3          4       0.0          0.0          0.0          0.0   \n",
      "37          3          5       0.0          0.0          0.0          0.0   \n",
      "38          3          6       0.0          0.0          0.0          0.0   \n",
      "39          3          7       0.0          0.0          0.0          0.0   \n",
      "40          3          8       0.0          0.0          0.0          0.0   \n",
      "41          3          9       0.0          0.0          0.0          0.0   \n",
      "42          3         10       0.0          0.0          0.0          0.0   \n",
      "43          3         11       0.0          0.0          0.0          0.0   \n",
      "\n",
      "    rand_mean  rand_std  observed_stat  \n",
      "0       15.33      1.70          -0.20  \n",
      "1        9.67      2.05          -0.32  \n",
      "2        4.00      0.82          -1.22  \n",
      "3        5.67      2.49          -0.67  \n",
      "4        2.33      1.89          -0.18  \n",
      "5        1.00      0.00            NaN  \n",
      "6        1.67      0.94           0.35  \n",
      "7        0.33      0.47           1.41  \n",
      "8        0.67      0.47          -1.41  \n",
      "9        0.33      0.47           1.41  \n",
      "10       1.00      0.00            NaN  \n",
      "11       2.00      0.82           1.22  \n",
      "12       1.67      0.47          -1.41  \n",
      "13       1.67      1.25           1.07  \n",
      "14       2.67      0.94          -0.71  \n",
      "15       0.67      0.47          -1.41  \n",
      "16       0.33      0.47          -0.71  \n",
      "17       0.00      0.00            NaN  \n",
      "18       0.00      0.00            NaN  \n",
      "19       0.00      0.00            NaN  \n",
      "20       0.00      0.00            NaN  \n",
      "21       1.00      0.00            NaN  \n",
      "22       0.00      0.00            NaN  \n",
      "23       0.33      0.47          -0.71  \n",
      "24       0.67      0.94          -0.71  \n",
      "25       0.00      0.00            NaN  \n",
      "26       0.33      0.47           1.41  \n",
      "27       0.00      0.00            NaN  \n",
      "28       0.00      0.00            NaN  \n",
      "29       0.00      0.00            NaN  \n",
      "30       0.00      0.00            NaN  \n",
      "31       0.00      0.00            NaN  \n",
      "32       0.00      0.00            NaN  \n",
      "33       0.00      0.00            NaN  \n",
      "34       0.33      0.47           1.41  \n",
      "35       0.33      0.47          -0.71  \n",
      "36       0.00      0.00            NaN  \n",
      "37       0.00      0.00            NaN  \n",
      "38       0.00      0.00            NaN  \n",
      "39       0.00      0.00            NaN  \n",
      "40       0.00      0.00            NaN  \n",
      "41       0.00      0.00            NaN  \n",
      "42       0.00      0.00            NaN  \n",
      "43       0.00      0.00            NaN  \n"
     ]
    }
   ],
   "source": [
    "res = res.replace([np.inf, -np.inf], np.nan)\n",
    "print(res)"
   ]
  },
  {
   "cell_type": "code",
   "execution_count": 20,
   "metadata": {},
   "outputs": [
    {
     "name": "stdout",
     "output_type": "stream",
     "text": [
      "total_obs    1     2     3     4     5     6     7     8     9     10\n",
      "total_exp                                                            \n",
      "0         -0.20 -0.32 -1.22 -0.67 -0.18   NaN  0.35  1.41 -1.41  1.41\n",
      "1          1.22 -1.41  1.07 -0.71 -1.41 -0.71   NaN   NaN   NaN   NaN\n",
      "2           NaN -0.71 -0.71   NaN  1.41   NaN   NaN   NaN   NaN   NaN\n",
      "3           NaN  1.41 -0.71   NaN   NaN   NaN   NaN   NaN   NaN   NaN\n"
     ]
    }
   ],
   "source": [
    "# piv = pd.pivot_table(copied_dt, values=\"observed_stat\",index=[\"total_exp\"], columns=[\"total_obs\"], fill_value=0)\n",
    "\n",
    "piv = pd.pivot_table(res, values=\"observed_stat\",index=[\"total_exp\"], columns=[\"total_obs\"])\n",
    "print(piv)"
   ]
  },
  {
   "cell_type": "code",
   "execution_count": 22,
   "metadata": {},
   "outputs": [
    {
     "data": {
      "image/png": "[encoded data removed]",
      "text/plain": [
       "<Figure size 1080x216 with 2 Axes>"
      ]
     },
     "metadata": {
      "needs_background": "light"
     },
     "output_type": "display_data"
    }
   ],
   "source": [
    "# Plot a heatmap.\n",
    "plt.figure(figsize=(15, 3))\n",
    "ax = sns.heatmap(piv, cmap=\"YlGnBu\", cbar_kws=dict(ticks=[-1.96, 0, 1.96]))\n",
    "ax.invert_yaxis()\n",
    "plt.xlabel('Total number of observations')\n",
    "plt.ylabel('Total number of experiences')\n",
    "plt.show()"
   ]
  },
  {
   "cell_type": "code",
   "execution_count": 25,
   "metadata": {},
   "outputs": [
    {
     "name": "stdout",
     "output_type": "stream",
     "text": [
      "    sev_obs  sev_exp  emp_freq  rand_freq_1  rand_freq_2  rand_freq_3\n",
      "0         0        0      22.0         20.0         24.0         17.0\n",
      "1         1        0       3.0          4.0          3.0          3.0\n",
      "2         2        0       2.0          4.0          1.0          2.0\n",
      "3         3        0       5.0          5.0          6.0          9.0\n",
      "4         4        0       0.0          2.0          0.0          2.0\n",
      "5         5        0       0.0          1.0          2.0          1.0\n",
      "6         6        0       0.0          1.0          0.0          0.0\n",
      "7         7        0       3.0          2.0          3.0          2.0\n",
      "8         8        0       1.0          0.0          2.0          0.0\n",
      "9         9        0       2.0          1.0          2.0          2.0\n",
      "10       10        0       1.0          1.0          0.0          1.0\n",
      "11       11        0       3.0          2.0          2.0          1.0\n",
      "12       12        0       0.0          1.0          0.0          2.0\n",
      "13       13        0       0.0          0.0          1.0          0.0\n",
      "14       14        0       1.0          1.0          1.0          0.0\n",
      "15       15        0       1.0          1.0          1.0          1.0\n",
      "16       16        0       2.0          1.0          0.0          0.0\n",
      "17       17        0       1.0          1.0          1.0          1.0\n",
      "18       18        0       0.0          1.0          0.0          0.0\n",
      "19       19        0       0.0          0.0          1.0          1.0\n",
      "20       20        0       0.0          1.0          1.0          2.0\n",
      "21       21        0       1.0          0.0          0.0          0.0\n",
      "22       23        0       1.0          1.0          0.0          1.0\n",
      "23       48        0       1.0          0.0          0.0          0.0\n",
      "24       60        0       0.0          0.0          0.0          1.0\n",
      "25       71        0       0.0          1.0          0.0          0.0\n",
      "26       82        0       0.0          0.0          1.0          0.0\n",
      "27        5        1       1.0          1.0          1.0          1.0\n",
      "28        6        1       1.0          0.0          0.0          0.0\n",
      "29        8        1       0.0          1.0          0.0          0.0\n",
      "30        9        1       1.0          2.0          1.0          1.0\n",
      "31       13        1       1.0          0.0          0.0          0.0\n",
      "32       14        1       0.0          0.0          0.0          1.0\n"
     ]
    }
   ],
   "source": [
    "test_sev_dat = pd.read_csv(\"test_sev_tab.csv\")\n",
    "\n",
    "test_sev_dat = test_sev_dat.sort_values(['sev_exp', 'sev_obs']).reset_index(drop=True)\n",
    "print(test_sev_dat)"
   ]
  },
  {
   "cell_type": "code",
   "execution_count": 26,
   "metadata": {},
   "outputs": [
    {
     "name": "stdout",
     "output_type": "stream",
     "text": [
      "    sev_exp  sev_obs  emp_freq  rand_freq_1  rand_freq_2  rand_freq_3  \\\n",
      "0         0        1      32.0         36.0         36.0         34.0   \n",
      "1         0        2       7.0          5.0          7.0          5.0   \n",
      "2         0        3       5.0          5.0          5.0          4.0   \n",
      "3         0        4       3.0          4.0          3.0          4.0   \n",
      "4         0        5       2.0          1.0          0.0          1.0   \n",
      "5         0        6       0.0          0.0          0.0          0.0   \n",
      "6         0        7       0.0          0.0          0.0          0.0   \n",
      "7         0        8       0.0          0.0          0.0          0.0   \n",
      "8         0        9       0.0          0.0          0.0          0.0   \n",
      "9         0       10       1.0          0.0          0.0          0.0   \n",
      "10        0       11       0.0          1.0          1.0          1.0   \n",
      "11        1        1       1.0          1.0          1.0          1.0   \n",
      "12        1        2       2.0          3.0          1.0          1.0   \n",
      "13        1        3       1.0          0.0          0.0          1.0   \n",
      "14        1        4       0.0          0.0          0.0          0.0   \n",
      "15        1        5       0.0          0.0          0.0          0.0   \n",
      "16        1        6       0.0          0.0          0.0          0.0   \n",
      "17        1        7       0.0          0.0          0.0          0.0   \n",
      "18        1        8       0.0          0.0          0.0          0.0   \n",
      "19        1        9       0.0          0.0          0.0          0.0   \n",
      "20        1       10       0.0          0.0          0.0          0.0   \n",
      "21        1       11       0.0          0.0          0.0          0.0   \n",
      "\n",
      "    rand_mean  rand_std  observed_stat  \n",
      "0       35.33      0.94          -3.54  \n",
      "1        5.67      0.94           1.41  \n",
      "2        4.67      0.47           0.71  \n",
      "3        3.67      0.47          -1.41  \n",
      "4        0.67      0.47           2.83  \n",
      "5        0.00      0.00            NaN  \n",
      "6        0.00      0.00            NaN  \n",
      "7        0.00      0.00            NaN  \n",
      "8        0.00      0.00            NaN  \n",
      "9        0.00      0.00            NaN  \n",
      "10       1.00      0.00            NaN  \n",
      "11       1.00      0.00            NaN  \n",
      "12       1.67      0.94           0.35  \n",
      "13       0.33      0.47           1.41  \n",
      "14       0.00      0.00            NaN  \n",
      "15       0.00      0.00            NaN  \n",
      "16       0.00      0.00            NaN  \n",
      "17       0.00      0.00            NaN  \n",
      "18       0.00      0.00            NaN  \n",
      "19       0.00      0.00            NaN  \n",
      "20       0.00      0.00            NaN  \n",
      "21       0.00      0.00            NaN  \n"
     ]
    }
   ],
   "source": [
    "bins = [-np.inf, 5, 10, 15, 20, 25, 30, 35, 40, 45, 50, np.inf]\n",
    "col_names = ['emp_freq','rand_freq_1', 'rand_freq_2', 'rand_freq_3']\n",
    "\n",
    "res = test_sev_dat.groupby([test_sev_dat.sev_exp, pd.cut(test_sev_dat.sev_obs, bins, \n",
    "                                                         labels = [1, 2, 3, 4, 5, 6, 7, 8, 9, 10, 11], \n",
    "                                                         include_lowest =True)])[col_names].sum().reset_index()\n",
    "res.sev_obs = res.sev_obs.astype(int)\n",
    "res = res.sort_values(['sev_exp', 'sev_obs']).reset_index(drop=True)\n",
    "res = res.fillna(0)\n",
    "\n",
    "res['rand_mean'] = res.iloc[:, 3:].mean(axis=1)\n",
    "res['rand_std'] = res.iloc[:, 3:].std(axis=1)\n",
    "\n",
    "res['observed_stat'] = (res['emp_freq'] - res['rand_mean']) / res['rand_std']\n",
    "res = res.round({\"rand_mean\":2, \"rand_std\":2, \"observed_stat\":2})\n",
    "\n",
    "res = res.replace([np.inf, -np.inf], np.nan)\n",
    "print(res)"
   ]
  },
  {
   "cell_type": "code",
   "execution_count": 27,
   "metadata": {},
   "outputs": [
    {
     "name": "stdout",
     "output_type": "stream",
     "text": [
      "sev_obs     1     2     3     4     5\n",
      "sev_exp                              \n",
      "0       -3.54  1.41  0.71 -1.41  2.83\n",
      "1         NaN  0.35  1.41   NaN   NaN\n"
     ]
    }
   ],
   "source": [
    "piv = pd.pivot_table(res, values=\"observed_stat\",index=[\"sev_exp\"], columns=[\"sev_obs\"])\n",
    "print(piv)"
   ]
  },
  {
   "cell_type": "code",
   "execution_count": 28,
   "metadata": {},
   "outputs": [
    {
     "data": {
      "image/png": "[encoded data removed]",
      "text/plain": [
       "<Figure size 1080x216 with 2 Axes>"
      ]
     },
     "metadata": {
      "needs_background": "light"
     },
     "output_type": "display_data"
    }
   ],
   "source": [
    "plt.figure(figsize=(15, 3))\n",
    "ax = sns.heatmap(piv, cmap=\"YlGnBu\", cbar_kws=dict(ticks=[-1.96, 0, 1.96]))\n",
    "ax.invert_yaxis()\n",
    "plt.xlabel('Number of observations: high level of harm')\n",
    "plt.ylabel('Number of experiences: high level of harm')\n",
    "plt.show()"
   ]
  }
 ],
 "metadata": {
  "kernelspec": {
   "display_name": "Python 3",
   "language": "python",
   "name": "python3"
  },
  "language_info": {
   "codemirror_mode": {
    "name": "ipython",
    "version": 3
   },
   "file_extension": ".py",
   "mimetype": "text/x-python",
   "name": "python",
   "nbconvert_exporter": "python",
   "pygments_lexer": "ipython3",
   "version": "3.7.3"
  }
 },
 "nbformat": 4,
 "nbformat_minor": 2
}
