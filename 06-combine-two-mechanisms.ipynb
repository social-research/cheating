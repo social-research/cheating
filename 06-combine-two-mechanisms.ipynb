{
 "cells": [
  {
   "cell_type": "markdown",
   "metadata": {},
   "source": [
    "### 06. Count the pairs of victimisation experiences and observations."
   ]
  },
  {
   "cell_type": "markdown",
   "metadata": {},
   "source": [
    "---\n",
    "In this section, we use the two tables from the previous sections to combine the two different mechanisms.\n",
    "\n",
    "**Things to do**\n",
    "* Test the results.\n",
    "* Make code modular (create a function for plotting)."
   ]
  },
  {
   "cell_type": "code",
   "execution_count": 1,
   "metadata": {},
   "outputs": [],
   "source": [
    "from pyspark.sql.functions import col, lit, when\n",
    "import pandas as pd\n",
    "import matplotlib.pyplot as plt\n",
    "import numpy as np"
   ]
  },
  {
   "cell_type": "code",
   "execution_count": 2,
   "metadata": {},
   "outputs": [],
   "source": [
    "# Read a summary table of the victimisation-based mechanism.\n",
    "PATH_TO_VIC_DATA = \"s3://social-research-cheating/summary-tables/emp-net/vic_tab_30.parquet\"\n",
    "vic_data = spark.read.parquet(PATH_TO_VIC_DATA)\n",
    "vic_data.registerTempTable(\"vic_data\")\n",
    "\n",
    "# Read a summary table of the observation-based mechanism.\n",
    "PATH_TO_OBS_DATA = \"s3://social-research-cheating/summary-tables/emp-net/sev_obs/emp_30.parquet\"\n",
    "obs_data = spark.read.parquet(PATH_TO_OBS_DATA)\n",
    "obs_data.registerTempTable(\"obs_data\")"
   ]
  },
  {
   "cell_type": "code",
   "execution_count": 3,
   "metadata": {},
   "outputs": [],
   "source": [
    "# Collect the transitions that happened within seven days after observing or being killed by cheating.\n",
    "vic_tab = spark.sql(\"SELECT * FROM vic_data WHERE period <= 7\")\n",
    "obs_tab = spark.sql(\"SELECT * FROM obs_data WHERE period <= 7\")\n",
    "\n",
    "vic_tab.registerTempTable(\"vic_tab\")\n",
    "obs_tab.registerTempTable(\"obs_tab\")"
   ]
  },
  {
   "cell_type": "code",
   "execution_count": 4,
   "metadata": {},
   "outputs": [
    {
     "name": "stdout",
     "output_type": "stream",
     "text": [
      "+--------------------+----------+----------+------+---------+-------------+------------+\n",
      "|                  id|start_date|    m_date|period|total_exp|total_sev_exp|uniq_killers|\n",
      "+--------------------+----------+----------+------+---------+-------------+------------+\n",
      "|account.393b6ee09...|2019-03-08|2019-03-01|     7|        2|            1|           2|\n",
      "|account.3f888b606...|2019-03-10|2019-03-05|     5|        7|            4|           7|\n",
      "|account.4b6c650bd...|2019-03-15|2019-03-11|     4|        2|            0|           2|\n",
      "|account.73e50018a...|2019-03-27|2019-03-20|     7|        1|            1|           1|\n",
      "|account.b3e7bbe4a...|2019-03-09|2019-03-04|     5|        1|            0|           1|\n",
      "+--------------------+----------+----------+------+---------+-------------+------------+\n",
      "only showing top 5 rows\n",
      "\n",
      "+--------------------+----------+----------+------+---------+-------------+--------------+------------+\n",
      "|                  id|start_date|    m_date|period|total_obs|total_sev_dam|total_cheaters|sev_cheaters|\n",
      "+--------------------+----------+----------+------+---------+-------------+--------------+------------+\n",
      "|account.14a9052f2...|2019-03-08|2019-03-01|     7|      127|           11|             8|           3|\n",
      "|account.8d20619cf...|2019-03-06|2019-03-05|     1|       21|            4|             1|           1|\n",
      "|account.89e89a88e...|2019-03-08|2019-03-02|     6|       57|           14|             5|           3|\n",
      "|account.72d7c8781...|2019-03-06|2019-03-01|     5|       47|            2|             3|           1|\n",
      "|account.2bc8b50ec...|2019-03-05|2019-03-03|     2|       11|            0|             0|           0|\n",
      "+--------------------+----------+----------+------+---------+-------------+--------------+------------+\n",
      "only showing top 5 rows\n",
      "\n"
     ]
    }
   ],
   "source": [
    "# Show the first few rows of each dataset.\n",
    "vic_tab.show(5)\n",
    "obs_tab.show(5)\n",
    "\n",
    "# Convert spark dataframes into pandas dataframes.\n",
    "obs_df = obs_tab.toPandas()\n",
    "vic_df = vic_tab.toPandas()"
   ]
  },
  {
   "cell_type": "markdown",
   "metadata": {},
   "source": [
    "### 1. Merge two tables."
   ]
  },
  {
   "cell_type": "code",
   "execution_count": 5,
   "metadata": {},
   "outputs": [
    {
     "name": "stdout",
     "output_type": "stream",
     "text": [
      "+--------------------+----------+\n",
      "|                  id|start_date|\n",
      "+--------------------+----------+\n",
      "|account.14a9052f2...|2019-03-08|\n",
      "|account.8d20619cf...|2019-03-06|\n",
      "|account.89e89a88e...|2019-03-08|\n",
      "|account.72d7c8781...|2019-03-06|\n",
      "|account.2bc8b50ec...|2019-03-05|\n",
      "|account.d5bdf5693...|2019-03-05|\n",
      "|account.ed34dc343...|2019-03-10|\n",
      "|account.826ffb6b1...|2019-03-10|\n",
      "|account.d09650395...|2019-03-10|\n",
      "|account.2ec53847e...|2019-03-11|\n",
      "+--------------------+----------+\n",
      "only showing top 10 rows\n",
      "\n"
     ]
    }
   ],
   "source": [
    "# Create a table that contains player (cheater) IDs and the start dates of cheating adoption for each cheater\n",
    "dates_obs = obs_df[['id', 'start_date']]\n",
    "dates_vic = vic_df[['id', 'start_date']]\n",
    "dates_df = pd.concat([dates_obs, dates_vic])\n",
    "dates_df = dates_df.drop_duplicates(subset=['id', 'start_date'])\n",
    "dates_df = spark.createDataFrame(dates_df)\n",
    "dates_df.registerTempTable(\"dates_df\")\n",
    "dates_df.show(10)"
   ]
  },
  {
   "cell_type": "code",
   "execution_count": 6,
   "metadata": {},
   "outputs": [
    {
     "name": "stdout",
     "output_type": "stream",
     "text": [
      "+--------------------+----------+---------+-------+---------+-------+\n",
      "|                  id|start_date|total_obs|sev_obs|total_exp|sev_exp|\n",
      "+--------------------+----------+---------+-------+---------+-------+\n",
      "|account.14a9052f2...|2019-03-08|        8|      3|        6|      3|\n",
      "|account.8d20619cf...|2019-03-06|        1|      1|        0|      0|\n",
      "|account.89e89a88e...|2019-03-08|        5|      3|        3|      2|\n",
      "|account.72d7c8781...|2019-03-06|        3|      1|        0|      0|\n",
      "|account.2bc8b50ec...|2019-03-05|        0|      0|        0|      0|\n",
      "|account.d5bdf5693...|2019-03-05|        0|      0|        0|      0|\n",
      "|account.ed34dc343...|2019-03-10|        0|      0|        0|      0|\n",
      "|account.826ffb6b1...|2019-03-10|        0|      0|        0|      0|\n",
      "|account.d09650395...|2019-03-10|        1|      1|        1|      0|\n",
      "|account.2ec53847e...|2019-03-11|        3|      1|        1|      0|\n",
      "+--------------------+----------+---------+-------+---------+-------+\n",
      "only showing top 10 rows\n",
      "\n"
     ]
    }
   ],
   "source": [
    "add_obs_info = spark.sql(\"\"\"SELECT t.id, t.start_date, \n",
    "                            CASE WHEN total_cheaters IS NULL THEN 0 ELSE total_cheaters END AS total_obs, \n",
    "                            CASE WHEN sev_cheaters IS NULL THEN 0 ELSE sev_cheaters END AS sev_obs \n",
    "                            FROM dates_df t LEFT JOIN obs_tab o ON t.id = o.id\"\"\")\n",
    "add_obs_info.registerTempTable(\"add_obs_info\")\n",
    "\n",
    "merged_df = spark.sql(\"\"\"SELECT t.id, t.start_date, t.total_obs, sev_obs,\n",
    "                         CASE WHEN total_exp IS NULL THEN 0 ELSE total_exp END AS total_exp,\n",
    "                         CASE WHEN total_sev_exp IS NULL THEN 0 ELSE total_sev_exp END AS sev_exp \n",
    "                         FROM add_obs_info t LEFT JOIN vic_tab o ON t.id = o.id\"\"\")\n",
    "merged_df.show(10)"
   ]
  },
  {
   "cell_type": "markdown",
   "metadata": {},
   "source": [
    "### 2. Plot the distribution of experiences and observations."
   ]
  },
  {
   "cell_type": "code",
   "execution_count": 7,
   "metadata": {},
   "outputs": [
    {
     "name": "stdout",
     "output_type": "stream",
     "text": [
      "   total_obs  total_exp  freq\n",
      "0          0          0   644\n",
      "1          0          1   180\n",
      "2          0          2    29\n",
      "3          0          3    11\n",
      "4          0          4     1\n",
      "    total_obs  total_exp  freq\n",
      "71         19          7     1\n",
      "72         25          2     1\n",
      "73         26          2     1\n",
      "74         27          4     1\n",
      "75         37          2     1\n"
     ]
    }
   ],
   "source": [
    "merged_tab = merged_df.toPandas()\n",
    "pairs_tab = merged_tab.groupby(['total_obs', 'total_exp']).size().reset_index(name=\"freq\")\n",
    "\n",
    "# Print the first 5 and last 5 rows.\n",
    "print(pairs_tab.head())\n",
    "print(pairs_tab.tail())"
   ]
  },
  {
   "cell_type": "code",
   "execution_count": 8,
   "metadata": {},
   "outputs": [],
   "source": [
    "# Store the dataframe as an excel file.\n",
    "pairs_tab.to_csv('emp_tab_5_7.csv', index=False)"
   ]
  },
  {
   "cell_type": "code",
   "execution_count": 9,
   "metadata": {},
   "outputs": [
    {
     "name": "stdout",
     "output_type": "stream",
     "text": [
      "   total_obs  sev_exp  freq\n",
      "0          0        0   805\n",
      "1          0        1    58\n",
      "2          0        2     4\n",
      "3          0        3     1\n",
      "4          1        0   385\n",
      "    total_obs  sev_exp  freq\n",
      "55         19        4     1\n",
      "56         25        1     1\n",
      "57         26        0     1\n",
      "58         27        2     1\n",
      "59         37        0     1\n"
     ]
    }
   ],
   "source": [
    "merged_tab = merged_df.toPandas()\n",
    "sev_pairs_tab = merged_tab.groupby(['total_obs', 'sev_exp']).size().reset_index(name=\"freq\")\n",
    "\n",
    "# Print the first 5 and last 5 rows.\n",
    "print(sev_pairs_tab.head())\n",
    "print(sev_pairs_tab.tail())\n",
    "\n",
    "# Store the dataframe as an excel file.\n",
    "sev_pairs_tab.to_csv('sev_emp_tab_5_7.csv', index=False)"
   ]
  },
  {
   "cell_type": "markdown",
   "metadata": {},
   "source": [
    "### 3. Create a merged data table for randomised networks."
   ]
  },
  {
   "cell_type": "code",
   "execution_count": 2,
   "metadata": {},
   "outputs": [
    {
     "ename": "AnalysisException",
     "evalue": "'Path does not exist: s3://social-research-cheating/summary-tables/rand-net/vic_tab_21.parquet;'",
     "output_type": "error",
     "traceback": [
      "\u001b[0;31m---------------------------------------------------------------------------\u001b[0m",
      "\u001b[0;31mPy4JJavaError\u001b[0m                             Traceback (most recent call last)",
      "\u001b[0;32m/usr/lib/spark/python/pyspark/sql/utils.py\u001b[0m in \u001b[0;36mdeco\u001b[0;34m(*a, **kw)\u001b[0m\n\u001b[1;32m     62\u001b[0m         \u001b[0;32mtry\u001b[0m\u001b[0;34m:\u001b[0m\u001b[0;34m\u001b[0m\u001b[0m\n\u001b[0;32m---> 63\u001b[0;31m             \u001b[0;32mreturn\u001b[0m \u001b[0mf\u001b[0m\u001b[0;34m(\u001b[0m\u001b[0;34m*\u001b[0m\u001b[0ma\u001b[0m\u001b[0;34m,\u001b[0m \u001b[0;34m**\u001b[0m\u001b[0mkw\u001b[0m\u001b[0;34m)\u001b[0m\u001b[0;34m\u001b[0m\u001b[0m\n\u001b[0m\u001b[1;32m     64\u001b[0m         \u001b[0;32mexcept\u001b[0m \u001b[0mpy4j\u001b[0m\u001b[0;34m.\u001b[0m\u001b[0mprotocol\u001b[0m\u001b[0;34m.\u001b[0m\u001b[0mPy4JJavaError\u001b[0m \u001b[0;32mas\u001b[0m \u001b[0me\u001b[0m\u001b[0;34m:\u001b[0m\u001b[0;34m\u001b[0m\u001b[0m\n",
      "\u001b[0;32m/usr/lib/spark/python/lib/py4j-0.10.7-src.zip/py4j/protocol.py\u001b[0m in \u001b[0;36mget_return_value\u001b[0;34m(answer, gateway_client, target_id, name)\u001b[0m\n\u001b[1;32m    327\u001b[0m                     \u001b[0;34m\"An error occurred while calling {0}{1}{2}.\\n\"\u001b[0m\u001b[0;34m.\u001b[0m\u001b[0;34m\u001b[0m\u001b[0m\n\u001b[0;32m--> 328\u001b[0;31m                     format(target_id, \".\", name), value)\n\u001b[0m\u001b[1;32m    329\u001b[0m             \u001b[0;32melse\u001b[0m\u001b[0;34m:\u001b[0m\u001b[0;34m\u001b[0m\u001b[0m\n",
      "\u001b[0;31mPy4JJavaError\u001b[0m: An error occurred while calling o567.parquet.\n: org.apache.spark.sql.AnalysisException: Path does not exist: s3://social-research-cheating/summary-tables/rand-net/vic_tab_21.parquet;\n\tat org.apache.spark.sql.execution.datasources.DataSource$$anonfun$org$apache$spark$sql$execution$datasources$DataSource$$checkAndGlobPathIfNecessary$1.apply(DataSource.scala:558)\n\tat org.apache.spark.sql.execution.datasources.DataSource$$anonfun$org$apache$spark$sql$execution$datasources$DataSource$$checkAndGlobPathIfNecessary$1.apply(DataSource.scala:545)\n\tat scala.collection.TraversableLike$$anonfun$flatMap$1.apply(TraversableLike.scala:241)\n\tat scala.collection.TraversableLike$$anonfun$flatMap$1.apply(TraversableLike.scala:241)\n\tat scala.collection.immutable.List.foreach(List.scala:392)\n\tat scala.collection.TraversableLike$class.flatMap(TraversableLike.scala:241)\n\tat scala.collection.immutable.List.flatMap(List.scala:355)\n\tat org.apache.spark.sql.execution.datasources.DataSource.org$apache$spark$sql$execution$datasources$DataSource$$checkAndGlobPathIfNecessary(DataSource.scala:545)\n\tat org.apache.spark.sql.execution.datasources.DataSource.resolveRelation(DataSource.scala:359)\n\tat org.apache.spark.sql.DataFrameReader.loadV1Source(DataFrameReader.scala:223)\n\tat org.apache.spark.sql.DataFrameReader.load(DataFrameReader.scala:211)\n\tat org.apache.spark.sql.DataFrameReader.parquet(DataFrameReader.scala:641)\n\tat sun.reflect.GeneratedMethodAccessor268.invoke(Unknown Source)\n\tat sun.reflect.DelegatingMethodAccessorImpl.invoke(DelegatingMethodAccessorImpl.java:43)\n\tat java.lang.reflect.Method.invoke(Method.java:498)\n\tat py4j.reflection.MethodInvoker.invoke(MethodInvoker.java:244)\n\tat py4j.reflection.ReflectionEngine.invoke(ReflectionEngine.java:357)\n\tat py4j.Gateway.invoke(Gateway.java:282)\n\tat py4j.commands.AbstractCommand.invokeMethod(AbstractCommand.java:132)\n\tat py4j.commands.CallCommand.execute(CallCommand.java:79)\n\tat py4j.GatewayConnection.run(GatewayConnection.java:238)\n\tat java.lang.Thread.run(Thread.java:748)\n",
      "\nDuring handling of the above exception, another exception occurred:\n",
      "\u001b[0;31mAnalysisException\u001b[0m                         Traceback (most recent call last)",
      "\u001b[0;32m<ipython-input-2-4ea95c5e9efb>\u001b[0m in \u001b[0;36m<module>\u001b[0;34m()\u001b[0m\n\u001b[1;32m      2\u001b[0m     \u001b[0;31m# Read a summary table of the victimisation-based mechanism.\u001b[0m\u001b[0;34m\u001b[0m\u001b[0;34m\u001b[0m\u001b[0m\n\u001b[1;32m      3\u001b[0m     vic_data = spark.read.parquet(\"s3://social-research-cheating/summary-tables/rand-net/vic_tab_\" \n\u001b[0;32m----> 4\u001b[0;31m                                  + str(i) + \".parquet\")\n\u001b[0m\u001b[1;32m      5\u001b[0m     \u001b[0mvic_data\u001b[0m\u001b[0;34m.\u001b[0m\u001b[0mregisterTempTable\u001b[0m\u001b[0;34m(\u001b[0m\u001b[0;34m\"vic_data\"\u001b[0m\u001b[0;34m)\u001b[0m\u001b[0;34m\u001b[0m\u001b[0m\n\u001b[1;32m      6\u001b[0m \u001b[0;34m\u001b[0m\u001b[0m\n",
      "\u001b[0;32m/usr/lib/spark/python/pyspark/sql/readwriter.py\u001b[0m in \u001b[0;36mparquet\u001b[0;34m(self, *paths)\u001b[0m\n\u001b[1;32m    314\u001b[0m         \u001b[0;34m[\u001b[0m\u001b[0;34m(\u001b[0m\u001b[0;34m'name'\u001b[0m\u001b[0;34m,\u001b[0m \u001b[0;34m'string'\u001b[0m\u001b[0;34m)\u001b[0m\u001b[0;34m,\u001b[0m \u001b[0;34m(\u001b[0m\u001b[0;34m'year'\u001b[0m\u001b[0;34m,\u001b[0m \u001b[0;34m'int'\u001b[0m\u001b[0;34m)\u001b[0m\u001b[0;34m,\u001b[0m \u001b[0;34m(\u001b[0m\u001b[0;34m'month'\u001b[0m\u001b[0;34m,\u001b[0m \u001b[0;34m'int'\u001b[0m\u001b[0;34m)\u001b[0m\u001b[0;34m,\u001b[0m \u001b[0;34m(\u001b[0m\u001b[0;34m'day'\u001b[0m\u001b[0;34m,\u001b[0m \u001b[0;34m'int'\u001b[0m\u001b[0;34m)\u001b[0m\u001b[0;34m]\u001b[0m\u001b[0;34m\u001b[0m\u001b[0m\n\u001b[1;32m    315\u001b[0m         \"\"\"\n\u001b[0;32m--> 316\u001b[0;31m         \u001b[0;32mreturn\u001b[0m \u001b[0mself\u001b[0m\u001b[0;34m.\u001b[0m\u001b[0m_df\u001b[0m\u001b[0;34m(\u001b[0m\u001b[0mself\u001b[0m\u001b[0;34m.\u001b[0m\u001b[0m_jreader\u001b[0m\u001b[0;34m.\u001b[0m\u001b[0mparquet\u001b[0m\u001b[0;34m(\u001b[0m\u001b[0m_to_seq\u001b[0m\u001b[0;34m(\u001b[0m\u001b[0mself\u001b[0m\u001b[0;34m.\u001b[0m\u001b[0m_spark\u001b[0m\u001b[0;34m.\u001b[0m\u001b[0m_sc\u001b[0m\u001b[0;34m,\u001b[0m \u001b[0mpaths\u001b[0m\u001b[0;34m)\u001b[0m\u001b[0;34m)\u001b[0m\u001b[0;34m)\u001b[0m\u001b[0;34m\u001b[0m\u001b[0m\n\u001b[0m\u001b[1;32m    317\u001b[0m \u001b[0;34m\u001b[0m\u001b[0m\n\u001b[1;32m    318\u001b[0m     \u001b[0;34m@\u001b[0m\u001b[0mignore_unicode_prefix\u001b[0m\u001b[0;34m\u001b[0m\u001b[0m\n",
      "\u001b[0;32m/usr/lib/spark/python/lib/py4j-0.10.7-src.zip/py4j/java_gateway.py\u001b[0m in \u001b[0;36m__call__\u001b[0;34m(self, *args)\u001b[0m\n\u001b[1;32m   1255\u001b[0m         \u001b[0manswer\u001b[0m \u001b[0;34m=\u001b[0m \u001b[0mself\u001b[0m\u001b[0;34m.\u001b[0m\u001b[0mgateway_client\u001b[0m\u001b[0;34m.\u001b[0m\u001b[0msend_command\u001b[0m\u001b[0;34m(\u001b[0m\u001b[0mcommand\u001b[0m\u001b[0;34m)\u001b[0m\u001b[0;34m\u001b[0m\u001b[0m\n\u001b[1;32m   1256\u001b[0m         return_value = get_return_value(\n\u001b[0;32m-> 1257\u001b[0;31m             answer, self.gateway_client, self.target_id, self.name)\n\u001b[0m\u001b[1;32m   1258\u001b[0m \u001b[0;34m\u001b[0m\u001b[0m\n\u001b[1;32m   1259\u001b[0m         \u001b[0;32mfor\u001b[0m \u001b[0mtemp_arg\u001b[0m \u001b[0;32min\u001b[0m \u001b[0mtemp_args\u001b[0m\u001b[0;34m:\u001b[0m\u001b[0;34m\u001b[0m\u001b[0m\n",
      "\u001b[0;32m/usr/lib/spark/python/pyspark/sql/utils.py\u001b[0m in \u001b[0;36mdeco\u001b[0;34m(*a, **kw)\u001b[0m\n\u001b[1;32m     67\u001b[0m                                              e.java_exception.getStackTrace()))\n\u001b[1;32m     68\u001b[0m             \u001b[0;32mif\u001b[0m \u001b[0ms\u001b[0m\u001b[0;34m.\u001b[0m\u001b[0mstartswith\u001b[0m\u001b[0;34m(\u001b[0m\u001b[0;34m'org.apache.spark.sql.AnalysisException: '\u001b[0m\u001b[0;34m)\u001b[0m\u001b[0;34m:\u001b[0m\u001b[0;34m\u001b[0m\u001b[0m\n\u001b[0;32m---> 69\u001b[0;31m                 \u001b[0;32mraise\u001b[0m \u001b[0mAnalysisException\u001b[0m\u001b[0;34m(\u001b[0m\u001b[0ms\u001b[0m\u001b[0;34m.\u001b[0m\u001b[0msplit\u001b[0m\u001b[0;34m(\u001b[0m\u001b[0;34m': '\u001b[0m\u001b[0;34m,\u001b[0m \u001b[0;36m1\u001b[0m\u001b[0;34m)\u001b[0m\u001b[0;34m[\u001b[0m\u001b[0;36m1\u001b[0m\u001b[0;34m]\u001b[0m\u001b[0;34m,\u001b[0m \u001b[0mstackTrace\u001b[0m\u001b[0;34m)\u001b[0m\u001b[0;34m\u001b[0m\u001b[0m\n\u001b[0m\u001b[1;32m     70\u001b[0m             \u001b[0;32mif\u001b[0m \u001b[0ms\u001b[0m\u001b[0;34m.\u001b[0m\u001b[0mstartswith\u001b[0m\u001b[0;34m(\u001b[0m\u001b[0;34m'org.apache.spark.sql.catalyst.analysis'\u001b[0m\u001b[0;34m)\u001b[0m\u001b[0;34m:\u001b[0m\u001b[0;34m\u001b[0m\u001b[0m\n\u001b[1;32m     71\u001b[0m                 \u001b[0;32mraise\u001b[0m \u001b[0mAnalysisException\u001b[0m\u001b[0;34m(\u001b[0m\u001b[0ms\u001b[0m\u001b[0;34m.\u001b[0m\u001b[0msplit\u001b[0m\u001b[0;34m(\u001b[0m\u001b[0;34m': '\u001b[0m\u001b[0;34m,\u001b[0m \u001b[0;36m1\u001b[0m\u001b[0;34m)\u001b[0m\u001b[0;34m[\u001b[0m\u001b[0;36m1\u001b[0m\u001b[0;34m]\u001b[0m\u001b[0;34m,\u001b[0m \u001b[0mstackTrace\u001b[0m\u001b[0;34m)\u001b[0m\u001b[0;34m\u001b[0m\u001b[0m\n",
      "\u001b[0;31mAnalysisException\u001b[0m: 'Path does not exist: s3://social-research-cheating/summary-tables/rand-net/vic_tab_21.parquet;'"
     ]
    }
   ],
   "source": [
    "for i in range(12, 22):\n",
    "    # Read a summary table of the victimisation-based mechanism.\n",
    "    vic_data = spark.read.parquet(\"s3://social-research-cheating/summary-tables/rand-net/vic_tab_\" \n",
    "                                 + str(i) + \".parquet\")\n",
    "    vic_data.registerTempTable(\"vic_data\")\n",
    "\n",
    "    # Read a summary table of the observation-based mechanism.\n",
    "    obs_data = spark.read.parquet(\"s3://social-research-cheating/summary-tables/rand-net/sev_obs/obs_tab_30_5_\" \n",
    "                                 + str(i) + \".parquet\")\n",
    "    obs_data.registerTempTable(\"obs_data\")\n",
    "    \n",
    "    # Collect the transitions that happened within seven days after observing or being killed by cheating.\n",
    "    vic_tab = spark.sql(\"SELECT * FROM vic_data WHERE period <= 7\")\n",
    "    obs_tab = spark.sql(\"SELECT * FROM obs_data WHERE period <= 7\")\n",
    "\n",
    "    vic_tab.registerTempTable(\"vic_tab\")\n",
    "    obs_tab.registerTempTable(\"obs_tab\")\n",
    "\n",
    "    obs_df = obs_tab.toPandas()\n",
    "    vic_df = vic_tab.toPandas()\n",
    "    \n",
    "    dates_obs = obs_df[['id', 'start_date']]\n",
    "    dates_vic = vic_df[['id', 'start_date']]\n",
    "    dates_df = pd.concat([dates_obs, dates_vic])\n",
    "    dates_df = dates_df.drop_duplicates(subset=['id', 'start_date'])\n",
    "    dates_df = spark.createDataFrame(dates_df)\n",
    "    dates_df.registerTempTable(\"dates_df\")\n",
    "    \n",
    "    add_obs_info = spark.sql(\"\"\"SELECT t.id, t.start_date, \n",
    "                                CASE WHEN total_cheaters IS NULL THEN 0 ELSE total_cheaters END AS total_obs, \n",
    "                                CASE WHEN sev_cheaters IS NULL THEN 0 ELSE sev_cheaters END AS sev_obs \n",
    "                                FROM dates_df t LEFT JOIN obs_tab o ON t.id = o.id\"\"\")\n",
    "    add_obs_info.registerTempTable(\"add_obs_info\")\n",
    "\n",
    "    merged_df = spark.sql(\"\"\"SELECT t.id, t.start_date, t.total_obs, sev_obs,\n",
    "                             CASE WHEN total_exp IS NULL THEN 0 ELSE total_exp END AS total_exp,\n",
    "                             CASE WHEN total_sev_exp IS NULL THEN 0 ELSE total_sev_exp END AS sev_exp \n",
    "                             FROM add_obs_info t LEFT JOIN vic_tab o ON t.id = o.id\"\"\")\n",
    "    \n",
    "    merged_tab = merged_df.toPandas()\n",
    "    \n",
    "    pairs_tab = merged_tab.groupby(['total_obs', 'total_exp']).size().reset_index(name=\"freq\")\n",
    "    pairs_tab.to_csv('rand_tab_30_5_7_' + str(i) + '.csv', index=False)\n",
    "    \n",
    "    # sev_pairs_tab = merged_tab.groupby(['total_obs', 'sev_exp']).size().reset_index(name=\"freq\")\n",
    "    # sev_pairs_tab.to_csv('sev_rand_tab_30_1_2_' + str(i) + '.csv', index=False)"
   ]
  },
  {
   "cell_type": "markdown",
   "metadata": {},
   "source": [
    "### 4. Create a heatmap."
   ]
  },
  {
   "cell_type": "markdown",
   "metadata": {},
   "source": [
    "### Create a heatmap using matplotlib."
   ]
  },
  {
   "cell_type": "code",
   "execution_count": 17,
   "metadata": {},
   "outputs": [],
   "source": [
    "import numpy as np\n",
    "import matplotlib.pylab as plt\n",
    "import pandas as pd\n",
    "from matplotlib.colors import LinearSegmentedColormap\n",
    "import matplotlib.colors"
   ]
  },
  {
   "cell_type": "code",
   "execution_count": 18,
   "metadata": {},
   "outputs": [],
   "source": [
    "params = {\n",
    "    'text.latex.preamble': ['\\\\usepackage{gensymb}'],\n",
    "    'image.origin': 'lower',\n",
    "    'image.interpolation': 'nearest',\n",
    "    'image.cmap': 'gray',\n",
    "    'axes.grid': False,\n",
    "    'savefig.dpi': 150,\n",
    "    'axes.labelsize': 12, # Adjust the font size of x and y labels.\n",
    "    'axes.titlesize': 12,\n",
    "    'font.size': 8, \n",
    "    'legend.fontsize': 6,\n",
    "    'xtick.labelsize': 12,\n",
    "    'ytick.labelsize': 12,\n",
    "    'text.usetex': True,\n",
    "    'figure.figsize': [15, 7],\n",
    "    'font.family': 'serif',\n",
    "}\n",
    "matplotlib.rcParams.update(params)"
   ]
  },
  {
   "cell_type": "code",
   "execution_count": 19,
   "metadata": {},
   "outputs": [],
   "source": [
    "def colorbar(mappable):\n",
    "    from mpl_toolkits.axes_grid1 import make_axes_locatable\n",
    "    last_axes = plt.gca()\n",
    "    ax = mappable.axes\n",
    "    fig = ax.figure\n",
    "    divider = make_axes_locatable(ax)\n",
    "    cax = divider.append_axes(\"right\", size=\"3%\", pad=0.1)\n",
    "    cbar = fig.colorbar(mappable, cax=cax, \n",
    "                        ticks=[-np.inf, -1.96, 1.96, 2.58, np.inf])\n",
    "    plt.sca(last_axes)\n",
    "    return cbar"
   ]
  },
  {
   "cell_type": "code",
   "execution_count": 20,
   "metadata": {},
   "outputs": [
    {
     "name": "stdout",
     "output_type": "stream",
     "text": [
      "total_obs    0     1     2     3     4     5     6     7     8     9   ...  \\\n",
      "total_exp                                                              ...   \n",
      "0         -1.54 -0.34  0.51  0.06  0.65  2.23  1.05 -0.47  0.98 -0.28  ...   \n",
      "1         -0.02  0.15 -0.88  0.86 -1.98  1.65 -0.59  0.65 -0.94 -0.99  ...   \n",
      "2         -0.03  0.27  0.76  2.94  0.30 -0.61 -0.51 -0.19  0.96 -0.99  ...   \n",
      "3          0.34  0.87  0.65 -1.74 -1.35  0.47  0.36  1.46  0.64  0.36  ...   \n",
      "4         -1.26 -0.42  0.60 -0.18  0.99 -1.28 -0.38  1.05  0.61 -0.90  ...   \n",
      "5          2.71   NaN -0.23 -0.42  1.58 -0.67  1.22  3.53  0.90 -0.65  ...   \n",
      "6         -0.47   NaN   NaN   NaN -0.50 -0.47 -0.42 -0.33  2.38 -0.31  ...   \n",
      "7         -0.23   NaN   NaN   NaN   NaN   NaN   NaN   NaN -0.23 -0.33  ...   \n",
      "8           NaN   NaN   NaN   NaN   NaN   NaN   NaN   NaN   NaN -0.23  ...   \n",
      "\n",
      "total_obs    11    12    13    14    15    16    17    18    19    20  \n",
      "total_exp                                                              \n",
      "0         -0.90  2.38 -0.82  1.28 -0.58  1.40 -0.67 -0.23 -0.58 -0.73  \n",
      "1         -0.36 -0.71 -1.11 -0.58 -0.58 -0.54 -0.69  1.60   NaN -0.33  \n",
      "2         -0.80 -0.95  1.78 -0.42 -0.58 -0.50 -0.23   NaN -0.23   NaN  \n",
      "3         -0.48  2.36 -0.73 -0.42   NaN -0.33 -0.23   NaN   NaN -0.23  \n",
      "4         -0.50 -0.31 -0.33   NaN   NaN -0.23 -0.23 -0.42 -0.42 -0.33  \n",
      "5          2.00 -0.33   NaN   NaN   NaN -0.23 -0.23 -0.23 -0.23   NaN  \n",
      "6         -0.23 -0.23   NaN -0.33 -0.33 -0.23   NaN   NaN -0.23 -0.23  \n",
      "7           NaN -0.23   NaN -0.23 -0.23 -0.42 -0.23   NaN  4.36   NaN  \n",
      "8           NaN   NaN   NaN   NaN   NaN -0.33 -0.23 -0.33   NaN   NaN  \n",
      "\n",
      "[9 rows x 21 columns]\n"
     ]
    }
   ],
   "source": [
    "data = pd.read_csv(\"data/corrected_data/emp_tab_5_7.csv\")\n",
    "data = data.rename(columns={'freq': 'emp_freq'})\n",
    "\n",
    "rand_dat = pd.read_csv(\"data/corrected_data/rand_tab_30_5_7_1.csv\")\n",
    "merged_df = pd.merge(data, rand_dat, on=['total_obs','total_exp'], how='outer')\n",
    "merged_df = merged_df.fillna(0).sort_values(by=['total_obs','total_exp'])\n",
    "merged_df = merged_df.rename(columns={'freq': 'rand_freq_1'})\n",
    "\n",
    "for i in range(2, 21):\n",
    "    rand_dat = pd.read_csv(\"data/corrected_data/rand_tab_30_5_7_\" + str(i) + \".csv\")\n",
    "    merged_df = pd.merge(merged_df, rand_dat, on=['total_obs','total_exp'], how='outer')\n",
    "    merged_df = merged_df.fillna(0).sort_values(by=['total_obs','total_exp'])\n",
    "    merged_df = merged_df.rename(columns={'freq': 'rand_freq_' + str(i)})\n",
    "\n",
    "merged_df = merged_df.drop(merged_df[merged_df.total_obs > 20].index)\n",
    "merged_df = merged_df.drop(merged_df[merged_df.total_exp > 8].index)\n",
    "\n",
    "# Test a heatmap using the small dataset (with the results from three randomised networks and one empirical network).\n",
    "test_dat = merged_df.sort_values(['total_exp', 'total_obs']).reset_index(drop=True)\n",
    "\n",
    "test_dat['rand_mean'] = test_dat.iloc[:, 3:].mean(axis=1)\n",
    "test_dat['rand_std'] = test_dat.iloc[:, 3:].std(axis=1)\n",
    "\n",
    "test_dat['observed_stat'] = (test_dat['emp_freq'] - test_dat['rand_mean']) / test_dat['rand_std']\n",
    "test_dat = test_dat.round({\"rand_mean\":2, \"rand_std\":2, \"observed_stat\":2})\n",
    "test_dat = test_dat.replace([np.inf, -np.inf], np.nan)\n",
    "piv = pd.pivot_table(test_dat, values=\"observed_stat\",index=[\"total_exp\"], columns=[\"total_obs\"])\n",
    "print(piv)"
   ]
  },
  {
   "cell_type": "code",
   "execution_count": 25,
   "metadata": {},
   "outputs": [
    {
     "data": {
      "image/png": "[encoded data removed]",
      "text/plain": [
       "<Figure size 1080x504 with 1 Axes>"
      ]
     },
     "metadata": {
      "needs_background": "light"
     },
     "output_type": "display_data"
    }
   ],
   "source": [
    "# Plot a heatmap.\n",
    "cmap = plt.cm.get_cmap('coolwarm')\n",
    "bounds = [piv.min().min(), -2.58, -1.96, 1.96, 2.58, piv.max().max()]\n",
    "norm = matplotlib.colors.BoundaryNorm(bounds, cmap.N)\n",
    "\n",
    "fig, ax = plt.subplots()\n",
    "img1 = ax.imshow(piv, cmap=cmap, norm=norm)\n",
    "ax.set_xticks(np.arange(piv.shape[1]))\n",
    "ax.set_yticks(np.arange(piv.shape[0]))\n",
    "plt.title('1 observation = 1 cheater who killed at least 5 players (per match), cheating adoption within 7 days')\n",
    "plt.xlabel('Total number of observations')\n",
    "plt.ylabel('Total number of experiences')\n",
    "\n",
    "textcolors = [\"k\", \"w\"]\n",
    "\n",
    "for y in range(piv.shape[0]):\n",
    "    for x in range(piv.shape[1]):\n",
    "        if np.isnan(piv[x][y]) == False:\n",
    "            text = ax.text(x, y, piv[x][y], ha=\"center\", va=\"center\",\n",
    "                           color=textcolors[1 if piv[x][y] >= 2.58 or piv[x][y] < -2.58 else 0])\n",
    "\n",
    "# colorbar(img1)\n",
    "plt.show()\n",
    "fig.savefig('emp_5_7.png')"
   ]
  },
  {
   "cell_type": "code",
   "execution_count": 6,
   "metadata": {},
   "outputs": [
    {
     "name": "stdout",
     "output_type": "stream",
     "text": [
      "total_obs     0      1      2     3     4     5    6    7    8    9   ...  \\\n",
      "total_exp                                                             ...   \n",
      "0          644.0  330.0  122.0  50.0  26.0  18.0  8.0  2.0  5.0  2.0  ...   \n",
      "1          180.0  109.0   57.0  41.0  16.0  17.0  5.0  6.0  2.0  1.0  ...   \n",
      "2           29.0   23.0   19.0  20.0  11.0   5.0  3.0  2.0  3.0  1.0  ...   \n",
      "3           11.0    4.0    4.0   2.0   2.0   6.0  3.0  3.0  2.0  1.0  ...   \n",
      "4            1.0    0.0    1.0   1.0   3.0   0.0  1.0  2.0  1.0  0.0  ...   \n",
      "5            3.0    NaN    0.0   0.0   2.0   0.0  1.0  2.0  1.0  0.0  ...   \n",
      "6            0.0    NaN    NaN   NaN   0.0   0.0  0.0  0.0  1.0  0.0  ...   \n",
      "7            0.0    NaN    NaN   NaN   NaN   NaN  NaN  NaN  0.0  0.0  ...   \n",
      "8            NaN    NaN    NaN   NaN   NaN   NaN  NaN  NaN  NaN  0.0  ...   \n",
      "\n",
      "total_obs   11   12   13   14   15   16   17   18   19   20  \n",
      "total_exp                                                    \n",
      "0          0.0  1.0  1.0  2.0  0.0  1.0  0.0  0.0  0.0  0.0  \n",
      "1          2.0  1.0  0.0  0.0  0.0  0.0  0.0  2.0  NaN  0.0  \n",
      "2          0.0  0.0  1.0  0.0  0.0  0.0  0.0  NaN  0.0  NaN  \n",
      "3          0.0  2.0  0.0  0.0  1.0  0.0  0.0  NaN  1.0  0.0  \n",
      "4          0.0  0.0  0.0  NaN  NaN  0.0  0.0  0.0  0.0  0.0  \n",
      "5          1.0  0.0  NaN  NaN  NaN  0.0  0.0  0.0  0.0  NaN  \n",
      "6          0.0  0.0  NaN  0.0  0.0  0.0  NaN  NaN  0.0  0.0  \n",
      "7          NaN  0.0  NaN  0.0  0.0  0.0  0.0  NaN  1.0  NaN  \n",
      "8          NaN  NaN  NaN  NaN  NaN  0.0  0.0  0.0  NaN  NaN  \n",
      "\n",
      "[9 rows x 21 columns]\n"
     ]
    }
   ],
   "source": [
    "freq_tab = pd.pivot_table(test_dat, values=\"emp_freq\",index=[\"total_exp\"], columns=[\"total_obs\"])\n",
    "print(freq_tab)"
   ]
  },
  {
   "cell_type": "code",
   "execution_count": 27,
   "metadata": {},
   "outputs": [
    {
     "data": {
      "image/png": "[encoded data removed]",
      "text/plain": [
       "<Figure size 1080x504 with 1 Axes>"
      ]
     },
     "metadata": {
      "needs_background": "light"
     },
     "output_type": "display_data"
    }
   ],
   "source": [
    "fig, ax = plt.subplots()\n",
    "img1 = ax.imshow(freq_tab, cmap=\"YlGnBu\")\n",
    "ax.set_xticks(np.arange(freq_tab.shape[1]))\n",
    "ax.set_yticks(np.arange(freq_tab.shape[0]))\n",
    "\n",
    "textcolors = [\"k\", \"w\"]\n",
    "threshold = 400\n",
    "\n",
    "for y in range(freq_tab.shape[0]):\n",
    "    for x in range(freq_tab.shape[1]):\n",
    "        if np.isnan(freq_tab[x][y]) == False:\n",
    "            text = ax.text(x, y, int(freq_tab[x][y]), ha=\"center\", va=\"center\",\n",
    "                           color=textcolors[int(freq_tab[x][y]) > threshold])\n",
    "\n",
    "plt.title('1 observation = 1 cheater who killed at least 5 players (per match), cheating adoption within 7 days')\n",
    "plt.xlabel('Total number of observations')\n",
    "plt.ylabel('Total number of experiences')\n",
    "plt.show()\n",
    "\n",
    "fig.savefig('freq_5_7.png')"
   ]
  },
  {
   "cell_type": "code",
   "execution_count": 36,
   "metadata": {},
   "outputs": [
    {
     "name": "stdout",
     "output_type": "stream",
     "text": [
      "total_obs     0      1     2     3     4     5    6    7    8    9   ...   11  \\\n",
      "total_exp                                                            ...        \n",
      "0          228.0  208.0  92.0  50.0  30.0  19.0  9.0  6.0  4.0  1.0  ...  1.0   \n",
      "1           99.0   40.0  34.0  19.0  10.0  10.0  7.0  5.0  2.0  0.0  ...  3.0   \n",
      "2           14.0    3.0   4.0   4.0   6.0   5.0  5.0  1.0  0.0  1.0  ...  1.0   \n",
      "3            7.0    0.0   0.0   2.0   0.0   0.0  3.0  1.0  0.0  NaN  ...  NaN   \n",
      "4            0.0    NaN   NaN   NaN   0.0   1.0  0.0  0.0  NaN  NaN  ...  NaN   \n",
      "5            1.0    NaN   NaN   NaN   NaN   NaN  0.0  NaN  0.0  NaN  ...  NaN   \n",
      "\n",
      "total_obs   12   13   14   15   16   17   18   19   20  \n",
      "total_exp                                               \n",
      "0          0.0  0.0  1.0  1.0  0.0  NaN  0.0  0.0  NaN  \n",
      "1          0.0  0.0  1.0  0.0  2.0  0.0  NaN  0.0  0.0  \n",
      "2          0.0  0.0  0.0  NaN  0.0  0.0  0.0  NaN  NaN  \n",
      "3          NaN  1.0  NaN  1.0  0.0  NaN  0.0  1.0  NaN  \n",
      "4          NaN  NaN  NaN  NaN  NaN  NaN  NaN  NaN  NaN  \n",
      "5          NaN  NaN  NaN  NaN  NaN  NaN  NaN  NaN  NaN  \n",
      "\n",
      "[6 rows x 21 columns]\n"
     ]
    }
   ],
   "source": [
    "freq_tab = pd.pivot_table(test_dat, values=\"emp_freq\",index=[\"total_exp\"], columns=[\"total_obs\"])\n",
    "print(freq_tab)"
   ]
  },
  {
   "cell_type": "code",
   "execution_count": 42,
   "metadata": {},
   "outputs": [
    {
     "name": "stdout",
     "output_type": "stream",
     "text": [
      "total_obs    0     1     2     3     4     5     6     7     8     9   ...  \\\n",
      "total_exp                                                              ...   \n",
      "0           NaN -0.37 -1.66  1.25 -1.52  0.44  0.93  0.52  1.02  1.71  ...   \n",
      "1          0.23 -0.63  1.67 -1.25  2.05  1.64 -1.09 -0.40 -0.25 -1.60  ...   \n",
      "2          0.24 -1.29 -1.73  0.76 -0.31 -0.71  0.63  1.51  0.00  3.65  ...   \n",
      "3          0.55   NaN   NaN  0.38 -1.12 -0.71  3.00 -2.00  1.73 -0.77  ...   \n",
      "4         -1.59   NaN   NaN   NaN   NaN   NaN   NaN   NaN -0.38   NaN  ...   \n",
      "5          3.54   NaN   NaN   NaN   NaN   NaN   NaN   NaN   NaN   NaN  ...   \n",
      "6         -0.58   NaN   NaN   NaN   NaN   NaN   NaN   NaN   NaN   NaN  ...   \n",
      "7         -0.38   NaN   NaN   NaN   NaN   NaN   NaN   NaN   NaN   NaN  ...   \n",
      "\n",
      "total_obs    11    12    13    14    15    16    17    18    19    20  \n",
      "total_exp                                                              \n",
      "0         -0.41  0.46  0.18 -0.22  0.92 -0.75  0.50 -1.51 -0.83  4.24  \n",
      "1          0.86 -0.90 -0.97  0.00 -1.41 -2.84 -0.16  1.38  0.99  0.70  \n",
      "2          1.63  0.83  0.26  2.47  0.10  1.00 -1.00  2.39 -2.68  0.69  \n",
      "3         -0.58  0.00 -0.90 -0.30  0.13  0.44 -1.51  0.77  0.44  1.21  \n",
      "4          2.65 -1.00   NaN -1.13 -0.77  2.65 -0.77 -1.00 -0.63 -1.73  \n",
      "5           NaN  2.65   NaN   NaN   NaN -0.38 -0.58   NaN -0.58  2.65  \n",
      "6           NaN   NaN   NaN   NaN   NaN   NaN   NaN   NaN   NaN   NaN  \n",
      "7           NaN   NaN   NaN   NaN   NaN   NaN   NaN   NaN   NaN   NaN  \n",
      "\n",
      "[8 rows x 21 columns]\n"
     ]
    }
   ],
   "source": [
    "data = pd.read_csv(\"data/rev_data/emp_tab_1_7.csv\")\n",
    "data = data.rename(columns={'freq': 'emp_freq'})\n",
    "\n",
    "rand_dat = pd.read_csv(\"data/rev_data/rand_tab_30_1_7_1.csv\")\n",
    "merged_df = pd.merge(data, rand_dat, on=['total_obs','total_exp'], how='outer')\n",
    "merged_df = merged_df.fillna(0).sort_values(by=['total_obs','total_exp'])\n",
    "merged_df = merged_df.rename(columns={'freq': 'rand_freq_1'})\n",
    "\n",
    "for i in range(2, 9):\n",
    "    rand_dat = pd.read_csv(\"data/rev_data/rand_tab_30_1_7_\" + str(i) + \".csv\")\n",
    "    merged_df = pd.merge(merged_df, rand_dat, on=['total_obs','total_exp'], how='outer')\n",
    "    merged_df = merged_df.fillna(0).sort_values(by=['total_obs','total_exp'])\n",
    "    merged_df = merged_df.rename(columns={'freq': 'rand_freq_' + str(i)})\n",
    "\n",
    "merged_df = merged_df.drop(merged_df[merged_df.total_obs > 20].index)\n",
    "\n",
    "# Test a heatmap using the small dataset (with the results from three randomised networks and one empirical network).\n",
    "test_dat = merged_df.sort_values(['total_exp', 'total_obs']).reset_index(drop=True)\n",
    "\n",
    "test_dat['rand_mean'] = test_dat.iloc[:, 3:].mean(axis=1)\n",
    "test_dat['rand_std'] = test_dat.iloc[:, 3:].std(axis=1)\n",
    "\n",
    "test_dat['observed_stat'] = (test_dat['emp_freq'] - test_dat['rand_mean']) / test_dat['rand_std']\n",
    "test_dat = test_dat.round({\"rand_mean\":2, \"rand_std\":2, \"observed_stat\":2})\n",
    "test_dat = test_dat.replace([np.inf, -np.inf], np.nan)\n",
    "piv = pd.pivot_table(test_dat, values=\"observed_stat\",index=[\"total_exp\"], columns=[\"total_obs\"])\n",
    "print(piv)"
   ]
  },
  {
   "cell_type": "code",
   "execution_count": 43,
   "metadata": {},
   "outputs": [
    {
     "data": {
      "image/png": "[encoded data removed]",
      "text/plain": [
       "<Figure size 1080x504 with 2 Axes>"
      ]
     },
     "metadata": {
      "needs_background": "light"
     },
     "output_type": "display_data"
    }
   ],
   "source": [
    "# Plot a heatmap.\n",
    "cmap = matplotlib.colors.ListedColormap(['lavender', 'thistle', 'lightgray', 'darkviolet', 'indigo'])\n",
    "\n",
    "bounds = [piv.min().min(), -2.58, -1.96, 1.96, 2.58, piv.max().max()]\n",
    "norm = matplotlib.colors.BoundaryNorm(bounds, cmap.N)\n",
    "\n",
    "fig, ax = plt.subplots()\n",
    "img1 = ax.imshow(piv, cmap=cmap, norm=norm)\n",
    "ax.set_xticks(np.arange(piv.shape[1]))\n",
    "ax.set_yticks(np.arange(piv.shape[0]))\n",
    "plt.title('1 observation = 1 cheater who killed at least 1 player (per match), cheating adoption within 7 days')\n",
    "plt.xlabel('Total number of observations')\n",
    "plt.ylabel('Total number of experiences')\n",
    "\n",
    "textcolors = [\"k\", \"w\"]\n",
    "threshold = 1.96\n",
    "\n",
    "for y in range(piv.shape[0]):\n",
    "    for x in range(piv.shape[1]):\n",
    "        if np.isnan(piv[x][y]) == False:\n",
    "            text = ax.text(x, y, piv[x][y], ha=\"center\", va=\"center\",\n",
    "                           color=textcolors[int(piv[x][y]) > threshold])\n",
    "\n",
    "colorbar(img1)\n",
    "plt.show()\n",
    "fig.savefig('emp_1_7.png')"
   ]
  },
  {
   "cell_type": "code",
   "execution_count": 45,
   "metadata": {},
   "outputs": [
    {
     "name": "stdout",
     "output_type": "stream",
     "text": [
      "total_obs    0      1      2      3      4     5     6     7     8     9   \\\n",
      "total_exp                                                                   \n",
      "0           NaN  374.0  203.0  162.0  128.0  87.0  67.0  47.0  34.0  34.0   \n",
      "1          89.0   31.0   45.0   27.0   40.0  31.0  23.0  18.0  17.0  12.0   \n",
      "2          22.0    0.0    0.0    6.0    5.0   4.0   6.0   6.0   5.0   6.0   \n",
      "3           9.0    NaN    NaN    1.0    0.0   0.0   2.0   0.0   1.0   0.0   \n",
      "4           1.0    NaN    NaN    NaN    NaN   NaN   1.0   NaN   0.0   NaN   \n",
      "5           3.0    NaN    NaN    NaN    NaN   NaN   NaN   NaN   NaN   NaN   \n",
      "6           0.0    NaN    NaN    NaN    NaN   NaN   NaN   NaN   NaN   NaN   \n",
      "7           0.0    NaN    NaN    NaN    NaN   NaN   NaN   NaN   NaN   NaN   \n",
      "\n",
      "total_obs  ...    11    12    13    14    15   16   17   18   19   20  \n",
      "total_exp  ...                                                         \n",
      "0          ...  18.0  13.0  10.0  11.0  12.0  3.0  6.0  2.0  2.0  4.0  \n",
      "1          ...  19.0  10.0   7.0   9.0   6.0  3.0  5.0  6.0  7.0  3.0  \n",
      "2          ...   6.0   6.0   5.0   5.0   3.0  5.0  1.0  5.0  0.0  2.0  \n",
      "3          ...   1.0   2.0   1.0   1.0   1.0  1.0  0.0  2.0  1.0  2.0  \n",
      "4          ...   1.0   0.0   NaN   0.0   0.0  1.0  0.0  0.0  0.0  0.0  \n",
      "5          ...   NaN   1.0   1.0   NaN   NaN  0.0  0.0  NaN  0.0  1.0  \n",
      "6          ...   NaN   NaN   NaN   NaN   NaN  NaN  NaN  NaN  NaN  NaN  \n",
      "7          ...   NaN   NaN   NaN   NaN   NaN  NaN  NaN  NaN  NaN  NaN  \n",
      "\n",
      "[8 rows x 21 columns]\n"
     ]
    }
   ],
   "source": [
    "freq_tab = pd.pivot_table(test_dat, values=\"emp_freq\",index=[\"total_exp\"], columns=[\"total_obs\"])\n",
    "print(freq_tab)"
   ]
  },
  {
   "cell_type": "code",
   "execution_count": 47,
   "metadata": {},
   "outputs": [
    {
     "data": {
      "image/png": "[encoded data removed]",
      "text/plain": [
       "<Figure size 1080x504 with 1 Axes>"
      ]
     },
     "metadata": {
      "needs_background": "light"
     },
     "output_type": "display_data"
    }
   ],
   "source": [
    "fig, ax = plt.subplots()\n",
    "img1 = ax.imshow(freq_tab, cmap=\"YlGnBu\")\n",
    "ax.set_xticks(np.arange(freq_tab.shape[1]))\n",
    "ax.set_yticks(np.arange(freq_tab.shape[0]))\n",
    "\n",
    "textcolors = [\"k\", \"w\"]\n",
    "threshold = 300\n",
    "\n",
    "for y in range(freq_tab.shape[0]):\n",
    "    for x in range(freq_tab.shape[1]):\n",
    "        if np.isnan(freq_tab[x][y]) == False:\n",
    "            text = ax.text(x, y, int(freq_tab[x][y]), ha=\"center\", va=\"center\",\n",
    "                           color=textcolors[int(freq_tab[x][y]) > threshold])\n",
    "\n",
    "plt.title('1 observation = 1 cheater who killed at least 1 player (per match), cheating adoption within 7 days')\n",
    "plt.xlabel('Total number of observations')\n",
    "plt.ylabel('Total number of experiences')\n",
    "plt.show()\n",
    "\n",
    "fig.savefig('freq_1_7.png')"
   ]
  },
  {
   "cell_type": "code",
   "execution_count": 48,
   "metadata": {},
   "outputs": [
    {
     "name": "stdout",
     "output_type": "stream",
     "text": [
      "total_obs    0     1     2     3     4     5     6     7     8     9   ...  \\\n",
      "total_exp                                                              ...   \n",
      "0           NaN  0.97 -2.12 -0.40 -2.97  0.50  0.65  0.92  1.33  2.77  ...   \n",
      "1         -1.85 -1.70  1.61 -1.50  2.56  2.53 -1.46 -0.45 -0.98  0.67  ...   \n",
      "2          0.59 -1.00 -1.15  0.69  0.28 -0.12  1.29  5.00  1.73  4.24  ...   \n",
      "3          1.98   NaN   NaN  1.00 -0.77 -0.58   NaN -0.77  2.65   NaN  ...   \n",
      "4         -1.89   NaN   NaN   NaN   NaN   NaN   NaN   NaN   NaN   NaN  ...   \n",
      "5          0.71   NaN   NaN   NaN   NaN   NaN   NaN   NaN   NaN   NaN  ...   \n",
      "\n",
      "total_obs    11    12    13    14    15    16    17    18    19    20  \n",
      "total_exp                                                              \n",
      "0          0.29  0.18 -0.63  0.58 -0.34  0.45  1.51  0.30  0.00  0.71  \n",
      "1          1.12 -0.35 -2.04 -0.89 -1.04  0.94  1.00 -0.69  0.21  1.29  \n",
      "2         -0.58  0.00 -0.21  1.98  0.16 -0.83 -0.38 -0.58 -1.00 -0.54  \n",
      "3         -0.77  0.71   NaN -1.00   NaN   NaN -0.58   NaN -0.38 -0.38  \n",
      "4           NaN -0.38   NaN -0.58 -0.77   NaN   NaN   NaN   NaN   NaN  \n",
      "5           NaN   NaN   NaN   NaN   NaN -0.38 -0.58   NaN   NaN   NaN  \n",
      "\n",
      "[6 rows x 21 columns]\n"
     ]
    }
   ],
   "source": [
    "data = pd.read_csv(\"data/rev_data/emp_tab_1_2.csv\")\n",
    "data = data.rename(columns={'freq': 'emp_freq'})\n",
    "\n",
    "rand_dat = pd.read_csv(\"data/rev_data/rand_tab_30_1_2_1.csv\")\n",
    "merged_df = pd.merge(data, rand_dat, on=['total_obs','total_exp'], how='outer')\n",
    "merged_df = merged_df.fillna(0).sort_values(by=['total_obs','total_exp'])\n",
    "merged_df = merged_df.rename(columns={'freq': 'rand_freq_1'})\n",
    "\n",
    "for i in range(2, 9):\n",
    "    rand_dat = pd.read_csv(\"data/rev_data/rand_tab_30_1_2_\" + str(i) + \".csv\")\n",
    "    merged_df = pd.merge(merged_df, rand_dat, on=['total_obs','total_exp'], how='outer')\n",
    "    merged_df = merged_df.fillna(0).sort_values(by=['total_obs','total_exp'])\n",
    "    merged_df = merged_df.rename(columns={'freq': 'rand_freq_' + str(i)})\n",
    "\n",
    "merged_df = merged_df.drop(merged_df[merged_df.total_obs > 20].index)\n",
    "\n",
    "# Test a heatmap using the small dataset (with the results from three randomised networks and one empirical network).\n",
    "test_dat = merged_df.sort_values(['total_exp', 'total_obs']).reset_index(drop=True)\n",
    "\n",
    "test_dat['rand_mean'] = test_dat.iloc[:, 3:].mean(axis=1)\n",
    "test_dat['rand_std'] = test_dat.iloc[:, 3:].std(axis=1)\n",
    "\n",
    "test_dat['observed_stat'] = (test_dat['emp_freq'] - test_dat['rand_mean']) / test_dat['rand_std']\n",
    "test_dat = test_dat.round({\"rand_mean\":2, \"rand_std\":2, \"observed_stat\":2})\n",
    "test_dat = test_dat.replace([np.inf, -np.inf], np.nan)\n",
    "piv = pd.pivot_table(test_dat, values=\"observed_stat\",index=[\"total_exp\"], columns=[\"total_obs\"])\n",
    "print(piv)"
   ]
  },
  {
   "cell_type": "code",
   "execution_count": 51,
   "metadata": {},
   "outputs": [
    {
     "data": {
      "image/png": "[encoded data removed]",
      "text/plain": [
       "<Figure size 1080x504 with 2 Axes>"
      ]
     },
     "metadata": {
      "needs_background": "light"
     },
     "output_type": "display_data"
    }
   ],
   "source": [
    "# Plot a heatmap.\n",
    "cmap = matplotlib.colors.ListedColormap(['lavender', 'thistle', 'lightgray', 'darkviolet', 'indigo'])\n",
    "\n",
    "bounds = [piv.min().min(), -2.58, -1.96, 1.96, 2.58, piv.max().max()]\n",
    "norm = matplotlib.colors.BoundaryNorm(bounds, cmap.N)\n",
    "\n",
    "fig, ax = plt.subplots()\n",
    "img1 = ax.imshow(piv, cmap=cmap, norm=norm)\n",
    "ax.set_xticks(np.arange(piv.shape[1]))\n",
    "ax.set_yticks(np.arange(piv.shape[0]))\n",
    "plt.title('1 observation = 1 cheater who killed at least 1 player (per match), cheating adoption within 2 days')\n",
    "plt.xlabel('Total number of observations')\n",
    "plt.ylabel('Total number of experiences')\n",
    "\n",
    "textcolors = [\"k\", \"w\"]\n",
    "threshold = 1.96\n",
    "\n",
    "for y in range(piv.shape[0]):\n",
    "    for x in range(piv.shape[1]):\n",
    "        if np.isnan(piv[x][y]) == False:\n",
    "            text = ax.text(x, y, piv[x][y], ha=\"center\", va=\"center\",\n",
    "                           color=textcolors[int(piv[x][y]) > threshold])\n",
    "\n",
    "colorbar(img1)\n",
    "plt.show()\n",
    "fig.savefig('emp_1_2.png')"
   ]
  },
  {
   "cell_type": "code",
   "execution_count": 52,
   "metadata": {},
   "outputs": [
    {
     "name": "stdout",
     "output_type": "stream",
     "text": [
      "total_obs    0      1      2     3     4     5     6     7     8     9   ...  \\\n",
      "total_exp                                                                ...   \n",
      "0           NaN  235.0  108.0  88.0  63.0  43.0  25.0  22.0  14.0  14.0  ...   \n",
      "1          83.0   18.0   25.0  15.0  24.0  15.0   6.0   6.0   4.0   7.0  ...   \n",
      "2          13.0    0.0    0.0   4.0   3.0   2.0   3.0   4.0   2.0   4.0  ...   \n",
      "3           6.0    NaN    NaN   1.0   0.0   0.0   1.0   0.0   1.0   NaN  ...   \n",
      "4           0.0    NaN    NaN   NaN   NaN   NaN   1.0   NaN   NaN   NaN  ...   \n",
      "5           1.0    NaN    NaN   NaN   NaN   NaN   NaN   NaN   NaN   NaN  ...   \n",
      "\n",
      "total_obs   11   12   13   14   15   16   17   18   19   20  \n",
      "total_exp                                                    \n",
      "0          9.0  5.0  3.0  6.0  4.0  2.0  2.0  1.0  1.0  1.0  \n",
      "1          7.0  4.0  0.0  1.0  1.0  2.0  3.0  0.0  1.0  1.0  \n",
      "2          1.0  2.0  1.0  2.0  1.0  0.0  0.0  0.0  0.0  0.0  \n",
      "3          0.0  1.0  1.0  0.0  1.0  1.0  0.0  NaN  0.0  0.0  \n",
      "4          NaN  0.0  NaN  0.0  0.0  NaN  NaN  NaN  NaN  NaN  \n",
      "5          NaN  NaN  NaN  NaN  NaN  0.0  0.0  NaN  NaN  NaN  \n",
      "\n",
      "[6 rows x 21 columns]\n"
     ]
    }
   ],
   "source": [
    "freq_tab = pd.pivot_table(test_dat, values=\"emp_freq\",index=[\"total_exp\"], columns=[\"total_obs\"])\n",
    "print(freq_tab)"
   ]
  },
  {
   "cell_type": "code",
   "execution_count": 53,
   "metadata": {},
   "outputs": [
    {
     "data": {
      "image/png": "[encoded data removed]",
      "text/plain": [
       "<Figure size 1080x504 with 1 Axes>"
      ]
     },
     "metadata": {
      "needs_background": "light"
     },
     "output_type": "display_data"
    }
   ],
   "source": [
    "fig, ax = plt.subplots()\n",
    "img1 = ax.imshow(freq_tab, cmap=\"YlGnBu\")\n",
    "ax.set_xticks(np.arange(freq_tab.shape[1]))\n",
    "ax.set_yticks(np.arange(freq_tab.shape[0]))\n",
    "\n",
    "textcolors = [\"k\", \"w\"]\n",
    "threshold = 200\n",
    "\n",
    "for y in range(freq_tab.shape[0]):\n",
    "    for x in range(freq_tab.shape[1]):\n",
    "        if np.isnan(freq_tab[x][y]) == False:\n",
    "            text = ax.text(x, y, int(freq_tab[x][y]), ha=\"center\", va=\"center\",\n",
    "                           color=textcolors[int(freq_tab[x][y]) > threshold])\n",
    "\n",
    "plt.title('1 observation = 1 cheater who killed at least 1 player (per match), cheating adoption within 2 days')\n",
    "plt.xlabel('Total number of observations')\n",
    "plt.ylabel('Total number of experiences')\n",
    "plt.show()\n",
    "\n",
    "fig.savefig('freq_1_2.png')"
   ]
  },
  {
   "cell_type": "markdown",
   "metadata": {},
   "source": [
    "### Create a heatmap using the new test statistics."
   ]
  },
  {
   "cell_type": "code",
   "execution_count": 8,
   "metadata": {},
   "outputs": [],
   "source": [
    "import numpy as np\n",
    "import matplotlib.pylab as plt\n",
    "import pandas as pd\n",
    "from matplotlib.colors import LinearSegmentedColormap\n",
    "import matplotlib.colors\n",
    "import scipy.stats"
   ]
  },
  {
   "cell_type": "code",
   "execution_count": 9,
   "metadata": {},
   "outputs": [],
   "source": [
    "params = {\n",
    "    'text.latex.preamble': ['\\\\usepackage{gensymb}'],\n",
    "    'image.origin': 'lower',\n",
    "    'image.interpolation': 'nearest',\n",
    "    'image.cmap': 'gray',\n",
    "    'axes.grid': False,\n",
    "    'savefig.dpi': 150,\n",
    "    'axes.labelsize': 12, # Adjust the font size of x and y labels.\n",
    "    'axes.titlesize': 12,\n",
    "    'font.size': 8, \n",
    "    'legend.fontsize': 6,\n",
    "    'xtick.labelsize': 12,\n",
    "    'ytick.labelsize': 12,\n",
    "    'text.usetex': True,\n",
    "    'figure.figsize': [15, 7],\n",
    "    'font.family': 'serif',\n",
    "}\n",
    "matplotlib.rcParams.update(params)\n",
    "\n",
    "\n",
    "def colorbar(mappable):\n",
    "    from mpl_toolkits.axes_grid1 import make_axes_locatable\n",
    "    last_axes = plt.gca()\n",
    "    ax = mappable.axes\n",
    "    fig = ax.figure\n",
    "    divider = make_axes_locatable(ax)\n",
    "    cax = divider.append_axes(\"right\", size=\"3%\", pad=0.1)\n",
    "    cbar = fig.colorbar(mappable, cax=cax, \n",
    "                        ticks=[-np.inf, 0.01, 0.05, np.inf])\n",
    "    plt.sca(last_axes)\n",
    "    return cbar"
   ]
  },
  {
   "cell_type": "code",
   "execution_count": 10,
   "metadata": {},
   "outputs": [],
   "source": [
    "data = pd.read_csv(\"data/corrected_data/emp_tab_5_7.csv\")\n",
    "data = data.rename(columns={'freq': 'emp_freq'})\n",
    "\n",
    "rand_dat = pd.read_csv(\"data/corrected_data/rand_tab_30_5_7_1.csv\")\n",
    "merged_df = pd.merge(data, rand_dat, on=['total_obs','total_exp'], how='outer')\n",
    "merged_df = merged_df.fillna(0).sort_values(by=['total_obs','total_exp'])\n",
    "merged_df = merged_df.rename(columns={'freq': 'rand_freq_1'})\n",
    "\n",
    "for i in range(2, 21):\n",
    "    rand_dat = pd.read_csv(\"data/corrected_data/rand_tab_30_5_7_\" + str(i) + \".csv\")\n",
    "    merged_df = pd.merge(merged_df, rand_dat, on=['total_obs','total_exp'], how='outer')\n",
    "    merged_df = merged_df.fillna(0).sort_values(by=['total_obs','total_exp'])\n",
    "    merged_df = merged_df.rename(columns={'freq': 'rand_freq_' + str(i)})\n",
    "\n",
    "merged_df = merged_df.drop(merged_df[merged_df.total_obs > 20].index)\n",
    "merged_df = merged_df.drop(merged_df[merged_df.total_exp > 8].index)"
   ]
  },
  {
   "cell_type": "code",
   "execution_count": 11,
   "metadata": {},
   "outputs": [
    {
     "name": "stdout",
     "output_type": "stream",
     "text": [
      "   total_obs  total_exp  emp_freq  rand_freq_1  rand_freq_2  rand_freq_3  \\\n",
      "0          0          0     644.0        654.0        653.0        662.0   \n",
      "1          0          1     180.0        184.0        196.0        180.0   \n",
      "2          0          2      29.0         29.0         21.0         33.0   \n",
      "3          0          3      11.0          7.0         14.0         10.0   \n",
      "4          0          4       1.0          6.0          2.0          1.0   \n",
      "\n",
      "   rand_freq_4  rand_freq_5  rand_freq_6  rand_freq_7  ...  rand_freq_11  \\\n",
      "0        685.0        651.0        656.0        655.0  ...         663.0   \n",
      "1        173.0        175.0        186.0        175.0  ...         184.0   \n",
      "2         28.0         28.0         27.0         31.0  ...          27.0   \n",
      "3          8.0          7.0          7.0          7.0  ...          11.0   \n",
      "4          3.0          3.0          4.0          3.0  ...           3.0   \n",
      "\n",
      "   rand_freq_12  rand_freq_13  rand_freq_14  rand_freq_15  rand_freq_16  \\\n",
      "0         679.0         659.0         671.0         644.0         649.0   \n",
      "1         177.0         185.0         178.0         168.0         182.0   \n",
      "2          32.0          29.0          26.0          31.0          27.0   \n",
      "3          14.0           5.0          11.0          14.0           9.0   \n",
      "4           2.0           6.0           2.0           1.0           3.0   \n",
      "\n",
      "   rand_freq_17  rand_freq_18  rand_freq_19  rand_freq_20  \n",
      "0         672.0         655.0         653.0         676.0  \n",
      "1         175.0         193.0         179.0         167.0  \n",
      "2          33.0          26.0          27.0          35.0  \n",
      "3           6.0          12.0          12.0           7.0  \n",
      "4           6.0           3.0           1.0           2.0  \n",
      "\n",
      "[5 rows x 23 columns]\n"
     ]
    }
   ],
   "source": [
    "print(merged_df.head())"
   ]
  },
  {
   "cell_type": "code",
   "execution_count": 12,
   "metadata": {},
   "outputs": [],
   "source": [
    "# Test a heatmap using the small dataset (with the results from three randomised networks and one empirical network).\n",
    "test_dat = merged_df.sort_values(['total_exp', 'total_obs']).reset_index(drop=True)\n",
    "\n",
    "test_dat['rand_mean'] = test_dat.iloc[:, 3:].mean(axis=1)\n",
    "test_dat['cdf'] = scipy.stats.poisson.cdf(test_dat['emp_freq'], test_dat['rand_mean'])\n",
    "test_dat['pmf'] = scipy.stats.poisson.pmf(test_dat['emp_freq'], test_dat['rand_mean'])\n",
    "test_dat['prob'] = 1 - test_dat['cdf'] + test_dat['pmf']\n",
    "\n",
    "test_dat = test_dat.round({\"rand_mean\":2, \"cdf\":3, \"pmf\":3, \"prob\":3})"
   ]
  },
  {
   "cell_type": "code",
   "execution_count": 13,
   "metadata": {},
   "outputs": [
    {
     "name": "stdout",
     "output_type": "stream",
     "text": [
      "   total_obs  total_exp  emp_freq  rand_freq_1  rand_freq_2  rand_freq_3  \\\n",
      "0          0          0     644.0        654.0        653.0        662.0   \n",
      "1          1          0     330.0        320.0        331.0        329.0   \n",
      "2          2          0     122.0        111.0        117.0        120.0   \n",
      "3          3          0      50.0         58.0         43.0         50.0   \n",
      "4          4          0      26.0         30.0         18.0         26.0   \n",
      "\n",
      "   rand_freq_4  rand_freq_5  rand_freq_6  rand_freq_7  ...  rand_freq_15  \\\n",
      "0        685.0        651.0        656.0        655.0  ...         644.0   \n",
      "1        325.0        335.0        334.0        340.0  ...         355.0   \n",
      "2        113.0        122.0        120.0        121.0  ...         126.0   \n",
      "3         51.0         52.0         60.0         43.0  ...          53.0   \n",
      "4         20.0         23.0         22.0         31.0  ...          24.0   \n",
      "\n",
      "   rand_freq_16  rand_freq_17  rand_freq_18  rand_freq_19  rand_freq_20  \\\n",
      "0         649.0         672.0         655.0         653.0         676.0   \n",
      "1         338.0         324.0         323.0         334.0         343.0   \n",
      "2         122.0         120.0         128.0         114.0         118.0   \n",
      "3          48.0          41.0          52.0          47.0          48.0   \n",
      "4          22.0          26.0          24.0          24.0          23.0   \n",
      "\n",
      "   rand_mean    cdf    pmf   prob  \n",
      "0     660.50  0.268  0.013  0.745  \n",
      "1     333.40  0.440  0.022  0.581  \n",
      "2     119.15  0.626  0.035  0.409  \n",
      "3      49.70  0.554  0.056  0.502  \n",
      "4      23.35  0.749  0.067  0.318  \n",
      "\n",
      "[5 rows x 27 columns]\n"
     ]
    }
   ],
   "source": [
    "print(test_dat.head())"
   ]
  },
  {
   "cell_type": "code",
   "execution_count": 14,
   "metadata": {},
   "outputs": [
    {
     "name": "stdout",
     "output_type": "stream",
     "text": [
      "total_obs     0      1      2      3      4      5      6      7      8   \\\n",
      "total_exp                                                                  \n",
      "0          0.745  0.581  0.409  0.502  0.318  0.065  0.277  0.751  0.294   \n",
      "1          0.514  0.455  0.754  0.288  0.902  0.172  0.735  0.289  0.853   \n",
      "2          0.532  0.418  0.274  0.039  0.454  0.782  0.739  0.669  0.283   \n",
      "3          0.417  0.253  0.353  0.941  0.931  0.384  0.456  0.191  0.391   \n",
      "4          0.961  1.000  0.451  0.683  0.243  1.000  0.741  0.228  0.478   \n",
      "5          0.041    NaN  1.000  1.000  0.209  1.000  0.330  0.018  0.330   \n",
      "6          1.000    NaN    NaN    NaN  1.000  1.000  1.000  1.000  0.139   \n",
      "7          1.000    NaN    NaN    NaN    NaN    NaN    NaN    NaN  1.000   \n",
      "8            NaN    NaN    NaN    NaN    NaN    NaN    NaN    NaN    NaN   \n",
      "\n",
      "total_obs     9   ...     11     12     13     14   15     16   17     18  \\\n",
      "total_exp         ...                                                       \n",
      "0          0.657  ...  1.000  0.139  0.788  0.283  1.0  0.221  1.0  1.000   \n",
      "1          0.895  ...  0.681  0.835  1.000  1.000  1.0  1.000  1.0  0.191   \n",
      "2          0.895  ...  1.000  1.000  0.139  1.000  1.0  1.000  1.0    NaN   \n",
      "3          0.528  ...  1.000  0.139  1.000  1.000  0.0  1.000  1.0    NaN   \n",
      "4          1.000  ...  1.000  1.000  1.000    NaN  NaN  1.000  1.0  1.000   \n",
      "5          1.000  ...  0.181  1.000    NaN    NaN  NaN  1.000  1.0  1.000   \n",
      "6          1.000  ...  1.000  1.000    NaN  1.000  1.0  1.000  NaN    NaN   \n",
      "7          1.000  ...    NaN  1.000    NaN  1.000  1.0  1.000  1.0    NaN   \n",
      "8          1.000  ...    NaN    NaN    NaN    NaN  NaN  1.000  1.0  1.000   \n",
      "\n",
      "total_obs     19   20  \n",
      "total_exp              \n",
      "0          1.000  1.0  \n",
      "1            NaN  1.0  \n",
      "2          1.000  NaN  \n",
      "3          0.000  1.0  \n",
      "4          1.000  1.0  \n",
      "5          1.000  NaN  \n",
      "6          1.000  1.0  \n",
      "7          0.049  NaN  \n",
      "8            NaN  NaN  \n",
      "\n",
      "[9 rows x 21 columns]\n"
     ]
    }
   ],
   "source": [
    "piv = pd.pivot_table(test_dat, values=\"prob\",index=[\"total_exp\"], columns=[\"total_obs\"])\n",
    "print(piv)"
   ]
  },
  {
   "cell_type": "code",
   "execution_count": 16,
   "metadata": {},
   "outputs": [
    {
     "data": {
      "image/png": "[encoded data removed]",
      "text/plain": [
       "<Figure size 1080x504 with 2 Axes>"
      ]
     },
     "metadata": {
      "needs_background": "light"
     },
     "output_type": "display_data"
    }
   ],
   "source": [
    "# Plot a heatmap.\n",
    "cmap = matplotlib.colors.ListedColormap(['firebrick','lightcoral', 'whitesmoke'])\n",
    "\n",
    "bounds = [piv.min().min(), 0.01, 0.05, piv.max().max()]\n",
    "norm = matplotlib.colors.BoundaryNorm(bounds, cmap.N)\n",
    "\n",
    "fig, ax = plt.subplots()\n",
    "img1 = ax.imshow(piv, cmap=cmap, norm=norm)\n",
    "ax.set_xticks(np.arange(piv.shape[1]))\n",
    "ax.set_yticks(np.arange(piv.shape[0]))\n",
    "plt.title('1 observation = 1 cheater who killed at least 5 players (per match), cheating adoption within 7 days')\n",
    "plt.xlabel('Total number of observations')\n",
    "plt.ylabel('Total number of experiences')\n",
    "\n",
    "textcolors = [\"k\", \"w\"]\n",
    "threshold = 0.01\n",
    "\n",
    "for y in range(piv.shape[0]):\n",
    "    for x in range(piv.shape[1]):\n",
    "        if np.isnan(piv[x][y]) == False:\n",
    "            text = ax.text(x, y, piv[x][y], ha=\"center\", va=\"center\",\n",
    "                           color=textcolors[1 if piv[x][y] <= threshold else 0])\n",
    "\n",
    "colorbar(img1)\n",
    "plt.show()\n",
    "fig.savefig('p_vals.png')"
   ]
  }
 ],
 "metadata": {
  "kernelspec": {
   "display_name": "Python 3",
   "language": "python",
   "name": "python3"
  },
  "language_info": {
   "codemirror_mode": {
    "name": "ipython",
    "version": 3
   },
   "file_extension": ".py",
   "mimetype": "text/x-python",
   "name": "python",
   "nbconvert_exporter": "python",
   "pygments_lexer": "ipython3",
   "version": "3.6.5"
  }
 },
 "nbformat": 4,
 "nbformat_minor": 2
}
