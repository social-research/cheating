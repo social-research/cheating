{
 "cells": [
  {
   "cell_type": "markdown",
   "metadata": {},
   "source": [
    "### 02. Examine the characteristics of cheaters and those of non-cheaters."
   ]
  },
  {
   "cell_type": "markdown",
   "metadata": {},
   "source": [
    "---\n",
    "* Calculate the average kill ratio of cheaters and that of non-cheaters.\n",
    "* Calculate the average time difference between consecutive kills of cheaters and that of non-cheaters.\n",
    "* Perform t-tests."
   ]
  },
  {
   "cell_type": "markdown",
   "metadata": {},
   "source": [
    "### Load packages and read tables."
   ]
  },
  {
   "cell_type": "code",
   "execution_count": 16,
   "metadata": {},
   "outputs": [],
   "source": [
    "from pyspark.sql import functions as F\n",
    "import pandas as pd\n",
    "import matplotlib.pyplot as plt\n",
    "import numpy as np\n",
    "import pubg_analysis as pubg"
   ]
  },
  {
   "cell_type": "markdown",
   "metadata": {},
   "source": [
    "In this section, we compare cheaters and non-cheaters who played the game between March 1 and March 3.<br>\n",
    "The number of cheaters who were banned during this period is 651."
   ]
  },
  {
   "cell_type": "code",
   "execution_count": 2,
   "metadata": {},
   "outputs": [
    {
     "name": "stdout",
     "output_type": "stream",
     "text": [
      "651\n"
     ]
    }
   ],
   "source": [
    "# Read a table that contains edges.\n",
    "PATH_TO_DATA = \"s3://social-research-cheating/cheater-analysis/data_for_cheater_analysis.parquet\"\n",
    "td = spark.read.parquet(PATH_TO_DATA)\n",
    "td.registerTempTable(\"td\")\n",
    "\n",
    "# Read a table that contains player data.\n",
    "PATH_TO_PLAYER_DATA = \"s3://social-research-cheating/players.parquet\"\n",
    "players = spark.read.parquet(PATH_TO_PLAYER_DATA)\n",
    "players.registerTempTable(\"players\")\n",
    "\n",
    "# Create a table of cheaters who were banned between March 1 and March 3.\n",
    "# The assumption is that cheaters who were banned during this period always did cheat.\n",
    "cheaters = spark.sql(\"SELECT * FROM players WHERE ban_date <= '2019-03-03'\")\n",
    "cheaters.registerTempTable(\"cheaters\")\n",
    "print(cheaters.count())"
   ]
  },
  {
   "cell_type": "code",
   "execution_count": 3,
   "metadata": {},
   "outputs": [
    {
     "name": "stdout",
     "output_type": "stream",
     "text": [
      "+--------------------+----------+-------------+--------+\n",
      "|                  id|     pname|cheating_flag|ban_date|\n",
      "+--------------------+----------+-------------+--------+\n",
      "|account.10166f813...|sinsoksa00|            0|      NA|\n",
      "|account.53b636966...|  junmosex|            0|      NA|\n",
      "|account.5431e43ad...| xogusWkd1|            0|      NA|\n",
      "|account.1084bf6ff...|modric0327|            0|      NA|\n",
      "|account.d217967df...|     D_ain|            0|      NA|\n",
      "+--------------------+----------+-------------+--------+\n",
      "only showing top 5 rows\n",
      "\n",
      "+--------------------+---------------+-------------+----------+\n",
      "|                  id|          pname|cheating_flag|  ban_date|\n",
      "+--------------------+---------------+-------------+----------+\n",
      "|account.bace85a16...|        AEDAN77|            1|2019-03-03|\n",
      "|account.78f031198...|     immanuel10|            1|2019-03-03|\n",
      "|account.a63c0c91d...|         HO_0_G|            1|2019-03-03|\n",
      "|account.c9f57b769...|      ParkJiHae|            1|2019-03-03|\n",
      "|account.90dd9becb...|GrapeFruitAde86|            1|2019-03-03|\n",
      "+--------------------+---------------+-------------+----------+\n",
      "only showing top 5 rows\n",
      "\n"
     ]
    }
   ],
   "source": [
    "# Show the first few rows in each dataset.\n",
    "# td.show(5)\n",
    "players.show(5)\n",
    "cheaters.show(5)"
   ]
  },
  {
   "cell_type": "markdown",
   "metadata": {},
   "source": [
    "### Calculate the average kill ratio for each cheater.\n",
    "\n",
    "The Mean of average kill ratio is 0.77 for cheaters and the median value is 0.82."
   ]
  },
  {
   "cell_type": "code",
   "execution_count": 4,
   "metadata": {},
   "outputs": [
    {
     "name": "stdout",
     "output_type": "stream",
     "text": [
      "0.7661\n",
      "0.8235\n",
      "651\n"
     ]
    }
   ],
   "source": [
    "# Get a dataframe that stores kill records of cheaters.\n",
    "c_kill_logs = spark.sql(\"\"\"SELECT mid, src, time, m_date, ban_date \n",
    "                           FROM td t JOIN cheaters c ON t.src = c.id\"\"\")\n",
    "c_kill_logs.registerTempTable(\"kill_logs\")\n",
    "\n",
    "# Get a dataframe that stores death records of cheaters.\n",
    "c_death_logs = spark.sql(\"\"\"SELECT mid, dst, time, m_date, ban_date \n",
    "                            FROM td t JOIN cheaters c ON t.dst = c.id\"\"\")\n",
    "c_death_logs.registerTempTable(\"death_logs\")\n",
    "\n",
    "c_avg_kill_ratio = pubg.get_avg_kill_ratio(c_kill_logs, c_death_logs)\n",
    "\n",
    "# Calculate the mean and median of average kill ratio.\n",
    "print(round(c_avg_kill_ratio['avg_kill_ratio'].mean(), 4))\n",
    "print(round(c_avg_kill_ratio['avg_kill_ratio'].median(), 4))\n",
    "\n",
    "# Count the number of unique cheaters who have the information on the averge kill ratio.\n",
    "print(len(c_avg_kill_ratio['avg_kill_ratio']))\n",
    "\n",
    "c_avg_kill_ratio['avg_kill_ratio'] = c_avg_kill_ratio['avg_kill_ratio'].round(4)"
   ]
  },
  {
   "cell_type": "code",
   "execution_count": 7,
   "metadata": {},
   "outputs": [
    {
     "name": "stdout",
     "output_type": "stream",
     "text": [
      "+--------------------+--------------+\n",
      "|                  id|avg_kill_ratio|\n",
      "+--------------------+--------------+\n",
      "|account.002dced5b...|        0.8865|\n",
      "|account.0087b5d4a...|        0.6923|\n",
      "|account.00a68dddf...|        0.9205|\n",
      "|account.010f30864...|        0.6667|\n",
      "|account.012829a2f...|        0.8889|\n",
      "|account.0198bd285...|         0.568|\n",
      "|account.021034455...|           1.0|\n",
      "|account.0230c074a...|        0.9146|\n",
      "|account.028e1de9d...|        0.7771|\n",
      "|account.036236700...|        0.3966|\n",
      "+--------------------+--------------+\n",
      "only showing top 10 rows\n",
      "\n"
     ]
    }
   ],
   "source": [
    "# Convert a Pandas dataframe to a Spark dataframe and store it in the S3 bucket.\n",
    "c_avg_kill_ratio_df = spark.createDataFrame(c_avg_kill_ratio)\n",
    "c_avg_kill_ratio_df.show(10)\n",
    "\n",
    "PATH_TO_PARQUET = \"s3://social-research-cheating/cheater-analysis/c_avg_kill_ratio.parquet\"\n",
    "c_avg_kill_ratio_df.write.parquet(PATH_TO_PARQUET)"
   ]
  },
  {
   "cell_type": "markdown",
   "metadata": {},
   "source": [
    "### Calculate the average kill ratio for each non-cheater.\n",
    "\n",
    "The Mean of average kill ratio is 0.4 for non-cheaters and the median value is 0.44.<br>\n",
    "The number of non-cheaters who played the game between March 1 and March 3 is 854,153."
   ]
  },
  {
   "cell_type": "code",
   "execution_count": 8,
   "metadata": {},
   "outputs": [
    {
     "name": "stdout",
     "output_type": "stream",
     "text": [
      "0.4045\n",
      "0.4437\n",
      "854153\n"
     ]
    }
   ],
   "source": [
    "# Create a dataframe that stores kill records of non-cheaters.\n",
    "nc_kill_logs = spark.sql(\"\"\"SELECT mid, src, dst, time, m_date \n",
    "                            FROM td t JOIN players p ON t.src = p.id WHERE cheating_flag = '0'\"\"\")\n",
    "nc_kill_logs.registerTempTable(\"kill_logs\")\n",
    "\n",
    "# Create a dataframe that stores death counts of non-cheaters.\n",
    "nc_death_logs = spark.sql(\"\"\"SELECT mid, src, dst, time, m_date \n",
    "                             FROM td t JOIN players p ON t.dst = p.id WHERE cheating_flag = '0'\"\"\")\n",
    "nc_death_logs.registerTempTable(\"death_logs\")\n",
    "\n",
    "nc_avg_kill_ratio = pubg.get_avg_kill_ratio(nc_kill_logs, nc_death_logs)\n",
    "\n",
    "# Calculate the mean and median of average kill ratio.\n",
    "print(round(nc_avg_kill_ratio['avg_kill_ratio'].mean(), 4))\n",
    "print(round(nc_avg_kill_ratio['avg_kill_ratio'].median(), 4))\n",
    "\n",
    "# Count the number of unique non-cheaters who have the information on the averge kill ratio.\n",
    "print(len(nc_avg_kill_ratio['avg_kill_ratio']))\n",
    "\n",
    "nc_avg_kill_ratio['avg_kill_ratio'] = nc_avg_kill_ratio['avg_kill_ratio'].round(4)"
   ]
  },
  {
   "cell_type": "code",
   "execution_count": 9,
   "metadata": {},
   "outputs": [
    {
     "name": "stdout",
     "output_type": "stream",
     "text": [
      "+--------------------+--------------+\n",
      "|                  id|avg_kill_ratio|\n",
      "+--------------------+--------------+\n",
      "|account.0000074ae...|        0.5675|\n",
      "|account.000033c3d...|        0.5385|\n",
      "|account.000046d1e...|           0.3|\n",
      "|account.00006cfdb...|         0.875|\n",
      "|account.000078418...|          0.25|\n",
      "|account.00007c1e6...|           0.0|\n",
      "|account.0000bd144...|        0.5152|\n",
      "|account.0000c5a5c...|        0.5227|\n",
      "|account.0000cd816...|        0.3585|\n",
      "|account.0000f03a4...|           0.0|\n",
      "+--------------------+--------------+\n",
      "only showing top 10 rows\n",
      "\n"
     ]
    }
   ],
   "source": [
    "# Convert a Pandas dataframe to a Spark dataframe and store it in the S3 bucket.\n",
    "nc_avg_kill_ratio_df = spark.createDataFrame(nc_avg_kill_ratio)\n",
    "nc_avg_kill_ratio_df.show(10)\n",
    "\n",
    "PATH_TO_PARQUET = \"s3://social-research-cheating/cheater-analysis/nc_avg_kill_ratio.parquet\"\n",
    "nc_avg_kill_ratio_df.write.parquet(PATH_TO_PARQUET)"
   ]
  },
  {
   "cell_type": "markdown",
   "metadata": {},
   "source": [
    "### Plot the histogram of average kill ratio for both cheaters and non-cheaters."
   ]
  },
  {
   "cell_type": "code",
   "execution_count": 10,
   "metadata": {},
   "outputs": [
    {
     "data": {
      "image/png": "[encoded data removed]",
      "text/plain": [
       "<Figure size 432x288 with 1 Axes>"
      ]
     },
     "metadata": {},
     "output_type": "display_data"
    }
   ],
   "source": [
    "# Plot the histograms of cheaters and non-cheaters together.\n",
    "ax = nc_avg_kill_ratio.hist(column='avg_kill_ratio', histtype='step', edgecolor='blue', bins=40, label='Non-cheaters', \n",
    "                            weights=np.zeros_like(nc_avg_kill_ratio['avg_kill_ratio'])+1./len(nc_avg_kill_ratio['avg_kill_ratio']))\n",
    "fig = c_avg_kill_ratio.hist(column='avg_kill_ratio', histtype='step', edgecolor='red', bins=40, label='Cheaters', \n",
    "                            weights=np.zeros_like(c_avg_kill_ratio['avg_kill_ratio'])+1./len(c_avg_kill_ratio['avg_kill_ratio']), ax=ax)\n",
    "plt.title('')\n",
    "plt.xlim(xmin = 0)\n",
    "plt.xlim(xmax = 1)\n",
    "plt.xlabel('Average kill ratio')\n",
    "plt.ylabel('Proportion')\n",
    "plt.tight_layout()\n",
    "plt.legend(loc='upper right', frameon=False)\n",
    "image = plt.show()"
   ]
  },
  {
   "cell_type": "markdown",
   "metadata": {},
   "source": [
    "### Calculate the average time difference between consecutive kills for each cheater."
   ]
  },
  {
   "cell_type": "code",
   "execution_count": 11,
   "metadata": {},
   "outputs": [
    {
     "data": {
      "image/png": "[encoded data removed]",
      "text/plain": [
       "<Figure size 432x288 with 1 Axes>"
      ]
     },
     "metadata": {},
     "output_type": "display_data"
    }
   ],
   "source": [
    "# Get a dataframe that stores kill records of cheaters.\n",
    "c_kill_logs.registerTempTable(\"kill_logs\")\n",
    "\n",
    "c_avg_kill_interval = pubg.get_avg_time_diff_between_kills(c_kill_logs)\n",
    "\n",
    "# Plot the distribution of the overall average time difference between kills.\n",
    "fig = c_avg_kill_interval.hist(column='delta', histtype='step', edgecolor='red', bins=40, \n",
    "                               weights=np.zeros_like(c_avg_kill_interval['delta'])+1./len(c_avg_kill_interval['delta']))\n",
    "plt.xlim(xmin = 0)\n",
    "plt.xlabel(\"Average time difference between kills\")\n",
    "plt.ylabel(\"Proportion\")\n",
    "plt.title(\"\")\n",
    "image = plt.show()"
   ]
  },
  {
   "cell_type": "code",
   "execution_count": 13,
   "metadata": {},
   "outputs": [
    {
     "name": "stdout",
     "output_type": "stream",
     "text": [
      "139.6698\n",
      "123.9302\n",
      "629\n"
     ]
    }
   ],
   "source": [
    "# Calculate the mean and median of average time difference between kills.\n",
    "print(round(c_avg_kill_interval['delta'].mean(), 4))\n",
    "print(round(c_avg_kill_interval['delta'].median(), 4))\n",
    "\n",
    "# Count the number of unique cheaters who have the information on the averge time difference between kills.\n",
    "print(len(c_avg_kill_interval['delta']))\n",
    "\n",
    "c_avg_kill_interval['delta'] = c_avg_kill_interval['delta'].round(4)"
   ]
  },
  {
   "cell_type": "code",
   "execution_count": 15,
   "metadata": {},
   "outputs": [
    {
     "name": "stdout",
     "output_type": "stream",
     "text": [
      "+--------------------+--------+\n",
      "|                 src|   delta|\n",
      "+--------------------+--------+\n",
      "|account.ba9810e0f...|201.2667|\n",
      "|account.61973e29f...|251.6154|\n",
      "|account.8d69e3520...| 98.1818|\n",
      "|account.dc0d711ba...|127.3571|\n",
      "|account.feec603d5...| 60.3797|\n",
      "|account.bcb700986...|184.1081|\n",
      "|account.11dbd81ee...|101.2308|\n",
      "|account.1c4cf8633...|301.8333|\n",
      "|account.a98a65311...| 267.875|\n",
      "|account.da1a6fa0b...|168.3611|\n",
      "+--------------------+--------+\n",
      "only showing top 10 rows\n",
      "\n"
     ]
    }
   ],
   "source": [
    "# Convert a Pandas dataframe to a Spark dataframe and store it in the S3 bucket.\n",
    "c_avg_kill_interval_df = spark.createDataFrame(c_avg_kill_interval)\n",
    "c_avg_kill_interval_df.show(10)\n",
    "\n",
    "PATH_TO_PARQUET = \"s3://social-research-cheating/cheater-analysis/c_avg_kill_interval.parquet\"\n",
    "c_avg_kill_interval_df.write.parquet(PATH_TO_PARQUET)"
   ]
  },
  {
   "cell_type": "markdown",
   "metadata": {},
   "source": [
    "### Calculate the average time difference between consecutive kills for each non-cheater."
   ]
  },
  {
   "cell_type": "code",
   "execution_count": 17,
   "metadata": {},
   "outputs": [
    {
     "data": {
      "image/png": "[encoded data removed]",
      "text/plain": [
       "<Figure size 432x288 with 1 Axes>"
      ]
     },
     "metadata": {},
     "output_type": "display_data"
    }
   ],
   "source": [
    "# Get a dataframe that stores kill records of non-cheaters.\n",
    "nc_kill_logs.registerTempTable(\"kill_logs\")\n",
    "\n",
    "nc_avg_kill_interval = pubg.get_avg_time_diff_between_kills(nc_kill_logs)\n",
    "\n",
    "# Plot the distribution of the overall average time difference between kills.\n",
    "fig = nc_avg_kill_interval.hist(column='delta', histtype='step', edgecolor='blue', bins=40, \n",
    "                                weights=np.zeros_like(nc_avg_kill_interval['delta'])+1./len(nc_avg_kill_interval['delta']))\n",
    "plt.xlim(xmin = 0)\n",
    "plt.xlabel(\"Average time difference between kills\")\n",
    "plt.ylabel(\"Proportion\")\n",
    "plt.title(\"\")\n",
    "image = plt.show()"
   ]
  },
  {
   "cell_type": "code",
   "execution_count": 18,
   "metadata": {},
   "outputs": [
    {
     "name": "stdout",
     "output_type": "stream",
     "text": [
      "194.109\n",
      "172.6348\n",
      "623678\n"
     ]
    }
   ],
   "source": [
    "# Calculate the mean and median of average time difference between kills.\n",
    "print(round(nc_avg_kill_interval['delta'].mean(), 4))\n",
    "print(round(nc_avg_kill_interval['delta'].median(), 4))\n",
    "\n",
    "# Count the number of unique non-cheaters who have the information on the averge time difference between kills.\n",
    "print(len(nc_avg_kill_interval['delta']))\n",
    "\n",
    "nc_avg_kill_interval['delta'] = nc_avg_kill_interval['delta'].round(4)"
   ]
  },
  {
   "cell_type": "code",
   "execution_count": 19,
   "metadata": {},
   "outputs": [
    {
     "name": "stdout",
     "output_type": "stream",
     "text": [
      "+--------------------+--------+\n",
      "|                 src|   delta|\n",
      "+--------------------+--------+\n",
      "|account.0017aeb1b...| 173.625|\n",
      "|account.003114883...|   409.5|\n",
      "|account.00399d4c2...|222.3333|\n",
      "|account.003c16440...|324.5714|\n",
      "|account.005593793...|   145.3|\n",
      "|account.006364873...|166.8889|\n",
      "|account.008c8793f...|320.0909|\n",
      "|account.008f0f168...| 332.625|\n",
      "|account.00aecc47c...| 62.3333|\n",
      "|account.00af06e0a...|240.8462|\n",
      "+--------------------+--------+\n",
      "only showing top 10 rows\n",
      "\n"
     ]
    }
   ],
   "source": [
    "# Convert a Pandas dataframe to a Spark dataframe and store it in the S3 bucket.\n",
    "nc_avg_kill_interval_df = spark.createDataFrame(nc_avg_kill_interval)\n",
    "nc_avg_kill_interval_df.show(10)\n",
    "\n",
    "PATH_TO_PARQUET = \"s3://social-research-cheating/cheater-analysis/nc_avg_kill_interval.parquet\"\n",
    "nc_avg_kill_interval_df.write.parquet(PATH_TO_PARQUET)"
   ]
  },
  {
   "cell_type": "markdown",
   "metadata": {},
   "source": [
    "### Plot the histogram of average time difference between kills for both cheaters and non-cheaters."
   ]
  },
  {
   "cell_type": "code",
   "execution_count": 20,
   "metadata": {},
   "outputs": [
    {
     "data": {
      "image/png": "[encoded data removed]",
      "text/plain": [
       "<Figure size 432x288 with 1 Axes>"
      ]
     },
     "metadata": {},
     "output_type": "display_data"
    }
   ],
   "source": [
    "# Plot the histograms of cheaters and non-cheaters together.\n",
    "ax = nc_avg_kill_interval.hist(column='delta', histtype='step', edgecolor='blue', bins=40, label='Non-cheaters', \n",
    "                               weights=np.zeros_like(nc_avg_kill_interval['delta'])+1./len(nc_avg_kill_interval['delta']))\n",
    "fig = c_avg_kill_interval.hist(column='delta', histtype='step', edgecolor='red', bins=40, label='Cheaters', \n",
    "                               weights=np.zeros_like(c_avg_kill_interval['delta'])+1./len(c_avg_kill_interval['delta']), ax=ax)\n",
    "plt.title('')\n",
    "plt.xlabel('Average time difference between kills')\n",
    "plt.ylabel('Proportion')\n",
    "plt.xlim(xmin = 0)\n",
    "plt.xlim(xmax=1400) # Exclude outliers.\n",
    "plt.legend(loc='upper right', frameon=False)\n",
    "plt.tight_layout()\n",
    "image = plt.show()"
   ]
  },
  {
   "cell_type": "markdown",
   "metadata": {},
   "source": [
    "### Perform t-tests.\n",
    "\n",
    "The difference in the average kill ratio between the two groups is significant, t=48.64, p<0.01.\n",
    "There is also a significant difference in the average time difference between consecutive kills, t=-18.24, p<0.01. "
   ]
  },
  {
   "cell_type": "code",
   "execution_count": 21,
   "metadata": {},
   "outputs": [
    {
     "name": "stdout",
     "output_type": "stream",
     "text": [
      "Ttest_indResult(statistic=48.64290194985197, pvalue=5.213000260504692e-219)\n",
      "Ttest_indResult(statistic=-18.235341545750604, pvalue=5.033833786064087e-60)\n"
     ]
    }
   ],
   "source": [
    "import scipy\n",
    "import scipy.stats\n",
    "from scipy.stats import ttest_ind\n",
    "\n",
    "\n",
    "print(scipy.stats.ttest_ind(c_avg_kill_ratio['avg_kill_ratio'], nc_avg_kill_ratio['avg_kill_ratio'], equal_var=False))\n",
    "print(scipy.stats.ttest_ind(c_avg_kill_interval['delta'], nc_avg_kill_interval['delta'], equal_var=False))"
   ]
  }
 ],
 "metadata": {
  "kernelspec": {
   "display_name": "Python 3",
   "language": "python",
   "name": "python3"
  },
  "language_info": {
   "codemirror_mode": {
    "name": "ipython",
    "version": 3
   },
   "file_extension": ".py",
   "mimetype": "text/x-python",
   "name": "python",
   "nbconvert_exporter": "python",
   "pygments_lexer": "ipython3",
   "version": "3.7.3"
  },
  "name": "2_cheater_analysis",
  "notebookId": 3403989876538765
 },
 "nbformat": 4,
 "nbformat_minor": 1
}
