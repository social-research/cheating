{
 "cells": [
  {
   "cell_type": "markdown",
   "metadata": {},
   "source": [
    "## 02. Examine the characteristics of (non-)cheaters."
   ]
  },
  {
   "cell_type": "code",
   "execution_count": 1,
   "metadata": {},
   "outputs": [],
   "source": [
    "import pandas as pd\n",
    "import matplotlib.pyplot as plt\n",
    "import numpy as np\n",
    "import analyze_cheaters\n",
    "import scipy.stats"
   ]
  },
  {
   "cell_type": "markdown",
   "metadata": {},
   "source": [
    "In this section, we compare cheaters and non-cheaters who played the game between March 1 and March 3. The assumption is that cheaters who were banned during this period always did cheat.<br>\n",
    "The number of cheaters who were banned during this period is 651."
   ]
  },
  {
   "cell_type": "code",
   "execution_count": 2,
   "metadata": {},
   "outputs": [],
   "source": [
    "FILE_PATH = \"s3://social-research-cheating/cheater-analysis/data_for_cheater_analysis.parquet\"\n",
    "td = spark.read.parquet(FILE_PATH)\n",
    "td.registerTempTable(\"td\")\n",
    "\n",
    "PLAYER_DATA_PATH = \"s3://social-research-cheating/players.parquet\"\n",
    "players = spark.read.parquet(PLAYER_DATA_PATH)\n",
    "players.registerTempTable(\"players\")\n",
    "\n",
    "cheaters = spark.sql(\"SELECT * FROM players WHERE ban_date <= '2019-03-03'\")\n",
    "cheaters.registerTempTable(\"cheaters\")"
   ]
  },
  {
   "cell_type": "markdown",
   "metadata": {},
   "source": [
    "## 1) Calculate the average kill ratio for each cheater.\n",
    "\n",
    "The Mean of average kill ratio is 0.77 for cheaters and the median value is 0.82."
   ]
  },
  {
   "cell_type": "code",
   "execution_count": 3,
   "metadata": {},
   "outputs": [
    {
     "name": "stdout",
     "output_type": "stream",
     "text": [
      "0.7661\n",
      "0.8235\n",
      "651\n"
     ]
    }
   ],
   "source": [
    "kills_of_cheaters = spark.sql(\"\"\"SELECT mid, src, time, m_date, ban_date \n",
    "                                 FROM td t JOIN cheaters c ON t.src = c.id\"\"\")\n",
    "kills_of_cheaters.registerTempTable(\"kills\")\n",
    "\n",
    "deaths_of_cheaters = spark.sql(\"\"\"SELECT mid, dst, time, m_date, ban_date \n",
    "                                  FROM td t JOIN cheaters c ON t.dst = c.id\"\"\")\n",
    "deaths_of_cheaters.registerTempTable(\"deaths\")\n",
    "\n",
    "avg_kill_ratio_of_cheaters = analyze_cheaters.get_avg_kill_ratio(kills_of_cheaters, deaths_of_cheaters)\n",
    "\n",
    "print(round(avg_kill_ratio_of_cheaters['avg_kill_ratio'].mean(), 4))\n",
    "print(round(avg_kill_ratio_of_cheaters['avg_kill_ratio'].median(), 4))\n",
    "print(len(avg_kill_ratio_of_cheaters['avg_kill_ratio']))\n",
    "\n",
    "avg_kill_ratio_of_cheaters['avg_kill_ratio'] = avg_kill_ratio_of_cheaters['avg_kill_ratio'].round(4)"
   ]
  },
  {
   "cell_type": "code",
   "execution_count": 4,
   "metadata": {},
   "outputs": [
    {
     "name": "stdout",
     "output_type": "stream",
     "text": [
      "+--------------------+--------------+\n",
      "|                  id|avg_kill_ratio|\n",
      "+--------------------+--------------+\n",
      "|account.002dced5b...|        0.8865|\n",
      "|account.0087b5d4a...|        0.6923|\n",
      "|account.00a68dddf...|        0.9205|\n",
      "|account.010f30864...|        0.6667|\n",
      "|account.012829a2f...|        0.8889|\n",
      "|account.0198bd285...|         0.568|\n",
      "|account.021034455...|           1.0|\n",
      "|account.0230c074a...|        0.9146|\n",
      "|account.028e1de9d...|        0.7771|\n",
      "|account.036236700...|        0.3966|\n",
      "+--------------------+--------------+\n",
      "only showing top 10 rows\n",
      "\n"
     ]
    }
   ],
   "source": [
    "avg_kill_ratio_df = spark.createDataFrame(avg_kill_ratio_of_cheaters)\n",
    "avg_kill_ratio_df.show(10)\n",
    "\n",
    "PARQUET_PATH = \"s3://social-research-cheating/cheater-analysis/avg_kill_ratio_of_cheaters.parquet\"\n",
    "avg_kill_ratio_df.write.parquet(PARQUET_PATH)"
   ]
  },
  {
   "cell_type": "markdown",
   "metadata": {},
   "source": [
    "## 2) Calculate the average kill ratio for each non-cheater.\n",
    "\n",
    "The Mean of average kill ratio is 0.4 for non-cheaters and the median value is 0.44.<br>\n",
    "The number of non-cheaters who played the game between March 1 and March 3 is 854,153."
   ]
  },
  {
   "cell_type": "code",
   "execution_count": 6,
   "metadata": {},
   "outputs": [
    {
     "name": "stdout",
     "output_type": "stream",
     "text": [
      "0.4045\n",
      "0.4437\n",
      "854153\n"
     ]
    }
   ],
   "source": [
    "kills_of_non_cheaters = spark.sql(\"\"\"SELECT mid, src, dst, time, m_date \n",
    "                                     FROM td t JOIN players p ON t.src = p.id \n",
    "                                     WHERE cheating_flag = 0\"\"\")\n",
    "kills_of_non_cheaters.registerTempTable(\"kills\")\n",
    "\n",
    "deaths_of_non_cheaters = spark.sql(\"\"\"SELECT mid, src, dst, time, m_date \n",
    "                                      FROM td t JOIN players p ON t.dst = p.id \n",
    "                                      WHERE cheating_flag = 0\"\"\")\n",
    "deaths_of_non_cheaters.registerTempTable(\"deaths\")\n",
    "\n",
    "avg_kill_ratio_of_non_cheaters = analyze_cheaters.get_avg_kill_ratio(kills_of_non_cheaters, deaths_of_non_cheaters)\n",
    "\n",
    "print(round(avg_kill_ratio_of_non_cheaters['avg_kill_ratio'].mean(), 4))\n",
    "print(round(avg_kill_ratio_of_non_cheaters['avg_kill_ratio'].median(), 4))\n",
    "print(len(avg_kill_ratio_of_non_cheaters['avg_kill_ratio']))\n",
    "\n",
    "avg_kill_ratio_of_non_cheaters['avg_kill_ratio'] = avg_kill_ratio_of_non_cheaters['avg_kill_ratio'].round(4)"
   ]
  },
  {
   "cell_type": "code",
   "execution_count": 7,
   "metadata": {},
   "outputs": [
    {
     "name": "stdout",
     "output_type": "stream",
     "text": [
      "+--------------------+--------------+\n",
      "|                  id|avg_kill_ratio|\n",
      "+--------------------+--------------+\n",
      "|account.0000074ae...|        0.5675|\n",
      "|account.000033c3d...|        0.5385|\n",
      "|account.000046d1e...|           0.3|\n",
      "|account.00006cfdb...|         0.875|\n",
      "|account.000078418...|          0.25|\n",
      "|account.00007c1e6...|           0.0|\n",
      "|account.0000bd144...|        0.5152|\n",
      "|account.0000c5a5c...|        0.5227|\n",
      "|account.0000cd816...|        0.3585|\n",
      "|account.0000f03a4...|           0.0|\n",
      "+--------------------+--------------+\n",
      "only showing top 10 rows\n",
      "\n"
     ]
    }
   ],
   "source": [
    "avg_kill_ratio_df = spark.createDataFrame(avg_kill_ratio_of_non_cheaters)\n",
    "avg_kill_ratio_df.show(10)\n",
    "\n",
    "PARQUET_PATH = \"s3://social-research-cheating/cheater-analysis/avg_kill_ratio_of_non_cheaters.parquet\"\n",
    "avg_kill_ratio_df.write.parquet(PARQUET_PATH)"
   ]
  },
  {
   "cell_type": "markdown",
   "metadata": {},
   "source": [
    "## 3) Plot the histogram of average kill ratio for both cheaters and non-cheaters."
   ]
  },
  {
   "cell_type": "code",
   "execution_count": 3,
   "metadata": {},
   "outputs": [
    {
     "data": {
      "image/png": "[encoded data removed]",
      "text/plain": [
       "<Figure size 432x288 with 1 Axes>"
      ]
     },
     "metadata": {
      "needs_background": "light"
     },
     "output_type": "display_data"
    }
   ],
   "source": [
    "avg_kill_ratio_of_cheaters = pd.read_csv(\"data/cheater_analysis/c_avg_kill_ratio.csv\")\n",
    "avg_kill_ratio_of_non_cheaters = pd.read_csv(\"data/cheater_analysis/nc_avg_kill_ratio.csv\")\n",
    "\n",
    "ax = avg_kill_ratio_of_non_cheaters.hist(column='avg_kill_ratio', histtype='step', edgecolor='blue', \n",
    "                                         bins=40, label='Non-cheaters', \n",
    "                                         weights=np.zeros_like(avg_kill_ratio_of_non_cheaters['avg_kill_ratio']) + 1. / \n",
    "                                         len(avg_kill_ratio_of_non_cheaters['avg_kill_ratio']))\n",
    "fig = avg_kill_ratio_of_cheaters.hist(column='avg_kill_ratio', histtype='step', edgecolor='red', \n",
    "                                      bins=40, label='Cheaters', \n",
    "                                      weights=np.zeros_like(avg_kill_ratio_of_cheaters['avg_kill_ratio']) + 1. / \n",
    "                                      len(avg_kill_ratio_of_cheaters['avg_kill_ratio']), ax=ax)\n",
    "plt.title(\"\")\n",
    "plt.xlim(xmin=0)\n",
    "plt.xlim(xmax=1)\n",
    "plt.xlabel('Average kill ratio')\n",
    "plt.ylabel('Proportion')\n",
    "plt.tight_layout()\n",
    "plt.legend(loc='upper right', frameon=False)\n",
    "plt.show()"
   ]
  },
  {
   "cell_type": "markdown",
   "metadata": {},
   "source": [
    "## 4) Calculate the average time difference between consecutive kills for each cheater."
   ]
  },
  {
   "cell_type": "code",
   "execution_count": 9,
   "metadata": {},
   "outputs": [
    {
     "name": "stdout",
     "output_type": "stream",
     "text": [
      "139.6698\n",
      "123.9302\n",
      "629\n"
     ]
    }
   ],
   "source": [
    "kills_of_cheaters.registerTempTable(\"kills\")\n",
    "avg_kill_interval_of_cheaters = analyze_cheaters.get_avg_time_diff_between_kills(kills_of_cheaters)\n",
    "\n",
    "print(round(avg_kill_interval_of_cheaters['delta'].mean(), 4))\n",
    "print(round(avg_kill_interval_of_cheaters['delta'].median(), 4))\n",
    "print(len(avg_kill_interval_of_cheaters['delta']))\n",
    "\n",
    "avg_kill_interval_of_cheaters['delta'] = avg_kill_interval_of_cheaters['delta'].round(4)"
   ]
  },
  {
   "cell_type": "code",
   "execution_count": 10,
   "metadata": {},
   "outputs": [
    {
     "name": "stdout",
     "output_type": "stream",
     "text": [
      "+--------------------+--------+\n",
      "|                  id|   delta|\n",
      "+--------------------+--------+\n",
      "|account.ba9810e0f...|201.2667|\n",
      "|account.61973e29f...|251.6154|\n",
      "|account.8d69e3520...| 98.1818|\n",
      "|account.bcb700986...|184.1081|\n",
      "|account.dc0d711ba...|127.3571|\n",
      "|account.feec603d5...| 60.3797|\n",
      "|account.11dbd81ee...|101.2308|\n",
      "|account.1c4cf8633...|301.8333|\n",
      "|account.a98a65311...| 267.875|\n",
      "|account.da1a6fa0b...|168.3611|\n",
      "+--------------------+--------+\n",
      "only showing top 10 rows\n",
      "\n"
     ]
    }
   ],
   "source": [
    "avg_kill_interval_of_cheaters_df = spark.createDataFrame(avg_kill_interval_of_cheaters)\n",
    "avg_kill_interval_of_cheaters_df.show(10)\n",
    "\n",
    "PARQUET_PATH = \"s3://social-research-cheating/cheater-analysis/avg_kill_interval_of_cheaters.parquet\"\n",
    "avg_kill_interval_of_cheaters_df.write.parquet(PARQUET_PATH)"
   ]
  },
  {
   "cell_type": "markdown",
   "metadata": {},
   "source": [
    "## 5) Calculate the average time difference between consecutive kills for each non-cheater."
   ]
  },
  {
   "cell_type": "code",
   "execution_count": 11,
   "metadata": {},
   "outputs": [
    {
     "name": "stdout",
     "output_type": "stream",
     "text": [
      "194.109\n",
      "172.6348\n",
      "623678\n"
     ]
    }
   ],
   "source": [
    "kills_of_non_cheaters.registerTempTable(\"kills\")\n",
    "avg_kill_interval_of_non_cheaters = analyze_cheaters.get_avg_time_diff_between_kills(kills_of_non_cheaters)\n",
    "\n",
    "print(round(avg_kill_interval_of_non_cheaters['delta'].mean(), 4))\n",
    "print(round(avg_kill_interval_of_non_cheaters['delta'].median(), 4))\n",
    "print(len(avg_kill_interval_of_non_cheaters['delta']))\n",
    "\n",
    "avg_kill_interval_of_non_cheaters['delta'] = avg_kill_interval_of_non_cheaters['delta'].round(4)"
   ]
  },
  {
   "cell_type": "code",
   "execution_count": 12,
   "metadata": {},
   "outputs": [
    {
     "name": "stdout",
     "output_type": "stream",
     "text": [
      "+--------------------+--------+\n",
      "|                  id|   delta|\n",
      "+--------------------+--------+\n",
      "|account.03c232145...|166.8333|\n",
      "|account.040e883a9...|302.1538|\n",
      "|account.041032a10...|    47.0|\n",
      "|account.04273703d...|   122.8|\n",
      "|account.045b6902a...|   121.6|\n",
      "|account.045d649ca...|262.1111|\n",
      "|account.04779d220...|   185.2|\n",
      "|account.049157afd...|    36.0|\n",
      "|account.04965c2d9...|     0.0|\n",
      "|account.04b32dcb0...|   204.8|\n",
      "+--------------------+--------+\n",
      "only showing top 10 rows\n",
      "\n"
     ]
    }
   ],
   "source": [
    "avg_kill_interval_of_non_cheaters_df = spark.createDataFrame(avg_kill_interval_of_non_cheaters)\n",
    "avg_kill_interval_of_non_cheaters_df.show(10)\n",
    "\n",
    "PARQUET_PATH = \"s3://social-research-cheating/cheater-analysis/avg_kill_interval_of_non_cheaters.parquet\"\n",
    "avg_kill_interval_of_non_cheaters_df.write.parquet(PARQUET_PATH)"
   ]
  },
  {
   "cell_type": "markdown",
   "metadata": {},
   "source": [
    "## 6) Plot the histogram of average time difference between kills for both cheaters and non-cheaters."
   ]
  },
  {
   "cell_type": "code",
   "execution_count": 4,
   "metadata": {},
   "outputs": [
    {
     "data": {
      "image/png": "[encoded data removed]",
      "text/plain": [
       "<Figure size 432x288 with 1 Axes>"
      ]
     },
     "metadata": {
      "needs_background": "light"
     },
     "output_type": "display_data"
    }
   ],
   "source": [
    "avg_kill_interval_of_cheaters = pd.read_csv(\"data/cheater_analysis/c_avg_kill_interval.csv\")\n",
    "avg_kill_interval_of_non_cheaters = pd.read_csv(\"data/cheater_analysis/nc_avg_kill_interval.csv\")\n",
    "\n",
    "ax = avg_kill_interval_of_non_cheaters.hist(column='delta', histtype='step', edgecolor='blue', \n",
    "                                            bins=40, label='Non-cheaters', \n",
    "                                            weights=np.zeros_like(avg_kill_interval_of_non_cheaters['delta']) + 1. / \n",
    "                                            len(avg_kill_interval_of_non_cheaters['delta']))\n",
    "fig = avg_kill_interval_of_cheaters.hist(column='delta', histtype='step', edgecolor='red', \n",
    "                                         bins=40, label='Cheaters', \n",
    "                                         weights=np.zeros_like(avg_kill_interval_of_cheaters['delta']) + 1. / \n",
    "                                         len(avg_kill_interval_of_cheaters['delta']), ax=ax)\n",
    "plt.title(\"\")\n",
    "plt.xlabel('Average time difference between kills')\n",
    "plt.ylabel('Proportion')\n",
    "plt.xlim(xmin=0)\n",
    "plt.xlim(xmax=1400)  # Exclude outliers.\n",
    "plt.legend(loc='upper right', frameon=False)\n",
    "plt.tight_layout()\n",
    "plt.show()"
   ]
  },
  {
   "cell_type": "markdown",
   "metadata": {},
   "source": [
    "## 7) Perform t-tests.\n",
    "\n",
    "The difference in the average kill ratio between the two groups is significant, t=48.64, p<0.01.\n",
    "There is also a significant difference in the average time difference between consecutive kills, t=-18.24, p<0.01. "
   ]
  },
  {
   "cell_type": "code",
   "execution_count": 13,
   "metadata": {},
   "outputs": [
    {
     "name": "stdout",
     "output_type": "stream",
     "text": [
      "Ttest_indResult(statistic=48.64290196560924, pvalue=5.2129993985436896e-219)\n",
      "Ttest_indResult(statistic=-18.235341545750604, pvalue=5.033833786064087e-60)\n"
     ]
    }
   ],
   "source": [
    "print(scipy.stats.ttest_ind(avg_kill_ratio_of_cheaters['avg_kill_ratio'], \n",
    "                            avg_kill_ratio_of_non_cheaters['avg_kill_ratio'], \n",
    "                            equal_var=False))\n",
    "\n",
    "print(scipy.stats.ttest_ind(avg_kill_interval_of_cheaters['delta'], \n",
    "                            avg_kill_interval_of_non_cheaters['delta'], \n",
    "                            equal_var=False))"
   ]
  }
 ],
 "metadata": {
  "kernelspec": {
   "display_name": "Python 3",
   "language": "python",
   "name": "python3"
  },
  "language_info": {
   "codemirror_mode": {
    "name": "ipython",
    "version": 3
   },
   "file_extension": ".py",
   "mimetype": "text/x-python",
   "name": "python",
   "nbconvert_exporter": "python",
   "pygments_lexer": "ipython3",
   "version": "3.7.3"
  },
  "name": "2_cheater_analysis",
  "notebookId": 3403989876538765
 },
 "nbformat": 4,
 "nbformat_minor": 1
}
