{
 "cells": [
  {
   "cell_type": "markdown",
   "metadata": {},
   "source": [
    "05-observation-based-mechanism.ipynb\n",
    "======================\n",
    "\n",
    "**Things to do**\n",
    "* Test code.\n",
    "* Find the number of unique cheaters who harmed other players severely.\n",
    "\n",
    "**Sample match ID for testing**\n",
    "* 000213be-6b3b-438a-8d20-c1b57b01a174 (no cheater)\n",
    "* 07a471f7-4776-460d-b896-1306b98b6d19 (one cheater)\n",
    "* 15e457b1-0940-47ca-a730-de0dfd1ccd77 (two cheaters)"
   ]
  },
  {
   "cell_type": "markdown",
   "metadata": {},
   "source": [
    "## Load packages and read tables."
   ]
  },
  {
   "cell_type": "code",
   "execution_count": 1,
   "metadata": {},
   "outputs": [],
   "source": [
    "from pyspark.sql.functions import col, lit, when\n",
    "import pandas as pd\n",
    "import matplotlib.pyplot as plt\n",
    "import numpy as np\n",
    "from pyspark.sql.types import StructType, StructField, LongType\n",
    "import pubg_analysis as pubg"
   ]
  },
  {
   "cell_type": "code",
   "execution_count": 2,
   "metadata": {},
   "outputs": [],
   "source": [
    "# Read a table that contains edges.\n",
    "td = spark.read.parquet(\"s3://jinny-capstone-data-test/data_for_obs_mech.parquet\")\n",
    "td.registerTempTable(\"td\")\n",
    "\n",
    "# Read a table that contains cheater data.\n",
    "cheaters = spark.read.parquet(\"s3://jinny-capstone-data-test/cheater_info.parquet\")\n",
    "cheaters.registerTempTable(\"cheaters\")\n",
    "\n",
    "# Read a table that contains nodes.\n",
    "nodes = spark.read.parquet(\"s3://jinny-capstone-data-test/nodes.parquet\")\n",
    "nodes.registerTempTable(\"nodes\")"
   ]
  },
  {
   "cell_type": "code",
   "execution_count": 3,
   "metadata": {},
   "outputs": [
    {
     "name": "stdout",
     "output_type": "stream",
     "text": [
      "+--------------------+--------------------+------+--------+--------------------+------+--------+--------------------+----------+\n",
      "|                 mid|                 src|src_bd|src_flag|                 dst|dst_bd|dst_flag|                time|    m_date|\n",
      "+--------------------+--------------------+------+--------+--------------------+------+--------+--------------------+----------+\n",
      "|000ec388-a3d7-422...|account.c84796ba7...|    NA|       0|account.5028c61d0...|    NA|       0|2019-03-03 16:14:...|2019-03-03|\n",
      "|000ec388-a3d7-422...|account.cba82f51c...|    NA|       0|account.b347ea78f...|    NA|       0|2019-03-03 16:33:...|2019-03-03|\n",
      "|000ec388-a3d7-422...|account.8f011f0fd...|    NA|       0|account.e2f45b350...|    NA|       0|2019-03-03 16:16:...|2019-03-03|\n",
      "|000ec388-a3d7-422...|account.73324618c...|    NA|       0|account.7911e1c3d...|    NA|       0|2019-03-03 16:12:...|2019-03-03|\n",
      "|000ec388-a3d7-422...|account.ba7ff30f8...|    NA|       0|account.4e93215ae...|    NA|       0|2019-03-03 16:19:...|2019-03-03|\n",
      "+--------------------+--------------------+------+--------+--------------------+------+--------+--------------------+----------+\n",
      "only showing top 5 rows\n",
      "\n",
      "+--------------------+----------+----------+------+\n",
      "|                  id|start_date|  ban_date|period|\n",
      "+--------------------+----------+----------+------+\n",
      "|account.f7d1ed3d2...|2019-03-01|2019-03-02|     2|\n",
      "|account.05e65062c...|2019-03-01|2019-03-02|     2|\n",
      "|account.7cf8fc660...|2019-03-01|2019-03-01|     1|\n",
      "|account.7f8fb41bf...|2019-03-02|2019-03-03|     2|\n",
      "|account.9c6456ec5...|2019-03-01|2019-03-02|     2|\n",
      "+--------------------+----------+----------+------+\n",
      "only showing top 5 rows\n",
      "\n",
      "+--------------------+---------+-------------+----------+--------+\n",
      "|                  id|    pname|cheating_flag|start_date|ban_date|\n",
      "+--------------------+---------+-------------+----------+--------+\n",
      "|account.1d0281ff2...|ulimnet10|            0|        NA|      NA|\n",
      "|account.1c295c6c0...| yoon9242|            0|        NA|      NA|\n",
      "|account.a2b8791d5...|  meco001|            0|        NA|      NA|\n",
      "|account.e3b1eb159...|   forsir|            0|        NA|      NA|\n",
      "|account.65433d8ee...|jimin0311|            0|        NA|      NA|\n",
      "+--------------------+---------+-------------+----------+--------+\n",
      "only showing top 5 rows\n",
      "\n"
     ]
    }
   ],
   "source": [
    "# Show the first few rows of each dataset.\n",
    "td.show(5)\n",
    "cheaters.show(5)\n",
    "nodes.show(5)"
   ]
  },
  {
   "cell_type": "markdown",
   "metadata": {},
   "source": [
    "## 1. Count the number of motifs on the empirical network."
   ]
  },
  {
   "cell_type": "code",
   "execution_count": 3,
   "metadata": {},
   "outputs": [
    {
     "name": "stdout",
     "output_type": "stream",
     "text": [
      "+--------------------+--------------------+------+--------+--------------------+------+--------+--------------------+----------+------+\n",
      "|                 mid|                 src|src_bd|src_flag|                 dst|dst_bd|dst_flag|                time|    m_date|damage|\n",
      "+--------------------+--------------------+------+--------+--------------------+------+--------+--------------------+----------+------+\n",
      "|0000d4aa-07fb-4b3...|account.1866a3c61...|    NA|       0|account.cd31e8ad9...|    NA|       0|2019-03-03 15:58:...|2019-03-03|     1|\n",
      "|0000d4aa-07fb-4b3...|account.528ab8eb6...|    NA|       0|account.e5e3583f7...|    NA|       0|2019-03-03 15:58:...|2019-03-03|     1|\n",
      "|0000d4aa-07fb-4b3...|account.bdea579b5...|    NA|       0|account.695c4609e...|    NA|       0|2019-03-03 15:57:...|2019-03-03|     1|\n",
      "|0000d4aa-07fb-4b3...|account.695c4609e...|    NA|       0|account.16c355b96...|    NA|       0|2019-03-03 15:56:...|2019-03-03|     1|\n",
      "|0000d4aa-07fb-4b3...|account.695c4609e...|    NA|       0|account.789d5bcf9...|    NA|       0|2019-03-03 15:56:...|2019-03-03|     1|\n",
      "+--------------------+--------------------+------+--------+--------------------+------+--------+--------------------+----------+------+\n",
      "only showing top 5 rows\n",
      "\n"
     ]
    }
   ],
   "source": [
    "# First, assume that victims are severely harmed if they were killed after getting into the top 30 percent.\n",
    "res_tab = pubg.add_level_of_harm(td, 30)\n",
    "res_tab.registerTempTable(\"new_td\")\n",
    "res_tab.show(5)"
   ]
  },
  {
   "cell_type": "code",
   "execution_count": 6,
   "metadata": {},
   "outputs": [],
   "source": [
    "records = pubg.add_more_info(res_tab, nodes)\n",
    "records.registerTempTable(\"records\")"
   ]
  },
  {
   "cell_type": "code",
   "execution_count": 7,
   "metadata": {},
   "outputs": [
    {
     "name": "stdout",
     "output_type": "stream",
     "text": [
      "+--------------------+----------+----------+------+---------+-------------+-------------+\n",
      "|                  id|start_date|    m_date|period|total_obs|total_sev_dam|uniq_cheaters|\n",
      "+--------------------+----------+----------+------+---------+-------------+-------------+\n",
      "|account.8d69e3520...|2019-03-02|2019-03-01|     1|       59|           21|            7|\n",
      "|account.11dbd81ee...|2019-03-02|2019-03-01|     1|        9|            1|            4|\n",
      "|account.da1a6fa0b...|2019-03-02|2019-03-01|     1|       35|           17|            1|\n",
      "|account.27478c512...|2019-03-02|2019-03-01|     1|       50|           16|            6|\n",
      "|account.e493e8036...|2019-03-02|2019-03-01|     1|       23|            0|            3|\n",
      "|account.642deac91...|2019-03-02|2019-03-01|     1|        2|            0|            1|\n",
      "|account.d30a1abaf...|2019-03-02|2019-03-01|     1|       18|            0|            3|\n",
      "|account.71aea180f...|2019-03-02|2019-03-01|     1|        6|            3|            1|\n",
      "|account.53db3bd71...|2019-03-02|2019-03-01|     1|        1|            0|            1|\n",
      "|account.ab15ceb31...|2019-03-02|2019-03-01|     1|        1|            0|            1|\n",
      "|account.293b34d31...|2019-03-02|2019-03-01|     1|        3|            3|            2|\n",
      "|account.fde9def4e...|2019-03-03|2019-03-02|     1|       36|           16|            1|\n",
      "|account.29263c240...|2019-03-02|2019-03-01|     1|        6|            1|            2|\n",
      "|account.244b53e2a...|2019-03-02|2019-03-01|     1|        3|            2|            2|\n",
      "|account.47ff35eca...|2019-03-02|2019-03-01|     1|       31|           13|            5|\n",
      "|account.86e152b78...|2019-03-02|2019-03-01|     1|        3|            0|            1|\n",
      "|account.49a8333dc...|2019-03-02|2019-03-01|     1|       23|           10|            6|\n",
      "|account.52adde8ad...|2019-03-02|2019-03-01|     1|      118|           48|            5|\n",
      "|account.29c35033e...|2019-03-02|2019-03-01|     1|        6|            3|            1|\n",
      "|account.a972d04bf...|2019-03-02|2019-03-01|     1|        6|            3|            1|\n",
      "+--------------------+----------+----------+------+---------+-------------+-------------+\n",
      "only showing top 20 rows\n",
      "\n"
     ]
    }
   ],
   "source": [
    "# Get a summary table of the empirical network.\n",
    "obs_sum_tab = pubg.get_obs_summary_tab(records)\n",
    "obs_sum_tab.show()"
   ]
  },
  {
   "cell_type": "code",
   "execution_count": 14,
   "metadata": {},
   "outputs": [],
   "source": [
    "# Store the summary table in the S3 bucket for the later use.\n",
    "obs_sum_tab.write.parquet(\"s3://jinny-capstone-data-test/summary-tables/emp-net/obs_tab.parquet\")"
   ]
  },
  {
   "cell_type": "code",
   "execution_count": null,
   "metadata": {},
   "outputs": [],
   "source": [
    "# Store the summary table as an excel file.\n",
    "# obs_info_df = obs_sum_tab.toPandas()\n",
    "# obs_info_df.to_csv('obs_info_df.csv')"
   ]
  },
  {
   "cell_type": "markdown",
   "metadata": {},
   "source": [
    "The plot below shows the distribution of the number of times the player observed cheating before the transition happened.<br>\n",
    "In this case, we allow duplicate pairs of cheater and observer as there are some players who have observed the same cheaters more than once."
   ]
  },
  {
   "cell_type": "code",
   "execution_count": 15,
   "metadata": {},
   "outputs": [
    {
     "data": {
      "image/png": "[encoded data removed]",
      "text/plain": [
       "<Figure size 432x288 with 1 Axes>"
      ]
     },
     "metadata": {},
     "output_type": "display_data"
    }
   ],
   "source": [
    "# Plot the distribution of the total number of observations. \n",
    "obs_info_df = obs_sum_tab.toPandas()\n",
    "\n",
    "bins = np.arange(0, obs_info_df['total_obs'].max() + 1.5) - 0.5\n",
    "fig = obs_info_df.hist(column = 'total_obs', histtype='step', bins = bins, \n",
    "                       weights=np.zeros_like(obs_info_df['total_obs'])+1./len(obs_info_df['total_obs']))\n",
    "plt.xlim(xmin=0.5)\n",
    "plt.xlabel(\"Number of observations\")\n",
    "plt.ylabel(\"Proportion\")\n",
    "plt.title(\"\")\n",
    "plt.show() "
   ]
  },
  {
   "cell_type": "code",
   "execution_count": 16,
   "metadata": {},
   "outputs": [
    {
     "data": {
      "image/png": "[encoded data removed]",
      "text/plain": [
       "<Figure size 432x288 with 1 Axes>"
      ]
     },
     "metadata": {},
     "output_type": "display_data"
    }
   ],
   "source": [
    "# Plot the distribution of the number of unique cheaters.\n",
    "# In this case, we consider only unique pairs of cheater and observer.\n",
    "bins = np.arange(0, obs_info_df['uniq_cheaters'].max() + 1.5) - 0.5\n",
    "fig = obs_info_df.hist(column = 'uniq_cheaters', histtype='step', bins = bins, \n",
    "                       weights=np.zeros_like(obs_info_df['uniq_cheaters'])+1./len(obs_info_df['uniq_cheaters']))\n",
    "plt.xlim(xmin=0.5)\n",
    "plt.xlabel(\"Number of unique cheaters\")\n",
    "plt.ylabel(\"Proportion\")\n",
    "plt.title(\"\")\n",
    "plt.show()"
   ]
  },
  {
   "cell_type": "markdown",
   "metadata": {},
   "source": [
    "## 2. Reuse the mapping table in the S3 bucket to create randomised networks."
   ]
  },
  {
   "cell_type": "code",
   "execution_count": 8,
   "metadata": {},
   "outputs": [
    {
     "name": "stdout",
     "output_type": "stream",
     "text": [
      "+--------------------+--------------------+---+\n",
      "|                 mid|                  id|tid|\n",
      "+--------------------+--------------------+---+\n",
      "|a2983171-7f4b-41a...|account.e71c81b51...|  8|\n",
      "|87fa7a64-8296-46d...|account.4fc0cf786...| 25|\n",
      "|9d8128bb-62b9-4db...|account.05c8f38ba...| 18|\n",
      "|7a8874eb-ef3b-451...|account.d53c68f6a...| 10|\n",
      "|eaf29706-a41b-4a1...|account.562041b51...|  2|\n",
      "+--------------------+--------------------+---+\n",
      "only showing top 5 rows\n",
      "\n"
     ]
    }
   ],
   "source": [
    "# Read a table that contains team membership data.\n",
    "team_info = spark.read.parquet(\"s3://jinny-capstone-data-test/team_data.parquet\")\n",
    "team_info.registerTempTable(\"team_ids\")\n",
    "team_info.show(5)"
   ]
  },
  {
   "cell_type": "code",
   "execution_count": 17,
   "metadata": {},
   "outputs": [
    {
     "name": "stdout",
     "output_type": "stream",
     "text": [
      "+--------------------+--------------------+---------+--------+--------------------+---------+--------+\n",
      "|            match_id|            original|orig_flag|orig_tid|          randomised|rand_flag|rand_tid|\n",
      "+--------------------+--------------------+---------+--------+--------------------+---------+--------+\n",
      "|917c83ff-c92d-4d1...|account.428f21430...|        0|      NA|account.8c710dc6c...|        0|      NA|\n",
      "|917c83ff-c92d-4d1...|account.bf9e1ebc5...|        0|      NA|account.98299050d...|        0|      NA|\n",
      "|917c83ff-c92d-4d1...|account.de82d0ce6...|        0|      NA|account.100ec39b7...|        0|      NA|\n",
      "|917c83ff-c92d-4d1...|account.34da660de...|        0|      NA|account.e14afabf7...|        0|      NA|\n",
      "|917c83ff-c92d-4d1...|account.5bf305183...|        0|      NA|account.655e0fe02...|        0|      NA|\n",
      "+--------------------+--------------------+---------+--------+--------------------+---------+--------+\n",
      "only showing top 5 rows\n",
      "\n"
     ]
    }
   ],
   "source": [
    "# Read the mapping table.\n",
    "map_tab = spark.read.parquet(\"s3://jinny-capstone-data-test/mapping-tables/map_tab_3.parquet\")\n",
    "map_tab.registerTempTable(\"map_tab\")\n",
    "map_tab.show(5)"
   ]
  },
  {
   "cell_type": "code",
   "execution_count": 18,
   "metadata": {},
   "outputs": [
    {
     "name": "stdout",
     "output_type": "stream",
     "text": [
      "+--------------------+--------------------+--------------------+--------------------+----------+\n",
      "|                 mid|                 src|                 dst|                time|    m_date|\n",
      "+--------------------+--------------------+--------------------+--------------------+----------+\n",
      "|8944786b-0021-4a4...|account.88a843735...|account.0001531a9...|2019-03-03 17:50:...|2019-03-03|\n",
      "|4a5152fa-e942-47d...|account.ac81f0677...|account.beb3d266f...|2019-03-01 17:08:...|2019-03-01|\n",
      "|dd6286b5-8c40-437...|account.d4a4282a8...|account.d1df632b0...|2019-03-01 15:48:...|2019-03-01|\n",
      "|54a9f240-74d9-404...|account.bc0bbdca5...|account.a6c4968e4...|2019-03-01 10:07:...|2019-03-01|\n",
      "|53ca0690-f2d8-480...|account.2e131b2ef...|account.0014fce00...|2019-03-03 05:04:...|2019-03-03|\n",
      "+--------------------+--------------------+--------------------+--------------------+----------+\n",
      "only showing top 5 rows\n",
      "\n"
     ]
    }
   ],
   "source": [
    "# Get randomised gameplay logs.\n",
    "temp_rand_logs = spark.sql(\"\"\"SELECT mid, src, randomised AS new_src, dst, time, m_date \n",
    "                              FROM td t JOIN map_tab m ON t.src = m.original AND t.mid = m.match_id\"\"\")\n",
    "temp_rand_logs.registerTempTable(\"temp_rand_logs\")\n",
    "randomised_logs = spark.sql(\"\"\"SELECT mid, new_src AS src, randomised AS dst, time, m_date \n",
    "                               FROM temp_rand_logs t JOIN map_tab m \n",
    "                               ON t.dst = m.original AND t.mid = m.match_id\"\"\")\n",
    "\n",
    "randomised_logs.show(5)\n",
    "randomised_logs.registerTempTable(\"randomised_logs\")"
   ]
  },
  {
   "cell_type": "markdown",
   "metadata": {},
   "source": [
    "## 3. Count the number of motifs on the randomised network."
   ]
  },
  {
   "cell_type": "code",
   "execution_count": 19,
   "metadata": {},
   "outputs": [
    {
     "name": "stdout",
     "output_type": "stream",
     "text": [
      "+--------------------+--------------------+------+--------+--------------------+------+--------+--------------------+----------+\n",
      "|                 mid|                 src|src_bd|src_flag|                 dst|dst_bd|dst_flag|                time|    m_date|\n",
      "+--------------------+--------------------+------+--------+--------------------+------+--------+--------------------+----------+\n",
      "|297788d0-ef37-4ab...|account.50a01d43a...|    NA|       0|account.001017dce...|    NA|       0|2019-03-02 07:29:...|2019-03-02|\n",
      "|fcaf8c76-4e7a-4b9...|account.75f15a397...|    NA|       0|account.001017dce...|    NA|       0|2019-03-02 06:56:...|2019-03-02|\n",
      "|d7b4a476-007b-4e7...|account.ff01e3c0d...|    NA|       0|account.0017aeb1b...|    NA|       0|2019-03-01 08:35:...|2019-03-01|\n",
      "|4f356644-a887-49f...|account.9c232d9f5...|    NA|       0|account.00399d4c2...|    NA|       0|2019-03-01 04:13:...|2019-03-01|\n",
      "|d8324042-12e1-401...|account.e2d270189...|    NA|       0|account.00399d4c2...|    NA|       0|2019-03-01 05:01:...|2019-03-01|\n",
      "+--------------------+--------------------+------+--------+--------------------+------+--------+--------------------+----------+\n",
      "only showing top 5 rows\n",
      "\n"
     ]
    }
   ],
   "source": [
    "# Add the cheating flags of players.\n",
    "add_flags = spark.sql(\"\"\"SELECT mid, src, ban_date AS src_bd, cheating_flag AS src_flag, \n",
    "                         dst, time, m_date \n",
    "                         FROM randomised_logs r JOIN nodes n ON r.src = n.id\"\"\")\n",
    "add_flags.registerTempTable(\"add_flags\")\n",
    "\n",
    "randomised_logs = spark.sql(\"\"\"SELECT mid, src, src_bd, src_flag, \n",
    "                               dst, ban_date AS dst_bd, cheating_flag AS dst_flag, time, m_date \n",
    "                               FROM add_flags r JOIN nodes n ON r.dst = n.id\"\"\")\n",
    "randomised_logs.registerTempTable(\"td\")\n",
    "randomised_logs.show(5)"
   ]
  },
  {
   "cell_type": "code",
   "execution_count": 20,
   "metadata": {},
   "outputs": [
    {
     "name": "stdout",
     "output_type": "stream",
     "text": [
      "+--------------------+--------------------+------+--------+--------------------+------+--------+--------------------+----------+------+\n",
      "|                 mid|                 src|src_bd|src_flag|                 dst|dst_bd|dst_flag|                time|    m_date|damage|\n",
      "+--------------------+--------------------+------+--------+--------------------+------+--------+--------------------+----------+------+\n",
      "|0000d4aa-07fb-4b3...|account.bdea579b5...|    NA|       0|account.e5e3583f7...|    NA|       0|2019-03-03 15:58:...|2019-03-03|     1|\n",
      "|0000d4aa-07fb-4b3...|account.05dd3a28f...|    NA|       0|account.cd31e8ad9...|    NA|       0|2019-03-03 15:58:...|2019-03-03|     1|\n",
      "|0000d4aa-07fb-4b3...|account.528ab8eb6...|    NA|       0|account.71db99b02...|    NA|       0|2019-03-03 15:57:...|2019-03-03|     1|\n",
      "|0000d4aa-07fb-4b3...|account.71db99b02...|    NA|       0|account.dd74cf084...|    NA|       0|2019-03-03 15:56:...|2019-03-03|     1|\n",
      "|0000d4aa-07fb-4b3...|account.71db99b02...|    NA|       0|account.6541e80e8...|    NA|       0|2019-03-03 15:56:...|2019-03-03|     1|\n",
      "+--------------------+--------------------+------+--------+--------------------+------+--------+--------------------+----------+------+\n",
      "only showing top 5 rows\n",
      "\n"
     ]
    }
   ],
   "source": [
    "rand_logs = pubg.add_level_of_harm(randomised_logs, 30)\n",
    "rand_logs.registerTempTable(\"new_td\")\n",
    "rand_logs.show(5)"
   ]
  },
  {
   "cell_type": "code",
   "execution_count": 21,
   "metadata": {},
   "outputs": [],
   "source": [
    "records = pubg.add_more_info(rand_logs, nodes)\n",
    "records.registerTempTable(\"records\")"
   ]
  },
  {
   "cell_type": "code",
   "execution_count": 22,
   "metadata": {},
   "outputs": [
    {
     "name": "stdout",
     "output_type": "stream",
     "text": [
      "+--------------------+----------+----------+------+---------+-------------+-------------+\n",
      "|                  id|start_date|    m_date|period|total_obs|total_sev_dam|uniq_cheaters|\n",
      "+--------------------+----------+----------+------+---------+-------------+-------------+\n",
      "|account.8d69e3520...|2019-03-02|2019-03-01|     1|       41|           20|            7|\n",
      "|account.11dbd81ee...|2019-03-02|2019-03-01|     1|        9|            1|            4|\n",
      "|account.da1a6fa0b...|2019-03-02|2019-03-01|     1|       17|            3|            1|\n",
      "|account.27478c512...|2019-03-02|2019-03-01|     1|       31|           10|            5|\n",
      "|account.e493e8036...|2019-03-02|2019-03-01|     1|       23|            0|            3|\n",
      "|account.642deac91...|2019-03-02|2019-03-01|     1|        2|            0|            1|\n",
      "|account.d30a1abaf...|2019-03-02|2019-03-01|     1|       32|           19|            3|\n",
      "|account.71aea180f...|2019-03-02|2019-03-01|     1|        3|            3|            1|\n",
      "|account.ab15ceb31...|2019-03-02|2019-03-01|     1|        1|            0|            1|\n",
      "|account.293b34d31...|2019-03-02|2019-03-01|     1|        5|            2|            3|\n",
      "|account.fde9def4e...|2019-03-03|2019-03-02|     1|       20|           12|            1|\n",
      "|account.29263c240...|2019-03-02|2019-03-01|     1|        6|            1|            2|\n",
      "|account.244b53e2a...|2019-03-02|2019-03-01|     1|        4|            3|            2|\n",
      "|account.47ff35eca...|2019-03-02|2019-03-01|     1|       21|            3|            5|\n",
      "|account.86e152b78...|2019-03-02|2019-03-01|     1|       11|            0|            1|\n",
      "|account.49a8333dc...|2019-03-02|2019-03-01|     1|       17|            5|            5|\n",
      "|account.52adde8ad...|2019-03-02|2019-03-01|     1|      133|           60|            6|\n",
      "|account.29c35033e...|2019-03-02|2019-03-01|     1|        3|            3|            1|\n",
      "|account.a972d04bf...|2019-03-02|2019-03-01|     1|        6|            3|            1|\n",
      "|account.090ca369b...|2019-03-02|2019-03-01|     1|        3|            0|            1|\n",
      "+--------------------+----------+----------+------+---------+-------------+-------------+\n",
      "only showing top 20 rows\n",
      "\n"
     ]
    }
   ],
   "source": [
    "# Get a summary table of the randomised network.\n",
    "obs_sum_tab = pubg.get_obs_summary_tab(records)\n",
    "obs_sum_tab.show()"
   ]
  },
  {
   "cell_type": "code",
   "execution_count": 23,
   "metadata": {},
   "outputs": [],
   "source": [
    "# Store the summary table in the S3 bucket for the later use.\n",
    "obs_sum_tab.write.parquet(\"s3://jinny-capstone-data-test/summary-tables/rand-net/obs_tab_3.parquet\")"
   ]
  },
  {
   "cell_type": "code",
   "execution_count": 31,
   "metadata": {},
   "outputs": [],
   "source": [
    "# Download an excel file that contains the summary table of the randomised network.\n",
    "# obs_info_df = obs_sum_tab.toPandas()\n",
    "# obs_info_df.to_csv('rand_obs_info_df.csv')"
   ]
  }
 ],
 "metadata": {
  "kernelspec": {
   "display_name": "Python 3",
   "language": "python",
   "name": "python3"
  },
  "language_info": {
   "codemirror_mode": {
    "name": "ipython",
    "version": 3
   },
   "file_extension": ".py",
   "mimetype": "text/x-python",
   "name": "python",
   "nbconvert_exporter": "python",
   "pygments_lexer": "ipython3",
   "version": "3.7.3"
  },
  "name": "5_observation_based_mechanism",
  "notebookId": 2613361705856745
 },
 "nbformat": 4,
 "nbformat_minor": 1
}
