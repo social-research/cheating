{
 "cells": [
  {
   "cell_type": "markdown",
   "metadata": {},
   "source": [
    "05-observation-based-mechanism.ipynb\n",
    "======================\n",
    "\n",
    "**Things to do**\n",
    "* Test code.\n",
    "* Find the number of unique cheaters who harmed other players severely.\n",
    "* Make code modular.\n",
    "\n",
    "**Sample match ID for testing**\n",
    "* 000213be-6b3b-438a-8d20-c1b57b01a174 (no cheater)\n",
    "* 07a471f7-4776-460d-b896-1306b98b6d19 (one cheater)\n",
    "* 15e457b1-0940-47ca-a730-de0dfd1ccd77 (two cheaters)"
   ]
  },
  {
   "cell_type": "markdown",
   "metadata": {},
   "source": [
    "## Load packages and read tables."
   ]
  },
  {
   "cell_type": "code",
   "execution_count": 1,
   "metadata": {},
   "outputs": [],
   "source": [
    "from pyspark.sql.functions import col, lit, when\n",
    "import pandas as pd\n",
    "import matplotlib.pyplot as plt\n",
    "import numpy as np\n",
    "from pyspark.sql.types import StructType, StructField, LongType\n",
    "import pubg_analysis as pubg"
   ]
  },
  {
   "cell_type": "code",
   "execution_count": 2,
   "metadata": {},
   "outputs": [],
   "source": [
    "# Read a table that contains edges.\n",
    "td = spark.read.parquet(\"s3://social-research-cheating/obs_data.parquet\")\n",
    "td.registerTempTable(\"td\")\n",
    "\n",
    "# Read a table that contains player data.\n",
    "players = spark.read.parquet(\"s3://social-research-cheating/nodes.parquet\")\n",
    "players.registerTempTable(\"nodes\")"
   ]
  },
  {
   "cell_type": "code",
   "execution_count": 3,
   "metadata": {},
   "outputs": [
    {
     "name": "stdout",
     "output_type": "stream",
     "text": [
      "+--------------------+--------------------+------+--------+--------------------+------+--------+--------------------+----------+\n",
      "|                 mid|                 src|src_bd|src_flag|                 dst|dst_bd|dst_flag|                time|    m_date|\n",
      "+--------------------+--------------------+------+--------+--------------------+------+--------+--------------------+----------+\n",
      "|000ec388-a3d7-422...|account.c84796ba7...|    NA|       0|account.5028c61d0...|    NA|       0|2019-03-03 16:14:...|2019-03-03|\n",
      "|000ec388-a3d7-422...|account.cba82f51c...|    NA|       0|account.b347ea78f...|    NA|       0|2019-03-03 16:33:...|2019-03-03|\n",
      "|000ec388-a3d7-422...|account.8f011f0fd...|    NA|       0|account.e2f45b350...|    NA|       0|2019-03-03 16:16:...|2019-03-03|\n",
      "|000ec388-a3d7-422...|account.73324618c...|    NA|       0|account.7911e1c3d...|    NA|       0|2019-03-03 16:12:...|2019-03-03|\n",
      "|000ec388-a3d7-422...|account.ba7ff30f8...|    NA|       0|account.4e93215ae...|    NA|       0|2019-03-03 16:19:...|2019-03-03|\n",
      "+--------------------+--------------------+------+--------+--------------------+------+--------+--------------------+----------+\n",
      "only showing top 5 rows\n",
      "\n",
      "+--------------------+----------+----------+------+\n",
      "|                  id|start_date|  ban_date|period|\n",
      "+--------------------+----------+----------+------+\n",
      "|account.f7d1ed3d2...|2019-03-01|2019-03-02|     2|\n",
      "|account.05e65062c...|2019-03-01|2019-03-02|     2|\n",
      "|account.7cf8fc660...|2019-03-01|2019-03-01|     1|\n",
      "|account.7f8fb41bf...|2019-03-02|2019-03-03|     2|\n",
      "|account.9c6456ec5...|2019-03-01|2019-03-02|     2|\n",
      "+--------------------+----------+----------+------+\n",
      "only showing top 5 rows\n",
      "\n",
      "+--------------------+---------+-------------+----------+--------+\n",
      "|                  id|    pname|cheating_flag|start_date|ban_date|\n",
      "+--------------------+---------+-------------+----------+--------+\n",
      "|account.1d0281ff2...|ulimnet10|            0|        NA|      NA|\n",
      "|account.1c295c6c0...| yoon9242|            0|        NA|      NA|\n",
      "|account.a2b8791d5...|  meco001|            0|        NA|      NA|\n",
      "|account.e3b1eb159...|   forsir|            0|        NA|      NA|\n",
      "|account.65433d8ee...|jimin0311|            0|        NA|      NA|\n",
      "+--------------------+---------+-------------+----------+--------+\n",
      "only showing top 5 rows\n",
      "\n"
     ]
    }
   ],
   "source": [
    "# Show the first few rows of each dataset.\n",
    "td.show(5)\n",
    "nodes.show(5)"
   ]
  },
  {
   "cell_type": "markdown",
   "metadata": {},
   "source": [
    "## 1. Count the number of motifs on the empirical network."
   ]
  },
  {
   "cell_type": "code",
   "execution_count": 3,
   "metadata": {},
   "outputs": [],
   "source": [
    "# First, assume that victims are severely harmed if they were killed after getting into the top 30 percent.\n",
    "res_tab = pubg.add_level_of_harm(td, 30)\n",
    "res_tab.registerTempTable(\"new_td\")"
   ]
  },
  {
   "cell_type": "code",
   "execution_count": 4,
   "metadata": {},
   "outputs": [],
   "source": [
    "records = pubg.add_more_info(res_tab, players)\n",
    "records.registerTempTable(\"records\")"
   ]
  },
  {
   "cell_type": "code",
   "execution_count": 5,
   "metadata": {},
   "outputs": [],
   "source": [
    "# Get a summary table of the empirical network.\n",
    "obs_sum_tab = pubg.get_obs_summary_tab(records)\n",
    "# obs_sum_tab.show()"
   ]
  },
  {
   "cell_type": "code",
   "execution_count": 6,
   "metadata": {},
   "outputs": [],
   "source": [
    "# Store the summary table in the S3 bucket for the later use.\n",
    "obs_sum_tab.write.parquet(\"s3://social-research-cheating/summary-tables/emp-net/sev_obs/obs_tab_30.parquet\")"
   ]
  },
  {
   "cell_type": "markdown",
   "metadata": {},
   "source": [
    "The plot below shows the distribution of the number of times the player observed cheating before the transition happened.<br>\n",
    "In this case, we allow duplicate pairs of cheater and observer as there are some players who have observed the same cheaters more than once."
   ]
  },
  {
   "cell_type": "markdown",
   "metadata": {},
   "source": [
    "## 2. Reuse the mapping table in the S3 bucket to create randomised networks."
   ]
  },
  {
   "cell_type": "code",
   "execution_count": 3,
   "metadata": {},
   "outputs": [
    {
     "name": "stdout",
     "output_type": "stream",
     "text": [
      "+--------------------+--------------------+---------+--------+--------------------+---------+--------+\n",
      "|            match_id|            original|orig_flag|orig_tid|          randomised|rand_flag|rand_tid|\n",
      "+--------------------+--------------------+---------+--------+--------------------+---------+--------+\n",
      "|07c3165b-19ca-412...|account.993a6791a...|        0|       9|account.92eb6c857...|        0|       9|\n",
      "|07c3165b-19ca-412...|account.fd4c79da8...|        0|      26|account.cf37ca928...|        0|      26|\n",
      "|07c3165b-19ca-412...|account.a52b830b5...|        0|      10|account.1b4381bd7...|        0|      10|\n",
      "|07c3165b-19ca-412...|account.b33f85180...|        0|      18|account.f04d86c9c...|        0|      18|\n",
      "|07c3165b-19ca-412...|account.4eb9ec6a8...|        0|       7|account.35b34bd44...|        0|       7|\n",
      "+--------------------+--------------------+---------+--------+--------------------+---------+--------+\n",
      "only showing top 5 rows\n",
      "\n"
     ]
    }
   ],
   "source": [
    "# td = spark.read.parquet(\"s3://social-research-cheating/obs_data.parquet\")\n",
    "# td.registerTempTable(\"td\")\n",
    "\n",
    "# Read the mapping table.\n",
    "map_tab = spark.read.parquet(\"s3://social-research-cheating/mapping-tables/map_tab_3.parquet\")\n",
    "map_tab.registerTempTable(\"map_tab\")\n",
    "map_tab.show(5)"
   ]
  },
  {
   "cell_type": "code",
   "execution_count": 4,
   "metadata": {},
   "outputs": [],
   "source": [
    "# Get randomised gameplay logs.\n",
    "temp_rand_logs = spark.sql(\"\"\"SELECT mid, src, randomised AS new_src, dst, time, m_date \n",
    "                              FROM td t JOIN map_tab m ON t.src = m.original AND t.mid = m.match_id\"\"\")\n",
    "temp_rand_logs.registerTempTable(\"temp_rand_logs\")\n",
    "randomised_logs = spark.sql(\"\"\"SELECT mid, new_src AS src, randomised AS dst, time, m_date \n",
    "                               FROM temp_rand_logs t JOIN map_tab m \n",
    "                               ON t.dst = m.original AND t.mid = m.match_id\"\"\")\n",
    "\n",
    "# randomised_logs.show(5)\n",
    "randomised_logs.registerTempTable(\"randomised_logs\")"
   ]
  },
  {
   "cell_type": "markdown",
   "metadata": {},
   "source": [
    "## 3. Count the number of motifs on the randomised network."
   ]
  },
  {
   "cell_type": "code",
   "execution_count": 5,
   "metadata": {},
   "outputs": [],
   "source": [
    "# Add the cheating flags of players.\n",
    "add_flags = spark.sql(\"\"\"SELECT mid, src, ban_date AS src_bd, cheating_flag AS src_flag, \n",
    "                         dst, time, m_date \n",
    "                         FROM randomised_logs r JOIN nodes n ON r.src = n.id\"\"\")\n",
    "add_flags.registerTempTable(\"add_flags\")\n",
    "\n",
    "randomised_logs = spark.sql(\"\"\"SELECT mid, src, src_bd, src_flag, \n",
    "                               dst, ban_date AS dst_bd, cheating_flag AS dst_flag, time, m_date \n",
    "                               FROM add_flags r JOIN nodes n ON r.dst = n.id\"\"\")\n",
    "randomised_logs.registerTempTable(\"td\")\n",
    "# randomised_logs.show(5)"
   ]
  },
  {
   "cell_type": "code",
   "execution_count": 6,
   "metadata": {},
   "outputs": [],
   "source": [
    "rand_logs = pubg.add_level_of_harm(randomised_logs, 30)\n",
    "rand_logs.registerTempTable(\"new_td\")\n",
    "# rand_logs.show(5)"
   ]
  },
  {
   "cell_type": "code",
   "execution_count": 7,
   "metadata": {},
   "outputs": [],
   "source": [
    "records = pubg.add_more_info(rand_logs, players)\n",
    "records.registerTempTable(\"records\")"
   ]
  },
  {
   "cell_type": "code",
   "execution_count": 8,
   "metadata": {},
   "outputs": [],
   "source": [
    "# Get a summary table of the randomised network.\n",
    "obs_sum_tab = pubg.get_obs_summary_tab(records)\n",
    "# obs_sum_tab.show()"
   ]
  },
  {
   "cell_type": "code",
   "execution_count": 9,
   "metadata": {},
   "outputs": [],
   "source": [
    "# Store the summary table in the S3 bucket for the later use.\n",
    "obs_sum_tab.write.parquet(\"s3://social-research-cheating/summary-tables/rand-net/sev_obs/obs_tab_30_3.parquet\")"
   ]
  }
 ],
 "metadata": {
  "kernelspec": {
   "display_name": "Python 3",
   "language": "python",
   "name": "python3"
  },
  "language_info": {
   "codemirror_mode": {
    "name": "ipython",
    "version": 3
   },
   "file_extension": ".py",
   "mimetype": "text/x-python",
   "name": "python",
   "nbconvert_exporter": "python",
   "pygments_lexer": "ipython3",
   "version": "3.7.3"
  },
  "name": "5_observation_based_mechanism",
  "notebookId": 2613361705856745
 },
 "nbformat": 4,
 "nbformat_minor": 1
}
