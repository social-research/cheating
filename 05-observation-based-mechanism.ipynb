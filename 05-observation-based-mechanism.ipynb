{
 "cells": [
  {
   "cell_type": "markdown",
   "metadata": {},
   "source": [
    "## 5 OBSERVATION-BASED MECHANISM"
   ]
  },
  {
   "cell_type": "code",
   "execution_count": 1,
   "metadata": {},
   "outputs": [],
   "source": [
    "import summarize_results as sr"
   ]
  },
  {
   "cell_type": "code",
   "execution_count": 2,
   "metadata": {},
   "outputs": [],
   "source": [
    "td = spark.read.parquet(\"s3://social-research-cheating/edges/rev_obs_data.parquet\")\n",
    "td.registerTempTable(\"td\")\n",
    "\n",
    "nodes = spark.read.parquet(\"s3://social-research-cheating/nodes.parquet\")\n",
    "nodes.registerTempTable(\"nodes\")"
   ]
  },
  {
   "cell_type": "markdown",
   "metadata": {},
   "source": [
    "### 5.1 MOTIF COUNTS IN THE DATA"
   ]
  },
  {
   "cell_type": "code",
   "execution_count": 6,
   "metadata": {},
   "outputs": [
    {
     "name": "stdout",
     "output_type": "stream",
     "text": [
      "+--------------------+--------------------+----------+----------+------+--------------------+----------+\n",
      "|                 mid|                  id|start_date|    m_date|period|              killer|num_of_obs|\n",
      "+--------------------+--------------------+----------+----------+------+--------------------+----------+\n",
      "|1fdcc035-4caa-4d8...|account.5cc9dddaa...|2019-03-04|2019-03-03|     1|account.f6539b2da...|         6|\n",
      "|49ce2354-78d8-45a...|account.9b71d114a...|2019-03-27|2019-03-26|     1|account.86503f31e...|         4|\n",
      "|05b171f5-8f0c-4b9...|account.8d1623485...|2019-03-10|2019-03-09|     1|account.0e0f2587d...|         5|\n",
      "|dcde74f2-9ac8-4ac...|account.d9c42f038...|2019-03-16|2019-03-10|     6|account.d4e33cc11...|         4|\n",
      "|93adaa78-5656-4f2...|account.769ddbdda...|2019-03-05|2019-03-04|     1|account.e4d805ef9...|         1|\n",
      "+--------------------+--------------------+----------+----------+------+--------------------+----------+\n",
      "only showing top 5 rows\n",
      "\n"
     ]
    }
   ],
   "source": [
    "obs_data = spark.sql(\"SELECT *, ROW_NUMBER() OVER (PARTITION BY mid ORDER BY time) AS aid FROM td\")\n",
    "obs_data.registerTempTable(\"obs_data\")\n",
    "\n",
    "observers = sr.get_observers(obs_data)\n",
    "observers.show(5)\n",
    "observers.write.parquet(\"s3://social-research-cheating/summary-tables/emp-net/observers.parquet\")"
   ]
  },
  {
   "cell_type": "code",
   "execution_count": 2,
   "metadata": {},
   "outputs": [
    {
     "name": "stdout",
     "output_type": "stream",
     "text": [
      "+--------------------+----------+----------+------+---------+\n",
      "|                  id|start_date|    m_date|period|total_obs|\n",
      "+--------------------+----------+----------+------+---------+\n",
      "|account.f21ff46ad...|2019-03-23|2019-03-20|     3|        5|\n",
      "|account.6eb0ac80c...|2019-03-14|2019-03-01|    13|       12|\n",
      "|account.ba5039815...|2019-03-04|2019-03-03|     1|        1|\n",
      "|account.26c64a1ab...|2019-03-05|2019-03-01|     4|       22|\n",
      "|account.dfde84051...|2019-03-13|2019-03-01|    12|        4|\n",
      "+--------------------+----------+----------+------+---------+\n",
      "only showing top 5 rows\n",
      "\n",
      "+--------------------+----------+----------+------+---------+\n",
      "|                  id|start_date|    m_date|period|total_obs|\n",
      "+--------------------+----------+----------+------+---------+\n",
      "|account.f21ff46ad...|2019-03-23|2019-03-20|     3|        1|\n",
      "|account.6eb0ac80c...|2019-03-14|2019-03-01|    13|        4|\n",
      "|account.ba5039815...|2019-03-04|2019-03-03|     1|        0|\n",
      "|account.26c64a1ab...|2019-03-05|2019-03-01|     4|       12|\n",
      "|account.dfde84051...|2019-03-13|2019-03-01|    12|        2|\n",
      "+--------------------+----------+----------+------+---------+\n",
      "only showing top 5 rows\n",
      "\n"
     ]
    }
   ],
   "source": [
    "observers = spark.read.parquet(\"s3://social-research-cheating/summary-tables/emp-net/observers.parquet\")\n",
    "observers.registerTempTable(\"observers\")\n",
    "\n",
    "simple_obs = sr.get_obs_summary_tab(observers, 2)\n",
    "simple_obs.show(5)\n",
    "\n",
    "strict_obs = sr.get_obs_summary_tab(observers, 5)\n",
    "strict_obs.show(5)\n",
    "\n",
    "simple_obs.write.parquet(\"s3://social-research-cheating/summary-tables/emp-net/simple_obs.parquet\")\n",
    "strict_obs.write.parquet(\"s3://social-research-cheating/summary-tables/emp-net/strict_obs.parquet\")"
   ]
  },
  {
   "cell_type": "markdown",
   "metadata": {},
   "source": [
    "### 5.2 MOTIF COUNTS IN SIMULATIONS"
   ]
  },
  {
   "cell_type": "code",
   "execution_count": 3,
   "metadata": {},
   "outputs": [],
   "source": [
    "for i in range(1, 6):\n",
    "    mapping_table = spark.read.parquet(\"s3://social-research-cheating/mapping-tables/map_\" \n",
    "                                       + str(i) + \".parquet\")\n",
    "    mapping_table.registerTempTable(\"mapping_table\")\n",
    "    \n",
    "    temp = spark.sql(\"\"\"SELECT mid, src, randomised AS new_src, dst, time, m_date \n",
    "                        FROM td t JOIN mapping_table m \n",
    "                        ON t.src = m.original AND t.mid = m.match_id\"\"\")\n",
    "    temp.registerTempTable(\"temp\")\n",
    "    \n",
    "    randomized_data = spark.sql(\"\"\"SELECT mid, new_src AS src, randomised AS dst, time, m_date \n",
    "                                   FROM temp t JOIN mapping_table m \n",
    "                                   ON t.dst = m.original AND t.mid = m.match_id\"\"\")\n",
    "    randomized_data.registerTempTable(\"randomized_data\")\n",
    "    \n",
    "    add_flags = spark.sql(\"\"\"SELECT mid, src, start_date AS src_sd, ban_date AS src_bd, \n",
    "                             cheating_flag AS src_flag,\n",
    "                             CASE WHEN m_date <= ban_date AND m_date >= start_date THEN 1 ELSE 0 END \n",
    "                             AS src_curr_flag, dst, time, m_date \n",
    "                             FROM randomized_data r JOIN nodes n ON r.src = n.id\"\"\")\n",
    "    add_flags.registerTempTable(\"add_flags\")\n",
    "    \n",
    "    randomized_data = spark.sql(\"\"\"SELECT mid, src, src_sd, src_bd, src_flag, src_curr_flag,\n",
    "                                   dst, start_date AS dst_sd, ban_date AS dst_bd, cheating_flag AS dst_flag,\n",
    "                                   CASE WHEN m_date <= ban_date AND m_date >= start_date THEN 1 ELSE 0 END \n",
    "                                   AS dst_curr_flag, time, m_date \n",
    "                                   FROM add_flags r JOIN nodes n ON r.dst = n.id\"\"\")\n",
    "    randomized_data.registerTempTable(\"td\")\n",
    "    \n",
    "    obs_data = spark.sql(\"SELECT *, ROW_NUMBER() OVER (PARTITION BY mid ORDER BY time) AS aid FROM td\")\n",
    "    obs_data.registerTempTable(\"obs_data\")\n",
    "    \n",
    "    observers = sr.get_observers(obs_data)\n",
    "    observers.write.parquet(\"s3://social-research-cheating/summary-tables/rand-net/observers/observers_\" \n",
    "                            + str(i) + \".parquet\")"
   ]
  },
  {
   "cell_type": "code",
   "execution_count": 4,
   "metadata": {},
   "outputs": [],
   "source": [
    "for i in range(1, 6):\n",
    "    observers = spark.read.parquet(\"s3://social-research-cheating/summary-tables/rand-net/observers/observers_\" \n",
    "                                   + str(i) + \".parquet\")\n",
    "    observers.registerTempTable(\"observers\")\n",
    "\n",
    "    simple_obs = sr.get_obs_summary_tab(observers, 2)\n",
    "    simple_obs.write.parquet(\"s3://social-research-cheating/summary-tables/rand-net/obs/simple_obs/obs_\" \n",
    "                             + str(i) + \".parquet\")\n",
    "    \n",
    "    strict_obs = sr.get_obs_summary_tab(observers, 5)\n",
    "    strict_obs.write.parquet(\"s3://social-research-cheating/summary-tables/rand-net/obs/strict_obs/obs_\" \n",
    "                             + str(i) + \".parquet\")"
   ]
  }
 ],
 "metadata": {
  "kernelspec": {
   "display_name": "Python 3",
   "language": "python",
   "name": "python3"
  },
  "language_info": {
   "codemirror_mode": {
    "name": "ipython",
    "version": 3
   },
   "file_extension": ".py",
   "mimetype": "text/x-python",
   "name": "python",
   "nbconvert_exporter": "python",
   "pygments_lexer": "ipython3",
   "version": "3.7.3"
  },
  "name": "5_observation_based_mechanism",
  "notebookId": 2613361705856745
 },
 "nbformat": 4,
 "nbformat_minor": 1
}
