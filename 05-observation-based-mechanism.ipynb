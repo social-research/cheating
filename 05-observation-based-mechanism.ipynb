{
 "cells": [
  {
   "cell_type": "markdown",
   "metadata": {},
   "source": [
    "05-observation-based-mechanism.ipynb\n",
    "======================\n",
    "\n",
    "**Things to do**\n",
    "* Find how to get the total size of a dataframe.\n",
    "* Test code.\n",
    "* Find the number of unique cheaters who harmed other players severely."
   ]
  },
  {
   "cell_type": "markdown",
   "metadata": {},
   "source": [
    "## Load packages and read tables."
   ]
  },
  {
   "cell_type": "code",
   "execution_count": 1,
   "metadata": {},
   "outputs": [],
   "source": [
    "from pyspark.sql.functions import col, lit, when\n",
    "import pandas as pd\n",
    "import matplotlib.pyplot as plt\n",
    "import numpy as np\n",
    "from pyspark.sql.types import StructType, StructField, LongType\n",
    "import pubg_analysis as pubg"
   ]
  },
  {
   "cell_type": "code",
   "execution_count": 2,
   "metadata": {},
   "outputs": [],
   "source": [
    "# Read a table that contains edges.\n",
    "td = spark.read.parquet(\"s3://jinny-capstone-data-test/data_for_obs_mech.parquet\")\n",
    "td.registerTempTable(\"td\")\n",
    "\n",
    "# Read a table that contains cheater data.\n",
    "cheaters = spark.read.parquet(\"s3://jinny-capstone-data-test/cheater_info.parquet\")\n",
    "cheaters.registerTempTable(\"cheaters\")\n",
    "\n",
    "# Read a table that contains nodes.\n",
    "nodes = spark.read.parquet(\"s3://jinny-capstone-data-test/nodes.parquet\")\n",
    "nodes.registerTempTable(\"nodes\")"
   ]
  },
  {
   "cell_type": "code",
   "execution_count": 3,
   "metadata": {},
   "outputs": [
    {
     "name": "stdout",
     "output_type": "stream",
     "text": [
      "+--------------------+--------------------+------+--------+--------------------+------+--------+--------------------+----------+\n",
      "|                 mid|                 src|src_bd|src_flag|                 dst|dst_bd|dst_flag|                time|    m_date|\n",
      "+--------------------+--------------------+------+--------+--------------------+------+--------+--------------------+----------+\n",
      "|000ec388-a3d7-422...|account.c84796ba7...|    NA|       0|account.5028c61d0...|    NA|       0|2019-03-03 16:14:...|2019-03-03|\n",
      "|000ec388-a3d7-422...|account.cba82f51c...|    NA|       0|account.b347ea78f...|    NA|       0|2019-03-03 16:33:...|2019-03-03|\n",
      "|000ec388-a3d7-422...|account.8f011f0fd...|    NA|       0|account.e2f45b350...|    NA|       0|2019-03-03 16:16:...|2019-03-03|\n",
      "|000ec388-a3d7-422...|account.73324618c...|    NA|       0|account.7911e1c3d...|    NA|       0|2019-03-03 16:12:...|2019-03-03|\n",
      "|000ec388-a3d7-422...|account.ba7ff30f8...|    NA|       0|account.4e93215ae...|    NA|       0|2019-03-03 16:19:...|2019-03-03|\n",
      "+--------------------+--------------------+------+--------+--------------------+------+--------+--------------------+----------+\n",
      "only showing top 5 rows\n",
      "\n",
      "+--------------------+----------+----------+------+\n",
      "|                  id|start_date|  ban_date|period|\n",
      "+--------------------+----------+----------+------+\n",
      "|account.f7d1ed3d2...|2019-03-01|2019-03-02|     2|\n",
      "|account.05e65062c...|2019-03-01|2019-03-02|     2|\n",
      "|account.7cf8fc660...|2019-03-01|2019-03-01|     1|\n",
      "|account.7f8fb41bf...|2019-03-02|2019-03-03|     2|\n",
      "|account.9c6456ec5...|2019-03-01|2019-03-02|     2|\n",
      "+--------------------+----------+----------+------+\n",
      "only showing top 5 rows\n",
      "\n",
      "+--------------------+---------+-------------+----------+--------+\n",
      "|                  id|    pname|cheating_flag|start_date|ban_date|\n",
      "+--------------------+---------+-------------+----------+--------+\n",
      "|account.1d0281ff2...|ulimnet10|            0|        NA|      NA|\n",
      "|account.1c295c6c0...| yoon9242|            0|        NA|      NA|\n",
      "|account.a2b8791d5...|  meco001|            0|        NA|      NA|\n",
      "|account.e3b1eb159...|   forsir|            0|        NA|      NA|\n",
      "|account.65433d8ee...|jimin0311|            0|        NA|      NA|\n",
      "+--------------------+---------+-------------+----------+--------+\n",
      "only showing top 5 rows\n",
      "\n"
     ]
    }
   ],
   "source": [
    "# Show the first few rows of each dataset.\n",
    "td.show(5)\n",
    "cheaters.show(5)\n",
    "nodes.show(5)"
   ]
  },
  {
   "cell_type": "markdown",
   "metadata": {},
   "source": [
    "## 1. Count the number of motifs on the empirical network."
   ]
  },
  {
   "cell_type": "code",
   "execution_count": 4,
   "metadata": {},
   "outputs": [
    {
     "name": "stdout",
     "output_type": "stream",
     "text": [
      "+--------------------+--------------------+--------+--------------------+--------+--------------------+----------+------+\n",
      "|                 mid|                 src|src_flag|                 dst|dst_flag|                time|    m_date|damage|\n",
      "+--------------------+--------------------+--------+--------------------+--------+--------------------+----------+------+\n",
      "|0000d4aa-07fb-4b3...|account.1866a3c61...|       0|account.cd31e8ad9...|       0|2019-03-03 15:58:...|2019-03-03|     1|\n",
      "|0000d4aa-07fb-4b3...|account.528ab8eb6...|       0|account.e5e3583f7...|       0|2019-03-03 15:58:...|2019-03-03|     1|\n",
      "|0000d4aa-07fb-4b3...|account.bdea579b5...|       0|account.695c4609e...|       0|2019-03-03 15:57:...|2019-03-03|     1|\n",
      "|0000d4aa-07fb-4b3...|account.695c4609e...|       0|account.16c355b96...|       0|2019-03-03 15:56:...|2019-03-03|     1|\n",
      "|0000d4aa-07fb-4b3...|account.695c4609e...|       0|account.789d5bcf9...|       0|2019-03-03 15:56:...|2019-03-03|     1|\n",
      "+--------------------+--------------------+--------+--------------------+--------+--------------------+----------+------+\n",
      "only showing top 5 rows\n",
      "\n"
     ]
    }
   ],
   "source": [
    "res_tab = pubg.add_level_of_harm(td, 30)\n",
    "res_tab.registerTempTable(\"new_td\")\n",
    "res_tab.show(5)"
   ]
  },
  {
   "cell_type": "code",
   "execution_count": 9,
   "metadata": {},
   "outputs": [
    {
     "name": "stdout",
     "output_type": "stream",
     "text": [
      "+--------------------+--------------------+----------+----------+--------+-------------+--------------------+------+------+--------+-------------+--------------------+----------+------+---+\n",
      "|                 mid|                 src|    src_sd|    src_bd|src_flag|src_curr_flag|                 dst|dst_sd|dst_bd|dst_flag|dst_curr_flag|                time|    m_date|damage|aid|\n",
      "+--------------------+--------------------+----------+----------+--------+-------------+--------------------+------+------+--------+-------------+--------------------+----------+------+---+\n",
      "|05c04ee8-6c76-4b0...|account.87b1996c3...|        NA|        NA|       0|            0|account.7ff55d8ce...|    NA|    NA|       0|            0|2019-03-02 18:37:...|2019-03-02|     0|  1|\n",
      "|05c04ee8-6c76-4b0...|account.57db0ba5a...|        NA|        NA|       0|            0|account.f7703cf3b...|    NA|    NA|       0|            0|2019-03-02 18:38:...|2019-03-02|     0|  2|\n",
      "|05c04ee8-6c76-4b0...|account.2d5102e2e...|        NA|        NA|       0|            0|account.6c41c53c6...|    NA|    NA|       0|            0|2019-03-02 18:38:...|2019-03-02|     0|  3|\n",
      "|05c04ee8-6c76-4b0...|account.87b1996c3...|        NA|        NA|       0|            0|account.aae1f10a8...|    NA|    NA|       0|            0|2019-03-02 18:38:...|2019-03-02|     0|  4|\n",
      "|05c04ee8-6c76-4b0...|account.973701f03...|2019-03-02|2019-03-03|       1|            1|account.1bfe8b446...|    NA|    NA|       0|            0|2019-03-02 18:38:...|2019-03-02|     0|  5|\n",
      "+--------------------+--------------------+----------+----------+--------+-------------+--------------------+------+------+--------+-------------+--------------------+----------+------+---+\n",
      "only showing top 5 rows\n",
      "\n"
     ]
    }
   ],
   "source": [
    "# First, add information of killers.\n",
    "src_info = spark.sql(\"\"\"SELECT mid, src, start_date AS src_sd, src_bd, src_flag, \n",
    "                        dst, dst_bd, dst_flag, time, m_date, damage \n",
    "                        FROM new_td t JOIN nodes n ON t.src = n.id\"\"\")\n",
    "src_info.registerTempTable(\"src_info\")\n",
    "\n",
    "# Add information of victims.\n",
    "full_info = spark.sql(\"\"\"SELECT mid, src, src_sd, src_bd, src_flag, \n",
    "                         dst, start_date AS dst_sd, dst_bd, dst_flag, time, m_date, damage \n",
    "                         FROM src_info s JOIN nodes n ON s.dst = n.id\"\"\")\n",
    "full_info.registerTempTable(\"full_info\")\n",
    "\n",
    "# Add information of cheaters.\n",
    "add_flags = spark.sql(\"\"\"SELECT mid, src, src_sd, src_bd, src_flag,\n",
    "                         CASE WHEN src_bd >= m_date AND src_sd <= m_date \n",
    "                         AND src_flag == 1 THEN 1 ELSE 0 END AS src_curr_flag, \n",
    "                         dst, dst_sd, dst_bd, dst_flag,\n",
    "                         CASE WHEN dst_bd >= m_date AND dst_sd <= m_date \n",
    "                         AND dst_flag == 1 THEN 1 ELSE 0 END AS dst_curr_flag, time, m_date, damage \n",
    "                         FROM full_info ORDER BY mid, time\"\"\")\n",
    "add_flags.registerTempTable(\"add_flags\")\n",
    "\n",
    "legit_matches = spark.sql(\"\"\"SELECT mid \n",
    "                             FROM (SELECT mid, SUM(src_curr_flag) AS c_kills FROM add_flags GROUP BY mid) \n",
    "                             WHERE c_kills > 0\"\"\")\n",
    "legit_matches.registerTempTable(\"legit_matches\")\n",
    "\n",
    "records = spark.sql(\"\"\"SELECT r.mid, src, src_sd, src_bd, src_flag, src_curr_flag, \n",
    "                       dst, dst_sd, dst_bd, dst_flag, dst_curr_flag, time, m_date, damage \n",
    "                       FROM add_flags r JOIN legit_matches l ON r.mid = l.mid\"\"\")\n",
    "records.registerTempTable(\"records\")\n",
    "\n",
    "records = spark.sql(\"SELECT *, ROW_NUMBER() OVER (PARTITION BY mid ORDER BY time) AS aid FROM records\")\n",
    "records.registerTempTable(\"records\")"
   ]
  },
  {
   "cell_type": "code",
   "execution_count": 10,
   "metadata": {},
   "outputs": [
    {
     "name": "stdout",
     "output_type": "stream",
     "text": [
      "+--------------------+----------+----------+------+--------------------+---+-------+\n",
      "|                  id|start_date|    m_date|period|              killer|obs|sev_dam|\n",
      "+--------------------+----------+----------+------+--------------------+---+-------+\n",
      "|account.27478c512...|2019-03-02|2019-03-01|     1|account.f1bf619de...| 16|      8|\n",
      "|account.216ad15bd...|2019-03-02|2019-03-01|     1|account.05e7638fb...|  2|      2|\n",
      "|account.6dccf1b38...|2019-03-02|2019-03-01|     1|account.0a54b3498...|  1|      0|\n",
      "|account.49a8333dc...|2019-03-02|2019-03-01|     1|account.b5b88ac71...|  2|      0|\n",
      "|account.8c52a3348...|2019-03-02|2019-03-01|     1|account.caeaf4f68...|  9|      9|\n",
      "|account.8c52a3348...|2019-03-02|2019-03-01|     1|account.f450cac80...|  2|      0|\n",
      "|account.47ff35eca...|2019-03-02|2019-03-01|     1|account.1cb8b6fcd...|  6|      3|\n",
      "|account.d87ddfa9b...|2019-03-03|2019-03-02|     1|account.9619606b3...|  4|      2|\n",
      "|account.903b83e20...|2019-03-03|2019-03-01|     2|account.289e5d7fb...|  1|      0|\n",
      "|account.27478c512...|2019-03-02|2019-03-01|     1|account.299b4920e...| 12|      0|\n",
      "|account.29263c240...|2019-03-02|2019-03-01|     1|account.6f8b0c2d0...|  4|      0|\n",
      "|account.f554aebcf...|2019-03-03|2019-03-01|     2|account.22fdfdf04...| 15|      0|\n",
      "|account.f554aebcf...|2019-03-03|2019-03-02|     1|account.292503bd5...|  1|      1|\n",
      "|account.8d69e3520...|2019-03-02|2019-03-01|     1|account.9196d5906...| 22|     11|\n",
      "|account.11dbd81ee...|2019-03-02|2019-03-01|     1|account.178b7a53b...|  2|      0|\n",
      "|account.3a5102f8e...|2019-03-02|2019-03-01|     1|account.080773887...|  4|      0|\n",
      "|account.d974dde55...|2019-03-02|2019-03-01|     1|account.080773887...|  4|      0|\n",
      "|account.8643d9b0b...|2019-03-02|2019-03-01|     1|account.6e7586500...| 16|      8|\n",
      "|account.6dccf1b38...|2019-03-02|2019-03-01|     1|account.cfd562ad6...|  4|      0|\n",
      "|account.476ee023d...|2019-03-02|2019-03-01|     1|account.b6c7745db...|  3|      0|\n",
      "+--------------------+----------+----------+------+--------------------+---+-------+\n",
      "only showing top 20 rows\n",
      "\n",
      "129\n"
     ]
    }
   ],
   "source": [
    "# Get a list of killings done by cheaters.\n",
    "kills_done_by_cheaters = spark.sql(\"\"\"SELECT mid, src AS killer, time, aid FROM records \n",
    "                                      WHERE src_curr_flag = 1\"\"\")\n",
    "kills_done_by_cheaters.registerTempTable(\"kills_done_by_cheaters\")\n",
    "\n",
    "# Get a table of players (both killers and victims) who observed killings done by cheaters when they were alive.\n",
    "observers_tab = spark.sql(\"\"\"SELECT id, \n",
    "                             TO_DATE(CAST(UNIX_TIMESTAMP(start_date, 'yyyy-MM-dd') AS TIMESTAMP)) AS start_date, \n",
    "                             TO_DATE(CAST(UNIX_TIMESTAMP(m_date, 'yyyy-MM-dd') AS TIMESTAMP)) AS m_date, \n",
    "                             CAST(DATEDIFF(start_date, m_date) AS INT) AS period, killer, \n",
    "                             COUNT(*) AS obs, SUM(damage) AS sev_dam \n",
    "                             FROM (SELECT s.mid, s.src AS id, s.src_sd AS start_date, s.src_bd, k.time, s.m_date, \n",
    "                             s.damage, k.killer, k.aid \n",
    "                             FROM records s LEFT JOIN kills_done_by_cheaters k ON s.mid = k.mid AND s.aid < k.aid \n",
    "                             WHERE src_flag == 1 AND src_sd != 'NA' AND src != killer AND src_curr_flag == 0\n",
    "                             UNION\n",
    "                             SELECT s.mid, s.src AS id, s.src_sd, s.src_bd, k.time, s.m_date, \n",
    "                             s.damage, k.killer, k.aid \n",
    "                             FROM records s LEFT JOIN kills_done_by_cheaters k ON s.mid = k.mid AND s.aid > k.aid \n",
    "                             WHERE src_flag == 1 AND src_sd != 'NA' AND src != killer AND src_curr_flag == 0\n",
    "                             UNION\n",
    "                             SELECT s.mid, s.dst AS id, s.dst_sd, s.dst_bd, k.time, s.m_date, \n",
    "                             s.damage, k.killer, k.aid \n",
    "                             FROM records s LEFT JOIN kills_done_by_cheaters k ON s.mid = k.mid AND s.aid > k.aid \n",
    "                             WHERE dst_flag == 1 AND dst_sd != 'NA' AND dst != killer AND dst_curr_flag == 0) \n",
    "                             GROUP BY id, start_date, m_date, killer\"\"\")\n",
    "observers_tab.registerTempTable(\"observers_tab\")\n",
    "\n",
    "observers_tab.show(20)\n",
    "print(observers_tab.count())"
   ]
  },
  {
   "cell_type": "code",
   "execution_count": 11,
   "metadata": {},
   "outputs": [
    {
     "name": "stdout",
     "output_type": "stream",
     "text": [
      "+--------------------+----------+---------+-------------+-------------+\n",
      "|                  id|start_date|total_obs|total_sev_dam|uniq_cheaters|\n",
      "+--------------------+----------+---------+-------------+-------------+\n",
      "|account.71aea180f...|2019-03-02|        6|            3|            1|\n",
      "|account.d974dde55...|2019-03-02|       26|           15|            4|\n",
      "|account.d2cb5110d...|2019-03-03|        2|            0|            1|\n",
      "|account.293b34d31...|2019-03-02|        3|            3|            2|\n",
      "|account.7747ed775...|2019-03-02|        1|            0|            1|\n",
      "|account.394573912...|2019-03-02|        1|            0|            1|\n",
      "|account.fde9def4e...|2019-03-03|       36|           16|            1|\n",
      "|account.213368b1a...|2019-03-02|       13|            0|            1|\n",
      "|account.e493e8036...|2019-03-02|       23|            0|            3|\n",
      "|account.d87ddfa9b...|2019-03-03|        4|            2|            1|\n",
      "|account.27478c512...|2019-03-02|       50|           16|            6|\n",
      "|account.6dccf1b38...|2019-03-02|       15|            0|            3|\n",
      "|account.8d69e3520...|2019-03-02|       59|           21|            7|\n",
      "|account.9efd5b93e...|2019-03-02|       26|            8|            5|\n",
      "|account.ab15ceb31...|2019-03-02|        1|            0|            1|\n",
      "|account.52adde8ad...|2019-03-02|      118|           48|            5|\n",
      "|account.11dbd81ee...|2019-03-02|        9|            1|            4|\n",
      "|account.b69bedf14...|2019-03-02|        4|            0|            1|\n",
      "|account.244b53e2a...|2019-03-02|        3|            2|            2|\n",
      "|account.f554aebcf...|2019-03-03|       56|           23|            8|\n",
      "+--------------------+----------+---------+-------------+-------------+\n",
      "only showing top 20 rows\n",
      "\n"
     ]
    }
   ],
   "source": [
    "# Get the table that contains the total number of observations and the number of unique cheaters.\n",
    "obs_info = spark.sql(\"\"\"SELECT id, start_date, SUM(obs) AS total_obs, SUM(sev_dam) AS total_sev_dam, \n",
    "                        COUNT(DISTINCT killer) AS uniq_cheaters FROM observers_tab \n",
    "                        GROUP BY id, start_date\"\"\")\n",
    "obs_info.registerTempTable(\"obs_info\")\n",
    "obs_info.show(20)"
   ]
  },
  {
   "cell_type": "code",
   "execution_count": 12,
   "metadata": {},
   "outputs": [],
   "source": [
    "# Get the date when the player first observed cheating.\n",
    "first_m_dates = spark.sql(\"\"\"SELECT * \n",
    "                             FROM (SELECT id, m_date, period, ROW_NUMBER() OVER (PARTITION BY id ORDER BY m_date) \n",
    "                             AS rownumber FROM observers_tab) WHERE rownumber IN (1)\"\"\")\n",
    "first_m_dates.registerTempTable(\"first_m_dates\")"
   ]
  },
  {
   "cell_type": "code",
   "execution_count": 13,
   "metadata": {},
   "outputs": [
    {
     "name": "stdout",
     "output_type": "stream",
     "text": [
      "+--------------------+----------+----------+------+---------+-------------+-------------+\n",
      "|                  id|start_date|    m_date|period|total_obs|total_sev_dam|uniq_cheaters|\n",
      "+--------------------+----------+----------+------+---------+-------------+-------------+\n",
      "|account.8d69e3520...|2019-03-02|2019-03-01|     1|       59|           21|            7|\n",
      "|account.11dbd81ee...|2019-03-02|2019-03-01|     1|        9|            1|            4|\n",
      "|account.da1a6fa0b...|2019-03-02|2019-03-01|     1|       35|           17|            1|\n",
      "|account.27478c512...|2019-03-02|2019-03-01|     1|       50|           16|            6|\n",
      "|account.e493e8036...|2019-03-02|2019-03-01|     1|       23|            0|            3|\n",
      "|account.642deac91...|2019-03-02|2019-03-01|     1|        2|            0|            1|\n",
      "|account.d30a1abaf...|2019-03-02|2019-03-01|     1|       18|            0|            3|\n",
      "|account.71aea180f...|2019-03-02|2019-03-01|     1|        6|            3|            1|\n",
      "|account.53db3bd71...|2019-03-02|2019-03-01|     1|        1|            0|            1|\n",
      "|account.ab15ceb31...|2019-03-02|2019-03-01|     1|        1|            0|            1|\n",
      "+--------------------+----------+----------+------+---------+-------------+-------------+\n",
      "only showing top 10 rows\n",
      "\n"
     ]
    }
   ],
   "source": [
    "add_dates = spark.sql(\"\"\"SELECT o.id, o.start_date, f.m_date, f.period, \n",
    "                         o.total_obs, o.total_sev_dam, o.uniq_cheaters \n",
    "                         FROM obs_info o LEFT JOIN first_m_dates f ON o.id = f.id\"\"\")\n",
    "add_dates.show(10)"
   ]
  },
  {
   "cell_type": "code",
   "execution_count": 14,
   "metadata": {},
   "outputs": [],
   "source": [
    "# Store the summary table in the S3 bucket for the later use.\n",
    "add_dates.write.parquet(\"s3://jinny-capstone-data-test/summary-tables/emp-net/obs_tab.parquet\")"
   ]
  },
  {
   "cell_type": "code",
   "execution_count": null,
   "metadata": {},
   "outputs": [],
   "source": [
    "obs_info_df = add_dates.toPandas()\n",
    "obs_info_df.to_csv('obs_info_df.csv')"
   ]
  },
  {
   "cell_type": "code",
   "execution_count": 15,
   "metadata": {},
   "outputs": [
    {
     "data": {
      "image/png": "[encoded data removed]",
      "text/plain": [
       "<Figure size 432x288 with 1 Axes>"
      ]
     },
     "metadata": {},
     "output_type": "display_data"
    }
   ],
   "source": [
    "# Plot the distribution of the total number of observations.\n",
    "# Show the distribution of the number of times the player observed cheating before the transition happened.\n",
    "# In this case, we allow duplicate pairs of cheater and observer. \n",
    "# as there are some players who have observed the same cheaters more than once. \n",
    "bins = np.arange(0, obs_info_df['total_obs'].max() + 1.5) - 0.5\n",
    "fig = obs_info_df.hist(column = 'total_obs', histtype='step', bins = bins, \n",
    "                       weights=np.zeros_like(obs_info_df['total_obs'])+1./len(obs_info_df['total_obs']))\n",
    "plt.xlim(xmin=0.5)\n",
    "plt.xlabel(\"Number of observations\")\n",
    "plt.ylabel(\"Proportion\")\n",
    "plt.title(\"\")\n",
    "plt.show() "
   ]
  },
  {
   "cell_type": "code",
   "execution_count": 16,
   "metadata": {},
   "outputs": [
    {
     "data": {
      "image/png": "[encoded data removed]",
      "text/plain": [
       "<Figure size 432x288 with 1 Axes>"
      ]
     },
     "metadata": {},
     "output_type": "display_data"
    }
   ],
   "source": [
    "# Plot the distribution of the number of unique cheaters.\n",
    "# In this case, we consider only unique pairs of cheater and observer.\n",
    "bins = np.arange(0, obs_info_df['uniq_cheaters'].max() + 1.5) - 0.5\n",
    "fig = obs_info_df.hist(column = 'uniq_cheaters', histtype='step', bins = bins, \n",
    "                       weights=np.zeros_like(obs_info_df['uniq_cheaters'])+1./len(obs_info_df['uniq_cheaters']))\n",
    "plt.xlim(xmin=0.5)\n",
    "plt.xlabel(\"Number of unique cheaters\")\n",
    "plt.ylabel(\"Proportion\")\n",
    "plt.title(\"\")\n",
    "plt.show()"
   ]
  },
  {
   "cell_type": "markdown",
   "metadata": {},
   "source": [
    "## 2. Reuse the mapping table in the S3 bucket to create randomised networks."
   ]
  },
  {
   "cell_type": "code",
   "execution_count": 17,
   "metadata": {},
   "outputs": [
    {
     "name": "stdout",
     "output_type": "stream",
     "text": [
      "+--------------------+--------------------+---+\n",
      "|                 mid|                  id|tid|\n",
      "+--------------------+--------------------+---+\n",
      "|a2983171-7f4b-41a...|account.e71c81b51...|  8|\n",
      "|87fa7a64-8296-46d...|account.4fc0cf786...| 25|\n",
      "|9d8128bb-62b9-4db...|account.05c8f38ba...| 18|\n",
      "|7a8874eb-ef3b-451...|account.d53c68f6a...| 10|\n",
      "|eaf29706-a41b-4a1...|account.562041b51...|  2|\n",
      "+--------------------+--------------------+---+\n",
      "only showing top 5 rows\n",
      "\n"
     ]
    }
   ],
   "source": [
    "# Read a table that contains team membership data.\n",
    "team_info = spark.read.parquet(\"s3://jinny-capstone-data-test/team_data.parquet\")\n",
    "team_info.registerTempTable(\"team_ids\")\n",
    "team_info.show(5)"
   ]
  },
  {
   "cell_type": "code",
   "execution_count": 18,
   "metadata": {},
   "outputs": [
    {
     "name": "stdout",
     "output_type": "stream",
     "text": [
      "+--------------------+--------------------+---------+--------+--------------------+---------+--------+\n",
      "|            match_id|            original|orig_flag|orig_tid|          randomised|rand_flag|rand_tid|\n",
      "+--------------------+--------------------+---------+--------+--------------------+---------+--------+\n",
      "|02a5ab4b-0fbb-490...|account.d040b4192...|        0|      20|account.b687d583a...|        0|      20|\n",
      "|02a5ab4b-0fbb-490...|account.40f46fbba...|        0|       4|account.ab55155a3...|        0|       4|\n",
      "|02a5ab4b-0fbb-490...|account.d8912ca79...|        0|      22|account.c8c1c3332...|        0|      22|\n",
      "|02a5ab4b-0fbb-490...|account.f23ae5388...|        0|      12|account.34fcd0ba4...|        0|      12|\n",
      "|02a5ab4b-0fbb-490...|account.8b6abd5bc...|        0|       1|account.b2f12e113...|        0|       1|\n",
      "+--------------------+--------------------+---------+--------+--------------------+---------+--------+\n",
      "only showing top 5 rows\n",
      "\n"
     ]
    }
   ],
   "source": [
    "# Read the mapping table.\n",
    "map_tab = spark.read.parquet(\"s3://jinny-capstone-data-test/mapping-tables/map_tab_1.parquet\")\n",
    "map_tab.registerTempTable(\"map_tab\")\n",
    "map_tab.show(5)"
   ]
  },
  {
   "cell_type": "code",
   "execution_count": 19,
   "metadata": {},
   "outputs": [
    {
     "name": "stdout",
     "output_type": "stream",
     "text": [
      "+--------------------+--------------------+--------------------+--------------------+----------+\n",
      "|                 mid|                 src|                 dst|                time|    m_date|\n",
      "+--------------------+--------------------+--------------------+--------------------+----------+\n",
      "|8944786b-0021-4a4...|account.88bb45d22...|account.0001531a9...|2019-03-03 17:50:...|2019-03-03|\n",
      "|4a5152fa-e942-47d...|account.e80504895...|account.0003b5c76...|2019-03-01 17:08:...|2019-03-01|\n",
      "|dd6286b5-8c40-437...|account.d4a4282a8...|account.000e6d24c...|2019-03-01 15:48:...|2019-03-01|\n",
      "|54a9f240-74d9-404...|account.49f7414ca...|account.6064680b3...|2019-03-01 10:09:...|2019-03-01|\n",
      "|53ca0690-f2d8-480...|account.d98d7526c...|account.c47167ad7...|2019-03-03 05:04:...|2019-03-03|\n",
      "+--------------------+--------------------+--------------------+--------------------+----------+\n",
      "only showing top 5 rows\n",
      "\n"
     ]
    }
   ],
   "source": [
    "# Get randomised gameplay logs.\n",
    "temp_rand_logs = spark.sql(\"\"\"SELECT mid, src, randomised AS new_src, dst, time, m_date \n",
    "                              FROM td t JOIN map_tab m ON t.src = m.original AND t.mid = m.match_id\"\"\")\n",
    "temp_rand_logs.registerTempTable(\"temp_rand_logs\")\n",
    "randomised_logs = spark.sql(\"\"\"SELECT mid, new_src AS src, randomised AS dst, time, m_date \n",
    "                               FROM temp_rand_logs t JOIN map_tab m \n",
    "                               ON t.dst = m.original AND t.mid = m.match_id\"\"\")\n",
    "\n",
    "randomised_logs.show(5)\n",
    "randomised_logs.registerTempTable(\"randomised_logs\")"
   ]
  },
  {
   "cell_type": "markdown",
   "metadata": {},
   "source": [
    "## 3. Count the number of motifs on the randomised network."
   ]
  },
  {
   "cell_type": "code",
   "execution_count": 24,
   "metadata": {},
   "outputs": [
    {
     "name": "stdout",
     "output_type": "stream",
     "text": [
      "+--------------------+--------------------+--------+--------------------+--------+--------------------+----------+\n",
      "|                 mid|                 src|src_flag|                 dst|dst_flag|                time|    m_date|\n",
      "+--------------------+--------------------+--------+--------------------+--------+--------------------+----------+\n",
      "|fcaf8c76-4e7a-4b9...|account.a0bc68e5e...|       0|account.001017dce...|       0|2019-03-02 06:56:...|2019-03-02|\n",
      "|297788d0-ef37-4ab...|account.c419eaa2e...|       0|account.001017dce...|       0|2019-03-02 07:29:...|2019-03-02|\n",
      "|d7b4a476-007b-4e7...|account.ff01e3c0d...|       0|account.0017aeb1b...|       0|2019-03-01 08:35:...|2019-03-01|\n",
      "|4f356644-a887-49f...|account.d37ba5b3e...|       0|account.00399d4c2...|       0|2019-03-01 04:13:...|2019-03-01|\n",
      "|d8324042-12e1-401...|account.e2d270189...|       0|account.00399d4c2...|       0|2019-03-01 05:01:...|2019-03-01|\n",
      "+--------------------+--------------------+--------+--------------------+--------+--------------------+----------+\n",
      "only showing top 5 rows\n",
      "\n"
     ]
    }
   ],
   "source": [
    "# Add the cheating flags of players.\n",
    "add_flags = spark.sql(\"\"\"SELECT mid, src, cheating_flag AS src_flag, dst, time, m_date \n",
    "                         FROM randomised_logs r JOIN nodes n ON r.src = n.id\"\"\")\n",
    "add_flags.registerTempTable(\"add_flags\")\n",
    "randomised_logs = spark.sql(\"\"\"SELECT mid, src, src_flag, dst, cheating_flag AS dst_flag, time, m_date \n",
    "                               FROM add_flags r JOIN nodes n ON r.dst = n.id\"\"\")\n",
    "randomised_logs.registerTempTable(\"randomised_logs\")\n",
    "randomised_logs.show(5)"
   ]
  },
  {
   "cell_type": "code",
   "execution_count": 26,
   "metadata": {},
   "outputs": [
    {
     "name": "stdout",
     "output_type": "stream",
     "text": [
      "+--------------------+--------------------+--------+--------------------+--------+--------------------+----------+------+\n",
      "|                 mid|                 src|src_flag|                 dst|dst_flag|                time|    m_date|damage|\n",
      "+--------------------+--------------------+--------+--------------------+--------+--------------------+----------+------+\n",
      "|0000d4aa-07fb-4b3...|account.05dd3a28f...|       0|account.cd31e8ad9...|       0|2019-03-03 15:58:...|2019-03-03|     1|\n",
      "|0000d4aa-07fb-4b3...|account.1866a3c61...|       0|account.09a6fd9cc...|       0|2019-03-03 15:58:...|2019-03-03|     1|\n",
      "|0000d4aa-07fb-4b3...|account.528ab8eb6...|       0|account.95d3d342f...|       0|2019-03-03 15:57:...|2019-03-03|     1|\n",
      "|0000d4aa-07fb-4b3...|account.95d3d342f...|       0|account.6541e80e8...|       0|2019-03-03 15:56:...|2019-03-03|     1|\n",
      "|0000d4aa-07fb-4b3...|account.95d3d342f...|       0|account.16c355b96...|       0|2019-03-03 15:56:...|2019-03-03|     1|\n",
      "+--------------------+--------------------+--------+--------------------+--------+--------------------+----------+------+\n",
      "only showing top 5 rows\n",
      "\n"
     ]
    }
   ],
   "source": [
    "randomised_logs.registerTempTable(\"td\")\n",
    "rand_logs = pubg.add_level_of_harm(randomised_logs, 30)\n",
    "rand_logs.registerTempTable(\"new_rand_td\")\n",
    "rand_logs.show(5)"
   ]
  },
  {
   "cell_type": "code",
   "execution_count": 29,
   "metadata": {},
   "outputs": [],
   "source": [
    "# First, add information of killers.\n",
    "src_info = spark.sql(\"\"\"SELECT mid, src, start_date AS src_sd, ban_date AS src_bd, \n",
    "                        src_flag, dst, dst_flag, time, m_date, damage \n",
    "                        FROM new_rand_td t JOIN nodes n ON t.src = n.id\"\"\")\n",
    "src_info.registerTempTable(\"src_info\")\n",
    "\n",
    "# Add information of victims.\n",
    "full_info = spark.sql(\"\"\"SELECT mid, src, src_sd, src_bd, src_flag, \n",
    "                         dst, start_date AS dst_sd, ban_date AS dst_bd, dst_flag, \n",
    "                         time, m_date, damage \n",
    "                         FROM src_info s JOIN nodes n ON s.dst = n.id ORDER BY src_flag\"\"\")\n",
    "full_info.registerTempTable(\"full_info\")\n",
    "\n",
    "# Add information of cheaters.\n",
    "add_flags = spark.sql(\"\"\"SELECT mid, src, src_sd, src_bd, src_flag,\n",
    "                         CASE WHEN src_bd >= m_date AND src_sd <= m_date \n",
    "                         AND src_flag == 1 THEN 1 ELSE 0 END AS src_curr_flag, \n",
    "                         dst, dst_sd, dst_bd, dst_flag,\n",
    "                         CASE WHEN dst_bd >= m_date AND dst_sd <= m_date \n",
    "                         AND dst_flag == 1 THEN 1 ELSE 0 END AS dst_curr_flag, time, m_date, damage \n",
    "                         FROM full_info ORDER BY mid, time\"\"\")\n",
    "add_flags.registerTempTable(\"add_flags\")\n",
    "\n",
    "legit_matches = spark.sql(\"\"\"SELECT mid \n",
    "                             FROM (SELECT mid, SUM(src_curr_flag) AS c_kills FROM add_flags GROUP BY mid) \n",
    "                             WHERE c_kills > 0\"\"\")\n",
    "legit_matches.registerTempTable(\"legit_matches\")\n",
    "\n",
    "records = spark.sql(\"\"\"SELECT r.mid, src, src_sd, src_bd, src_flag, src_curr_flag, \n",
    "                       dst, dst_sd, dst_bd, dst_flag, dst_curr_flag, time, m_date, damage \n",
    "                       FROM add_flags r JOIN legit_matches l ON r.mid = l.mid\"\"\")\n",
    "records.registerTempTable(\"records\")\n",
    "\n",
    "records = spark.sql(\"SELECT *, ROW_NUMBER() OVER (PARTITION BY mid ORDER BY time) AS aid FROM records\")\n",
    "records.registerTempTable(\"records\")"
   ]
  },
  {
   "cell_type": "code",
   "execution_count": 30,
   "metadata": {},
   "outputs": [
    {
     "name": "stdout",
     "output_type": "stream",
     "text": [
      "+--------------------+----------+----------+------+--------------------+---+-------+\n",
      "|                  id|start_date|    m_date|period|              killer|obs|sev_dam|\n",
      "+--------------------+----------+----------+------+--------------------+---+-------+\n",
      "|account.9efd5b93e...|2019-03-02|2019-03-01|     1|account.869fc2de3...|  1|      1|\n",
      "|account.27478c512...|2019-03-02|2019-03-01|     1|account.f1bf619de...|  7|      7|\n",
      "|account.6dccf1b38...|2019-03-02|2019-03-01|     1|account.0a54b3498...|  1|      0|\n",
      "|account.49a8333dc...|2019-03-02|2019-03-01|     1|account.b5b88ac71...|  1|      0|\n",
      "|account.8c52a3348...|2019-03-02|2019-03-01|     1|account.caeaf4f68...|  9|      9|\n",
      "|account.d87ddfa9b...|2019-03-03|2019-03-02|     1|account.9619606b3...|  4|      2|\n",
      "|account.903b83e20...|2019-03-03|2019-03-01|     2|account.289e5d7fb...|  1|      0|\n",
      "|account.29263c240...|2019-03-02|2019-03-01|     1|account.6f8b0c2d0...|  4|      0|\n",
      "|account.27478c512...|2019-03-02|2019-03-01|     1|account.299b4920e...| 12|      0|\n",
      "|account.f554aebcf...|2019-03-03|2019-03-01|     2|account.22fdfdf04...| 15|      0|\n",
      "|account.f554aebcf...|2019-03-03|2019-03-02|     1|account.292503bd5...|  2|      1|\n",
      "|account.8d69e3520...|2019-03-02|2019-03-01|     1|account.9196d5906...| 11|     11|\n",
      "|account.11dbd81ee...|2019-03-02|2019-03-01|     1|account.178b7a53b...|  2|      0|\n",
      "|account.3a5102f8e...|2019-03-02|2019-03-01|     1|account.080773887...|  4|      0|\n",
      "|account.9efd5b93e...|2019-03-02|2019-03-01|     1|account.036236700...|  4|      0|\n",
      "|account.8643d9b0b...|2019-03-02|2019-03-01|     1|account.6e7586500...| 16|      8|\n",
      "|account.d974dde55...|2019-03-02|2019-03-01|     1|account.080773887...|  2|      0|\n",
      "|account.6dccf1b38...|2019-03-02|2019-03-01|     1|account.cfd562ad6...|  4|      0|\n",
      "|account.476ee023d...|2019-03-02|2019-03-01|     1|account.b6c7745db...|  4|      0|\n",
      "|account.f554aebcf...|2019-03-03|2019-03-01|     2|account.5ab134fcf...|  3|      0|\n",
      "+--------------------+----------+----------+------+--------------------+---+-------+\n",
      "only showing top 20 rows\n",
      "\n",
      "134\n"
     ]
    }
   ],
   "source": [
    "# Get a list of killings done by cheaters.\n",
    "kills_done_by_cheaters = spark.sql(\"\"\"SELECT mid, src AS killer, time, aid FROM records \n",
    "                                      WHERE src_curr_flag = 1\"\"\")\n",
    "kills_done_by_cheaters.registerTempTable(\"kills_done_by_cheaters\")\n",
    "\n",
    "# Get a table of players (both killers and victims) who observed killings done by cheaters when they were alive.\n",
    "observers_tab = spark.sql(\"\"\"SELECT id, \n",
    "                             TO_DATE(CAST(UNIX_TIMESTAMP(start_date, 'yyyy-MM-dd') AS TIMESTAMP)) AS start_date, \n",
    "                             TO_DATE(CAST(UNIX_TIMESTAMP(m_date, 'yyyy-MM-dd') AS TIMESTAMP)) AS m_date, \n",
    "                             CAST(DATEDIFF(start_date, m_date) AS INT) AS period, killer, \n",
    "                             COUNT(*) AS obs, SUM(damage) AS sev_dam \n",
    "                             FROM (SELECT s.mid, s.src AS id, s.src_sd AS start_date, s.src_bd, k.time, s.m_date, \n",
    "                             s.damage, k.killer, k.aid \n",
    "                             FROM records s LEFT JOIN kills_done_by_cheaters k ON s.mid = k.mid AND s.aid < k.aid \n",
    "                             WHERE src_flag == 1 AND src_sd != 'NA' AND src != killer AND src_curr_flag == 0\n",
    "                             UNION\n",
    "                             SELECT s.mid, s.src AS id, s.src_sd, s.src_bd, k.time, s.m_date, \n",
    "                             s.damage, k.killer, k.aid \n",
    "                             FROM records s LEFT JOIN kills_done_by_cheaters k ON s.mid = k.mid AND s.aid > k.aid \n",
    "                             WHERE src_flag == 1 AND src_sd != 'NA' AND src != killer AND src_curr_flag == 0\n",
    "                             UNION\n",
    "                             SELECT s.mid, s.dst AS id, s.dst_sd, s.dst_bd, k.time, s.m_date, \n",
    "                             s.damage, k.killer, k.aid \n",
    "                             FROM records s LEFT JOIN kills_done_by_cheaters k ON s.mid = k.mid AND s.aid > k.aid \n",
    "                             WHERE dst_flag == 1 AND dst_sd != 'NA' AND dst != killer AND dst_curr_flag == 0) \n",
    "                             GROUP BY id, start_date, m_date, killer\"\"\")\n",
    "observers_tab.registerTempTable(\"observers_tab\")\n",
    "observers_tab.show(20)\n",
    "print(observers_tab.count())"
   ]
  },
  {
   "cell_type": "code",
   "execution_count": 31,
   "metadata": {},
   "outputs": [],
   "source": [
    "# Get the table that contains the total number of observations and the number of unique cheaters.\n",
    "obs_info = spark.sql(\"\"\"SELECT id, start_date, SUM(obs) AS total_obs, SUM(sev_dam) AS total_sev_dam, \n",
    "                        COUNT(DISTINCT killer) AS uniq_cheaters FROM observers_tab \n",
    "                        GROUP BY id, start_date\"\"\")\n",
    "obs_info.registerTempTable(\"obs_info\")\n",
    "\n",
    "# Get the date when the player first observed cheating.\n",
    "first_m_dates = spark.sql(\"\"\"SELECT * \n",
    "                             FROM (SELECT id, m_date, period, ROW_NUMBER() OVER (PARTITION BY id ORDER BY m_date) \n",
    "                             AS rownumber FROM observers_tab) WHERE rownumber IN (1)\"\"\")\n",
    "first_m_dates.registerTempTable(\"first_m_dates\")\n",
    "\n",
    "add_dates = spark.sql(\"\"\"SELECT o.id, o.start_date, f.m_date, f.period, \n",
    "                         o.total_obs, o.total_sev_dam, o.uniq_cheaters \n",
    "                         FROM obs_info o LEFT JOIN first_m_dates f ON o.id = f.id\"\"\")\n",
    "add_dates.show(10)\n",
    "\n",
    "# Download an excel file that contains the summary table.\n",
    "obs_info_df = add_dates.toPandas()\n",
    "obs_info_df.to_csv('rand_obs_info_df.csv')"
   ]
  }
 ],
 "metadata": {
  "kernelspec": {
   "display_name": "Python 3",
   "language": "python",
   "name": "python3"
  },
  "language_info": {
   "codemirror_mode": {
    "name": "ipython",
    "version": 3
   },
   "file_extension": ".py",
   "mimetype": "text/x-python",
   "name": "python",
   "nbconvert_exporter": "python",
   "pygments_lexer": "ipython3",
   "version": "3.6.5"
  },
  "name": "5_observation_based_mechanism",
  "notebookId": 2613361705856745
 },
 "nbformat": 4,
 "nbformat_minor": 1
}
