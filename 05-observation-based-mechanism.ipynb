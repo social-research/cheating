{
 "cells": [
  {
   "cell_type": "markdown",
   "metadata": {},
   "source": [
    "05-observation-based-mechanism.ipynb\n",
    "======================\n",
    "\n",
    "**Things to do**\n",
    "* Test code.\n",
    "* Find the number of unique cheaters who harmed other players severely.\n",
    "* Make code modular.\n",
    "\n",
    "**Sample match ID for testing**\n",
    "* 000213be-6b3b-438a-8d20-c1b57b01a174 (no cheater)\n",
    "* 07a471f7-4776-460d-b896-1306b98b6d19 (one cheater)\n",
    "* 15e457b1-0940-47ca-a730-de0dfd1ccd77 (two cheaters)"
   ]
  },
  {
   "cell_type": "markdown",
   "metadata": {},
   "source": [
    "## Load packages and read tables."
   ]
  },
  {
   "cell_type": "code",
   "execution_count": 1,
   "metadata": {},
   "outputs": [],
   "source": [
    "from pyspark.sql.functions import col, lit, when\n",
    "import pandas as pd\n",
    "import matplotlib.pyplot as plt\n",
    "import numpy as np\n",
    "from pyspark.sql.types import StructType, StructField, LongType\n",
    "import pubg_analysis as pubg"
   ]
  },
  {
   "cell_type": "code",
   "execution_count": 2,
   "metadata": {},
   "outputs": [],
   "source": [
    "# Read a table that contains edges.\n",
    "td = spark.read.parquet(\"s3://social-research-cheating/edges/obs_data.parquet\")\n",
    "td.registerTempTable(\"td\")\n",
    "\n",
    "# Read a table that contains player data.\n",
    "players = spark.read.parquet(\"s3://social-research-cheating/nodes.parquet\")\n",
    "players.registerTempTable(\"nodes\")"
   ]
  },
  {
   "cell_type": "code",
   "execution_count": 4,
   "metadata": {},
   "outputs": [
    {
     "name": "stdout",
     "output_type": "stream",
     "text": [
      "+--------------------+--------------------+------+------+-------------+--------+--------------------+------+------+-------------+--------+--------------------+----------+\n",
      "|                 mid|                 src|src_sd|src_bd|src_curr_flag|src_flag|                 dst|dst_sd|dst_bd|dst_curr_flag|dst_flag|                time|    m_date|\n",
      "+--------------------+--------------------+------+------+-------------+--------+--------------------+------+------+-------------+--------+--------------------+----------+\n",
      "|013caebc-8504-4d7...|account.618a8b12e...|    NA|    NA|            0|       0|account.847e9695e...|    NA|    NA|            0|       0|2019-03-07 11:37:...|2019-03-07|\n",
      "|013caebc-8504-4d7...|account.0e2dd932a...|    NA|    NA|            0|       0|account.43d92d8f6...|    NA|    NA|            0|       0|2019-03-07 11:37:...|2019-03-07|\n",
      "|013caebc-8504-4d7...|account.247cce3d3...|    NA|    NA|            0|       0|account.49ec1af7c...|    NA|    NA|            0|       0|2019-03-07 11:35:...|2019-03-07|\n",
      "|013caebc-8504-4d7...|account.822380986...|    NA|    NA|            0|       0|account.74558e422...|    NA|    NA|            0|       0|2019-03-07 11:42:...|2019-03-07|\n",
      "|013caebc-8504-4d7...|account.4ff2f6d5f...|    NA|    NA|            0|       0|account.5be4cb640...|    NA|    NA|            0|       0|2019-03-07 11:38:...|2019-03-07|\n",
      "+--------------------+--------------------+------+------+-------------+--------+--------------------+------+------+-------------+--------+--------------------+----------+\n",
      "only showing top 5 rows\n",
      "\n",
      "+--------------------+----------------+-------------+----------+--------+\n",
      "|                  id|           pname|cheating_flag|start_date|ban_date|\n",
      "+--------------------+----------------+-------------+----------+--------+\n",
      "|account.00021d9d1...|          ZXC_00|            0|        NA|      NA|\n",
      "|account.0011ffa92...|   broccoliiii_-|            0|        NA|      NA|\n",
      "|account.001373966...|twice_mina_jjang|            0|        NA|      NA|\n",
      "|account.0019bb121...|       xodlsdl12|            0|        NA|      NA|\n",
      "|account.002040a01...|        asdfeqwr|            0|        NA|      NA|\n",
      "+--------------------+----------------+-------------+----------+--------+\n",
      "only showing top 5 rows\n",
      "\n"
     ]
    }
   ],
   "source": [
    "# Show the first few rows of each dataset.\n",
    "td.show(5)\n",
    "players.show(5)"
   ]
  },
  {
   "cell_type": "markdown",
   "metadata": {},
   "source": [
    "## 1. Count the number of motifs on the empirical network."
   ]
  },
  {
   "cell_type": "code",
   "execution_count": 5,
   "metadata": {},
   "outputs": [
    {
     "name": "stdout",
     "output_type": "stream",
     "text": [
      "+--------------------+--------------------+------+------+-------------+--------+--------------------+------+------+-------------+--------+--------------------+----------+--------+-------+------+\n",
      "|                 mid|                 src|src_sd|src_bd|src_curr_flag|src_flag|                 dst|dst_sd|dst_bd|dst_curr_flag|dst_flag|                time|    m_date|num_rows|ranking|damage|\n",
      "+--------------------+--------------------+------+------+-------------+--------+--------------------+------+------+-------------+--------+--------------------+----------+--------+-------+------+\n",
      "|00010411-099d-419...|account.8de17f9ae...|    NA|    NA|            0|       0|account.de378e31d...|    NA|    NA|            0|       0|2019-03-03 18:16:...|2019-03-03|      84|      1|     1|\n",
      "|00010411-099d-419...|account.de378e31d...|    NA|    NA|            0|       0|account.7b1593aa4...|    NA|    NA|            0|       0|2019-03-03 18:16:...|2019-03-03|      84|      2|     1|\n",
      "|00010411-099d-419...|account.de378e31d...|    NA|    NA|            0|       0|account.10c851254...|    NA|    NA|            0|       0|2019-03-03 18:16:...|2019-03-03|      84|      3|     1|\n",
      "|00010411-099d-419...|account.82ac83c6e...|    NA|    NA|            0|       0|account.a55134881...|    NA|    NA|            0|       0|2019-03-03 18:15:...|2019-03-03|      84|      4|     1|\n",
      "|00010411-099d-419...|account.10c851254...|    NA|    NA|            0|       0|account.86fac6d11...|    NA|    NA|            0|       0|2019-03-03 18:14:...|2019-03-03|      84|      5|     1|\n",
      "+--------------------+--------------------+------+------+-------------+--------+--------------------+------+------+-------------+--------+--------------------+----------+--------+-------+------+\n",
      "only showing top 5 rows\n",
      "\n"
     ]
    }
   ],
   "source": [
    "# First, assume that victims are severely harmed if they were killed after getting into the top 30 percent.\n",
    "res_tab = pubg.add_level_of_harm(td, 30)\n",
    "res_tab.registerTempTable(\"new_td\")\n",
    "res_tab.show(5)"
   ]
  },
  {
   "cell_type": "code",
   "execution_count": 6,
   "metadata": {},
   "outputs": [],
   "source": [
    "records = spark.sql(\"SELECT *, ROW_NUMBER() OVER (PARTITION BY mid ORDER BY time) AS aid FROM new_td\")\n",
    "records.registerTempTable(\"records\")"
   ]
  },
  {
   "cell_type": "code",
   "execution_count": 7,
   "metadata": {},
   "outputs": [
    {
     "name": "stdout",
     "output_type": "stream",
     "text": [
      "+--------------------+--------------------+----------+----------+------+--------------------+---+-------+\n",
      "|                 mid|                  id|start_date|    m_date|period|              killer|obs|sev_dam|\n",
      "+--------------------+--------------------+----------+----------+------+--------------------+---+-------+\n",
      "|fc500511-eb82-4d5...|account.ffa1c3246...|2019-03-03|2019-03-01|     2|account.ab37a9b8d...|  4|      0|\n",
      "|ab2e4d50-8d3d-453...|account.b1e3c68c2...|2019-03-08|2019-03-02|     6|account.69784fd42...| 12|      8|\n",
      "|39156f0b-4b13-4f7...|account.e95674b02...|2019-03-15|2019-03-11|     4|account.c2d667eb3...|  2|      0|\n",
      "|9f2e8e0e-a4bd-4b4...|account.ae0a3b2cc...|2019-03-25|2019-03-10|    15|account.eccfc12bf...|  6|      2|\n",
      "|44d0ae45-1180-419...|account.5183e6cd3...|2019-03-06|2019-03-04|     2|account.2ec6e051e...|  7|      0|\n",
      "+--------------------+--------------------+----------+----------+------+--------------------+---+-------+\n",
      "only showing top 5 rows\n",
      "\n"
     ]
    }
   ],
   "source": [
    "# Get a summary table of the empirical network.\n",
    "observers = pubg.get_observers(records)\n",
    "observers.show(5)\n",
    "\n",
    "# Store the summary table in the S3 bucket for the later use.\n",
    "observers.write.parquet(\"s3://social-research-cheating/summary-tables/emp-net/observers/new_observers_30.parquet\")"
   ]
  },
  {
   "cell_type": "markdown",
   "metadata": {},
   "source": [
    "*The cells below get the data for testing.*"
   ]
  },
  {
   "cell_type": "code",
   "execution_count": 7,
   "metadata": {},
   "outputs": [
    {
     "name": "stdout",
     "output_type": "stream",
     "text": [
      "+--------------------+--------------------+----------+----------+------+--------------------+---+-------+\n",
      "|                 mid|                  id|start_date|    m_date|period|              killer|obs|sev_dam|\n",
      "+--------------------+--------------------+----------+----------+------+--------------------+---+-------+\n",
      "|dc12a386-7826-42d...|account.821b8fa28...|2019-03-04|2019-03-02|     2|account.b5d2d9eae...|  6|      4|\n",
      "|dc12a386-7826-42d...|account.821b8fa28...|2019-03-04|2019-03-02|     2|account.b7cca1636...|  7|      1|\n",
      "|dc12a386-7826-42d...|account.936171e13...|2019-03-03|2019-03-02|     1|account.b5d2d9eae...|  2|      0|\n",
      "|dc12a386-7826-42d...|account.936171e13...|2019-03-03|2019-03-02|     1|account.b7cca1636...|  6|      0|\n",
      "+--------------------+--------------------+----------+----------+------+--------------------+---+-------+\n",
      "\n"
     ]
    }
   ],
   "source": [
    "# Test the code.\n",
    "# mid 1 = 'dc12a386-7826-42d6-94b6-8b43d6e6a3fc'\n",
    "\n",
    "observers.registerTempTable(\"observers\")\n",
    "test_tab = spark.sql(\"SELECT * FROM observers WHERE mid ='dc12a386-7826-42d6-94b6-8b43d6e6a3fc'\")\n",
    "test_tab.show()"
   ]
  },
  {
   "cell_type": "code",
   "execution_count": 8,
   "metadata": {},
   "outputs": [
    {
     "name": "stdout",
     "output_type": "stream",
     "text": [
      "+--------------------+--------------------+----------+----------+------+--------------------+---+-------+\n",
      "|                 mid|                  id|start_date|    m_date|period|              killer|obs|sev_dam|\n",
      "+--------------------+--------------------+----------+----------+------+--------------------+---+-------+\n",
      "|dc12a386-7826-42d...|account.821b8fa28...|2019-03-04|2019-03-02|     2|account.b5d2d9eae...|  6|      4|\n",
      "|dc12a386-7826-42d...|account.821b8fa28...|2019-03-04|2019-03-02|     2|account.b7cca1636...|  7|      1|\n",
      "|dc12a386-7826-42d...|account.936171e13...|2019-03-03|2019-03-02|     1|account.b5d2d9eae...|  2|      0|\n",
      "|dc12a386-7826-42d...|account.936171e13...|2019-03-03|2019-03-02|     1|account.b7cca1636...|  6|      0|\n",
      "+--------------------+--------------------+----------+----------+------+--------------------+---+-------+\n",
      "\n"
     ]
    }
   ],
   "source": [
    "observers.registerTempTable(\"observers\")\n",
    "test_tab = spark.sql(\"SELECT * FROM observers WHERE mid ='dc12a386-7826-42d6-94b6-8b43d6e6a3fc'\")\n",
    "test_tab.show()"
   ]
  },
  {
   "cell_type": "code",
   "execution_count": 8,
   "metadata": {},
   "outputs": [
    {
     "name": "stdout",
     "output_type": "stream",
     "text": [
      "+--------------------+--------------------+----------+----------+------+--------------------+---+-------+\n",
      "|                 mid|                  id|start_date|    m_date|period|              killer|obs|sev_dam|\n",
      "+--------------------+--------------------+----------+----------+------+--------------------+---+-------+\n",
      "|42ddcedc-225b-485...|account.8720ae80b...|2019-03-04|2019-03-02|     2|account.851e8f8ba...|  8|      0|\n",
      "|42ddcedc-225b-485...|account.f8da2242d...|2019-03-04|2019-03-02|     2|account.851e8f8ba...|  5|      0|\n",
      "|42ddcedc-225b-485...|account.58edd9c06...|2019-03-03|2019-03-02|     1|account.851e8f8ba...|  3|      0|\n",
      "|42ddcedc-225b-485...|account.5ff57478a...|2019-03-05|2019-03-02|     3|account.851e8f8ba...|  5|      0|\n",
      "|42ddcedc-225b-485...|account.a9af721e6...|2019-03-30|2019-03-02|    28|account.851e8f8ba...|  8|      0|\n",
      "+--------------------+--------------------+----------+----------+------+--------------------+---+-------+\n",
      "\n"
     ]
    }
   ],
   "source": [
    "# Test the code.\n",
    "# mid 2 = '42ddcedc-225b-485b-b155-572bcee86af7'\n",
    "\n",
    "test_tab = spark.sql(\"SELECT * FROM observers WHERE mid ='42ddcedc-225b-485b-b155-572bcee86af7'\")\n",
    "test_tab.show()"
   ]
  },
  {
   "cell_type": "code",
   "execution_count": 9,
   "metadata": {},
   "outputs": [
    {
     "name": "stdout",
     "output_type": "stream",
     "text": [
      "+--------------------+--------------------+----------+----------+------+--------------------+---+-------+\n",
      "|                 mid|                  id|start_date|    m_date|period|              killer|obs|sev_dam|\n",
      "+--------------------+--------------------+----------+----------+------+--------------------+---+-------+\n",
      "|42ddcedc-225b-485...|account.8720ae80b...|2019-03-04|2019-03-02|     2|account.851e8f8ba...|  8|      0|\n",
      "|42ddcedc-225b-485...|account.f8da2242d...|2019-03-04|2019-03-02|     2|account.851e8f8ba...|  5|      0|\n",
      "|42ddcedc-225b-485...|account.58edd9c06...|2019-03-03|2019-03-02|     1|account.851e8f8ba...|  3|      0|\n",
      "|42ddcedc-225b-485...|account.5ff57478a...|2019-03-05|2019-03-02|     3|account.851e8f8ba...|  5|      0|\n",
      "|42ddcedc-225b-485...|account.a9af721e6...|2019-03-30|2019-03-02|    28|account.851e8f8ba...|  8|      0|\n",
      "+--------------------+--------------------+----------+----------+------+--------------------+---+-------+\n",
      "\n"
     ]
    }
   ],
   "source": [
    "test_tab = spark.sql(\"SELECT * FROM observers WHERE mid ='42ddcedc-225b-485b-b155-572bcee86af7'\")\n",
    "test_tab.show()"
   ]
  },
  {
   "cell_type": "code",
   "execution_count": 7,
   "metadata": {},
   "outputs": [],
   "source": [
    "observers = spark.read.parquet(\"s3://social-research-cheating/summary-tables/emp-net/observers/new_observers_30.parquet\")\n",
    "observers.registerTempTable(\"observers\")\n",
    "\n",
    "# Get the table that contains the total number of observations and the number of unique cheaters.\n",
    "obs_info = spark.sql(\"\"\"SELECT id, start_date, SUM(obs) AS total_obs, SUM(sev_dam) AS total_sev_dam, \n",
    "                        SUM(CASE WHEN obs >= 5 THEN 1 ELSE 0 END) AS total_cheaters, \n",
    "                        SUM(CASE WHEN obs >= 5 AND sev_dam > 0 THEN 1 ELSE 0 END) AS sev_cheaters \n",
    "                        FROM observers\n",
    "                        GROUP BY id, start_date\"\"\")\n",
    "obs_info.registerTempTable(\"obs_info\")\n",
    "\n",
    "# Get the date when the player first observed cheating.\n",
    "first_m_dates = spark.sql(\"\"\"SELECT * \n",
    "                             FROM (SELECT id, m_date, period, ROW_NUMBER() OVER (PARTITION BY id ORDER BY m_date) \n",
    "                             AS rownumber FROM observers) WHERE rownumber IN (1)\"\"\")\n",
    "first_m_dates.registerTempTable(\"first_m_dates\")\n",
    "\n",
    "add_dates = spark.sql(\"\"\"SELECT o.id, o.start_date, f.m_date, f.period, \n",
    "                         o.total_obs, o.total_sev_dam, o.total_cheaters, o.sev_cheaters \n",
    "                         FROM obs_info o LEFT JOIN first_m_dates f ON o.id = f.id\"\"\")\n",
    "\n",
    "# Store the summary table in the S3 bucket for the later use.\n",
    "add_dates.write.parquet(\"s3://social-research-cheating/summary-tables/emp-net/obs/obs_30_5.parquet\")"
   ]
  },
  {
   "cell_type": "markdown",
   "metadata": {},
   "source": [
    "## 2. Reuse the mapping table in the S3 bucket to create randomised networks."
   ]
  },
  {
   "cell_type": "code",
   "execution_count": 10,
   "metadata": {},
   "outputs": [
    {
     "name": "stdout",
     "output_type": "stream",
     "text": [
      "+--------------------+--------------------+---------+--------+--------------------+---------+--------+\n",
      "|            match_id|            original|orig_flag|orig_tid|          randomised|rand_flag|rand_tid|\n",
      "+--------------------+--------------------+---------+--------+--------------------+---------+--------+\n",
      "|07c3165b-19ca-412...|account.ad3c0bd6d...|        0|      12|account.ad3c0bd6d...|        0|      12|\n",
      "|07c3165b-19ca-412...|account.e2a400b78...|        0|       8|account.dfd5fd1b3...|        0|       8|\n",
      "|07c3165b-19ca-412...|account.993a6791a...|        0|       9|account.efbc5b1d2...|        0|       9|\n",
      "|07c3165b-19ca-412...|account.5f5216d74...|        0|      13|account.5f5216d74...|        0|      13|\n",
      "|07c3165b-19ca-412...|account.399fe82f8...|        0|      24|account.c55215aff...|        0|      24|\n",
      "+--------------------+--------------------+---------+--------+--------------------+---------+--------+\n",
      "only showing top 5 rows\n",
      "\n"
     ]
    }
   ],
   "source": [
    "td = spark.read.parquet(\"s3://social-research-cheating/edges/obs_data.parquet\")\n",
    "td.registerTempTable(\"td\")\n",
    "\n",
    "# Read the mapping table.\n",
    "map_tab = spark.read.parquet(\"s3://social-research-cheating/mapping-tables/map_1.parquet\")\n",
    "map_tab.registerTempTable(\"map_tab\")\n",
    "map_tab.show(5)"
   ]
  },
  {
   "cell_type": "markdown",
   "metadata": {},
   "source": [
    "## 3. Count the number of motifs on the randomised network."
   ]
  },
  {
   "cell_type": "code",
   "execution_count": 2,
   "metadata": {},
   "outputs": [],
   "source": [
    "# Read a table that contains edges.\n",
    "td = spark.read.parquet(\"s3://social-research-cheating/edges/obs_data.parquet\")\n",
    "td.registerTempTable(\"td\")\n",
    "\n",
    "# Read a table that contains player data.\n",
    "players = spark.read.parquet(\"s3://social-research-cheating/nodes.parquet\")\n",
    "players.registerTempTable(\"nodes\")"
   ]
  },
  {
   "cell_type": "code",
   "execution_count": 3,
   "metadata": {},
   "outputs": [],
   "source": [
    "for i in range(3, 6):\n",
    "    # Read the mapping table.\n",
    "    map_tab = spark.read.parquet(\"s3://social-research-cheating/mapping-tables/map_\" \n",
    "                                 + str(i) + \".parquet\")\n",
    "    map_tab.registerTempTable(\"map_tab\")\n",
    "    \n",
    "    # Get randomised gameplay logs.\n",
    "    temp_rand_logs = spark.sql(\"\"\"SELECT mid, src, randomised AS new_src, dst, time, m_date \n",
    "                                  FROM td t JOIN map_tab m ON t.src = m.original AND t.mid = m.match_id\"\"\")\n",
    "    temp_rand_logs.registerTempTable(\"temp_rand_logs\")\n",
    "    \n",
    "    randomised_logs = spark.sql(\"\"\"SELECT mid, new_src AS src, randomised AS dst, time, m_date \n",
    "                                   FROM temp_rand_logs t JOIN map_tab m \n",
    "                                   ON t.dst = m.original AND t.mid = m.match_id\"\"\")\n",
    "\n",
    "    randomised_logs.registerTempTable(\"randomised_logs\")\n",
    "    \n",
    "    # Add more information about players.\n",
    "    add_flags = spark.sql(\"\"\"SELECT mid, src, start_date AS src_sd, ban_date AS src_bd, cheating_flag AS src_flag,\n",
    "                             CASE WHEN m_date <= ban_date AND m_date >= start_date THEN 1 ELSE 0 END AS src_curr_flag, \n",
    "                             dst, time, m_date \n",
    "                             FROM randomised_logs r JOIN nodes n ON r.src = n.id\"\"\")\n",
    "    add_flags.registerTempTable(\"add_flags\")\n",
    "    \n",
    "    randomised_logs = spark.sql(\"\"\"SELECT mid, src, src_sd, src_bd, src_flag, src_curr_flag,\n",
    "                                   dst, start_date AS dst_sd, ban_date AS dst_bd, cheating_flag AS dst_flag,\n",
    "                                   CASE WHEN m_date <= ban_date AND m_date >= start_date THEN 1 ELSE 0 END AS dst_curr_flag,\n",
    "                                   time, m_date \n",
    "                                   FROM add_flags r JOIN nodes n ON r.dst = n.id\"\"\")\n",
    "    randomised_logs.registerTempTable(\"logs\")\n",
    "    \n",
    "    rand_logs = pubg.add_level_of_harm(randomised_logs, 30)\n",
    "    rand_logs.registerTempTable(\"new_td\")\n",
    "    \n",
    "    records = spark.sql(\"SELECT *, ROW_NUMBER() OVER (PARTITION BY mid ORDER BY time) AS aid FROM new_td\")\n",
    "    records.registerTempTable(\"records\")\n",
    "    \n",
    "    # Get a summary table of the randomised network.\n",
    "    observers = pubg.get_observers(records)\n",
    "\n",
    "    # Store the summary table in the S3 bucket for the later use.\n",
    "    observers.write.parquet(\"s3://social-research-cheating/summary-tables/rand-net/observers/observers_30/observers_30_\" \n",
    "                            + str(i) + \".parquet\")"
   ]
  },
  {
   "cell_type": "code",
   "execution_count": 2,
   "metadata": {},
   "outputs": [],
   "source": [
    "for i in range(1, 6):\n",
    "    observers = spark.read.parquet(\"s3://social-research-cheating/summary-tables/rand-net/observers/observers_30/observers_30_\" \n",
    "                                   + str(i) + \".parquet\")\n",
    "    observers.registerTempTable(\"observers\")\n",
    "\n",
    "    # Get the table that contains the total number of observations and the number of unique cheaters.\n",
    "    obs_info = spark.sql(\"\"\"SELECT id, start_date, SUM(obs) AS total_obs, SUM(sev_dam) AS total_sev_dam, \n",
    "                            SUM(CASE WHEN obs >= 5 THEN 1 ELSE 0 END) AS total_cheaters, \n",
    "                            SUM(CASE WHEN obs >= 5 AND sev_dam > 0 THEN 1 ELSE 0 END) AS sev_cheaters \n",
    "                            FROM observers\n",
    "                            GROUP BY id, start_date\"\"\")\n",
    "    obs_info.registerTempTable(\"obs_info\")\n",
    "\n",
    "    # Get the date when the player first observed cheating.\n",
    "    first_m_dates = spark.sql(\"\"\"SELECT * \n",
    "                                 FROM (SELECT id, m_date, period, ROW_NUMBER() OVER (PARTITION BY id ORDER BY m_date) \n",
    "                                 AS rownumber FROM observers) WHERE rownumber IN (1)\"\"\")\n",
    "    first_m_dates.registerTempTable(\"first_m_dates\")\n",
    "\n",
    "    add_dates = spark.sql(\"\"\"SELECT o.id, o.start_date, f.m_date, f.period, \n",
    "                             o.total_obs, o.total_sev_dam, o.total_cheaters, o.sev_cheaters \n",
    "                             FROM obs_info o LEFT JOIN first_m_dates f ON o.id = f.id\"\"\")\n",
    "\n",
    "    # Store the summary table in the S3 bucket for the later use.\n",
    "    add_dates.write.parquet(\"s3://social-research-cheating/summary-tables/rand-net/obs/obs_30_5/obs_30_5_\" \n",
    "                            + str(i) + \".parquet\")"
   ]
  }
 ],
 "metadata": {
  "kernelspec": {
   "display_name": "Python 3",
   "language": "python",
   "name": "python3"
  },
  "language_info": {
   "codemirror_mode": {
    "name": "ipython",
    "version": 3
   },
   "file_extension": ".py",
   "mimetype": "text/x-python",
   "name": "python",
   "nbconvert_exporter": "python",
   "pygments_lexer": "ipython3",
   "version": "3.6.5"
  },
  "name": "5_observation_based_mechanism",
  "notebookId": 2613361705856745
 },
 "nbformat": 4,
 "nbformat_minor": 1
}
