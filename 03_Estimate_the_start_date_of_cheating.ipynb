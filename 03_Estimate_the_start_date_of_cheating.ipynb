{
 "cells": [
  {
   "cell_type": "markdown",
   "metadata": {},
   "source": [
    "### Load packages and read tables."
   ]
  },
  {
   "cell_type": "code",
   "execution_count": 2,
   "metadata": {},
   "outputs": [],
   "source": [
    "%run /Users/J.Kim54@lse.ac.uk/pubg_analysis"
   ]
  },
  {
   "cell_type": "code",
   "execution_count": 3,
   "metadata": {},
   "outputs": [
    {
     "data": {
      "text/html": [
       "<style scoped>\n",
       "  .ansiout {\n",
       "    display: block;\n",
       "    unicode-bidi: embed;\n",
       "    white-space: pre-wrap;\n",
       "    word-wrap: break-word;\n",
       "    word-break: break-all;\n",
       "    font-family: \"Source Code Pro\", \"Menlo\", monospace;;\n",
       "    font-size: 13px;\n",
       "    color: #555;\n",
       "    margin-left: 4px;\n",
       "    line-height: 19px;\n",
       "  }\n",
       "</style>\n",
       "<div class=\"ansiout\"></div>"
      ]
     },
     "metadata": {},
     "output_type": "display_data"
    }
   ],
   "source": [
    "# In this section, we need records of cheaters between March 1 and March 31.\n",
    "# However, I am using records between March 1 and March 15 due to the size limit.\n",
    "from pyspark.sql import functions as F\n",
    "import pandas as pd\n",
    "import matplotlib.pyplot as plt\n",
    "import numpy as np\n",
    "\n",
    "# Read a table that contains telemetry data.\n",
    "td = spark.read.parquet(\"/tmp/td_day_7_4.parquet\")\n",
    "td.registerTempTable(\"td\")\n",
    "\n",
    "# Read a table that contains player data.\n",
    "players = spark.sql(\"SELECT * FROM td_nodes\")\n",
    "players.registerTempTable(\"players\")\n",
    "\n",
    "# Get cheaters who were banned between March 1 and March 7.\n",
    "cheaters = spark.sql(\"SELECT * FROM td_nodes WHERE ban_date <= '2019-03-07'\")\n",
    "cheaters.registerTempTable(\"cheaters\")"
   ]
  },
  {
   "cell_type": "markdown",
   "metadata": {},
   "source": [
    "### Calculate the average kill ratio for each cheater."
   ]
  },
  {
   "cell_type": "code",
   "execution_count": 5,
   "metadata": {},
   "outputs": [
    {
     "data": {
      "text/html": [
       "<style scoped>\n",
       "  .ansiout {\n",
       "    display: block;\n",
       "    unicode-bidi: embed;\n",
       "    white-space: pre-wrap;\n",
       "    word-wrap: break-word;\n",
       "    word-break: break-all;\n",
       "    font-family: \"Source Code Pro\", \"Menlo\", monospace;;\n",
       "    font-size: 13px;\n",
       "    color: #555;\n",
       "    margin-left: 4px;\n",
       "    line-height: 19px;\n",
       "  }\n",
       "</style>\n",
       "<div class=\"ansiout\"></div>"
      ]
     },
     "metadata": {},
     "output_type": "display_data"
    }
   ],
   "source": [
    "# Create a dataframe that stores kill records of cheaters.\n",
    "c_kill_logs = spark.sql(\"SELECT mid, src, dst, time, m_date, ban_date FROM td t JOIN cheaters c ON t.src = c.id\")\n",
    "c_kill_logs.registerTempTable(\"c_kill_logs\")\n",
    "\n",
    "# Calculate the number of kills of each cheater by date.\n",
    "c_kills_by_date = spark.sql(\"SELECT src AS id, m_date, COUNT(*) AS kills FROM c_kill_logs GROUP BY src, m_date\")\n",
    "c_kills_by_date_df = c_kills_by_date.toPandas()\n",
    "\n",
    "# Create a dataframe that stores death records of cheaters.\n",
    "c_death_logs = spark.sql(\"SELECT mid, src, dst, time, m_date, ban_date FROM td t JOIN cheaters c ON t.dst = c.id\")\n",
    "c_death_logs.registerTempTable(\"c_death_logs\")\n",
    "\n",
    "# Calculate the number of deaths of each cheater by date.\n",
    "c_deaths_by_date = spark.sql(\"SELECT dst AS id, m_date, COUNT(*) AS deaths FROM c_death_logs GROUP BY dst, m_date\")\n",
    "c_deaths_by_date_df = c_deaths_by_date.toPandas()\n",
    "\n",
    "# Create a dataframe that contains both kills and deaths of each cheater by date.\n",
    "dates_from_kills = c_kills_by_date_df[['id', 'm_date']]\n",
    "dates_from_deaths = c_deaths_by_date_df[['id', 'm_date']]\n",
    "temp = pd.concat([dates_from_kills, dates_from_deaths])\n",
    "temp = temp.drop_duplicates(subset=['id', 'm_date'])\n",
    "# print(temp)\n",
    "\n",
    "# Merge the two dataframes into one.\n",
    "kill_info = pd.merge(temp, c_kills_by_date_df, how='outer', on=['id', 'm_date'])\n",
    "kill_info = kill_info.fillna(0)\n",
    "merged_df = pd.merge(kill_info, c_deaths_by_date_df, how='outer', on=['id', 'm_date'])\n",
    "merged_df = merged_df.fillna(0)\n",
    "# print(merged_df)\n",
    "\n",
    "# Calculate the kill ratio of each cheater by date.\n",
    "merged_df['kill_ratio'] = merged_df['kills']/(merged_df['kills']+merged_df['deaths'])\n",
    "kill_ratio_tab = merged_df[['id', 'm_date', 'kill_ratio']].sort_values(by=['id', 'm_date'])\n",
    "# print(kill_ratio_tab)"
   ]
  },
  {
   "cell_type": "markdown",
   "metadata": {},
   "source": [
    "### Calculate the average time difference between consecutive kills for each cheater."
   ]
  },
  {
   "cell_type": "code",
   "execution_count": 7,
   "metadata": {},
   "outputs": [
    {
     "data": {
      "text/html": [
       "<style scoped>\n",
       "  .ansiout {\n",
       "    display: block;\n",
       "    unicode-bidi: embed;\n",
       "    white-space: pre-wrap;\n",
       "    word-wrap: break-word;\n",
       "    word-break: break-all;\n",
       "    font-family: \"Source Code Pro\", \"Menlo\", monospace;;\n",
       "    font-size: 13px;\n",
       "    color: #555;\n",
       "    margin-left: 4px;\n",
       "    line-height: 19px;\n",
       "  }\n",
       "</style>\n",
       "<div class=\"ansiout\"></div>"
      ]
     },
     "metadata": {},
     "output_type": "display_data"
    }
   ],
   "source": [
    "# Get a dataframe that stores kill records of cheaters.\n",
    "c_kill_logs = spark.sql(\"SELECT mid, src, dst, time, m_date, ban_date FROM td t JOIN cheaters c ON t.src = c.id\")\n",
    "kill_logs = c_kill_logs.toPandas()\n",
    "\n",
    "# Calculate the time difference between kills for each match\n",
    "kill_logs = kill_logs.sort_values(['src', 'mid', 'time'])\n",
    "kill_logs['time'] = pd.to_datetime(kill_logs['time'])\n",
    "kill_logs['delta'] = kill_logs.groupby(['mid', 'src'])['time'].diff()\n",
    "kill_logs['delta'] = kill_logs['delta'] / np.timedelta64(1, 's')\n",
    "\n",
    "# Calculate the average time difference between kills of cheaters by date.\n",
    "time_diff_df = kill_logs[['src', 'm_date', 'delta']]\n",
    "avg_kill_interval_by_date = time_diff_df.groupby(['src', 'm_date'], as_index=False).mean()\n",
    "# print(avg_kill_interval_by_date)"
   ]
  },
  {
   "cell_type": "markdown",
   "metadata": {},
   "source": [
    "### Estimate the start date of cheating for each cheater by using the information above."
   ]
  },
  {
   "cell_type": "code",
   "execution_count": 9,
   "metadata": {},
   "outputs": [
    {
     "data": {
      "image/png": "[encoded data removed]"
     },
     "metadata": {},
     "output_type": "display_data"
    }
   ],
   "source": [
    "# First, estimate the start date of cheating for cheaters who have full performance information.\n",
    "estim_result = estimate_start_date_of_cheating(kill_ratio_tab, avg_kill_interval_by_date)\n",
    "# print(estim_result)\n",
    "cheaters_with_full_info = get_cheaters_with_full_info(estim_result)\n",
    "\n",
    "# Count the number of cheaters who did cheat for two days.\n",
    "# print(len(cheaters_with_full_info[cheaters_with_full_info['period']==2]))\n",
    "\n",
    "# Plot the distribution of the period of cheating.\n",
    "# The plot contains cheaters who have full performance information.\n",
    "bins = np.arange(0, cheaters_with_full_info['period'].max() + 1.5) - 0.5\n",
    "fig = cheaters_with_full_info.hist(bins = bins, histtype='step')\n",
    "plt.title('')\n",
    "plt.xlim(xmin = 0.5)\n",
    "plt.xlim(xmax = 31)\n",
    "plt.xlabel('Period of cheating')\n",
    "plt.ylabel('Frequency')\n",
    "image = plt.show() \n",
    "display(image)\n",
    "\n",
    "# Calculate the mean and median of period of cheating.\n",
    "print(cheaters_with_full_info['period'].mean())\n",
    "print(cheaters_with_full_info['period'].median())"
   ]
  },
  {
   "cell_type": "code",
   "execution_count": 10,
   "metadata": {},
   "outputs": [
    {
     "data": {
      "text/html": [
       "<style scoped>\n",
       "  .ansiout {\n",
       "    display: block;\n",
       "    unicode-bidi: embed;\n",
       "    white-space: pre-wrap;\n",
       "    word-wrap: break-word;\n",
       "    word-break: break-all;\n",
       "    font-family: \"Source Code Pro\", \"Menlo\", monospace;;\n",
       "    font-size: 13px;\n",
       "    color: #555;\n",
       "    margin-left: 4px;\n",
       "    line-height: 19px;\n",
       "  }\n",
       "</style>\n",
       "<div class=\"ansiout\"></div>"
      ]
     },
     "metadata": {},
     "output_type": "display_data"
    }
   ],
   "source": [
    "# Apply the modal value for cheaters with at least one missing information.\n",
    "estim_all_cheaters = fill_missing_values(estim_result)\n",
    "# print(estim_all_cheaters)\n",
    "\n",
    "# Plot the distribution of the period of cheating.\n",
    "# The plot contains all cheaters.\n",
    "'''estim_all_cheaters['period'] = estim_all_cheaters['period'].astype('int')\n",
    "bins = np.arange(0, estim_all_cheaters['period'].max() + 1.5) - 0.5\n",
    "fig = estim_all_cheaters['period'].hist(bins=bins, histtype='step')\n",
    "plt.title('')\n",
    "plt.xlim(xmin = 0.5)\n",
    "plt.xlabel('Period of cheating')\n",
    "plt.ylabel('Frequency')\n",
    "image = plt.show() \n",
    "display(image)'''"
   ]
  },
  {
   "cell_type": "code",
   "execution_count": 11,
   "metadata": {},
   "outputs": [],
   "source": [
    "# Store the estimated start dates as a parquet file.\n",
    "# cheater_info = spark.createDataFrame(estim_all_cheaters)\n",
    "# cheater_info.write.parquet(\"/tmp/cheater_info.parquet\")"
   ]
  }
 ],
 "metadata": {
  "kernelspec": {
   "display_name": "Python 3",
   "language": "python",
   "name": "python3"
  },
  "language_info": {
   "codemirror_mode": {
    "name": "ipython",
    "version": 3
   },
   "file_extension": ".py",
   "mimetype": "text/x-python",
   "name": "python",
   "nbconvert_exporter": "python",
   "pygments_lexer": "ipython3",
   "version": "3.6.5"
  },
  "name": "03_Estimate_the_start_date_of_cheating",
  "notebookId": 2613361705856735
 },
 "nbformat": 4,
 "nbformat_minor": 1
}
