{
 "cells": [
  {
   "cell_type": "markdown",
   "metadata": {},
   "source": [
    "# 03-estimate-cheating-adoption-time.ipynb\n",
    "\n",
    "In this section, we need the records of cheaters between March 1 and March 31.\n",
    "\n",
    "1. Calculate the average kill ratio of cheaters.\n",
    "* Calculate the average kill interval of cheaters.\n",
    "* Estimate the start date of cheating for each cheater based on performance.\n",
    "* Store the results in the S3 bucket."
   ]
  },
  {
   "cell_type": "markdown",
   "metadata": {},
   "source": [
    "## Load packages and read tables."
   ]
  },
  {
   "cell_type": "code",
   "execution_count": 1,
   "metadata": {},
   "outputs": [],
   "source": [
    "from pyspark.sql import functions as F\n",
    "import pandas as pd\n",
    "import matplotlib.pyplot as plt\n",
    "import numpy as np"
   ]
  },
  {
   "cell_type": "code",
   "execution_count": 3,
   "metadata": {},
   "outputs": [],
   "source": [
    "# Read a table that contains edges.\n",
    "spark.read.parquet(\"s3://jinny-capstone-data-test/data_for_vic_mech.parquet\").createOrReplaceTempView(\"td\")\n",
    "\n",
    "# Read a table that contains player data.\n",
    "spark.read.parquet(\"s3://jinny-capstone-data-test/players.parquet\").createOrReplaceTempView(\"players\")\n",
    "\n",
    "# Create a table of cheaters.\n",
    "spark.sql(\"SELECT * FROM players WHERE ban_date <= '2019-03-03'\").createOrReplaceTempView(\"cheaters\")"
   ]
  },
  {
   "cell_type": "markdown",
   "metadata": {},
   "source": [
    "## 1. Calculate the average kill ratio by date."
   ]
  },
  {
   "cell_type": "code",
   "execution_count": 4,
   "metadata": {},
   "outputs": [
    {
     "name": "stdout",
     "output_type": "stream",
     "text": [
      "                                           id      m_date  kill_ratio\n",
      "827  account.002dced5b2734143a4133cb58e0d0724  2019-03-01    0.906250\n",
      "828  account.002dced5b2734143a4133cb58e0d0724  2019-03-02    0.866667\n",
      "542  account.0087b5d4a4b244279af9138986bf52d3  2019-03-01    0.692308\n",
      "315  account.00a68dddf4284329aa8b9e7c38481c5a  2019-03-01    0.920502\n",
      "340  account.010f308648c24b8ebea84187aa518ee9  2019-03-01    0.666667\n",
      "829  account.012829a2fa344a2884359b4a85e49cb9  2019-03-02    0.888889\n",
      "460  account.0198bd285eff46c3bf2f6b476566c301  2019-03-01    0.594595\n",
      "458  account.0198bd285eff46c3bf2f6b476566c301  2019-03-02    0.516129\n",
      "459  account.0198bd285eff46c3bf2f6b476566c301  2019-03-03    0.593220\n",
      "356  account.021034455f5141a8b9f3e2d2891c31a6  2019-03-01    1.000000\n",
      "721  account.0230c074aec741848b646814fb342b61  2019-03-01    0.914634\n",
      "283  account.028e1de9da8347e8b5dba7edc0e96a42  2019-03-01    0.696970\n",
      "282  account.028e1de9da8347e8b5dba7edc0e96a42  2019-03-02    0.857143\n",
      "200  account.036236700880489b9123c5ddf24a5dd6  2019-03-01    0.396552\n",
      "772  account.0364edd6b71d42129abd26279eebedf2  2019-03-01    0.666667\n",
      "764  account.047adeab5f0943888776a66750297439  2019-03-01    0.333333\n",
      "739  account.049286f446af491c843da80560efdb48  2019-03-01    0.333333\n",
      "740  account.0536aadfd883421cbe3089df40761c96  2019-03-01    0.488372\n",
      "741  account.0536aadfd883421cbe3089df40761c96  2019-03-02    0.297297\n",
      "432  account.05e65062c0894ef7b0859332f069ca53  2019-03-01    0.887218\n"
     ]
    }
   ],
   "source": [
    "# Create a dataframe that stores kills done by cheaters.\n",
    "c_kill_logs = spark.sql(\"\"\"SELECT mid, src, dst, time, m_date, ban_date \n",
    "                           FROM td t JOIN cheaters c ON t.src = c.id\"\"\")\n",
    "c_kill_logs.registerTempTable(\"c_kill_logs\")\n",
    "\n",
    "# Calculate the number of kills of each cheater by date.\n",
    "c_kills_by_date = spark.sql(\"\"\"SELECT src AS id, m_date, COUNT(*) AS kills FROM c_kill_logs \n",
    "                               GROUP BY src, m_date\"\"\")\n",
    "c_kills_by_date_df = c_kills_by_date.toPandas()\n",
    "\n",
    "# Create a dataframe that stores death records of cheaters.\n",
    "spark.sql(\"\"\"SELECT mid, src, dst, time, m_date, ban_date \n",
    "             FROM td t JOIN cheaters c ON t.dst = c.id\"\"\").createOrReplaceTempView(\"c_death_logs\")\n",
    "\n",
    "# Calculate the number of deaths of each cheater by date.\n",
    "c_deaths_by_date = spark.sql(\"\"\"SELECT dst AS id, m_date, COUNT(*) AS deaths FROM c_death_logs \n",
    "                                GROUP BY dst, m_date\"\"\")\n",
    "c_deaths_by_date_df = c_deaths_by_date.toPandas()\n",
    "\n",
    "# Create a dataframe that contains both kills and deaths of each cheater by date.\n",
    "dates_from_kills = c_kills_by_date_df[['id', 'm_date']]\n",
    "dates_from_deaths = c_deaths_by_date_df[['id', 'm_date']]\n",
    "temp = pd.concat([dates_from_kills, dates_from_deaths])\n",
    "temp = temp.drop_duplicates(subset=['id', 'm_date'])\n",
    "\n",
    "# Merge the two dataframes into one.\n",
    "kill_info = pd.merge(temp, c_kills_by_date_df, how='outer', on=['id', 'm_date'])\n",
    "kill_info = kill_info.fillna(0)\n",
    "merged_df = pd.merge(kill_info, c_deaths_by_date_df, how='outer', on=['id', 'm_date'])\n",
    "merged_df = merged_df.fillna(0)\n",
    "\n",
    "# Calculate the kill ratio of each cheater by date.\n",
    "merged_df['kill_ratio'] = merged_df['kills']/(merged_df['kills']+merged_df['deaths'])\n",
    "avg_kill_ratio_by_date = merged_df[['id', 'm_date', 'kill_ratio']].sort_values(by=['id', 'm_date'])\n",
    "\n",
    "# Show the top 20 rows.\n",
    "print(avg_kill_ratio_by_date.head(20))"
   ]
  },
  {
   "cell_type": "markdown",
   "metadata": {},
   "source": [
    "## 2. Calculate the average time difference between consecutive kills by date."
   ]
  },
  {
   "cell_type": "code",
   "execution_count": 5,
   "metadata": {},
   "outputs": [
    {
     "name": "stdout",
     "output_type": "stream",
     "text": [
      "                                         src      m_date       delta\n",
      "0   account.002dced5b2734143a4133cb58e0d0724  2019-03-01  127.790108\n",
      "1   account.002dced5b2734143a4133cb58e0d0724  2019-03-02  196.118690\n",
      "2   account.0087b5d4a4b244279af9138986bf52d3  2019-03-01   92.839667\n",
      "3   account.00a68dddf4284329aa8b9e7c38481c5a  2019-03-01   93.247789\n",
      "4   account.010f308648c24b8ebea84187aa518ee9  2019-03-01  172.728800\n",
      "5   account.012829a2fa344a2884359b4a85e49cb9  2019-03-02  152.545150\n",
      "6   account.0198bd285eff46c3bf2f6b476566c301  2019-03-01  210.203455\n",
      "7   account.0198bd285eff46c3bf2f6b476566c301  2019-03-02  165.013196\n",
      "8   account.0198bd285eff46c3bf2f6b476566c301  2019-03-03  154.072167\n",
      "9   account.021034455f5141a8b9f3e2d2891c31a6  2019-03-01  121.358000\n",
      "10  account.0230c074aec741848b646814fb342b61  2019-03-01  111.407652\n",
      "11  account.028e1de9da8347e8b5dba7edc0e96a42  2019-03-01  283.261133\n",
      "12  account.028e1de9da8347e8b5dba7edc0e96a42  2019-03-02  309.247000\n",
      "13  account.036236700880489b9123c5ddf24a5dd6  2019-03-01  193.745556\n",
      "14  account.0364edd6b71d42129abd26279eebedf2  2019-03-01  224.215400\n",
      "15  account.047adeab5f0943888776a66750297439  2019-03-01         NaN\n",
      "16  account.049286f446af491c843da80560efdb48  2019-03-01         NaN\n",
      "17  account.0536aadfd883421cbe3089df40761c96  2019-03-01   72.416900\n",
      "18  account.0536aadfd883421cbe3089df40761c96  2019-03-02  151.270667\n",
      "19  account.05e65062c0894ef7b0859332f069ca53  2019-03-01   92.468913\n"
     ]
    }
   ],
   "source": [
    "# Get a dataframe that stores kill records of cheaters.\n",
    "kill_logs = c_kill_logs.toPandas()\n",
    "\n",
    "# Calculate the time difference between kills for each match\n",
    "kill_logs = kill_logs.sort_values(['src', 'mid', 'time'])\n",
    "kill_logs['time'] = pd.to_datetime(kill_logs['time'])\n",
    "kill_logs['delta'] = kill_logs.groupby(['mid', 'src'])['time'].diff()\n",
    "kill_logs['delta'] = kill_logs['delta'] / np.timedelta64(1, 's')\n",
    "\n",
    "# Calculate the average time difference between kills of cheaters by date.\n",
    "time_diff_df = kill_logs[['src', 'm_date', 'delta']]\n",
    "avg_kill_interval_by_date = time_diff_df.groupby(['src', 'm_date'], as_index=False).mean()\n",
    "\n",
    "# Show the top 20 rows.\n",
    "print(avg_kill_interval_by_date.head(20))"
   ]
  },
  {
   "cell_type": "markdown",
   "metadata": {},
   "source": [
    "## 3. Estimate the start date of cheating for each cheater based on performance."
   ]
  },
  {
   "cell_type": "code",
   "execution_count": 6,
   "metadata": {},
   "outputs": [
    {
     "name": "stdout",
     "output_type": "stream",
     "text": [
      "                                          id start_date   ban_date  period\n",
      "0   account.ba9810e0fcc54fd697c03d76785f5b2c        NaT 2019-03-01     NaN\n",
      "1   account.61973e29f5fb40118b0548a7fcd6b037        NaT 2019-03-02     NaN\n",
      "2   account.8d69e352069147749f81d1afc09b71e4        NaT 2019-03-03     NaN\n",
      "3   account.bcb70098670c4fa08dd2ef69ef49f572        NaT 2019-03-02     NaN\n",
      "4   account.dc0d711bae2c42c9975872b5bf312761 2019-03-01 2019-03-02     2.0\n",
      "5   account.feec603d5ae6470994e28180753f623a 2019-03-01 2019-03-01     1.0\n",
      "6   account.11dbd81ee12c4e9aa6db1a67526dc766        NaT 2019-03-03     NaN\n",
      "7   account.1c4cf8633d4f4f8db6de95cb093bd9bf        NaT 2019-03-01     NaN\n",
      "8   account.a98a65311cd54e5dbabee780585a8de0        NaT 2019-03-02     NaN\n",
      "9   account.da1a6fa0bb694c6ea8e28747fcaf9afe        NaT 2019-03-03     NaN\n",
      "10  account.eb7c962ec401489fa506035a3c9af311 2019-03-01 2019-03-01     1.0\n",
      "11  account.8ae9d8e7dbd54358a57caa1e3ed97e2e        NaT 2019-03-02     NaN\n",
      "12  account.92b450bd571048539d9aa7847a0263a9 2019-03-02 2019-03-03     2.0\n",
      "13  account.dce5929143934f00ad534417c1b1d66f        NaT 2019-03-02     NaN\n",
      "14  account.f53b0bcde9f240488649910b3a0c2955 2019-03-01 2019-03-02     2.0\n",
      "15  account.080fb6183a1549f89e2f705b033e39db        NaT 2019-03-02     NaN\n",
      "16  account.16b8bc62a014480590fe7bbf98b732d2 2019-03-02 2019-03-03     2.0\n",
      "17  account.27478c512f2f4ceb8d2c75de7a15d67c        NaT 2019-03-03     NaN\n",
      "18  account.5d7f31c9302548808d278e17acd13f89 2019-03-01 2019-03-02     2.0\n",
      "19  account.d40d1fc81aee4891ba879e1a4b4ef851 2019-03-01 2019-03-01     1.0\n"
     ]
    }
   ],
   "source": [
    "# Create a dataframe that store the performance of cheaters.\n",
    "avg_kill_interval_by_date.columns = ['id', 'm_date', 'delta']\n",
    "combined_tab = pd.merge(avg_kill_ratio_by_date, avg_kill_interval_by_date, how='left', on=['id', 'm_date'])\n",
    "\n",
    "combined_tab['kill_ratio'] = combined_tab['kill_ratio'].round(2)\n",
    "combined_tab['delta'] = combined_tab['delta'].round(2)\n",
    "combined_tab['flag'] = 0\n",
    "\n",
    "# Change the value of flag into one if the record meets the following condition.\n",
    "combined_tab.loc[(combined_tab['kill_ratio'] >= 0.8) & (combined_tab['delta'] <= 140), 'flag'] = 1\n",
    "flagged_records =  combined_tab[combined_tab['flag'] == 1]\n",
    "# print(flagged_records)\n",
    "\n",
    "start_dates_df = flagged_records.groupby(['id']).first().reset_index()\n",
    "start_dates = spark.createDataFrame(start_dates_df)\n",
    "start_dates.registerTempTable(\"start_dates\")\n",
    "estimation = spark.sql(\"\"\"SELECT c.id, s.m_date AS start_date, ban_date \n",
    "                          FROM cheaters c LEFT JOIN start_dates s ON c.id = s.id\"\"\")\n",
    "\n",
    "# Calculate the period of cheating for each cheater.\n",
    "estimation_df = estimation.toPandas()\n",
    "estimation_df['ban_date'] = pd.to_datetime(estimation_df['ban_date'])\n",
    "estimation_df['start_date'] = pd.to_datetime(estimation_df['start_date'])\n",
    "estimation_df['period'] = (estimation_df['ban_date'] - estimation_df['start_date']).astype('timedelta64[D]') + 1\n",
    "print(estimation_df.head(20))"
   ]
  },
  {
   "cell_type": "code",
   "execution_count": 13,
   "metadata": {},
   "outputs": [
    {
     "name": "stdout",
     "output_type": "stream",
     "text": [
      "331\n"
     ]
    }
   ],
   "source": [
    "# Remove cheaters without start date information.\n",
    "complete_rows = estimation_df[estimation_df.period.notnull()]\n",
    "# Resolve the settingwithcopywarning issue.\n",
    "# https://stackoverflow.com/questions/20625582/how-to-deal-with-settingwithcopywarning-in-pandas\n",
    "complete_rows['period'] = complete_rows['period'].astype('int') \n",
    "print(len(complete_rows))"
   ]
  },
  {
   "cell_type": "code",
   "execution_count": 10,
   "metadata": {},
   "outputs": [
    {
     "data": {
      "image/png": "[encoded data removed]",
      "text/plain": [
       "<Figure size 432x288 with 1 Axes>"
      ]
     },
     "metadata": {},
     "output_type": "display_data"
    }
   ],
   "source": [
    "# Plot the distribution of the period of cheating.\n",
    "# The plot contains cheaters who have full performance information.\n",
    "bins = np.arange(0, complete_rows['period'].max() + 1.5) - 0.5\n",
    "fig = complete_rows.hist(bins = bins, histtype='step')\n",
    "plt.title('')\n",
    "plt.xlim(xmin = 0.5)\n",
    "plt.xlim(xmax = 31)\n",
    "plt.xlabel('Period of cheating')\n",
    "plt.ylabel('Frequency')\n",
    "image = plt.show()"
   ]
  },
  {
   "cell_type": "code",
   "execution_count": 14,
   "metadata": {},
   "outputs": [
    {
     "name": "stdout",
     "output_type": "stream",
     "text": [
      "1.9305135951661632\n",
      "2.0\n",
      "242\n"
     ]
    }
   ],
   "source": [
    "# Calculate the mean and median of period of cheating.\n",
    "print(complete_rows['period'].mean())\n",
    "print(complete_rows['period'].median())\n",
    "\n",
    "# Count the number of cheaters who did cheat for two days.\n",
    "print(len(complete_rows[complete_rows['period']==2]))"
   ]
  },
  {
   "cell_type": "code",
   "execution_count": 15,
   "metadata": {},
   "outputs": [
    {
     "name": "stdout",
     "output_type": "stream",
     "text": [
      "                                          id start_date   ban_date  period\n",
      "0   account.ba9810e0fcc54fd697c03d76785f5b2c 2019-03-01 2019-03-01     1.0\n",
      "1   account.61973e29f5fb40118b0548a7fcd6b037 2019-03-01 2019-03-02     2.0\n",
      "2   account.8d69e352069147749f81d1afc09b71e4 2019-03-02 2019-03-03     2.0\n",
      "3   account.bcb70098670c4fa08dd2ef69ef49f572 2019-03-01 2019-03-02     2.0\n",
      "4   account.dc0d711bae2c42c9975872b5bf312761 2019-03-01 2019-03-02     2.0\n",
      "5   account.feec603d5ae6470994e28180753f623a 2019-03-01 2019-03-01     1.0\n",
      "6   account.11dbd81ee12c4e9aa6db1a67526dc766 2019-03-02 2019-03-03     2.0\n",
      "7   account.1c4cf8633d4f4f8db6de95cb093bd9bf 2019-03-01 2019-03-01     1.0\n",
      "8   account.a98a65311cd54e5dbabee780585a8de0 2019-03-01 2019-03-02     2.0\n",
      "9   account.da1a6fa0bb694c6ea8e28747fcaf9afe 2019-03-02 2019-03-03     2.0\n",
      "10  account.eb7c962ec401489fa506035a3c9af311 2019-03-01 2019-03-01     1.0\n",
      "11  account.8ae9d8e7dbd54358a57caa1e3ed97e2e 2019-03-01 2019-03-02     2.0\n",
      "12  account.92b450bd571048539d9aa7847a0263a9 2019-03-02 2019-03-03     2.0\n",
      "13  account.dce5929143934f00ad534417c1b1d66f 2019-03-01 2019-03-02     2.0\n",
      "14  account.f53b0bcde9f240488649910b3a0c2955 2019-03-01 2019-03-02     2.0\n",
      "15  account.080fb6183a1549f89e2f705b033e39db 2019-03-01 2019-03-02     2.0\n",
      "16  account.16b8bc62a014480590fe7bbf98b732d2 2019-03-02 2019-03-03     2.0\n",
      "17  account.27478c512f2f4ceb8d2c75de7a15d67c 2019-03-02 2019-03-03     2.0\n",
      "18  account.5d7f31c9302548808d278e17acd13f89 2019-03-01 2019-03-02     2.0\n",
      "19  account.d40d1fc81aee4891ba879e1a4b4ef851 2019-03-01 2019-03-01     1.0\n"
     ]
    }
   ],
   "source": [
    "# Create a table that contains both start date and ban date of each cheater.\n",
    "estimation_df = estimation.toPandas()\n",
    "estimation_df['ban_date'] = pd.to_datetime(estimation_df['ban_date'])\n",
    "estimation_df['start_date'] = pd.to_datetime(estimation_df['start_date'])\n",
    "estimation_df['period'] = (estimation_df['ban_date'] - estimation_df['start_date']).astype('timedelta64[D]') + 1\n",
    "\n",
    "# For cheaters with at least one missing performance information, we assume that they cheated for two days.\n",
    "estimation_df['period'] = estimation_df['period'].fillna(2)\n",
    "estimation_df['start_date'] = estimation_df['start_date'].fillna(estimation_df['ban_date'] - pd.to_timedelta(estimation_df['period']-1, unit='d'))\n",
    "estimation_df['start_date'] = estimation_df['start_date'].astype('str')\n",
    "estimation_df.loc[(estimation_df['start_date'] < '2019-03-01'), 'start_date'] = '2019-03-01'\n",
    "estimation_df['start_date'] = pd.to_datetime(estimation_df['start_date'])\n",
    "estimation_df['period'] = (estimation_df['ban_date'] - estimation_df['start_date']).astype('timedelta64[D]') + 1\n",
    "print(estimation_df.head(20))"
   ]
  },
  {
   "cell_type": "code",
   "execution_count": 17,
   "metadata": {},
   "outputs": [
    {
     "data": {
      "image/png": "[encoded data removed]",
      "text/plain": [
       "<Figure size 432x288 with 1 Axes>"
      ]
     },
     "metadata": {},
     "output_type": "display_data"
    }
   ],
   "source": [
    "# Plot the distribution of the period of cheating.\n",
    "# The plot contains all cheaters.\n",
    "estimation_df['period'] = estimation_df['period'].astype('int')\n",
    "bins = np.arange(0, estimation_df['period'].max() + 1.5) - 0.5\n",
    "fig = estimation_df['period'].hist(bins=bins, histtype='step')\n",
    "plt.title('')\n",
    "plt.xlim(xmin = 0.5)\n",
    "plt.xlim(xmax = 31)\n",
    "plt.xlabel('Period of cheating')\n",
    "plt.ylabel('Frequency')\n",
    "image = plt.show()"
   ]
  },
  {
   "cell_type": "markdown",
   "metadata": {},
   "source": [
    "## 4. Store the results in the S3 bucket."
   ]
  },
  {
   "cell_type": "code",
   "execution_count": 18,
   "metadata": {},
   "outputs": [
    {
     "name": "stdout",
     "output_type": "stream",
     "text": [
      "+--------------------+----------+----------+------+\n",
      "|                  id|start_date|  ban_date|period|\n",
      "+--------------------+----------+----------+------+\n",
      "|account.ba9810e0f...|2019-03-01|2019-03-01|     1|\n",
      "|account.61973e29f...|2019-03-01|2019-03-02|     2|\n",
      "|account.8d69e3520...|2019-03-02|2019-03-03|     2|\n",
      "|account.bcb700986...|2019-03-01|2019-03-02|     2|\n",
      "|account.dc0d711ba...|2019-03-01|2019-03-02|     2|\n",
      "|account.feec603d5...|2019-03-01|2019-03-01|     1|\n",
      "|account.11dbd81ee...|2019-03-02|2019-03-03|     2|\n",
      "|account.1c4cf8633...|2019-03-01|2019-03-01|     1|\n",
      "|account.a98a65311...|2019-03-01|2019-03-02|     2|\n",
      "|account.da1a6fa0b...|2019-03-02|2019-03-03|     2|\n",
      "|account.eb7c962ec...|2019-03-01|2019-03-01|     1|\n",
      "|account.8ae9d8e7d...|2019-03-01|2019-03-02|     2|\n",
      "|account.92b450bd5...|2019-03-02|2019-03-03|     2|\n",
      "|account.dce592914...|2019-03-01|2019-03-02|     2|\n",
      "|account.f53b0bcde...|2019-03-01|2019-03-02|     2|\n",
      "|account.080fb6183...|2019-03-01|2019-03-02|     2|\n",
      "|account.16b8bc62a...|2019-03-02|2019-03-03|     2|\n",
      "|account.27478c512...|2019-03-02|2019-03-03|     2|\n",
      "|account.5d7f31c93...|2019-03-01|2019-03-02|     2|\n",
      "|account.d40d1fc81...|2019-03-01|2019-03-01|     1|\n",
      "+--------------------+----------+----------+------+\n",
      "only showing top 20 rows\n",
      "\n"
     ]
    }
   ],
   "source": [
    "estimation_df['start_date'] = estimation_df['start_date'].astype('str')\n",
    "estimation_df['ban_date'] = estimation_df['ban_date'].astype('str')\n",
    "cheater_info = spark.createDataFrame(estimation_df)\n",
    "cheater_info.show(20)\n",
    "cheater_info.write.parquet(\"s3://jinny-capstone-data-test/cheater_info.parquet\")"
   ]
  },
  {
   "cell_type": "code",
   "execution_count": 22,
   "metadata": {},
   "outputs": [
    {
     "name": "stdout",
     "output_type": "stream",
     "text": [
      "+--------------------+--------------+-------------+----------+--------+\n",
      "|                  id|         pname|cheating_flag|start_date|ban_date|\n",
      "+--------------------+--------------+-------------+----------+--------+\n",
      "|account.000171894...| Mirage_OwlEye|            0|        NA|      NA|\n",
      "|account.001017dce...|   rlawltn1012|            0|        NA|      NA|\n",
      "|account.0014b474d...|blue__lemonade|            0|        NA|      NA|\n",
      "|account.0017aeb1b...|       k-will0|            0|        NA|      NA|\n",
      "|account.001b6d0dc...|   kakaonodaab|            0|        NA|      NA|\n",
      "|account.001c5d052...|      DGU_Ryan|            0|        NA|      NA|\n",
      "|account.0026c9e0e...|       lkengn0|            0|        NA|      NA|\n",
      "|account.00272763b...|   BTKnavyseal|            0|        NA|      NA|\n",
      "|account.0028521c5...|      oyangang|            0|        NA|      NA|\n",
      "|account.002ba9410...|       SUSAN_2|            0|        NA|      NA|\n",
      "|account.003114883...|  wkddnwls2335|            0|        NA|      NA|\n",
      "|account.003850949...|        Gikorr|            0|        NA|      NA|\n",
      "|account.00399d4c2...|          2GIM|            0|        NA|      NA|\n",
      "|account.003c16440...|     ghost1058|            0|        NA|      NA|\n",
      "|account.003d78747...|  Noppaggu_Boy|            0|        NA|      NA|\n",
      "|account.004b374fb...|love__JH__love|            0|        NA|      NA|\n",
      "|account.00527016f...|    hwangiksun|            0|        NA|      NA|\n",
      "|account.005593793...|        Sono-1|            0|        NA|      NA|\n",
      "|account.006364873...|    Choigisang|            0|        NA|      NA|\n",
      "|account.0084c138e...|    HongKakaka|            0|        NA|      NA|\n",
      "+--------------------+--------------+-------------+----------+--------+\n",
      "only showing top 20 rows\n",
      "\n"
     ]
    }
   ],
   "source": [
    "# Add the information of cheaters to the player data and store it to the S3 bucket for the later use.\n",
    "cheater_info.registerTempTable(\"cheater_info\")\n",
    "\n",
    "nodes = spark.sql(\"\"\"SELECT p.id, p.pname, p.cheating_flag, \n",
    "                     CASE WHEN c.start_date IS NULL THEN 'NA' ELSE c.start_date END AS start_date, \n",
    "                     CASE WHEN c.ban_date IS NULL THEN 'NA' ELSE c.ban_date END AS ban_date \n",
    "                     FROM players p LEFT JOIN cheater_info c ON p.id = c.id\"\"\")\n",
    "# print(nodes.count())\n",
    "nodes.show(20)\n",
    "nodes.write.parquet(\"s3://jinny-capstone-data-test/nodes.parquet\")"
   ]
  }
 ],
 "metadata": {
  "kernelspec": {
   "display_name": "Python 3",
   "language": "python",
   "name": "python3"
  },
  "language_info": {
   "codemirror_mode": {
    "name": "ipython",
    "version": 3
   },
   "file_extension": ".py",
   "mimetype": "text/x-python",
   "name": "python",
   "nbconvert_exporter": "python",
   "pygments_lexer": "ipython3",
   "version": "3.7.3"
  },
  "name": "3_estimation_of_starting_date_of_cheating",
  "notebookId": 2613361705856735
 },
 "nbformat": 4,
 "nbformat_minor": 1
}
