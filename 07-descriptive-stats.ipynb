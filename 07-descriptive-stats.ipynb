{
 "cells": [
  {
   "cell_type": "markdown",
   "metadata": {},
   "source": [
    "## 7 DESCRIPTIVE STATISTICS"
   ]
  },
  {
   "cell_type": "code",
   "execution_count": 14,
   "metadata": {},
   "outputs": [],
   "source": [
    "import pandas as pd\n",
    "import matplotlib.pyplot as plt\n",
    "import numpy as np\n",
    "import matplotlib.dates as dates\n",
    "import summarize_results as sr"
   ]
  },
  {
   "cell_type": "markdown",
   "metadata": {},
   "source": [
    "### 7.1 NUMBER OF MATCHES BY GAME MODE"
   ]
  },
  {
   "cell_type": "code",
   "execution_count": 2,
   "metadata": {},
   "outputs": [
    {
     "name": "stdout",
     "output_type": "stream",
     "text": [
      "+--------------------+\n",
      "|num_of_squad_matches|\n",
      "+--------------------+\n",
      "|              662650|\n",
      "+--------------------+\n",
      "\n",
      "+------------------+\n",
      "|num_of_duo_matches|\n",
      "+------------------+\n",
      "|            359870|\n",
      "+------------------+\n",
      "\n"
     ]
    }
   ],
   "source": [
    "# The parquet file 'team_matches' has 1,022,520 unique team match IDs and their game modes.\n",
    "team_matches = spark.read.parquet(\"s3://social-research-cheating/general-stats/teamplay_game_modes.parquet\")\n",
    "team_matches.registerTempTable(\"team_matches\")\n",
    "\n",
    "num_of_squad_matches = spark.sql(\"\"\"SELECT COUNT(*) AS num_of_squad_matches FROM team_matches \n",
    "                                    WHERE mod = 'squad' OR mod = 'normal-squad' OR mod = 'normal-squad-fpp'\"\"\")\n",
    "num_of_squad_matches.show()\n",
    "\n",
    "num_of_duo_matches = spark.sql(\"\"\"SELECT COUNT(*) AS num_of_duo_matches FROM team_matches \n",
    "                                  WHERE mod = 'duo' OR mod = 'normal-duo' OR mod = 'normal-duo-fpp'\"\"\")\n",
    "num_of_duo_matches.show()"
   ]
  },
  {
   "cell_type": "code",
   "execution_count": 4,
   "metadata": {},
   "outputs": [
    {
     "name": "stdout",
     "output_type": "stream",
     "text": [
      "+----------------+--------------+\n",
      "|            mode|num_of_matches|\n",
      "+----------------+--------------+\n",
      "|      normal-duo|          2299|\n",
      "|normal-squad-fpp|           350|\n",
      "|  normal-duo-fpp|           118|\n",
      "|    normal-squad|          4032|\n",
      "+----------------+--------------+\n",
      "\n"
     ]
    }
   ],
   "source": [
    "other_modes = spark.sql(\"SELECT * FROM team_matches WHERE mod != 'squad' AND mod != 'duo'\")\n",
    "other_modes.registerTempTable(\"other_modes\")\n",
    "\n",
    "summary_table = spark.sql(\"\"\"SELECT mod AS mode, COUNT(mid) AS num_of_matches \n",
    "                             FROM other_modes GROUP BY mod\"\"\")\n",
    "summary_table.show()"
   ]
  },
  {
   "cell_type": "markdown",
   "metadata": {},
   "source": [
    "### 7.2 NUMBER OF MATCHES WITH CHEATERS BY GAME MODE"
   ]
  },
  {
   "cell_type": "code",
   "execution_count": 3,
   "metadata": {},
   "outputs": [],
   "source": [
    "td = spark.read.parquet(\"s3://social-research-cheating/raw_td.parquet\")\n",
    "td.registerTempTable(\"td\")\n",
    "\n",
    "nodes = spark.read.parquet(\"s3://social-research-cheating/nodes.parquet\")\n",
    "nodes.registerTempTable(\"nodes\")"
   ]
  },
  {
   "cell_type": "code",
   "execution_count": 5,
   "metadata": {},
   "outputs": [],
   "source": [
    "add_killer_flags = spark.sql(\"\"\"SELECT mid, src, start_date AS src_sd, ban_date AS src_bd, \n",
    "                                cheating_flag AS src_flag, \n",
    "                                CASE WHEN m_date <= ban_date AND m_date >= start_date THEN 1 ELSE 0 END \n",
    "                                AS src_curr_flag, dst, time, m_date \n",
    "                                FROM td t LEFT JOIN players p ON t.src = p.id\"\"\")\n",
    "add_killer_flags.registerTempTable(\"add_killer_flags\")\n",
    "    \n",
    "edges = spark.sql(\"\"\"SELECT mid, src, src_sd, src_bd, src_flag, src_curr_flag,\n",
    "                     dst, start_date AS dst_sd, ban_date AS dst_bd, cheating_flag AS dst_flag, \n",
    "                     CASE WHEN m_date <= ban_date AND m_date >= start_date THEN 1 ELSE 0 END \n",
    "                     AS dst_curr_flag, time, m_date \n",
    "                     FROM add_killer_flags a LEFT JOIN players p ON a.dst = p.id\"\"\")\n",
    "edges.registerTempTable(\"edges\")\n",
    "\n",
    "cheating_killers = spark.sql(\"\"\"SELECT DISTINCT mid, src AS pid, src_curr_flag   \n",
    "                                FROM edges WHERE src_curr_flag = 1\"\"\")\n",
    "cheating_victims = spark.sql(\"\"\"SELECT DISTINCT mid, dst, dst_curr_flag   \n",
    "                                FROM edges WHERE dst_curr_flag = 1\"\"\")\n",
    "cheating_killers.registerTempTable(\"cheating_killers\")\n",
    "cheating_victims.registerTempTable(\"cheating_victims\")\n",
    "\n",
    "cheaters = spark.sql(\"SELECT * FROM cheating_killers UNION SELECT * FROM cheating_victims\")\n",
    "cheaters.registerTempTable(\"cheaters\")\n",
    "\n",
    "summary_table = spark.sql(\"\"\"SELECT mid, COUNT(DISTINCT pid) AS num_of_cheaters \n",
    "                             FROM cheaters GROUP BY mid\"\"\")\n",
    "# summary_table.write.parquet(\"s3://social-research-cheating/general-stats/sum_tab.parquet\")"
   ]
  },
  {
   "cell_type": "code",
   "execution_count": 12,
   "metadata": {},
   "outputs": [
    {
     "name": "stdout",
     "output_type": "stream",
     "text": [
      "+--------------------+-----+\n",
      "|                 mid|c_cnt|\n",
      "+--------------------+-----+\n",
      "|81771843-5753-47a...|    1|\n",
      "|38fd82a6-1343-40c...|    1|\n",
      "|d305bba6-8662-430...|    4|\n",
      "|3d8da5e8-bedf-4fa...|    2|\n",
      "|ab8b3d82-8dc3-4b5...|    2|\n",
      "|5357f999-1126-48a...|    1|\n",
      "|e7dcbed7-0190-4bf...|    1|\n",
      "|17b49e2e-5532-4c8...|    1|\n",
      "|9e4cf53c-8ae9-42c...|    1|\n",
      "|462ed4d4-0c54-4b9...|    1|\n",
      "+--------------------+-----+\n",
      "only showing top 10 rows\n",
      "\n"
     ]
    }
   ],
   "source": [
    "num_of_cheaters_per_match = spark.read.parquet(\"s3://social-research-cheating/general-stats/sum_tab.parquet\")\n",
    "num_of_cheaters_per_match.registerTempTable(\"num_of_cheaters_per_match\")\n",
    "num_of_cheaters_per_match.show(10)"
   ]
  },
  {
   "cell_type": "code",
   "execution_count": 13,
   "metadata": {},
   "outputs": [],
   "source": [
    "team_matches = spark.read.parquet(\"s3://social-research-cheating/general-stats/teamplay_game_modes.parquet\")\n",
    "team_matches.registerTempTable(\"team_matches\")\n",
    "\n",
    "add_mods = spark.sql(\"\"\"SELECT n.mid, c_cnt, CASE WHEN mod IS NULL THEN 'NA' ELSE mod END AS mod \n",
    "                        FROM num_of_cheaters_per_match n LEFT JOIN team_matches t ON n.mid = t.mid\"\"\")\n",
    "add_mods.write.parquet(\"s3://social-research-cheating/general-stats/num_of_cheaters_per_match.parquet\")"
   ]
  },
  {
   "cell_type": "code",
   "execution_count": 14,
   "metadata": {},
   "outputs": [
    {
     "name": "stdout",
     "output_type": "stream",
     "text": [
      "+--------------------+-----+-----+\n",
      "|                 mid|c_cnt|  mod|\n",
      "+--------------------+-----+-----+\n",
      "|002033f0-face-44e...|    1|   NA|\n",
      "|002589bf-c5c1-411...|    1|  duo|\n",
      "|0117177b-4a55-40d...|    1|squad|\n",
      "|01198b04-0c5d-4ef...|    2|squad|\n",
      "|0121d461-69d9-4ef...|    2|  duo|\n",
      "|016920f2-d4dc-4ae...|    1|squad|\n",
      "|020a98c5-eb18-493...|    1|squad|\n",
      "|031ac8b1-9f1e-435...|    2|squad|\n",
      "|03777616-f101-482...|    1|   NA|\n",
      "|03e0772c-3c13-40d...|    1|squad|\n",
      "+--------------------+-----+-----+\n",
      "only showing top 10 rows\n",
      "\n"
     ]
    }
   ],
   "source": [
    "add_mods = spark.read.parquet(\"s3://social-research-cheating/general-stats/num_of_cheaters_per_match.parquet\")\n",
    "add_mods.registerTempTable(\"add_mods\")\n",
    "add_mods.show(10)"
   ]
  },
  {
   "cell_type": "code",
   "execution_count": 17,
   "metadata": {},
   "outputs": [
    {
     "name": "stdout",
     "output_type": "stream",
     "text": [
      "+-----+----------+\n",
      "|c_cnt|count(mid)|\n",
      "+-----+----------+\n",
      "|    1|     10265|\n",
      "|    2|       951|\n",
      "|    3|        77|\n",
      "|    4|         3|\n",
      "+-----+----------+\n",
      "\n",
      "+-----+----------+\n",
      "|c_cnt|count(mid)|\n",
      "+-----+----------+\n",
      "|    1|     64095|\n",
      "|    2|      9079|\n",
      "|    3|      1355|\n",
      "|    4|       212|\n",
      "|    5|        27|\n",
      "|    6|         4|\n",
      "+-----+----------+\n",
      "\n",
      "+-----+----------+\n",
      "|c_cnt|count(mid)|\n",
      "+-----+----------+\n",
      "|    1|     19195|\n",
      "|    2|      1730|\n",
      "|    3|       135|\n",
      "|    4|        11|\n",
      "+-----+----------+\n",
      "\n"
     ]
    }
   ],
   "source": [
    "num_of_cheaters_in_solo = spark.sql(\"\"\"SELECT c_cnt, COUNT(mid) FROM add_mods WHERE mod = 'NA' \n",
    "                                       GROUP BY c_cnt ORDER BY c_cnt\"\"\")\n",
    "num_of_cheaters_in_solo.show()\n",
    "\n",
    "num_of_cheaters_in_squad = spark.sql(\"\"\"SELECT c_cnt, COUNT(mid) FROM add_mods \n",
    "                                        WHERE mod = 'squad' OR mod = 'normal-squad' OR mod = 'normal-squad-fpp' \n",
    "                                        GROUP BY c_cnt ORDER BY c_cnt\"\"\")\n",
    "num_of_cheaters_in_squad.show()\n",
    "\n",
    "num_of_cheaters_in_duo = spark.sql(\"\"\"SELECT c_cnt, COUNT(mid) FROM add_mods \n",
    "                                      WHERE mod = 'duo' OR mod = 'normal-duo' OR mod = 'normal-duo-fpp' \n",
    "                                      GROUP BY c_cnt ORDER BY c_cnt\"\"\")\n",
    "num_of_cheaters_in_duo.show()"
   ]
  },
  {
   "cell_type": "markdown",
   "metadata": {},
   "source": [
    "### 7.3 NUMBER OF PLAYERS WITH AT LEAST ONE VICTIMIZATION EXPERIENCE"
   ]
  },
  {
   "cell_type": "code",
   "execution_count": 30,
   "metadata": {},
   "outputs": [
    {
     "name": "stdout",
     "output_type": "stream",
     "text": [
      "+-------------------+\n",
      "|count(DISTINCT dst)|\n",
      "+-------------------+\n",
      "|             287342|\n",
      "+-------------------+\n",
      "\n"
     ]
    }
   ],
   "source": [
    "victims = spark.sql(\"SELECT COUNT(DISTINCT dst) FROM edges WHERE src_curr_flag = 1\")\n",
    "victims.show()"
   ]
  },
  {
   "cell_type": "markdown",
   "metadata": {},
   "source": [
    "### 7.4 NUMBER OF UNIQUE PLAYERS"
   ]
  },
  {
   "cell_type": "code",
   "execution_count": 6,
   "metadata": {},
   "outputs": [
    {
     "name": "stdout",
     "output_type": "stream",
     "text": [
      "1975877\n"
     ]
    }
   ],
   "source": [
    "killers = spark.sql(\"SELECT src FROM td\")\n",
    "killers.registerTempTable(\"killers\")\n",
    "\n",
    "victims = spark.sql(\"SELECT dst FROM td\")\n",
    "victims.registerTempTable(\"victims\")\n",
    "\n",
    "unique_players = spark.sql(\"SELECT src AS id FROM killers UNION SELECT * FROM victims\")\n",
    "print(unique_players.count())\n",
    "unique_players.write.parquet(\"s3://social-research-cheating/general-stats/unique_players.parquet\")"
   ]
  },
  {
   "cell_type": "markdown",
   "metadata": {},
   "source": [
    "### 7.5 NUMBER OF DAYS PLAYERS ACCESSED THE GAME"
   ]
  },
  {
   "cell_type": "code",
   "execution_count": 5,
   "metadata": {},
   "outputs": [],
   "source": [
    "killers = spark.read.parquet(\"s3://social-research-cheating/general-stats/killers.parquet\")\n",
    "killers.registerTempTable(\"killers\")\n",
    "\n",
    "victims = spark.read.parquet(\"s3://social-research-cheating/general-stats/victims.parquet\")\n",
    "victims.registerTempTable(\"victims\")\n",
    "\n",
    "merged_table = spark.sql(\"SELECT src AS id, m_date FROM killers UNION SELECT * FROM victims\")\n",
    "merged_table.registerTempTable(\"merged_table\")\n",
    "\n",
    "days = spark.sql(\"SELECT id, COUNT(*) AS days FROM merged_table GROUP BY id\")\n",
    "days.write.parquet(\"s3://social-research-cheating/general-stats/num_of_days.parquet\")\n",
    "days_df = days.toPandas()\n",
    "days_df.to_csv('num_of_days.csv', index=False)"
   ]
  },
  {
   "cell_type": "code",
   "execution_count": 4,
   "metadata": {},
   "outputs": [
    {
     "name": "stdout",
     "output_type": "stream",
     "text": [
      "5.767\n",
      "3.0\n"
     ]
    }
   ],
   "source": [
    "days = pd.read_csv(\"data/general_stats/num_of_days.csv\")\n",
    "\n",
    "print(round(days['days'].mean(), 3))\n",
    "print(days['days'].median())"
   ]
  },
  {
   "cell_type": "code",
   "execution_count": 5,
   "metadata": {},
   "outputs": [
    {
     "data": {
      "image/png": "[encoded data removed]",
      "text/plain": [
       "<Figure size 432x288 with 1 Axes>"
      ]
     },
     "metadata": {
      "needs_background": "light"
     },
     "output_type": "display_data"
    }
   ],
   "source": [
    "bins = np.arange(0, days['days'].max() + 1.5) - 0.5\n",
    "fig, ax = plt.subplots()\n",
    "days.hist(ax=ax, column='days', histtype='step', bins=bins, \n",
    "          weights=np.zeros_like(days['days']) + 1. / len(days['days']))\n",
    "plt.xlim(xmin=0.5)\n",
    "plt.xlim(xmax=31)\n",
    "plt.xlabel(\"Number of days players played the game\")\n",
    "plt.ylabel(\"Proportion\")\n",
    "plt.title(\"\")\n",
    "plt.tight_layout()\n",
    "plt.show()"
   ]
  },
  {
   "cell_type": "markdown",
   "metadata": {},
   "source": [
    "### 7.6 NUMBER OF MATCHES BY DATE"
   ]
  },
  {
   "cell_type": "code",
   "execution_count": 31,
   "metadata": {},
   "outputs": [],
   "source": [
    "DATA_PATH = \"s3://social-research-cheating/general-stats/mids_by_date.parquet\"\n",
    "matches_by_date = spark.read.parquet(DATA_PATH)\n",
    "matches_by_date_df = matches_by_date.toPandas()\n",
    "matches_by_date_df.to_csv('mids_by_date.csv', index=False)"
   ]
  },
  {
   "cell_type": "code",
   "execution_count": 11,
   "metadata": {},
   "outputs": [
    {
     "name": "stdout",
     "output_type": "stream",
     "text": [
      "            num_of_mids day\n",
      "m_date                     \n",
      "2019-03-01        48886   F\n",
      "2019-03-02        48995   S\n",
      "2019-03-03        45696   S\n",
      "2019-03-04        33555   M\n",
      "2019-03-05        30504   T\n",
      "2019-03-06        30434   W\n",
      "2019-03-07        31267   T\n",
      "2019-03-08        36469   F\n",
      "2019-03-09        50479   S\n",
      "2019-03-10        46290   S\n",
      "2019-03-11        29363   M\n",
      "2019-03-12        29157   T\n",
      "2019-03-13        29009   W\n",
      "2019-03-14        29890   T\n",
      "2019-03-15        37090   F\n",
      "2019-03-16        50550   S\n",
      "2019-03-17        45816   S\n",
      "2019-03-18        29833   M\n",
      "2019-03-19        29523   T\n",
      "2019-03-20        29240   W\n",
      "2019-03-21        31193   T\n",
      "2019-03-22        36154   F\n",
      "2019-03-23        50375   S\n",
      "2019-03-24        45624   S\n",
      "2019-03-25        29115   M\n",
      "2019-03-26        27491   T\n",
      "2019-03-27        29446   W\n",
      "2019-03-28        24271   T\n",
      "2019-03-29        36189   F\n",
      "2019-03-30        49550   S\n",
      "2019-03-31        45487   S\n",
      "1146941\n"
     ]
    }
   ],
   "source": [
    "matches_by_date = pd.read_csv(\"data/general_stats/mids_by_date.csv\")\n",
    "\n",
    "matches_by_date['m_date'] = pd.to_datetime(matches_by_date['m_date'], format='%Y-%m-%d')\n",
    "matches_by_date['day'] = matches_by_date['m_date'].dt.dayofweek\n",
    "days = {0: 'M', 1: 'T', 2: 'W', 3: 'T', 4: 'F', 5: 'S', 6: 'S'}\n",
    "matches_by_date['day'] = matches_by_date['day'].apply(lambda x: days[x])\n",
    "\n",
    "matches_by_date = matches_by_date.sort_values(['m_date'])\n",
    "matches_by_date.set_index(['m_date'], inplace=True)\n",
    "\n",
    "print(matches_by_date)\n",
    "print(matches_by_date['num_of_mids'].sum())"
   ]
  },
  {
   "cell_type": "code",
   "execution_count": 8,
   "metadata": {},
   "outputs": [
    {
     "data": {
      "image/png": "[encoded data removed]",
      "text/plain": [
       "<Figure size 432x288 with 1 Axes>"
      ]
     },
     "metadata": {
      "needs_background": "light"
     },
     "output_type": "display_data"
    }
   ],
   "source": [
    "fig, ax = plt.subplots()\n",
    "matches_by_date.plot(ax=ax)\n",
    "plt.xticks(matches_by_date.index, matches_by_date[\"day\"].values)\n",
    "ax.get_legend().remove()\n",
    "plt.ylim(ymin=20000, ymax=55000)\n",
    "plt.xlabel(\"Day\")\n",
    "plt.ylabel(\"Number of matches\")\n",
    "plt.tight_layout()\n",
    "plt.show()"
   ]
  },
  {
   "cell_type": "markdown",
   "metadata": {},
   "source": [
    "### 7.7 NUMBER OF CHEATERS BY BAN DATE"
   ]
  },
  {
   "cell_type": "code",
   "execution_count": 10,
   "metadata": {},
   "outputs": [
    {
     "name": "stdout",
     "output_type": "stream",
     "text": [
      "            num_of_cheaters\n",
      "ban_date                   \n",
      "2019-03-01              103\n",
      "2019-03-02              290\n",
      "2019-03-03              258\n",
      "2019-03-04              312\n",
      "2019-03-05              228\n",
      "2019-03-06              702\n",
      "2019-03-07              262\n",
      "2019-03-08              145\n",
      "2019-03-09              690\n",
      "2019-03-10              135\n",
      "2019-03-11              511\n",
      "2019-03-12              324\n",
      "2019-03-13              188\n",
      "2019-03-14              139\n",
      "2019-03-15              132\n",
      "2019-03-16              107\n",
      "2019-03-17              144\n",
      "2019-03-19              116\n",
      "2019-03-20              112\n",
      "2019-03-21              105\n",
      "2019-03-22              118\n",
      "2019-03-23              176\n",
      "2019-03-24               99\n",
      "2019-03-25               89\n",
      "2019-03-26              170\n",
      "2019-03-27              111\n",
      "2019-03-28               99\n",
      "2019-03-29              114\n",
      "2019-03-30               93\n",
      "2019-03-31               89\n",
      "6161\n"
     ]
    }
   ],
   "source": [
    "num_of_cheaters = pd.read_csv(\"data/general_stats/num_of_cheaters.csv\")\n",
    "num_of_cheaters['ban_date'] = pd.to_datetime(num_of_cheaters['ban_date'], format='%Y-%m-%d')\n",
    "num_of_cheaters = num_of_cheaters.sort_values(['ban_date'])\n",
    "num_of_cheaters.set_index(['ban_date'], inplace=True)\n",
    "\n",
    "print(num_of_cheaters)\n",
    "print(num_of_cheaters['num_of_cheaters'].sum())"
   ]
  },
  {
   "cell_type": "code",
   "execution_count": 17,
   "metadata": {},
   "outputs": [
    {
     "data": {
      "image/png": "[encoded data removed]",
      "text/plain": [
       "<Figure size 432x288 with 1 Axes>"
      ]
     },
     "metadata": {
      "needs_background": "light"
     },
     "output_type": "display_data"
    }
   ],
   "source": [
    "fig, ax = plt.subplots()\n",
    "num_of_cheaters.plot(ax=ax)\n",
    "ax.get_legend().remove()\n",
    "ax.xaxis.set_major_formatter(dates.DateFormatter('%d'))\n",
    "plt.setp(ax.get_xticklabels(), rotation=0, horizontalalignment='center')\n",
    "plt.xlabel(\"Date\")\n",
    "plt.ylabel(\"Number of banned cheaters\")\n",
    "plt.tight_layout()\n",
    "plt.show() "
   ]
  },
  {
   "cell_type": "markdown",
   "metadata": {},
   "source": [
    "### 7.8 SUCCESS RATES OF PLAYERS"
   ]
  },
  {
   "cell_type": "code",
   "execution_count": 3,
   "metadata": {},
   "outputs": [],
   "source": [
    "# Use the matches where at least one cheater played.\n",
    "matches_with_cheaters = spark.read.parquet(\"s3://social-research-cheating/general-stats/matches_with_cheaters.parquet\")\n",
    "matches_with_cheaters.registerTempTable(\"matches_with_cheaters\")\n",
    "\n",
    "add_killer_flags = spark.sql(\"\"\"SELECT mid, src, \n",
    "                                CASE WHEN m_date <= ban_date AND m_date >= start_date THEN 1 ELSE 0 END \n",
    "                                AS src_curr_flag, dst, time, m_date, mod \n",
    "                                FROM matches_with_cheaters m LEFT JOIN nodes n ON m.src = n.id\"\"\")\n",
    "add_killer_flags.registerTempTable(\"add_killer_flags\")\n",
    "\n",
    "edges = spark.sql(\"\"\"SELECT mid, src, src_curr_flag, dst, \n",
    "                     CASE WHEN m_date <= ban_date AND m_date >= start_date THEN 1 ELSE 0 END AS dst_curr_flag,\n",
    "                     time, m_date, mod \n",
    "                     FROM add_killer_flags a LEFT JOIN nodes n ON a.dst = n.id\"\"\")\n",
    "edges.registerTempTable(\"edges\")"
   ]
  },
  {
   "cell_type": "markdown",
   "metadata": {},
   "source": [
    "### WIN RATES IN SOLO MATCHES"
   ]
  },
  {
   "cell_type": "code",
   "execution_count": 10,
   "metadata": {},
   "outputs": [
    {
     "name": "stdout",
     "output_type": "stream",
     "text": [
      "+---------------+--------------+\n",
      "|is_cheating_now|num_of_players|\n",
      "+---------------+--------------+\n",
      "|              0|       1049113|\n",
      "|              1|         12410|\n",
      "+---------------+--------------+\n",
      "\n"
     ]
    }
   ],
   "source": [
    "solo_matches = spark.sql(\"\"\"SELECT e.*, ROW_NUMBER() OVER (PARTITION BY mid ORDER BY time DESC) AS row_number \n",
    "                            FROM edges e WHERE mod = 'NA'\"\"\")\n",
    "solo_matches.registerTempTable(\"solo_matches\")\n",
    "\n",
    "participants = spark.sql(\"\"\"SELECT mid, src AS id, src_curr_flag AS is_cheating_now FROM solo_matches \n",
    "                            UNION SELECT mid, dst, dst_curr_flag FROM solo_matches\"\"\")\n",
    "participants.registerTempTable(\"participants\")\n",
    "\n",
    "summary_tab = spark.sql(\"\"\"SELECT is_cheating_now, COUNT(*) AS num_of_players \n",
    "                           FROM participants GROUP BY is_cheating_now ORDER BY is_cheating_now\"\"\")\n",
    "summary_tab.show()"
   ]
  },
  {
   "cell_type": "code",
   "execution_count": 6,
   "metadata": {},
   "outputs": [
    {
     "name": "stdout",
     "output_type": "stream",
     "text": [
      "+--------------------+--------------------+---------------+\n",
      "|                 mid|              winner|is_cheating_now|\n",
      "+--------------------+--------------------+---------------+\n",
      "|2c8acf5b-b768-433...|account.f5fbb648e...|              0|\n",
      "|2da69df9-d18a-472...|account.016d386c9...|              0|\n",
      "|2ebc4752-2e5d-419...|account.9e0b10ae1...|              0|\n",
      "|32514c85-ac8c-43d...|account.f043216c1...|              0|\n",
      "|32bc7f14-27a0-497...|account.601c100a4...|              0|\n",
      "+--------------------+--------------------+---------------+\n",
      "only showing top 5 rows\n",
      "\n",
      "+---------------+--------------+\n",
      "|is_cheating_now|num_of_winners|\n",
      "+---------------+--------------+\n",
      "|              0|          9621|\n",
      "|              1|          1675|\n",
      "+---------------+--------------+\n",
      "\n"
     ]
    }
   ],
   "source": [
    "winners = spark.sql(\"\"\"SELECT mid, src AS winner, src_curr_flag AS is_cheating_now \n",
    "                       FROM solo_matches WHERE row_number = 1\"\"\")\n",
    "winners.registerTempTable(\"winners\")\n",
    "winners.show(5)\n",
    "\n",
    "summary_tab = spark.sql(\"\"\"SELECT is_cheating_now, COUNT(*) AS num_of_winners \n",
    "                           FROM winners GROUP BY is_cheating_now ORDER BY is_cheating_now\"\"\")\n",
    "summary_tab.show()"
   ]
  },
  {
   "cell_type": "markdown",
   "metadata": {},
   "source": [
    "### GETTING INTO THE TOP 30% IN SOLO MATCHES"
   ]
  },
  {
   "cell_type": "code",
   "execution_count": 9,
   "metadata": {},
   "outputs": [
    {
     "name": "stdout",
     "output_type": "stream",
     "text": [
      "+--------------------+--------------------+---------------+\n",
      "|                 mid|              winner|is_cheating_now|\n",
      "+--------------------+--------------------+---------------+\n",
      "|ff8c960c-b37f-4df...|account.5bf6fc5e1...|              1|\n",
      "|d6124174-6533-4d8...|account.0808fb8f4...|              0|\n",
      "|22ad4af0-b75e-4e0...|account.d2c9cb567...|              0|\n",
      "|a91ab075-e82a-4b6...|account.8930c639e...|              0|\n",
      "|3826dd72-e76d-4e8...|account.dfd9e66b6...|              0|\n",
      "+--------------------+--------------------+---------------+\n",
      "only showing top 5 rows\n",
      "\n",
      "+---------------+-------------------+\n",
      "|is_cheating_now|num_of_good_players|\n",
      "+---------------+-------------------+\n",
      "|              0|             297261|\n",
      "|              1|               5217|\n",
      "+---------------+-------------------+\n",
      "\n"
     ]
    }
   ],
   "source": [
    "solo_matches.registerTempTable(\"td\")\n",
    "\n",
    "data_with_damage = sr.add_damage(solo_matches, 30)\n",
    "data_with_damage.registerTempTable(\"data_with_damage\")\n",
    "\n",
    "good_performers = spark.sql(\"\"\"SELECT DISTINCT mid, dst, dst_curr_flag AS is_cheating_now \n",
    "                               FROM data_with_damage WHERE damage = 1\"\"\")\n",
    "good_performers.registerTempTable(\"good_performers\")\n",
    "\n",
    "top_30_players = spark.sql(\"SELECT * FROM winners UNION SELECT * FROM good_performers\")\n",
    "top_30_players.registerTempTable(\"top_30_players\")\n",
    "top_30_players.show(5)\n",
    "\n",
    "summary_tab = spark.sql(\"\"\"SELECT is_cheating_now, COUNT(*) AS num_of_good_players FROM top_30_players \n",
    "                           GROUP BY is_cheating_now ORDER BY is_cheating_now\"\"\")\n",
    "summary_tab.show()"
   ]
  },
  {
   "cell_type": "markdown",
   "metadata": {},
   "source": [
    "### WIN RATES OF TEAMS IN TEAM MATCHES"
   ]
  },
  {
   "cell_type": "code",
   "execution_count": 9,
   "metadata": {},
   "outputs": [
    {
     "name": "stdout",
     "output_type": "stream",
     "text": [
      "+---------------+------------+\n",
      "|num_of_cheaters|num_of_teams|\n",
      "+---------------+------------+\n",
      "|              0|     2807526|\n",
      "|              1|       96747|\n",
      "|              2|        4094|\n",
      "|              3|         187|\n",
      "|              4|          11|\n",
      "+---------------+------------+\n",
      "\n"
     ]
    }
   ],
   "source": [
    "rank_data = spark.read.parquet(\"s3://social-research-cheating/edges/team_ranks.parquet\")\n",
    "rank_data.registerTempTable(\"rank_data\")\n",
    "\n",
    "# The parquet file below contains the team matches with team IDs.\n",
    "team_match_edges = spark.read.parquet(\"s3://social-research-cheating/general-stats/match_logs_with_mods.parquet\")\n",
    "team_match_edges.registerTempTable(\"team_match_edges\")\n",
    "\n",
    "participants = spark.sql(\"\"\"SELECT mid, src AS id, src_curr_flag AS is_cheating_now, src_tid AS tid \n",
    "                            FROM team_match_edges UNION \n",
    "                            SELECT mid, dst, dst_curr_flag, dst_tid FROM team_match_edges\"\"\")\n",
    "participants.registerTempTable(\"participants\")\n",
    "\n",
    "num_of_cheaters_per_team = spark.sql(\"\"\"SELECT mid, tid, SUM(is_cheating_now) AS num_of_cheaters \n",
    "                                        FROM participants WHERE tid != 'NA' GROUP BY mid, tid\"\"\")\n",
    "num_of_cheaters_per_team.registerTempTable(\"num_of_cheaters_per_team\")\n",
    "\n",
    "summary_tab = spark.sql(\"\"\"SELECT num_of_cheaters, COUNT(*) AS num_of_teams \n",
    "                           FROM num_of_cheaters_per_team GROUP BY num_of_cheaters \n",
    "                           ORDER BY num_of_cheaters\"\"\")\n",
    "summary_tab.show()"
   ]
  },
  {
   "cell_type": "code",
   "execution_count": 17,
   "metadata": {},
   "outputs": [
    {
     "name": "stdout",
     "output_type": "stream",
     "text": [
      "+---------------+--------------+\n",
      "|num_of_cheaters|num_of_winners|\n",
      "+---------------+--------------+\n",
      "|              0|         79404|\n",
      "|              1|         14517|\n",
      "|              2|          1054|\n",
      "|              3|            72|\n",
      "|              4|             9|\n",
      "+---------------+--------------+\n",
      "\n"
     ]
    }
   ],
   "source": [
    "add_team_ranks = spark.sql(\"\"\"SELECT n.mid, n.tid, n.num_of_cheaters, \n",
    "                              CASE WHEN r.rank IS NULL THEN 'NA' ELSE r.rank END AS rank \n",
    "                              FROM num_of_cheaters_per_team n LEFT JOIN rank_data r \n",
    "                              ON n.mid = r.mid AND n.tid = r.tid\"\"\")\n",
    "add_team_ranks.registerTempTable(\"add_team_ranks\")\n",
    "\n",
    "winners = spark.sql(\"SELECT DISTINCT mid, tid FROM add_team_ranks WHERE rank = 1\")\n",
    "winners.registerTempTable(\"winners\")\n",
    "\n",
    "num_of_winners = spark.sql(\"\"\"SELECT num_of_cheaters, \n",
    "                              COUNT(CASE WHEN rank = 1 THEN 1 ELSE NULL END) AS num_of_winners\n",
    "                              FROM add_team_ranks GROUP BY num_of_cheaters \n",
    "                              ORDER BY num_of_cheaters\"\"\")\n",
    "num_of_winners.show()"
   ]
  },
  {
   "cell_type": "markdown",
   "metadata": {},
   "source": [
    "### GETTING INTO THE TOP 30% - TEAMS IN TEAM MATCHES"
   ]
  },
  {
   "cell_type": "code",
   "execution_count": 13,
   "metadata": {},
   "outputs": [
    {
     "name": "stdout",
     "output_type": "stream",
     "text": [
      "+---------------+------------+\n",
      "|num_of_cheaters|num_of_teams|\n",
      "+---------------+------------+\n",
      "|              0|     1059217|\n",
      "|              1|       52887|\n",
      "|              2|        2475|\n",
      "|              3|         129|\n",
      "|              4|          10|\n",
      "+---------------+------------+\n",
      "\n"
     ]
    }
   ],
   "source": [
    "team_match_edges.registerTempTable(\"td\")\n",
    "data_with_damage = sr.add_damage(team_match_edges, 30)\n",
    "data_with_damage.registerTempTable(\"data_with_damage\")\n",
    "\n",
    "good_performers = spark.sql(\"\"\"SELECT DISTINCT mid, dst_tid AS tid \n",
    "                               FROM data_with_damage WHERE damage = 1 AND dst_tid != 'NA'\"\"\")\n",
    "good_performers.registerTempTable(\"good_performers\")\n",
    "\n",
    "top_30_players = spark.sql(\"SELECT * FROM winners UNION SELECT * FROM good_performers\")\n",
    "top_30_players.registerTempTable(\"top_30_players\")\n",
    "\n",
    "add_num_of_cheaters = spark.sql(\"\"\"SELECT t.*, num_of_cheaters \n",
    "                                   FROM top_30_players t JOIN num_of_cheaters_per_team n \n",
    "                                   ON t.mid = n.mid AND t.tid = n.tid\"\"\")\n",
    "add_num_of_cheaters.registerTempTable(\"add_num_of_cheaters\")\n",
    "\n",
    "summary_tab = spark.sql(\"\"\"SELECT num_of_cheaters, COUNT(*) AS num_of_teams \n",
    "                           FROM add_num_of_cheaters GROUP BY num_of_cheaters\n",
    "                           ORDER BY num_of_cheaters\"\"\")\n",
    "summary_tab.show()"
   ]
  },
  {
   "cell_type": "markdown",
   "metadata": {},
   "source": [
    "### WIN RATES OF SINGLE PLAYERS IN TEAM MATCHES"
   ]
  },
  {
   "cell_type": "code",
   "execution_count": 20,
   "metadata": {},
   "outputs": [
    {
     "name": "stdout",
     "output_type": "stream",
     "text": [
      "+---------------+--------------+\n",
      "|is_cheating_now|num_of_players|\n",
      "+---------------+--------------+\n",
      "|              0|        143791|\n",
      "|              1|          4889|\n",
      "+---------------+--------------+\n",
      "\n"
     ]
    }
   ],
   "source": [
    "single_players_in_team_matches = spark.sql(\"\"\"SELECT DISTINCT mid, id, is_cheating_now \n",
    "                                              FROM participants WHERE tid = 'NA'\"\"\")\n",
    "single_players_in_team_matches.registerTempTable(\"single_players_in_team_matches\")\n",
    "\n",
    "summary_tab = spark.sql(\"\"\"SELECT is_cheating_now, COUNT(*) AS num_of_players \n",
    "                           FROM single_players_in_team_matches \n",
    "                           GROUP BY is_cheating_now ORDER BY is_cheating_now\"\"\")\n",
    "summary_tab.show()"
   ]
  },
  {
   "cell_type": "code",
   "execution_count": null,
   "metadata": {},
   "outputs": [],
   "source": [
    "team_match_edges = spark.read.parquet(\"s3://social-research-cheating/general-stats/match_logs_with_mods.parquet\")\n",
    "team_match_edges.registerTempTable(\"team_match_edges\")\n",
    "\n",
    "# The parquet file below contains the number of cheaters and rank of each team in team matches.\n",
    "add_team_ranks = spark.read.parquet(\"s3://social-research-cheating/general-stats/add_team_ranks.parquet\")\n",
    "add_team_ranks.registerTempTable(\"add_team_ranks\")"
   ]
  },
  {
   "cell_type": "code",
   "execution_count": 6,
   "metadata": {},
   "outputs": [
    {
     "name": "stdout",
     "output_type": "stream",
     "text": [
      "787\n"
     ]
    }
   ],
   "source": [
    "team_match_ids = spark.sql(\"SELECT DISTINCT mid FROM team_match_edges\")\n",
    "team_match_ids.registerTempTable(\"team_match_ids\")\n",
    "\n",
    "match_ids_with_winning_teams = spark.sql(\"SELECT DISTINCT mid FROM add_team_ranks WHERE rank = 1\")\n",
    "match_ids_with_winning_teams.registerTempTable(\"match_ids_with_winning_teams\")\n",
    "\n",
    "leftover_ids = spark.sql(\"SELECT * FROM team_match_ids MINUS SELECT * FROM match_ids_with_winning_teams\")\n",
    "leftover_ids.registerTempTable(\"leftover_ids\")\n",
    "print(leftover_ids.count())"
   ]
  },
  {
   "cell_type": "code",
   "execution_count": 13,
   "metadata": {},
   "outputs": [
    {
     "name": "stdout",
     "output_type": "stream",
     "text": [
      "+---------------+--------------+\n",
      "|is_cheating_now|num_of_winners|\n",
      "+---------------+--------------+\n",
      "|              0|           391|\n",
      "|              1|           396|\n",
      "+---------------+--------------+\n",
      "\n"
     ]
    }
   ],
   "source": [
    "team_matches_with_single_winners = spark.sql(\"\"\"SELECT t.* FROM team_match_edges t JOIN leftover_ids l \n",
    "                                                ON t.mid = l.mid\"\"\")\n",
    "team_matches_with_single_winners.registerTempTable(\"team_matches_with_single_winners\")\n",
    "\n",
    "add_row_nums = spark.sql(\"\"\"SELECT t.*, \n",
    "                            ROW_NUMBER() OVER (PARTITION BY mid ORDER BY time DESC) AS row_number \n",
    "                            FROM team_matches_with_single_winners t\"\"\")\n",
    "add_row_nums.registerTempTable(\"add_row_nums\")\n",
    "\n",
    "winners = spark.sql(\"\"\"SELECT mid, src AS winner, src_curr_flag AS is_cheating_now, src_tid AS tid \n",
    "                       FROM add_row_nums WHERE row_number = 1\"\"\")\n",
    "winners.registerTempTable(\"winners\")\n",
    "\n",
    "summary_tab = spark.sql(\"\"\"SELECT is_cheating_now, COUNT(*) AS num_of_winners \n",
    "                           FROM winners GROUP BY is_cheating_now ORDER BY is_cheating_now\"\"\")\n",
    "summary_tab.show()"
   ]
  },
  {
   "cell_type": "markdown",
   "metadata": {},
   "source": [
    "### GETTING INTO THE TOP 30% - SINGLE PLAYERS IN TEAM MATCHES"
   ]
  },
  {
   "cell_type": "code",
   "execution_count": 17,
   "metadata": {},
   "outputs": [
    {
     "name": "stdout",
     "output_type": "stream",
     "text": [
      "+--------------------+--------------------+---------------+---+\n",
      "|                 mid|              winner|is_cheating_now|tid|\n",
      "+--------------------+--------------------+---------------+---+\n",
      "|01ab2e3c-2517-4f8...|account.71fe27201...|              0| NA|\n",
      "|085922a5-2a5c-43c...|account.6768e32fd...|              0| NA|\n",
      "|09bf294c-0e06-422...|account.036e8a1a7...|              0| NA|\n",
      "|0a0cb7ee-2423-4ba...|account.9365dbfc4...|              0| NA|\n",
      "|139c1fb2-4679-426...|account.b8840c4e6...|              0| NA|\n",
      "+--------------------+--------------------+---------------+---+\n",
      "only showing top 5 rows\n",
      "\n",
      "+---------------+-------------------+\n",
      "|is_cheating_now|num_of_good_players|\n",
      "+---------------+-------------------+\n",
      "|              0|              26730|\n",
      "|              1|               1486|\n",
      "+---------------+-------------------+\n",
      "\n"
     ]
    }
   ],
   "source": [
    "team_match_edges.registerTempTable(\"td\")\n",
    "data_with_damage = sr.add_damage(team_match_edges, 30)\n",
    "data_with_damage.registerTempTable(\"data_with_damage\")\n",
    "\n",
    "good_performers = spark.sql(\"\"\"SELECT DISTINCT mid, dst, dst_curr_flag AS is_cheating_now, dst_tid AS tid \n",
    "                               FROM data_with_damage WHERE damage = 1 AND dst_tid = 'NA'\"\"\")\n",
    "good_performers.registerTempTable(\"good_performers\")\n",
    "\n",
    "top_30_players = spark.sql(\"SELECT * FROM winners UNION SELECT * FROM good_performers\")\n",
    "top_30_players.registerTempTable(\"top_30_players\")\n",
    "top_30_players.show(5)\n",
    "\n",
    "summary_tab = spark.sql(\"\"\"SELECT is_cheating_now, COUNT(*) AS num_of_good_players FROM top_30_players \n",
    "                           GROUP BY is_cheating_now ORDER BY is_cheating_now\"\"\")\n",
    "summary_tab.show()"
   ]
  },
  {
   "cell_type": "markdown",
   "metadata": {},
   "source": [
    "### 7.9 NUMBER OF PLAYERS WHO PLAYED WITH A CHEATER AT LEAST ONCE"
   ]
  },
  {
   "cell_type": "code",
   "execution_count": 6,
   "metadata": {},
   "outputs": [
    {
     "name": "stdout",
     "output_type": "stream",
     "text": [
      "1185279\n"
     ]
    }
   ],
   "source": [
    "matches_with_cheaters = spark.read.parquet(\"s3://social-research-cheating/general-stats/matches_with_cheaters.parquet\")\n",
    "matches_with_cheaters.registerTempTable(\"matches_with_cheaters\")\n",
    "\n",
    "add_killer_flags = spark.sql(\"\"\"SELECT mid, src, \n",
    "                                CASE WHEN m_date <= ban_date AND m_date >= start_date THEN 1 ELSE 0 END \n",
    "                                AS src_curr_flag, dst, time, m_date, mod \n",
    "                                FROM matches_with_cheaters m LEFT JOIN nodes n ON m.src = n.id\"\"\")\n",
    "add_killer_flags.registerTempTable(\"add_killer_flags\")\n",
    "\n",
    "edges = spark.sql(\"\"\"SELECT mid, src, src_curr_flag, dst, \n",
    "                     CASE WHEN m_date <= ban_date AND m_date >= start_date THEN 1 ELSE 0 END \n",
    "                     AS dst_curr_flag, time, m_date, mod \n",
    "                     FROM add_killer_flags a LEFT JOIN nodes n ON a.dst = n.id\"\"\")\n",
    "edges.registerTempTable(\"edges\")\n",
    "\n",
    "participants = spark.sql(\"\"\"SELECT mid, src AS id, src_curr_flag AS is_cheating_now FROM edges \n",
    "                            UNION SELECT mid, dst, dst_curr_flag FROM edges\"\"\")\n",
    "participants.registerTempTable(\"participants\")\n",
    "\n",
    "unique_non_cheaters = spark.sql(\"SELECT DISTINCT id FROM participants WHERE is_cheating_now = 0\")\n",
    "print(unique_non_cheaters.count())"
   ]
  }
 ],
 "metadata": {
  "kernelspec": {
   "display_name": "Python 3",
   "language": "python",
   "name": "python3"
  },
  "language_info": {
   "codemirror_mode": {
    "name": "ipython",
    "version": 3
   },
   "file_extension": ".py",
   "mimetype": "text/x-python",
   "name": "python",
   "nbconvert_exporter": "python",
   "pygments_lexer": "ipython3",
   "version": "3.7.3"
  },
  "name": "6_general_stats",
  "notebookId": 2613361705856757
 },
 "nbformat": 4,
 "nbformat_minor": 1
}
