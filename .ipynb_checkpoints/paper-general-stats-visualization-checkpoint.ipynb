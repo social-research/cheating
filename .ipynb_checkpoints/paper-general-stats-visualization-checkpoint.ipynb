{
 "cells": [
  {
   "cell_type": "markdown",
   "metadata": {},
   "source": [
    "# General statistics"
   ]
  },
  {
   "cell_type": "code",
   "execution_count": 41,
   "metadata": {},
   "outputs": [],
   "source": [
    "import pandas as pd\n",
    "import matplotlib\n",
    "import matplotlib.pyplot as plt\n",
    "import numpy as np\n",
    "import matplotlib.dates as dates\n",
    "\n",
    "params = {\n",
    "    'text.latex.preamble': ['\\\\usepackage{gensymb}'],\n",
    "    'image.origin': 'lower',\n",
    "    'image.interpolation': 'nearest',\n",
    "    'image.cmap': 'PiYG',\n",
    "    'axes.linewidth': 0.25,\n",
    "    'axes.grid': False,\n",
    "    'savefig.dpi': 400,\n",
    "    'axes.labelsize': 7, # Adjust the font size of x and y labels.\n",
    "    'axes.titlesize': 9,\n",
    "    'axes.facecolor': 'white',\n",
    "    'xtick.major.size': 2,\n",
    "    'ytick.major.width': 0.25,\n",
    "    'ytick.major.size': 2,\n",
    "    'xtick.major.width': 0.25,\n",
    "    'xtick.major.pad': '4',\n",
    "    'ytick.major.pad': '4',\n",
    "    'xtick.minor.size': 2,\n",
    "    'ytick.minor.width': 0.25,\n",
    "    'ytick.minor.size': 2,\n",
    "    'xtick.minor.width': 0.25,\n",
    "    'font.size': 7, \n",
    "    'legend.fontsize': 7,\n",
    "    'xtick.labelsize': 7,\n",
    "    'ytick.labelsize': 7,\n",
    "    'lines.linewidth': 0.25,\n",
    "    'patch.linewidth': 0.25,\n",
    "    #'text.usetex': True,\n",
    "    'figure.figsize': [7, 7],\n",
    "    'font.family': 'sans-serif',\n",
    "    'font.sans-serif': 'Arial'\n",
    "}\n",
    "matplotlib.rcParams.update(params)"
   ]
  },
  {
   "cell_type": "markdown",
   "metadata": {},
   "source": [
    "## 1. Number of days players played the game\n",
    "\n",
    "Players accessed the game for 5.7 days on average. The median value is 3. "
   ]
  },
  {
   "cell_type": "code",
   "execution_count": 42,
   "metadata": {},
   "outputs": [
    {
     "name": "stdout",
     "output_type": "stream",
     "text": [
      "5.766681832927859\n",
      "3.0\n"
     ]
    }
   ],
   "source": [
    "days_df = pd.read_csv(\"data/general_stats/num_of_days.csv\")\n",
    "print(days_df['days'].mean())\n",
    "print(days_df['days'].median())"
   ]
  },
  {
   "cell_type": "markdown",
   "metadata": {},
   "source": [
    "## 2. Matches by day and matches by player"
   ]
  },
  {
   "cell_type": "code",
   "execution_count": 43,
   "metadata": {},
   "outputs": [
    {
     "name": "stdout",
     "output_type": "stream",
     "text": [
      "            num_of_mids day\n",
      "m_date                     \n",
      "2019-03-01        48886   F\n",
      "2019-03-02        48995   S\n",
      "2019-03-03        45696   S\n",
      "2019-03-04        33555   M\n",
      "2019-03-05        30504   T\n",
      "2019-03-06        30434   W\n",
      "2019-03-07        31267   T\n",
      "2019-03-08        36469   F\n",
      "2019-03-09        50479   S\n",
      "2019-03-10        46290   S\n",
      "2019-03-11        29363   M\n",
      "2019-03-12        29157   T\n",
      "2019-03-13        29009   W\n",
      "2019-03-14        29890   T\n",
      "2019-03-15        37090   F\n",
      "2019-03-16        50550   S\n",
      "2019-03-17        45816   S\n",
      "2019-03-18        29833   M\n",
      "2019-03-19        29523   T\n",
      "2019-03-20        29240   W\n",
      "2019-03-21        31193   T\n",
      "2019-03-22        36154   F\n",
      "2019-03-23        50375   S\n",
      "2019-03-24        45624   S\n",
      "2019-03-25        29115   M\n",
      "2019-03-26        27491   T\n",
      "2019-03-27        29446   W\n",
      "2019-03-28        24271   T\n",
      "2019-03-29        36189   F\n",
      "2019-03-30        49550   S\n",
      "2019-03-31        45487   S\n"
     ]
    }
   ],
   "source": [
    "# Count the number of matches by date \n",
    "mids_by_date = pd.read_csv(\"data/general_stats/mids_by_date.csv\")\n",
    "mids_by_date['m_date'] = pd.to_datetime(mids_by_date['m_date'], format='%Y-%m-%d')\n",
    "mids_by_date['day'] = mids_by_date['m_date'].dt.dayofweek\n",
    "days = {0:'M', 1:'T', 2:'W', 3:'T', 4:'F', 5:'S', 6:'S'}\n",
    "mids_by_date['day'] = mids_by_date['day'].apply(lambda x: days[x])\n",
    "mids_by_date = mids_by_date.sort_values(['m_date'])\n",
    "mids_by_date.set_index(['m_date'], inplace=True)\n",
    "print(mids_by_date)"
   ]
  },
  {
   "cell_type": "code",
   "execution_count": 84,
   "metadata": {},
   "outputs": [
    {
     "data": {
      "image/png": "[encoded data removed]",
      "text/plain": [
       "<Figure size 504x158.4 with 2 Axes>"
      ]
     },
     "metadata": {
      "needs_background": "light"
     },
     "output_type": "display_data"
    }
   ],
   "source": [
    "# Plot weekly cycle and number of days playing game\n",
    "\n",
    "fig, ax = plt.subplots(1, 2, figsize=(7, 2.2))\n",
    "mids_by_date.plot(ax=ax[0], c='darkturquoise', lw=0.75)\n",
    "ax[0].set_xticks(mids_by_date.index)\n",
    "ax[0].set_xticklabels(mids_by_date[\"day\"].values)\n",
    "ax[0].get_legend().remove()\n",
    "ax[0].set_ylim(ymin=20000, ymax=55000)\n",
    "ax[0].set_xlabel(\"Day of the week\")\n",
    "ax[0].set_ylabel(\"Number of matches\")\n",
    "ax[0].set_title(\"A\")\n",
    "\n",
    "# Plot the distribution of days players played the game\n",
    "bins = np.arange(0, days_df['days'].max() + 1.5) - 0.5\n",
    "days_df.hist(ax=ax[1], column='days', histtype='step', \n",
    "             weights=np.zeros_like(days_df['days'])+1./len(days_df['days']), \n",
    "             bins=bins, grid=False, color='darkturquoise', lw=0.75)\n",
    "ax[1].set_xlim(xmin=0.5, xmax=31)\n",
    "ax[1].set_xlabel(\"Number of days game played\")\n",
    "ax[1].set_ylabel(\"Proportion of players\")\n",
    "ax[1].set_title(\"B\")\n",
    "plt.tight_layout(w_pad=3)\n",
    "plt.show()\n",
    "fig.savefig('figs/paper/fig_s4.pdf', format='pdf')"
   ]
  },
  {
   "cell_type": "code",
   "execution_count": 45,
   "metadata": {},
   "outputs": [
    {
     "name": "stdout",
     "output_type": "stream",
     "text": [
      "1146941\n"
     ]
    }
   ],
   "source": [
    "# Count the total number of matches.\n",
    "# The answer should be 1,146,941.\n",
    "print(mids_by_date['num_of_mids'].sum())"
   ]
  },
  {
   "cell_type": "markdown",
   "metadata": {},
   "source": [
    "## 3. Stats for cheaters vs. non-cheaters"
   ]
  },
  {
   "cell_type": "code",
   "execution_count": 99,
   "metadata": {},
   "outputs": [
    {
     "data": {
      "image/png": "[encoded data removed]",
      "text/plain": [
       "<Figure size 504x158.4 with 2 Axes>"
      ]
     },
     "metadata": {
      "needs_background": "light"
     },
     "output_type": "display_data"
    }
   ],
   "source": [
    "fig, ax = plt.subplots(1, 2, figsize=(7, 2.2))\n",
    "\n",
    "### Plot a histogram of the average kill ratio for players\n",
    "\n",
    "# Read the average kill ratio for cheaters.\n",
    "c_avg_kill_ratio = pd.read_csv(\"data/cheater_analysis/c_avg_kill_ratio.csv\")\n",
    "# Read the average kill ratio for non-cheaters.\n",
    "nc_avg_kill_ratio = pd.read_csv(\"data/cheater_analysis/nc_avg_kill_ratio.csv\")\n",
    "\n",
    "\n",
    "nc_avg_kill_ratio.hist(column='avg_kill_ratio', histtype='step', edgecolor='darkturquoise', lw=0.75, \n",
    "                       bins=40, label='Non-cheaters', grid = False, ax=ax[0],\n",
    "                       weights=np.zeros_like(nc_avg_kill_ratio['avg_kill_ratio'])+1./len(nc_avg_kill_ratio['avg_kill_ratio']))\n",
    "c_avg_kill_ratio.hist(column='avg_kill_ratio', histtype='step', edgecolor='deeppink', lw=0.75, \n",
    "                      bins=40, label='Cheaters', grid = False, ax=ax[0],\n",
    "                      weights=np.zeros_like(c_avg_kill_ratio['avg_kill_ratio'])+1./len(c_avg_kill_ratio['avg_kill_ratio']))\n",
    "ax[0].set_title('A')\n",
    "ax[0].set_xlim(0, 1)\n",
    "ax[0].set_xlabel('Average kill ratio')\n",
    "ax[0].set_ylabel('Proportion of players')\n",
    "\n",
    "\n",
    "### Plot a histogram of the average time difference between consecutive kills\n",
    "\n",
    "# Read the average kill interval for cheaters.\n",
    "c_avg_kill_interval = pd.read_csv(\"data/cheater_analysis/c_avg_kill_interval.csv\")\n",
    "# Read the average kill interval for non-cheaters.\n",
    "nc_avg_kill_interval = pd.read_csv(\"data/cheater_analysis/nc_avg_kill_interval.csv\")\n",
    "\n",
    "# Plot the histograms of cheaters and non-cheaters together.\n",
    "nc_avg_kill_interval.hist(column='delta', histtype='step', edgecolor='darkturquoise', lw=0.75, \n",
    "                          bins=40, label='Non-cheaters', grid = False, ax=ax[1], \n",
    "                          weights=np.zeros_like(nc_avg_kill_interval['delta'])+1./len(nc_avg_kill_interval['delta']))\n",
    "c_avg_kill_interval.hist(column='delta', histtype='step', edgecolor='deeppink', lw=0.75, \n",
    "                         bins=40, label='Cheaters', grid = False, ax=ax[1], \n",
    "                         weights=np.zeros_like(c_avg_kill_interval['delta'])+1./len(c_avg_kill_interval['delta']))\n",
    "ax[1].set_title('B')\n",
    "ax[1].set_xlabel('Average time difference between kills')\n",
    "ax[1].set_ylabel('Proportion of players')\n",
    "ax[1].set_xlim(0, 1400) # Exclude outliers.\n",
    "ax[1].legend(loc='upper right', frameon=False)\n",
    "\n",
    "plt.tight_layout(w_pad=3)\n",
    "plt.savefig('figs/paper/fig_s2.pdf', format='pdf')\n",
    "plt.show()"
   ]
  },
  {
   "cell_type": "markdown",
   "metadata": {},
   "source": [
    "## 4. Estimated period of cheating"
   ]
  },
  {
   "cell_type": "code",
   "execution_count": 48,
   "metadata": {},
   "outputs": [
    {
     "name": "stdout",
     "output_type": "stream",
     "text": [
      "4.364765100671141\n",
      "2.0\n"
     ]
    }
   ],
   "source": [
    "estim = pd.read_csv(\"data/general_stats/estimated_cheating_time.csv\")\n",
    "print(estim['period'].mean())\n",
    "print(estim['period'].median())"
   ]
  },
  {
   "cell_type": "code",
   "execution_count": 107,
   "metadata": {},
   "outputs": [
    {
     "data": {
      "image/png": "[encoded data removed]",
      "text/plain": [
       "<Figure size 324x158.4 with 1 Axes>"
      ]
     },
     "metadata": {
      "needs_background": "light"
     },
     "output_type": "display_data"
    }
   ],
   "source": [
    "# Plot the distribution of the period of cheating.\n",
    "# The plot contains cheaters who have full performance information.\n",
    "fig, ax = plt.subplots(1, 1, figsize=(4.5, 2.2))\n",
    "bins = np.arange(0, estim['period'].max() + 1.5) - 0.5\n",
    "estim.hist(bins = bins, histtype='step', edgecolor='deeppink', lw=0.75, grid=False, ax=ax)\n",
    "ax.set_title('')\n",
    "ax.set_xlim(0.5, 31)\n",
    "ax.set_xlabel('Period of cheating in days')\n",
    "ax.set_ylabel('Frequency')\n",
    "plt.tight_layout()\n",
    "plt.savefig('figs/paper/fig_s3.pdf', format='pdf')\n",
    "plt.show()"
   ]
  },
  {
   "cell_type": "markdown",
   "metadata": {},
   "source": [
    "## 5. Number of cheaters by ban date"
   ]
  },
  {
   "cell_type": "code",
   "execution_count": 50,
   "metadata": {},
   "outputs": [
    {
     "name": "stdout",
     "output_type": "stream",
     "text": [
      "            num_of_cheaters\n",
      "ban_date                   \n",
      "2019-03-01              103\n",
      "2019-03-02              290\n",
      "2019-03-03              258\n",
      "2019-03-04              312\n",
      "2019-03-05              228\n",
      "2019-03-06              702\n",
      "2019-03-07              262\n",
      "2019-03-08              145\n",
      "2019-03-09              690\n",
      "2019-03-10              135\n",
      "2019-03-11              511\n",
      "2019-03-12              324\n",
      "2019-03-13              188\n",
      "2019-03-14              139\n",
      "2019-03-15              132\n",
      "2019-03-16              107\n",
      "2019-03-17              144\n",
      "2019-03-19              116\n",
      "2019-03-20              112\n",
      "2019-03-21              105\n",
      "2019-03-22              118\n",
      "2019-03-23              176\n",
      "2019-03-24               99\n",
      "2019-03-25               89\n",
      "2019-03-26              170\n",
      "2019-03-27              111\n",
      "2019-03-28               99\n",
      "2019-03-29              114\n",
      "2019-03-30               93\n",
      "2019-03-31               89\n"
     ]
    }
   ],
   "source": [
    "num_of_cheaters = pd.read_csv(\"data/general_stats/num_of_cheaters.csv\")\n",
    "num_of_cheaters['ban_date'] = pd.to_datetime(num_of_cheaters['ban_date'], format='%Y-%m-%d')\n",
    "num_of_cheaters = num_of_cheaters.sort_values(['ban_date'])\n",
    "num_of_cheaters.set_index(['ban_date'], inplace=True)\n",
    "print(num_of_cheaters)"
   ]
  },
  {
   "cell_type": "code",
   "execution_count": 110,
   "metadata": {},
   "outputs": [
    {
     "data": {
      "image/png": "[encoded data removed]",
      "text/plain": [
       "<Figure size 324x158.4 with 1 Axes>"
      ]
     },
     "metadata": {
      "needs_background": "light"
     },
     "output_type": "display_data"
    }
   ],
   "source": [
    "fig, ax = plt.subplots(1, 1, figsize=(4.5, 2.2))\n",
    "num_of_cheaters.plot(c='deeppink', lw=0.75, ax=ax)\n",
    "ax.get_legend().remove()\n",
    "ax.xaxis.set_major_formatter(dates.DateFormatter('%d'))\n",
    "plt.setp(ax.get_xticklabels(), rotation=0, horizontalalignment='center')\n",
    "ax.set_xlabel(\"Date\")\n",
    "ax.set_ylabel(\"Number of banned cheaters\")\n",
    "plt.tight_layout()\n",
    "plt.show() "
   ]
  },
  {
   "cell_type": "code",
   "execution_count": 52,
   "metadata": {},
   "outputs": [
    {
     "name": "stdout",
     "output_type": "stream",
     "text": [
      "6161\n"
     ]
    }
   ],
   "source": [
    "# Count the total number of cheaters.\n",
    "# The answer should be 6,161.\n",
    "print(num_of_cheaters['num_of_cheaters'].sum())"
   ]
  }
 ],
 "metadata": {
  "kernelspec": {
   "display_name": "Python 3",
   "language": "python",
   "name": "python3"
  },
  "language_info": {
   "codemirror_mode": {
    "name": "ipython",
    "version": 3
   },
   "file_extension": ".py",
   "mimetype": "text/x-python",
   "name": "python",
   "nbconvert_exporter": "python",
   "pygments_lexer": "ipython3",
   "version": "3.7.3"
  },
  "name": "6_general_stats",
  "notebookId": 2613361705856757
 },
 "nbformat": 4,
 "nbformat_minor": 1
}
