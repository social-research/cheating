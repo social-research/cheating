{
 "cells": [
  {
   "cell_type": "markdown",
   "metadata": {},
   "source": [
    "## 1 STORING DATA IN AMAZON S3"
   ]
  },
  {
   "cell_type": "code",
   "execution_count": 1,
   "metadata": {},
   "outputs": [],
   "source": [
    "from pyspark.sql.types import StructField, StructType, StringType, IntegerType, TimestampType\n",
    "import pandas as pd\n",
    "import get_data"
   ]
  },
  {
   "cell_type": "markdown",
   "metadata": {},
   "source": [
    "### 1.1 PLAYER DATA\n",
    "\n",
    "| Variable   | Explanation   \n",
    "|:-----------|:-------\n",
    "| id         | ID of the player               \n",
    "| pname      | nickname of the player  \n",
    "| cheating_flag     | 1 if the player was banned, 0 otherwise\n",
    "| ban_date   | date in the format YYYY-MM-DD when the cheater was banned"
   ]
  },
  {
   "cell_type": "code",
   "execution_count": 2,
   "metadata": {},
   "outputs": [
    {
     "name": "stdout",
     "output_type": "stream",
     "text": [
      "+--------------------+---------------+-------------+--------+\n",
      "|                  id|          pname|cheating_flag|ban_date|\n",
      "+--------------------+---------------+-------------+--------+\n",
      "|account.1d0281ff2...|      ulimnet10|            0|      NA|\n",
      "|account.1c295c6c0...|       yoon9242|            0|      NA|\n",
      "|account.a2b8791d5...|        meco001|            0|      NA|\n",
      "|account.e3b1eb159...|         forsir|            0|      NA|\n",
      "|account.65433d8ee...|      jimin0311|            0|      NA|\n",
      "|account.74c0462cd...|namyoonwoo07074|            0|      NA|\n",
      "|account.64d031587...|       wreu1234|            0|      NA|\n",
      "|account.7f874085e...|        kbs4799|            0|      NA|\n",
      "|account.5c8366a6b...|       ssabu110|            0|      NA|\n",
      "|account.d89f4429c...|      gusrb0187|            0|      NA|\n",
      "+--------------------+---------------+-------------+--------+\n",
      "only showing top 10 rows\n",
      "\n"
     ]
    }
   ],
   "source": [
    "node_schema = StructType([StructField(\"id\", StringType(), True),\n",
    "                          StructField(\"pname\", StringType(), True),\n",
    "                          StructField(\"cheating_flag\", IntegerType(), True),\n",
    "                          StructField(\"ban_date\", StringType(), True)])\n",
    "\n",
    "FILE_PATH = \"s3://social-research-cheating/td_nodes.txt\"\n",
    "\n",
    "players = spark.read.options(header='false', delimiter='\\t').schema(node_schema).csv(FILE_PATH)\n",
    "players.write.parquet(\"s3://social-research-cheating/players.parquet\")\n",
    "players.show(10)"
   ]
  },
  {
   "cell_type": "markdown",
   "metadata": {},
   "source": [
    "### 1.2 THE LOG\n",
    "\n",
    "The log used in this analysis is a history of actions done by players in the game.\n",
    "\n",
    "| Variable   | Explanation   \n",
    "|:-----------|:-------\n",
    "| mid         | ID of the match               \n",
    "| src      | ID of the killer  \n",
    "| dst     | ID of the victim \n",
    "| time   | time in the format YYYY-MM-DD HH:MM:SS.SSS Z when the attack (killing) happened\n",
    "| m_date   | date in the format YYYY-MM-DD when the match was played "
   ]
  },
  {
   "cell_type": "code",
   "execution_count": 3,
   "metadata": {},
   "outputs": [],
   "source": [
    "file_nums = [(1, 7), (2, 7), (3, 7), (4, 4), (5, 4), \n",
    "             (6, 4), (7, 4), (8, 5), (9, 7), (10, 6),\n",
    "             (11, 4), (12, 4)]\n",
    "\n",
    "RAW_DATA_PATH = \"s3://social-research-cheating/edges/raw_td.parquet\"\n",
    "\n",
    "for tup in file_nums:\n",
    "    get_data.combine_telemetry_data(tup[0], tup[1], RAW_DATA_PATH)"
   ]
  },
  {
   "cell_type": "code",
   "execution_count": 2,
   "metadata": {
    "scrolled": true
   },
   "outputs": [
    {
     "name": "stdout",
     "output_type": "stream",
     "text": [
      "98319451\n"
     ]
    }
   ],
   "source": [
    "raw_td = spark.read.parquet(\"s3://social-research-cheating/raw_td.parquet\")\n",
    "raw_td.registerTempTable(\"raw_td\")\n",
    "print(raw_td.count())"
   ]
  },
  {
   "cell_type": "markdown",
   "metadata": {},
   "source": [
    "### 1.3 TEAM ID AND RANK DATA OF TEAMS"
   ]
  },
  {
   "cell_type": "code",
   "execution_count": 27,
   "metadata": {},
   "outputs": [],
   "source": [
    "PATH_TO_TEAM_DATA = \"s3://social-research-cheating/team_data.parquet\"\n",
    "PATH_TO_RANK_DATA = \"s3://social-research-cheating/edges/team_ranks.parquet\"\n",
    "\n",
    "get_data.combine_team_data(31, 6, PATH_TO_TEAM_DATA, PATH_TO_RANK_DATA)"
   ]
  },
  {
   "cell_type": "code",
   "execution_count": 3,
   "metadata": {},
   "outputs": [
    {
     "name": "stdout",
     "output_type": "stream",
     "text": [
      "+--------------------+--------------------+---+\n",
      "|                 mid|                  id|tid|\n",
      "+--------------------+--------------------+---+\n",
      "|b6a091d4-2bdb-451...|account.9fbe4bbe5...|  1|\n",
      "|24d0a877-2d20-43a...|account.9ad264163...| 17|\n",
      "|866b5d75-0d8f-497...|account.4c10d9e9f...| 47|\n",
      "|476c22d8-d929-46c...|account.74c896572...| 21|\n",
      "|499aa106-272e-468...|account.bebee03c5...| 29|\n",
      "|355aafa1-b7a2-45c...|account.289b29eda...| 13|\n",
      "|4020041c-a4a6-46f...|account.4d93bc13f...| 35|\n",
      "|450b9c1c-6bd0-4d7...|account.a8a2ff4b7...| 15|\n",
      "|79ca6d6c-8f3a-485...|account.452fb2497...| 30|\n",
      "|02c36bd8-de13-479...|account.1a3ac664c...| 14|\n",
      "+--------------------+--------------------+---+\n",
      "only showing top 10 rows\n",
      "\n",
      "93730706\n"
     ]
    }
   ],
   "source": [
    "team_data = spark.read.parquet(PATH_TO_TEAM_DATA)\n",
    "team_data.show(10)\n",
    "print(team_data.count())"
   ]
  },
  {
   "cell_type": "code",
   "execution_count": 2,
   "metadata": {},
   "outputs": [
    {
     "name": "stdout",
     "output_type": "stream",
     "text": [
      "+--------------------+---+-----+----+----------+\n",
      "|                 mid|tid|  mod|rank|    m_date|\n",
      "+--------------------+---+-----+----+----------+\n",
      "|f905942d-149d-49d...| 38|  duo|   3|2019-03-17|\n",
      "|a8f5eca6-cc65-480...| 15|squad|   7|2019-03-17|\n",
      "|2b708e1f-5496-4fb...| 24|  duo|  29|2019-03-17|\n",
      "|63514f97-098a-496...| 30|  duo|   9|2019-03-17|\n",
      "|3b171f42-13c5-4df...| 26|squad|   5|2019-03-17|\n",
      "+--------------------+---+-----+----+----------+\n",
      "only showing top 5 rows\n",
      "\n"
     ]
    }
   ],
   "source": [
    "rank_data = spark.read.parquet(PATH_TO_RANK_DATA)\n",
    "rank_data.registerTempTable(\"rank_data\")\n",
    "rank_data.show(5)"
   ]
  },
  {
   "cell_type": "markdown",
   "metadata": {},
   "source": [
    "### 1.4 THE LOG OF MATCHES WITH VICTIMS OF CHEATING (INCLUDING SELF-LOOPS)\n",
    "\n",
    "The data used for analyzing the observation-based mechanism should contain self-loops because players who killed themselves (self-loops) cannot observe what happens in the rest of the match after they die. To reduce the data size, we extract the matches with at least one victim of cheating and at least one potential cheater. The number of unique match IDs in the data is 19,216.\n",
    "\n",
    "| Variable   | Explanation   \n",
    "|:-----------|:-------\n",
    "| mid         | ID of the match               \n",
    "| src      | ID of the killer\n",
    "| src_sd      | date in the format YYYY-MM-DD when the killer started cheating ('NA' if the player is a non-cheater)\n",
    "| src_bd      | date in the format YYYY-MM-DD when the killer was banned ('NA' if the player is a non-cheater)\n",
    "| src_curr_flag      | 1 if the killer was cheating on the date when the match was played\n",
    "| src_flag      | 1 if the killer was banned, 0 otherwise\n",
    "| dst     | ID of the victim\n",
    "| dst_sd      | date in the format YYYY-MM-DD when the victim started cheating ('NA' if the player is a non-cheater)\n",
    "| dst_bd      | date in the format YYYY-MM-DD when the victim was banned ('NA' if the player is a non-cheater)\n",
    "| dst_curr_flag      | 1 if the victim was cheating on the date when the match was played\n",
    "| dst_flag      | 1 if the victim was banned, 0 otherwise\n",
    "| time   | time in the format YYYY-MM-DD HH:MM:SS.SSS Z when the attack (killing) happened\n",
    "| m_date   | date in the format YYYY-MM-DD when the match was played"
   ]
  },
  {
   "cell_type": "code",
   "execution_count": 2,
   "metadata": {},
   "outputs": [],
   "source": [
    "PATH_TO_RAW_DATA = \"s3://social-research-cheating/raw_td.parquet\"\n",
    "nodes = spark.read.parquet(\"s3://social-research-cheating/nodes.parquet\")\n",
    "nodes.registerTempTable(\"nodes\")\n",
    "\n",
    "get_data.get_obs_data(PATH_TO_RAW_DATA, nodes)"
   ]
  },
  {
   "cell_type": "code",
   "execution_count": 3,
   "metadata": {},
   "outputs": [
    {
     "name": "stdout",
     "output_type": "stream",
     "text": [
      "1693699\n",
      "7522\n"
     ]
    }
   ],
   "source": [
    "obs_data = spark.read.parquet(\"s3://social-research-cheating/edges/obs_data.parquet\")\n",
    "obs_data.registerTempTable(\"obs_data\")\n",
    "print(obs_data.count())\n",
    "\n",
    "self_loops = spark.sql(\"SELECT * FROM obs_data WHERE src = dst\")\n",
    "print(self_loops.count())"
   ]
  },
  {
   "cell_type": "markdown",
   "metadata": {},
   "source": [
    "### 1.5 THE LOG OF MATCHES WITH VICTIMS OF CHEATING (EXCLUDING SELF-LOOPS)\n",
    "\n",
    "We need the data without self-loops to analyze the victimization-based mechanism. We can simply reuse the data for the observation-based mechanism by getting rid of self-loops from it. Thus, the number of edges is 1,693,699 - 7,522 = 1,686,177.\n",
    "\n",
    "| Variable   | Explanation   \n",
    "|:-----------|:-------\n",
    "| mid         | ID of the match               \n",
    "| src      | ID of the killer\n",
    "| src_sd      | date in the format YYYY-MM-DD when the killer started cheating ('NA' if the player is a non-cheater)\n",
    "| src_bd      | date in the format YYYY-MM-DD when the killer was banned ('NA' if the player is a non-cheater)\n",
    "| src_curr_flag      | 1 if the killer was cheating on the date when the match was played\n",
    "| src_flag      | 1 if the killer was banned, 0 otherwise\n",
    "| dst     | ID of the victim\n",
    "| dst_sd      | date in the format YYYY-MM-DD when the victim started cheating ('NA' if the player is a non-cheater)\n",
    "| dst_bd      | date in the format YYYY-MM-DD when the victim was banned ('NA' if the player is a non-cheater)\n",
    "| dst_flag      | 1 if the victim was banned, 0 otherwise\n",
    "| dst_curr_flag      | 1 if the victim was cheating on the date when the match was played\n",
    "| time   | time in the format YYYY-MM-DD HH:MM:SS.SSS Z when the attack (killing) happened\n",
    "| m_date   | date in the format YYYY-MM-DD when the match was played"
   ]
  },
  {
   "cell_type": "code",
   "execution_count": 6,
   "metadata": {},
   "outputs": [
    {
     "name": "stdout",
     "output_type": "stream",
     "text": [
      "1686177\n"
     ]
    }
   ],
   "source": [
    "spark.read.parquet(\"s3://social-research-cheating/edges/obs_data.parquet\").createOrReplaceTempView(\"obs_data\")\n",
    "vic_data = spark.sql(\"SELECT * FROM obs_data WHERE src != dst\")\n",
    "\n",
    "vic_data.write.parquet(\"s3://social-research-cheating/edges/vic_data.parquet\")\n",
    "print(vic_data.count())"
   ]
  },
  {
   "cell_type": "markdown",
   "metadata": {},
   "source": [
    "### 1.6 IDENTIFYING MATCHES WITH MULTIPLE WINNERS"
   ]
  },
  {
   "cell_type": "markdown",
   "metadata": {},
   "source": [
    "For each match, we need to check the number of winners (or winning teams) and test whether all winners have the same team ID because each game should have only one player or team as a winner in principle."
   ]
  },
  {
   "cell_type": "code",
   "execution_count": 2,
   "metadata": {},
   "outputs": [],
   "source": [
    "obs_data = spark.read.parquet(\"s3://social-research-cheating/edges/obs_data.parquet\")\n",
    "obs_data.registerTempTable(\"obs_data\")\n",
    "\n",
    "team_ids = spark.read.parquet(\"s3://social-research-cheating/edges/tiny_team_data.parquet\")\n",
    "team_ids.registerTempTable(\"team_ids\")\n",
    "\n",
    "nodes = spark.read.parquet(\"s3://social-research-cheating/nodes.parquet\")\n",
    "nodes.registerTempTable(\"nodes\")"
   ]
  },
  {
   "cell_type": "code",
   "execution_count": 4,
   "metadata": {},
   "outputs": [
    {
     "name": "stdout",
     "output_type": "stream",
     "text": [
      "+--------------------+--------------------+-------+----------+--------------------+\n",
      "|                 mid|                 src|src_tid|    m_date|is_potential_cheater|\n",
      "+--------------------+--------------------+-------+----------+--------------------+\n",
      "|164f026b-1ebe-432...|account.003c16440...|     15|2019-03-24|                   0|\n",
      "|df0c2dab-df33-491...|account.003c16440...|     18|2019-03-03|                   0|\n",
      "|e1cca6d6-b6ab-4b0...|account.00f8fc6c0...|      3|2019-03-07|                   0|\n",
      "|04d7073c-2a59-4ea...|account.015a81049...|      4|2019-03-24|                   0|\n",
      "|4c507cfd-6d2a-445...|account.028c2a3e2...|     NA|2019-03-06|                   0|\n",
      "|a170b53b-db37-4a4...|account.028c2a3e2...|     NA|2019-03-06|                   0|\n",
      "|e8d11cc8-3def-42c...|account.0315d621d...|     22|2019-03-03|                   0|\n",
      "|8d05cc01-06e2-4eb...|account.035add3c5...|     NA|2019-03-01|                   0|\n",
      "|0e89cc95-a856-49c...|account.03876ee12...|     16|2019-03-05|                   0|\n",
      "|36439de6-6db2-485...|account.04779d220...|     NA|2019-03-12|                   0|\n",
      "+--------------------+--------------------+-------+----------+--------------------+\n",
      "only showing top 10 rows\n",
      "\n"
     ]
    }
   ],
   "source": [
    "match_info = spark.sql(\"SELECT DISTINCT mid, m_date FROM obs_data\")\n",
    "match_info.registerTempTable(\"match_info\")\n",
    "\n",
    "victims = spark.sql(\"SELECT DISTINCT mid, dst FROM obs_data\")\n",
    "victims.registerTempTable(\"victims\")\n",
    "\n",
    "winners = spark.sql(\"\"\"SELECT DISTINCT o.mid, src FROM obs_data o \n",
    "                       WHERE NOT EXISTS (SELECT mid, dst FROM victims v WHERE o.mid = v.mid AND o.src = v.dst)\"\"\")\n",
    "winners.registerTempTable(\"winners\")\n",
    "\n",
    "add_tids = spark.sql(\"\"\"SELECT w.mid, src, CASE WHEN tid IS NULL THEN 'NA' ELSE tid END AS src_tid\n",
    "                        FROM winners w LEFT JOIN team_ids t ON w.mid = t.mid AND w.src = t.id\"\"\")\n",
    "add_tids.registerTempTable(\"add_tids\")\n",
    "\n",
    "# Get a list of matches where at least one winner has no team ID.\n",
    "missing_tids = spark.sql(\"SELECT DISTINCT mid FROM add_tids WHERE src_tid = 'NA'\")\n",
    "missing_tids.registerTempTable(\"missing_tids\")\n",
    "\n",
    "add_dates = spark.sql(\"\"\"SELECT a.mid, src, src_tid, m_date \n",
    "                         FROM add_tids a LEFT JOIN match_info m ON a.mid = m.mid\"\"\")\n",
    "add_dates.registerTempTable(\"add_dates\")\n",
    "\n",
    "winners = spark.sql(\"\"\"SELECT a.*, \n",
    "                       CASE WHEN cheating_flag = 1 AND m_date < start_date THEN 1 ELSE 0 END AS is_potential_cheater \n",
    "                       FROM add_dates a LEFT JOIN nodes p ON a.src = p.id\"\"\")\n",
    "winners.registerTempTable(\"winners\")\n",
    "winners.show(10)"
   ]
  },
  {
   "cell_type": "code",
   "execution_count": 6,
   "metadata": {},
   "outputs": [
    {
     "name": "stdout",
     "output_type": "stream",
     "text": [
      "+--------------------+--------------+------------+-------------------------+---------------+\n",
      "|                 mid|num_of_winners|num_of_teams|num_of_potential_cheaters|has_missing_tid|\n",
      "+--------------------+--------------+------------+-------------------------+---------------+\n",
      "|0143e2da-14d2-4d8...|             9|           6|                        0|              0|\n",
      "|036a8903-186b-45f...|             4|           2|                        0|              0|\n",
      "|080d5622-6b94-4d7...|             3|           2|                        0|              0|\n",
      "|0c7d472e-5064-4d4...|             2|           2|                        0|              0|\n",
      "|0ef25288-88d3-476...|             2|           1|                        0|              0|\n",
      "|1203abce-50ec-40d...|             4|           4|                        0|              0|\n",
      "|1574a6bb-a63f-473...|             5|           2|                        0|              0|\n",
      "|16d6f605-4118-4de...|             4|           3|                        0|              0|\n",
      "|1773f8d7-b807-439...|             3|           2|                        0|              0|\n",
      "|194e1d81-b65c-4dc...|             4|           2|                        0|              0|\n",
      "+--------------------+--------------+------------+-------------------------+---------------+\n",
      "only showing top 10 rows\n",
      "\n"
     ]
    }
   ],
   "source": [
    "winner_stats = spark.sql(\"\"\"SELECT mid, COUNT(src) AS num_of_winners, \n",
    "                            COUNT(DISTINCT src_tid) AS num_of_teams, \n",
    "                            SUM(is_potential_cheater) AS num_of_potential_cheaters \n",
    "                            FROM winners GROUP BY mid\"\"\")\n",
    "winner_stats.registerTempTable(\"winner_stats\")\n",
    "\n",
    "summary_table = spark.sql(\"\"\"SELECT w.mid, num_of_winners, num_of_teams, \n",
    "                             num_of_potential_cheaters, \n",
    "                             CASE WHEN n.mid IS NULL THEN 0 ELSE 1 END AS has_missing_tid \n",
    "                             FROM winner_stats w LEFT JOIN missing_tids n \n",
    "                             ON w.mid = n.mid\"\"\")\n",
    "summary_table.show(10)\n",
    "# summary_table.write.parquet(\"s3://social-research-cheating/general-stats/stats_of_winners.parquet\")"
   ]
  },
  {
   "cell_type": "code",
   "execution_count": 10,
   "metadata": {},
   "outputs": [
    {
     "name": "stdout",
     "output_type": "stream",
     "text": [
      "+--------------------+--------------+------------+-------------------------+---------------+\n",
      "|                 mid|num_of_winners|num_of_teams|num_of_potential_cheaters|has_missing_tid|\n",
      "+--------------------+--------------+------------+-------------------------+---------------+\n",
      "|013caebc-8504-4d7...|             4|           4|                        1|              0|\n",
      "|0bd6149a-c6f5-4ed...|             9|           7|                        1|              0|\n",
      "|0c2c1334-9af0-41d...|            11|           6|                        1|              0|\n",
      "|2dc03f99-5d44-42e...|             7|           5|                        1|              0|\n",
      "|35866cf5-93de-48a...|             4|           2|                        1|              0|\n",
      "+--------------------+--------------+------------+-------------------------+---------------+\n",
      "only showing top 5 rows\n",
      "\n",
      "1964\n",
      "+--------------------+--------------+------------+-------------------------+---------------+\n",
      "|                 mid|num_of_winners|num_of_teams|num_of_potential_cheaters|has_missing_tid|\n",
      "+--------------------+--------------+------------+-------------------------+---------------+\n",
      "|9d8edf15-f814-48f...|             5|           2|                        1|              1|\n",
      "|b2c7e5a4-f0f0-48d...|             5|           3|                        1|              1|\n",
      "|dfae8103-19b6-4c1...|             7|           6|                        1|              1|\n",
      "|b62ae865-af8e-4e3...|             3|           2|                        2|              1|\n",
      "|2da2cc0d-41d1-487...|             9|           5|                        1|              1|\n",
      "+--------------------+--------------+------------+-------------------------+---------------+\n",
      "only showing top 5 rows\n",
      "\n",
      "73\n"
     ]
    }
   ],
   "source": [
    "summary_table = spark.read.parquet(\"s3://social-research-cheating/general-stats/stats_of_winners.parquet\")\n",
    "summary_table.registerTempTable(\"summary_table\")\n",
    "\n",
    "multiple_winners = spark.sql(\"\"\"SELECT * FROM summary_table \n",
    "                                WHERE num_of_teams > 1 AND num_of_potential_cheaters > 0\"\"\")\n",
    "multiple_winners.show(5)\n",
    "print(multiple_winners.count())\n",
    "\n",
    "# Get a list of matches where multiple winners with different team IDs exist and at least one of their team IDs is 'NA'.\n",
    "invalid_matches = spark.sql(\"\"\"SELECT * FROM summary_table \n",
    "                               WHERE num_of_teams > 1 AND num_of_potential_cheaters > 0 AND has_missing_tid = 1\"\"\")\n",
    "invalid_matches.show(5)\n",
    "print(invalid_matches.count())"
   ]
  },
  {
   "cell_type": "markdown",
   "metadata": {},
   "source": [
    "### 1.7 ADDITIONAL SELF-LOOPS"
   ]
  },
  {
   "cell_type": "markdown",
   "metadata": {},
   "source": [
    "First, we need to add extra self-loops for the matches where multiple winners with different team IDs exist but none of them have 'NA' as their team IDs."
   ]
  },
  {
   "cell_type": "code",
   "execution_count": 2,
   "metadata": {},
   "outputs": [],
   "source": [
    "obs_data = spark.read.parquet(\"s3://social-research-cheating/edges/obs_data.parquet\")\n",
    "obs_data.registerTempTable(\"obs_data\")\n",
    "\n",
    "team_ids = spark.read.parquet(\"s3://social-research-cheating/edges/tiny_team_data.parquet\")\n",
    "team_ids.registerTempTable(\"team_ids\")\n",
    "\n",
    "# The table below contains the ranks of players for 1,964 team matches. \n",
    "team_ranks = spark.read.parquet(\"s3://social-research-cheating/edges/ordered_ranks.parquet\")\n",
    "team_ranks.registerTempTable(\"team_ranks\")\n",
    "\n",
    "nodes = spark.read.parquet(\"s3://social-research-cheating/nodes.parquet\")\n",
    "nodes.registerTempTable(\"nodes\")"
   ]
  },
  {
   "cell_type": "code",
   "execution_count": 3,
   "metadata": {},
   "outputs": [
    {
     "name": "stdout",
     "output_type": "stream",
     "text": [
      "1964\n"
     ]
    }
   ],
   "source": [
    "summary_table = spark.read.parquet(\"s3://social-research-cheating/general-stats/stats_of_winners.parquet\")\n",
    "summary_table.registerTempTable(\"summary_table\")\n",
    "\n",
    "invalid_matches = spark.sql(\"\"\"SELECT * FROM summary_table \n",
    "                               WHERE num_of_teams > 1 AND num_of_potential_cheaters > 0\"\"\")\n",
    "invalid_matches.registerTempTable(\"invalid_matches\")\n",
    "print(invalid_matches.count())\n",
    "\n",
    "sampled_obs = spark.sql(\"SELECT o.* FROM obs_data o JOIN invalid_matches i ON o.mid = i.mid\")\n",
    "sampled_obs.registerTempTable(\"sampled_obs\")\n",
    "\n",
    "add_killer_tids = spark.sql(\"\"\"SELECT s.*, CASE WHEN tid IS NULL THEN 'NA' ELSE tid END AS src_tid \n",
    "                               FROM sampled_obs s LEFT JOIN team_ids t ON s.mid = t.mid AND s.src = t.id\"\"\")\n",
    "add_killer_tids.registerTempTable(\"add_killer_tids\")\n",
    "\n",
    "add_tids = spark.sql(\"\"\"SELECT a.*, CASE WHEN tid IS NULL THEN 'NA' ELSE tid END AS dst_tid \n",
    "                        FROM add_killer_tids a LEFT JOIN team_ids t \n",
    "                        ON a.mid = t.mid AND a.dst = t.id\"\"\")\n",
    "add_tids.registerTempTable(\"add_tids\")"
   ]
  },
  {
   "cell_type": "code",
   "execution_count": 7,
   "metadata": {},
   "outputs": [
    {
     "name": "stdout",
     "output_type": "stream",
     "text": [
      "+--------------------+--------------------+-------+----------+--------------------+\n",
      "|                 mid|                 src|src_tid|    m_date|is_potential_cheater|\n",
      "+--------------------+--------------------+-------+----------+--------------------+\n",
      "|44925719-4ae3-421...|account.175b7548e...|     14|2019-03-10|                   1|\n",
      "|21330d5b-0ba7-420...|account.175b7548e...|     23|2019-03-10|                   1|\n",
      "|110662d0-787d-49f...|account.175b7548e...|     26|2019-03-17|                   1|\n",
      "|82021728-9cd8-4e6...|account.175b7548e...|     19|2019-03-10|                   1|\n",
      "|130ffdf8-f954-436...|account.175b7548e...|     10|2019-03-17|                   1|\n",
      "+--------------------+--------------------+-------+----------+--------------------+\n",
      "only showing top 5 rows\n",
      "\n"
     ]
    }
   ],
   "source": [
    "victims = spark.sql(\"SELECT mid, dst FROM sampled_obs\")\n",
    "victims.registerTempTable(\"victims\")\n",
    "\n",
    "winners = spark.sql(\"\"\"SELECT DISTINCT o.mid, src, src_tid, m_date FROM add_tids o \n",
    "                       WHERE NOT EXISTS (SELECT mid, dst FROM victims v WHERE o.mid = v.mid AND o.src = v.dst)\"\"\")\n",
    "winners.registerTempTable(\"winners\")\n",
    "\n",
    "winners_with_flags = spark.sql(\"\"\"SELECT t.*, \n",
    "                                  CASE WHEN cheating_flag = 1 AND m_date < start_date THEN 1 ELSE 0 END \n",
    "                                  AS is_potential_cheater \n",
    "                                  FROM winners t LEFT JOIN nodes n ON t.src = n.id\"\"\")\n",
    "winners_with_flags.registerTempTable(\"winners_with_flags\")\n",
    "\n",
    "# Get a list of winners (with team IDs) who are potential cheaters.\n",
    "potential_cheaters = spark.sql(\"\"\"SELECT * FROM winners_with_flags \n",
    "                                  WHERE is_potential_cheater = 1 AND src_tid != 'NA'\"\"\")\n",
    "potential_cheaters.registerTempTable(\"potential_cheaters\")\n",
    "potential_cheaters.show(5)"
   ]
  },
  {
   "cell_type": "code",
   "execution_count": 10,
   "metadata": {},
   "outputs": [
    {
     "name": "stdout",
     "output_type": "stream",
     "text": [
      "+--------------------+--------------------+-------+--------+\n",
      "|                 mid|                 src|src_tid|src_rank|\n",
      "+--------------------+--------------------+-------+--------+\n",
      "|110662d0-787d-49f...|account.175b7548e...|     26|       4|\n",
      "|130ffdf8-f954-436...|account.175b7548e...|     10|       4|\n",
      "|82021728-9cd8-4e6...|account.175b7548e...|     19|       9|\n",
      "|0031e4e0-b475-46d...|account.175b7548e...|     20|      15|\n",
      "|7ce8d183-c8e9-42f...|account.175b7548e...|      3|      23|\n",
      "+--------------------+--------------------+-------+--------+\n",
      "only showing top 5 rows\n",
      "\n"
     ]
    }
   ],
   "source": [
    "add_ranks = spark.sql(\"\"\"SELECT w.mid, src, src_tid, \n",
    "                         CASE WHEN rank IS NULL THEN 'NA' ELSE rank END AS src_rank \n",
    "                         FROM potential_cheaters w LEFT JOIN team_ranks t \n",
    "                         ON w.mid = t.mid AND w.src_tid = t.tid WHERE rank != 1\"\"\")\n",
    "add_ranks.registerTempTable(\"add_ranks\")\n",
    "add_ranks.show(5)"
   ]
  },
  {
   "cell_type": "code",
   "execution_count": 13,
   "metadata": {},
   "outputs": [
    {
     "name": "stdout",
     "output_type": "stream",
     "text": [
      "+--------------------+--------------------+-------+--------+-------+--------+--------+---------+\n",
      "|                 mid|                 src|src_tid|src_rank|lag_tid|lag_rank|lead_tid|lead_rank|\n",
      "+--------------------+--------------------+-------+--------+-------+--------+--------+---------+\n",
      "|130ffdf8-f954-436...|account.175b7548e...|     10|       4|     20|       3|      25|        6|\n",
      "|82021728-9cd8-4e6...|account.175b7548e...|     19|       9|      8|       8|      27|       10|\n",
      "|7ce8d183-c8e9-42f...|account.175b7548e...|      3|      23|     25|      22|      13|       23|\n",
      "|0031e4e0-b475-46d...|account.175b7548e...|     20|      15|     21|      14|      11|       16|\n",
      "|110662d0-787d-49f...|account.175b7548e...|     26|       4|     15|       3|      32|        5|\n",
      "+--------------------+--------------------+-------+--------+-------+--------+--------+---------+\n",
      "only showing top 5 rows\n",
      "\n"
     ]
    }
   ],
   "source": [
    "rank_table = spark.sql(\"\"\"SELECT mid, tid, rank, \n",
    "                          LAG(tid) OVER (ORDER BY mid, rank) AS lag_tid, \n",
    "                          LAG(rank) OVER (ORDER BY mid, rank) AS lag_rank, \n",
    "                          LEAD(tid) OVER (ORDER BY mid, rank) AS lead_tid, \n",
    "                          LEAD(rank) OVER (ORDER BY mid, rank) AS lead_rank \n",
    "                          FROM team_ranks\"\"\")\n",
    "rank_table.registerTempTable(\"rank_table\")\n",
    "\n",
    "rank_info = spark.sql(\"\"\"SELECT a.mid, src, src_tid, src_rank, lag_tid, lag_rank, lead_tid, lead_rank \n",
    "                         FROM add_ranks a JOIN rank_table t ON a.mid = t.mid AND a.src_tid = t.tid\"\"\")\n",
    "rank_info.registerTempTable(\"rank_info\")\n",
    "rank_info.show(5)"
   ]
  },
  {
   "cell_type": "markdown",
   "metadata": {},
   "source": [
    "The cell below uses an example match to explain how we detect potential cheaters who need self-loops among multiple winners."
   ]
  },
  {
   "cell_type": "code",
   "execution_count": 14,
   "metadata": {},
   "outputs": [
    {
     "name": "stdout",
     "output_type": "stream",
     "text": [
      "+--------------------+--------------------+-------+----------+--------------------+\n",
      "|                 mid|                 src|src_tid|    m_date|is_potential_cheater|\n",
      "+--------------------+--------------------+-------+----------+--------------------+\n",
      "|013caebc-8504-4d7...|account.c9a9eaa2a...|     50|2019-03-07|                   0|\n",
      "|013caebc-8504-4d7...|account.3e5396b91...|      6|2019-03-07|                   0|\n",
      "|013caebc-8504-4d7...|account.577f76fe0...|     36|2019-03-07|                   1|\n",
      "|013caebc-8504-4d7...|account.0e2dd932a...|      9|2019-03-07|                   0|\n",
      "+--------------------+--------------------+-------+----------+--------------------+\n",
      "\n",
      "+--------------------+--------------------+-------+--------+\n",
      "|                 mid|                 src|src_tid|src_rank|\n",
      "+--------------------+--------------------+-------+--------+\n",
      "|013caebc-8504-4d7...|account.577f76fe0...|     36|      13|\n",
      "+--------------------+--------------------+-------+--------+\n",
      "\n",
      "+--------------------+--------------------+-------+--------+-------+--------+--------+---------+\n",
      "|                 mid|                 src|src_tid|src_rank|lag_tid|lag_rank|lead_tid|lead_rank|\n",
      "+--------------------+--------------------+-------+--------+-------+--------+--------+---------+\n",
      "|013caebc-8504-4d7...|account.577f76fe0...|     36|      13|      5|      12|       7|       13|\n",
      "+--------------------+--------------------+-------+--------+-------+--------+--------+---------+\n",
      "\n"
     ]
    }
   ],
   "source": [
    "example_winners = spark.sql(\"\"\"SELECT * FROM winners_with_flags \n",
    "                               WHERE mid = '013caebc-8504-4d71-be02-a082ddccda9a'\"\"\")\n",
    "example_winners.show()\n",
    "\n",
    "example_potential_cheater_ranks = spark.sql(\"\"\"SELECT * FROM add_ranks \n",
    "                                               WHERE mid = '013caebc-8504-4d71-be02-a082ddccda9a'\"\"\")\n",
    "example_potential_cheater_ranks.show()\n",
    "\n",
    "example_rank_info = spark.sql(\"\"\"SELECT * FROM rank_info \n",
    "                                 WHERE mid = '013caebc-8504-4d71-be02-a082ddccda9a'\"\"\")\n",
    "example_rank_info.show()"
   ]
  },
  {
   "cell_type": "code",
   "execution_count": 16,
   "metadata": {},
   "outputs": [],
   "source": [
    "# Add the time when the last team member died for each match.\n",
    "add_lag_time = spark.sql(\"\"\"SELECT mid, src, src_tid, src_rank, \n",
    "                            lag_tid, lag_rank, lag_time, lead_tid, lead_rank \n",
    "                            FROM (SELECT l.*, time AS lag_time, \n",
    "                            ROW_NUMBER() OVER (PARTITION BY l.mid, l.src, l.src_tid ORDER BY time DESC) AS row_number \n",
    "                            FROM rank_info l JOIN add_tids a \n",
    "                            ON l.lag_tid = a.dst_tid AND l.mid = a.mid) \n",
    "                            WHERE row_number IN (1)\"\"\")\n",
    "add_lag_time.registerTempTable(\"add_lag_time\")\n",
    "\n",
    "add_time = spark.sql(\"\"\"SELECT mid, src, src_tid, src_rank, lag_tid, lag_rank, lag_time, \n",
    "                        lead_tid, lead_rank, lead_time \n",
    "                        FROM (SELECT l.*, time AS lead_time, \n",
    "                        ROW_NUMBER() OVER (PARTITION BY l.mid, l.src, l.src_tid ORDER BY time DESC) AS row_number \n",
    "                        FROM add_lag_time l JOIN add_tids a ON l.lead_tid = a.dst_tid AND l.mid = a.mid) \n",
    "                        WHERE row_number IN (1)\"\"\")\n",
    "add_time.registerTempTable(\"add_time\")\n",
    "\n",
    "add_time_diffs = spark.sql(\"\"\"SELECT *, (UNIX_TIMESTAMP(lag_time) - UNIX_TIMESTAMP(lead_time)) AS time_diff \n",
    "                              FROM add_time\"\"\")\n",
    "add_time_diffs.registerTempTable(\"add_time_diffs\")\n",
    "\n",
    "add_new_time = spark.sql(\"\"\"SELECT *, \n",
    "                            CASE WHEN lag_rank = 1 AND time_diff < 0\n",
    "                            THEN TO_TIMESTAMP(FROM_UNIXTIME(UNIX_TIMESTAMP(lead_time) + 1))\n",
    "                            WHEN lead_rank = 1 THEN lag_time\n",
    "                            WHEN lead_rank != 1 AND lag_rank != 1 AND time_diff < 0\n",
    "                            THEN TO_TIMESTAMP(FROM_UNIXTIME(UNIX_TIMESTAMP(lead_time) + 1))\n",
    "                            ELSE TO_TIMESTAMP(FROM_UNIXTIME(UNIX_TIMESTAMP(lead_time) + FLOOR(0 + (RAND() * time_diff)))) END \n",
    "                            AS new_time\n",
    "                            FROM add_time_diffs\"\"\")\n",
    "add_new_time.registerTempTable(\"add_new_time\")"
   ]
  },
  {
   "cell_type": "code",
   "execution_count": 19,
   "metadata": {},
   "outputs": [],
   "source": [
    "player_info = spark.sql(\"\"\"SELECT DISTINCT mid, src AS id, src_sd AS sd, src_bd AS bd, \n",
    "                           src_curr_flag AS curr_flag, src_flag AS flag, m_date \n",
    "                           FROM sampled_obs \n",
    "                           UNION \n",
    "                           SELECT DISTINCT mid, dst, dst_sd, dst_bd, \n",
    "                           dst_curr_flag, dst_flag, m_date \n",
    "                           FROM sampled_obs\"\"\")\n",
    "player_info.registerTempTable(\"player_info\")\n",
    "\n",
    "self_loops = spark.sql(\"\"\"SELECT a.mid, src, sd, bd, curr_flag, flag, \n",
    "                          src, sd, bd, curr_flag, flag, new_time AS time, m_date \n",
    "                          FROM add_new_time a JOIN player_info p ON a.mid = p.mid AND a.src = p.id\"\"\")\n",
    "self_loops.registerTempTable(\"self_loops\")"
   ]
  },
  {
   "cell_type": "code",
   "execution_count": 21,
   "metadata": {},
   "outputs": [
    {
     "name": "stdout",
     "output_type": "stream",
     "text": [
      "+--------------------+--------------------+----------+----------+---------+----+--------------------+----------+----------+---------+----+-------------------+----------+\n",
      "|                 mid|                 src|        sd|        bd|curr_flag|flag|                 src|        sd|        bd|curr_flag|flag|               time|    m_date|\n",
      "+--------------------+--------------------+----------+----------+---------+----+--------------------+----------+----------+---------+----+-------------------+----------+\n",
      "|013caebc-8504-4d7...|account.577f76fe0...|2019-03-08|2019-03-09|        0|   1|account.577f76fe0...|2019-03-08|2019-03-09|        0|   1|2019-03-07 11:48:22|2019-03-07|\n",
      "+--------------------+--------------------+----------+----------+---------+----+--------------------+----------+----------+---------+----+-------------------+----------+\n",
      "\n"
     ]
    }
   ],
   "source": [
    "# The following example is a self-loop of the potential cheater in the example match shown above.\n",
    "example_self_loop = spark.sql(\"SELECT * FROM self_loops WHERE mid = '013caebc-8504-4d71-be02-a082ddccda9a'\")\n",
    "example_self_loop.show()"
   ]
  },
  {
   "cell_type": "markdown",
   "metadata": {},
   "source": [
    "The next task is to create additional self-loops for the matches where multiple winners have different team IDs including 'NA'. In this case, we don't have any hints on how to estimate the exact time of death (because we don't have the ranks of single players). "
   ]
  },
  {
   "cell_type": "code",
   "execution_count": 24,
   "metadata": {},
   "outputs": [
    {
     "name": "stdout",
     "output_type": "stream",
     "text": [
      "+--------------------+--------------------+-------+----------+--------------------+\n",
      "|                 mid|                 src|src_tid|    m_date|is_potential_cheater|\n",
      "+--------------------+--------------------+-------+----------+--------------------+\n",
      "|f2f76e66-9fb7-40d...|account.57d64f776...|     NA|2019-03-27|                   1|\n",
      "|6283fdb3-c24d-413...|account.f24c22165...|     NA|2019-03-05|                   1|\n",
      "|99a629b2-f4e3-42e...|account.cdd20db96...|     NA|2019-03-03|                   1|\n",
      "|bbe25e99-755d-4ca...|account.cdd20db96...|     NA|2019-03-04|                   1|\n",
      "|12bcdfe5-34a4-473...|account.81f027093...|     NA|2019-03-06|                   1|\n",
      "+--------------------+--------------------+-------+----------+--------------------+\n",
      "only showing top 5 rows\n",
      "\n",
      "17\n"
     ]
    }
   ],
   "source": [
    "potential_cheaters_without_team_ids = spark.sql(\"\"\"SELECT * FROM winners_with_flags \n",
    "                                                   WHERE is_potential_cheater = 1 AND src_tid = 'NA'\"\"\")\n",
    "potential_cheaters_without_team_ids.registerTempTable(\"potential_cheaters_without_team_ids\")\n",
    "potential_cheaters_without_team_ids.show(5)\n",
    "print(potential_cheaters_without_team_ids.count())"
   ]
  },
  {
   "cell_type": "markdown",
   "metadata": {},
   "source": [
    "Given the time difference between the last killing done by a player and the end time of the match, we can create a new random time of death for each player who needs a self-loop. If the value of 'time_diff' is zero, this means that the killer is the winner who is ranked first because the end time of the match corresponds with the time of the last killing done by the killer. Thus, we can ignore that case as there is no need to create a self-loop."
   ]
  },
  {
   "cell_type": "code",
   "execution_count": 27,
   "metadata": {},
   "outputs": [
    {
     "name": "stdout",
     "output_type": "stream",
     "text": [
      "+--------------------+--------------------+--------------------+---------+\n",
      "|                 mid|                 src|                time|time_diff|\n",
      "+--------------------+--------------------+--------------------+---------+\n",
      "|f2f76e66-9fb7-40d...|account.57d64f776...|2019-03-27 08:41:...|     1676|\n",
      "|0e85fbcc-0d91-4f0...|account.9ccecb41a...|2019-03-06 10:15:...|        0|\n",
      "|b2c7e5a4-f0f0-48d...|account.ac666be40...|2019-03-03 20:26:...|      374|\n",
      "|bac58a82-62ca-485...|account.d8fc8cfc9...|2019-03-03 17:42:...|       44|\n",
      "|f54ab324-6b31-474...|account.44b0bd971...|2019-03-04 15:46:...|        0|\n",
      "|483a0e46-2d62-444...|account.4d2951657...|2019-03-13 08:19:...|        0|\n",
      "|bbe25e99-755d-4ca...|account.cdd20db96...|2019-03-04 12:33:...|     1497|\n",
      "|cb84a1ce-cd19-427...|account.88cca8d42...|2019-03-04 21:40:...|      871|\n",
      "|6283fdb3-c24d-413...|account.f24c22165...|2019-03-05 15:50:...|     1208|\n",
      "|b62ae865-af8e-4e3...|account.9c45a718a...|2019-03-03 21:27:...|        0|\n",
      "|99a629b2-f4e3-42e...|account.cdd20db96...|2019-03-03 13:59:...|     1259|\n",
      "|be2c6092-f9d3-4a2...|account.c6f71a3c5...|2019-03-04 18:50:...|      893|\n",
      "|093eb054-176b-4b9...|account.216ad15bd...|2019-03-01 18:27:...|      232|\n",
      "|49c7f662-d993-4f1...|account.2ec6e051e...|2019-03-02 21:04:...|        0|\n",
      "|3a625aed-fd57-49a...|account.8a36fc4f2...|2019-03-02 18:42:...|      136|\n",
      "|12bcdfe5-34a4-473...|account.81f027093...|2019-03-06 12:20:...|      235|\n",
      "|e07ee2f5-3e55-4c6...|account.dcb3d29db...|2019-03-02 13:37:...|      789|\n",
      "+--------------------+--------------------+--------------------+---------+\n",
      "\n"
     ]
    }
   ],
   "source": [
    "# Get the last killing of each match.\n",
    "last_kills = spark.sql(\"\"\"SELECT * \n",
    "                          FROM (SELECT o.*, ROW_NUMBER() OVER (PARTITION BY mid ORDER BY time DESC) AS row_number \n",
    "                          FROM sampled_obs AS o) WHERE row_number = 1\"\"\")\n",
    "last_kills.registerTempTable(\"last_kills\")\n",
    "\n",
    "# Find the last killing of each winner whose team ID is 'NA'.\n",
    "single_winner_kills = spark.sql(\"\"\"SELECT * \n",
    "                                   FROM (SELECT o.*, \n",
    "                                   ROW_NUMBER() OVER (PARTITION BY w.mid, w.src ORDER BY time DESC) AS row_number \n",
    "                                   FROM sampled_obs o JOIN potential_cheaters_without_team_ids w \n",
    "                                   ON o.mid = w.mid AND o.src = w.src) \n",
    "                                   WHERE row_number = 1\"\"\")\n",
    "single_winner_kills.registerTempTable(\"single_winner_kills\")\n",
    "\n",
    "cal_time_diff = spark.sql(\"\"\"SELECT n.mid, n.src, n.time,  \n",
    "                             (UNIX_TIMESTAMP(l.time) - UNIX_TIMESTAMP(n.time)) AS time_diff\n",
    "                             FROM single_winner_kills n JOIN last_kills l ON n.mid = l.mid\"\"\")\n",
    "cal_time_diff.registerTempTable(\"cal_time_diff\")\n",
    "cal_time_diff.show()"
   ]
  },
  {
   "cell_type": "code",
   "execution_count": 28,
   "metadata": {},
   "outputs": [
    {
     "name": "stdout",
     "output_type": "stream",
     "text": [
      "+--------------------+--------------------+--------------------+---------+-------------------+\n",
      "|                 mid|                 src|                time|time_diff|           new_time|\n",
      "+--------------------+--------------------+--------------------+---------+-------------------+\n",
      "|f2f76e66-9fb7-40d...|account.57d64f776...|2019-03-27 08:41:...|     1676|2019-03-27 08:51:56|\n",
      "|0e85fbcc-0d91-4f0...|account.9ccecb41a...|2019-03-06 10:15:...|        0|               null|\n",
      "|b2c7e5a4-f0f0-48d...|account.ac666be40...|2019-03-03 20:26:...|      374|2019-03-03 20:27:24|\n",
      "|bac58a82-62ca-485...|account.d8fc8cfc9...|2019-03-03 17:42:...|       44|2019-03-03 17:42:44|\n",
      "|f54ab324-6b31-474...|account.44b0bd971...|2019-03-04 15:46:...|        0|               null|\n",
      "|483a0e46-2d62-444...|account.4d2951657...|2019-03-13 08:19:...|        0|               null|\n",
      "|bbe25e99-755d-4ca...|account.cdd20db96...|2019-03-04 12:33:...|     1497|2019-03-04 12:35:28|\n",
      "|cb84a1ce-cd19-427...|account.88cca8d42...|2019-03-04 21:40:...|      871|2019-03-04 21:46:41|\n",
      "|6283fdb3-c24d-413...|account.f24c22165...|2019-03-05 15:50:...|     1208|2019-03-05 16:00:31|\n",
      "|b62ae865-af8e-4e3...|account.9c45a718a...|2019-03-03 21:27:...|        0|               null|\n",
      "|99a629b2-f4e3-42e...|account.cdd20db96...|2019-03-03 13:59:...|     1259|2019-03-03 14:17:55|\n",
      "|be2c6092-f9d3-4a2...|account.c6f71a3c5...|2019-03-04 18:50:...|      893|2019-03-04 19:02:18|\n",
      "|093eb054-176b-4b9...|account.216ad15bd...|2019-03-01 18:27:...|      232|2019-03-01 18:27:36|\n",
      "|49c7f662-d993-4f1...|account.2ec6e051e...|2019-03-02 21:04:...|        0|               null|\n",
      "|3a625aed-fd57-49a...|account.8a36fc4f2...|2019-03-02 18:42:...|      136|2019-03-02 18:44:05|\n",
      "|12bcdfe5-34a4-473...|account.81f027093...|2019-03-06 12:20:...|      235|2019-03-06 12:22:37|\n",
      "|e07ee2f5-3e55-4c6...|account.dcb3d29db...|2019-03-02 13:37:...|      789|2019-03-02 13:44:16|\n",
      "+--------------------+--------------------+--------------------+---------+-------------------+\n",
      "\n",
      "+--------------------+--------------------+--------------------+---------+-------------------+\n",
      "|                 mid|                 src|                time|time_diff|           new_time|\n",
      "+--------------------+--------------------+--------------------+---------+-------------------+\n",
      "|f2f76e66-9fb7-40d...|account.57d64f776...|2019-03-27 08:41:...|     1676|2019-03-27 08:51:56|\n",
      "|b2c7e5a4-f0f0-48d...|account.ac666be40...|2019-03-03 20:26:...|      374|2019-03-03 20:27:24|\n",
      "|bac58a82-62ca-485...|account.d8fc8cfc9...|2019-03-03 17:42:...|       44|2019-03-03 17:42:44|\n",
      "|bbe25e99-755d-4ca...|account.cdd20db96...|2019-03-04 12:33:...|     1497|2019-03-04 12:35:28|\n",
      "|cb84a1ce-cd19-427...|account.88cca8d42...|2019-03-04 21:40:...|      871|2019-03-04 21:46:41|\n",
      "|6283fdb3-c24d-413...|account.f24c22165...|2019-03-05 15:50:...|     1208|2019-03-05 16:00:31|\n",
      "|99a629b2-f4e3-42e...|account.cdd20db96...|2019-03-03 13:59:...|     1259|2019-03-03 14:17:55|\n",
      "|be2c6092-f9d3-4a2...|account.c6f71a3c5...|2019-03-04 18:50:...|      893|2019-03-04 19:02:18|\n",
      "|093eb054-176b-4b9...|account.216ad15bd...|2019-03-01 18:27:...|      232|2019-03-01 18:27:36|\n",
      "|3a625aed-fd57-49a...|account.8a36fc4f2...|2019-03-02 18:42:...|      136|2019-03-02 18:44:05|\n",
      "|12bcdfe5-34a4-473...|account.81f027093...|2019-03-06 12:20:...|      235|2019-03-06 12:22:37|\n",
      "|e07ee2f5-3e55-4c6...|account.dcb3d29db...|2019-03-02 13:37:...|      789|2019-03-02 13:44:16|\n",
      "+--------------------+--------------------+--------------------+---------+-------------------+\n",
      "\n"
     ]
    }
   ],
   "source": [
    "add_rand_time = spark.sql(\"\"\"SELECT c.*,  \n",
    "                             CASE WHEN time_diff = 0 THEN NULL\n",
    "                             ELSE TO_TIMESTAMP(FROM_UNIXTIME(UNIX_TIMESTAMP(time) + FLOOR(0 + (RAND() * time_diff)))) END \n",
    "                             AS new_time\n",
    "                             FROM cal_time_diff AS c\"\"\")\n",
    "add_rand_time.registerTempTable(\"add_rand_time\")\n",
    "add_rand_time.show()\n",
    "\n",
    "add_rand_time = spark.sql(\"SELECT * FROM add_rand_time WHERE new_time IS NOT NULL\")\n",
    "add_rand_time.registerTempTable(\"add_rand_time\")\n",
    "add_rand_time.show()\n",
    "\n",
    "rand_self_loops = spark.sql(\"\"\"SELECT a.mid, src, sd, bd, curr_flag, flag, \n",
    "                               src, sd, bd, curr_flag, flag, new_time AS time, m_date \n",
    "                               FROM add_rand_time a JOIN player_info p \n",
    "                               ON a.mid = p.mid AND a.src = p.id\"\"\")\n",
    "rand_self_loops.registerTempTable(\"rand_self_loops\")"
   ]
  },
  {
   "cell_type": "code",
   "execution_count": 29,
   "metadata": {},
   "outputs": [
    {
     "name": "stdout",
     "output_type": "stream",
     "text": [
      "715\n"
     ]
    }
   ],
   "source": [
    "# Combine two sets of self-loops.\n",
    "full_self_loops = spark.sql(\"SELECT * FROM self_loops UNION SELECT * FROM rand_self_loops\")\n",
    "full_self_loops.registerTempTable(\"full_self_loops\")\n",
    "print(full_self_loops.count())\n",
    "\n",
    "obs_data = spark.read.parquet(\"s3://social-research-cheating/edges/obs_data.parquet\")\n",
    "obs_data.registerTempTable(\"obs_data\")\n",
    "\n",
    "new_obs_data = spark.sql(\"\"\"SELECT * FROM obs_data UNION SELECT * FROM full_self_loops \n",
    "                            ORDER BY mid, time\"\"\")\n",
    "new_obs_data.write.parquet(\"s3://social-research-cheating/edges/rev_obs_data.parquet\")"
   ]
  }
 ],
 "metadata": {
  "kernelspec": {
   "display_name": "Python 3",
   "language": "python",
   "name": "python3"
  },
  "language_info": {
   "codemirror_mode": {
    "name": "ipython",
    "version": 3
   },
   "file_extension": ".py",
   "mimetype": "text/x-python",
   "name": "python",
   "nbconvert_exporter": "python",
   "pygments_lexer": "ipython3",
   "version": "3.7.3"
  }
 },
 "nbformat": 4,
 "nbformat_minor": 2
}
