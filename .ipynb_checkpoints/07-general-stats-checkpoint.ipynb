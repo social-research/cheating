{
 "cells": [
  {
   "cell_type": "markdown",
   "metadata": {},
   "source": [
    "### 07. Get general statistics."
   ]
  },
  {
   "cell_type": "code",
   "execution_count": 1,
   "metadata": {},
   "outputs": [],
   "source": [
    "from pyspark.sql import functions as F\n",
    "import pandas as pd\n",
    "import matplotlib.pyplot as plt\n",
    "import numpy as np"
   ]
  },
  {
   "cell_type": "code",
   "execution_count": 3,
   "metadata": {},
   "outputs": [],
   "source": [
    "# Read telemetry data stored in my S3 bucket.\n",
    "# td = spark.read.parquet(\"s3://social-research-cheating/raw_td.parquet\")\n",
    "# td.registerTempTable(\"td\")\n",
    "\n",
    "# Read a table that contains player data.\n",
    "players = spark.read.parquet(\"s3://social-research-cheating/nodes.parquet\")\n",
    "players.registerTempTable(\"players\")\n",
    "\n",
    "# Read a table that contains cheater data.\n",
    "# spark.read.parquet(\"s3://social-research-cheating/cheater_info.parquet\").createOrReplaceTempView(\"cheaters\")"
   ]
  },
  {
   "cell_type": "markdown",
   "metadata": {},
   "source": [
    "### Count the number of unique players."
   ]
  },
  {
   "cell_type": "code",
   "execution_count": 5,
   "metadata": {},
   "outputs": [],
   "source": [
    "killers = spark.sql(\"SELECT src FROM td\")\n",
    "killers.registerTempTable(\"killers\")\n",
    "victims = spark.sql(\"SELECT dst FROM td\")\n",
    "victims.registerTempTable(\"victims\")\n",
    "unique_players = spark.sql(\"\"\"SELECT src AS id FROM killers \n",
    "                              UNION SELECT * FROM victims\"\"\")\n",
    "unique_players.write.parquet(\"s3://social-research-cheating/general-stats/unique_players.parquet\")"
   ]
  },
  {
   "cell_type": "code",
   "execution_count": 6,
   "metadata": {},
   "outputs": [
    {
     "name": "stdout",
     "output_type": "stream",
     "text": [
      "1975877\n"
     ]
    }
   ],
   "source": [
    "unique_players = spark.read.parquet(\"s3://social-research-cheating/general-stats/unique_players.parquet\")\n",
    "print(unique_players.count())"
   ]
  },
  {
   "cell_type": "markdown",
   "metadata": {},
   "source": [
    "### Calculate the win rates of (non-)cheaters."
   ]
  },
  {
   "cell_type": "code",
   "execution_count": 14,
   "metadata": {},
   "outputs": [
    {
     "name": "stdout",
     "output_type": "stream",
     "text": [
      "+--------------------+-----+-----+\n",
      "|                 mid|c_cnt|  mod|\n",
      "+--------------------+-----+-----+\n",
      "|002033f0-face-44e...|    1|   NA|\n",
      "|002589bf-c5c1-411...|    1|  duo|\n",
      "|0117177b-4a55-40d...|    1|squad|\n",
      "|01198b04-0c5d-4ef...|    2|squad|\n",
      "|0121d461-69d9-4ef...|    2|  duo|\n",
      "+--------------------+-----+-----+\n",
      "only showing top 5 rows\n",
      "\n"
     ]
    }
   ],
   "source": [
    "cheater_matches = spark.read.parquet(\"s3://social-research-cheating/general-stats/num_of_cheaters_per_match.parquet\")\n",
    "cheater_matches.registerTempTable(\"cheater_matches\")\n",
    "cheater_matches.show(5)"
   ]
  },
  {
   "cell_type": "code",
   "execution_count": 4,
   "metadata": {},
   "outputs": [],
   "source": [
    "# First, get the logs of matches in which at least one cheater took part.\n",
    "# match_logs = spark.sql(\"SELECT t.*, mod FROM td t JOIN cheater_matches c ON t.mid = c.mid\")\n",
    "# match_logs.write.parquet(\"s3://social-research-cheating/general-stats/matches_with_cheaters.parquet\")\n",
    "\n",
    "match_logs = spark.read.parquet(\"s3://social-research-cheating/general-stats/matches_with_cheaters.parquet\")\n",
    "match_logs.registerTempTable(\"match_logs\")\n",
    "\n",
    "# Add more information about killers and victims.\n",
    "add_src_flags = spark.sql(\"\"\"SELECT mid, src, \n",
    "                             CASE WHEN m_date <= ban_date AND m_date >= start_date THEN 1 ELSE 0 END AS src_curr_flag, \n",
    "                             dst, time, m_date, mod \n",
    "                             FROM match_logs r LEFT JOIN players p ON r.src = p.id\"\"\")\n",
    "add_src_flags.registerTempTable(\"add_src_flags\")\n",
    "    \n",
    "edges = spark.sql(\"\"\"SELECT mid, src, src_curr_flag, dst, \n",
    "                     CASE WHEN m_date <= ban_date AND m_date >= start_date THEN 1 ELSE 0 END AS dst_curr_flag,\n",
    "                     time, m_date, mod \n",
    "                     FROM add_src_flags a LEFT JOIN players p ON a.dst = p.id\"\"\")\n",
    "edges.registerTempTable(\"edges\")\n",
    "# edges.show(5)"
   ]
  },
  {
   "cell_type": "code",
   "execution_count": 4,
   "metadata": {},
   "outputs": [
    {
     "name": "stdout",
     "output_type": "stream",
     "text": [
      "+---------+-------+\n",
      "|curr_flag|  c_cnt|\n",
      "+---------+-------+\n",
      "|        1|  12410|\n",
      "|        0|1049113|\n",
      "+---------+-------+\n",
      "\n"
     ]
    }
   ],
   "source": [
    "# Calculate the win rates of players in solo matches.\n",
    "solo_logs = spark.sql(\"\"\"SELECT e.*, ROW_NUMBER() OVER (PARTITION BY mid ORDER BY time DESC) AS rownumber \n",
    "                         FROM edges e WHERE mod = 'NA'\"\"\")\n",
    "solo_logs.registerTempTable(\"solo_logs\")\n",
    "\n",
    "# Get a list of participants.\n",
    "participants = spark.sql(\"\"\"SELECT mid, src AS id, src_curr_flag AS curr_flag FROM solo_logs \n",
    "                            UNION \n",
    "                            SELECT mid, dst, dst_curr_flag FROM solo_logs\"\"\")\n",
    "participants.registerTempTable(\"participants\")\n",
    "\n",
    "# Count the number of (non-)cheaters.\n",
    "sum_tab = spark.sql(\"SELECT curr_flag, COUNT(*) AS c_cnt FROM participants GROUP BY curr_flag\")\n",
    "sum_tab.show()"
   ]
  },
  {
   "cell_type": "code",
   "execution_count": 5,
   "metadata": {},
   "outputs": [
    {
     "name": "stdout",
     "output_type": "stream",
     "text": [
      "+--------------------+--------------------+-------------+--------------------+-------------+--------------------+----------+---+---------+\n",
      "|                 mid|                 src|src_curr_flag|                 dst|dst_curr_flag|                time|    m_date|mod|rownumber|\n",
      "+--------------------+--------------------+-------------+--------------------+-------------+--------------------+----------+---+---------+\n",
      "|2c8acf5b-b768-433...|account.f5fbb648e...|            0|account.75109d935...|            0|2019-03-05 07:43:...|2019-03-05| NA|        1|\n",
      "|2c8acf5b-b768-433...|account.f5fbb648e...|            0|account.6179fed14...|            0|2019-03-05 07:43:...|2019-03-05| NA|        2|\n",
      "|2c8acf5b-b768-433...|account.0733cd6ff...|            0|account.4c7778a68...|            0|2019-03-05 07:42:...|2019-03-05| NA|        3|\n",
      "|2c8acf5b-b768-433...|account.75109d935...|            0|account.1d51d8d80...|            0|2019-03-05 07:41:...|2019-03-05| NA|        4|\n",
      "|2c8acf5b-b768-433...|account.1d51d8d80...|            0|account.2bb8347ed...|            0|2019-03-05 07:40:...|2019-03-05| NA|        5|\n",
      "+--------------------+--------------------+-------------+--------------------+-------------+--------------------+----------+---+---------+\n",
      "only showing top 5 rows\n",
      "\n"
     ]
    }
   ],
   "source": [
    "# Calculate the win rates of players in solo matches.\n",
    "solo_logs = spark.sql(\"\"\"SELECT e.*, ROW_NUMBER() OVER (PARTITION BY mid ORDER BY time DESC) AS rownumber \n",
    "                         FROM edges e WHERE mod = 'NA'\"\"\")\n",
    "solo_logs.registerTempTable(\"solo_logs\")\n",
    "solo_logs.show(5)"
   ]
  },
  {
   "cell_type": "code",
   "execution_count": 7,
   "metadata": {},
   "outputs": [
    {
     "name": "stdout",
     "output_type": "stream",
     "text": [
      "+--------------------+--------------------+---------+\n",
      "|                 mid|              winner|curr_flag|\n",
      "+--------------------+--------------------+---------+\n",
      "|2c8acf5b-b768-433...|account.f5fbb648e...|        0|\n",
      "|2da69df9-d18a-472...|account.016d386c9...|        0|\n",
      "|2ebc4752-2e5d-419...|account.9e0b10ae1...|        0|\n",
      "|32514c85-ac8c-43d...|account.f043216c1...|        0|\n",
      "|32bc7f14-27a0-497...|account.601c100a4...|        0|\n",
      "+--------------------+--------------------+---------+\n",
      "only showing top 5 rows\n",
      "\n"
     ]
    }
   ],
   "source": [
    "# Find the winners of solo matches.\n",
    "winners = spark.sql(\"\"\"SELECT mid, src AS winner, src_curr_flag AS curr_flag FROM solo_logs \n",
    "                       WHERE rownumber = 1\"\"\")\n",
    "winners.registerTempTable(\"winners\")\n",
    "winners.show(5)"
   ]
  },
  {
   "cell_type": "code",
   "execution_count": 8,
   "metadata": {},
   "outputs": [
    {
     "name": "stdout",
     "output_type": "stream",
     "text": [
      "+---------+-----+\n",
      "|curr_flag|c_cnt|\n",
      "+---------+-----+\n",
      "|        1| 1675|\n",
      "|        0| 9621|\n",
      "+---------+-----+\n",
      "\n"
     ]
    }
   ],
   "source": [
    "# Count the number of (non-)cheating winners.\n",
    "sum_tab = spark.sql(\"SELECT curr_flag, COUNT(*) AS c_cnt FROM winners GROUP BY curr_flag\")\n",
    "sum_tab.show()"
   ]
  },
  {
   "cell_type": "code",
   "execution_count": null,
   "metadata": {},
   "outputs": [],
   "source": [
    "# Read the data stored in the S3 bucket. \n",
    "team_data = spark.read.parquet(\"s3://social-research-cheating/team_data.parquet\")\n",
    "team_data.registerTempTable(\"team_data\")\n",
    "\n",
    "# Calculate the win rates of players in teamplay matches.\n",
    "# Count the number of cheaters in each team.\n",
    "team_logs = spark.sql(\"SELECT * FROM edges WHERE mod != 'NA'\")\n",
    "team_logs.registerTempTable(\"team_logs\")\n",
    "\n",
    "# Add team information.\n",
    "add_src_tids = spark.sql(\"\"\"SELECT d.*, CASE WHEN tid IS NULL THEN 'NA' ELSE tid END AS src_tid \n",
    "                            FROM team_logs d LEFT JOIN team_data t \n",
    "                            ON d.mid = t.mid AND d.src = t.id\"\"\")\n",
    "add_src_tids.registerTempTable(\"add_src_tids\")\n",
    "\n",
    "add_tids = spark.sql(\"\"\"SELECT a.*, CASE WHEN tid IS NULL THEN 'NA' ELSE tid END AS dst_tid \n",
    "                        FROM add_src_tids a LEFT JOIN team_data t \n",
    "                        ON a.mid = t.mid AND a.dst = t.id\"\"\")\n",
    "add_tids.registerTempTable(\"add_tids\")\n",
    "add_tids.write.parquet(\"s3://social-research-cheating/general-stats/match_logs_with_mods.parquet\")"
   ]
  },
  {
   "cell_type": "code",
   "execution_count": 2,
   "metadata": {},
   "outputs": [
    {
     "name": "stdout",
     "output_type": "stream",
     "text": [
      "+-----+--------+\n",
      "|c_cnt|team_cnt|\n",
      "+-----+--------+\n",
      "|    0| 2807526|\n",
      "|    1|   96747|\n",
      "|    3|     187|\n",
      "|    2|    4094|\n",
      "|    4|      11|\n",
      "+-----+--------+\n",
      "\n"
     ]
    }
   ],
   "source": [
    "rank_data = spark.read.parquet(\"s3://social-research-cheating/edges/team_ranks.parquet\")\n",
    "rank_data.registerTempTable(\"rank_data\")\n",
    "\n",
    "add_tids = spark.read.parquet(\"s3://social-research-cheating/general-stats/match_logs_with_mods.parquet\")\n",
    "add_tids.registerTempTable(\"add_tids\")\n",
    "\n",
    "# Get a list of participants.\n",
    "participants = spark.sql(\"\"\"SELECT mid, src AS id, src_curr_flag AS curr_flag, src_tid AS tid FROM add_tids \n",
    "                            UNION \n",
    "                            SELECT mid, dst, dst_curr_flag, dst_tid FROM add_tids\"\"\")\n",
    "participants.registerTempTable(\"participants\")\n",
    "\n",
    "# Count the number of (non-)cheaters for each team.\n",
    "num_cheaters = spark.sql(\"\"\"SELECT mid, tid, SUM(curr_flag) AS c_cnt FROM participants \n",
    "                            WHERE tid != 'NA' GROUP BY mid, tid\"\"\")\n",
    "num_cheaters.registerTempTable(\"num_cheaters\")\n",
    "\n",
    "sum_tab = spark.sql(\"SELECT c_cnt, COUNT(*) AS team_cnt FROM num_cheaters GROUP BY c_cnt\")\n",
    "sum_tab.show()"
   ]
  },
  {
   "cell_type": "code",
   "execution_count": 3,
   "metadata": {},
   "outputs": [
    {
     "name": "stdout",
     "output_type": "stream",
     "text": [
      "+---------+-----------+\n",
      "|curr_flag|cheater_cnt|\n",
      "+---------+-----------+\n",
      "|        1|       4889|\n",
      "|        0|     143791|\n",
      "+---------+-----------+\n",
      "\n"
     ]
    }
   ],
   "source": [
    "# Count the number of single (non-)cheater in teamplay matches.\n",
    "num_cheaters = spark.sql(\"\"\"SELECT DISTINCT mid, id, curr_flag \n",
    "                            FROM participants WHERE tid = 'NA'\"\"\")\n",
    "num_cheaters.registerTempTable(\"num_cheaters\")\n",
    "sum_tab = spark.sql(\"\"\"SELECT curr_flag, COUNT(*) AS cheater_cnt FROM num_cheaters \n",
    "                       GROUP BY curr_flag\"\"\")\n",
    "sum_tab.show()\n",
    "\n",
    "# Get a list of winners whose team IDs are 'NA'.\n"
   ]
  },
  {
   "cell_type": "code",
   "execution_count": null,
   "metadata": {},
   "outputs": [],
   "source": []
  },
  {
   "cell_type": "code",
   "execution_count": 18,
   "metadata": {},
   "outputs": [],
   "source": [
    "# Add rank information.\n",
    "add_team_ranks = spark.sql(\"\"\"SELECT n.mid, n.tid, n.c_cnt, \n",
    "                              CASE WHEN r.rank IS NULL THEN 'NA' ELSE r.rank END AS rank \n",
    "                              FROM num_cheaters n LEFT JOIN rank_data r ON n.mid = r.mid AND n.tid = r.tid\"\"\")\n",
    "add_team_ranks.registerTempTable(\"add_team_ranks\")"
   ]
  },
  {
   "cell_type": "code",
   "execution_count": 19,
   "metadata": {},
   "outputs": [
    {
     "name": "stdout",
     "output_type": "stream",
     "text": [
      "+-----+-------+\n",
      "|c_cnt|win_cnt|\n",
      "+-----+-------+\n",
      "|    0|  79404|\n",
      "|    1|  14517|\n",
      "|    3|     72|\n",
      "|    2|   1054|\n",
      "|    4|      9|\n",
      "+-----+-------+\n",
      "\n"
     ]
    }
   ],
   "source": [
    "cal_win_rates = spark.sql(\"\"\"SELECT c_cnt, COUNT(CASE WHEN rank = 1 THEN 1 ELSE NULL END) AS win_cnt\n",
    "                             FROM add_team_ranks GROUP BY c_cnt\"\"\")\n",
    "cal_win_rates.show()"
   ]
  },
  {
   "cell_type": "markdown",
   "metadata": {},
   "source": [
    "### Count the number of cheaters for each game mode."
   ]
  },
  {
   "cell_type": "code",
   "execution_count": 2,
   "metadata": {},
   "outputs": [
    {
     "name": "stdout",
     "output_type": "stream",
     "text": [
      "1022520\n"
     ]
    }
   ],
   "source": [
    "rank_data = spark.read.parquet(\"s3://social-research-cheating/edges/team_ranks.parquet\")\n",
    "rank_data.registerTempTable(\"rank_data\")\n",
    "\n",
    "team_mids = spark.read.parquet(\"s3://social-research-cheating/general-stats/unique_team_mids.parquet\")\n",
    "team_mids.registerTempTable(\"team_mids\")\n",
    "\n",
    "# Get unique match IDs and their game modes.\n",
    "teamplay_info = spark.sql(\"SELECT DISTINCT mid, mod FROM rank_data\")\n",
    "teamplay_info.registerTempTable(\"teamplay_info\")\n",
    "\n",
    "legit_teamplay_matches = spark.sql(\"\"\"SELECT r.mid, mod FROM teamplay_info r JOIN team_mids t \n",
    "                                      ON r.mid = t.mid\"\"\")\n",
    "legit_teamplay_matches.registerTempTable(\"legit_teamplay_matches\")\n",
    "legit_teamplay_matches.write.parquet(\"s3://social-research-cheating/general-stats/teamplay_game_modes.parquet\")\n",
    "print(legit_teamplay_matches.count())\n",
    "# The number of teamplay matches should be 1,022,520.\n",
    "\n",
    "teamplay_matches = spark.read.parquet(\"s3://social-research-cheating/general-stats/teamplay_game_modes.parquet\")\n",
    "teamplay_matches.registerTempTable(\"teamplay_matches\")\n",
    "print(teamplay_matches.count())"
   ]
  },
  {
   "cell_type": "code",
   "execution_count": 11,
   "metadata": {},
   "outputs": [
    {
     "name": "stdout",
     "output_type": "stream",
     "text": [
      "+--------+\n",
      "|count(1)|\n",
      "+--------+\n",
      "|  662650|\n",
      "+--------+\n",
      "\n",
      "+--------+\n",
      "|count(1)|\n",
      "+--------+\n",
      "|  359870|\n",
      "+--------+\n",
      "\n"
     ]
    }
   ],
   "source": [
    "# Count the number of squad matches.\n",
    "squad_cnt = spark.sql(\"\"\"SELECT COUNT(*) FROM teamplay_matches \n",
    "                         WHERE mod = 'squad' OR mod = 'normal-squad' OR mod = 'normal-squad-fpp'\"\"\")\n",
    "squad_cnt.show()\n",
    "\n",
    "# Count the number of duo matches.\n",
    "duo_cnt = spark.sql(\"\"\"SELECT COUNT(*) FROM teamplay_matches \n",
    "                       WHERE mod = 'duo' OR mod = 'normal-duo' OR mod = 'normal-duo-fpp'\"\"\")\n",
    "duo_cnt.show()"
   ]
  },
  {
   "cell_type": "code",
   "execution_count": 10,
   "metadata": {},
   "outputs": [
    {
     "name": "stdout",
     "output_type": "stream",
     "text": [
      "+--------------------+------------+\n",
      "|                 mid|         mod|\n",
      "+--------------------+------------+\n",
      "|03078246-cb40-408...|normal-squad|\n",
      "|0ea64ef2-00e9-4d3...|normal-squad|\n",
      "|1c1e4458-6692-48e...|  normal-duo|\n",
      "|2f81187d-a0ed-434...|normal-squad|\n",
      "|326b992f-8f4d-44d...|normal-squad|\n",
      "|4aec87ee-bd88-483...|normal-squad|\n",
      "|4b257f70-533a-4ef...|normal-squad|\n",
      "|4c50bb18-5f0a-450...|  normal-duo|\n",
      "|5eeb1b56-3b71-485...|normal-squad|\n",
      "|6d2e6cf5-f46b-42c...|  normal-duo|\n",
      "+--------------------+------------+\n",
      "only showing top 10 rows\n",
      "\n",
      "6799\n",
      "+----------------+----------+\n",
      "|             mod|count(mid)|\n",
      "+----------------+----------+\n",
      "|      normal-duo|      2299|\n",
      "|normal-squad-fpp|       350|\n",
      "|  normal-duo-fpp|       118|\n",
      "|    normal-squad|      4032|\n",
      "+----------------+----------+\n",
      "\n"
     ]
    }
   ],
   "source": [
    "others = spark.sql(\"SELECT * FROM teamplay_matches WHERE mod != 'squad' AND mod != 'duo'\")\n",
    "others.registerTempTable(\"others\")\n",
    "others.show(10)\n",
    "print(others.count())\n",
    "\n",
    "others_tab = spark.sql(\"SELECT mod, COUNT(mid) FROM others GROUP BY mod\")\n",
    "others_tab.show()"
   ]
  },
  {
   "cell_type": "code",
   "execution_count": 5,
   "metadata": {},
   "outputs": [],
   "source": [
    "# Count the number of cheaters per match.\n",
    "# First, find the matches where at least one cheater played.\n",
    "\n",
    "# Add more information about killers and victims.\n",
    "add_src_flags = spark.sql(\"\"\"SELECT mid, src, start_date AS src_sd, ban_date AS src_bd, cheating_flag AS src_flag, \n",
    "                             CASE WHEN m_date <= ban_date AND m_date >= start_date THEN 1 ELSE 0 END AS src_curr_flag, \n",
    "                             dst, time, m_date \n",
    "                             FROM td r LEFT JOIN players p ON r.src = p.id\"\"\")\n",
    "add_src_flags.registerTempTable(\"add_src_flags\")\n",
    "    \n",
    "edges = spark.sql(\"\"\"SELECT mid, src, src_sd, src_bd, src_flag, src_curr_flag,\n",
    "                     dst, start_date AS dst_sd, ban_date AS dst_bd, cheating_flag AS dst_flag, \n",
    "                     CASE WHEN m_date <= ban_date AND m_date >= start_date THEN 1 ELSE 0 END AS dst_curr_flag,\n",
    "                     time, m_date \n",
    "                     FROM add_src_flags a LEFT JOIN players p ON a.dst = p.id\"\"\")\n",
    "edges.registerTempTable(\"edges\")"
   ]
  },
  {
   "cell_type": "code",
   "execution_count": 6,
   "metadata": {},
   "outputs": [],
   "source": [
    "cheating_killers = spark.sql(\"\"\"SELECT DISTINCT mid, src AS pid, src_curr_flag   \n",
    "                                FROM edges WHERE src_curr_flag = 1\"\"\")\n",
    "cheating_victims = spark.sql(\"\"\"SELECT DISTINCT mid, dst, dst_curr_flag   \n",
    "                                FROM edges WHERE dst_curr_flag = 1\"\"\")\n",
    "cheating_killers.registerTempTable(\"cheating_killers\")\n",
    "cheating_victims.registerTempTable(\"cheating_victims\")\n",
    "cheaters = spark.sql(\"SELECT * FROM cheating_killers UNION SELECT * FROM cheating_victims\")\n",
    "cheaters.registerTempTable(\"cheaters\")\n",
    "sum_tab = spark.sql(\"SELECT mid, COUNT(DISTINCT pid) AS c_cnt FROM cheaters GROUP BY mid\")\n",
    "sum_tab.write.parquet(\"s3://social-research-cheating/general-stats/sum_tab.parquet\")"
   ]
  },
  {
   "cell_type": "code",
   "execution_count": 12,
   "metadata": {},
   "outputs": [
    {
     "name": "stdout",
     "output_type": "stream",
     "text": [
      "+--------------------+-----+\n",
      "|                 mid|c_cnt|\n",
      "+--------------------+-----+\n",
      "|81771843-5753-47a...|    1|\n",
      "|38fd82a6-1343-40c...|    1|\n",
      "|d305bba6-8662-430...|    4|\n",
      "|3d8da5e8-bedf-4fa...|    2|\n",
      "|ab8b3d82-8dc3-4b5...|    2|\n",
      "|5357f999-1126-48a...|    1|\n",
      "|e7dcbed7-0190-4bf...|    1|\n",
      "|17b49e2e-5532-4c8...|    1|\n",
      "|9e4cf53c-8ae9-42c...|    1|\n",
      "|462ed4d4-0c54-4b9...|    1|\n",
      "+--------------------+-----+\n",
      "only showing top 10 rows\n",
      "\n"
     ]
    }
   ],
   "source": [
    "# Add the game mode of each match.\n",
    "sum_tab = spark.read.parquet(\"s3://social-research-cheating/general-stats/sum_tab.parquet\")\n",
    "sum_tab.registerTempTable(\"sum_tab\")\n",
    "sum_tab.show(10)"
   ]
  },
  {
   "cell_type": "code",
   "execution_count": 13,
   "metadata": {},
   "outputs": [],
   "source": [
    "teamplay_matches = spark.read.parquet(\"s3://social-research-cheating/general-stats/teamplay_game_modes.parquet\")\n",
    "teamplay_matches.registerTempTable(\"teamplay_matches\")\n",
    "\n",
    "add_mods = spark.sql(\"\"\"SELECT s.mid, c_cnt, CASE WHEN mod IS NULL THEN 'NA' ELSE mod END AS mod \n",
    "                        FROM sum_tab s LEFT JOIN teamplay_matches t ON s.mid = t.mid\"\"\")\n",
    "add_mods.write.parquet(\"s3://social-research-cheating/general-stats/num_of_cheaters_per_match.parquet\")"
   ]
  },
  {
   "cell_type": "code",
   "execution_count": 14,
   "metadata": {},
   "outputs": [
    {
     "name": "stdout",
     "output_type": "stream",
     "text": [
      "+--------------------+-----+-----+\n",
      "|                 mid|c_cnt|  mod|\n",
      "+--------------------+-----+-----+\n",
      "|002033f0-face-44e...|    1|   NA|\n",
      "|002589bf-c5c1-411...|    1|  duo|\n",
      "|0117177b-4a55-40d...|    1|squad|\n",
      "|01198b04-0c5d-4ef...|    2|squad|\n",
      "|0121d461-69d9-4ef...|    2|  duo|\n",
      "|016920f2-d4dc-4ae...|    1|squad|\n",
      "|020a98c5-eb18-493...|    1|squad|\n",
      "|031ac8b1-9f1e-435...|    2|squad|\n",
      "|03777616-f101-482...|    1|   NA|\n",
      "|03e0772c-3c13-40d...|    1|squad|\n",
      "+--------------------+-----+-----+\n",
      "only showing top 10 rows\n",
      "\n"
     ]
    }
   ],
   "source": [
    "add_mods = spark.read.parquet(\"s3://social-research-cheating/general-stats/num_of_cheaters_per_match.parquet\")\n",
    "add_mods.registerTempTable(\"add_mods\")\n",
    "add_mods.show(10)"
   ]
  },
  {
   "cell_type": "code",
   "execution_count": 17,
   "metadata": {},
   "outputs": [
    {
     "name": "stdout",
     "output_type": "stream",
     "text": [
      "+-----+----------+\n",
      "|c_cnt|count(mid)|\n",
      "+-----+----------+\n",
      "|    1|     10265|\n",
      "|    2|       951|\n",
      "|    3|        77|\n",
      "|    4|         3|\n",
      "+-----+----------+\n",
      "\n",
      "+-----+----------+\n",
      "|c_cnt|count(mid)|\n",
      "+-----+----------+\n",
      "|    1|     64095|\n",
      "|    2|      9079|\n",
      "|    3|      1355|\n",
      "|    4|       212|\n",
      "|    5|        27|\n",
      "|    6|         4|\n",
      "+-----+----------+\n",
      "\n",
      "+-----+----------+\n",
      "|c_cnt|count(mid)|\n",
      "+-----+----------+\n",
      "|    1|     19195|\n",
      "|    2|      1730|\n",
      "|    3|       135|\n",
      "|    4|        11|\n",
      "+-----+----------+\n",
      "\n"
     ]
    }
   ],
   "source": [
    "# Count the number of cheaters in solo matches.\n",
    "solo_cheater_cnt = spark.sql(\"\"\"SELECT c_cnt, COUNT(mid) FROM add_mods WHERE mod = 'NA' \n",
    "                                GROUP BY c_cnt ORDER BY c_cnt\"\"\")\n",
    "solo_cheater_cnt.show()\n",
    "\n",
    "# Count the number of cheaters in squad matches.\n",
    "squad_cheater_cnt = spark.sql(\"\"\"SELECT c_cnt, COUNT(mid) FROM add_mods \n",
    "                                 WHERE mod = 'squad' OR mod = 'normal-squad' OR mod = 'normal-squad-fpp' \n",
    "                                 GROUP BY c_cnt ORDER BY c_cnt\"\"\")\n",
    "squad_cheater_cnt.show()\n",
    "\n",
    "# Count the number of cheaters in duo matches.\n",
    "duo_cheater_cnt = spark.sql(\"\"\"SELECT c_cnt, COUNT(mid) FROM add_mods \n",
    "                               WHERE mod = 'duo' OR mod = 'normal-duo' OR mod = 'normal-duo-fpp' \n",
    "                               GROUP BY c_cnt ORDER BY c_cnt\"\"\")\n",
    "duo_cheater_cnt.show()"
   ]
  },
  {
   "cell_type": "code",
   "execution_count": 30,
   "metadata": {},
   "outputs": [
    {
     "name": "stdout",
     "output_type": "stream",
     "text": [
      "+-------------------+\n",
      "|count(DISTINCT dst)|\n",
      "+-------------------+\n",
      "|             287342|\n",
      "+-------------------+\n",
      "\n"
     ]
    }
   ],
   "source": [
    "# Count the number of players who have been killed by cheating at least once (excluding self-loops).\n",
    "victim_cnt = spark.sql(\"SELECT COUNT(DISTINCT dst) FROM edges WHERE src_curr_flag = 1\")\n",
    "victim_cnt.show()"
   ]
  },
  {
   "cell_type": "code",
   "execution_count": null,
   "metadata": {},
   "outputs": [],
   "source": [
    "# Count the number of players who observed cheating at least once."
   ]
  },
  {
   "cell_type": "markdown",
   "metadata": {},
   "source": [
    "### 1. Count the number of days players played the game.\n",
    "\n",
    "Players accessed the game for 5.7 days on average. The median value is 3. "
   ]
  },
  {
   "cell_type": "code",
   "execution_count": 5,
   "metadata": {},
   "outputs": [],
   "source": [
    "killers = spark.read.parquet(\"s3://social-research-cheating/general-stats/killers.parquet\")\n",
    "killers.registerTempTable(\"killers\")\n",
    "\n",
    "victims = spark.read.parquet(\"s3://social-research-cheating/general-stats/victims.parquet\")\n",
    "victims.registerTempTable(\"victims\")\n",
    "\n",
    "temp = spark.sql(\"SELECT src AS id, m_date FROM killers UNION SELECT * FROM victims\")\n",
    "temp.registerTempTable(\"temp\")\n",
    "\n",
    "days = spark.sql(\"SELECT id, COUNT(*) AS days FROM temp GROUP BY id\")\n",
    "days.write.parquet(\"s3://social-research-cheating/general-stats/num_of_days.parquet\")"
   ]
  },
  {
   "cell_type": "code",
   "execution_count": 6,
   "metadata": {},
   "outputs": [
    {
     "name": "stdout",
     "output_type": "stream",
     "text": [
      "5.766681832927859\n",
      "3.0\n"
     ]
    }
   ],
   "source": [
    "days = spark.read.parquet(\"s3://social-research-cheating/general-stats/num_of_days.parquet\")\n",
    "\n",
    "# Calculate the mean and median number of days.\n",
    "days_df = days.toPandas()\n",
    "\n",
    "# Store the dataframe as an excel file.\n",
    "days_df.to_csv('num_of_days.csv', index=False)\n",
    "\n",
    "print(days_df['days'].mean())\n",
    "print(days_df['days'].median())"
   ]
  },
  {
   "cell_type": "code",
   "execution_count": 9,
   "metadata": {},
   "outputs": [
    {
     "data": {
      "image/png": "[encoded data removed]",
      "text/plain": [
       "<Figure size 432x288 with 1 Axes>"
      ]
     },
     "metadata": {},
     "output_type": "display_data"
    }
   ],
   "source": [
    "# Plot the distribution of days players played the game.\n",
    "bins = np.arange(0, days_df['days'].max() + 1.5) - 0.5\n",
    "fig, ax = plt.subplots()\n",
    "days_df.hist(ax=ax, column = 'days', histtype='step', \n",
    "                   weights=np.zeros_like(days_df['days'])+1./len(days_df['days']), \n",
    "                   bins = bins)\n",
    "plt.xlim(xmin=0.5)\n",
    "plt.xlim(xmax=31)\n",
    "plt.xlabel(\"Number of days players played the game\")\n",
    "plt.ylabel(\"Proportion\")\n",
    "plt.title(\"\")\n",
    "plt.tight_layout()\n",
    "plt.show()\n",
    "fig.savefig('num_of_days.png')"
   ]
  },
  {
   "cell_type": "markdown",
   "metadata": {},
   "source": [
    "### 2. Count the number of matches by date."
   ]
  },
  {
   "cell_type": "code",
   "execution_count": 2,
   "metadata": {},
   "outputs": [],
   "source": [
    "import pandas as pd\n",
    "import matplotlib.pyplot as plt\n",
    "import numpy as np\n",
    "import matplotlib.dates as dates"
   ]
  },
  {
   "cell_type": "code",
   "execution_count": 31,
   "metadata": {},
   "outputs": [],
   "source": [
    "# Read the data stored in the S3 bucket and convert it into a dataframe.\n",
    "PATH_TO_DATA = \"s3://social-research-cheating/general-stats/mids_by_date.parquet\"\n",
    "mids_by_date = spark.read.parquet(PATH_TO_DATA)\n",
    "mids_by_date_df = mids_by_date.toPandas()\n",
    "\n",
    "# Store the dataframe as an excel file.\n",
    "mids_by_date_df.to_csv('mids_by_date.csv', index=False)"
   ]
  },
  {
   "cell_type": "code",
   "execution_count": 2,
   "metadata": {},
   "outputs": [
    {
     "name": "stdout",
     "output_type": "stream",
     "text": [
      "            num_of_mids day\n",
      "m_date                     \n",
      "2019-03-01        48886   F\n",
      "2019-03-02        48995   S\n",
      "2019-03-03        45696   S\n",
      "2019-03-04        33555   M\n",
      "2019-03-05        30504   T\n",
      "2019-03-06        30434   W\n",
      "2019-03-07        31267   T\n",
      "2019-03-08        36469   F\n",
      "2019-03-09        50479   S\n",
      "2019-03-10        46290   S\n",
      "2019-03-11        29363   M\n",
      "2019-03-12        29157   T\n",
      "2019-03-13        29009   W\n",
      "2019-03-14        29890   T\n",
      "2019-03-15        37090   F\n",
      "2019-03-16        50550   S\n",
      "2019-03-17        45816   S\n",
      "2019-03-18        29833   M\n",
      "2019-03-19        29523   T\n",
      "2019-03-20        29240   W\n",
      "2019-03-21        31193   T\n",
      "2019-03-22        36154   F\n",
      "2019-03-23        50375   S\n",
      "2019-03-24        45624   S\n",
      "2019-03-25        29115   M\n",
      "2019-03-26        27491   T\n",
      "2019-03-27        29446   W\n",
      "2019-03-28        24271   T\n",
      "2019-03-29        36189   F\n",
      "2019-03-30        49550   S\n",
      "2019-03-31        45487   S\n"
     ]
    }
   ],
   "source": [
    "mids_by_date = pd.read_csv(\"data/general_stats/mids_by_date.csv\")\n",
    "mids_by_date['m_date'] = pd.to_datetime(mids_by_date['m_date'], format='%Y-%m-%d')\n",
    "mids_by_date['day'] = mids_by_date['m_date'].dt.dayofweek\n",
    "days = {0:'M', 1:'T', 2:'W', 3:'T', 4:'F', 5:'S', 6:'S'}\n",
    "mids_by_date['day'] = mids_by_date['day'].apply(lambda x: days[x])\n",
    "mids_by_date = mids_by_date.sort_values(['m_date'])\n",
    "mids_by_date.set_index(['m_date'], inplace=True)\n",
    "print(mids_by_date)"
   ]
  },
  {
   "cell_type": "code",
   "execution_count": 6,
   "metadata": {},
   "outputs": [
    {
     "data": {
      "image/png": "[encoded data removed]",
      "text/plain": [
       "<Figure size 432x288 with 1 Axes>"
      ]
     },
     "metadata": {
      "needs_background": "light"
     },
     "output_type": "display_data"
    }
   ],
   "source": [
    "# Plot a line chart.\n",
    "fig, ax = plt.subplots()\n",
    "mids_by_date.plot(ax=ax)\n",
    "plt.xticks(mids_by_date.index, mids_by_date[\"day\"].values)\n",
    "ax.get_legend().remove()\n",
    "# ax.xaxis.set_minor_locator(dates.MonthLocator())\n",
    "# ax.xaxis.set_minor_formatter(dates.DateFormatter('\\n\\n%d'))\n",
    "# ax.xaxis.set_major_formatter(dates.DateFormatter('\\n\\n%d'))\n",
    "# plt.setp(ax.get_xticklabels(), rotation=0, horizontalalignment='center')\n",
    "plt.ylim(ymin=20000, ymax=55000)\n",
    "plt.xlabel(\"Day\")\n",
    "plt.ylabel(\"Number of matches\")\n",
    "plt.tight_layout()\n",
    "plt.show()\n",
    "fig.savefig('figs/general_stats/num_of_matches_by_date.png')"
   ]
  },
  {
   "cell_type": "code",
   "execution_count": 52,
   "metadata": {},
   "outputs": [
    {
     "name": "stdout",
     "output_type": "stream",
     "text": [
      "1146941\n"
     ]
    }
   ],
   "source": [
    "# Count the total number of matches.\n",
    "# The answer should be 1,146,941.\n",
    "print(mids_by_date['num_of_mids'].sum())"
   ]
  },
  {
   "cell_type": "markdown",
   "metadata": {},
   "source": [
    "### 3. Count the number of cheaters by ban date."
   ]
  },
  {
   "cell_type": "code",
   "execution_count": 32,
   "metadata": {},
   "outputs": [],
   "source": [
    "# Read the data stored in the S3 bucket and convert it into a dataframe.\n",
    "PATH_TO_DATA = \"s3://social-research-cheating/general-stats/num_of_cheaters.parquet\"\n",
    "num_of_cheaters = spark.read.parquet(PATH_TO_DATA)\n",
    "num_of_cheaters_df = num_of_cheaters.toPandas()\n",
    "\n",
    "# Store the dataframe as an excel file.\n",
    "num_of_cheaters_df.to_csv('num_of_cheaters.csv', index=False)"
   ]
  },
  {
   "cell_type": "code",
   "execution_count": 8,
   "metadata": {},
   "outputs": [
    {
     "name": "stdout",
     "output_type": "stream",
     "text": [
      "            num_of_cheaters\n",
      "ban_date                   \n",
      "2019-03-01              103\n",
      "2019-03-02              290\n",
      "2019-03-03              258\n",
      "2019-03-04              312\n",
      "2019-03-05              228\n",
      "2019-03-06              702\n",
      "2019-03-07              262\n",
      "2019-03-08              145\n",
      "2019-03-09              690\n",
      "2019-03-10              135\n",
      "2019-03-11              511\n",
      "2019-03-12              324\n",
      "2019-03-13              188\n",
      "2019-03-14              139\n",
      "2019-03-15              132\n",
      "2019-03-16              107\n",
      "2019-03-17              144\n",
      "2019-03-19              116\n",
      "2019-03-20              112\n",
      "2019-03-21              105\n",
      "2019-03-22              118\n",
      "2019-03-23              176\n",
      "2019-03-24               99\n",
      "2019-03-25               89\n",
      "2019-03-26              170\n",
      "2019-03-27              111\n",
      "2019-03-28               99\n",
      "2019-03-29              114\n",
      "2019-03-30               93\n",
      "2019-03-31               89\n"
     ]
    }
   ],
   "source": [
    "num_of_cheaters = pd.read_csv(\"data/general_stats/num_of_cheaters.csv\")\n",
    "num_of_cheaters['ban_date'] = pd.to_datetime(num_of_cheaters['ban_date'], format='%Y-%m-%d')\n",
    "num_of_cheaters = num_of_cheaters.sort_values(['ban_date'])\n",
    "num_of_cheaters.set_index(['ban_date'], inplace=True)\n",
    "print(num_of_cheaters)"
   ]
  },
  {
   "cell_type": "code",
   "execution_count": 17,
   "metadata": {},
   "outputs": [
    {
     "data": {
      "image/png": "[encoded data removed]",
      "text/plain": [
       "<Figure size 432x288 with 1 Axes>"
      ]
     },
     "metadata": {
      "needs_background": "light"
     },
     "output_type": "display_data"
    }
   ],
   "source": [
    "# Plot a line chart.\n",
    "fig, ax = plt.subplots()\n",
    "num_of_cheaters.plot(ax=ax)\n",
    "ax.get_legend().remove()\n",
    "ax.xaxis.set_major_formatter(dates.DateFormatter('%d'))\n",
    "plt.setp(ax.get_xticklabels(), rotation=0, horizontalalignment='center')\n",
    "plt.xlabel(\"Date\")\n",
    "plt.ylabel(\"Number of banned cheaters\")\n",
    "plt.tight_layout()\n",
    "plt.show() \n",
    "fig.savefig('figs/general_stats/num_of_cheaters_by_ban_date.png')"
   ]
  },
  {
   "cell_type": "code",
   "execution_count": 18,
   "metadata": {},
   "outputs": [
    {
     "name": "stdout",
     "output_type": "stream",
     "text": [
      "6161\n"
     ]
    }
   ],
   "source": [
    "# Count the total number of cheaters.\n",
    "# The answer should be 6,161.\n",
    "print(num_of_cheaters['num_of_cheaters'].sum())"
   ]
  }
 ],
 "metadata": {
  "kernelspec": {
   "display_name": "Python 3",
   "language": "python",
   "name": "python3"
  },
  "language_info": {
   "codemirror_mode": {
    "name": "ipython",
    "version": 3
   },
   "file_extension": ".py",
   "mimetype": "text/x-python",
   "name": "python",
   "nbconvert_exporter": "python",
   "pygments_lexer": "ipython3",
   "version": "3.7.4"
  },
  "name": "6_general_stats",
  "notebookId": 2613361705856757
 },
 "nbformat": 4,
 "nbformat_minor": 1
}
