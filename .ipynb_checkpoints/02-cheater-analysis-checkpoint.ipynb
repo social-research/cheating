{
 "cells": [
  {
   "cell_type": "markdown",
   "metadata": {},
   "source": [
    "02-cheater-analysis.ipynb\n",
    "======================\n",
    "\n",
    "The aim of this section is to analyse the characteristics of cheaters and those of non-cheaters.\n",
    "\n",
    "* Calculate the average kill ratio of cheaters and that of non-cheaters.\n",
    "* Calculate the average time difference between consecutive kills of cheaters and that of non-cheaters.\n",
    "* Plot the results and save them in the S3 bucket.\n",
    "* Perform t-tests.\n",
    "\n",
    "**Things to do**\n",
    "* Find how to store images in the S3 bucket."
   ]
  },
  {
   "cell_type": "markdown",
   "metadata": {},
   "source": [
    "## Load packages and read tables."
   ]
  },
  {
   "cell_type": "code",
   "execution_count": 2,
   "metadata": {},
   "outputs": [],
   "source": [
    "from pyspark.sql import functions as F\n",
    "import pandas as pd\n",
    "import matplotlib.pyplot as plt\n",
    "import numpy as np\n",
    "import pubg_analysis as pubg"
   ]
  },
  {
   "cell_type": "code",
   "execution_count": 3,
   "metadata": {},
   "outputs": [],
   "source": [
    "# Read a table that contains edges.\n",
    "td = spark.read.parquet(\"s3://jinny-capstone-data-test/data_for_cheater_analysis.parquet\")\n",
    "td.registerTempTable(\"td\")\n",
    "\n",
    "# Read a table that contains player data.\n",
    "players = spark.read.parquet(\"s3://jinny-capstone-data-test/players.parquet\")\n",
    "players.registerTempTable(\"players\")\n",
    "\n",
    "# Create a table of cheaters who were banned between March 1 and March 3.\n",
    "# The assumption is that cheaters who were banned during this period always did cheat.\n",
    "cheaters = spark.sql(\"SELECT * FROM players WHERE ban_date <= '2019-03-03'\")\n",
    "cheaters.registerTempTable(\"cheaters\")"
   ]
  },
  {
   "cell_type": "code",
   "execution_count": 3,
   "metadata": {},
   "outputs": [
    {
     "name": "stdout",
     "output_type": "stream",
     "text": [
      "+--------------------+---------------+-------------+--------+\n",
      "|                  id|          pname|cheating_flag|ban_date|\n",
      "+--------------------+---------------+-------------+--------+\n",
      "|account.1d0281ff2...|      ulimnet10|            0|      NA|\n",
      "|account.1c295c6c0...|       yoon9242|            0|      NA|\n",
      "|account.a2b8791d5...|        meco001|            0|      NA|\n",
      "|account.e3b1eb159...|         forsir|            0|      NA|\n",
      "|account.65433d8ee...|      jimin0311|            0|      NA|\n",
      "|account.74c0462cd...|namyoonwoo07074|            0|      NA|\n",
      "|account.64d031587...|       wreu1234|            0|      NA|\n",
      "|account.7f874085e...|        kbs4799|            0|      NA|\n",
      "|account.5c8366a6b...|       ssabu110|            0|      NA|\n",
      "|account.d89f4429c...|      gusrb0187|            0|      NA|\n",
      "+--------------------+---------------+-------------+--------+\n",
      "only showing top 10 rows\n",
      "\n",
      "+--------------------+-----------+-------------+----------+\n",
      "|                  id|      pname|cheating_flag|  ban_date|\n",
      "+--------------------+-----------+-------------+----------+\n",
      "|account.ae481ef49...| Spz_Aris97|            1|2019-03-03|\n",
      "|account.9e1ae5829...|   KOR_TONK|            1|2019-03-02|\n",
      "|account.8ec434ba5...|     peww12|            1|2019-03-02|\n",
      "|account.c89b95f1f...|    nickyII|            1|2019-03-01|\n",
      "|account.c191d79d3...|eunchan0215|            1|2019-03-03|\n",
      "|account.7d952f45d...|   ZERO___X|            1|2019-03-02|\n",
      "|account.a59baf515...|     yoacom|            1|2019-03-01|\n",
      "|account.f69b6e4c6...|      JATDA|            1|2019-03-02|\n",
      "|account.25677b46f...| Ttankej123|            1|2019-03-02|\n",
      "|account.cda616378...|   minamkss|            1|2019-03-02|\n",
      "+--------------------+-----------+-------------+----------+\n",
      "only showing top 10 rows\n",
      "\n"
     ]
    }
   ],
   "source": [
    "players.show(10)\n",
    "cheaters.show(10)"
   ]
  },
  {
   "cell_type": "markdown",
   "metadata": {},
   "source": [
    "## Calculate the average kill ratio for each cheater."
   ]
  },
  {
   "cell_type": "code",
   "execution_count": 8,
   "metadata": {},
   "outputs": [
    {
     "name": "stdout",
     "output_type": "stream",
     "text": [
      "0.7660972992926575\n",
      "0.8235294117647058\n",
      "651\n"
     ]
    }
   ],
   "source": [
    "# Get a dataframe that stores kill records of cheaters.\n",
    "c_kill_logs = spark.sql(\"\"\"SELECT mid, src, time, m_date, ban_date \n",
    "                           FROM td t JOIN cheaters c ON t.src = c.id\"\"\")\n",
    "c_kill_logs.registerTempTable(\"kill_logs\")\n",
    "\n",
    "# Get a dataframe that stores death records of cheaters.\n",
    "c_death_logs = spark.sql(\"\"\"SELECT mid, dst, time, m_date, ban_date \n",
    "                            FROM td t JOIN cheaters c ON t.dst = c.id\"\"\")\n",
    "c_death_logs.registerTempTable(\"death_logs\")\n",
    "\n",
    "c_avg_kill_ratio = pubg.get_avg_kill_ratio(c_kill_logs, c_death_logs)\n",
    "\n",
    "# Calculate the mean and median of average kill ratio.\n",
    "print(c_avg_kill_ratio['avg_kill_ratio'].mean())\n",
    "print(c_avg_kill_ratio['avg_kill_ratio'].median())\n",
    "\n",
    "# Count the number of unique cheaters who have the information on the averge kill ratio.\n",
    "print(len(c_avg_kill_ratio['avg_kill_ratio']))"
   ]
  },
  {
   "cell_type": "code",
   "execution_count": 9,
   "metadata": {},
   "outputs": [
    {
     "name": "stdout",
     "output_type": "stream",
     "text": [
      "+--------------------+-------------------+\n",
      "|                  id|     avg_kill_ratio|\n",
      "+--------------------+-------------------+\n",
      "|account.002dced5b...| 0.8864583333333333|\n",
      "|account.0087b5d4a...| 0.6923076923076923|\n",
      "|account.00a68dddf...| 0.9205020920502092|\n",
      "|account.010f30864...| 0.6666666666666666|\n",
      "|account.012829a2f...| 0.8888888888888888|\n",
      "|account.0198bd285...| 0.5679813219452367|\n",
      "|account.021034455...|                1.0|\n",
      "|account.0230c074a...| 0.9146341463414634|\n",
      "|account.028e1de9d...|  0.777056277056277|\n",
      "|account.036236700...|0.39655172413793105|\n",
      "+--------------------+-------------------+\n",
      "only showing top 10 rows\n",
      "\n"
     ]
    }
   ],
   "source": [
    "# Convert a Pandas dataframe to a Spark dataframe and store it in the S3 bucket.\n",
    "c_avg_kill_ratio_df = spark.createDataFrame(c_avg_kill_ratio)\n",
    "c_avg_kill_ratio_df.show(10)\n",
    "c_avg_kill_ratio_df.write.parquet(\"s3://jinny-capstone-data-test/cheater-analysis/c_avg_kill_ratio.parquet\")"
   ]
  },
  {
   "cell_type": "markdown",
   "metadata": {},
   "source": [
    "## Calculate the average kill ratio for each non-cheater."
   ]
  },
  {
   "cell_type": "code",
   "execution_count": 11,
   "metadata": {},
   "outputs": [
    {
     "name": "stdout",
     "output_type": "stream",
     "text": [
      "0.40450768160003997\n",
      "0.4436842105263158\n",
      "854153\n"
     ]
    }
   ],
   "source": [
    "# Create a dataframe that stores kill records of non-cheaters.\n",
    "nc_kill_logs = spark.sql(\"\"\"SELECT mid, src, dst, time, m_date \n",
    "                            FROM td t JOIN players p ON t.src = p.id WHERE cheating_flag = '0'\"\"\")\n",
    "nc_kill_logs.registerTempTable(\"kill_logs\")\n",
    "\n",
    "# Create a dataframe that stores death counts of non-cheaters.\n",
    "nc_death_logs = spark.sql(\"\"\"SELECT mid, src, dst, time, m_date \n",
    "                             FROM td t JOIN players p ON t.dst = p.id WHERE cheating_flag = '0'\"\"\")\n",
    "nc_death_logs.registerTempTable(\"death_logs\")\n",
    "\n",
    "nc_avg_kill_ratio = pubg.get_avg_kill_ratio(nc_kill_logs, nc_death_logs)\n",
    "\n",
    "# Calculate the mean and median of average kill ratio.\n",
    "print(nc_avg_kill_ratio['avg_kill_ratio'].mean())\n",
    "print(nc_avg_kill_ratio['avg_kill_ratio'].median())\n",
    "\n",
    "# Count the number of unique non-cheaters who have the information on the averge kill ratio.\n",
    "print(len(nc_avg_kill_ratio['avg_kill_ratio']))"
   ]
  },
  {
   "cell_type": "code",
   "execution_count": 12,
   "metadata": {},
   "outputs": [
    {
     "name": "stdout",
     "output_type": "stream",
     "text": [
      "+--------------------+------------------+\n",
      "|                  id|    avg_kill_ratio|\n",
      "+--------------------+------------------+\n",
      "|account.0000074ae...|0.5675381263616558|\n",
      "|account.000033c3d...|0.5384615384615384|\n",
      "|account.000046d1e...|               0.3|\n",
      "|account.00006cfdb...|             0.875|\n",
      "|account.000078418...|              0.25|\n",
      "|account.00007c1e6...|               0.0|\n",
      "|account.0000bd144...|0.5151515151515151|\n",
      "|account.0000c5a5c...|0.5227272727272727|\n",
      "|account.0000cd816...|0.3584905660377358|\n",
      "|account.0000f03a4...|               0.0|\n",
      "+--------------------+------------------+\n",
      "only showing top 10 rows\n",
      "\n"
     ]
    }
   ],
   "source": [
    "# Convert a Pandas dataframe to a Spark dataframe and store it in the S3 bucket.\n",
    "nc_avg_kill_ratio_df = spark.createDataFrame(nc_avg_kill_ratio)\n",
    "nc_avg_kill_ratio_df.show(10)\n",
    "nc_avg_kill_ratio_df.write.parquet(\"s3://jinny-capstone-data-test/cheater-analysis/nc_avg_kill_ratio.parquet\")"
   ]
  },
  {
   "cell_type": "markdown",
   "metadata": {},
   "source": [
    "## Plot the histogram of average kill ratio for both cheaters and non-cheaters."
   ]
  },
  {
   "cell_type": "code",
   "execution_count": 13,
   "metadata": {},
   "outputs": [
    {
     "data": {
      "image/png": "[encoded data removed]",
      "text/plain": [
       "<Figure size 432x288 with 1 Axes>"
      ]
     },
     "metadata": {},
     "output_type": "display_data"
    }
   ],
   "source": [
    "# Plot the histograms of cheaters and non-cheaters together.\n",
    "ax = nc_avg_kill_ratio.hist(column='avg_kill_ratio', histtype='step', edgecolor='blue', bins=40, \n",
    "                            label='Non-cheaters', weights=np.zeros_like(nc_avg_kill_ratio['avg_kill_ratio'])+1./len(nc_avg_kill_ratio['avg_kill_ratio']))\n",
    "fig = c_avg_kill_ratio.hist(column='avg_kill_ratio', histtype='step', edgecolor='red', bins=40, \n",
    "                            label='Cheaters', weights=np.zeros_like(c_avg_kill_ratio['avg_kill_ratio'])+1./len(c_avg_kill_ratio['avg_kill_ratio']), ax=ax)\n",
    "plt.title('')\n",
    "plt.xlim(xmin = 0)\n",
    "plt.xlim(xmax = 1)\n",
    "plt.xlabel('Average kill ratio')\n",
    "plt.ylabel('Proportion')\n",
    "plt.tight_layout()\n",
    "plt.legend(loc='upper right', frameon=False)\n",
    "image = plt.show()"
   ]
  },
  {
   "cell_type": "markdown",
   "metadata": {},
   "source": [
    "## Calculate the average time difference between consecutive kills for each cheater."
   ]
  },
  {
   "cell_type": "code",
   "execution_count": 15,
   "metadata": {},
   "outputs": [
    {
     "data": {
      "image/png": "[encoded data removed]",
      "text/plain": [
       "<Figure size 432x288 with 1 Axes>"
      ]
     },
     "metadata": {},
     "output_type": "display_data"
    },
    {
     "name": "stdout",
     "output_type": "stream",
     "text": [
      "139.66977088395822\n",
      "123.93023255813954\n",
      "629\n"
     ]
    }
   ],
   "source": [
    "# Get a dataframe that stores kill records of cheaters.\n",
    "c_kill_logs.registerTempTable(\"kill_logs\")\n",
    "\n",
    "c_avg_kill_interval = pubg.get_avg_time_diff_between_kills(c_kill_logs)\n",
    "\n",
    "# Plot the distribution of the overall average time difference between kills.\n",
    "fig = c_avg_kill_interval.hist(column='delta', histtype='step', edgecolor='red', bins=40, \n",
    "                               weights=np.zeros_like(c_avg_kill_interval['delta'])+1./len(c_avg_kill_interval['delta']))\n",
    "plt.xlim(xmin = 0)\n",
    "plt.xlabel(\"Average time difference between kills\")\n",
    "plt.ylabel(\"Proportion\")\n",
    "plt.title(\"\")\n",
    "image = plt.show()\n",
    "\n",
    "# Calculate the mean and median of average time difference between kills.\n",
    "print(c_avg_kill_interval['delta'].mean())\n",
    "print(c_avg_kill_interval['delta'].median())\n",
    "\n",
    "# Count the number of unique cheaters who have the information on the averge time difference between kills.\n",
    "print(len(c_avg_kill_interval['delta']))"
   ]
  },
  {
   "cell_type": "markdown",
   "metadata": {},
   "source": [
    "## Calculate the average time difference between consecutive kills for each non-cheater."
   ]
  },
  {
   "cell_type": "code",
   "execution_count": 16,
   "metadata": {},
   "outputs": [
    {
     "data": {
      "image/png": "[encoded data removed]",
      "text/plain": [
       "<Figure size 432x288 with 1 Axes>"
      ]
     },
     "metadata": {},
     "output_type": "display_data"
    },
    {
     "name": "stdout",
     "output_type": "stream",
     "text": [
      "194.10901536627722\n",
      "172.63484848484848\n",
      "623678\n"
     ]
    }
   ],
   "source": [
    "# Get a dataframe that stores kill records of non-cheaters.\n",
    "nc_kill_logs.registerTempTable(\"kill_logs\")\n",
    "\n",
    "nc_avg_kill_interval = pubg.get_avg_time_diff_between_kills(nc_kill_logs)\n",
    "\n",
    "# Plot the distribution of the overall average time difference between kills.\n",
    "fig = nc_avg_kill_interval.hist(column='delta', histtype='step', edgecolor='blue', bins=40, \n",
    "                                weights=np.zeros_like(nc_avg_kill_interval['delta'])+1./len(nc_avg_kill_interval['delta']))\n",
    "plt.xlim(xmin = 0)\n",
    "plt.xlabel(\"Average time difference between kills\")\n",
    "plt.ylabel(\"Proportion\")\n",
    "plt.title(\"\")\n",
    "image = plt.show() \n",
    "\n",
    "# Calculate the mean and median of average time difference between kills.\n",
    "print(nc_avg_kill_interval['delta'].mean())\n",
    "print(nc_avg_kill_interval['delta'].median())\n",
    "\n",
    "# Count the number of unique non-cheaters who have the information on the averge time difference between kills.\n",
    "print(len(nc_avg_kill_interval['delta']))"
   ]
  },
  {
   "cell_type": "markdown",
   "metadata": {},
   "source": [
    "## Plot the histogram of average time difference between kills for both cheaters and non-cheaters."
   ]
  },
  {
   "cell_type": "code",
   "execution_count": 23,
   "metadata": {},
   "outputs": [
    {
     "data": {
      "image/png": "[encoded data removed]",
      "text/plain": [
       "<Figure size 432x288 with 1 Axes>"
      ]
     },
     "metadata": {
      "needs_background": "light"
     },
     "output_type": "display_data"
    }
   ],
   "source": [
    "# Plot the histograms of cheaters and non-cheaters together.\n",
    "ax = nc_avg_kill_interval.hist(column='delta', histtype='step', edgecolor='blue', bins=40, label='Non-cheaters', \n",
    "                               weights=np.zeros_like(nc_avg_kill_interval['delta'])+1./len(nc_avg_kill_interval['delta']))\n",
    "fig = c_avg_kill_interval.hist(column='delta', histtype='step', edgecolor='red', bins=40, label='Cheaters', \n",
    "                               weights=np.zeros_like(c_avg_kill_interval['delta'])+1./len(c_avg_kill_interval['delta']), ax=ax)\n",
    "plt.title('')\n",
    "plt.xlabel('Average time difference between kills')\n",
    "plt.ylabel('Proportion')\n",
    "plt.xlim(xmin = 0)\n",
    "plt.xlim(xmax=1400) # Exclude outliers.\n",
    "plt.legend(loc='upper right', frameon=False)\n",
    "plt.tight_layout()\n",
    "image = plt.show()"
   ]
  },
  {
   "cell_type": "markdown",
   "metadata": {},
   "source": [
    "## Perform t-tests."
   ]
  },
  {
   "cell_type": "code",
   "execution_count": 24,
   "metadata": {},
   "outputs": [
    {
     "name": "stdout",
     "output_type": "stream",
     "text": [
      "Ttest_indResult(statistic=48.642949301970155, pvalue=5.21041415121064e-219)\n",
      "Ttest_indResult(statistic=-18.23534115019431, pvalue=5.033857656117679e-60)\n"
     ]
    }
   ],
   "source": [
    "import scipy\n",
    "import scipy.stats\n",
    "from scipy.stats import ttest_ind\n",
    "\n",
    "\n",
    "print(scipy.stats.ttest_ind(c_avg_kill_ratio['avg_kill_ratio'], nc_avg_kill_ratio['avg_kill_ratio'], equal_var=False))\n",
    "print(scipy.stats.ttest_ind(c_avg_kill_interval['delta'], nc_avg_kill_interval['delta'], equal_var=False))"
   ]
  }
 ],
 "metadata": {
  "kernelspec": {
   "display_name": "Python 3",
   "language": "python",
   "name": "python3"
  },
  "language_info": {
   "codemirror_mode": {
    "name": "ipython",
    "version": 3
   },
   "file_extension": ".py",
   "mimetype": "text/x-python",
   "name": "python",
   "nbconvert_exporter": "python",
   "pygments_lexer": "ipython3",
   "version": "3.7.3"
  },
  "name": "2_cheater_analysis",
  "notebookId": 3403989876538765
 },
 "nbformat": 4,
 "nbformat_minor": 1
}
