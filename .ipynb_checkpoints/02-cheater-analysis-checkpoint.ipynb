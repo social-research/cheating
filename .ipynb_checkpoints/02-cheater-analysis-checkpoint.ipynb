{
 "cells": [
  {
   "cell_type": "markdown",
   "metadata": {},
   "source": [
    "## 2 CHEATER PERFORMANCE ANALYSIS"
   ]
  },
  {
   "cell_type": "markdown",
   "metadata": {},
   "source": [
    "To decide on a baseline for cheating detection, we compare cheaters and non-cheaters who played the game between March 1 and March 3 in terms of performance. We first assume that 651 cheaters who were banned during this period always did cheat and then compare cheaters and non-cheaters using two performance measures.<br> To see the relevant figures, turn to 'paper-general-stats-visualization.ipynb'."
   ]
  },
  {
   "cell_type": "code",
   "execution_count": 1,
   "metadata": {},
   "outputs": [],
   "source": [
    "import pandas as pd\n",
    "import scipy.stats\n",
    "import analyze_cheaters"
   ]
  },
  {
   "cell_type": "code",
   "execution_count": 2,
   "metadata": {},
   "outputs": [],
   "source": [
    "td = spark.read.parquet(\"s3://social-research-cheating/cheater-analysis/data_for_cheater_analysis.parquet\")\n",
    "td.registerTempTable(\"td\")\n",
    "\n",
    "players = spark.read.parquet(\"s3://social-research-cheating/players.parquet\")\n",
    "players.registerTempTable(\"players\")\n",
    "\n",
    "cheaters = spark.sql(\"SELECT * FROM players WHERE ban_date <= '2019-03-03'\")\n",
    "cheaters.registerTempTable(\"cheaters\")"
   ]
  },
  {
   "cell_type": "markdown",
   "metadata": {},
   "source": [
    "### 2.1 THE AVERAGE KILL RATIO OF CHEATERS\n",
    "\n",
    "We first calculate the average kill ratio per day and then get the overall average of the measurements for each player."
   ]
  },
  {
   "cell_type": "code",
   "execution_count": 3,
   "metadata": {},
   "outputs": [
    {
     "name": "stdout",
     "output_type": "stream",
     "text": [
      "0.7661\n",
      "0.8235\n",
      "651\n"
     ]
    }
   ],
   "source": [
    "kills = spark.sql(\"SELECT mid, src, time, m_date FROM td t JOIN cheaters c ON t.src = c.id\")\n",
    "kills.registerTempTable(\"kills\")\n",
    "\n",
    "deaths = spark.sql(\"SELECT mid, dst, time, m_date FROM td t JOIN cheaters c ON t.dst = c.id\")\n",
    "deaths.registerTempTable(\"deaths\")\n",
    "\n",
    "cheater_kill_ratio = analyze_cheaters.get_avg_kill_ratio(kills, deaths)\n",
    "\n",
    "print(cheater_kill_ratio['avg_kill_ratio'].mean())\n",
    "print(cheater_kill_ratio['avg_kill_ratio'].median())\n",
    "print(len(cheater_kill_ratio['avg_kill_ratio']))\n",
    "print(cheater_kill_ratio.head(10))"
   ]
  },
  {
   "cell_type": "markdown",
   "metadata": {},
   "source": [
    "### 2.2 THE AVERAGE TIME DIFFERENCE BETWEEN KILLS OF CHEATERS\n",
    "\n",
    "Note that players should kill at least two other players to be evaluated by this measure."
   ]
  },
  {
   "cell_type": "code",
   "execution_count": 9,
   "metadata": {},
   "outputs": [
    {
     "name": "stdout",
     "output_type": "stream",
     "text": [
      "139.6698\n",
      "123.9302\n",
      "629\n"
     ]
    }
   ],
   "source": [
    "cheater_kill_interval = analyze_cheaters.get_avg_time_diff_between_kills(cheater_kills)\n",
    "\n",
    "print(cheater_kill_interval['delta'].mean())\n",
    "print(cheater_kill_interval['delta'].median())\n",
    "print(len(cheater_kill_interval['delta']))\n",
    "print(cheater_kill_interval.head(10))"
   ]
  },
  {
   "cell_type": "markdown",
   "metadata": {},
   "source": [
    "### 2.3 THE AVERAGE KILL RATIO OF NON-CHEATERS"
   ]
  },
  {
   "cell_type": "code",
   "execution_count": 6,
   "metadata": {},
   "outputs": [
    {
     "name": "stdout",
     "output_type": "stream",
     "text": [
      "0.4045\n",
      "0.4437\n",
      "854153\n"
     ]
    }
   ],
   "source": [
    "kills = spark.sql(\"\"\"SELECT mid, src, time, m_date FROM td t JOIN players p ON t.src = p.id \n",
    "                     WHERE cheating_flag = 0\"\"\")\n",
    "kills.registerTempTable(\"kills\")\n",
    "\n",
    "deaths = spark.sql(\"\"\"SELECT mid, dst, time, m_date FROM td t JOIN players p ON t.dst = p.id \n",
    "                      WHERE cheating_flag = 0\"\"\")\n",
    "deaths.registerTempTable(\"deaths\")\n",
    "\n",
    "non_cheater_kill_ratio = analyze_cheaters.get_avg_kill_ratio(kills, deaths)\n",
    "\n",
    "print(non_cheater_kill_ratio['avg_kill_ratio'].mean())\n",
    "print(non_cheater_kill_ratio['avg_kill_ratio'].median())\n",
    "print(len(non_cheater_kill_ratio['avg_kill_ratio']))\n",
    "print(non_cheater_kill_ratio.head(10))"
   ]
  },
  {
   "cell_type": "markdown",
   "metadata": {},
   "source": [
    "### 2.4 THE AVERAGE TIME DIFFERENCE BETWEEN KILLS OF NON-CHEATERS"
   ]
  },
  {
   "cell_type": "code",
   "execution_count": 11,
   "metadata": {},
   "outputs": [
    {
     "name": "stdout",
     "output_type": "stream",
     "text": [
      "194.109\n",
      "172.6348\n",
      "623678\n"
     ]
    }
   ],
   "source": [
    "non_cheater_kill_interval = analyze_cheaters.get_avg_time_diff_between_kills(kills)\n",
    "\n",
    "print(non_cheater_kill_interval['delta'].mean())\n",
    "print(non_cheater_kill_interval['delta'].median())\n",
    "print(len(non_cheater_kill_interval['delta']))\n",
    "print(non_cheater_kill_interval.head(10))"
   ]
  },
  {
   "cell_type": "markdown",
   "metadata": {},
   "source": [
    "### 2.5 COMPARING TWO GROUPS"
   ]
  },
  {
   "cell_type": "code",
   "execution_count": 13,
   "metadata": {},
   "outputs": [
    {
     "name": "stdout",
     "output_type": "stream",
     "text": [
      "Ttest_indResult(statistic=48.64290196560924, pvalue=5.2129993985436896e-219)\n",
      "Ttest_indResult(statistic=-18.235341545750604, pvalue=5.033833786064087e-60)\n"
     ]
    }
   ],
   "source": [
    "print(scipy.stats.ttest_ind(cheater_kill_ratio['avg_kill_ratio'], non_cheater_kill_ratio['avg_kill_ratio'], \n",
    "                            equal_var=False))\n",
    "\n",
    "print(scipy.stats.ttest_ind(cheater_kill_interval['delta'], non_cheater_kill_interval['delta'], equal_var=False))"
   ]
  }
 ],
 "metadata": {
  "kernelspec": {
   "display_name": "Python 3",
   "language": "python",
   "name": "python3"
  },
  "language_info": {
   "codemirror_mode": {
    "name": "ipython",
    "version": 3
   },
   "file_extension": ".py",
   "mimetype": "text/x-python",
   "name": "python",
   "nbconvert_exporter": "python",
   "pygments_lexer": "ipython3",
   "version": "3.7.3"
  },
  "name": "2_cheater_analysis",
  "notebookId": 3403989876538765
 },
 "nbformat": 4,
 "nbformat_minor": 1
}
