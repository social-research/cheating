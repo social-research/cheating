{
 "cells": [
  {
   "cell_type": "markdown",
   "metadata": {},
   "source": [
    "# 08. Create heatmaps of test statistics"
   ]
  },
  {
   "cell_type": "markdown",
   "metadata": {},
   "source": [
    "---\n",
    "In this section, we use the data in csv files to create heatmaps of test statistics (z-scores, Poisson statistics, and frequencies).\n",
    "\n",
    "1. Create a heatmap of P-values based on z-scores - strict def. of experience and observation.\n",
    "2. Create a heatmap of P-values based on z-scores - simple def. of experience and observation.\n",
    "3. Calculate the P-values of each motif - (1, 0), (0, 1), and (1, 1).\n",
    "4. Plot a heatmap of P-values based on Poisson statistics - strict def. of observation and experience.\n",
    "5. Plot a heatmap of P-values based on Poisson statistics - simple def. of observation and experience.\n",
    "6. Plot the number of counts in cells.\n",
    "\n",
    "There are four files in the folder 'data':\n",
    "* RO_RE.csv: Simple def. of observation and experience\n",
    "* SO_SE.csv: Strict def. of observation and experience\n",
    "* RO_SE.csv: Simple def. of observation and strict def. of experience\n",
    "* SO_RE.csv: Strict def. of observation and simple def. of experience"
   ]
  },
  {
   "cell_type": "code",
   "execution_count": 2,
   "metadata": {},
   "outputs": [],
   "source": [
    "import numpy as np\n",
    "import matplotlib.pylab as plt\n",
    "import pandas as pd\n",
    "import matplotlib\n",
    "from matplotlib.colors import DivergingNorm\n",
    "import matplotlib.colors\n",
    "import scipy.stats\n",
    "from scipy.stats import norm\n",
    "import sys"
   ]
  },
  {
   "cell_type": "code",
   "execution_count": 3,
   "metadata": {},
   "outputs": [],
   "source": [
    "params = {\n",
    "    'text.latex.preamble': ['\\\\usepackage{gensymb}'],\n",
    "    'image.origin': 'lower',\n",
    "    'image.interpolation': 'nearest',\n",
    "    'image.cmap': 'PiYG',\n",
    "    'axes.linewidth': 0.25,\n",
    "    'axes.grid': False,\n",
    "    'savefig.dpi': 400,\n",
    "    'axes.labelsize': 7, # Adjust the font size of x and y labels.\n",
    "    'axes.titlesize': 9,\n",
    "    'axes.facecolor': 'white',\n",
    "    'xtick.major.size': 2,\n",
    "    'ytick.major.width': 0.25,\n",
    "    'ytick.major.size': 2,\n",
    "    'xtick.major.width': 0.25,\n",
    "    'xtick.major.pad': '4',\n",
    "    'ytick.major.pad': '4',\n",
    "    'xtick.minor.size': 2,\n",
    "    'ytick.minor.width': 0.25,\n",
    "    'ytick.minor.size': 2,\n",
    "    'xtick.minor.width': 0.25,\n",
    "    'font.size': 7, \n",
    "    'legend.fontsize': 7,\n",
    "    'xtick.labelsize': 7,\n",
    "    'ytick.labelsize': 7,\n",
    "    'lines.linewidth': 0.25,\n",
    "    'patch.linewidth': 0.25,\n",
    "    #'text.usetex': True,\n",
    "    'figure.figsize': [7, 7],\n",
    "    'font.family': 'sans-serif',\n",
    "    'font.sans-serif': 'Arial'\n",
    "}\n",
    "matplotlib.rcParams.update(params)\n",
    "\n",
    "\n",
    "def colorbar(mappable):\n",
    "    from mpl_toolkits.axes_grid1 import make_axes_locatable\n",
    "    \n",
    "    last_axes = plt.gca()\n",
    "    ax = mappable.axes\n",
    "    fig = ax.figure\n",
    "    divider = make_axes_locatable(ax)\n",
    "    cax = divider.append_axes(\"right\", size=\"3%\", pad=0.1)\n",
    "    cbar = fig.colorbar(mappable, cax=cax)\n",
    "    plt.sca(last_axes)\n",
    "    return cbar"
   ]
  },
  {
   "cell_type": "markdown",
   "metadata": {},
   "source": [
    "## 1) Create a heatmap of P-values based on z-scores"
   ]
  },
  {
   "cell_type": "code",
   "execution_count": 4,
   "metadata": {},
   "outputs": [],
   "source": [
    "def get_simple():\n",
    "    merged_df = pd.read_csv('data/RO_RE.csv')\n",
    "    test_dat = merged_df.sort_values(['total_exp', 'total_obs']).reset_index(drop=True)\n",
    "\n",
    "    col_list = list(test_dat.columns[2:])\n",
    "    res = test_dat.groupby([test_dat.total_exp, pd.cut(test_dat.total_obs, \n",
    "                                                       [-np.inf, 0, 1, 2, 3, 4, 5, 6, 7, 8, 9, 10, 11, np.inf], \n",
    "                                                       labels = [0, 1, 2, 3, 4, 5, 6, \n",
    "                                                                 7, 8, 9, 10, 11, 12])])[col_list].sum().reset_index()\n",
    "\n",
    "    test_dat = res.groupby([res.total_obs, pd.cut(res.total_exp,[-np.inf, 0, 1, 2, np.inf], \n",
    "                                                  labels = [0, 1, 2, 3])])[col_list].sum().reset_index()\n",
    "\n",
    "    test_dat['rand_mean'] = test_dat.iloc[:, 3:].mean(axis=1)\n",
    "    test_dat['rand_std'] = test_dat.iloc[:, 3:103].std(axis=1)\n",
    "    test_dat['z_score'] = norm.ppf(norm.cdf(x=test_dat['E'],loc=test_dat['rand_mean'], \n",
    "                                   scale=test_dat['rand_std']))\n",
    "    test_dat['p_val'] = 1 - norm.cdf(test_dat['z_score'])\n",
    "    test_dat = test_dat.round({\"rand_mean\":2, \"rand_std\":2, \"z_score\":3, \"p_val\":3})\n",
    "    piv = pd.pivot_table(test_dat, values=\"p_val\",index=[\"total_exp\"], columns=[\"total_obs\"])\n",
    "    return piv\n",
    "\n",
    "def get_strict():\n",
    "    merged_df = pd.read_csv('data/SO_SE.csv')\n",
    "    test_dat = merged_df.sort_values(['sev_exp', 'total_obs']).reset_index(drop=True)\n",
    "\n",
    "    col_list = list(test_dat.columns[2:])\n",
    "    res = test_dat.groupby([test_dat.sev_exp, pd.cut(test_dat.total_obs, \n",
    "                                                       [-np.inf, 0, 1, 2, 3, 4, 5, 6, 7, 8, np.inf], \n",
    "                                                       labels = [0, 1, 2, 3, 4, \n",
    "                                                                 5, 6, 7, 8, 9])])[col_list].sum().reset_index()\n",
    "\n",
    "    test_dat = res.groupby([res.total_obs, pd.cut(res.sev_exp,[-np.inf, 0, 1, np.inf], \n",
    "                                                  labels = [0, 1, 2])])[col_list].sum().reset_index()\n",
    "\n",
    "    test_dat['rand_mean'] = test_dat.iloc[:, 3:].mean(axis=1)\n",
    "    test_dat['rand_std'] = test_dat.iloc[:, 3:103].std(axis=1)\n",
    "    test_dat['z_score'] = norm.ppf(norm.cdf(x=test_dat['E'],loc=test_dat['rand_mean'], \n",
    "                                   scale=test_dat['rand_std']))\n",
    "    test_dat['p_val'] = 1 - norm.cdf(test_dat['z_score'])\n",
    "    test_dat = test_dat.round({\"rand_mean\":2, \"rand_std\":2, \"z_score\":3, \"p_val\":3})\n",
    "    piv = pd.pivot_table(test_dat, values=\"p_val\", index=[\"sev_exp\"], columns=[\"total_obs\"])\n",
    "    return piv\n"
   ]
  },
  {
   "cell_type": "code",
   "execution_count": 5,
   "metadata": {
    "scrolled": false
   },
   "outputs": [
    {
     "name": "stdout",
     "output_type": "stream",
     "text": [
      "total_obs     0      1      2      3      4      5      6      7      8   \\\n",
      "total_exp                                                                  \n",
      "0          0.170  0.962  0.471  0.688  0.200  0.775  0.705  0.048  0.623   \n",
      "1          0.525  0.169  0.362  0.151  0.933  0.487  0.701  0.677  0.274   \n",
      "2          0.550  0.631  0.760  0.020  0.881  0.000  0.645  0.298  0.827   \n",
      "3          0.239  0.630  0.423  0.149  0.059  0.901  0.931  0.005  0.606   \n",
      "\n",
      "total_obs     9      10     11     12  \n",
      "total_exp                              \n",
      "0          0.008  0.947  0.142  0.189  \n",
      "1          0.988  0.244  0.731  0.710  \n",
      "2          0.082  0.508  0.027  0.831  \n",
      "3          0.366  0.324  0.937  0.059  \n",
      "total_obs      0      1      2      3      4      5      6      7      8  \\\n",
      "sev_exp                                                                    \n",
      "0          0.735  0.717  0.886  0.288  0.229  0.137  0.243  0.931  0.023   \n",
      "1          0.851  0.025  0.259  0.077  0.810  0.406  0.275  0.131  0.380   \n",
      "2          0.769  0.649  0.002  0.826  0.123  0.565  0.677  0.001  0.141   \n",
      "\n",
      "total_obs      9  \n",
      "sev_exp           \n",
      "0          0.516  \n",
      "1          0.971  \n",
      "2          0.445  \n"
     ]
    },
    {
     "data": {
      "image/png": "[encoded data removed]",
      "text/plain": [
       "<Figure size 504x388.8 with 4 Axes>"
      ]
     },
     "metadata": {
      "needs_background": "light"
     },
     "output_type": "display_data"
    },
    {
     "data": {
      "text/plain": [
       "<Figure size 504x504 with 0 Axes>"
      ]
     },
     "metadata": {},
     "output_type": "display_data"
    }
   ],
   "source": [
    "def plot_heatmap(ax, piv, xticks, yticks, title, cbar=True):\n",
    "    colnorm = DivergingNorm(vmin=0, vcenter=0.05, vmax=1)\n",
    "    img1 = ax.imshow(piv, alpha=0.8, norm=colnorm)\n",
    "    ax.set_xticks(np.arange(piv.shape[1]))\n",
    "    ax.set_xticklabels(xticks)\n",
    "    ax.set_yticks(np.arange(piv.shape[0]))\n",
    "    ax.set_yticklabels(yticks)\n",
    "    ax.title.set_text(title)\n",
    "    ax.set_xlabel(r'Observation of $n_o$ cheaters')\n",
    "    ax.set_ylabel(r'Victimization by $n_v$ cheaters')\n",
    "\n",
    "    textcolors = [\"k\", \"w\"]\n",
    "    for x in range(piv.shape[1]):\n",
    "        for y in range(piv.shape[0]):\n",
    "            if np.isnan(piv.iloc[y, x]) == False:\n",
    "                text = ax.text(x, y, ('%.3f' % piv.iloc[y, x]).lstrip('0'), ha=\"center\", va=\"center\", fontsize=6,\n",
    "                               color=textcolors[1 if piv.iloc[y, x] <= 0.01 or piv.iloc[y, x] >= 0.85 else 0])\n",
    "    if cbar:\n",
    "        cbar = colorbar(img1)\n",
    "        cbar.solids.set_edgecolor(\"face\")\n",
    "\n",
    "\n",
    "### Plot a heatmap of P-values (z-scores).\n",
    "fig, (ax1, ax2) = plt.subplots(2, 1, figsize=(7, 5.4))\n",
    "\n",
    "piv1 = get_simple()\n",
    "print(piv1)\n",
    "xticks1 = [0, 1, 2, 3, 4, 5, 6, 7, 8, 9, 10, 11, '12+']\n",
    "yticks1 = [0, 1, 2, '3+']\n",
    "plot_heatmap(ax1, piv1, xticks1, yticks1, 'A) Simple definition')\n",
    "\n",
    "piv2 = get_strict()\n",
    "print(piv2)\n",
    "xticks2 = [0, 1, 2, 3, 4, 5, 6, 7, 8, '9+']\n",
    "yticks2 = [0, 1, '2+']\n",
    "plot_heatmap(ax2, piv2, xticks2, yticks2, 'B) Strict definition')\n",
    "\n",
    "plt.show()\n",
    "plt.tight_layout()\n",
    "fig.savefig('figs/z-scores/zscore_p_val.png')"
   ]
  },
  {
   "cell_type": "markdown",
   "metadata": {},
   "source": [
    "## 2) Plot a heatmap of P-values based on Poisson statistics "
   ]
  },
  {
   "cell_type": "code",
   "execution_count": 6,
   "metadata": {},
   "outputs": [
    {
     "name": "stdout",
     "output_type": "stream",
     "text": [
      "total_obs     0      1      2      3      4      5      6      7      8   \\\n",
      "total_exp                                                                  \n",
      "0          0.332  0.804  0.493  0.635  0.300  0.743  0.680  0.124  0.616   \n",
      "1          0.531  0.257  0.404  0.222  0.907  0.515  0.693  0.695  0.318   \n",
      "2          0.570  0.706  0.784  0.063  0.887  0.006  0.692  0.373  0.846   \n",
      "3          0.347  1.000  0.564  0.253  0.112  1.000  1.000  0.036  0.689   \n",
      "\n",
      "total_obs     9      10     11     12  \n",
      "total_exp                              \n",
      "0          0.053  0.945  0.218  0.308  \n",
      "1          0.986  0.310  0.777  0.682  \n",
      "2          0.129  0.566  0.056  0.831  \n",
      "3          0.454  0.409  1.000  0.196  \n"
     ]
    },
    {
     "data": {
      "image/png": "[encoded data removed]",
      "text/plain": [
       "<Figure size 417.6x144 with 2 Axes>"
      ]
     },
     "metadata": {
      "needs_background": "light"
     },
     "output_type": "display_data"
    },
    {
     "name": "stdout",
     "output_type": "stream",
     "text": [
      "total_obs      0      1      2      3      4      5      6      7      8  \\\n",
      "sev_exp                                                                    \n",
      "0          0.605  0.643  0.778  0.361  0.331  0.213  0.322  0.924  0.123   \n",
      "1          0.811  0.095  0.349  0.144  0.805  0.448  0.347  0.204  0.457   \n",
      "2          0.789  0.723  0.016  0.876  0.182  0.615  0.736  0.016  0.209   \n",
      "\n",
      "total_obs      9  \n",
      "sev_exp           \n",
      "0          0.538  \n",
      "1          0.936  \n",
      "2          0.507  \n"
     ]
    },
    {
     "data": {
      "image/png": "[encoded data removed]",
      "text/plain": [
       "<Figure size 336.96x115.2 with 2 Axes>"
      ]
     },
     "metadata": {
      "needs_background": "light"
     },
     "output_type": "display_data"
    }
   ],
   "source": [
    "def get_simple_poiss():\n",
    "    merged_df = pd.read_csv('data/RO_RE.csv')\n",
    "    test_dat = merged_df.sort_values(['total_exp', 'total_obs']).reset_index(drop=True)\n",
    "\n",
    "    col_list = list(test_dat.columns[2:])\n",
    "    res = test_dat.groupby([test_dat.total_exp, pd.cut(test_dat.total_obs, \n",
    "                                                       [-np.inf, 0, 1, 2, 3, 4, 5, 6, 7, 8, 9, 10, 11, np.inf], \n",
    "                                                       labels = [0, 1, 2, 3, 4, 5, 6, \n",
    "                                                                 7, 8, 9, 10, 11, 12])])[col_list].sum().reset_index()\n",
    "\n",
    "    test_dat = res.groupby([res.total_obs, pd.cut(res.total_exp,[-np.inf, 0, 1, 2, np.inf], \n",
    "                                                  labels = [0, 1, 2, 3])])[col_list].sum().reset_index()\n",
    "\n",
    "    test_dat['rand_mean'] = test_dat.iloc[:, 3:].mean(axis=1)\n",
    "    test_dat['cdf'] = scipy.stats.poisson.cdf(test_dat['E'], test_dat['rand_mean'])\n",
    "    test_dat['pmf'] = scipy.stats.poisson.pmf(test_dat['E'], test_dat['rand_mean'])\n",
    "    test_dat['prob'] = 1 - test_dat['cdf'] + test_dat['pmf']\n",
    "\n",
    "    test_dat = test_dat.round({\"rand_mean\":2, \"cdf\":3, \"pmf\":3, \"prob\":3})\n",
    "\n",
    "    piv = pd.pivot_table(test_dat, values=\"prob\",index=[\"total_exp\"], columns=[\"total_obs\"])\n",
    "    return piv\n",
    "\n",
    "def get_strict_poiss():\n",
    "    merged_df = pd.read_csv('data/SO_SE.csv')\n",
    "    test_dat = merged_df.sort_values(['sev_exp', 'total_obs']).reset_index(drop=True)\n",
    "\n",
    "    col_list = list(test_dat.columns[2:])\n",
    "    res = test_dat.groupby([test_dat.sev_exp, pd.cut(test_dat.total_obs, \n",
    "                                                       [-np.inf, 0, 1, 2, 3, 4, 5, 6, 7, 8, np.inf], \n",
    "                                                       labels = [0, 1, 2, 3, 4, \n",
    "                                                                 5, 6, 7, 8, 9])])[col_list].sum().reset_index()\n",
    "\n",
    "    test_dat = res.groupby([res.total_obs, pd.cut(res.sev_exp,[-np.inf, 0, 1, np.inf], \n",
    "                                                  labels = [0, 1, 2])])[col_list].sum().reset_index()\n",
    "\n",
    "    test_dat['rand_mean'] = test_dat.iloc[:, 3:].mean(axis=1)\n",
    "    test_dat['cdf'] = scipy.stats.poisson.cdf(test_dat['E'], test_dat['rand_mean'])\n",
    "    test_dat['pmf'] = scipy.stats.poisson.pmf(test_dat['E'], test_dat['rand_mean'])\n",
    "    test_dat['prob'] = 1 - test_dat['cdf'] + test_dat['pmf']\n",
    "\n",
    "    test_dat = test_dat.round({\"rand_mean\":2, \"cdf\":3, \"pmf\":3, \"prob\":3})\n",
    "    \n",
    "    piv = pd.pivot_table(test_dat, values=\"prob\",index=[\"sev_exp\"], columns=[\"total_obs\"])\n",
    "    return piv\n",
    "\n",
    "    \n",
    "    \n",
    "### Plot a heatmap of P-values (Poisson).\n",
    "fig, ax1 = plt.subplots(1, 1, figsize=(5.8, 2))\n",
    "piv1 = get_simple_poiss()\n",
    "print(piv1)\n",
    "xticks1 = [0, 1, 2, 3, 4, 5, 6, 7, 8, 9, 10, 11, '12+']\n",
    "yticks1 = [0, 1, 2, '3+']\n",
    "plot_heatmap(ax1, piv1, xticks1, yticks1, '')\n",
    "plt.tight_layout()\n",
    "plt.show()\n",
    "fig.savefig('figs/paper/poiss_simple_detail.pdf', format='pdf')\n",
    "\n",
    "\n",
    "fig, ax2 = plt.subplots(1, 1, figsize=(4.68, 1.6))\n",
    "piv2 = get_strict_poiss()\n",
    "print(piv2)\n",
    "xticks2 = [0, 1, 2, 3, 4, 5, 6, 7, 8, '9+']\n",
    "yticks2 = [0, 1, '2+']\n",
    "plot_heatmap(ax2, piv2, xticks2, yticks2, '')\n",
    "\n",
    "plt.tight_layout()\n",
    "plt.show()\n",
    "fig.savefig('figs/paper/poiss_strict_detail.pdf', format='pdf')\n"
   ]
  },
  {
   "cell_type": "markdown",
   "metadata": {},
   "source": [
    "### 3) Calculate the P-values of each motif - (1, 0), (0, 1), and (1, 1)."
   ]
  },
  {
   "cell_type": "code",
   "execution_count": 7,
   "metadata": {},
   "outputs": [
    {
     "name": "stdout",
     "output_type": "stream",
     "text": [
      "O      0      1\n",
      "V              \n",
      "0    NaN  0.093\n",
      "1  0.312  0.018\n",
      "O      0      1\n",
      "V              \n",
      "0    NaN  0.232\n",
      "1  0.926  0.000\n"
     ]
    },
    {
     "data": {
      "image/png": "[encoded data removed]",
      "text/plain": [
       "<Figure size 86.4x93.6 with 1 Axes>"
      ]
     },
     "metadata": {
      "needs_background": "light"
     },
     "output_type": "display_data"
    },
    {
     "data": {
      "image/png": "[encoded data removed]",
      "text/plain": [
       "<Figure size 86.4x93.6 with 1 Axes>"
      ]
     },
     "metadata": {
      "needs_background": "light"
     },
     "output_type": "display_data"
    }
   ],
   "source": [
    "simple_df = pd.DataFrame({\"O\": [0, 0, 1, 1], \n",
    "                          \"V\": [0, 1, 0, 1], \n",
    "                          \"p_val\": [np.NaN, 0.312, 0.093, 0.018]})\n",
    "\n",
    "strict_df = pd.DataFrame({\"O\": [0, 0, 1, 1], \n",
    "                          \"V\": [0, 1, 0, 1], \n",
    "                          \"p_val\": [np.NaN, 0.926, 0.232, 0.000]})\n",
    "\n",
    "simple_piv = pd.pivot_table(simple_df, values=\"p_val\",index=[\"V\"], columns=[\"O\"])\n",
    "print(simple_piv)\n",
    "\n",
    "strict_piv = pd.pivot_table(strict_df, values=\"p_val\",index=[\"V\"], columns=[\"O\"])\n",
    "print(strict_piv)\n",
    "\n",
    "def plot_heatmap_small(ax, piv, title):\n",
    "    colnorm = DivergingNorm(vmin=0, vcenter=0.05, vmax=1)\n",
    "    img1 = ax.imshow(piv, alpha=0.8, norm=colnorm)\n",
    "    ax.set_xticks(np.arange(piv.shape[0]))\n",
    "    ax.set_yticks(np.arange(piv.shape[1]))\n",
    "    ax.title.set_text(title)\n",
    "    ax.set_xlabel('Observation')\n",
    "    ax.set_ylabel('Victimization')\n",
    "\n",
    "    textcolors = [\"k\", \"w\"]\n",
    "    for x in range(piv.shape[0]):\n",
    "        for y in range(piv.shape[1]):\n",
    "            if np.isnan(piv.iloc[y, x]) == False:\n",
    "                text = ax.text(x, y, ('%.3f' % piv.iloc[y, x]).lstrip('0'), ha=\"center\", va=\"center\",\n",
    "                               color=textcolors[1 if piv.iloc[y, x] <= 0.01 or piv.iloc[y, x] >= 0.85 else 0], fontsize=6)\n",
    "\n",
    "    #cbar = colorbar(img1)\n",
    "    #cbar.solids.set_edgecolor(\"face\")\n",
    "\n",
    "\n",
    "### Plot a heatmap of P-values (z-scores).\n",
    "fig, ax1 = plt.subplots(1, 1, figsize=(1.2, 1.3))\n",
    "plot_heatmap_small(ax1, simple_piv, '')\n",
    "plt.subplots_adjust(bottom=0.32, left=0.25)\n",
    "plt.show()\n",
    "#plt.tight_layout()\n",
    "fig.savefig('figs/paper/poiss_simple.pdf', format='pdf')\n",
    "\n",
    "fig, ax2 = plt.subplots(1, 1, figsize=(1.2, 1.3))\n",
    "plot_heatmap_small(ax2, strict_piv, '')\n",
    "plt.subplots_adjust(bottom=0.32, left=0.25)\n",
    "plt.show()\n",
    "#plt.tight_layout()\n",
    "fig.savefig('figs/paper/poiss_strict.pdf', format='pdf')\n"
   ]
  },
  {
   "cell_type": "markdown",
   "metadata": {},
   "source": [
    "### 3-1) Calculate the test statistics - strict def. of experience and observation."
   ]
  },
  {
   "cell_type": "markdown",
   "metadata": {},
   "source": [
    "Count the total number of the motif (0, 1)."
   ]
  },
  {
   "cell_type": "code",
   "execution_count": 8,
   "metadata": {},
   "outputs": [
    {
     "name": "stdout",
     "output_type": "stream",
     "text": [
      "rand_mean: 1616.71\n",
      "rand_std: 35.957\n",
      "z-score: 0.731\n",
      "p_val (z-score): 0.232\n",
      "cdf: 0.748\n",
      "pmf: 0.008\n",
      "prob (Poisson p-value): 0.26\n",
      "cum_prop: 0.23\n"
     ]
    }
   ],
   "source": [
    "merged_df = pd.read_csv('data/SO_SE.csv')\n",
    "\n",
    "# Drop the rows with zero experience or zero observation.\n",
    "test_dat = merged_df.drop(merged_df[(merged_df.total_obs == 0) & (merged_df.sev_exp == 0)].index)\n",
    "test_dat = test_dat.sort_values(['sev_exp', 'total_obs']).reset_index(drop=True)\n",
    "# print(test_dat.head())\n",
    "\n",
    "test_dat = test_dat[test_dat.sev_exp == 0]\n",
    "temp_dat = test_dat.loc[:,'E':].multiply(test_dat['total_obs'], axis=\"index\")\n",
    "\n",
    "temp_dat.loc['total'] = temp_dat.iloc[:, :].sum()\n",
    "# print(temp_dat.tail(1))\n",
    "# print(temp_dat.iloc[-1, 0])\n",
    "# print(temp_dat.iloc[-1, 1:].values)\n",
    "cnt = (temp_dat.iloc[-1, 1:].values >= temp_dat.iloc[-1, 0]).sum().astype(int)\n",
    "cum_prop = round(cnt/100, 2)\n",
    "\n",
    "# Calculate p-values.\n",
    "rand_mean = float(temp_dat.iloc[-1:, 1:].mean(axis=1))\n",
    "rand_std = float(temp_dat.iloc[-1:, 1:].std(axis=1))\n",
    "z_score = norm.ppf(norm.cdf(x=temp_dat.iloc[-1, 0],loc=rand_mean, scale=rand_std))\n",
    "p_val = 1 - norm.cdf(z_score)\n",
    "cdf = float(scipy.stats.poisson.cdf(temp_dat.iloc[-1, 0], rand_mean))\n",
    "pmf = float(scipy.stats.poisson.pmf(temp_dat.iloc[-1, 0], rand_mean))\n",
    "prob = 1 - cdf + pmf\n",
    "\n",
    "print(\"rand_mean: \" + str(round(rand_mean, 3)))\n",
    "print(\"rand_std: \" + str(round(rand_std, 3)))\n",
    "print(\"z-score: \" + str(round(z_score, 3)))\n",
    "print(\"p_val (z-score): \" + str(round(p_val, 3)))\n",
    "print(\"cdf: \" + str(round(cdf, 3)))\n",
    "print(\"pmf: \" + str(round(pmf, 3)))\n",
    "print(\"prob (Poisson p-value): \" + str(round(prob, 3)))\n",
    "print(\"cum_prop: \" + str(round(cum_prop, 3)))\n",
    "\n",
    "# temp_dat.to_csv('sum_tab.csv', index=False)"
   ]
  },
  {
   "cell_type": "markdown",
   "metadata": {},
   "source": [
    "Count the total number of the motif (1, 0)."
   ]
  },
  {
   "cell_type": "code",
   "execution_count": 9,
   "metadata": {},
   "outputs": [
    {
     "name": "stdout",
     "output_type": "stream",
     "text": [
      "rand_mean: 78.71\n",
      "rand_std: 6.724\n",
      "z-score: -1.444\n",
      "p_val (z-score): 0.926\n",
      "cdf: 0.149\n",
      "pmf: 0.026\n",
      "prob: 0.877\n",
      "cum_prop: 0.94\n"
     ]
    }
   ],
   "source": [
    "merged_df = pd.read_csv('data/SO_SE.csv')\n",
    "\n",
    "# Drop the rows with zero experience or zero observation.\n",
    "test_dat = merged_df.drop(merged_df[(merged_df.total_obs == 0) & (merged_df.sev_exp == 0)].index)\n",
    "test_dat = test_dat.sort_values(['sev_exp', 'total_obs']).reset_index(drop=True)\n",
    "# print(test_dat.head())\n",
    "\n",
    "# Calculate the test statistics of the motif (1, 0).\n",
    "test_dat = test_dat[test_dat.total_obs == 0]\n",
    "temp_dat = test_dat.loc[:,'E':].multiply(test_dat['sev_exp'], axis=\"index\")\n",
    "# print(temp_dat)\n",
    "\n",
    "temp_dat.loc['total'] = temp_dat.iloc[:, :].sum()\n",
    "# print(temp_dat.tail(1))\n",
    "# print(temp_dat.iloc[-1, 0])\n",
    "# print(temp_dat.iloc[-1, 1:].values)\n",
    "cnt = (temp_dat.iloc[-1, 1:].values >= temp_dat.iloc[-1, 0]).sum().astype(int)\n",
    "cum_prop = round(cnt/100, 2)\n",
    "\n",
    "# Calculate p-values.\n",
    "rand_mean = float(temp_dat.iloc[-1:, 1:].mean(axis=1))\n",
    "rand_std = float(temp_dat.iloc[-1:, 1:].std(axis=1))\n",
    "z_score = norm.ppf(norm.cdf(x=temp_dat.iloc[-1, 0],loc=rand_mean, scale=rand_std))\n",
    "p_val = 1 - norm.cdf(z_score)\n",
    "cdf = float(scipy.stats.poisson.cdf(temp_dat.iloc[-1, 0], rand_mean))\n",
    "pmf = float(scipy.stats.poisson.pmf(temp_dat.iloc[-1, 0], rand_mean))\n",
    "prob = 1 - cdf + pmf\n",
    "\n",
    "print(\"rand_mean: \" + str(round(rand_mean, 3)))\n",
    "print(\"rand_std: \" + str(round(rand_std, 3)))\n",
    "print(\"z-score: \" + str(round(z_score, 3)))\n",
    "print(\"p_val (z-score): \" + str(round(p_val, 3)))\n",
    "print(\"cdf: \" + str(round(cdf, 3)))\n",
    "print(\"pmf: \" + str(round(pmf, 3)))\n",
    "print(\"prob: \" + str(round(prob, 3)))\n",
    "print(\"cum_prop: \" + str(round(cum_prop, 3)))\n",
    "\n",
    "# temp_dat.to_csv('sum_tab.csv', index=False)"
   ]
  },
  {
   "cell_type": "markdown",
   "metadata": {},
   "source": [
    "Count the total number of the motif (1, 1)."
   ]
  },
  {
   "cell_type": "code",
   "execution_count": 10,
   "metadata": {},
   "outputs": [
    {
     "name": "stdout",
     "output_type": "stream",
     "text": [
      "rand_mean: 287.56\n",
      "rand_std: 10.884\n",
      "z-score: 4.083\n",
      "p_val (z-score): 2.2239413893232474e-05\n",
      "cdf: 0.995\n",
      "pmf: 0.001\n",
      "prob: 0.005563987272046569\n",
      "cum_prop: 0.0\n"
     ]
    }
   ],
   "source": [
    "merged_df = pd.read_csv('data/SO_SE.csv')\n",
    "\n",
    "# Drop the rows with zero experience and zero observation.\n",
    "test_dat = merged_df.drop(merged_df[(merged_df.total_obs == 0) | (merged_df.sev_exp == 0)].index)\n",
    "test_dat = test_dat.sort_values(['sev_exp', 'total_obs']).reset_index(drop=True)\n",
    "test_dat['num_pairs'] = np.where(test_dat['total_obs'] <= test_dat['sev_exp'], \n",
    "                                 test_dat['total_obs'], test_dat['sev_exp'])\n",
    "\n",
    "temp_dat = test_dat.loc[:,'E':'R100'].multiply(test_dat['num_pairs'], axis=\"index\")\n",
    "\n",
    "# Calculate the total number of the motif (1, 1) for each network.\n",
    "temp_dat.loc['total'] = temp_dat.iloc[:, :].sum()\n",
    "# print(temp_dat.tail(1))\n",
    "# print(temp_dat.iloc[-1, 0])\n",
    "# print(temp_dat.iloc[-1, 1:].values)\n",
    "cnt = (temp_dat.iloc[-1, 1:].values >= temp_dat.iloc[-1, 0]).sum().astype(int)\n",
    "cum_prop = round(cnt/100, 2)\n",
    "\n",
    "# Calculate p-values.\n",
    "rand_mean = float(temp_dat.iloc[-1:, 1:].mean(axis=1))\n",
    "rand_std = float(temp_dat.iloc[-1:, 1:].std(axis=1))\n",
    "z_score = norm.ppf(norm.cdf(x=temp_dat.iloc[-1, 0],loc=rand_mean, scale=rand_std))\n",
    "p_val = 1 - norm.cdf(z_score)\n",
    "cdf = float(scipy.stats.poisson.cdf(temp_dat.iloc[-1, 0], rand_mean))\n",
    "pmf = float(scipy.stats.poisson.pmf(temp_dat.iloc[-1, 0], rand_mean))\n",
    "prob = 1 - cdf + pmf\n",
    "\n",
    "print(\"rand_mean: \" + str(round(rand_mean, 3)))\n",
    "print(\"rand_std: \" + str(round(rand_std, 3)))\n",
    "print(\"z-score: \" + str(round(z_score, 3)))\n",
    "print(\"p_val (z-score): \" + str(p_val))\n",
    "print(\"cdf: \" + str(round(cdf, 3)))\n",
    "print(\"pmf: \" + str(round(pmf, 3)))\n",
    "print(\"prob: \" + str(prob))\n",
    "print(\"cum_prop: \" + str(cum_prop))"
   ]
  },
  {
   "cell_type": "markdown",
   "metadata": {},
   "source": [
    "### 3-2) Calculate the test statistics - simple def. of experience and observation."
   ]
  },
  {
   "cell_type": "code",
   "execution_count": 11,
   "metadata": {},
   "outputs": [
    {
     "name": "stdout",
     "output_type": "stream",
     "text": [
      "rand_mean: 3273.69\n",
      "rand_std: 78.281\n",
      "z-score: 1.32\n",
      "p_val (z-score): 0.09346136822889806\n",
      "cdf: 0.965\n",
      "pmf: 0.001\n",
      "prob: 0.036688103878657397\n",
      "cum_prop: 0.1\n"
     ]
    }
   ],
   "source": [
    "merged_df = pd.read_csv('data/RO_RE.csv')\n",
    "\n",
    "# Drop the rows with zero experience or zero observation.\n",
    "test_dat = merged_df.drop(merged_df[(merged_df.total_obs == 0) & (merged_df.total_exp == 0)].index)\n",
    "test_dat = test_dat.sort_values(['total_exp', 'total_obs']).reset_index(drop=True)\n",
    "# print(test_dat.head())\n",
    "\n",
    "# Calculate the test statistics of the motif (0, 1).\n",
    "test_dat = test_dat[test_dat.total_exp == 0]\n",
    "# print(test_dat.head())\n",
    "temp_dat = test_dat.loc[:,'E':].multiply(test_dat['total_obs'], axis=\"index\")\n",
    "# print(temp_dat)\n",
    "\n",
    "# Calculate the total number of the motif (0, 1) for each network.\n",
    "temp_dat.loc['total'] = temp_dat.iloc[:, :].sum()\n",
    "# print(temp_dat.tail(1))\n",
    "# print(temp_dat.iloc[-1, 0])\n",
    "# print(temp_dat.iloc[-1, 1:].values)\n",
    "cnt = (temp_dat.iloc[-1, 1:].values >= temp_dat.iloc[-1, 0]).sum().astype(int)\n",
    "cum_prop = round(cnt/100, 2)\n",
    "\n",
    "# Calculate p-values.\n",
    "rand_mean = float(temp_dat.iloc[-1:, 1:].mean(axis=1))\n",
    "rand_std = float(temp_dat.iloc[-1:, 1:].std(axis=1))\n",
    "z_score = norm.ppf(norm.cdf(x=temp_dat.iloc[-1, 0],loc=rand_mean, scale=rand_std))\n",
    "p_val = 1 - norm.cdf(z_score)\n",
    "cdf = float(scipy.stats.poisson.cdf(temp_dat.iloc[-1, 0], rand_mean))\n",
    "pmf = float(scipy.stats.poisson.pmf(temp_dat.iloc[-1, 0], rand_mean))\n",
    "prob = 1 - cdf + pmf\n",
    "\n",
    "print(\"rand_mean: \" + str(round(rand_mean, 3)))\n",
    "print(\"rand_std: \" + str(round(rand_std, 3)))\n",
    "print(\"z-score: \" + str(round(z_score, 3)))\n",
    "print(\"p_val (z-score): \" + str(p_val))\n",
    "print(\"cdf: \" + str(round(cdf, 3)))\n",
    "print(\"pmf: \" + str(round(pmf, 3)))\n",
    "print(\"prob: \" + str(prob))\n",
    "print(\"cum_prop: \" + str(cum_prop))\n",
    "# temp_dat.to_csv('sum_tab.csv', index=False)"
   ]
  },
  {
   "cell_type": "code",
   "execution_count": 12,
   "metadata": {},
   "outputs": [
    {
     "name": "stdout",
     "output_type": "stream",
     "text": [
      "rand_mean: 186.27\n",
      "rand_std: 9.676\n",
      "z-score: 0.489\n",
      "p_val (z-score): 0.3124858845423941\n",
      "cdf: 0.653\n",
      "pmf: 0.027\n",
      "prob: 0.3741259562187964\n",
      "cum_prop: 0.35\n"
     ]
    }
   ],
   "source": [
    "merged_df = pd.read_csv('data/RO_RE.csv')\n",
    "\n",
    "# Drop the rows with zero experience or zero observation.\n",
    "test_dat = merged_df.drop(merged_df[(merged_df.total_obs == 0) & (merged_df.total_exp == 0)].index)\n",
    "test_dat = test_dat.sort_values(['total_exp', 'total_obs']).reset_index(drop=True)\n",
    "# print(test_dat.head())\n",
    "\n",
    "# Calculate the test statistics of the motif (1, 0).\n",
    "test_dat = test_dat[test_dat.total_obs == 0]\n",
    "# print(test_dat.head())\n",
    "temp_dat = test_dat.loc[:,'E':].multiply(test_dat['total_exp'], axis=\"index\")\n",
    "\n",
    "# Calculate the total number of the motif (1, 0) for each network.\n",
    "temp_dat.loc['total'] = temp_dat.iloc[:, :].sum()\n",
    "# print(temp_dat.tail(1))\n",
    "# print(temp_dat.iloc[-1, 0])\n",
    "# print(temp_dat.iloc[-1, 1:].values)\n",
    "cnt = (temp_dat.iloc[-1, 1:].values >= temp_dat.iloc[-1, 0]).sum().astype(int)\n",
    "cum_prop = round(cnt/100, 2)\n",
    "\n",
    "# Calculate p-values.\n",
    "rand_mean = float(temp_dat.iloc[-1:, 1:].mean(axis=1))\n",
    "rand_std = float(temp_dat.iloc[-1:, 1:].std(axis=1))\n",
    "z_score = norm.ppf(norm.cdf(x=temp_dat.iloc[-1, 0],loc=rand_mean, scale=rand_std))\n",
    "p_val = 1 - norm.cdf(z_score)\n",
    "cdf = float(scipy.stats.poisson.cdf(temp_dat.iloc[-1, 0], rand_mean))\n",
    "pmf = float(scipy.stats.poisson.pmf(temp_dat.iloc[-1, 0], rand_mean))\n",
    "prob = 1 - cdf + pmf\n",
    "\n",
    "print(\"rand_mean: \" + str(round(rand_mean, 3)))\n",
    "print(\"rand_std: \" + str(round(rand_std, 3)))\n",
    "print(\"z-score: \" + str(round(z_score, 3)))\n",
    "print(\"p_val (z-score): \" + str(p_val))\n",
    "print(\"cdf: \" + str(round(cdf, 3)))\n",
    "print(\"pmf: \" + str(round(pmf, 3)))\n",
    "print(\"prob: \" + str(prob))\n",
    "print(\"cum_prop: \" + str(cum_prop))"
   ]
  },
  {
   "cell_type": "code",
   "execution_count": 13,
   "metadata": {},
   "outputs": [
    {
     "name": "stdout",
     "output_type": "stream",
     "text": [
      "rand_mean: 703.55\n",
      "rand_std: 17.4\n",
      "z-score: 2.095\n",
      "p_val (z-score): 0.018095507186522863\n",
      "cdf: 0.917\n",
      "pmf: 0.006\n",
      "prob: 0.08846334919894476\n",
      "cum_prop: 0.0\n"
     ]
    }
   ],
   "source": [
    "# Count the number of the motif (1, 1).\n",
    "merged_df = pd.read_csv('data/RO_RE.csv')\n",
    "\n",
    "# Drop the rows with zero experience and zero observation.\n",
    "test_dat = merged_df.drop(merged_df[(merged_df.total_obs == 0) | (merged_df.total_exp == 0)].index)\n",
    "test_dat = test_dat.sort_values(['total_exp', 'total_obs']).reset_index(drop=True)\n",
    "test_dat['num_pairs'] = np.where(test_dat['total_obs'] <= test_dat['total_exp'], \n",
    "                                 test_dat['total_obs'], test_dat['total_exp'])\n",
    "\n",
    "temp_dat = test_dat.loc[:,'E':'R100'].multiply(test_dat['num_pairs'], axis=\"index\")\n",
    "\n",
    "# Calculate the total number of the motif (1, 1) for each network.\n",
    "temp_dat.loc['total'] = temp_dat.iloc[:, :].sum()\n",
    "# print(temp_dat.tail(1))\n",
    "# print(temp_dat.iloc[-1, 0])\n",
    "# print(temp_dat.iloc[-1, 1:].values)\n",
    "cnt = (temp_dat.iloc[-1, 1:].values >= temp_dat.iloc[-1, 0]).sum().astype(int)\n",
    "cum_prop = round(cnt/100, 2)\n",
    "\n",
    "# Calculate p-values.\n",
    "rand_mean = float(temp_dat.iloc[-1:, 1:].mean(axis=1))\n",
    "rand_std = float(temp_dat.iloc[-1:, 1:].std(axis=1))\n",
    "z_score = norm.ppf(norm.cdf(x=temp_dat.iloc[-1, 0],loc=rand_mean, scale=rand_std))\n",
    "p_val = 1 - norm.cdf(z_score)\n",
    "cdf = float(scipy.stats.poisson.cdf(temp_dat.iloc[-1, 0], rand_mean))\n",
    "pmf = float(scipy.stats.poisson.pmf(temp_dat.iloc[-1, 0], rand_mean))\n",
    "prob = 1 - cdf + pmf\n",
    "\n",
    "print(\"rand_mean: \" + str(round(rand_mean, 3)))\n",
    "print(\"rand_std: \" + str(round(rand_std, 3)))\n",
    "print(\"z-score: \" + str(round(z_score, 3)))\n",
    "print(\"p_val (z-score): \" + str(p_val))\n",
    "print(\"cdf: \" + str(round(cdf, 3)))\n",
    "print(\"pmf: \" + str(round(pmf, 3)))\n",
    "print(\"prob: \" + str(prob))\n",
    "print(\"cum_prop: \" + str(cum_prop))"
   ]
  },
  {
   "cell_type": "markdown",
   "metadata": {},
   "source": [
    " ### 6) Plot the number of counts in cells."
   ]
  },
  {
   "cell_type": "code",
   "execution_count": 14,
   "metadata": {},
   "outputs": [
    {
     "name": "stdout",
     "output_type": "stream",
     "text": [
      "total_obs     0      1      2      3     4     5     6     7     8     9   \\\n",
      "total_exp                                                                   \n",
      "0          183.0  381.0  214.0  130.0  97.0  52.0  36.0  37.0  19.0  22.0   \n",
      "1          101.0   60.0   53.0   49.0  27.0  28.0  23.0  21.0  20.0   9.0   \n",
      "2           22.0    2.0    4.0   14.0   5.0  13.0   6.0   8.0   5.0   9.0   \n",
      "3            9.0    0.0    1.0    2.0   2.0   0.0   0.0   2.0   2.0   2.0   \n",
      "4            1.0    NaN    0.0    0.0   1.0   0.0   0.0   2.0   0.0   0.0   \n",
      "5            3.0    NaN    NaN    NaN   NaN   0.0   0.0   1.0   0.0   1.0   \n",
      "6            0.0    NaN    NaN    NaN   NaN   NaN   NaN   NaN   NaN   NaN   \n",
      "7            0.0    NaN    NaN    NaN   NaN   NaN   NaN   NaN   NaN   NaN   \n",
      "8            NaN    NaN    NaN    NaN   NaN   NaN   NaN   NaN   NaN   NaN   \n",
      "\n",
      "total_obs  ...   11   12   13   14   15   16   17   18   19   20  \n",
      "total_exp  ...                                                    \n",
      "0          ...  9.0  5.0  3.0  2.0  4.0  3.0  1.0  1.0  3.0  2.0  \n",
      "1          ...  4.0  8.0  4.0  6.0  3.0  5.0  2.0  1.0  0.0  1.0  \n",
      "2          ...  7.0  1.0  1.0  1.0  2.0  3.0  3.0  0.0  0.0  2.0  \n",
      "3          ...  0.0  1.0  2.0  1.0  4.0  1.0  2.0  3.0  0.0  0.0  \n",
      "4          ...  0.0  0.0  0.0  1.0  1.0  1.0  0.0  1.0  1.0  0.0  \n",
      "5          ...  0.0  0.0  0.0  0.0  1.0  0.0  0.0  1.0  0.0  0.0  \n",
      "6          ...  0.0  0.0  0.0  0.0  0.0  0.0  0.0  0.0  0.0  0.0  \n",
      "7          ...  NaN  0.0  0.0  0.0  0.0  0.0  0.0  NaN  0.0  0.0  \n",
      "8          ...  NaN  NaN  NaN  0.0  0.0  0.0  NaN  NaN  NaN  0.0  \n",
      "\n",
      "[9 rows x 21 columns]\n",
      "total_obs     0      1      2     3     4     5     6    7    8    9   ...  \\\n",
      "sev_exp                                                                ...   \n",
      "0          798.0  391.0  149.0  74.0  40.0  24.0  12.0  4.0  9.0  5.0  ...   \n",
      "1           58.0   79.0   45.0  33.0  16.0  15.0   7.0  7.0  4.0  0.0  ...   \n",
      "2            4.0    2.0   10.0   2.0   6.0   5.0   1.0  3.0  2.0  1.0  ...   \n",
      "3            1.0    0.0    1.0   1.0   2.0   1.0   2.0  2.0  2.0  0.0  ...   \n",
      "4            0.0    NaN    NaN   0.0   0.0   0.0   0.0  1.0  0.0  0.0  ...   \n",
      "5            NaN    NaN    NaN   NaN   NaN   NaN   0.0  0.0  0.0  0.0  ...   \n",
      "6            NaN    NaN    NaN   NaN   NaN   NaN   NaN  NaN  NaN  NaN  ...   \n",
      "\n",
      "total_obs   11   12   13   14   15   16   17   18   19   20  \n",
      "sev_exp                                                      \n",
      "0          1.0  2.0  1.0  3.0  0.0  1.0  0.0  2.0  0.0  0.0  \n",
      "1          2.0  1.0  0.0  1.0  0.0  0.0  0.0  0.0  0.0  0.0  \n",
      "2          1.0  1.0  0.0  0.0  1.0  0.0  0.0  0.0  1.0  0.0  \n",
      "3          0.0  0.0  0.0  0.0  0.0  0.0  0.0  0.0  0.0  0.0  \n",
      "4          0.0  0.0  0.0  0.0  0.0  0.0  0.0  0.0  1.0  0.0  \n",
      "5          0.0  NaN  0.0  0.0  0.0  0.0  0.0  0.0  0.0  0.0  \n",
      "6          NaN  NaN  NaN  NaN  0.0  0.0  0.0  0.0  0.0  NaN  \n",
      "\n",
      "[7 rows x 21 columns]\n"
     ]
    }
   ],
   "source": [
    "merged_df = pd.read_csv('data/RO_RE.csv')\n",
    "merged_df = merged_df.drop(merged_df[merged_df.total_obs > 20].index)\n",
    "test_dat = merged_df.sort_values(['total_exp', 'total_obs']).reset_index(drop=True)\n",
    "freq_piv_1 = pd.pivot_table(test_dat, values=\"E\",index=[\"total_exp\"], columns=[\"total_obs\"])\n",
    "print(freq_piv_1)\n",
    "\n",
    "merged_df = pd.read_csv('data/SO_SE.csv')\n",
    "merged_df = merged_df.drop(merged_df[merged_df.total_obs > 20].index)\n",
    "merged_df = merged_df.drop(merged_df[merged_df.sev_exp > 6].index)\n",
    "test_dat = merged_df.sort_values(['sev_exp', 'total_obs']).reset_index(drop=True)\n",
    "freq_piv_2 = pd.pivot_table(test_dat, values=\"E\",index=[\"sev_exp\"], columns=[\"total_obs\"])\n",
    "print(freq_piv_2)"
   ]
  },
  {
   "cell_type": "code",
   "execution_count": 35,
   "metadata": {},
   "outputs": [
    {
     "data": {
      "image/png": "[encoded data removed]",
      "text/plain": [
       "<Figure size 504x446.4 with 4 Axes>"
      ]
     },
     "metadata": {
      "needs_background": "light"
     },
     "output_type": "display_data"
    }
   ],
   "source": [
    "### Plot a heatmap of frequencies.\n",
    "fig, (ax1, ax2) = plt.subplots(2, 1, figsize=(7, 6.2))\n",
    "\n",
    "img1 = ax1.imshow(freq_piv_1, cmap='YlGn', alpha=0.8, vmin=0, vmax=100)\n",
    "ax1.set_xticks(np.arange(freq_piv_1.shape[1]))\n",
    "ax1.set_yticks(np.arange(freq_piv_1.shape[0]))\n",
    "ax1.set_xlabel(r'Observation of $n_o$ cheaters')\n",
    "ax1.set_ylabel(r'Victimization by $n_v$ cheaters')\n",
    "ax1.title.set_text('A')\n",
    "\n",
    "textcolors = [\"k\", \"w\"]\n",
    "for y in range(freq_piv_1.shape[0]):\n",
    "    for x in range(freq_piv_1.shape[1]):\n",
    "        if np.isnan(freq_piv_1[x][y]) == False:\n",
    "            text = ax1.text(x, y, int(freq_piv_1[x][y]), ha=\"center\", va=\"center\", fontsize=6,\n",
    "                            color=textcolors[1 if freq_piv_1[x][y] >= 65 else 0])\n",
    "\n",
    "cbar = colorbar(img1)\n",
    "cbar.solids.set_edgecolor(\"face\")\n",
    "\n",
    "img2 = ax2.imshow(freq_piv_2, cmap='YlGn', alpha=0.8, vmin=0, vmax=100)\n",
    "ax2.set_xticks(np.arange(freq_piv_2.shape[1]))\n",
    "ax2.set_yticks(np.arange(freq_piv_2.shape[0]))\n",
    "ax2.set_xlabel(r'Observation of $n_o$ cheaters')\n",
    "ax2.set_ylabel(r'Victimization by $n_v$ cheaters')\n",
    "ax2.title.set_text('B')\n",
    "\n",
    "textcolors = [\"k\", \"w\"]\n",
    "\n",
    "for y in range(freq_piv_2.shape[0]):\n",
    "    for x in range(freq_piv_2.shape[1]):\n",
    "        if np.isnan(freq_piv_2[x][y]) == False:\n",
    "            text = ax2.text(x, y, int(freq_piv_2[x][y]), ha=\"center\", va=\"center\", fontsize=6,\n",
    "                            color=textcolors[1 if freq_piv_2[x][y] >= 65 else 0])\n",
    "\n",
    "cbar = colorbar(img2)\n",
    "cbar.solids.set_edgecolor(\"face\")\n",
    "\n",
    "plt.tight_layout()\n",
    "plt.show()\n",
    "fig.savefig('figs/paper/fig_s5.pdf', format='pdf')"
   ]
  }
 ],
 "metadata": {
  "kernelspec": {
   "display_name": "Python 3",
   "language": "python",
   "name": "python3"
  },
  "language_info": {
   "codemirror_mode": {
    "name": "ipython",
    "version": 3
   },
   "file_extension": ".py",
   "mimetype": "text/x-python",
   "name": "python",
   "nbconvert_exporter": "python",
   "pygments_lexer": "ipython3",
   "version": "3.7.3"
  }
 },
 "nbformat": 4,
 "nbformat_minor": 2
}
