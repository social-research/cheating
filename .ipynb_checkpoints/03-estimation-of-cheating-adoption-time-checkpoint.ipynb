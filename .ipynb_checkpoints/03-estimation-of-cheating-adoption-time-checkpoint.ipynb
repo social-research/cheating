{
 "cells": [
  {
   "cell_type": "markdown",
   "metadata": {},
   "source": [
    "## 3 ESTIMATION OF THE TIME OF CHEATING ADOPTION"
   ]
  },
  {
   "cell_type": "markdown",
   "metadata": {},
   "source": [
    "The game company only provides the date when each cheater was banned. Using two performance measures (Refer to '02-cheater-analysis.ipynb' for more information), we estimate when cheaters (who were banned between March 1 and March 31) started cheating to compensate for the missing information."
   ]
  },
  {
   "cell_type": "code",
   "execution_count": 1,
   "metadata": {},
   "outputs": [],
   "source": [
    "import pandas as pd\n",
    "import matplotlib.pyplot as plt\n",
    "import numpy as np"
   ]
  },
  {
   "cell_type": "code",
   "execution_count": 2,
   "metadata": {},
   "outputs": [],
   "source": [
    "td = spark.read.parquet(\"s3://social-research-cheating/data_for_estim.parquet\")\n",
    "td.registerTempTable(\"td\")\n",
    "\n",
    "players = spark.read.parquet(\"s3://social-research-cheating/players.parquet\")\n",
    "players.registerTempTable(\"players\")\n",
    "\n",
    "cheaters = spark.sql(\"SELECT * FROM players WHERE cheating_flag = 1\")\n",
    "cheaters.registerTempTable(\"cheaters\")"
   ]
  },
  {
   "cell_type": "markdown",
   "metadata": {},
   "source": [
    "### 3.1 THE AVERAGE KILL RATIO PER DAY"
   ]
  },
  {
   "cell_type": "code",
   "execution_count": 10,
   "metadata": {},
   "outputs": [
    {
     "name": "stdout",
     "output_type": "stream",
     "text": [
      "                                          id      m_date  kill_ratio\n",
      "0   account.001dcc01a9b540df8835327cde8b7362  2019-03-16    0.558824\n",
      "1   account.002dced5b2734143a4133cb58e0d0724  2019-03-01    0.906250\n",
      "2   account.002dced5b2734143a4133cb58e0d0724  2019-03-02    0.866667\n",
      "3   account.0040926df7204ffd93a41885a1175ced  2019-03-01    0.500000\n",
      "4   account.0040926df7204ffd93a41885a1175ced  2019-03-02    0.428571\n",
      "5   account.0040926df7204ffd93a41885a1175ced  2019-03-03    0.593750\n",
      "6   account.0040926df7204ffd93a41885a1175ced  2019-03-04    0.333333\n",
      "7   account.0040926df7204ffd93a41885a1175ced  2019-03-05    0.454545\n",
      "8   account.0040926df7204ffd93a41885a1175ced  2019-03-07    0.770492\n",
      "9   account.0040926df7204ffd93a41885a1175ced  2019-03-08    0.629630\n",
      "10  account.0040926df7204ffd93a41885a1175ced  2019-03-09    0.416667\n",
      "11  account.0040926df7204ffd93a41885a1175ced  2019-03-10    0.300000\n",
      "12  account.00534c0bd3c342b6a63cd7b53c338d16  2019-03-06    0.956522\n",
      "13  account.005c9165a57a46f09dfaf8015af44f37  2019-03-02    0.733333\n",
      "14  account.00689ce47d4d4b47bb7fd57cb1a0cdf6  2019-03-04    0.818182\n",
      "15  account.0070a188cefc40d1bbff52a0e80d3874  2019-03-02    0.285714\n",
      "16  account.0070a188cefc40d1bbff52a0e80d3874  2019-03-12    0.969697\n",
      "17  account.0070a188cefc40d1bbff52a0e80d3874  2019-03-13    0.750000\n",
      "18  account.007cf62637884608b7db5f30e8bfda6e  2019-03-19    0.250000\n",
      "19  account.007cf62637884608b7db5f30e8bfda6e  2019-03-20    0.888889\n"
     ]
    }
   ],
   "source": [
    "kills = spark.sql(\"SELECT mid, src, time, m_date FROM td t JOIN cheaters c ON t.src = c.id\")\n",
    "kills.registerTempTable(\"kills\")\n",
    "\n",
    "kills_per_day = spark.sql(\"\"\"SELECT src AS id, m_date, COUNT(*) AS num_of_kills \n",
    "                             FROM kills GROUP BY src, m_date\"\"\")\n",
    "kills_per_day_df = kills_per_day.toPandas()\n",
    "\n",
    "deaths = spark.sql(\"SELECT mid, dst, time, m_date FROM td t JOIN cheaters c ON t.dst = c.id\")\n",
    "deaths.registerTempTable(\"deaths\")\n",
    "\n",
    "deaths_per_day = spark.sql(\"\"\"SELECT dst AS id, m_date, COUNT(*) AS num_of_deaths \n",
    "                              FROM deaths GROUP BY dst, m_date\"\"\")\n",
    "deaths_per_day_df = deaths_per_day.toPandas()\n",
    "\n",
    "dates_from_kills = kills_per_day_df[['id', 'm_date']]\n",
    "dates_from_deaths = deaths_per_day_df[['id', 'm_date']]\n",
    "dates = pd.concat([dates_from_kills, dates_from_deaths])\n",
    "dates = dates.drop_duplicates(subset=['id', 'm_date'])\n",
    "\n",
    "temp = pd.merge(dates, kills_per_day_df, how='outer', on=['id', 'm_date'])\n",
    "temp = temp.fillna(0)\n",
    "merged_table = pd.merge(temp, deaths_per_day_df, how='outer', on=['id', 'm_date'])\n",
    "merged_table = merged_table.fillna(0)\n",
    "\n",
    "merged_table['kill_ratio'] = merged_table['num_of_kills'] / (merged_table['num_of_kills'] + merged_table['num_of_deaths'])\n",
    "avg_kill_ratio_per_day = merged_table[['id', 'm_date', 'kill_ratio']].sort_values(by=['id', 'm_date']).reset_index(drop=True)\n",
    "\n",
    "print(avg_kill_ratio_per_day.head(20))"
   ]
  },
  {
   "cell_type": "markdown",
   "metadata": {},
   "source": [
    "### 3.2 THE AVERAGE TIME DIFFERENCE BETWEEN KILLS PER DAY"
   ]
  },
  {
   "cell_type": "code",
   "execution_count": 12,
   "metadata": {},
   "outputs": [
    {
     "name": "stdout",
     "output_type": "stream",
     "text": [
      "                                         src      m_date       delta\n",
      "0   account.001dcc01a9b540df8835327cde8b7362  2019-03-16  367.854250\n",
      "1   account.002dced5b2734143a4133cb58e0d0724  2019-03-01  127.790108\n",
      "2   account.002dced5b2734143a4133cb58e0d0724  2019-03-02  196.118690\n",
      "3   account.0040926df7204ffd93a41885a1175ced  2019-03-01  109.466667\n",
      "4   account.0040926df7204ffd93a41885a1175ced  2019-03-02  183.393250\n",
      "5   account.0040926df7204ffd93a41885a1175ced  2019-03-03  115.340400\n",
      "6   account.0040926df7204ffd93a41885a1175ced  2019-03-04   21.478000\n",
      "7   account.0040926df7204ffd93a41885a1175ced  2019-03-05  261.974000\n",
      "8   account.0040926df7204ffd93a41885a1175ced  2019-03-07  199.051030\n",
      "9   account.0040926df7204ffd93a41885a1175ced  2019-03-08  142.199800\n",
      "10  account.0040926df7204ffd93a41885a1175ced  2019-03-09  264.764500\n",
      "11  account.0040926df7204ffd93a41885a1175ced  2019-03-10         NaN\n",
      "12  account.00534c0bd3c342b6a63cd7b53c338d16  2019-03-06  155.225667\n",
      "13  account.005c9165a57a46f09dfaf8015af44f37  2019-03-02  197.062500\n",
      "14  account.00689ce47d4d4b47bb7fd57cb1a0cdf6  2019-03-04  112.882250\n",
      "15  account.0070a188cefc40d1bbff52a0e80d3874  2019-03-02         NaN\n",
      "16  account.0070a188cefc40d1bbff52a0e80d3874  2019-03-12  140.394575\n",
      "17  account.0070a188cefc40d1bbff52a0e80d3874  2019-03-13  105.796500\n",
      "18  account.007cf62637884608b7db5f30e8bfda6e  2019-03-19         NaN\n",
      "19  account.007cf62637884608b7db5f30e8bfda6e  2019-03-20  200.565462\n"
     ]
    }
   ],
   "source": [
    "kills_df = kills.toPandas()\n",
    "kills_df = kills_df.sort_values(['src', 'mid', 'time'])\n",
    "\n",
    "kills_df['time'] = pd.to_datetime(kills_df['time'])\n",
    "kills_df['delta'] = kills_df.groupby(['mid', 'src'])['time'].diff()\n",
    "kills_df['delta'] = kills_df['delta'] / np.timedelta64(1, 's')\n",
    "\n",
    "time_diffs = kills_df[['src', 'm_date', 'delta']]\n",
    "avg_kill_interval_per_day = time_diffs.groupby(['src', 'm_date'], as_index=False).mean()\n",
    "\n",
    "print(avg_kill_interval_per_day.head(20))"
   ]
  },
  {
   "cell_type": "markdown",
   "metadata": {},
   "source": [
    "### 3.3 ESTIMATION OF THE TIME OF CHEATING ADOPTION BASED ON PERFORMANCE"
   ]
  },
  {
   "cell_type": "code",
   "execution_count": 13,
   "metadata": {},
   "outputs": [
    {
     "name": "stdout",
     "output_type": "stream",
     "text": [
      "                                          id start_date   ban_date  period\n",
      "0   account.028c2a3e292843a69b70a745abc13d96 2019-03-04 2019-03-11     8.0\n",
      "1   account.03589c43c62148488436cdddab22d354        NaT 2019-03-31     NaN\n",
      "2   account.0d359dd89cb6460da3c5e9d0e2e9ffb5        NaT 2019-03-22     NaN\n",
      "3   account.175b7548e97c4a50874f791462972dfa        NaT 2019-03-19     NaN\n",
      "4   account.22c13cfd86f04a158bf5c5609ccbc906        NaT 2019-03-06     NaN\n",
      "5   account.36c8019fc00646a9a8ead674e05620ba        NaT 2019-03-27     NaN\n",
      "6   account.3935667f2c7443deb6ee47e8b9b09aab 2019-03-05 2019-03-06     2.0\n",
      "7   account.57d64f7769474e5a923dab228a82a5d9        NaT 2019-03-31     NaN\n",
      "8   account.5dc4344327774df5a6d27b1d2fae01fb        NaT 2019-03-21     NaN\n",
      "9   account.6124b85515c44f16a55584523fd7e1e9        NaT 2019-03-14     NaN\n",
      "10  account.74e33deb357d4c11a96a2892be2bfbff 2019-03-10 2019-03-11     2.0\n",
      "11  account.871b87b5392d4b9da3c7ccf041b6d8cb        NaT 2019-03-09     NaN\n",
      "12  account.8e688c4ed70540eeaee28ec8c04aebaf        NaT 2019-03-11     NaN\n",
      "13  account.b049cefcefef4bcf892d913799cca865        NaT 2019-03-20     NaN\n",
      "14  account.b81481155f914a819346a85a2a2f67da        NaT 2019-03-29     NaN\n",
      "15  account.ba1f0c4b7f964c5c9b1f20178309e2d2 2019-03-08 2019-03-09     2.0\n",
      "16  account.ba9810e0fcc54fd697c03d76785f5b2c        NaT 2019-03-01     NaN\n",
      "17  account.c63a4df4494a4969bedecc315016e84b 2019-03-04 2019-03-04     1.0\n",
      "18  account.c7c34a39681b48948fdd4afd1b810838        NaT 2019-03-19     NaN\n",
      "19  account.d3a38978b77a43cd8a146e413b04e94f        NaT 2019-03-27     NaN\n"
     ]
    }
   ],
   "source": [
    "avg_kill_interval_per_day.columns = ['id', 'm_date', 'delta']\n",
    "merged_table = pd.merge(avg_kill_ratio_per_day, avg_kill_interval_per_day, how='left', on=['id', 'm_date'])\n",
    "\n",
    "merged_table['kill_ratio'] = merged_table['kill_ratio'].round(2)\n",
    "merged_table['delta'] = merged_table['delta'].round(2)\n",
    "merged_table['flag'] = 0\n",
    "\n",
    "# Change the value of a flag into one if the record (row) meets the following conditions.\n",
    "merged_table.loc[(merged_table['kill_ratio'] >= 0.8) & (merged_table['delta'] <= 140), 'flag'] = 1\n",
    "flagged_rows =  merged_table[merged_table['flag'] == 1]\n",
    "\n",
    "reset_index = flagged_rows.groupby(['id']).first().reset_index()\n",
    "start_dates = spark.createDataFrame(reset_index)\n",
    "start_dates.registerTempTable(\"start_dates\")\n",
    "\n",
    "estimation = spark.sql(\"\"\"SELECT c.id, s.m_date AS start_date, ban_date \n",
    "                          FROM cheaters c LEFT JOIN start_dates s ON c.id = s.id\"\"\")\n",
    "\n",
    "estimation_df = estimation.toPandas()\n",
    "estimation_df['ban_date'] = pd.to_datetime(estimation_df['ban_date'])\n",
    "estimation_df['start_date'] = pd.to_datetime(estimation_df['start_date'])\n",
    "estimation_df['period'] = (estimation_df['ban_date'] - estimation_df['start_date']).astype('timedelta64[D]') + 1\n",
    "\n",
    "print(estimation_df.head(20))"
   ]
  },
  {
   "cell_type": "code",
   "execution_count": 15,
   "metadata": {},
   "outputs": [
    {
     "name": "stdout",
     "output_type": "stream",
     "text": [
      "2980\n"
     ]
    }
   ],
   "source": [
    "complete_rows = estimation_df[estimation_df.period.notnull()]\n",
    "complete_rows['period'] = complete_rows['period'].astype('int') \n",
    "print(len(complete_rows))\n",
    "complete_rows.to_csv('estimated_cheating_time.csv', index=False)"
   ]
  },
  {
   "cell_type": "code",
   "execution_count": 16,
   "metadata": {},
   "outputs": [
    {
     "data": {
      "image/png": "[encoded data removed]",
      "text/plain": [
       "<Figure size 432x288 with 1 Axes>"
      ]
     },
     "metadata": {},
     "output_type": "display_data"
    }
   ],
   "source": [
    "# Plot a distribution of the period of cheating for the cheaters with full information on performance.\n",
    "bins = np.arange(0, complete_rows['period'].max() + 1.5) - 0.5\n",
    "fig = complete_rows.hist(bins=bins, histtype='step')\n",
    "plt.title(\"\")\n",
    "plt.xlim(xmin=0.5)\n",
    "plt.xlim(xmax=31)\n",
    "plt.xlabel('Period of cheating')\n",
    "plt.ylabel('Frequency')\n",
    "plt.show()"
   ]
  },
  {
   "cell_type": "code",
   "execution_count": 17,
   "metadata": {},
   "outputs": [
    {
     "name": "stdout",
     "output_type": "stream",
     "text": [
      "4.365\n",
      "2.0\n",
      "1206\n"
     ]
    }
   ],
   "source": [
    "print(round(complete_rows['period'].mean(), 3))\n",
    "print(complete_rows['period'].median())\n",
    "print(len(complete_rows[complete_rows['period'] == 2]))"
   ]
  },
  {
   "cell_type": "code",
   "execution_count": 18,
   "metadata": {},
   "outputs": [
    {
     "name": "stdout",
     "output_type": "stream",
     "text": [
      "                                          id start_date   ban_date  period\n",
      "0   account.028c2a3e292843a69b70a745abc13d96 2019-03-04 2019-03-11     8.0\n",
      "1   account.03589c43c62148488436cdddab22d354 2019-03-30 2019-03-31     2.0\n",
      "2   account.0d359dd89cb6460da3c5e9d0e2e9ffb5 2019-03-21 2019-03-22     2.0\n",
      "3   account.175b7548e97c4a50874f791462972dfa 2019-03-18 2019-03-19     2.0\n",
      "4   account.22c13cfd86f04a158bf5c5609ccbc906 2019-03-05 2019-03-06     2.0\n",
      "5   account.36c8019fc00646a9a8ead674e05620ba 2019-03-26 2019-03-27     2.0\n",
      "6   account.3935667f2c7443deb6ee47e8b9b09aab 2019-03-05 2019-03-06     2.0\n",
      "7   account.57d64f7769474e5a923dab228a82a5d9 2019-03-30 2019-03-31     2.0\n",
      "8   account.5dc4344327774df5a6d27b1d2fae01fb 2019-03-20 2019-03-21     2.0\n",
      "9   account.6124b85515c44f16a55584523fd7e1e9 2019-03-13 2019-03-14     2.0\n",
      "10  account.74e33deb357d4c11a96a2892be2bfbff 2019-03-10 2019-03-11     2.0\n",
      "11  account.871b87b5392d4b9da3c7ccf041b6d8cb 2019-03-08 2019-03-09     2.0\n",
      "12  account.8e688c4ed70540eeaee28ec8c04aebaf 2019-03-10 2019-03-11     2.0\n",
      "13  account.b049cefcefef4bcf892d913799cca865 2019-03-19 2019-03-20     2.0\n",
      "14  account.b81481155f914a819346a85a2a2f67da 2019-03-28 2019-03-29     2.0\n",
      "15  account.ba1f0c4b7f964c5c9b1f20178309e2d2 2019-03-08 2019-03-09     2.0\n",
      "16  account.ba9810e0fcc54fd697c03d76785f5b2c 2019-03-01 2019-03-01     1.0\n",
      "17  account.c63a4df4494a4969bedecc315016e84b 2019-03-04 2019-03-04     1.0\n",
      "18  account.c7c34a39681b48948fdd4afd1b810838 2019-03-18 2019-03-19     2.0\n",
      "19  account.d3a38978b77a43cd8a146e413b04e94f 2019-03-26 2019-03-27     2.0\n",
      "6161\n"
     ]
    }
   ],
   "source": [
    "estimation_df = estimation.toPandas()\n",
    "estimation_df['ban_date'] = pd.to_datetime(estimation_df['ban_date'])\n",
    "estimation_df['start_date'] = pd.to_datetime(estimation_df['start_date'])\n",
    "estimation_df['period'] = (estimation_df['ban_date'] - estimation_df['start_date']).astype('timedelta64[D]') + 1\n",
    "\n",
    "# When it comes to cheaters with at least one missing performance information, \n",
    "# we assume that they cheated for two days.\n",
    "estimation_df['period'] = estimation_df['period'].fillna(2)\n",
    "estimation_df['start_date'] = estimation_df['start_date'].fillna(estimation_df['ban_date'] - pd.to_timedelta(estimation_df['period'] - 1, unit='d'))\n",
    "estimation_df['start_date'] = estimation_df['start_date'].astype('str')\n",
    "estimation_df.loc[(estimation_df['start_date'] < '2019-03-01'), 'start_date'] = '2019-03-01'\n",
    "estimation_df['start_date'] = pd.to_datetime(estimation_df['start_date'])\n",
    "estimation_df['period'] = (estimation_df['ban_date'] - estimation_df['start_date']).astype('timedelta64[D]') + 1\n",
    "\n",
    "print(estimation_df.head(20))\n",
    "print(len(estimation_df))"
   ]
  },
  {
   "cell_type": "code",
   "execution_count": 19,
   "metadata": {},
   "outputs": [
    {
     "data": {
      "image/png": "[encoded data removed]",
      "text/plain": [
       "<Figure size 432x288 with 1 Axes>"
      ]
     },
     "metadata": {},
     "output_type": "display_data"
    }
   ],
   "source": [
    "estimation_df['period'] = estimation_df['period'].astype('int')\n",
    "bins = np.arange(0, estimation_df['period'].max() + 1.5) - 0.5\n",
    "fig = estimation_df['period'].hist(bins=bins, histtype='step')\n",
    "plt.title(\"\")\n",
    "plt.xlim(xmin=0.5)\n",
    "plt.xlim(xmax=31)\n",
    "plt.xlabel('Period of cheating')\n",
    "plt.ylabel('Frequency')\n",
    "plt.show()"
   ]
  },
  {
   "cell_type": "markdown",
   "metadata": {},
   "source": [
    "### 3.4 STORING RESULTS"
   ]
  },
  {
   "cell_type": "code",
   "execution_count": 20,
   "metadata": {},
   "outputs": [
    {
     "name": "stdout",
     "output_type": "stream",
     "text": [
      "+--------------------+----------+----------+------+\n",
      "|                  id|start_date|  ban_date|period|\n",
      "+--------------------+----------+----------+------+\n",
      "|account.028c2a3e2...|2019-03-04|2019-03-11|     8|\n",
      "|account.03589c43c...|2019-03-30|2019-03-31|     2|\n",
      "|account.0d359dd89...|2019-03-21|2019-03-22|     2|\n",
      "|account.175b7548e...|2019-03-18|2019-03-19|     2|\n",
      "|account.22c13cfd8...|2019-03-05|2019-03-06|     2|\n",
      "|account.36c8019fc...|2019-03-26|2019-03-27|     2|\n",
      "|account.3935667f2...|2019-03-05|2019-03-06|     2|\n",
      "|account.57d64f776...|2019-03-30|2019-03-31|     2|\n",
      "|account.5dc434432...|2019-03-20|2019-03-21|     2|\n",
      "|account.6124b8551...|2019-03-13|2019-03-14|     2|\n",
      "|account.74e33deb3...|2019-03-10|2019-03-11|     2|\n",
      "|account.871b87b53...|2019-03-08|2019-03-09|     2|\n",
      "|account.8e688c4ed...|2019-03-10|2019-03-11|     2|\n",
      "|account.b049cefce...|2019-03-19|2019-03-20|     2|\n",
      "|account.b81481155...|2019-03-28|2019-03-29|     2|\n",
      "|account.ba1f0c4b7...|2019-03-08|2019-03-09|     2|\n",
      "|account.ba9810e0f...|2019-03-01|2019-03-01|     1|\n",
      "|account.c63a4df44...|2019-03-04|2019-03-04|     1|\n",
      "|account.c7c34a396...|2019-03-18|2019-03-19|     2|\n",
      "|account.d3a38978b...|2019-03-26|2019-03-27|     2|\n",
      "+--------------------+----------+----------+------+\n",
      "only showing top 20 rows\n",
      "\n"
     ]
    }
   ],
   "source": [
    "estimation_df['start_date'] = estimation_df['start_date'].astype('str')\n",
    "estimation_df['ban_date'] = estimation_df['ban_date'].astype('str')\n",
    "\n",
    "cheater_info = spark.createDataFrame(estimation_df)\n",
    "cheater_info.registerTempTable(\"cheater_info\")\n",
    "cheater_info.show(20)\n",
    "cheater_info.write.parquet(\"s3://social-research-cheating/cheater-analysis/cheater_info.parquet\")"
   ]
  },
  {
   "cell_type": "code",
   "execution_count": null,
   "metadata": {},
   "outputs": [],
   "source": [
    "# Get the number of cheaters who were estimated to cheat for two days.\n",
    "cheater_info = spark.read.parquet(\"s3://social-research-cheating/cheater-analysis/cheater_info.parquet\")\n",
    "cheater_info.registerTempTable(\"cheater_info\")\n",
    "res = spark.sql(\"SELECT * FROM cheater_info WHERE period = 2\")\n",
    "print(res.count())"
   ]
  },
  {
   "cell_type": "code",
   "execution_count": 15,
   "metadata": {},
   "outputs": [
    {
     "name": "stdout",
     "output_type": "stream",
     "text": [
      "1977329\n",
      "+--------------------+--------------+-------------+----------+--------+\n",
      "|                  id|         pname|cheating_flag|start_date|ban_date|\n",
      "+--------------------+--------------+-------------+----------+--------+\n",
      "|account.000171894...| Mirage_OwlEye|            0|        NA|      NA|\n",
      "|account.001017dce...|   rlawltn1012|            0|        NA|      NA|\n",
      "|account.0014b474d...|blue__lemonade|            0|        NA|      NA|\n",
      "|account.0017aeb1b...|       k-will0|            0|        NA|      NA|\n",
      "|account.001b6d0dc...|   kakaonodaab|            0|        NA|      NA|\n",
      "|account.001c5d052...|      DGU_Ryan|            0|        NA|      NA|\n",
      "|account.0026c9e0e...|       lkengn0|            0|        NA|      NA|\n",
      "|account.00272763b...|   BTKnavyseal|            0|        NA|      NA|\n",
      "|account.0028521c5...|      oyangang|            0|        NA|      NA|\n",
      "|account.002ba9410...|       SUSAN_2|            0|        NA|      NA|\n",
      "|account.003114883...|  wkddnwls2335|            0|        NA|      NA|\n",
      "|account.003850949...|        Gikorr|            0|        NA|      NA|\n",
      "|account.00399d4c2...|          2GIM|            0|        NA|      NA|\n",
      "|account.003c16440...|     ghost1058|            0|        NA|      NA|\n",
      "|account.003d78747...|  Noppaggu_Boy|            0|        NA|      NA|\n",
      "|account.004b374fb...|love__JH__love|            0|        NA|      NA|\n",
      "|account.00527016f...|    hwangiksun|            0|        NA|      NA|\n",
      "|account.005593793...|        Sono-1|            0|        NA|      NA|\n",
      "|account.006364873...|    Choigisang|            0|        NA|      NA|\n",
      "|account.0084c138e...|    HongKakaka|            0|        NA|      NA|\n",
      "+--------------------+--------------+-------------+----------+--------+\n",
      "only showing top 20 rows\n",
      "\n"
     ]
    }
   ],
   "source": [
    "nodes = spark.sql(\"\"\"SELECT p.id, pname, cheating_flag, \n",
    "                     CASE WHEN c.start_date IS NULL THEN 'NA' ELSE c.start_date END AS start_date, \n",
    "                     CASE WHEN c.ban_date IS NULL THEN 'NA' ELSE c.ban_date END AS ban_date \n",
    "                     FROM players p LEFT JOIN cheater_info c ON p.id = c.id\"\"\")\n",
    "print(nodes.count())\n",
    "nodes.show(20)\n",
    "# nodes.write.parquet(\"s3://social-research-cheating/nodes.parquet\")"
   ]
  }
 ],
 "metadata": {
  "kernelspec": {
   "display_name": "Python 3",
   "language": "python",
   "name": "python3"
  },
  "language_info": {
   "codemirror_mode": {
    "name": "ipython",
    "version": 3
   },
   "file_extension": ".py",
   "mimetype": "text/x-python",
   "name": "python",
   "nbconvert_exporter": "python",
   "pygments_lexer": "ipython3",
   "version": "3.7.3"
  },
  "name": "3_estimation_of_starting_date_of_cheating",
  "notebookId": 2613361705856735
 },
 "nbformat": 4,
 "nbformat_minor": 1
}
