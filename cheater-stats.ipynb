{
 "cells": [
  {
   "cell_type": "markdown",
   "metadata": {},
   "source": [
    "# CHEATER STATISTICS"
   ]
  },
  {
   "cell_type": "code",
   "execution_count": 1,
   "metadata": {},
   "outputs": [],
   "source": [
    "import pandas as pd\n",
    "import numpy as np\n",
    "import scipy.stats\n",
    "import analyze_cheaters"
   ]
  },
  {
   "cell_type": "markdown",
   "metadata": {},
   "source": [
    "## 1 DESCRIPTIVE STATISTICS"
   ]
  },
  {
   "cell_type": "markdown",
   "metadata": {},
   "source": [
    "### 1.1 NUMBER OF CHEATERS"
   ]
  },
  {
   "cell_type": "markdown",
   "metadata": {},
   "source": [
    "The dataset contains 6,161 cheaters."
   ]
  },
  {
   "cell_type": "code",
   "execution_count": 2,
   "metadata": {},
   "outputs": [
    {
     "name": "stdout",
     "output_type": "stream",
     "text": [
      "6161\n"
     ]
    }
   ],
   "source": [
    "num_of_cheaters = pd.read_csv(\"data/cheater_stats/num_of_cheaters.csv\")\n",
    "print(num_of_cheaters['num_of_cheaters'].sum())"
   ]
  },
  {
   "cell_type": "markdown",
   "metadata": {},
   "source": [
    "## 2 CHEATER PERFORMANCE ANALYSIS"
   ]
  },
  {
   "cell_type": "markdown",
   "metadata": {},
   "source": [
    "To decide on a baseline for cheating detection, we compare cheaters and non-cheaters who played the game between March 1 and March 3 in terms of performance. It is hypothesized that cheaters will show better performance than non-cheaters with the help of cheating tools. We first assume that 651 cheaters who were banned during this period always did cheat and then compare cheaters and non-cheaters using two performance measures.<br> To see the relevant figures, refer to 'paper-general-stats-visualization.ipynb'."
   ]
  },
  {
   "cell_type": "markdown",
   "metadata": {},
   "source": [
    "The number of cheaters who were banned between March 1 and March 3 is 651."
   ]
  },
  {
   "cell_type": "code",
   "execution_count": 3,
   "metadata": {},
   "outputs": [
    {
     "name": "stdout",
     "output_type": "stream",
     "text": [
      "651\n"
     ]
    }
   ],
   "source": [
    "td = spark.read.parquet(\"s3://social-research-cheating/cheater-analysis/data_for_cheater_analysis.parquet\")\n",
    "td.registerTempTable(\"td\")\n",
    "\n",
    "players = spark.read.parquet(\"s3://social-research-cheating/players.parquet\")\n",
    "players.registerTempTable(\"players\")\n",
    "\n",
    "cheaters = spark.sql(\"SELECT * FROM players WHERE ban_date <= '2019-03-03'\")\n",
    "cheaters.registerTempTable(\"cheaters\")\n",
    "print(cheaters.count())"
   ]
  },
  {
   "cell_type": "markdown",
   "metadata": {},
   "source": [
    "### 2.1 THE AVERAGE KILL RATIOS OF CHEATERS"
   ]
  },
  {
   "cell_type": "code",
   "execution_count": 4,
   "metadata": {},
   "outputs": [],
   "source": [
    "# Get the kills and deaths of cheaters\n",
    "kills = spark.sql(\"SELECT mid, src, time, m_date FROM td t JOIN cheaters c ON t.src = c.id\")\n",
    "kills.registerTempTable(\"kills\")\n",
    "\n",
    "deaths = spark.sql(\"SELECT mid, dst, time, m_date FROM td t JOIN cheaters c ON t.dst = c.id\")\n",
    "deaths.registerTempTable(\"deaths\")"
   ]
  },
  {
   "cell_type": "code",
   "execution_count": 5,
   "metadata": {},
   "outputs": [
    {
     "name": "stdout",
     "output_type": "stream",
     "text": [
      "Mean: 0.77\n",
      "Median: 0.82\n"
     ]
    }
   ],
   "source": [
    "cheater_kill_ratio = analyze_cheaters.get_avg_kill_ratio(kills, deaths)\n",
    "\n",
    "print(\"Mean: \" + str(round(cheater_kill_ratio['avg_kill_ratio'].mean(), 2)))\n",
    "print(\"Median: \" + str(round(cheater_kill_ratio['avg_kill_ratio'].median(), 2)))"
   ]
  },
  {
   "cell_type": "markdown",
   "metadata": {},
   "source": [
    "### 2.2 THE AVERAGE TIME DIFFERENCE BETWEEN KILLS OF CHEATERS\n",
    "\n",
    "Note that players should kill at least two other players to be evaluated by this measure."
   ]
  },
  {
   "cell_type": "code",
   "execution_count": 6,
   "metadata": {},
   "outputs": [
    {
     "name": "stdout",
     "output_type": "stream",
     "text": [
      "Mean: 139.67\n",
      "Median: 123.93\n"
     ]
    }
   ],
   "source": [
    "cheater_kill_interval = analyze_cheaters.get_avg_time_diff_between_kills(kills)\n",
    "\n",
    "print(\"Mean: \" + str(round(cheater_kill_interval['delta'].mean(), 2)))\n",
    "print(\"Median: \" + str(round(cheater_kill_interval['delta'].median(), 2)))"
   ]
  },
  {
   "cell_type": "markdown",
   "metadata": {},
   "source": [
    "### 2.3 THE AVERAGE KILL RATIOS OF NON-CHEATERS"
   ]
  },
  {
   "cell_type": "code",
   "execution_count": 7,
   "metadata": {},
   "outputs": [],
   "source": [
    "kills = spark.sql(\"\"\"SELECT mid, src, time, m_date FROM td t JOIN players p ON t.src = p.id \n",
    "                     WHERE cheating_flag = 0\"\"\")\n",
    "kills.registerTempTable(\"kills\")\n",
    "\n",
    "deaths = spark.sql(\"\"\"SELECT mid, dst, time, m_date FROM td t JOIN players p ON t.dst = p.id \n",
    "                      WHERE cheating_flag = 0\"\"\")\n",
    "deaths.registerTempTable(\"deaths\")"
   ]
  },
  {
   "cell_type": "code",
   "execution_count": 8,
   "metadata": {},
   "outputs": [
    {
     "name": "stdout",
     "output_type": "stream",
     "text": [
      "Mean: 0.4\n",
      "Median: 0.44\n"
     ]
    }
   ],
   "source": [
    "non_cheater_kill_ratio = analyze_cheaters.get_avg_kill_ratio(kills, deaths)\n",
    "\n",
    "print(\"Mean: \" + str(round(non_cheater_kill_ratio['avg_kill_ratio'].mean(), 2)))\n",
    "print(\"Median: \" + str(round(non_cheater_kill_ratio['avg_kill_ratio'].median(), 2)))"
   ]
  },
  {
   "cell_type": "markdown",
   "metadata": {},
   "source": [
    "### 2.4 THE AVERAGE TIME DIFFERENCE BETWEEN KILLS OF NON-CHEATERS"
   ]
  },
  {
   "cell_type": "code",
   "execution_count": 9,
   "metadata": {},
   "outputs": [
    {
     "name": "stdout",
     "output_type": "stream",
     "text": [
      "Mean: 194.11\n",
      "Median: 172.63\n"
     ]
    }
   ],
   "source": [
    "non_cheater_kill_interval = analyze_cheaters.get_avg_time_diff_between_kills(kills)\n",
    "\n",
    "print(\"Mean: \" + str(round(non_cheater_kill_interval['delta'].mean(), 2)))\n",
    "print(\"Median: \" + str(round(non_cheater_kill_interval['delta'].median(), 2)))\n",
    "\n",
    "# print(len(non_cheater_kill_interval['delta']))\n",
    "# print(non_cheater_kill_interval.head(10))"
   ]
  },
  {
   "cell_type": "markdown",
   "metadata": {},
   "source": [
    "### 2.5 COMPARING THE TWO GROUPS"
   ]
  },
  {
   "cell_type": "code",
   "execution_count": 10,
   "metadata": {},
   "outputs": [
    {
     "name": "stdout",
     "output_type": "stream",
     "text": [
      "Ttest_indResult(statistic=48.64290198138943, pvalue=5.2129985377298465e-219)\n",
      "Ttest_indResult(statistic=-18.23534154575062, pvalue=5.033833786062794e-60)\n"
     ]
    }
   ],
   "source": [
    "print(scipy.stats.ttest_ind(cheater_kill_ratio['avg_kill_ratio'], non_cheater_kill_ratio['avg_kill_ratio'], equal_var=False))\n",
    "\n",
    "print(scipy.stats.ttest_ind(cheater_kill_interval['delta'], non_cheater_kill_interval['delta'], equal_var=False))"
   ]
  },
  {
   "cell_type": "markdown",
   "metadata": {},
   "source": [
    "## 3 ESTIMATION OF THE TIME OF CHEATING ADOPTION"
   ]
  },
  {
   "cell_type": "markdown",
   "metadata": {},
   "source": [
    "The game company only provides the date when each cheater was banned. Using the two performance measures above, we estimate when cheaters (who were banned between March 1 and March 31) started cheating to compensate for the missing information."
   ]
  },
  {
   "cell_type": "code",
   "execution_count": 3,
   "metadata": {},
   "outputs": [],
   "source": [
    "td = spark.read.parquet(\"s3://social-research-cheating/data_for_estim.parquet\")\n",
    "td.registerTempTable(\"td\")\n",
    "\n",
    "cheaters = spark.sql(\"SELECT * FROM players WHERE cheating_flag = 1\")\n",
    "cheaters.registerTempTable(\"cheaters\")"
   ]
  },
  {
   "cell_type": "markdown",
   "metadata": {},
   "source": [
    "### 3.1 THE AVERAGE KILL RATIO PER DAY"
   ]
  },
  {
   "cell_type": "code",
   "execution_count": 4,
   "metadata": {},
   "outputs": [],
   "source": [
    "kills = spark.sql(\"SELECT mid, src, time, m_date FROM td t JOIN cheaters c ON t.src = c.id\")\n",
    "kills.registerTempTable(\"kills\")\n",
    "\n",
    "kills_per_day = spark.sql(\"\"\"SELECT src AS id, m_date, COUNT(*) AS num_of_kills \n",
    "                             FROM kills GROUP BY src, m_date\"\"\")\n",
    "kills_per_day_df = kills_per_day.toPandas()\n",
    "\n",
    "deaths = spark.sql(\"SELECT mid, dst, time, m_date FROM td t JOIN cheaters c ON t.dst = c.id\")\n",
    "deaths.registerTempTable(\"deaths\")\n",
    "\n",
    "deaths_per_day = spark.sql(\"\"\"SELECT dst AS id, m_date, COUNT(*) AS num_of_deaths \n",
    "                              FROM deaths GROUP BY dst, m_date\"\"\")\n",
    "deaths_per_day_df = deaths_per_day.toPandas()\n",
    "\n",
    "dates_from_kills = kills_per_day_df[['id', 'm_date']]\n",
    "dates_from_deaths = deaths_per_day_df[['id', 'm_date']]\n",
    "dates = pd.concat([dates_from_kills, dates_from_deaths])\n",
    "dates = dates.drop_duplicates(subset=['id', 'm_date'])\n",
    "\n",
    "temp = pd.merge(dates, kills_per_day_df, how='outer', on=['id', 'm_date'])\n",
    "temp = temp.fillna(0)\n",
    "merged_table = pd.merge(temp, deaths_per_day_df, how='outer', on=['id', 'm_date'])\n",
    "merged_table = merged_table.fillna(0)\n",
    "\n",
    "merged_table['kill_ratio'] = merged_table['num_of_kills'] / (merged_table['num_of_kills'] + merged_table['num_of_deaths'])\n",
    "avg_kill_ratio_per_day = merged_table[['id', 'm_date', 'kill_ratio']].sort_values(by=['id', 'm_date']).reset_index(drop=True)"
   ]
  },
  {
   "cell_type": "markdown",
   "metadata": {},
   "source": [
    "### 3.2 THE AVERAGE TIME DIFFERENCE BETWEEN KILLS PER DAY"
   ]
  },
  {
   "cell_type": "code",
   "execution_count": 5,
   "metadata": {},
   "outputs": [],
   "source": [
    "kills_df = kills.toPandas()\n",
    "kills_df = kills_df.sort_values(['src', 'mid', 'time'])\n",
    "\n",
    "kills_df['time'] = pd.to_datetime(kills_df['time'])\n",
    "kills_df['delta'] = kills_df.groupby(['mid', 'src'])['time'].diff()\n",
    "kills_df['delta'] = kills_df['delta'] / np.timedelta64(1, 's')\n",
    "\n",
    "time_diffs = kills_df[['src', 'm_date', 'delta']]\n",
    "avg_kill_interval_per_day = time_diffs.groupby(['src', 'm_date'], as_index=False).mean()"
   ]
  },
  {
   "cell_type": "markdown",
   "metadata": {},
   "source": [
    "### 3.3 ESTIMATION OF THE TIME OF CHEATING ADOPTION BASED ON PERFORMANCE"
   ]
  },
  {
   "cell_type": "markdown",
   "metadata": {},
   "source": [
    "The number of cheaters who have complete performance information is 2,980."
   ]
  },
  {
   "cell_type": "code",
   "execution_count": 7,
   "metadata": {},
   "outputs": [
    {
     "name": "stdout",
     "output_type": "stream",
     "text": [
      "2980\n"
     ]
    }
   ],
   "source": [
    "avg_kill_interval_per_day.columns = ['id', 'm_date', 'delta']\n",
    "merged_table = pd.merge(avg_kill_ratio_per_day, avg_kill_interval_per_day, how='left', on=['id', 'm_date'])\n",
    "\n",
    "merged_table['kill_ratio'] = merged_table['kill_ratio'].round(2)\n",
    "merged_table['delta'] = merged_table['delta'].round(2)\n",
    "merged_table['flag'] = 0\n",
    "\n",
    "# Change the value of a flag into one if the record (row) meets the following conditions.\n",
    "merged_table.loc[(merged_table['kill_ratio'] >= 0.8) & (merged_table['delta'] <= 140), 'flag'] = 1\n",
    "flagged_rows =  merged_table[merged_table['flag'] == 1]\n",
    "\n",
    "reset_index = flagged_rows.groupby(['id']).first().reset_index()\n",
    "start_dates = spark.createDataFrame(reset_index)\n",
    "start_dates.registerTempTable(\"start_dates\")\n",
    "\n",
    "estimation = spark.sql(\"\"\"SELECT c.id, s.m_date AS start_date, ban_date \n",
    "                          FROM cheaters c LEFT JOIN start_dates s ON c.id = s.id\"\"\")\n",
    "\n",
    "estimation_df = estimation.toPandas()\n",
    "estimation_df['ban_date'] = pd.to_datetime(estimation_df['ban_date'])\n",
    "estimation_df['start_date'] = pd.to_datetime(estimation_df['start_date'])\n",
    "estimation_df['period'] = (estimation_df['ban_date'] - estimation_df['start_date']).astype('timedelta64[D]') + 1\n",
    "\n",
    "complete_rows = estimation_df[estimation_df.period.notnull()]\n",
    "complete_rows['period'] = complete_rows['period'].astype('int')\n",
    "\n",
    "print(len(complete_rows))\n",
    "complete_rows.to_csv('estimated_cheating_time.csv', index=False)"
   ]
  },
  {
   "cell_type": "markdown",
   "metadata": {},
   "source": [
    "For those who have complete information, the average duration of cheating before the ban is four days."
   ]
  },
  {
   "cell_type": "code",
   "execution_count": 8,
   "metadata": {},
   "outputs": [
    {
     "name": "stdout",
     "output_type": "stream",
     "text": [
      "Mean: 4.36\n"
     ]
    }
   ],
   "source": [
    "print(\"Mean: \" + str(round(complete_rows['period'].mean(), 2)))"
   ]
  },
  {
   "cell_type": "code",
   "execution_count": 9,
   "metadata": {},
   "outputs": [],
   "source": [
    "# For those who have at least one piece of missing information, assume that they cheated for two days.\n",
    "estimation_df['period'] = estimation_df['period'].fillna(2)\n",
    "estimation_df['start_date'] = estimation_df['start_date'].fillna(estimation_df['ban_date'] - pd.to_timedelta(estimation_df['period'] - 1, unit='d'))\n",
    "estimation_df['start_date'] = estimation_df['start_date'].astype('str')\n",
    "estimation_df.loc[(estimation_df['start_date'] < '2019-03-01'), 'start_date'] = '2019-03-01'\n",
    "estimation_df['start_date'] = pd.to_datetime(estimation_df['start_date'])\n",
    "estimation_df['period'] = (estimation_df['ban_date'] - estimation_df['start_date']).astype('timedelta64[D]') + 1"
   ]
  },
  {
   "cell_type": "markdown",
   "metadata": {},
   "source": [
    "4,321 cheaters were estimated to start cheating two days before the ban. "
   ]
  },
  {
   "cell_type": "code",
   "execution_count": 10,
   "metadata": {},
   "outputs": [
    {
     "name": "stdout",
     "output_type": "stream",
     "text": [
      "4321\n"
     ]
    }
   ],
   "source": [
    "print(len(estimation_df[estimation_df['period'] == 2]))"
   ]
  }
 ],
 "metadata": {
  "kernelspec": {
   "display_name": "Python 3",
   "language": "python",
   "name": "python3"
  },
  "language_info": {
   "codemirror_mode": {
    "name": "ipython",
    "version": 3
   },
   "file_extension": ".py",
   "mimetype": "text/x-python",
   "name": "python",
   "nbconvert_exporter": "python",
   "pygments_lexer": "ipython3",
   "version": "3.7.3"
  },
  "name": "2_cheater_analysis",
  "notebookId": 3403989876538765
 },
 "nbformat": 4,
 "nbformat_minor": 1
}
