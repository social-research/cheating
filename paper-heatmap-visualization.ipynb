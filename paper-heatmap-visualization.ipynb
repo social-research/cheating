{
 "cells": [
  {
   "cell_type": "markdown",
   "metadata": {},
   "source": [
    "## HEATMAP VISUALIZATION"
   ]
  },
  {
   "cell_type": "markdown",
   "metadata": {},
   "source": [
    "In this section, we use the data in csv files to create heatmaps of test statistics (z-scores, Poisson statistics, and frequencies).\n",
    "The two files that we use are in the data folder:\n",
    "\n",
    "* RO_RE.csv contains the number of motifs using simple definition of observation and experience for each network (one empirical network and 1000 randomized networks).\n",
    "* SO_SE.csv contains the number of motifs using strict definition of observation and experience for each network."
   ]
  },
  {
   "cell_type": "code",
   "execution_count": 1,
   "metadata": {},
   "outputs": [],
   "source": [
    "import numpy as np\n",
    "import matplotlib.pylab as plt\n",
    "import pandas as pd\n",
    "import matplotlib\n",
    "from matplotlib.colors import DivergingNorm\n",
    "from mpl_toolkits.axes_grid1 import make_axes_locatable\n",
    "import matplotlib.colors\n",
    "import scipy.stats\n",
    "from scipy.stats import norm\n",
    "import sys\n",
    "import pprint"
   ]
  },
  {
   "cell_type": "code",
   "execution_count": 2,
   "metadata": {},
   "outputs": [],
   "source": [
    "params = {\n",
    "    'text.latex.preamble': ['\\\\usepackage{gensymb}'],\n",
    "    'image.origin': 'lower',\n",
    "    'image.interpolation': 'nearest',\n",
    "    'image.cmap': 'PiYG',\n",
    "    'axes.linewidth': 0.25,\n",
    "    'axes.grid': False,\n",
    "    'savefig.dpi': 400,\n",
    "    'axes.labelsize': 7,\n",
    "    'axes.titlesize': 9,\n",
    "    'axes.facecolor': 'white',\n",
    "    'xtick.major.size': 2,\n",
    "    'ytick.major.width': 0.25,\n",
    "    'ytick.major.size': 2,\n",
    "    'xtick.major.width': 0.25,\n",
    "    'xtick.major.pad': '4',\n",
    "    'ytick.major.pad': '4',\n",
    "    'xtick.minor.size': 2,\n",
    "    'ytick.minor.width': 0.25,\n",
    "    'ytick.minor.size': 2,\n",
    "    'xtick.minor.width': 0.25,\n",
    "    'font.size': 7, \n",
    "    'legend.fontsize': 7,\n",
    "    'xtick.labelsize': 7,\n",
    "    'ytick.labelsize': 7,\n",
    "    'lines.linewidth': 0.25,\n",
    "    'patch.linewidth': 0.25,\n",
    "    'figure.figsize': [7, 7],\n",
    "    'font.family': 'sans-serif',\n",
    "    'font.sans-serif': 'Arial'\n",
    "}\n",
    "matplotlib.rcParams.update(params)\n",
    "\n",
    "\n",
    "def colorbar(mappable):\n",
    "    last_axes = plt.gca()\n",
    "    ax = mappable.axes\n",
    "    fig = ax.figure\n",
    "    divider = make_axes_locatable(ax)\n",
    "    cax = divider.append_axes(\"right\", size=\"3%\", pad=0.1)\n",
    "    cbar = fig.colorbar(mappable, cax=cax)\n",
    "    plt.sca(last_axes)\n",
    "    return cbar\n",
    "\n",
    "\n",
    "def plot_heatmap(ax, piv, xticks, yticks, title, cbar=False):\n",
    "    colnorm = DivergingNorm(vmin=0, vcenter=0.05, vmax=1)\n",
    "    img1 = ax.imshow(piv, alpha=0.8, norm=colnorm)\n",
    "    ax.set_xticks(np.arange(piv.shape[1]))\n",
    "    ax.set_xticklabels(xticks)\n",
    "    ax.set_yticks(np.arange(piv.shape[0]))\n",
    "    ax.set_yticklabels(yticks)\n",
    "    ax.title.set_text(title)\n",
    "    ax.set_xlabel(r'Observation of $n_o$ cheaters')\n",
    "    ax.set_ylabel(r'Victimization by $n_v$ cheaters')\n",
    "\n",
    "    textcolors = [\"k\", \"w\"]\n",
    "    for x in range(piv.shape[1]):\n",
    "        for y in range(piv.shape[0]):\n",
    "            if np.isnan(piv.iloc[y, x]) == False:\n",
    "                text = ax.text(x, y, ('%.3f' % piv.iloc[y, x]).lstrip('0'), ha=\"center\", va=\"center\", fontsize=6,\n",
    "                               color=textcolors[1 if piv.iloc[y, x] <= 0.01 or piv.iloc[y, x] >= 0.85 else 0])\n",
    "    if cbar:\n",
    "        cbar = colorbar(img1)\n",
    "        cbar.solids.set_edgecolor(\"face\")\n",
    "    return img1"
   ]
  },
  {
   "cell_type": "markdown",
   "metadata": {},
   "source": [
    "## 1 DETAIL HEATMAP OF CUMULATIVE PROBABILITY"
   ]
  },
  {
   "cell_type": "code",
   "execution_count": 302,
   "metadata": {},
   "outputs": [],
   "source": [
    "def get_motif_stats(fname, max_obs, max_exp, stat):\n",
    "    df = pd.read_csv(fname)\n",
    "    df = df.sort_values(['total_exp', 'total_obs']).reset_index(drop=True)\n",
    "\n",
    "    col_list = list(df.columns[2:])\n",
    "    res = df.groupby([df.total_exp, pd.cut(df.total_obs, \n",
    "                                           [-np.inf] + list(range(max_obs)) + [np.inf], \n",
    "                                           labels = list(range(max_obs+1)))])[col_list].sum().reset_index()\n",
    "\n",
    "    df = res.groupby([res.total_obs, pd.cut(res.total_exp,[-np.inf] + list(range(max_exp)) + [np.inf], \n",
    "                                                  labels = list(range(max_exp+1)))])[col_list].sum().reset_index()\n",
    "    if stat == 'poisson p':\n",
    "        df['rand_mean'] = df.iloc[:, 3:].mean(axis=1)\n",
    "        df['cdf'] = scipy.stats.poisson.cdf(df['E'], df['rand_mean'])\n",
    "        df['pmf'] = scipy.stats.poisson.pmf(df['E'], df['rand_mean'])\n",
    "        df['p'] = 1 - df['cdf'] + df['pmf']\n",
    "    elif stat == 'cum prop':\n",
    "        x = df.iloc[:, 3:].ge(df.iloc[:, 2], axis=0).sum(axis=1)\n",
    "        df['p'] = x / 1000 # number of randomizations\n",
    "\n",
    "    piv = pd.pivot_table(df, values=\"p\", index=[\"total_exp\"], columns=[\"total_obs\"])\n",
    "    return piv"
   ]
  },
  {
   "cell_type": "code",
   "execution_count": 303,
   "metadata": {},
   "outputs": [
    {
     "data": {
      "image/png": "[encoded data removed]",
      "text/plain": [
       "<Figure size 417.6x144 with 1 Axes>"
      ]
     },
     "metadata": {
      "needs_background": "light"
     },
     "output_type": "display_data"
    },
    {
     "data": {
      "image/png": "[encoded data removed]",
      "text/plain": [
       "<Figure size 336.96x115.2 with 1 Axes>"
      ]
     },
     "metadata": {
      "needs_background": "light"
     },
     "output_type": "display_data"
    }
   ],
   "source": [
    "# Cumulative prop\n",
    "fig, ax = plt.subplots(1, 1, figsize=(5.8, 2))\n",
    "piv = get_motif_stats('data/RO_RE.csv', max_obs=12, max_exp=3, stat='cum prop') \n",
    "xticks = [0, 1, 2, 3, 4, 5, 6, 7, 8, 9, 10, 11, '12+']\n",
    "yticks = [0, 1, 2, '3+']\n",
    "plot_heatmap(ax, piv, xticks, yticks, '')\n",
    "plt.tight_layout()\n",
    "plt.show()\n",
    "fig.savefig('figs/paper/cumprop_simple_detail.pdf', format='pdf')\n",
    "\n",
    "fig, ax = plt.subplots(1, 1, figsize=(4.68, 1.6))\n",
    "piv = get_motif_stats('data/SO_SE.csv', max_obs=9, max_exp=2, stat='cum prop')\n",
    "xticks = [0, 1, 2, 3, 4, 5, 6, 7, 8, '9+']\n",
    "yticks = [0, 1, '2+']\n",
    "plot_heatmap(ax, piv, xticks, yticks, '')\n",
    "plt.tight_layout()\n",
    "plt.show()\n",
    "fig.savefig('figs/paper/cumprop_strict_detail.pdf', format='pdf')"
   ]
  },
  {
   "cell_type": "markdown",
   "metadata": {},
   "source": [
    "### Calculate the statistics to test H4 - Fig. 4 in the main text."
   ]
  },
  {
   "cell_type": "code",
   "execution_count": 304,
   "metadata": {},
   "outputs": [
    {
     "data": {
      "image/png": "[encoded data removed]",
      "text/plain": [
       "<Figure size 360x136.8 with 3 Axes>"
      ]
     },
     "metadata": {
      "needs_background": "light"
     },
     "output_type": "display_data"
    }
   ],
   "source": [
    "xticks = [0, 1, '2+']\n",
    "yticks = [0, 1, '2+']\n",
    "\n",
    "fig, (ax1, ax2) = plt.subplots(1, 2, figsize=(5, 1.9))\n",
    "piv1 = get_motif_stats('data/RO_RE.csv', max_obs=2, max_exp=2, stat='cum prop') \n",
    "img1 = plot_heatmap(ax1, piv1, xticks, yticks, 'A', cbar=False)\n",
    "piv2 = get_motif_stats('data/SO_SE.csv', max_obs=2, max_exp=2, stat='cum prop')\n",
    "img2 = plot_heatmap(ax2, piv2, xticks, yticks, 'B', cbar=False)\n",
    "plt.subplots_adjust(left=0.04, bottom=0.22, top=0.88, wspace=0.2)\n",
    "cax = plt.axes([0.9, 0.22, 0.02, 0.66])\n",
    "cbar = fig.colorbar(img1, cax=cax)\n",
    "cbar.solids.set_edgecolor(\"face\")\n",
    "plt.show()\n",
    "fig.savefig('figs/paper/fig_4.pdf', format='pdf')"
   ]
  },
  {
   "cell_type": "markdown",
   "metadata": {},
   "source": [
    "## 2 HEATMAP FOR BASIC (1, 0), (0, 1), AND (1, 1) MOTIFS"
   ]
  },
  {
   "cell_type": "markdown",
   "metadata": {},
   "source": [
    "## 2.1 TEST STATISTICS"
   ]
  },
  {
   "cell_type": "code",
   "execution_count": 305,
   "metadata": {
    "scrolled": true
   },
   "outputs": [],
   "source": [
    "def calc_basic_motifs(fname, motif):\n",
    "    df = pd.read_csv(fname)\n",
    "\n",
    "    # Drop the rows with zero experience or zero observation.\n",
    "    df = df.drop(df[(df.total_obs == 0) & (df.total_exp == 0)].index)\n",
    "    df = df.sort_values(['total_exp', 'total_obs']).reset_index(drop=True)\n",
    "    \n",
    "    if motif == (0, 1):\n",
    "        df = df[df.total_exp == 0]\n",
    "        temp_dat = df.loc[:,'E':].multiply(df['total_obs'], axis=\"index\")\n",
    "    elif motif == (1, 0):\n",
    "        df = df[df.total_obs == 0]\n",
    "        temp_dat = df.loc[:,'E':].multiply(df['total_exp'], axis=\"index\")\n",
    "    elif motif == (1, 1):\n",
    "        df['num_pairs'] = np.where(df['total_obs'] <= df['total_exp'], \n",
    "                                 df['total_obs'], df['total_exp'])\n",
    "        temp_dat = df.loc[:,'E':'R1000'].multiply(df['num_pairs'], axis=\"index\")\n",
    "    \n",
    "    # Calculate the total number of the motif for each network\n",
    "    temp_dat.loc['total'] = temp_dat.iloc[:, :].sum()\n",
    "    cnt = (temp_dat.iloc[-1, 1:].values >= temp_dat.iloc[-1, 0]).sum().astype(int)\n",
    "    cum_prop = cnt / 1000\n",
    "\n",
    "    # Calculate p-values\n",
    "    rand_mean = float(temp_dat.iloc[-1:, 1:].mean(axis=1))\n",
    "    rand_std = float(temp_dat.iloc[-1:, 1:].std(axis=1))\n",
    "    z_score = norm.ppf(norm.cdf(x=temp_dat.iloc[-1, 0], loc=rand_mean, scale=rand_std))\n",
    "    z_pval = 1 - norm.cdf(z_score)\n",
    "    poiss_cdf = float(scipy.stats.poisson.cdf(temp_dat.iloc[-1, 0], rand_mean))\n",
    "    poiss_pmf = float(scipy.stats.poisson.pmf(temp_dat.iloc[-1, 0], rand_mean))\n",
    "    poiss_pval = 1 - poiss_cdf + poiss_pmf\n",
    "\n",
    "    return {\"z-score p\": z_pval, \"poisson p\": poiss_pval, \"cum prop\": cum_prop}"
   ]
  },
  {
   "cell_type": "markdown",
   "metadata": {},
   "source": [
    "## 2.2 HEATMAPS"
   ]
  },
  {
   "cell_type": "markdown",
   "metadata": {},
   "source": [
    "### Calculate the statistics to test H1~3 - Fig. 3 in the main text."
   ]
  },
  {
   "cell_type": "code",
   "execution_count": 306,
   "metadata": {},
   "outputs": [],
   "source": [
    "def plot_heatmap_small(ax, df, title, cbar=False):\n",
    "    colnorm = DivergingNorm(vmin=0, vcenter=0.05, vmax=1)\n",
    "    img1 = ax.imshow(df, alpha=0.8, norm=colnorm)\n",
    "    ax.set_xticks(np.arange(df.shape[0]))\n",
    "    ax.set_yticks(np.arange(df.shape[1]))\n",
    "    ax.set_xticklabels(['No', 'Yes'])\n",
    "    ax.set_yticklabels(['No', 'Yes'])\n",
    "    ax.title.set_text(title)\n",
    "    ax.set_xlabel('Observation')\n",
    "    ax.set_ylabel('Victimization')\n",
    "\n",
    "    textcolors = [\"k\", \"w\"]\n",
    "    for x in range(df.shape[0]):\n",
    "        for y in range(df.shape[1]):\n",
    "            if np.isnan(df.iloc[y, x]) == False:\n",
    "                text = ax.text(x, y, ('%.3f' % df.iloc[y, x]).lstrip('0'), ha=\"center\", va=\"center\",\n",
    "                               color=textcolors[1 if df.iloc[y, x] <= 0.01 or df.iloc[y, x] >= 0.85 else 0], fontsize=6)\n",
    "\n",
    "    if cbar:\n",
    "        cbar = colorbar(img1)\n",
    "        cbar.solids.set_edgecolor(\"face\")\n",
    "    return img1\n",
    "\n",
    "    \n",
    "def get_basic_motif_stats(fname, stat):\n",
    "    simple_df = pd.DataFrame({\"O\": [0, 0, 1, 1], \n",
    "                              \"V\": [0, 1, 0, 1], \n",
    "                              \"p\": [np.NaN, \n",
    "                                    calc_basic_motifs(fname, (1, 0))[stat], \n",
    "                                    calc_basic_motifs(fname, (0, 1))[stat],  \n",
    "                                    calc_basic_motifs(fname, (1, 1))[stat]]})\n",
    "    simple_piv = pd.pivot_table(simple_df, values=\"p\", index=[\"V\"], columns=[\"O\"])\n",
    "    return simple_piv"
   ]
  },
  {
   "cell_type": "code",
   "execution_count": 307,
   "metadata": {},
   "outputs": [
    {
     "data": {
      "image/png": "[encoded data removed]",
      "text/plain": [
       "<Figure size 244.8x93.6 with 3 Axes>"
      ]
     },
     "metadata": {
      "needs_background": "light"
     },
     "output_type": "display_data"
    }
   ],
   "source": [
    "### Plot a heatmap of cumulative proportion\n",
    "fig, (ax1, ax2) = plt.subplots(1, 2, figsize=(3.4, 1.3))\n",
    "img1 = plot_heatmap_small(ax1, get_basic_motif_stats('data/RO_RE.csv', 'cum prop'), 'A')\n",
    "img2 = plot_heatmap_small(ax2, get_basic_motif_stats('data/SO_SE.csv', 'cum prop'), 'B')\n",
    "plt.subplots_adjust(left=0.05, bottom=0.25, top=0.85, wspace=0.2)\n",
    "cax = plt.axes([0.9, 0.25, 0.02, 0.6])\n",
    "cbar = fig.colorbar(img1, cax=cax)\n",
    "cbar.solids.set_edgecolor(\"face\")\n",
    "plt.show()\n",
    "fig.savefig('figs/paper/fig_3.pdf', format='pdf')\n"
   ]
  },
  {
   "cell_type": "markdown",
   "metadata": {},
   "source": [
    "## 2.3 SUMMARY OF STATS, SIMPLE DEFINITION\n",
    "\n",
    "Z-score values appear closer to cumulative prop than Possion values."
   ]
  },
  {
   "cell_type": "code",
   "execution_count": 308,
   "metadata": {},
   "outputs": [
    {
     "name": "stdout",
     "output_type": "stream",
     "text": [
      "(0, 1):\n",
      "{'cum prop': 0.092,\n",
      " 'poisson p': 0.029963775791336727,\n",
      " 'z-score p': 0.0907246116830367}\n",
      "(1, 0):\n",
      "{'cum prop': 0.407,\n",
      " 'poisson p': 0.42601220725898453,\n",
      " 'z-score p': 0.39317989305709933}\n",
      "(1, 1):\n",
      "{'cum prop': 0.022,\n",
      " 'poisson p': 0.09424680268420432,\n",
      " 'z-score p': 0.02062720482934921}\n"
     ]
    }
   ],
   "source": [
    "# Strict definition\n",
    "\n",
    "print('(0, 1):') \n",
    "pprint.pprint(calc_basic_motifs('data/RO_RE.csv', (0, 1)))\n",
    "\n",
    "print('(1, 0):') \n",
    "pprint.pprint(calc_basic_motifs('data/RO_RE.csv', (1, 0)))\n",
    "\n",
    "print('(1, 1):') \n",
    "pprint.pprint(calc_basic_motifs('data/RO_RE.csv', (1, 1)))"
   ]
  },
  {
   "cell_type": "markdown",
   "metadata": {},
   "source": [
    "## 2.4 SUMMARY OF STATS, STRICT DEFINITION"
   ]
  },
  {
   "cell_type": "code",
   "execution_count": 309,
   "metadata": {},
   "outputs": [
    {
     "name": "stdout",
     "output_type": "stream",
     "text": [
      "(0, 1):\n",
      "{'cum prop': 0.233,\n",
      " 'poisson p': 0.2587701858137206,\n",
      " 'z-score p': 0.22843847322061106}\n",
      "(1, 0):\n",
      "{'cum prop': 0.954,\n",
      " 'poisson p': 0.9033966159559632,\n",
      " 'z-score p': 0.9410379194498448}\n",
      "(1, 1):\n",
      "{'cum prop': 0.0,\n",
      " 'poisson p': 0.005103960378438088,\n",
      " 'z-score p': 3.9137256319876634e-05}\n"
     ]
    }
   ],
   "source": [
    "# Strict definition\n",
    "\n",
    "print('(0, 1):') \n",
    "pprint.pprint(calc_basic_motifs('data/SO_SE.csv', (0, 1)))\n",
    "\n",
    "print('(1, 0):') \n",
    "pprint.pprint(calc_basic_motifs('data/SO_SE.csv', (1, 0)))\n",
    "\n",
    "print('(1, 1):') \n",
    "pprint.pprint(calc_basic_motifs('data/SO_SE.csv', (1, 1)))"
   ]
  },
  {
   "cell_type": "markdown",
   "metadata": {},
   "source": [
    " ## 3 MOTIF COUNTS IN EMPIRICAL NETWORK"
   ]
  },
  {
   "cell_type": "code",
   "execution_count": 310,
   "metadata": {
    "scrolled": false
   },
   "outputs": [
    {
     "data": {
      "image/png": "[encoded data removed]",
      "text/plain": [
       "<Figure size 504x403.2 with 4 Axes>"
      ]
     },
     "metadata": {
      "needs_background": "light"
     },
     "output_type": "display_data"
    }
   ],
   "source": [
    "def get_motif_counts(fname, max_obs=None, max_exp=None):\n",
    "    \"\"\"Count motifs in empirical data in fname for motifs with\n",
    "    total_obs <= max_obs and total_exp <= max_exp\n",
    "    \"\"\"\n",
    "    df = pd.read_csv(fname)\n",
    "    if max_obs != None:\n",
    "        df = df.drop(df[df.total_obs > max_obs].index)\n",
    "    if max_exp != None:\n",
    "        df = df.drop(df[df.total_exp > max_exp].index)\n",
    "    df = df.sort_values(['total_exp', 'total_obs']).reset_index(drop=True)\n",
    "    freq_piv = pd.pivot_table(df, values=\"E\", index=[\"total_exp\"], columns=[\"total_obs\"])\n",
    "    freq_piv = freq_piv.replace(0, np.nan)\n",
    "    return freq_piv\n",
    "\n",
    "\n",
    "def plot_counts(df, ax, title):\n",
    "    img1 = ax.imshow(df, cmap='YlGn', alpha=0.8, vmin=0, vmax=100)\n",
    "    ax.set_xticks(np.arange(df.shape[1]))\n",
    "    ax.set_yticks(np.arange(df.shape[0]))\n",
    "    ax.set_xlabel(r'Observation of $n_o$ cheaters')\n",
    "    ax.set_ylabel(r'Victimization by $n_v$ cheaters')\n",
    "    ax.title.set_text(title)\n",
    "    \n",
    "    textcolors = [\"k\", \"w\"]\n",
    "    for y in range(df.shape[0]):\n",
    "        for x in range(df.shape[1]):\n",
    "            if np.isnan(df[x][y]) == False:\n",
    "                text = ax.text(x, y, int(df[x][y]), ha=\"center\", va=\"center\", fontsize=6,\n",
    "                                color=textcolors[1 if df[x][y] >= 65 else 0])\n",
    "\n",
    "    \n",
    "    cbar = colorbar(img1)\n",
    "    cbar.solids.set_edgecolor(\"face\")\n",
    "    \n",
    "\n",
    "# Plot a heatmap of frequencies\n",
    "fig, (ax1, ax2) = plt.subplots(2, 1, figsize=(7, 5.6))\n",
    "\n",
    "counts_simple = get_motif_counts('data/RO_RE.csv', max_obs=20, max_exp=6)\n",
    "plot_counts(counts_simple, ax1, 'A')\n",
    "\n",
    "counts_strict = get_motif_counts('data/SO_SE.csv', max_obs=20, max_exp=6)\n",
    "plot_counts(counts_strict, ax2, 'B')\n",
    "\n",
    "plt.tight_layout()\n",
    "plt.show()\n",
    "fig.savefig('figs/paper/fig_s5.pdf', format='pdf')"
   ]
  },
  {
   "cell_type": "markdown",
   "metadata": {},
   "source": [
    "### Update Figure S5 with the counts for 0, 1, and 2+."
   ]
  },
  {
   "cell_type": "code",
   "execution_count": 10,
   "metadata": {},
   "outputs": [
    {
     "data": {
      "image/png": "[encoded data removed]",
      "text/plain": [
       "<Figure size 360x136.8 with 3 Axes>"
      ]
     },
     "metadata": {
      "needs_background": "light"
     },
     "output_type": "display_data"
    }
   ],
   "source": [
    "def get_motif_counts(fname, max_obs=None, max_exp=None):\n",
    "    df = pd.read_csv(fname)\n",
    "    df = df.sort_values(['total_exp', 'total_obs']).reset_index(drop=True)\n",
    "    res = df.groupby([df.total_exp, pd.cut(df.total_obs, \n",
    "                                           [-np.inf] + list(range(max_obs)) + [np.inf], \n",
    "                                           labels = list(range(max_obs+1)))])[\"E\"].sum().reset_index()\n",
    "    df = res.groupby([res.total_obs, pd.cut(res.total_exp,[-np.inf] + list(range(max_exp)) + [np.inf], \n",
    "                                            labels = list(range(max_exp+1)))])[\"E\"].sum().reset_index()\n",
    "    freq_piv = pd.pivot_table(df, values=\"E\", index=[\"total_exp\"], columns=[\"total_obs\"])\n",
    "    freq_piv = freq_piv.replace(0, np.nan)\n",
    "    \n",
    "    return freq_piv\n",
    "\n",
    "\n",
    "def plot_counts(df, ax, title, xticks, yticks, cbar=False):\n",
    "    img1 = ax.imshow(df, cmap='YlGn', alpha=0.8, vmin=0, vmax=100)\n",
    "    ax.set_xticks(np.arange(df.shape[1]))\n",
    "    ax.set_xticklabels(xticks)\n",
    "    ax.set_yticks(np.arange(df.shape[0]))\n",
    "    ax.set_yticklabels(yticks)\n",
    "    ax.set_xlabel(r'Observation of $n_o$ cheaters')\n",
    "    ax.set_ylabel(r'Victimization by $n_v$ cheaters')\n",
    "    ax.title.set_text(title)\n",
    "    \n",
    "    textcolors = [\"k\", \"w\"]\n",
    "    for y in range(df.shape[0]):\n",
    "        for x in range(df.shape[1]):\n",
    "            if np.isnan(df[x][y]) == False:\n",
    "                text = ax.text(x, y, int(df[x][y]), ha=\"center\", va=\"center\", fontsize=6,\n",
    "                                color=textcolors[1 if df[x][y] >= 65 else 0])\n",
    "    \n",
    "    if cbar:\n",
    "        cbar = colorbar(img1)\n",
    "        cbar.solids.set_edgecolor(\"face\")\n",
    "    \n",
    "    return img1\n",
    "\n",
    "\n",
    "xticks = [0, 1, '2+']\n",
    "yticks = [0, 1, '2+']\n",
    "\n",
    "# Plot a heatmap of frequencies\n",
    "fig, (ax1, ax2) = plt.subplots(1, 2, figsize=(5, 1.9))\n",
    "\n",
    "counts_simple = get_motif_counts('data/RO_RE.csv', max_obs=2, max_exp=2)\n",
    "img1 = plot_counts(counts_simple, ax1, 'A', xticks, yticks)\n",
    "\n",
    "counts_strict = get_motif_counts('data/SO_SE.csv', max_obs=2, max_exp=2)\n",
    "img2 = plot_counts(counts_strict, ax2, 'B', xticks, yticks)\n",
    "\n",
    "plt.subplots_adjust(left=0.04, bottom=0.22, top=0.88, wspace=0.2)\n",
    "cax = plt.axes([0.9, 0.22, 0.02, 0.66])\n",
    "cbar = fig.colorbar(img1, cax=cax)\n",
    "cbar.solids.set_edgecolor(\"face\")\n",
    "plt.show()\n",
    "fig.savefig('figs/paper/fig_s5.pdf', format='pdf')"
   ]
  },
  {
   "cell_type": "markdown",
   "metadata": {},
   "source": [
    "## 4 CHI SQUARE TESTS"
   ]
  },
  {
   "cell_type": "code",
   "execution_count": 311,
   "metadata": {},
   "outputs": [
    {
     "data": {
      "image/png": "[encoded data removed]",
      "text/plain": [
       "<Figure size 360x396 with 5 Axes>"
      ]
     },
     "metadata": {
      "needs_background": "light"
     },
     "output_type": "display_data"
    }
   ],
   "source": [
    "xticks = [0, 1, '2+']\n",
    "yticks = [0, 1, '2+']\n",
    "\n",
    "def get_chi_sq(fname, stat):\n",
    "    simple_data = pd.read_csv(fname)\n",
    "    piv = pd.pivot_table(simple_data, values=stat, index=[\"total_exp\"], columns=[\"total_obs\"])\n",
    "    return piv\n",
    "\n",
    "fig, ax = plt.subplots(2, 2, figsize=(5, 5.5))\n",
    "\n",
    "piv1 = get_chi_sq('data/chi_sq/RO_RE_chi_sq_norm.csv', stat='norm_pval') \n",
    "img1 = plot_heatmap(ax[0,0], piv1, xticks, yticks, 'Simple - Normal')\n",
    "\n",
    "piv2 = get_chi_sq('data/chi_sq/SO_SE_chi_sq_norm.csv', stat='norm_pval')\n",
    "plot_heatmap(ax[0,1], piv2, xticks, yticks, 'Strict - Normal')\n",
    "\n",
    "piv3 = get_chi_sq('data/chi_sq/RO_RE_chi_sq_poiss.csv', stat='pois_pval') \n",
    "plot_heatmap(ax[1,0], piv3, xticks, yticks, 'Simple - Poisson')\n",
    "\n",
    "piv4 = get_chi_sq('data/chi_sq/SO_SE_chi_sq_poiss.csv', stat='pois_pval')\n",
    "plot_heatmap(ax[1,1], piv4, xticks, yticks, 'Strict - Poisson')\n",
    "\n",
    "plt.subplots_adjust(left=0.04, bottom=0.22, top=0.88, wspace=0.2, hspace=0.6)\n",
    "cax = plt.axes([0.9, 0.625, 0.02, 0.255])\n",
    "cbar = fig.colorbar(img1, cax=cax)\n",
    "cbar.solids.set_edgecolor(\"face\")\n",
    "plt.show()\n",
    "fig.savefig('figs/paper/fig_s7.pdf', format='pdf')"
   ]
  },
  {
   "cell_type": "code",
   "execution_count": 312,
   "metadata": {},
   "outputs": [
    {
     "data": {
      "image/png": "[encoded data removed]",
      "text/plain": [
       "<Figure size 244.8x316.8 with 5 Axes>"
      ]
     },
     "metadata": {
      "needs_background": "light"
     },
     "output_type": "display_data"
    }
   ],
   "source": [
    "# To check the statistics, refer to 'chi_sq_tests.R'.\n",
    "\n",
    "def enter_data(m01, m10, m11):\n",
    "    df = pd.DataFrame({\"O\": [0, 0, 1, 1], \n",
    "                       \"V\": [0, 1, 0, 1], \n",
    "                       \"p_val\": [np.NaN, m10, m01, m11]})\n",
    "    piv = pd.pivot_table(df, values=\"p_val\",index=[\"V\"], columns=[\"O\"])\n",
    "    return piv\n",
    "\n",
    "fig, ax = plt.subplots(2, 2, figsize=(3.4, 4.4))\n",
    "img1 = plot_heatmap_small(ax[0,0], enter_data(0.0, 0.0, 0.0), 'Simple - Normal')\n",
    "plot_heatmap_small(ax[0,1], enter_data(0.0, 0.0, 0.0), 'Strict - Normal')\n",
    "plot_heatmap_small(ax[1,0], enter_data(0.0, 0.001, 0.0), 'Simple - Poisson')\n",
    "plot_heatmap_small(ax[1,1], enter_data(0.0, 0.0, 0.0), 'Strict - Poisson')\n",
    "\n",
    "\n",
    "plt.subplots_adjust(left=0.05, bottom=0.25, top=0.85, wspace=0.2, hspace=0.8)\n",
    "cax = plt.axes([0.9, 0.63, 0.02, 0.215])\n",
    "cbar = fig.colorbar(img1, cax=cax)\n",
    "cbar.solids.set_edgecolor(\"face\")\n",
    "plt.show()\n",
    "fig.savefig('figs/paper/fig_s6.pdf', format='pdf')\n"
   ]
  }
 ],
 "metadata": {
  "kernelspec": {
   "display_name": "Python 3",
   "language": "python",
   "name": "python3"
  },
  "language_info": {
   "codemirror_mode": {
    "name": "ipython",
    "version": 3
   },
   "file_extension": ".py",
   "mimetype": "text/x-python",
   "name": "python",
   "nbconvert_exporter": "python",
   "pygments_lexer": "ipython3",
   "version": "3.7.3"
  }
 },
 "nbformat": 4,
 "nbformat_minor": 2
}
