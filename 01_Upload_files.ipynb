{
 "cells": [
  {
   "cell_type": "markdown",
   "metadata": {},
   "source": [
    "### Read a table or create one by combining multiple dataframes."
   ]
  },
  {
   "cell_type": "code",
   "execution_count": 2,
   "metadata": {},
   "outputs": [],
   "source": [
    "%run /Users/J.Kim54@lse.ac.uk/pubg_analysis"
   ]
  },
  {
   "cell_type": "code",
   "execution_count": 1,
   "metadata": {},
   "outputs": [],
   "source": [
    "from functools import reduce\n",
    "from pyspark.sql.functions import col, lit, when\n",
    "\n",
    "# Read a table that contains player data.\n",
    "players = spark.sql(\"SELECT * FROM td_nodes\")\n",
    "players.registerTempTable(\"players\")\n",
    "\n",
    "# Print a list of files stored in the tmp directory.\n",
    "display(dbutils.fs.ls(\"/tmp\"))"
   ]
  },
  {
   "cell_type": "code",
   "execution_count": 4,
   "metadata": {},
   "outputs": [
    {
     "data": {
      "text/html": [
       "<style scoped>\n",
       "  .ansiout {\n",
       "    display: block;\n",
       "    unicode-bidi: embed;\n",
       "    white-space: pre-wrap;\n",
       "    word-wrap: break-word;\n",
       "    word-break: break-all;\n",
       "    font-family: \"Source Code Pro\", \"Menlo\", monospace;;\n",
       "    font-size: 13px;\n",
       "    color: #555;\n",
       "    margin-left: 4px;\n",
       "    line-height: 19px;\n",
       "  }\n",
       "</style>\n",
       "<div class=\"ansiout\">11974468\n",
       "</div>"
      ]
     },
     "metadata": {},
     "output_type": "display_data"
    }
   ],
   "source": [
    "# Combine tables that contain telemetry data into one table.\n",
    "# combine_telemetry_dt_into_one(3, 6)\n",
    "\n",
    "# Combine tables that contain the team membership information into one table.\n",
    "# combine_team_info_into_one(3, 6)\n",
    "\n",
    "# Read the data stored in the tmp directory.\n",
    "# team_info = spark.read.parquet(\"/tmp/team_info.parquet\")\n",
    "\n",
    "# Count the number of rows in the dataframe.\n",
    "# print(team_info.count())"
   ]
  },
  {
   "cell_type": "markdown",
   "metadata": {},
   "source": [
    "### Remove tables or files in the file system."
   ]
  },
  {
   "cell_type": "code",
   "execution_count": 6,
   "metadata": {},
   "outputs": [
    {
     "data": {
      "text/html": [
       "<style scoped>\n",
       "  .ansiout {\n",
       "    display: block;\n",
       "    unicode-bidi: embed;\n",
       "    white-space: pre-wrap;\n",
       "    word-wrap: break-word;\n",
       "    word-break: break-all;\n",
       "    font-family: \"Source Code Pro\", \"Menlo\", monospace;;\n",
       "    font-size: 13px;\n",
       "    color: #555;\n",
       "    margin-left: 4px;\n",
       "    line-height: 19px;\n",
       "  }\n",
       "</style>\n",
       "<div class=\"ansiout\"></div>"
      ]
     },
     "metadata": {},
     "output_type": "display_data"
    }
   ],
   "source": [
    "# remove_files_from_tables_dir(8, 1)\n",
    "\n",
    "# Check a list of files in the tables directory.\n",
    "display(dbutils.fs.ls(\"/FileStore/tables\"))\n",
    "\n",
    "# Remove a single file manually.\n",
    "# dbutils.fs.rm(\"/tmp/team_info.parquet\", True)\n",
    "# display(dbutils.fs.ls(\"/tmp\"))"
   ]
  },
  {
   "cell_type": "markdown",
   "metadata": {},
   "source": [
    "### Create a dataset for cheater analysis."
   ]
  },
  {
   "cell_type": "code",
   "execution_count": 8,
   "metadata": {},
   "outputs": [],
   "source": [
    "create_data_for_cheater_analysis(1, 6)\n",
    "\n",
    "# Print a list of files in the tmp directory.\n",
    "display(dbutils.fs.ls(\"/tmp\"))\n",
    "\n",
    "# Count the number of unique match IDs.\n",
    "# mids = spark.sql(\"SELECT DISTINCT mid FROM cleaned_logs\")\n",
    "# print(mids.count())"
   ]
  },
  {
   "cell_type": "markdown",
   "metadata": {},
   "source": [
    "### References\n",
    "* https://docs.databricks.com/spark/latest/graph-analysis/graphframes/user-guide-python.html\n",
    "* https://docs.databricks.com/spark/latest/spark-sql/udf-python.html"
   ]
  }
 ],
 "metadata": {
  "kernelspec": {
   "display_name": "Python 3",
   "language": "python",
   "name": "python3"
  },
  "language_info": {
   "codemirror_mode": {
    "name": "ipython",
    "version": 3
   },
   "file_extension": ".py",
   "mimetype": "text/x-python",
   "name": "python",
   "nbconvert_exporter": "python",
   "pygments_lexer": "ipython3",
   "version": "3.6.5"
  },
  "name": "01_Upload_files",
  "notebookId": 3492669963517937
 },
 "nbformat": 4,
 "nbformat_minor": 1
}
