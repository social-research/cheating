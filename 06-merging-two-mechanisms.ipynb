{
 "cells": [
  {
   "cell_type": "markdown",
   "metadata": {},
   "source": [
    "## 6 MERGING TWO MECHANISMS"
   ]
  },
  {
   "cell_type": "code",
   "execution_count": 1,
   "metadata": {},
   "outputs": [],
   "source": [
    "import pandas as pd\n",
    "import merge_data as md"
   ]
  },
  {
   "cell_type": "code",
   "execution_count": 2,
   "metadata": {},
   "outputs": [
    {
     "name": "stdout",
     "output_type": "stream",
     "text": [
      "+--------------------+----------+----------+------+---------+-------------------+\n",
      "|                  id|start_date|    m_date|period|total_exp|total_severe_damage|\n",
      "+--------------------+----------+----------+------+---------+-------------------+\n",
      "|account.393b6ee09...|2019-03-08|2019-03-01|     7|        2|                  1|\n",
      "|account.3f888b606...|2019-03-10|2019-03-05|     5|        7|                  4|\n",
      "|account.4b6c650bd...|2019-03-15|2019-03-11|     4|        2|                  0|\n",
      "|account.73e50018a...|2019-03-27|2019-03-20|     7|        1|                  1|\n",
      "|account.b3e7bbe4a...|2019-03-09|2019-03-04|     5|        1|                  0|\n",
      "+--------------------+----------+----------+------+---------+-------------------+\n",
      "only showing top 5 rows\n",
      "\n"
     ]
    }
   ],
   "source": [
    "VIC_DATA_PATH = \"s3://social-research-cheating/summary-tables/emp-net/vic.parquet\"\n",
    "SIM_OBS_DATA_PATH = \"s3://social-research-cheating/summary-tables/emp-net/simple_obs.parquet\"\n",
    "STR_OBS_DATA_PATH = \"s3://social-research-cheating/summary-tables/emp-net/strict_obs.parquet\"\n",
    "\n",
    "vic_data = md.get_transitions(VIC_DATA_PATH, 7)\n",
    "vic_data.registerTempTable(\"vic_data\")\n",
    "vic_data.show(5)\n",
    "vic_df = vic_data.toPandas()"
   ]
  },
  {
   "cell_type": "markdown",
   "metadata": {},
   "source": [
    "### 6.1 MERGING TWO TABLES FOR EACH DEFINITION"
   ]
  },
  {
   "cell_type": "code",
   "execution_count": 3,
   "metadata": {},
   "outputs": [
    {
     "name": "stdout",
     "output_type": "stream",
     "text": [
      "+--------------------+----------+----------+------+---------+\n",
      "|                  id|start_date|    m_date|period|total_obs|\n",
      "+--------------------+----------+----------+------+---------+\n",
      "|account.debf70388...|2019-03-03|2019-03-02|     1|        2|\n",
      "|account.bed69e8d7...|2019-03-03|2019-03-02|     1|        4|\n",
      "|account.14a9052f2...|2019-03-08|2019-03-01|     7|       27|\n",
      "|account.516b36389...|2019-03-05|2019-03-03|     2|        2|\n",
      "|account.89e89a88e...|2019-03-08|2019-03-02|     6|       10|\n",
      "+--------------------+----------+----------+------+---------+\n",
      "only showing top 5 rows\n",
      "\n",
      "   total_obs  total_exp  freq\n",
      "0          0          0   183\n",
      "1          0          1   101\n",
      "2          0          2    22\n",
      "3          0          3     9\n",
      "4          0          4     1\n",
      "     total_obs  total_exp  freq\n",
      "115         43          3     1\n",
      "116         58          7     1\n",
      "117         64          4     1\n",
      "118         65          2     1\n",
      "119        100          2     1\n"
     ]
    }
   ],
   "source": [
    "obs_data = md.get_transitions(SIM_OBS_DATA_PATH, 7)\n",
    "obs_data.registerTempTable(\"obs_data\")\n",
    "obs_data.show(5)\n",
    "obs_df = obs_data.toPandas()\n",
    "\n",
    "frequency_table = md.merge_tables(vic_df, obs_df, 0)\n",
    "\n",
    "print(frequency_table.head())\n",
    "print(frequency_table.tail())\n",
    "frequency_table.to_csv('emp_data.csv', index=False)"
   ]
  },
  {
   "cell_type": "code",
   "execution_count": 6,
   "metadata": {},
   "outputs": [
    {
     "name": "stdout",
     "output_type": "stream",
     "text": [
      "+--------------------+----------+----------+------+---------+\n",
      "|                  id|start_date|    m_date|period|total_obs|\n",
      "+--------------------+----------+----------+------+---------+\n",
      "|account.14a9052f2...|2019-03-08|2019-03-01|     7|        8|\n",
      "|account.89e89a88e...|2019-03-08|2019-03-02|     6|        5|\n",
      "|account.8d20619cf...|2019-03-06|2019-03-05|     1|        1|\n",
      "|account.ed34dc343...|2019-03-10|2019-03-03|     7|        0|\n",
      "|account.0225f02f2...|2019-03-05|2019-03-03|     2|        0|\n",
      "+--------------------+----------+----------+------+---------+\n",
      "only showing top 5 rows\n",
      "\n",
      "   total_obs  total_exp  freq\n",
      "0          0          0   798\n",
      "1          0          1    58\n",
      "2          0          2     4\n",
      "3          0          3     1\n",
      "4          1          0   391\n",
      "    total_obs  total_exp  freq\n",
      "55         19          4     1\n",
      "56         25          1     1\n",
      "57         26          0     1\n",
      "58         27          2     1\n",
      "59         37          0     1\n"
     ]
    }
   ],
   "source": [
    "obs_data = md.get_transitions(STR_OBS_DATA_PATH, 7)\n",
    "obs_data.registerTempTable(\"obs_data\")\n",
    "obs_data.show(5)\n",
    "obs_df = obs_data.toPandas()\n",
    "\n",
    "frequency_table = md.merge_tables(vic_df, obs_df, 1)\n",
    "\n",
    "print(frequency_table.head())\n",
    "print(frequency_table.tail())\n",
    "frequency_table.to_csv('emp_data.csv', index=False)"
   ]
  },
  {
   "cell_type": "markdown",
   "metadata": {},
   "source": [
    "### 6.2 STORING RESULTS IN CSV FILES"
   ]
  },
  {
   "cell_type": "code",
   "execution_count": 4,
   "metadata": {},
   "outputs": [
    {
     "name": "stdout",
     "output_type": "stream",
     "text": [
      "   total_obs  total_exp      E     R1     R2     R3     R4     R5\n",
      "0          0          0  183.0  179.0  161.0  167.0  172.0  179.0\n",
      "1          0          1  101.0  100.0  106.0  100.0  108.0  106.0\n",
      "2          0          2   22.0   27.0   23.0   28.0   15.0   23.0\n",
      "3          0          3    9.0    5.0    9.0    5.0   10.0    5.0\n",
      "4          0          4    1.0    1.0    2.0    0.0    3.0    4.0\n",
      "     total_obs  total_exp    E   R1   R2   R3   R4   R5\n",
      "201         99          2  0.0  1.0  0.0  0.0  0.0  0.0\n",
      "202         99          3  0.0  0.0  0.0  0.0  1.0  0.0\n",
      "203        100          2  1.0  0.0  0.0  0.0  0.0  0.0\n",
      "204        101          2  0.0  0.0  1.0  0.0  0.0  0.0\n",
      "205        102          2  0.0  0.0  0.0  1.0  0.0  0.0\n"
     ]
    }
   ],
   "source": [
    "for i in range(1, 6):\n",
    "    md.put_summary_table_in_csv_file(i, 0)\n",
    "    \n",
    "simple_results = md.create_merged_csv_file(\"emp_data.csv\", \"rand_data_1.csv\", 5)\n",
    "simple_results.to_csv(\"RO_RE.csv\", index=False)\n",
    "\n",
    "print(simple_results.head())\n",
    "print(simple_results.tail())"
   ]
  },
  {
   "cell_type": "code",
   "execution_count": 7,
   "metadata": {},
   "outputs": [
    {
     "name": "stdout",
     "output_type": "stream",
     "text": [
      "   total_obs  total_exp      E     R1     R2     R3     R4     R5\n",
      "0          0          0  798.0  798.0  805.0  809.0  790.0  830.0\n",
      "1          0          1   58.0   73.0   55.0   70.0   66.0   55.0\n",
      "2          0          2    4.0    5.0    9.0    8.0   10.0   10.0\n",
      "3          0          3    1.0    1.0    0.0    1.0    1.0    0.0\n",
      "4          1          0  391.0  403.0  382.0  388.0  404.0  397.0\n",
      "    total_obs  total_exp    E   R1   R2   R3   R4   R5\n",
      "87         37          0  1.0  0.0  0.0  0.0  0.0  0.0\n",
      "88         39          0  0.0  0.0  0.0  1.0  0.0  0.0\n",
      "89         40          0  0.0  0.0  1.0  0.0  0.0  0.0\n",
      "90         42          0  0.0  0.0  0.0  0.0  1.0  1.0\n",
      "91         43          0  0.0  1.0  0.0  0.0  0.0  0.0\n"
     ]
    }
   ],
   "source": [
    "for i in range(1, 6):\n",
    "    md.put_summary_table_in_csv_file(i, 1)\n",
    "\n",
    "strict_results = md.create_merged_csv_file(\"emp_data.csv\", \"rand_data_1.csv\", 5)\n",
    "strict_results.to_csv(\"SO_SE.csv\", index=False)\n",
    "\n",
    "print(strict_results.head())\n",
    "print(strict_results.tail())"
   ]
  }
 ],
 "metadata": {
  "kernelspec": {
   "display_name": "Python 3",
   "language": "python",
   "name": "python3"
  },
  "language_info": {
   "codemirror_mode": {
    "name": "ipython",
    "version": 3
   },
   "file_extension": ".py",
   "mimetype": "text/x-python",
   "name": "python",
   "nbconvert_exporter": "python",
   "pygments_lexer": "ipython3",
   "version": "3.7.3"
  }
 },
 "nbformat": 4,
 "nbformat_minor": 2
}
