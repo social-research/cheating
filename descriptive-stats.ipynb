{
 "cells": [
  {
   "cell_type": "markdown",
   "metadata": {},
   "source": [
    "# DESCRIPTIVE STATISTICS"
   ]
  },
  {
   "cell_type": "code",
   "execution_count": 1,
   "metadata": {},
   "outputs": [],
   "source": [
    "import pandas as pd"
   ]
  },
  {
   "cell_type": "markdown",
   "metadata": {},
   "source": [
    "## 1 NUMBER OF MATCHES / KILLINGS"
   ]
  },
  {
   "cell_type": "markdown",
   "metadata": {},
   "source": [
    "The dataset consists of 1,146,941 matches involving 98,319,451 killings."
   ]
  },
  {
   "cell_type": "code",
   "execution_count": 2,
   "metadata": {},
   "outputs": [
    {
     "name": "stdout",
     "output_type": "stream",
     "text": [
      "1146941\n"
     ]
    }
   ],
   "source": [
    "matches_by_date = pd.read_csv(\"data/general_stats/mids_by_date.csv\")\n",
    "print(matches_by_date['num_of_mids'].sum())"
   ]
  },
  {
   "cell_type": "code",
   "execution_count": 18,
   "metadata": {},
   "outputs": [
    {
     "name": "stdout",
     "output_type": "stream",
     "text": [
      "98319451\n"
     ]
    }
   ],
   "source": [
    "td = spark.read.parquet(\"s3://social-research-cheating/raw_td.parquet\")\n",
    "td.registerTempTable(\"td\")\n",
    "print(td.count())"
   ]
  },
  {
   "cell_type": "markdown",
   "metadata": {},
   "source": [
    "## 2 NUMBER OF UNIQUE PLAYERS"
   ]
  },
  {
   "cell_type": "markdown",
   "metadata": {},
   "source": [
    "The dataset contains 1,975,877 unique players."
   ]
  },
  {
   "cell_type": "code",
   "execution_count": 3,
   "metadata": {},
   "outputs": [
    {
     "name": "stdout",
     "output_type": "stream",
     "text": [
      "1975877\n"
     ]
    }
   ],
   "source": [
    "killers = spark.sql(\"SELECT src FROM td\")\n",
    "killers.registerTempTable(\"killers\")\n",
    "\n",
    "victims = spark.sql(\"SELECT dst FROM td\")\n",
    "victims.registerTempTable(\"victims\")\n",
    "\n",
    "unique_players = spark.sql(\"SELECT src AS id FROM killers UNION SELECT * FROM victims\")\n",
    "print(unique_players.count())"
   ]
  },
  {
   "cell_type": "markdown",
   "metadata": {},
   "source": [
    "## 3 NUMBER OF DAYS PLAYERS PLAYED THE GAME"
   ]
  },
  {
   "cell_type": "code",
   "execution_count": 2,
   "metadata": {},
   "outputs": [
    {
     "name": "stdout",
     "output_type": "stream",
     "text": [
      "Mean: 5.77\n",
      "Median: 3.0\n"
     ]
    }
   ],
   "source": [
    "days_df = pd.read_csv(\"data/general_stats/num_of_days.csv\")\n",
    "print(\"Mean: \" + str(round(days_df['days'].mean(), 2)))\n",
    "print(\"Median: \" + str(days_df['days'].median()))"
   ]
  },
  {
   "cell_type": "markdown",
   "metadata": {},
   "source": [
    "## 4 NUMBER OF MATCHES WITH CHEATERS"
   ]
  },
  {
   "cell_type": "markdown",
   "metadata": {},
   "source": [
    "The number of matches with exactly one cheater is 107,139 (10,265 + 19,195 + 64,095)."
   ]
  },
  {
   "cell_type": "code",
   "execution_count": 4,
   "metadata": {},
   "outputs": [],
   "source": [
    "# Load the data of matches with cheaters\n",
    "cheater_matches = spark.read.parquet(\"s3://social-research-cheating/general-stats/num_of_cheaters_per_match.parquet\")\n",
    "cheater_matches.registerTempTable(\"cheater_matches\")"
   ]
  },
  {
   "cell_type": "code",
   "execution_count": 6,
   "metadata": {},
   "outputs": [
    {
     "name": "stdout",
     "output_type": "stream",
     "text": [
      "+-----+----------+\n",
      "|c_cnt|count(mid)|\n",
      "+-----+----------+\n",
      "|    1|     10265|\n",
      "|    2|       951|\n",
      "|    3|        77|\n",
      "|    4|         3|\n",
      "+-----+----------+\n",
      "\n"
     ]
    }
   ],
   "source": [
    "# Get the number of matches with different number of cheaters: Solo\n",
    "# c_cnt: # of cheaters\n",
    "# count(mid): # of matches\n",
    "\n",
    "num_of_cheaters_solo = spark.sql(\"\"\"SELECT c_cnt, COUNT(mid) FROM cheater_matches WHERE mod = 'NA' \n",
    "                                    GROUP BY c_cnt ORDER BY c_cnt\"\"\")\n",
    "num_of_cheaters_solo.show()"
   ]
  },
  {
   "cell_type": "code",
   "execution_count": 7,
   "metadata": {},
   "outputs": [
    {
     "name": "stdout",
     "output_type": "stream",
     "text": [
      "+-----+----------+\n",
      "|c_cnt|count(mid)|\n",
      "+-----+----------+\n",
      "|    1|     19195|\n",
      "|    2|      1730|\n",
      "|    3|       135|\n",
      "|    4|        11|\n",
      "+-----+----------+\n",
      "\n"
     ]
    }
   ],
   "source": [
    "# Get the number of matches with different number of cheaters: Duo\n",
    "num_of_cheaters_duo = spark.sql(\"\"\"SELECT c_cnt, COUNT(mid) FROM cheater_matches \n",
    "                                   WHERE mod = 'duo' OR mod = 'normal-duo' OR mod = 'normal-duo-fpp' \n",
    "                                   GROUP BY c_cnt ORDER BY c_cnt\"\"\")\n",
    "num_of_cheaters_duo.show()"
   ]
  },
  {
   "cell_type": "code",
   "execution_count": 8,
   "metadata": {},
   "outputs": [
    {
     "name": "stdout",
     "output_type": "stream",
     "text": [
      "+-----+----------+\n",
      "|c_cnt|count(mid)|\n",
      "+-----+----------+\n",
      "|    1|     64095|\n",
      "|    2|      9079|\n",
      "|    3|      1355|\n",
      "|    4|       212|\n",
      "|    5|        27|\n",
      "|    6|         4|\n",
      "+-----+----------+\n",
      "\n"
     ]
    }
   ],
   "source": [
    "# Get the number of matches with different number of cheaters: Squad\n",
    "num_of_cheaters_squad = spark.sql(\"\"\"SELECT c_cnt, COUNT(mid) FROM cheater_matches \n",
    "                                     WHERE mod = 'squad' OR mod = 'normal-squad' OR mod = 'normal-squad-fpp' \n",
    "                                     GROUP BY c_cnt ORDER BY c_cnt\"\"\")\n",
    "num_of_cheaters_squad.show()"
   ]
  },
  {
   "cell_type": "markdown",
   "metadata": {},
   "source": [
    "## 5 NUMBER OF PLAYERS WHO PLAYED IN AT LEAST ONE GAME WITH A CHEATER"
   ]
  },
  {
   "cell_type": "markdown",
   "metadata": {},
   "source": [
    "1,185,279 players played in at least one game with a cheater."
   ]
  },
  {
   "cell_type": "code",
   "execution_count": 9,
   "metadata": {},
   "outputs": [],
   "source": [
    "matches_with_cheaters = spark.read.parquet(\"s3://social-research-cheating/general-stats/matches_with_cheaters.parquet\")\n",
    "matches_with_cheaters.registerTempTable(\"matches_with_cheaters\")\n",
    "\n",
    "nodes = spark.read.parquet(\"s3://social-research-cheating/nodes.parquet\")\n",
    "nodes.registerTempTable(\"nodes\")\n",
    "\n",
    "add_killer_flags = spark.sql(\"\"\"SELECT mid, src, \n",
    "                                CASE WHEN m_date <= ban_date AND m_date >= start_date THEN 1 ELSE 0 END \n",
    "                                AS src_curr_flag, dst, time, m_date, mod \n",
    "                                FROM matches_with_cheaters m LEFT JOIN nodes n ON m.src = n.id\"\"\")\n",
    "add_killer_flags.registerTempTable(\"add_killer_flags\")\n",
    "\n",
    "temp = spark.sql(\"\"\"SELECT mid, src, src_curr_flag, dst, \n",
    "                    CASE WHEN m_date <= ban_date AND m_date >= start_date THEN 1 ELSE 0 END \n",
    "                    AS dst_curr_flag, time, m_date, mod \n",
    "                    FROM add_killer_flags a LEFT JOIN nodes n ON a.dst = n.id\"\"\")\n",
    "temp.registerTempTable(\"temp\")"
   ]
  },
  {
   "cell_type": "code",
   "execution_count": 10,
   "metadata": {},
   "outputs": [
    {
     "name": "stdout",
     "output_type": "stream",
     "text": [
      "1185279\n"
     ]
    }
   ],
   "source": [
    "participants = spark.sql(\"\"\"SELECT mid, src AS id, src_curr_flag AS is_cheating_now FROM temp \n",
    "                            UNION SELECT mid, dst, dst_curr_flag FROM temp\"\"\")\n",
    "participants.registerTempTable(\"participants\")\n",
    "\n",
    "unique_non_cheaters = spark.sql(\"SELECT DISTINCT id FROM participants WHERE is_cheating_now = 0\")\n",
    "print(unique_non_cheaters.count())"
   ]
  },
  {
   "cell_type": "markdown",
   "metadata": {},
   "source": [
    "## 6 NUMBER OF PLAYERS WITH AT LEAST ONE VICTIMIZATION EXPERIENCE"
   ]
  },
  {
   "cell_type": "markdown",
   "metadata": {},
   "source": [
    "286,914 players were killed by a cheater at least once."
   ]
  },
  {
   "cell_type": "code",
   "execution_count": 11,
   "metadata": {},
   "outputs": [],
   "source": [
    "add_killer_flags = spark.sql(\"\"\"SELECT mid, src, start_date AS src_sd, ban_date AS src_bd, \n",
    "                                cheating_flag AS src_flag, \n",
    "                                CASE WHEN m_date <= ban_date AND m_date >= start_date THEN 1 ELSE 0 END \n",
    "                                AS src_curr_flag, dst, time, m_date \n",
    "                                FROM td t LEFT JOIN nodes n ON t.src = n.id\"\"\")\n",
    "add_killer_flags.registerTempTable(\"add_killer_flags\")\n",
    "    \n",
    "edges = spark.sql(\"\"\"SELECT mid, src, src_sd, src_bd, src_flag, src_curr_flag,\n",
    "                     dst, start_date AS dst_sd, ban_date AS dst_bd, cheating_flag AS dst_flag, \n",
    "                     CASE WHEN m_date <= ban_date AND m_date >= start_date THEN 1 ELSE 0 END \n",
    "                     AS dst_curr_flag, time, m_date \n",
    "                     FROM add_killer_flags a LEFT JOIN nodes n ON a.dst = n.id\"\"\")\n",
    "edges.registerTempTable(\"edges\")"
   ]
  },
  {
   "cell_type": "code",
   "execution_count": 12,
   "metadata": {},
   "outputs": [
    {
     "name": "stdout",
     "output_type": "stream",
     "text": [
      "+-------------------+\n",
      "|count(DISTINCT dst)|\n",
      "+-------------------+\n",
      "|             286914|\n",
      "+-------------------+\n",
      "\n"
     ]
    }
   ],
   "source": [
    "victims = spark.sql(\"SELECT COUNT(DISTINCT dst) FROM edges WHERE src != dst AND src_curr_flag = 1\")\n",
    "victims.show()"
   ]
  },
  {
   "cell_type": "markdown",
   "metadata": {},
   "source": [
    "## 7 NUMBER OF KILLINGS / DEATHS - CHEATERS VS. NON-CHEATERS"
   ]
  },
  {
   "cell_type": "markdown",
   "metadata": {},
   "source": [
    "The number of killings done by cheaters is 453,071 (1,388 + 451,683) and cheaters were killed 98,349 (1,388 + 96,961) times."
   ]
  },
  {
   "cell_type": "code",
   "execution_count": 13,
   "metadata": {},
   "outputs": [
    {
     "name": "stdout",
     "output_type": "stream",
     "text": [
      "97841185\n"
     ]
    }
   ],
   "source": [
    "# Exclude self-killings\n",
    "cleaned_edges = spark.sql(\"SELECT * FROM edges WHERE src != dst\")\n",
    "cleaned_edges.registerTempTable(\"cleaned_edges\")\n",
    "print(cleaned_edges.count())"
   ]
  },
  {
   "cell_type": "code",
   "execution_count": 14,
   "metadata": {},
   "outputs": [
    {
     "name": "stdout",
     "output_type": "stream",
     "text": [
      "1388\n"
     ]
    }
   ],
   "source": [
    "# Get the number of cases where both killer and victim were cheaters.\n",
    "temp = spark.sql(\"\"\"SELECT mid, src, src_curr_flag, dst, dst_curr_flag, time \n",
    "                    FROM cleaned_edges WHERE src_curr_flag = 1 AND dst_curr_flag = 1\"\"\")\n",
    "temp.registerTempTable(\"temp\")\n",
    "print(temp.count())"
   ]
  },
  {
   "cell_type": "code",
   "execution_count": 15,
   "metadata": {},
   "outputs": [
    {
     "name": "stdout",
     "output_type": "stream",
     "text": [
      "97291153\n"
     ]
    }
   ],
   "source": [
    "# Get the number of cases where both killer and victim were non-cheaters.\n",
    "temp = spark.sql(\"\"\"SELECT mid, src, src_curr_flag, dst, dst_curr_flag, time \n",
    "                    FROM cleaned_edges WHERE src_curr_flag = 0 AND dst_curr_flag = 0\"\"\")\n",
    "temp.registerTempTable(\"temp\")\n",
    "print(temp.count())"
   ]
  },
  {
   "cell_type": "code",
   "execution_count": 16,
   "metadata": {},
   "outputs": [
    {
     "name": "stdout",
     "output_type": "stream",
     "text": [
      "451683\n"
     ]
    }
   ],
   "source": [
    "# Get the number of cases where the killer was a cheater and the victim was a non-cheater.\n",
    "temp = spark.sql(\"\"\"SELECT mid, src, src_curr_flag, dst, dst_curr_flag, time \n",
    "                    FROM cleaned_edges WHERE src_curr_flag = 1 AND dst_curr_flag = 0\"\"\")\n",
    "temp.registerTempTable(\"temp\")\n",
    "print(temp.count())"
   ]
  },
  {
   "cell_type": "code",
   "execution_count": 17,
   "metadata": {},
   "outputs": [
    {
     "name": "stdout",
     "output_type": "stream",
     "text": [
      "96961\n"
     ]
    }
   ],
   "source": [
    "# Get the number of cases where the killer was a non-cheater and the victim was a cheater.\n",
    "temp = spark.sql(\"\"\"SELECT mid, src, src_curr_flag, dst, dst_curr_flag, time \n",
    "                    FROM cleaned_edges WHERE src_curr_flag = 0 AND dst_curr_flag = 1\"\"\")\n",
    "temp.registerTempTable(\"temp\")\n",
    "print(temp.count())"
   ]
  }
 ],
 "metadata": {
  "kernelspec": {
   "display_name": "Python 3",
   "language": "python",
   "name": "python3"
  },
  "language_info": {
   "codemirror_mode": {
    "name": "ipython",
    "version": 3
   },
   "file_extension": ".py",
   "mimetype": "text/x-python",
   "name": "python",
   "nbconvert_exporter": "python",
   "pygments_lexer": "ipython3",
   "version": "3.8.8"
  },
  "name": "6_general_stats",
  "notebookId": 2613361705856757
 },
 "nbformat": 4,
 "nbformat_minor": 1
}
